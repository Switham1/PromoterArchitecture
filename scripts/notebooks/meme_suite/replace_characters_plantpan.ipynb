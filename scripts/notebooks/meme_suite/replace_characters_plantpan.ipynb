{
 "cells": [
  {
   "cell_type": "code",
   "execution_count": 1,
   "metadata": {},
   "outputs": [],
   "source": [
    "from Bio import SeqIO"
   ]
  },
  {
   "cell_type": "code",
   "execution_count": 36,
   "metadata": {},
   "outputs": [],
   "source": [
    "def remove_characters_linestart(input_location,output_location,characters):\n",
    "    \"\"\"this function removes characters from the start of each line in the input file and sends modified lines to output\"\"\"\n",
    "#     fasta_sequences = SeqIO.parse(open(input_location),'fasta')\n",
    "#     #with open(output_file) as out_file:\n",
    "#     for fasta in fasta_sequences:\n",
    "#         name, sequence = fasta.id, str(fasta.seq)\n",
    "#         print(name)\n",
    "        \n",
    "        \n",
    "        \n",
    "    fasta = {}\n",
    "    with open(input_location) as file_one:\n",
    "        for line in file_one:\n",
    "            line = line.strip() # removes hidden characters/spaces\n",
    "            if not line:\n",
    "                continue\n",
    "            if line.startswith(\">\"):\n",
    "                line = line.replace(characters, '# ') #convert to hash then space \n",
    "                active_sequence_name = line\n",
    "                if active_sequence_name not in fasta:\n",
    "                    fasta[active_sequence_name] = []\n",
    "                continue\n",
    "            sequence = line\n",
    "            fasta[active_sequence_name].append(sequence)\n",
    "\n",
    "    with open(output_location, 'w') as output:\n",
    "        for k,v in fasta.items():            \n",
    "            output.write(f'{k}\\n{v[0]}\\n{v[1]}\\n{v[2]}\\n{v[3]}\\n')\n",
    "        \n",
    "        \n",
    "        \n",
    "           \n",
    "    \n",
    "    \n",
    "#     output = open(output_location, 'w') #make output file with write capability\n",
    "#     with open(input_location, 'r') as infile:  \n",
    "        \n",
    "#         for line in infile:\n",
    "#             line = line.strip() # removes hidden characters/spaces\n",
    "#             if line[0] == \">\":\n",
    "#                 #print(line)                 \n",
    "#                 line = line.replace(characters, '# ') #convert to hash then space      \n",
    "#                 output.write(line + '\\n') #output to new file\n",
    "                \n",
    "#     output.close()"
   ]
  },
  {
   "cell_type": "code",
   "execution_count": null,
   "metadata": {},
   "outputs": [],
   "source": [
    "fasta_sequences = SeqIO.parse(open(input_file),'fasta')\n",
    "with open(output_file) as out_file:\n",
    "    for fasta in fasta_sequences:\n",
    "        name, sequence = fasta.id, str(fasta.seq)\n",
    "        new_sequence = some_function(sequence)\n",
    "        write_fasta(out_file)"
   ]
  },
  {
   "cell_type": "code",
   "execution_count": 37,
   "metadata": {},
   "outputs": [],
   "source": [
    "remove_characters_linestart('/home/witham/Documents/Data/plantpan/Transcription_factor_weight_matrix_Arabidopsis_thaliana.txt', '/home/witham/Documents/Data/plantpan/Transcription_factor_weight_matrix_Arabidopsis_thaliana_BEEML', '>')"
   ]
  },
  {
   "cell_type": "code",
   "execution_count": null,
   "metadata": {},
   "outputs": [],
   "source": []
  }
 ],
 "metadata": {
  "kernelspec": {
   "display_name": "Python [conda env:Promoter_pipeline] *",
   "language": "python",
   "name": "conda-env-Promoter_pipeline-py"
  },
  "language_info": {
   "codemirror_mode": {
    "name": "ipython",
    "version": 3
   },
   "file_extension": ".py",
   "mimetype": "text/x-python",
   "name": "python",
   "nbconvert_exporter": "python",
   "pygments_lexer": "ipython3",
   "version": "3.7.3"
  }
 },
 "nbformat": 4,
 "nbformat_minor": 4
}
