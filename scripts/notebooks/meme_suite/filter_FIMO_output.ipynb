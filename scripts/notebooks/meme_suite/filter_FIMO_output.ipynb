{
 "cells": [
  {
   "cell_type": "code",
   "execution_count": 3,
   "metadata": {},
   "outputs": [],
   "source": [
    "import pandas as pd"
   ]
  },
  {
   "cell_type": "code",
   "execution_count": 4,
   "metadata": {},
   "outputs": [],
   "source": [
    "def filter_fimo_qvalue(input_file,output_file,qvalue_cutoff):\n",
    "    \"\"\"function to read in FIMO .tsv file, filter values where q is less than the cutoffvalue and output a file\"\"\"\n",
    "    df = pd.read_csv(input_file,sep='\\t',header=0)\n",
    "    print(df)\n",
    "    \n",
    "    \n",
    "    \n",
    "    "
   ]
  },
  {
   "cell_type": "code",
   "execution_count": 5,
   "metadata": {},
   "outputs": [
    {
     "name": "stdout",
     "output_type": "stream",
     "text": [
      "                                               motif_id  motif_alt_id  \\\n",
      "0                                       TFmatrixID_0995           NaN   \n",
      "1                                       TFmatrixID_1414           NaN   \n",
      "2                                       TFmatrixID_0820           NaN   \n",
      "3                                       TFmatrixID_0820           NaN   \n",
      "4                                       TFmatrixID_0863           NaN   \n",
      "...                                                 ...           ...   \n",
      "4595                                    TFmatrixID_1695           NaN   \n",
      "4596                                    TFmatrixID_1695           NaN   \n",
      "4597  # FIMO (Find Individual Motif Occurrences): Ve...           NaN   \n",
      "4598  # The format of this file is described at http...           NaN   \n",
      "4599  # fimo --bfile /home/witham/Documents/ugene/Re...           NaN   \n",
      "\n",
      "                sequence_name  start   stop strand     score   p-value  \\\n",
      "0     ARF18_(AT3G61830)_1000_  554.0  566.0      +   8.18605  0.000001   \n",
      "1     ARF18_(AT3G61830)_1000_  314.0  335.0      -  10.06610  0.000001   \n",
      "2     anac032_(AT1G77450)_100   95.0  115.0      +   9.16474  0.000002   \n",
      "3     anac032_(AT1G77450)_100   95.0  115.0      +   9.16474  0.000002   \n",
      "4     anac032_(AT1G77450)_100   55.0   70.0      -   8.85588  0.000002   \n",
      "...                       ...    ...    ...    ...       ...       ...   \n",
      "4595  anac032_(AT1G77450)_100   95.0  108.0      -   6.90751  0.000100   \n",
      "4596  anac032_(AT1G77450)_100   95.0  108.0      -   6.90751  0.000100   \n",
      "4597                      NaN    NaN    NaN    NaN       NaN       NaN   \n",
      "4598                      NaN    NaN    NaN    NaN       NaN       NaN   \n",
      "4599                      NaN    NaN    NaN    NaN       NaN       NaN   \n",
      "\n",
      "      q-value        matched_sequence  \n",
      "0      0.0179           CGCCGCGTGACCC  \n",
      "1      0.0187  CGTGGCAGGCAAACGTGTCGGC  \n",
      "2      0.0130   GGTGGCACAGGCGGCTCGAGA  \n",
      "3      0.0130   GGTGGCACAGGCGGCTCGAGA  \n",
      "4      0.0146        GCCACGTGGAGCCGGA  \n",
      "...       ...                     ...  \n",
      "4595   0.2610          CCGCCTGTGCCACC  \n",
      "4596   0.2610          CCGCCTGTGCCACC  \n",
      "4597      NaN                     NaN  \n",
      "4598      NaN                     NaN  \n",
      "4599      NaN                     NaN  \n",
      "\n",
      "[4600 rows x 10 columns]\n"
     ]
    }
   ],
   "source": [
    "filter_fimo_qvalue('/home/witham/Documents/ugene/Reference_sequences/N-responsive/fastas/fimo_out/fimo.tsv','/home/witham/Documents/ugene/Reference_sequences/N-responsive/fastas/fimo_out/fimo_filtered.tsv',0.05)"
   ]
  },
  {
   "cell_type": "code",
   "execution_count": null,
   "metadata": {},
   "outputs": [],
   "source": []
  }
 ],
 "metadata": {
  "kernelspec": {
   "display_name": "Python [conda env:Promoter_pipeline] *",
   "language": "python",
   "name": "conda-env-Promoter_pipeline-py"
  },
  "language_info": {
   "codemirror_mode": {
    "name": "ipython",
    "version": 3
   },
   "file_extension": ".py",
   "mimetype": "text/x-python",
   "name": "python",
   "nbconvert_exporter": "python",
   "pygments_lexer": "ipython3",
   "version": "3.7.3"
  }
 },
 "nbformat": 4,
 "nbformat_minor": 4
}
