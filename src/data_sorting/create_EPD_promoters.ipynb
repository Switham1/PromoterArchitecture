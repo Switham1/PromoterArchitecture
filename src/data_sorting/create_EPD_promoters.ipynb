{
 "cells": [
  {
   "cell_type": "code",
   "execution_count": null,
   "metadata": {},
   "outputs": [],
   "source": [
    "#create a bed file with the promoters upstream of the eukaryotic promoter database TSS"
   ]
  },
  {
   "cell_type": "code",
   "execution_count": 5,
   "metadata": {},
   "outputs": [],
   "source": [
    "import pandas as pd\n",
    "#import argparse \n",
    "import io\n",
    "from pybedtools import BedTool"
   ]
  },
  {
   "cell_type": "code",
   "execution_count": 26,
   "metadata": {},
   "outputs": [],
   "source": [
    "# #define arguments\n",
    "# parser = argparse.ArgumentParser(description='create_EPD_promoters')\n",
    "# parser.add_argument('file_names', type=str, help='Name of folder and filenames for the promoters extracted')\n",
    "# parser.add_argument('promoter_5UTR_bedfile', type=str, help='Input location of promoter-5UTR bedfile')\n",
    "# parser.add_argument('EPD_TSS_bed', type=str, help='Input location of Eukaryotic Promoter Database TSS bed file')\n",
    "# parser.add_argument('EPD_promoters', type=str, help='Output location of the EPD_promoters bedfile')\n",
    "# parser.add_argument('flagged_proms_not_in_EPD', type=str, help='Output location of flagged promoters which are not in the Eukaryotic promoter database')\n",
    "# parser.add_argument('flagged_EPD_TSS_in_CDS', type=str, help='Output location of flagged EPD_promoters which have TSSs in coding regions')\n",
    "# parser.add_argument('flagged_EPD_overlappingprom_so_only5UTRs', type=str, help='Output location of flagged EPD_promoters which are overlapping other genes so they are only a shortened 5'UTR)\n",
    "# args = parser.parse_args()"
   ]
  },
  {
   "cell_type": "code",
   "execution_count": 100,
   "metadata": {},
   "outputs": [],
   "source": [
    "file_names = 'non-overlapping_includingbidirectional_all_genes_newannotation'\n",
    "promoter_5UTR_bedfile =  f'../../data/output/{file_names}/FIMO/promoters_5UTR.bed'\n",
    "EPD_TSS_bed = f'../../data/EPD_promoter_analysis/EPDnew_promoters/At_EPDnew.bed'\n",
    "EPD_promoters = f'../../data/output/{file_names}/FIMO/EPD_promoters.bed'\n",
    "flagged_proms_not_in_EPD = f'../../data/output/{file_names}/FIMO/flagged_proms_not_in_EPD.bed'\n",
    "flagged_EPD_TSS_in_CDS = f'../../data/output/{file_names}/FIMO/flagged_EPD_TSS_in_CDS.bed'\n",
    "flagged_EPD_overlappingprom_so_only5UTRs = f'../../data/output/{file_names}/FIMO/flagged_EPD_overlappingprom_so_only5UTRs.bed'"
   ]
  },
  {
   "cell_type": "code",
   "execution_count": 104,
   "metadata": {},
   "outputs": [],
   "source": [
    "def create_EPD_proms(promoter_5UTR_bedfile,EPD_TSS_bed,EPD_promoters,flagged_proms_not_in_EPD,flagged_EPD_TSS_in_CDS,flagged_EPD_overlappingprom_so_only5UTRs):\n",
    "    \"\"\"function to split the promoter_5UTR bed file at the EPD_TSS and save an EPD_promoter file\"\"\"\n",
    "    #read in files:\n",
    "    #read in promoters with 5'UTRs\n",
    "    promoter_5UTRs = pd.read_table(promoter_5UTR_bedfile,sep='\\t',header=None)\n",
    "    cols = ['chr','start','stop','AGI','dot','strand','source','type','dot2','attributes']\n",
    "    promoter_5UTRs.columns = cols\n",
    "    #read in EPD_TSS_bed\n",
    "    EPD_TSS_df = pd.read_table(EPD_TSS_bed, delim_whitespace=True, header=None, skiprows=4)\n",
    "    cols = ['chr','start','stop','transcript_EPD','score_EPD','strand_EPD','thickstart_EPD','thickend_EPD']\n",
    "    EPD_TSS_df.columns = cols\n",
    "    #add AGI column\n",
    "    EPD_TSS_df['AGI'] = EPD_TSS_df.transcript_EPD.str.split('_',expand=True)[0]\n",
    "    #add TSS location column\n",
    "    EPD_TSS_df.loc[EPD_TSS_df.strand_EPD == '+', 'TSS_EPD'] = EPD_TSS_df.loc[EPD_TSS_df.strand_EPD == '+', 'thickstart_EPD']\n",
    "    EPD_TSS_df.loc[EPD_TSS_df.strand_EPD == '-', 'TSS_EPD'] = EPD_TSS_df.loc[EPD_TSS_df.strand_EPD == '-', 'thickend_EPD'] -1\n",
    "    #merged with promoter_5UTRs\n",
    "    merged = pd.merge(promoter_5UTRs,EPD_TSS_df, on='AGI', how='left', suffixes=('','_EPD'))\n",
    "    #remove NaN (promoters in EPD but not in promoters_5UTR)\n",
    "    merged = merged[merged.source.notnull()]\n",
    "    #flag genes which are in promoters_5UTR but are not in EPD\n",
    "    flagged = merged[~merged.TSS_EPD.notnull()]\n",
    "    #save flagged file genes which are not in EPD database\n",
    "    BedTool.from_dataframe(flagged).saveas(flagged_proms_not_in_EPD)\n",
    "    \n",
    "    #remove NaN (promoters_5UTR but not in EPD)\n",
    "    merged = merged[merged.TSS_EPD.notnull()]\n",
    "    #make a copy of the df\n",
    "    merged_copy = merged.copy()\n",
    "    #make new columns with start and stop for EPD_promoter\n",
    "    \n",
    "    #iterate over rows\n",
    "    for i,data in merged_copy.iterrows():\n",
    "        #if positive strand gene, make the start of the EPD promoter equal to the the start position of the promoter_5UTR, \n",
    "        #and the EPDprom stop the same as the EPD_TSS stop\n",
    "        if merged_copy.loc[i,'strand'] == '+':            \n",
    "            merged.loc[i,'start_EPDprom'] = merged_copy.loc[i,'start']\n",
    "            merged.loc[i,'stop_EPDprom'] = merged_copy.loc[i,'TSS_EPD']\n",
    "        #if negative strand gene, make the start of the EPD promoter the same as EPD_TSS, and make the EPD promoter stop equal to the promoters stop\n",
    "        if merged_copy.loc[i,'strand'] == '-':\n",
    "            merged.loc[i,'start_EPDprom'] = merged_copy.loc[i,'TSS_EPD']\n",
    "            merged.loc[i,'stop_EPDprom'] = merged_copy.loc[i,'stop']\n",
    "    #make start and stop integars\n",
    "    merged = merged.astype({'start_EPDprom': 'int','stop_EPDprom':'int'})\n",
    "    #drop promoters whose EPD TSS falls within a coding region\n",
    "    #make positive and negative strand masks\n",
    "    pos_mask = merged[merged.strand=='+']\n",
    "    neg_mask = merged[merged.strand=='-']\n",
    "    #make dfs for pos and neg strands where the EPD TSS is in a cokding region\n",
    "    pos_in_CDS = pos_mask[pos_mask.stop < pos_mask.stop_EPDprom]\n",
    "    neg_in_CDS = neg_mask[neg_mask.start > neg_mask.start_EPDprom]\n",
    "    #concatenate those dfs\n",
    "    hascodingTSS = pd.concat([pos_in_CDS,neg_in_CDS],ignore_index=True)\n",
    "    #filter columns\n",
    "    hascodingTSS = hascodingTSS[['chr','start_EPDprom','stop_EPDprom','AGI','dot','strand','source','type','dot2','attributes']]\n",
    "    #sort on chr and start\n",
    "    hascodingTSS.sort_values(['chr','start_EPDprom'], inplace=True, ignore_index=True)\n",
    "    #save file with no UTRs\n",
    "    BedTool.from_dataframe(hascodingTSS).saveas(flagged_EPD_TSS_in_CDS)   \n",
    "    #filter EPD_promoters which have their TSSs in coding regions\n",
    "    merged = merged[~merged.AGI.isin(hascodingTSS.AGI)]\n",
    "    \n",
    "    #flag genes where the promoter is overlapping another gene so they consist of only a shortened 5'UTR\n",
    "    only5UTR = merged[merged.start_EPDprom >= merged.stop_EPDprom]\n",
    "    #filter columns\n",
    "    only5UTR = only5UTR[['chr','start_EPDprom','stop_EPDprom','AGI','dot','strand','source','type','dot2','attributes']]\n",
    "    #sort on chr and start\n",
    "    only5UTR.sort_values(['chr','start_EPDprom'], inplace=True, ignore_index=True)\n",
    "    #save file with no UTRs\n",
    "    BedTool.from_dataframe(only5UTR).saveas(flagged_EPD_overlappingprom_so_only5UTRs)   \n",
    "    \n",
    "    \n",
    "    #filter genes where the promoter is overlapping another gene so they consist of only a shortened 5'UTR\n",
    "    merged = merged[~(merged.start_EPDprom >= merged.stop_EPDprom)]\n",
    "\n",
    "    #filter columns\n",
    "    merged = merged[['chr','start_EPDprom','stop_EPDprom','AGI','dot','strand','source','type','dot2','attributes']]\n",
    " \n",
    "    #sort on chr and start\n",
    "    merged.sort_values(['chr','start_EPDprom'], inplace=True, ignore_index=True)\n",
    "\n",
    "    #save file with no UTRs\n",
    "    BedTool.from_dataframe(merged).saveas(EPD_promoters)"
   ]
  },
  {
   "cell_type": "code",
   "execution_count": 105,
   "metadata": {},
   "outputs": [],
   "source": [
    "create_EPD_proms(promoter_5UTR_bedfile,EPD_TSS_bed,EPD_promoters,flagged_proms_not_in_EPD,flagged_EPD_TSS_in_CDS,flagged_EPD_overlappingprom_so_only5UTRs)"
   ]
  },
  {
   "cell_type": "code",
   "execution_count": null,
   "metadata": {},
   "outputs": [],
   "source": []
  }
 ],
 "metadata": {
  "kernelspec": {
   "display_name": "Python [conda env:PromoterArchitecturePipeline] *",
   "language": "python",
   "name": "conda-env-PromoterArchitecturePipeline-py"
  },
  "language_info": {
   "codemirror_mode": {
    "name": "ipython",
    "version": 3
   },
   "file_extension": ".py",
   "mimetype": "text/x-python",
   "name": "python",
   "nbconvert_exporter": "python",
   "pygments_lexer": "ipython3",
   "version": "3.7.6"
  }
 },
 "nbformat": 4,
 "nbformat_minor": 4
}
