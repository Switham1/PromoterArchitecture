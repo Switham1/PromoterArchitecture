{
 "cells": [
  {
   "cell_type": "code",
   "execution_count": null,
   "metadata": {},
   "outputs": [],
   "source": [
    "#compare the CV values of czechowski et al 2005 (microarray) with only genes expressed in 80% or more of conditions/tissues and TAU values with no filtering based on presence in conditions/tissues."
   ]
  },
  {
   "cell_type": "code",
   "execution_count": 16,
   "metadata": {},
   "outputs": [],
   "source": [
    "import pandas as pd\n",
    "import seaborn as sns\n",
    "import matplotlib.pyplot as plt\n",
    "import os"
   ]
  },
  {
   "cell_type": "code",
   "execution_count": 17,
   "metadata": {},
   "outputs": [],
   "source": [
    "file_names = 'non-overlapping_includingbidirectional_all_genes_newannotation'\n",
    "output_prefix = 'czechowski_CV_TAU'\n"
   ]
  },
  {
   "cell_type": "code",
   "execution_count": 18,
   "metadata": {},
   "outputs": [
    {
     "name": "stdout",
     "output_type": "stream",
     "text": [
      "Directory  ../../data/output/non-overlapping_includingbidirectional_all_genes_newannotation/genes/plots  already exists\n"
     ]
    }
   ],
   "source": [
    "#make directory for the plots to be exported to\n",
    "dirName = f'../../data/output/{file_names}/genes/plots'\n",
    "try:\n",
    "    # Create target Directory\n",
    "    os.mkdir(dirName)\n",
    "    print(\"Directory \" , dirName ,  \" created\") \n",
    "except FileExistsError:\n",
    "    print(\"Directory \" , dirName ,  \" already exists\")"
   ]
  },
  {
   "cell_type": "code",
   "execution_count": 19,
   "metadata": {},
   "outputs": [],
   "source": [
    "def all_prom_distribution(output_prefix,palette_colours,df, x_variable, x_label, df2=pd.DataFrame(),df1_label='', df2_label='', labels=False,\n",
    "                          min_x_constitutive=False, max_x_constitutive=False,min_x_variable=False,max_x_variable=False, save=False):\n",
    "    \"\"\"function to return distribution plot of all promoters of variable of interest. \n",
    "    df1_label and df2 labels are the names of the respective gene type subset in the df\"\"\"\n",
    "    #if only 1 dataframe provided then create just 1 plot\n",
    "    #set colour palette\n",
    "    sns.set_palette(palette_colours)\n",
    "    if df2.empty:    \n",
    "        dist_plot = df[x_variable]\n",
    "        #create figure with no transparency\n",
    "        dist_plot_fig = sns.distplot(dist_plot)\n",
    "        plt.xlabel(x_label)\n",
    "    #else if 2 dataframes provided plot them on the same axes\n",
    "    else:\n",
    "        dist_plot1 = df[x_variable]\n",
    "        dist_plot2 = df2[x_variable]\n",
    "        dist_plot_fig = sns.distplot(dist_plot1,hist=False, rug=True,label=df1_label)\n",
    "        sns.distplot(dist_plot2,hist=False, rug=True,label=df2_label)\n",
    "        #create legend\n",
    "        plt.legend()\n",
    "    if labels==True:\n",
    "        #get axes\n",
    "        ax = plt.axes()\n",
    "        #constitutive annotation\n",
    "        ax.annotate('top 100 constitutive range', xy=(max_x_constitutive, 0.2), xycoords='data', ha='left',\n",
    "            xytext=(50, 100), textcoords='offset points',\n",
    "                   arrowprops=dict(arrowstyle='->', connectionstyle='arc3,rad=0.4', \n",
    "                            color='black'))\n",
    "        ax.annotate('', xy=(max_x_constitutive, 0.2),\n",
    "            xytext=(min_x_constitutive, 0.2),\n",
    "            xycoords='data', textcoords='data',\n",
    "            arrowprops={'arrowstyle': '|-|,widthA=0.2,widthB=0.2','color':'blue'})\n",
    "        #Variable annotation\n",
    "        ax.annotate('top 100 variable range', xy=(max_x_variable, 0.2), xycoords='data', ha='right',\n",
    "            xytext=(0, -20), textcoords='offset points')\n",
    "        ax.annotate('', xy=(max_x_variable, 0.2),\n",
    "            xytext=(min_x_variable, 0.2),\n",
    "            xycoords='data', textcoords='data',\n",
    "            arrowprops={'arrowstyle': '|-|,widthA=0.2,widthB=0.2','color':'orange' })\n",
    "        \n",
    "\n",
    "    #save to file\n",
    "    if save == True:\n",
    "        dist_plot_fig.get_figure().savefig(f'../../data/output/{file_names}/genes/plots/{output_prefix}_distribution.pdf', format='pdf')\n",
    "    return dist_plot_fig"
   ]
  },
  {
   "cell_type": "code",
   "execution_count": 20,
   "metadata": {},
   "outputs": [],
   "source": [
    "#location of CV files\n",
    "czechowski_cv = '../../data/output/non-overlapping_includingbidirectional_all_genes_newannotation/genes/promoters_5UTR_czechowski_constitutive_variable_random.txt'\n",
    "czechowski_cv_all = '../../data/output/non-overlapping_includingbidirectional_all_genes_newannotation/genes/promoters_5UTR_czechowski_allfilteredgenes.txt'\n",
    "#location of TAU files\n",
    "czechowski_tau = '../../data/output/non-overlapping_includingbidirectional_all_genes_newannotation/genes/promoters_5UTR_schmid_constitutive_tissuespecific_random.txt'\n",
    "czechowski_tau_all = '../../data/output/non-overlapping_includingbidirectional_all_genes_newannotation/genes/promoters_5UTR_schmid_allfilteredgenes.txt'\n"
   ]
  },
  {
   "cell_type": "code",
   "execution_count": 21,
   "metadata": {},
   "outputs": [],
   "source": [
    "#read in files to dfs\n",
    "czechowski_cv_df = pd.read_table(czechowski_cv, sep='\\t', header=None)\n",
    "czechowski_tau_df = pd.read_table(czechowski_tau, sep='\\t', header=None)\n",
    "cols = ['AGI', 'gene_type']\n",
    "czechowski_cv_df.columns = cols\n",
    "czechowski_tau_df.columns = cols"
   ]
  },
  {
   "cell_type": "code",
   "execution_count": 22,
   "metadata": {},
   "outputs": [],
   "source": [
    "#read in all genes\n",
    "czechowski_cv_all_df = pd.read_table(czechowski_cv_all, sep='\\t', header=0)\n",
    "czechowski_tau_all_df = pd.read_csv(czechowski_tau_all, sep='\\t',header=0)"
   ]
  },
  {
   "cell_type": "code",
   "execution_count": 23,
   "metadata": {},
   "outputs": [
    {
     "data": {
      "text/html": [
       "<div>\n",
       "<style scoped>\n",
       "    .dataframe tbody tr th:only-of-type {\n",
       "        vertical-align: middle;\n",
       "    }\n",
       "\n",
       "    .dataframe tbody tr th {\n",
       "        vertical-align: top;\n",
       "    }\n",
       "\n",
       "    .dataframe thead th {\n",
       "        text-align: right;\n",
       "    }\n",
       "</style>\n",
       "<table border=\"1\" class=\"dataframe\">\n",
       "  <thead>\n",
       "    <tr style=\"text-align: right;\">\n",
       "      <th></th>\n",
       "      <th>chr</th>\n",
       "      <th>start</th>\n",
       "      <th>stop</th>\n",
       "      <th>AGI</th>\n",
       "      <th>dot1</th>\n",
       "      <th>strand</th>\n",
       "      <th>source</th>\n",
       "      <th>type</th>\n",
       "      <th>dot2</th>\n",
       "      <th>attributes</th>\n",
       "      <th>tau</th>\n",
       "    </tr>\n",
       "  </thead>\n",
       "  <tbody>\n",
       "    <tr>\n",
       "      <th>0</th>\n",
       "      <td>1</td>\n",
       "      <td>2630</td>\n",
       "      <td>3759</td>\n",
       "      <td>AT1G01010</td>\n",
       "      <td>.</td>\n",
       "      <td>+</td>\n",
       "      <td>araport11</td>\n",
       "      <td>promoter</td>\n",
       "      <td>.</td>\n",
       "      <td>ID=gene:AT1G01010;Name=NAC001;biotype=protein_...</td>\n",
       "      <td>0.1994</td>\n",
       "    </tr>\n",
       "    <tr>\n",
       "      <th>1</th>\n",
       "      <td>1</td>\n",
       "      <td>12940</td>\n",
       "      <td>14714</td>\n",
       "      <td>AT1G01030</td>\n",
       "      <td>.</td>\n",
       "      <td>-</td>\n",
       "      <td>araport11</td>\n",
       "      <td>promoter</td>\n",
       "      <td>.</td>\n",
       "      <td>ID=gene:AT1G01030;Name=NGA3;biotype=protein_co...</td>\n",
       "      <td>0.1603</td>\n",
       "    </tr>\n",
       "    <tr>\n",
       "      <th>2</th>\n",
       "      <td>1</td>\n",
       "      <td>37061</td>\n",
       "      <td>38443</td>\n",
       "      <td>AT1G01060</td>\n",
       "      <td>.</td>\n",
       "      <td>-</td>\n",
       "      <td>araport11</td>\n",
       "      <td>promoter</td>\n",
       "      <td>.</td>\n",
       "      <td>ID=gene:AT1G01060;Name=LHY;biotype=protein_cod...</td>\n",
       "      <td>0.0928</td>\n",
       "    </tr>\n",
       "    <tr>\n",
       "      <th>3</th>\n",
       "      <td>1</td>\n",
       "      <td>40877</td>\n",
       "      <td>42017</td>\n",
       "      <td>AT1G01070</td>\n",
       "      <td>.</td>\n",
       "      <td>-</td>\n",
       "      <td>araport11</td>\n",
       "      <td>promoter</td>\n",
       "      <td>.</td>\n",
       "      <td>ID=gene:AT1G01070;biotype=protein_coding;descr...</td>\n",
       "      <td>0.2367</td>\n",
       "    </tr>\n",
       "    <tr>\n",
       "      <th>4</th>\n",
       "      <td>1</td>\n",
       "      <td>46789</td>\n",
       "      <td>47233</td>\n",
       "      <td>AT1G01080</td>\n",
       "      <td>.</td>\n",
       "      <td>-</td>\n",
       "      <td>araport11</td>\n",
       "      <td>promoter</td>\n",
       "      <td>.</td>\n",
       "      <td>ID=gene:AT1G01080;biotype=protein_coding;descr...</td>\n",
       "      <td>0.0989</td>\n",
       "    </tr>\n",
       "    <tr>\n",
       "      <th>...</th>\n",
       "      <td>...</td>\n",
       "      <td>...</td>\n",
       "      <td>...</td>\n",
       "      <td>...</td>\n",
       "      <td>...</td>\n",
       "      <td>...</td>\n",
       "      <td>...</td>\n",
       "      <td>...</td>\n",
       "      <td>...</td>\n",
       "      <td>...</td>\n",
       "      <td>...</td>\n",
       "    </tr>\n",
       "    <tr>\n",
       "      <th>13895</th>\n",
       "      <td>5</td>\n",
       "      <td>26938498</td>\n",
       "      <td>26939341</td>\n",
       "      <td>AT5G67520</td>\n",
       "      <td>.</td>\n",
       "      <td>+</td>\n",
       "      <td>araport11</td>\n",
       "      <td>promoter</td>\n",
       "      <td>.</td>\n",
       "      <td>ID=gene:AT5G67520;Name=APK4;biotype=protein_co...</td>\n",
       "      <td>0.2467</td>\n",
       "    </tr>\n",
       "    <tr>\n",
       "      <th>13896</th>\n",
       "      <td>5</td>\n",
       "      <td>26949112</td>\n",
       "      <td>26950105</td>\n",
       "      <td>AT5G67550</td>\n",
       "      <td>.</td>\n",
       "      <td>-</td>\n",
       "      <td>araport11</td>\n",
       "      <td>promoter</td>\n",
       "      <td>.</td>\n",
       "      <td>ID=gene:AT5G67550;biotype=protein_coding;descr...</td>\n",
       "      <td>0.4216</td>\n",
       "    </tr>\n",
       "    <tr>\n",
       "      <th>13897</th>\n",
       "      <td>5</td>\n",
       "      <td>26949184</td>\n",
       "      <td>26950578</td>\n",
       "      <td>AT5G67560</td>\n",
       "      <td>.</td>\n",
       "      <td>+</td>\n",
       "      <td>araport11</td>\n",
       "      <td>promoter</td>\n",
       "      <td>.</td>\n",
       "      <td>ID=gene:AT5G67560;Name=ARL8B;biotype=protein_c...</td>\n",
       "      <td>0.0705</td>\n",
       "    </tr>\n",
       "    <tr>\n",
       "      <th>13898</th>\n",
       "      <td>5</td>\n",
       "      <td>26957073</td>\n",
       "      <td>26957914</td>\n",
       "      <td>AT5G67580</td>\n",
       "      <td>.</td>\n",
       "      <td>-</td>\n",
       "      <td>araport11</td>\n",
       "      <td>promoter</td>\n",
       "      <td>.</td>\n",
       "      <td>ID=gene:AT5G67580;Name=TRB2;biotype=protein_co...</td>\n",
       "      <td>0.0561</td>\n",
       "    </tr>\n",
       "    <tr>\n",
       "      <th>13899</th>\n",
       "      <td>5</td>\n",
       "      <td>26969306</td>\n",
       "      <td>26969515</td>\n",
       "      <td>AT5G67630</td>\n",
       "      <td>.</td>\n",
       "      <td>-</td>\n",
       "      <td>araport11</td>\n",
       "      <td>promoter</td>\n",
       "      <td>.</td>\n",
       "      <td>ID=gene:AT5G67630;biotype=protein_coding;descr...</td>\n",
       "      <td>0.0767</td>\n",
       "    </tr>\n",
       "  </tbody>\n",
       "</table>\n",
       "<p>13900 rows × 11 columns</p>\n",
       "</div>"
      ],
      "text/plain": [
       "       chr     start      stop        AGI dot1 strand     source      type  \\\n",
       "0        1      2630      3759  AT1G01010    .      +  araport11  promoter   \n",
       "1        1     12940     14714  AT1G01030    .      -  araport11  promoter   \n",
       "2        1     37061     38443  AT1G01060    .      -  araport11  promoter   \n",
       "3        1     40877     42017  AT1G01070    .      -  araport11  promoter   \n",
       "4        1     46789     47233  AT1G01080    .      -  araport11  promoter   \n",
       "...    ...       ...       ...        ...  ...    ...        ...       ...   \n",
       "13895    5  26938498  26939341  AT5G67520    .      +  araport11  promoter   \n",
       "13896    5  26949112  26950105  AT5G67550    .      -  araport11  promoter   \n",
       "13897    5  26949184  26950578  AT5G67560    .      +  araport11  promoter   \n",
       "13898    5  26957073  26957914  AT5G67580    .      -  araport11  promoter   \n",
       "13899    5  26969306  26969515  AT5G67630    .      -  araport11  promoter   \n",
       "\n",
       "      dot2                                         attributes     tau  \n",
       "0        .  ID=gene:AT1G01010;Name=NAC001;biotype=protein_...  0.1994  \n",
       "1        .  ID=gene:AT1G01030;Name=NGA3;biotype=protein_co...  0.1603  \n",
       "2        .  ID=gene:AT1G01060;Name=LHY;biotype=protein_cod...  0.0928  \n",
       "3        .  ID=gene:AT1G01070;biotype=protein_coding;descr...  0.2367  \n",
       "4        .  ID=gene:AT1G01080;biotype=protein_coding;descr...  0.0989  \n",
       "...    ...                                                ...     ...  \n",
       "13895    .  ID=gene:AT5G67520;Name=APK4;biotype=protein_co...  0.2467  \n",
       "13896    .  ID=gene:AT5G67550;biotype=protein_coding;descr...  0.4216  \n",
       "13897    .  ID=gene:AT5G67560;Name=ARL8B;biotype=protein_c...  0.0705  \n",
       "13898    .  ID=gene:AT5G67580;Name=TRB2;biotype=protein_co...  0.0561  \n",
       "13899    .  ID=gene:AT5G67630;biotype=protein_coding;descr...  0.0767  \n",
       "\n",
       "[13900 rows x 11 columns]"
      ]
     },
     "execution_count": 23,
     "metadata": {},
     "output_type": "execute_result"
    }
   ],
   "source": [
    "czechowski_tau_all_df"
   ]
  },
  {
   "cell_type": "code",
   "execution_count": 39,
   "metadata": {},
   "outputs": [
    {
     "data": {
      "text/html": [
       "<div>\n",
       "<style scoped>\n",
       "    .dataframe tbody tr th:only-of-type {\n",
       "        vertical-align: middle;\n",
       "    }\n",
       "\n",
       "    .dataframe tbody tr th {\n",
       "        vertical-align: top;\n",
       "    }\n",
       "\n",
       "    .dataframe thead th {\n",
       "        text-align: right;\n",
       "    }\n",
       "</style>\n",
       "<table border=\"1\" class=\"dataframe\">\n",
       "  <thead>\n",
       "    <tr style=\"text-align: right;\">\n",
       "      <th></th>\n",
       "      <th>AGI</th>\n",
       "      <th>gene_type</th>\n",
       "    </tr>\n",
       "  </thead>\n",
       "  <tbody>\n",
       "    <tr>\n",
       "      <th>0</th>\n",
       "      <td>AT4G33380</td>\n",
       "      <td>constitutive</td>\n",
       "    </tr>\n",
       "    <tr>\n",
       "      <th>1</th>\n",
       "      <td>AT2G28390</td>\n",
       "      <td>constitutive</td>\n",
       "    </tr>\n",
       "    <tr>\n",
       "      <th>2</th>\n",
       "      <td>AT1G71820</td>\n",
       "      <td>constitutive</td>\n",
       "    </tr>\n",
       "    <tr>\n",
       "      <th>3</th>\n",
       "      <td>AT1G48900</td>\n",
       "      <td>constitutive</td>\n",
       "    </tr>\n",
       "    <tr>\n",
       "      <th>4</th>\n",
       "      <td>AT3G32260</td>\n",
       "      <td>constitutive</td>\n",
       "    </tr>\n",
       "    <tr>\n",
       "      <th>...</th>\n",
       "      <td>...</td>\n",
       "      <td>...</td>\n",
       "    </tr>\n",
       "    <tr>\n",
       "      <th>95</th>\n",
       "      <td>AT4G14615</td>\n",
       "      <td>constitutive</td>\n",
       "    </tr>\n",
       "    <tr>\n",
       "      <th>96</th>\n",
       "      <td>AT2G39960</td>\n",
       "      <td>constitutive</td>\n",
       "    </tr>\n",
       "    <tr>\n",
       "      <th>97</th>\n",
       "      <td>AT1G50410</td>\n",
       "      <td>constitutive</td>\n",
       "    </tr>\n",
       "    <tr>\n",
       "      <th>98</th>\n",
       "      <td>AT1G54390</td>\n",
       "      <td>constitutive</td>\n",
       "    </tr>\n",
       "    <tr>\n",
       "      <th>99</th>\n",
       "      <td>AT5G53140</td>\n",
       "      <td>constitutive</td>\n",
       "    </tr>\n",
       "  </tbody>\n",
       "</table>\n",
       "<p>100 rows × 2 columns</p>\n",
       "</div>"
      ],
      "text/plain": [
       "          AGI     gene_type\n",
       "0   AT4G33380  constitutive\n",
       "1   AT2G28390  constitutive\n",
       "2   AT1G71820  constitutive\n",
       "3   AT1G48900  constitutive\n",
       "4   AT3G32260  constitutive\n",
       "..        ...           ...\n",
       "95  AT4G14615  constitutive\n",
       "96  AT2G39960  constitutive\n",
       "97  AT1G50410  constitutive\n",
       "98  AT1G54390  constitutive\n",
       "99  AT5G53140  constitutive\n",
       "\n",
       "[100 rows x 2 columns]"
      ]
     },
     "execution_count": 39,
     "metadata": {},
     "output_type": "execute_result"
    }
   ],
   "source": [
    "czechowski_cv_df[czechowski_cv_df.gene_type == 'constitutive']"
   ]
  },
  {
   "cell_type": "code",
   "execution_count": 55,
   "metadata": {},
   "outputs": [],
   "source": [
    "filter1 = czechowski_cv_df[czechowski_cv_df.gene_type == 'constitutive'].AGI.isin(czechowski_tau_df[czechowski_tau_df.gene_type == 'constitutive'].AGI)"
   ]
  },
  {
   "cell_type": "code",
   "execution_count": 56,
   "metadata": {},
   "outputs": [],
   "source": [
    "filter2 = czechowski_cv_df[czechowski_cv_df.gene_type == 'variable'].AGI.isin(czechowski_tau_df[czechowski_tau_df.gene_type == 'tissue_specific'].AGI)"
   ]
  },
  {
   "cell_type": "code",
   "execution_count": 59,
   "metadata": {},
   "outputs": [],
   "source": [
    "filter3 = czechowski_cv_df[czechowski_cv_df.gene_type == 'control'].AGI.isin(czechowski_tau_df[czechowski_tau_df.gene_type == 'control'].AGI)"
   ]
  },
  {
   "cell_type": "code",
   "execution_count": 57,
   "metadata": {},
   "outputs": [
    {
     "data": {
      "text/plain": [
       "35"
      ]
     },
     "execution_count": 57,
     "metadata": {},
     "output_type": "execute_result"
    }
   ],
   "source": [
    "#how many constitutive genes in both cv and tau constitutive sets?\n",
    "inboth = czechowski_cv_df[czechowski_cv_df.gene_type == 'constitutive'][filter1]\n",
    "len(inboth[inboth.gene_type == 'constitutive'])"
   ]
  },
  {
   "cell_type": "code",
   "execution_count": 54,
   "metadata": {},
   "outputs": [
    {
     "data": {
      "text/plain": [
       "1"
      ]
     },
     "execution_count": 54,
     "metadata": {},
     "output_type": "execute_result"
    }
   ],
   "source": [
    "#how many variable genes in both mergner and czechowski constitutive sets?\n",
    "inboth2 = czechowski_cv_df[czechowski_cv_df.gene_type == 'variable'][filter2]\n",
    "len(inboth2[inboth2.gene_type == 'variable'])"
   ]
  },
  {
   "cell_type": "code",
   "execution_count": 60,
   "metadata": {},
   "outputs": [
    {
     "data": {
      "text/plain": [
       "1"
      ]
     },
     "execution_count": 60,
     "metadata": {},
     "output_type": "execute_result"
    }
   ],
   "source": [
    "#how many control genes in both mergner and czechowski constitutive sets?\n",
    "inboth3 = czechowski_cv_df[czechowski_cv_df.gene_type == 'control'][filter3]\n",
    "len(inboth3[inboth3.gene_type == 'control'])"
   ]
  },
  {
   "cell_type": "code",
   "execution_count": 27,
   "metadata": {},
   "outputs": [
    {
     "data": {
      "text/plain": [
       "<AxesSubplot:xlabel='Expression CV'>"
      ]
     },
     "execution_count": 27,
     "metadata": {},
     "output_type": "execute_result"
    },
    {
     "data": {
      "image/png": "[encoded data removed]",
      "text/plain": [
       "<Figure size 432x288 with 1 Axes>"
      ]
     },
     "metadata": {
      "needs_background": "light"
     },
     "output_type": "display_data"
    }
   ],
   "source": [
    "#all czechowski CV distribution plot\n",
    "all_prom_distribution('cv_dist_plot_czechowski','deep',czechowski_cv_all_df,'expression_CV', 'Expression CV',save=True)"
   ]
  },
  {
   "cell_type": "code",
   "execution_count": 28,
   "metadata": {},
   "outputs": [
    {
     "data": {
      "text/plain": [
       "<AxesSubplot:xlabel='Tau'>"
      ]
     },
     "execution_count": 28,
     "metadata": {},
     "output_type": "execute_result"
    },
    {
     "data": {
      "image/png": "[encoded data removed]",
      "text/plain": [
       "<Figure size 432x288 with 1 Axes>"
      ]
     },
     "metadata": {
      "needs_background": "light"
     },
     "output_type": "display_data"
    }
   ],
   "source": [
    "#all TAU distribution plot\n",
    "all_prom_distribution('tau_dist_plot_czechowski','Set2',czechowski_tau_all_df,'tau', 'Tau',save=True)"
   ]
  },
  {
   "cell_type": "code",
   "execution_count": 26,
   "metadata": {},
   "outputs": [],
   "source": []
  },
  {
   "cell_type": "code",
   "execution_count": 29,
   "metadata": {},
   "outputs": [
    {
     "name": "stderr",
     "output_type": "stream",
     "text": [
      "/home/witham/opt/anaconda3/envs/PromoterArchitecturePipeline/lib/python3.7/site-packages/seaborn/distributions.py:283: UserWarning: Data must have variance to compute a kernel density estimate.\n",
      "  warnings.warn(msg, UserWarning)\n"
     ]
    },
    {
     "data": {
      "text/plain": [
       "<AxesSubplot:xlabel='expression_CV'>"
      ]
     },
     "execution_count": 29,
     "metadata": {},
     "output_type": "execute_result"
    },
    {
     "data": {
      "image/png": "[encoded data removed]",
      "text/plain": [
       "<Figure size 432x288 with 1 Axes>"
      ]
     },
     "metadata": {
      "needs_background": "light"
     },
     "output_type": "display_data"
    }
   ],
   "source": [
    "#plot CV from CV ranking for top tissue_specific and top constitutive genes from CV ranking'\n",
    "\n",
    "#merge dfs\n",
    "merged2 = pd.merge(czechowski_tau_df,czechowski_cv_all_df, on='AGI', how='left')\n",
    "#ONLY ? GENES FROM TAU SET ARE IN THE CV SET\n",
    "# constitutive genes from RNA-seq in microarray\n",
    "# variable genes from RNA-seq in microarray\n",
    "# control genes from RNA-seq in microarray\n",
    "all_prom_distribution('cv_taucategories_dist_czechowski','Set2',merged2[merged2.gene_type == 'constitutive'],'expression_CV', 'Expression CV', merged2[merged2.gene_type == 'tissue_specific'], df1_label='constitutive',df2_label='tissue_specific',save=True)"
   ]
  },
  {
   "cell_type": "code",
   "execution_count": 124,
   "metadata": {},
   "outputs": [
    {
     "data": {
      "text/plain": [
       "99"
      ]
     },
     "execution_count": 124,
     "metadata": {},
     "output_type": "execute_result"
    }
   ],
   "source": [
    "#remove NaNs\n",
    "not_nan = merged2[(merged2.expression_CV.notnull())]\n",
    "#how many constitutive from TAU ranking in CV all genes\n",
    "not_nan[not_nan.gene_type=='constitutive'].gene_type.count()"
   ]
  },
  {
   "cell_type": "code",
   "execution_count": 125,
   "metadata": {},
   "outputs": [
    {
     "data": {
      "text/plain": [
       "1"
      ]
     },
     "execution_count": 125,
     "metadata": {},
     "output_type": "execute_result"
    }
   ],
   "source": [
    "#how many tissue_specific from TAU ranking in CV all genes\n",
    "not_nan[not_nan.gene_type=='tissue_specific'].gene_type.count()"
   ]
  },
  {
   "cell_type": "code",
   "execution_count": 126,
   "metadata": {},
   "outputs": [
    {
     "data": {
      "text/plain": [
       "47"
      ]
     },
     "execution_count": 126,
     "metadata": {},
     "output_type": "execute_result"
    }
   ],
   "source": [
    "#how many control from TAU ranking in CV all genes\n",
    "not_nan[not_nan.gene_type=='control'].gene_type.count()"
   ]
  },
  {
   "cell_type": "code",
   "execution_count": 32,
   "metadata": {},
   "outputs": [],
   "source": [
    "#plot TAU for top variable and top constitutive genes from CV ranking'\n",
    "merged = pd.merge(czechowski_cv_df,czechowski_tau_all_df, on='AGI', how='left')"
   ]
  },
  {
   "cell_type": "code",
   "execution_count": 33,
   "metadata": {},
   "outputs": [
    {
     "data": {
      "text/plain": [
       "<AxesSubplot:xlabel='tau'>"
      ]
     },
     "execution_count": 33,
     "metadata": {},
     "output_type": "execute_result"
    },
    {
     "data": {
      "image/png": "[encoded data removed]",
      "text/plain": [
       "<Figure size 432x288 with 1 Axes>"
      ]
     },
     "metadata": {
      "needs_background": "light"
     },
     "output_type": "display_data"
    }
   ],
   "source": [
    "#plot the tau of the CV ranking variable and constitutive gene sets '\n",
    "\n",
    "all_prom_distribution('tau_cvcategories_dist_czechowski','deep',merged[merged.gene_type == 'constitutive'],'tau', 'Tau', merged[merged.gene_type == 'variable'], df1_label='constitutive',df2_label='variable',save=True)\n",
    "#Indeed constitutive genes set from the microarray have lower TAU than the variable gene set"
   ]
  },
  {
   "cell_type": "code",
   "execution_count": 35,
   "metadata": {},
   "outputs": [
    {
     "data": {
      "text/plain": [
       "<AxesSubplot:xlabel='expression_CV'>"
      ]
     },
     "execution_count": 35,
     "metadata": {},
     "output_type": "execute_result"
    },
    {
     "data": {
      "image/png": "[encoded data removed]",
      "text/plain": [
       "<Figure size 432x288 with 1 Axes>"
      ]
     },
     "metadata": {
      "needs_background": "light"
     },
     "output_type": "display_data"
    }
   ],
   "source": [
    "#czechovski CV distribution\n",
    "#using CVs and gene categories from only the microarray, plot CVs of the constitutive and variable gene sets\n",
    "merged_czechowski_cv =pd.merge(czechowski_cv_df,czechowski_cv_all_df, on='AGI', how='left')\n",
    "all_prom_distribution('cv_categories_czechowski','deep',merged_czechowski_cv[merged_czechowski_cv.gene_type == 'constitutive'],'expression_CV', 'Expression CV',merged_czechowski_cv[merged_czechowski_cv.gene_type == 'variable'],df1_label='constitutive',df2_label='variable',save=True)"
   ]
  },
  {
   "cell_type": "code",
   "execution_count": 34,
   "metadata": {},
   "outputs": [
    {
     "data": {
      "text/plain": [
       "<AxesSubplot:xlabel='tau'>"
      ]
     },
     "execution_count": 34,
     "metadata": {},
     "output_type": "execute_result"
    },
    {
     "data": {
      "image/png": "[encoded data removed]",
      "text/plain": [
       "<Figure size 432x288 with 1 Axes>"
      ]
     },
     "metadata": {
      "needs_background": "light"
     },
     "output_type": "display_data"
    }
   ],
   "source": [
    "#TAU distribution\n",
    "#using tau and gene categories from only the tau ranking data, plot tau of the constitutive and tissue_specific gene sets\n",
    "merged_czechowski_tau =pd.merge(czechowski_tau_df,czechowski_tau_all_df, on='AGI', how='left')\n",
    "all_prom_distribution('tau_categories_czechowski','Set2',merged_czechowski_tau[merged_czechowski_tau.gene_type == 'constitutive'],'tau', 'Tau',merged_czechowski_tau[merged_czechowski_tau.gene_type == 'tissue_specific'],df1_label='constitutive',df2_label='tissue_specific',save=True)\n",
    "#all variable genes have a CV of 5.385165"
   ]
  },
  {
   "cell_type": "code",
   "execution_count": null,
   "metadata": {},
   "outputs": [],
   "source": []
  }
 ],
 "metadata": {
  "kernelspec": {
   "display_name": "Python [conda env:PromoterArchitecturePipeline] *",
   "language": "python",
   "name": "conda-env-PromoterArchitecturePipeline-py"
  },
  "language_info": {
   "codemirror_mode": {
    "name": "ipython",
    "version": 3
   },
   "file_extension": ".py",
   "mimetype": "text/x-python",
   "name": "python",
   "nbconvert_exporter": "python",
   "pygments_lexer": "ipython3",
   "version": "3.7.8"
  }
 },
 "nbformat": 4,
 "nbformat_minor": 4
}
