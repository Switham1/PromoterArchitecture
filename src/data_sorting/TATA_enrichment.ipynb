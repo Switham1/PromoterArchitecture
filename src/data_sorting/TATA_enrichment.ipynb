{
 "cells": [
  {
   "cell_type": "code",
   "execution_count": 1,
   "metadata": {},
   "outputs": [],
   "source": [
    "import pandas as pd\n",
    "from pybedtools import BedTool\n",
    "import os\n",
    "import io"
   ]
  },
  {
   "cell_type": "code",
   "execution_count": null,
   "metadata": {},
   "outputs": [],
   "source": [
    "parser = argparse.ArgumentParser(description='TATA_enrichment')\n",
    "parser.add_argument('file_names', type=str, help='Name of folder and filenames for the promoters extracted')\n",
    "parser.add_argument('promoterpref', type=str, help='Promoter prefix name')\n",
    "parser.add_argument('Czechowski_gene_categories', type=str, help='Input location of Czechowski gene categories text file')\n",
    "parser.add_argument('promoter_bed_file', type=str, help='Input location of promoters bed file')\n",
    "parser.add_argument('output_genecat_prefix', type=str, help='Gene category prefix (eg. Czechowski)')\n",
    "parser.add_argument('TATA_box_locations', type=str, help='Input location of TATAbox_location bed file (from Eukaryotic promoter database)')\n",
    "\n",
    "#parser.add_argument('output_folder_name', type=str, help='Optional output folder name ending in a forward slash',default = '')\n",
    "args = parser.parse_args()"
   ]
  },
  {
   "cell_type": "code",
   "execution_count": 2,
   "metadata": {},
   "outputs": [],
   "source": [
    "file_names = 'non-overlapping_includingbidirectional_all_genes_newannotation'\n",
    "promoterpref='promoters_5UTR'\n",
    "Czechowski_gene_categories = f'../../data/output/{file_names}/genes/promoters_5UTR_czechowski_constitutive_variable_random.txt'\n",
    "promoter_bed_file = f'../../data/output/{file_names}/FIMO/promoters_5UTR.bed'\n",
    "#output_folder_name = 'promoters_5UTR_400bp/'\n",
    "\n",
    "output_genecat_prefix = 'Czechowski'\n",
    "TATA_box_locations = '../../data/EPD_promoter_analysis/EPDnew_promoters/TATAbox_location_renamed.bed'"
   ]
  },
  {
   "cell_type": "code",
   "execution_count": 3,
   "metadata": {},
   "outputs": [],
   "source": [
    "promoter_TATA_intersect_bed = f'../../data/output/{file_names}/TATA/{promoterpref}_TATA_intersect.bed'"
   ]
  },
  {
   "cell_type": "code",
   "execution_count": 4,
   "metadata": {},
   "outputs": [
    {
     "name": "stdout",
     "output_type": "stream",
     "text": [
      "Directory  ../../data/output/non-overlapping_includingbidirectional_all_genes_newannotation/TATA  already exists\n"
     ]
    }
   ],
   "source": [
    "#make directory for the plots to be exported to\n",
    "dirName = f'../../data/output/{file_names}/TATA'\n",
    "try:\n",
    "    # Create target Directory\n",
    "    os.mkdir(dirName)\n",
    "    print(\"Directory \" , dirName ,  \" created\") \n",
    "except FileExistsError:\n",
    "    print(\"Directory \" , dirName ,  \" already exists\")"
   ]
  },
  {
   "cell_type": "code",
   "execution_count": 5,
   "metadata": {},
   "outputs": [
    {
     "name": "stdout",
     "output_type": "stream",
     "text": [
      "Directory  ../../data/output/non-overlapping_includingbidirectional_all_genes_newannotation/TATA/plots  already exists\n"
     ]
    }
   ],
   "source": [
    "#make directory for the plots to be exported to\n",
    "dirName = f'../../data/output/{file_names}/TATA/plots'\n",
    "try:\n",
    "    # Create target Directory\n",
    "    os.mkdir(dirName)\n",
    "    print(\"Directory \" , dirName ,  \" created\") \n",
    "except FileExistsError:\n",
    "    print(\"Directory \" , dirName ,  \" already exists\")"
   ]
  },
  {
   "cell_type": "code",
   "execution_count": 6,
   "metadata": {},
   "outputs": [
    {
     "name": "stdout",
     "output_type": "stream",
     "text": [
      "Directory  ../../data/output/non-overlapping_includingbidirectional_all_genes_newannotation/TATA/gat_analysis  already exists\n"
     ]
    }
   ],
   "source": [
    "#make directory for the plots to be exported to\n",
    "dirName = f'../../data/output/{file_names}/TATA/gat_analysis'\n",
    "try:\n",
    "    # Create target Directory\n",
    "    os.mkdir(dirName)\n",
    "    print(\"Directory \" , dirName ,  \" created\") \n",
    "except FileExistsError:\n",
    "    print(\"Directory \" , dirName ,  \" already exists\")"
   ]
  },
  {
   "cell_type": "code",
   "execution_count": 7,
   "metadata": {},
   "outputs": [],
   "source": [
    "def sort_data(promoter_bed_file,gene_categories):\n",
    "    \"\"\"sort the promoters and genes types data ready for gat TATA enrichment\"\"\"\n",
    "    promoters = pd.read_table(promoter_bed_file, sep='\\t', header=None)\n",
    "    col = ['chr', 'start','stop','AGI','dot1','strand','source','type','dot2','attributes']\n",
    "    promoters.columns = col\n",
    "    #read in gene categories\n",
    "    gene_cats = pd.read_table(gene_categories, sep='\\t', header=None)\n",
    "    cols = ['AGI','gene_type']\n",
    "    gene_cats.columns = cols\n",
    "    #merge with promoters\n",
    "    promoters = pd.merge(promoters, gene_cats, on='AGI', how='left')\n",
    "    #EPD downloaded file motifs (all genes)\n",
    "    core_motifs_file = '../../data/EPD_promoter_analysis/EPDnew_promoters/db/promoter_motifs.txt'\n",
    "\n",
    "    #Read in that file\n",
    "    core_motifs = pd.read_table(core_motifs_file, sep='\\t', header=0)\n",
    "    cols = ['AGI','TATA_present','Inr_present','CCAAT_box_present','GC_box_present']\n",
    "    core_motifs.columns = cols\n",
    "    #remove last 2 characters of AGI in cor_motifs df\n",
    "    core_motifs['AGI'] = core_motifs.AGI.str.slice(0, -2)\n",
    "    #Merge them with extracted promoters\n",
    "    merged = pd.merge(promoters,core_motifs, how='left', on='AGI')    \n",
    "    return merged  "
   ]
  },
  {
   "cell_type": "code",
   "execution_count": 8,
   "metadata": {},
   "outputs": [],
   "source": [
    "# def remove_characters_linestart(input_location,output_location,oldcharacters,newcharacters,linestart):\n",
    "#     \"\"\"this function removes characters from the start of each line in the input file and sends modified lines to output\"\"\"\n",
    "#     output = open(output_location, 'w') #make output file with write capability\n",
    "#     #open input file\n",
    "#     with open(input_location, 'r') as infile:  \n",
    "#         #iterate over lines in file\n",
    "#         for line in infile:\n",
    "#             line = line.strip() # removes hidden characters/spaces\n",
    "#             if line[0] == linestart:\n",
    "                                 \n",
    "#                 line = line.replace(oldcharacters, newcharacters) #remove characters from start of line, replace with new characters        \n",
    "#             output.write(line + '\\n') #output to new file\n",
    "#     output.close()"
   ]
  },
  {
   "cell_type": "code",
   "execution_count": 9,
   "metadata": {},
   "outputs": [],
   "source": [
    "def prepare_gat(df):\n",
    "    \"\"\"prepare files for running gat analysis - outputs a workspace file containing all promoters, a variable promoter file and a constitutive promoter file\"\"\"\n",
    "    #make buffer to save promoters\n",
    "    buffer = io.StringIO()\n",
    "    df.to_csv(buffer,sep='\\t', header=None, index = False)\n",
    "    buffer.seek(0)\n",
    "    #select only constitutive and variable genes\n",
    "    df = df[(df.gene_type == 'constitutive') | (df.gene_type == 'variable')]\n",
    "    #reorder columns\n",
    "    df_reordered = df[['chr','start','stop','gene_type', 'strand', 'source', 'attributes','AGI']]\n",
    "    #sort by chromosome and start\n",
    "    sorted_motifs = df_reordered.sort_values(['chr','start'])\n",
    "    #save bed file\n",
    "    bed = BedTool.from_dataframe(sorted_motifs).saveas(f'../../data/output/{file_names}/TATA/{output_genecat_prefix}_{promoterpref}_nocontrol.bed')\n",
    "\n",
    "    #run bedtools intersect between TATAbox_location_renamed.bed and the extracted promoters\n",
    "    TATAlocations = BedTool(TATA_box_locations)\n",
    "    promoters = BedTool(buffer)\n",
    "    intersect = promoters.intersect(TATAlocations, wao=True,output=promoter_TATA_intersect_bed)\n",
    "    #make a new gat workspace file with all promoters (first 3 columns)\n",
    "    bed = BedTool.from_dataframe(sorted_motifs[['chr','start','stop']]).saveas(f'../../data/output/{file_names}/TATA/gat_analysis/{output_genecat_prefix}_{promoterpref}_workspace.bed')\n",
    "    #select only variable promoters\n",
    "    variable_promoters_extended = sorted_motifs[sorted_motifs['gene_type'] == 'variable']\n",
    "    sorted_variable = variable_promoters_extended.sort_values(['chr','start'])\n",
    "    bed = BedTool.from_dataframe(sorted_variable).saveas(f'../../data/output/{file_names}/TATA/gat_analysis/{output_genecat_prefix}_{promoterpref}_variable.bed')\n",
    "    #make a constitutive only file\n",
    "    constitutive_promoters = sorted_motifs[sorted_motifs['gene_type'] == 'constitutive']\n",
    "    sorted_constitutive = constitutive_promoters.sort_values(['chr','start'])\n",
    "    bed = BedTool.from_dataframe(sorted_constitutive).saveas(f'../../data/output/{file_names}/TATA/gat_analysis/{output_genecat_prefix}_{promoterpref}_constitutive.bed')\n",
    "\n",
    "   "
   ]
  },
  {
   "cell_type": "code",
   "execution_count": 10,
   "metadata": {},
   "outputs": [],
   "source": [
    "# #read in promoter TATA intersect bed\n",
    "# promoter_TATA_intersect_df = pd.read_table(promoter_TATA_intersect_bed,sep='\\t', header=None)\n",
    "# cols = ['chr','start','stop','AGI','dot1','strand','source','type','dot2','attributes',\n",
    "#         'gene_type','TATA_present','Inr_present','CCAAT_box_present' ,'GC_box_present','chr_TATA','start_TATA','stop_TATA','type','strand_TATA','bpoverlap']\n",
    "# promoter_TATA_intersect_df.columns = cols"
   ]
  },
  {
   "cell_type": "code",
   "execution_count": 11,
   "metadata": {},
   "outputs": [],
   "source": [
    "#commented this out as I only have to preform it once\n",
    "# remove_characters_linestart('../../data/EPD_promoter_analysis/EPDnew_promoters/TATAbox_location.bed', \n",
    "#                             '../../data/EPD_promoter_analysis/EPDnew_promoters/TATAbox_location_renamed.bed',\n",
    "#                            'chr','','c')\n",
    "\n",
    "# #read in TATAbox_location_renamed.bed to df. Extend length of each box to 15bp as stated in EPD\n",
    "# TATA_locations_df = pd.read_table('../../data/EPD_promoter_analysis/EPDnew_promoters/TATAbox_location_renamed.bed',sep='\\t', header=None,skiprows=10)\n",
    "# cols = ['chr','start','stop','type','number','strand']\n",
    "# TATA_locations_df.columns = cols\n",
    "# #Make TATA box segment the actual size - I will set all to 15 bp\n",
    "# TATA_locations_df.loc[TATA_locations_df.strand =='+', 'stop'] = TATA_locations_df.stop + 14\n",
    "# TATA_locations_df.loc[TATA_locations_df.strand =='-', 'start'] = TATA_locations_df.start - 14\n",
    "# #filter columns\n",
    "# TATA_locations_df = TATA_locations_df[['chr','start','stop','type','strand']]\n",
    "# #save file\n",
    "# TATA_locations_df.to_csv('../../data/EPD_promoter_analysis/EPDnew_promoters/TATAbox_location_renamed.bed',sep='\\t',header=None,index=None)"
   ]
  },
  {
   "cell_type": "code",
   "execution_count": 12,
   "metadata": {},
   "outputs": [],
   "source": [
    "merged = sort_data(promoter_bed_file,Czechowski_gene_categories)"
   ]
  },
  {
   "cell_type": "code",
   "execution_count": 225,
   "metadata": {},
   "outputs": [],
   "source": [
    "merged_norandom = prepare_gat(merged)"
   ]
  },
  {
   "cell_type": "code",
   "execution_count": 114,
   "metadata": {
    "collapsed": true,
    "jupyter": {
     "outputs_hidden": true
    }
   },
   "outputs": [
    {
     "data": {
      "text/plain": [
       "gene_type     TATA_present\n",
       "constitutive  0.0             84\n",
       "              1.0             12\n",
       "control       0.0             77\n",
       "              1.0             22\n",
       "variable      0.0             65\n",
       "              1.0             30\n",
       "Name: TATA_present, dtype: int64"
      ]
     },
     "execution_count": 114,
     "metadata": {},
     "output_type": "execute_result"
    }
   ],
   "source": [
    "# ## how many TATA\n",
    "# merged_TATA = merged.groupby('gene_type')['TATA_present'].value_counts()\n",
    "# merged_TATA"
   ]
  },
  {
   "cell_type": "code",
   "execution_count": 115,
   "metadata": {
    "collapsed": true,
    "jupyter": {
     "outputs_hidden": true
    }
   },
   "outputs": [
    {
     "data": {
      "text/plain": [
       "gene_type     Inr_present\n",
       "constitutive  0.0            68\n",
       "              1.0            28\n",
       "control       0.0            69\n",
       "              1.0            30\n",
       "variable      0.0            68\n",
       "              1.0            27\n",
       "Name: Inr_present, dtype: int64"
      ]
     },
     "execution_count": 115,
     "metadata": {},
     "output_type": "execute_result"
    }
   ],
   "source": [
    "# ## how many Inr\n",
    "# merged_Inr = merged.groupby('gene_type')['Inr_present'].value_counts()\n",
    "# merged_Inr"
   ]
  },
  {
   "cell_type": "code",
   "execution_count": 116,
   "metadata": {
    "collapsed": true,
    "jupyter": {
     "outputs_hidden": true
    }
   },
   "outputs": [
    {
     "data": {
      "text/plain": [
       "gene_type     GC_box_present\n",
       "constitutive  0.0               90\n",
       "              1.0                6\n",
       "control       0.0               97\n",
       "              1.0                2\n",
       "variable      0.0               91\n",
       "              1.0                4\n",
       "Name: GC_box_present, dtype: int64"
      ]
     },
     "execution_count": 116,
     "metadata": {},
     "output_type": "execute_result"
    }
   ],
   "source": [
    "# ## how many GC_box\n",
    "# merged_GC_box = merged.groupby('gene_type')['GC_box_present'].value_counts()\n",
    "# merged_GC_box"
   ]
  },
  {
   "cell_type": "code",
   "execution_count": 117,
   "metadata": {
    "collapsed": true,
    "jupyter": {
     "outputs_hidden": true
    }
   },
   "outputs": [
    {
     "data": {
      "text/plain": [
       "gene_type     CCAAT_box_present\n",
       "constitutive  0.0                  79\n",
       "              1.0                  17\n",
       "control       0.0                  81\n",
       "              1.0                  18\n",
       "variable      0.0                  72\n",
       "              1.0                  23\n",
       "Name: CCAAT_box_present, dtype: int64"
      ]
     },
     "execution_count": 117,
     "metadata": {},
     "output_type": "execute_result"
    }
   ],
   "source": [
    "# ## how many CCAAT_box\n",
    "# merged_CCAAT_box = merged.groupby('gene_type')['CCAAT_box_present'].value_counts()\n",
    "# merged_CCAAT_box"
   ]
  },
  {
   "cell_type": "code",
   "execution_count": 118,
   "metadata": {},
   "outputs": [],
   "source": [
    "# make separate dfs based on gene type"
   ]
  },
  {
   "cell_type": "code",
   "execution_count": 119,
   "metadata": {
    "collapsed": true,
    "jupyter": {
     "outputs_hidden": true
    }
   },
   "outputs": [
    {
     "name": "stdout",
     "output_type": "stream",
     "text": [
      "nan\n",
      "variable\n",
      "control\n",
      "constitutive\n"
     ]
    }
   ],
   "source": [
    "# #get names of each promoter type\n",
    "# pd.Categorical(merged.gene_type)\n",
    "# names = merged.gene_type.unique()\n",
    "# for name in names:\n",
    "#     print(name)"
   ]
  },
  {
   "cell_type": "code",
   "execution_count": 120,
   "metadata": {},
   "outputs": [],
   "source": [
    "#Chi squared: H0:There is no statistically significant relationship between gene type and the presence of the feature.\n",
    "\n",
    "#Ha:There is a statistically significant relationship between gene type and the presence of the feature."
   ]
  },
  {
   "cell_type": "code",
   "execution_count": 122,
   "metadata": {
    "collapsed": true,
    "jupyter": {
     "outputs_hidden": true
    }
   },
   "outputs": [
    {
     "data": {
      "text/html": [
       "<div>\n",
       "<style scoped>\n",
       "    .dataframe tbody tr th:only-of-type {\n",
       "        vertical-align: middle;\n",
       "    }\n",
       "\n",
       "    .dataframe tbody tr th {\n",
       "        vertical-align: top;\n",
       "    }\n",
       "\n",
       "    .dataframe thead th {\n",
       "        text-align: right;\n",
       "    }\n",
       "</style>\n",
       "<table border=\"1\" class=\"dataframe\">\n",
       "  <thead>\n",
       "    <tr style=\"text-align: right;\">\n",
       "      <th>TATA_present</th>\n",
       "      <th>0.0</th>\n",
       "      <th>1.0</th>\n",
       "      <th>All</th>\n",
       "    </tr>\n",
       "    <tr>\n",
       "      <th>gene_type</th>\n",
       "      <th></th>\n",
       "      <th></th>\n",
       "      <th></th>\n",
       "    </tr>\n",
       "  </thead>\n",
       "  <tbody>\n",
       "    <tr>\n",
       "      <th>constitutive</th>\n",
       "      <td>84</td>\n",
       "      <td>12</td>\n",
       "      <td>96</td>\n",
       "    </tr>\n",
       "    <tr>\n",
       "      <th>variable</th>\n",
       "      <td>65</td>\n",
       "      <td>30</td>\n",
       "      <td>95</td>\n",
       "    </tr>\n",
       "    <tr>\n",
       "      <th>All</th>\n",
       "      <td>149</td>\n",
       "      <td>42</td>\n",
       "      <td>191</td>\n",
       "    </tr>\n",
       "  </tbody>\n",
       "</table>\n",
       "</div>"
      ],
      "text/plain": [
       "TATA_present  0.0  1.0  All\n",
       "gene_type                  \n",
       "constitutive   84   12   96\n",
       "variable       65   30   95\n",
       "All           149   42  191"
      ]
     },
     "execution_count": 122,
     "metadata": {},
     "output_type": "execute_result"
    }
   ],
   "source": [
    "\n",
    "# # Constructing the Contingency Table\n",
    "\n",
    "# # The next step is to format the data into a frequency count table. This is called a Contingency Table, we can accomplish this by using the pd.crosstab() function in pandas.\n",
    "# contingency_table = pd.crosstab(\n",
    "#     merged_norandom['gene_type'],\n",
    "#     merged_norandom['TATA_present'],\n",
    "#     margins = True\n",
    "# )\n",
    "# contingency_table"
   ]
  },
  {
   "cell_type": "code",
   "execution_count": 123,
   "metadata": {},
   "outputs": [
    {
     "data": {
      "text/plain": [
       "array([84, 12, 65, 30])"
      ]
     },
     "execution_count": 123,
     "metadata": {},
     "output_type": "execute_result"
    }
   ],
   "source": [
    "# # First, let's put the observed values into a one dimensional array, reading the contingency table from left to right then top to bottom.\n",
    "# f_obs = np.append(contingency_table.iloc[0][0:2].values, contingency_table.iloc[1][0:2].values)\n",
    "# f_obs"
   ]
  },
  {
   "cell_type": "code",
   "execution_count": 124,
   "metadata": {},
   "outputs": [],
   "source": [
    "#Next, we need to calculate the expected values. The expected values assume that null hypothesis is true. We would need to calculate values if there is an equal percentage of males and females for each category."
   ]
  },
  {
   "cell_type": "code",
   "execution_count": 125,
   "metadata": {},
   "outputs": [
    {
     "data": {
      "text/plain": [
       "array([96, 95])"
      ]
     },
     "execution_count": 125,
     "metadata": {},
     "output_type": "execute_result"
    }
   ],
   "source": [
    "# row_sums = contingency_table.iloc[0:2,2].values\n",
    "# row_sums"
   ]
  },
  {
   "cell_type": "code",
   "execution_count": 126,
   "metadata": {},
   "outputs": [
    {
     "data": {
      "text/plain": [
       "array([149,  42])"
      ]
     },
     "execution_count": 126,
     "metadata": {},
     "output_type": "execute_result"
    }
   ],
   "source": [
    "# col_sums = contingency_table.iloc[2,0:2].values\n",
    "# col_sums"
   ]
  },
  {
   "cell_type": "code",
   "execution_count": 127,
   "metadata": {},
   "outputs": [
    {
     "data": {
      "text/plain": [
       "[74.89005235602095, 21.10994764397906, 74.10994764397905, 20.89005235602094]"
      ]
     },
     "execution_count": 127,
     "metadata": {},
     "output_type": "execute_result"
    }
   ],
   "source": [
    "# total = contingency_table.loc['All', 'All']\n",
    "\n",
    "# f_expected = []\n",
    "# for j in range(2):\n",
    "#     for i in col_sums:\n",
    "#         f_expected.append(i*row_sums[j]/total)\n",
    "# f_expected"
   ]
  },
  {
   "cell_type": "code",
   "execution_count": 128,
   "metadata": {},
   "outputs": [],
   "source": [
    "# Now that we have all our observed and expected values, we can just plug everything into the Chi-squared test formula."
   ]
  },
  {
   "cell_type": "code",
   "execution_count": 129,
   "metadata": {},
   "outputs": [
    {
     "name": "stdout",
     "output_type": "stream",
     "text": [
      "Chi-squared Statistic: 10.132146641772216\n"
     ]
    }
   ],
   "source": [
    "# chi_squared_statistic = ((f_obs - f_expected)**2/f_expected).sum()\n",
    "# print('Chi-squared Statistic: {}'.format(chi_squared_statistic))"
   ]
  },
  {
   "cell_type": "code",
   "execution_count": 130,
   "metadata": {},
   "outputs": [],
   "source": [
    "#Degrees of Freedom\n",
    "\n",
    "# Similar to the Welch's t-test, we would have to calculate the degrees of freedom before we can determine the p-value.\n",
    "\n",
    "#DoF=(Number of rows−1)∗(Number of columns−1)"
   ]
  },
  {
   "cell_type": "code",
   "execution_count": 131,
   "metadata": {},
   "outputs": [
    {
     "name": "stdout",
     "output_type": "stream",
     "text": [
      "Degrees of Freedom: 1\n"
     ]
    }
   ],
   "source": [
    "# dof = (len(row_sums)-1)*(len(col_sums)-1)\n",
    "# print(\"Degrees of Freedom: {}\".format(dof))"
   ]
  },
  {
   "cell_type": "code",
   "execution_count": 132,
   "metadata": {},
   "outputs": [],
   "source": [
    "# #make function for doing chisqaure on contingency table\n",
    "# def chi_stat(data, column, apply_correction):\n",
    "#     \"\"\"function to calculate chi squared values from a dataset. You provide the column of interest containing your categories. Choose whether Yates' correction is true or false\"\"\"\n",
    "#     contingency_table = pd.crosstab(\n",
    "#     data['gene_type'],\n",
    "#     data[column],\n",
    "#     margins = True\n",
    "#     )\n",
    "    \n",
    "#     f_obs = np.array([contingency_table.iloc[0][0:2].values,\n",
    "#                   contingency_table.iloc[1][0:2].values])\n",
    "    \n",
    "#     statistics = stats.chi2_contingency(f_obs, correction=apply_correction)[0:3]\n",
    "#     return statistics"
   ]
  },
  {
   "cell_type": "code",
   "execution_count": 133,
   "metadata": {
    "collapsed": true,
    "jupyter": {
     "outputs_hidden": true
    }
   },
   "outputs": [
    {
     "data": {
      "text/plain": [
       "(10.132146641772216, 0.001457056195141269, 1)"
      ]
     },
     "execution_count": 133,
     "metadata": {},
     "output_type": "execute_result"
    }
   ],
   "source": [
    "# #With no correction, identical to manual chi sqare above\n",
    "# chi_stat(merged_norandom, 'TATA_present', False)"
   ]
  },
  {
   "cell_type": "code",
   "execution_count": 134,
   "metadata": {
    "collapsed": true,
    "jupyter": {
     "outputs_hidden": true
    }
   },
   "outputs": [
    {
     "data": {
      "text/plain": [
       "(9.050461510144208, 0.002626285171560698, 1)"
      ]
     },
     "execution_count": 134,
     "metadata": {},
     "output_type": "execute_result"
    }
   ],
   "source": [
    "# #with Yate's correction\n",
    "# chi_stat(merged_norandom, 'TATA_present', True)"
   ]
  },
  {
   "cell_type": "code",
   "execution_count": 135,
   "metadata": {},
   "outputs": [],
   "source": [
    "#chi_stat(merged_norandom, 'TF_ID', True)"
   ]
  },
  {
   "cell_type": "code",
   "execution_count": 137,
   "metadata": {
    "collapsed": true,
    "jupyter": {
     "outputs_hidden": true
    }
   },
   "outputs": [
    {
     "data": {
      "text/plain": [
       "['TATA_present', 'Inr_present', 'CCAAT_box_present', 'GC_box_present']"
      ]
     },
     "execution_count": 137,
     "metadata": {},
     "output_type": "execute_result"
    }
   ],
   "source": [
    "# #Get column names of interest\n",
    "# cols = list(merged_norandom.columns.values)\n",
    "# cols_of_interest = cols[11:]\n",
    "# cols_of_interest"
   ]
  },
  {
   "cell_type": "code",
   "execution_count": 138,
   "metadata": {
    "collapsed": true,
    "jupyter": {
     "outputs_hidden": true
    }
   },
   "outputs": [
    {
     "name": "stdout",
     "output_type": "stream",
     "text": [
      "TATA_present\n",
      "Inr_present\n",
      "CCAAT_box_present\n",
      "GC_box_present\n"
     ]
    }
   ],
   "source": [
    "for col in cols_of_interest:\n",
    "    print(col)"
   ]
  },
  {
   "cell_type": "code",
   "execution_count": 139,
   "metadata": {
    "collapsed": true,
    "jupyter": {
     "outputs_hidden": true
    }
   },
   "outputs": [
    {
     "name": "stdout",
     "output_type": "stream",
     "text": [
      "TATA_present: (9.050461510144208, 0.002626285171560698, 1), SIGNIFICANT\n",
      "Inr_present: (0.0021173971233229825, 0.9632981479521568, 1), NOT SIGNIFICANT\n",
      "CCAAT_box_present: (0.858198518466075, 0.35424331486024774, 1), NOT SIGNIFICANT\n",
      "GC_box_present: (0.0947669956140352, 0.7582021919495565, 1), NOT SIGNIFICANT\n"
     ]
    }
   ],
   "source": [
    "# #calculate chi-squared, p-value and degrees of freedom with Yates' correction for all four column\n",
    "# #if p-value < 0.05, reject null hypothesis\n",
    "# for col in cols_of_interest:\n",
    "#     if chi_stat(merged_norandom, col, True)[1] > 0.05:\n",
    "#         print(f'{col}: {chi_stat(merged_norandom, col, True)}, NOT SIGNIFICANT')\n",
    "#     elif chi_stat(merged_norandom, col, True)[1] < 0.05:\n",
    "#         print(f'{col}: {chi_stat(merged_norandom, col, True)}, SIGNIFICANT')    \n",
    "        "
   ]
  },
  {
   "cell_type": "markdown",
   "metadata": {},
   "source": [
    "## <b> now I need to rerun analyses using gat enrichment"
   ]
  },
  {
   "cell_type": "markdown",
   "metadata": {},
   "source": [
    "If binding sites you're mapping are small, need to get the mapability genome containing all regions that are uniquely mappable with reads of 24 bases. https://genome.ucsc.edu/cgi-bin/hgTrackUi?db=hg38&g=mappability\n",
    "See https://gat.readthedocs.io/en/latest/tutorialGenomicAnnotation.html"
   ]
  },
  {
   "cell_type": "markdown",
   "metadata": {},
   "source": [
    "Downloaded TATAbox_location.bed from EPD\n",
    "Used the following search parameters for download:\n",
    "## FindM Genome Assembly : A. thaliana (Feb 2011 TAIR10/araTha1)\n",
    "##Series : EPDnew, the Arabidopsis Curated Promoter Database\n",
    "##Sample : TSS from EPDnew rel 004\n",
    "##Repeat masking: off\n",
    "##5' border: -100     3' border: 100\n",
    "##Search mode: forward\n",
    "##Selection mode : all matches \n",
    "\n",
    "Copied the chromsizes.chr to data/EPD_promoter_analysis/TATA and converted it into a BED file for the workspace."
   ]
  },
  {
   "cell_type": "code",
   "execution_count": 190,
   "metadata": {},
   "outputs": [],
   "source": []
  },
  {
   "cell_type": "code",
   "execution_count": 191,
   "metadata": {},
   "outputs": [
    {
     "data": {
      "text/plain": [
       "0"
      ]
     },
     "execution_count": 191,
     "metadata": {},
     "output_type": "execute_result"
    }
   ],
   "source": []
  },
  {
   "cell_type": "code",
   "execution_count": 192,
   "metadata": {},
   "outputs": [],
   "source": []
  },
  {
   "cell_type": "code",
   "execution_count": 195,
   "metadata": {},
   "outputs": [],
   "source": []
  },
  {
   "cell_type": "code",
   "execution_count": 216,
   "metadata": {},
   "outputs": [],
   "source": []
  },
  {
   "cell_type": "code",
   "execution_count": 219,
   "metadata": {},
   "outputs": [],
   "source": []
  },
  {
   "cell_type": "code",
   "execution_count": null,
   "metadata": {},
   "outputs": [],
   "source": []
  }
 ],
 "metadata": {
  "kernelspec": {
   "display_name": "Python [conda env:PromoterArchitecturePipeline] *",
   "language": "python",
   "name": "conda-env-PromoterArchitecturePipeline-py"
  },
  "language_info": {
   "codemirror_mode": {
    "name": "ipython",
    "version": 3
   },
   "file_extension": ".py",
   "mimetype": "text/x-python",
   "name": "python",
   "nbconvert_exporter": "python",
   "pygments_lexer": "ipython3",
   "version": "3.7.6"
  }
 },
 "nbformat": 4,
 "nbformat_minor": 4
}
