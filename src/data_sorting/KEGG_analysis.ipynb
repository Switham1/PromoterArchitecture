{
 "cells": [
  {
   "cell_type": "code",
   "execution_count": 2,
   "metadata": {},
   "outputs": [],
   "source": [
    "organism = \"org.At.tair.db\"\n"
   ]
  },
  {
   "cell_type": "code",
   "execution_count": null,
   "metadata": {},
   "outputs": [],
   "source": [
    "BiocManager::install(organism, character.only = TRUE)"
   ]
  },
  {
   "cell_type": "code",
   "execution_count": 100,
   "metadata": {},
   "outputs": [
    {
     "name": "stderr",
     "output_type": "stream",
     "text": [
      "Bioconductor version 3.10 (BiocManager 1.30.10), R 3.6.3 (2020-02-29)\n",
      "\n",
      "Installing package(s) 'pathview'\n",
      "\n",
      "also installing the dependency ‘KEGGgraph’\n",
      "\n",
      "\n",
      "Updating HTML index of packages in '.Library'\n",
      "\n",
      "Making 'packages.html' ...\n",
      " done\n",
      "\n",
      "Old packages: 'backports', 'BiocParallel', 'clusterProfiler', 'data.table',\n",
      "  'GOSemSim', 'IRanges', 'S4Vectors'\n",
      "\n"
     ]
    }
   ],
   "source": [
    "\n",
    "#conda install -c bioconda bioconductor-pathview \n",
    "#BiocManager::install(\"enrichplot\")"
   ]
  },
  {
   "cell_type": "code",
   "execution_count": null,
   "metadata": {},
   "outputs": [],
   "source": []
  },
  {
   "cell_type": "code",
   "execution_count": 99,
   "metadata": {},
   "outputs": [
    {
     "ename": "ERROR",
     "evalue": "Error in library(pathview): there is no package called ‘pathview’\n",
     "output_type": "error",
     "traceback": [
      "Error in library(pathview): there is no package called ‘pathview’\nTraceback:\n",
      "1. library(pathview)"
     ]
    }
   ],
   "source": [
    "library(clusterProfiler)\n",
    "library(tidyverse)\n",
    "library(pathview)\n",
    "#library(enrichplot)\n",
    "#use organism org.At.tair.db (arabidopsis) - follow https://learn.gencore.bio.nyu.edu/rna-seq-analysis/over-representation-analysis/\n",
    "library(organism, character.only = TRUE)"
   ]
  },
  {
   "cell_type": "code",
   "execution_count": 11,
   "metadata": {},
   "outputs": [
    {
     "data": {
      "text/html": [
       "<table>\n",
       "<caption>A data.frame: 1 × 3</caption>\n",
       "<thead>\n",
       "\t<tr><th></th><th scope=col>kegg_code</th><th scope=col>scientific_name</th><th scope=col>common_name</th></tr>\n",
       "\t<tr><th></th><th scope=col>&lt;chr&gt;</th><th scope=col>&lt;chr&gt;</th><th scope=col>&lt;chr&gt;</th></tr>\n",
       "</thead>\n",
       "<tbody>\n",
       "\t<tr><th scope=row>133</th><td>ath</td><td>Arabidopsis thaliana</td><td>thale cress</td></tr>\n",
       "</tbody>\n",
       "</table>\n"
      ],
      "text/latex": [
       "A data.frame: 1 × 3\n",
       "\\begin{tabular}{r|lll}\n",
       "  & kegg\\_code & scientific\\_name & common\\_name\\\\\n",
       "  & <chr> & <chr> & <chr>\\\\\n",
       "\\hline\n",
       "\t133 & ath & Arabidopsis thaliana & thale cress\\\\\n",
       "\\end{tabular}\n"
      ],
      "text/markdown": [
       "\n",
       "A data.frame: 1 × 3\n",
       "\n",
       "| <!--/--> | kegg_code &lt;chr&gt; | scientific_name &lt;chr&gt; | common_name &lt;chr&gt; |\n",
       "|---|---|---|---|\n",
       "| 133 | ath | Arabidopsis thaliana | thale cress |\n",
       "\n"
      ],
      "text/plain": [
       "    kegg_code scientific_name      common_name\n",
       "133 ath       Arabidopsis thaliana thale cress"
      ]
     },
     "metadata": {},
     "output_type": "display_data"
    }
   ],
   "source": [
    "#search for arabidopsis\n",
    "search_kegg_organism('ath', by='kegg_code')"
   ]
  },
  {
   "cell_type": "code",
   "execution_count": 6,
   "metadata": {},
   "outputs": [],
   "source": [
    "genes_of_interest = '../../data/output/non-overlapping_includingbidirectional_all_genes_newannotation/genes/promoters_5UTR_czechowski_constitutive_variable_random_300.txt'\n",
    "background_gene_set = '../../data/output/non-overlapping_includingbidirectional_all_genes_newannotation/genes/gene_ontology/gene_result_filtered.txt'\n",
    "mapped_NCBI_geneset = '../../data/output/non-overlapping_includingbidirectional_all_genes_newannotation/genes/gene_ontology/mapped_NCBI.tsv'"
   ]
  },
  {
   "cell_type": "code",
   "execution_count": 105,
   "metadata": {},
   "outputs": [],
   "source": [
    "#KEGG Gene Set Enrichment Analysis\n",
    "KEGG_GSEA = function(genes_of_interest,background_gene_set,gene_type) {\n",
    "    ###function to run a KEGG over-representation test using genes of interest, backgroun file and specifying the gene_type category###\n",
    "    genes_of_interest_df = read.delim(genes_of_interest, sep='\\t',fill = TRUE,header=TRUE)\n",
    "    background_gene_set_df = read.delim(background_gene_set,sep='\\t',header=TRUE)\n",
    "    \n",
    "    #make background gene table columns characters\n",
    "    background_gene_set_df = data.frame(lapply(background_gene_set_df, as.character), stringsAsFactors=FALSE)\n",
    "\n",
    "    #remove nan from background genes\n",
    "    background_genes = na.omit(background_gene_set_df$GeneID)\n",
    "\n",
    "    #convert NCBI gene IDs to AGIs to ensure they are in the database\n",
    "    IDs = bitr(background_genes, fromType='ENTREZID', toType='TAIR',OrgDb=organism)\n",
    "    \n",
    "    #remove duplicates\n",
    "    background_dedup_ids = IDs[!duplicated(IDs[c(\"ENTREZID\")]),]\n",
    "    \n",
    "    #sort the IDs in descending order\n",
    "    sorted_background = sort(background_dedup_ids$ENTREZID,decreasing = TRUE)\n",
    "    \n",
    "    #remove NAN\n",
    "    sorted_background = na.omit(sorted_background)\n",
    "    \n",
    "    #select columns from genes_of_interest_df\n",
    "    #NCBI_genes = genes_of_interest_df %>% select('GeneID','AGI','gene_type')\n",
    "    #return(NCBI_genes)\n",
    "    #filter by gene type\n",
    "    genes = filter(genes_of_interest_df, gene_type == gene_type)\n",
    "    \n",
    "    #turn columns into characters/string\n",
    "    #genes = data.frame(lapply(genes, as.character), stringsAsFactors=FALSE)\n",
    "    #return(genes)\n",
    "    \n",
    "    #turn the gene list into a vector\n",
    "    avector = genes$AGI\n",
    "\n",
    "    #remove NAN\n",
    "    avector = na.omit(avector)\n",
    "\n",
    "    #convert NCBI gene IDs to kegg IDs\n",
    "    #IDs = bitr_kegg(geneID = avector, fromType='ncbi-geneid', toType='kegg', organism='ath')\n",
    "    IDs = bitr(avector, fromType='TAIR', toType='ENTREZID',OrgDb=organism)\n",
    "    #remove duplicates\n",
    "    dedup_ids = IDs[!duplicated(IDs[c(\"TAIR\")]),]\n",
    "\n",
    "    \n",
    "    #sort the IDs in descending order\n",
    "    sorted_genes_vector = sort(dedup_ids$ENTREZID,decreasing = TRUE)\n",
    "    #remove NAN\n",
    "    genes_list = na.omit(sorted_genes_vector)\n",
    "\n",
    "    #return(sorted_genes_vector)\n",
    "    #return(IDs)\n",
    "    #sort the IDs\n",
    "    #IDs_sorted = IDs[order('kegg'),]\n",
    "    #return(IDs_sorted)\n",
    "    #return(IDs_sorted)\n",
    "    #return(avector_sorted_characters)\n",
    "    #return(avector_sorted)\n",
    "    #background_vector = as.vector(background_gene_set_df['GeneID'])\n",
    "    #KEGG over-representation test - hochberg p adjust\n",
    "    enrichment = enrichKEGG(gene=genes_list,organism = 'ath', pAdjustMethod='BH',pvalueCutoff=0.05,keyType='ncbi-geneid',minGSSize = 1,maxGSSize = 900,universe=sorted_background)\n",
    "    return(list(enrichment,genes_list))\n",
    "}"
   ]
  },
  {
   "cell_type": "code",
   "execution_count": 106,
   "metadata": {},
   "outputs": [
    {
     "name": "stderr",
     "output_type": "stream",
     "text": [
      "'select()' returned 1:1 mapping between keys and columns\n",
      "\n",
      "Warning message in bitr(background_genes, fromType = \"ENTREZID\", toType = \"TAIR\", :\n",
      "“0.01% of input gene IDs are fail to map...”\n",
      "'select()' returned 1:1 mapping between keys and columns\n",
      "\n"
     ]
    }
   ],
   "source": [
    "output = KEGG_GSEA(mapped_NCBI_geneset,background_gene_set,gene_type='constitutive')\n",
    "constitutive_enrichment=output[1]\n",
    "constitutive_genes=output[2]"
   ]
  },
  {
   "cell_type": "code",
   "execution_count": 107,
   "metadata": {},
   "outputs": [
    {
     "data": {
      "text/plain": [
       "[[1]]\n",
       "#\n",
       "# over-representation test\n",
       "#\n",
       "#...@organism \t ath \n",
       "#...@ontology \t KEGG \n",
       "#...@keytype \t ncbi-geneid \n",
       "#...@gene \t chr [1:900] \"844389\" \"844345\" \"844339\" \"844334\" \"844303\" \"844250\" \"844216\" ...\n",
       "#...pvalues adjusted by 'BH' with cutoff <0.05 \n",
       "#...0 enriched terms found\n",
       "#...Citation\n",
       "  Guangchuang Yu, Li-Gen Wang, Yanyan Han and Qing-Yu He.\n",
       "  clusterProfiler: an R package for comparing biological themes among\n",
       "  gene clusters. OMICS: A Journal of Integrative Biology\n",
       "  2012, 16(5):284-287 \n",
       "\n"
      ]
     },
     "metadata": {},
     "output_type": "display_data"
    }
   ],
   "source": [
    "constitutive_enrichment"
   ]
  },
  {
   "cell_type": "code",
   "execution_count": null,
   "metadata": {},
   "outputs": [],
   "source": [
    "#no enriched constitutive genes"
   ]
  },
  {
   "cell_type": "code",
   "execution_count": 108,
   "metadata": {},
   "outputs": [
    {
     "name": "stderr",
     "output_type": "stream",
     "text": [
      "'select()' returned 1:1 mapping between keys and columns\n",
      "\n",
      "Warning message in bitr(background_genes, fromType = \"ENTREZID\", toType = \"TAIR\", :\n",
      "“0.01% of input gene IDs are fail to map...”\n",
      "'select()' returned 1:1 mapping between keys and columns\n",
      "\n"
     ]
    }
   ],
   "source": [
    "output2 = KEGG_GSEA(mapped_NCBI_geneset,background_gene_set,gene_type='variable')\n",
    "variable_enrichment=output2[1]\n",
    "variable_genes=output2[2]"
   ]
  },
  {
   "cell_type": "code",
   "execution_count": 109,
   "metadata": {},
   "outputs": [
    {
     "data": {
      "text/plain": [
       "[[1]]\n",
       "#\n",
       "# over-representation test\n",
       "#\n",
       "#...@organism \t ath \n",
       "#...@ontology \t KEGG \n",
       "#...@keytype \t ncbi-geneid \n",
       "#...@gene \t chr [1:900] \"844389\" \"844345\" \"844339\" \"844334\" \"844303\" \"844250\" \"844216\" ...\n",
       "#...pvalues adjusted by 'BH' with cutoff <0.05 \n",
       "#...0 enriched terms found\n",
       "#...Citation\n",
       "  Guangchuang Yu, Li-Gen Wang, Yanyan Han and Qing-Yu He.\n",
       "  clusterProfiler: an R package for comparing biological themes among\n",
       "  gene clusters. OMICS: A Journal of Integrative Biology\n",
       "  2012, 16(5):284-287 \n",
       "\n"
      ]
     },
     "metadata": {},
     "output_type": "display_data"
    }
   ],
   "source": [
    "variable_enrichment"
   ]
  },
  {
   "cell_type": "code",
   "execution_count": null,
   "metadata": {},
   "outputs": [],
   "source": [
    "# # Produce the native KEGG plot (PNG)\n",
    "# dme <- pathview(gene.data=constitutive_genes, pathway.id=\"dme04080\", species = kegg_organism, gene.idtype=gene.idtype.list[3])\n",
    "\n",
    "# # Produce a different plot (PDF) (not displayed here)\n",
    "# dme <- pathview(gene.data=gene_list, pathway.id=\"dme04080\", species = kegg_organism, gene.idtype=gene.idtype.list[3], kegg.native = F)\n",
    "\n",
    "# knitr::include_graphics(\"dme04080.pathview.png\")"
   ]
  }
 ],
 "metadata": {
  "kernelspec": {
   "display_name": "R [conda env:PromoterArchitecturePipeline] *",
   "language": "R",
   "name": "conda-env-PromoterArchitecturePipeline-r"
  },
  "language_info": {
   "codemirror_mode": "r",
   "file_extension": ".r",
   "mimetype": "text/x-r-source",
   "name": "R",
   "pygments_lexer": "r",
   "version": "3.6.3"
  }
 },
 "nbformat": 4,
 "nbformat_minor": 4
}
