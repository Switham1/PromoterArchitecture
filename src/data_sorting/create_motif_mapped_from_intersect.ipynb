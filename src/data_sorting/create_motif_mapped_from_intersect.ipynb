{
 "cells": [
  {
   "cell_type": "code",
   "execution_count": null,
   "metadata": {},
   "outputs": [],
   "source": [
    "#Create a shortened promoter motifs_mapped file in correct format for the TF_diversity_plots_{shortenedpromoter}.py script"
   ]
  },
  {
   "cell_type": "code",
   "execution_count": 1,
   "metadata": {},
   "outputs": [],
   "source": [
    "from pybedtools import BedTool\n",
    "import pandas as pd\n",
    "import argparse\n",
    "import io"
   ]
  },
  {
   "cell_type": "code",
   "execution_count": null,
   "metadata": {},
   "outputs": [],
   "source": [
    "parser = argparse.ArgumentParser(description='motifs_mapped_intersect')\n",
    "parser.add_argument('promoter_bed', type=str, help='Input location of shortened promoter file')\n",
    "parser.add_argument('mapped_motif_bed', type=str, help='Input location of promoters mapped motif bed')\n",
    "parser.add_argument('output_motifs_bed', type=str, help='Output location of mapped_motifs bed')\n",
    "args = parser.parse_args()"
   ]
  },
  {
   "cell_type": "code",
   "execution_count": 2,
   "metadata": {},
   "outputs": [],
   "source": [
    "def merge_windows_motifs(promoter_bed,mapped_motif_bed,output_file):\n",
    "    \"\"\"perform bedtools intersect on the two dfs\"\"\"\n",
    "    promoters = BedTool(promoter_bed)\n",
    "    motifs = mapped_motif_bed\n",
    "    #-wao =Write the original A and B entries plus the number of base pairs of overlap between the two features.\n",
    "    #However, A features w/o overlap are also reported with a NULL B feature and overlap = 0\n",
    "    intersect = windows.intersect(motifs, wao=True)\n",
    "    #Write to output_buffer\n",
    "    tempbuffer = io.StringIO()              \n",
    "    tempbuffer.write(str(intersect))    \n",
    "    #go back to beginning of the buffer\n",
    "    tempbuffer.seek(0)\n",
    "    #read buffer as pandas df\n",
    "    df = pd.read_table(tempbuffer, sep='\\t', header=None)\n",
    "    cols = ['chr', 'start', 'stop', 'promoter_AGI','dot1','strand','source','type','dot2','attributes',\n",
    "            'motif_chr','motif_start','motif_stop','name_rep', 'score', 'motif_strand',\n",
    "            'promoter_AGI2', 'p-value', 'q-value', 'matched_sequence', 'TF_name', 'TF_family', 'TF_AGI','bp_overlap']\n",
    "    df.columns = cols\n",
    "#     #filter out unwanted columns\n",
    "#     df=df[['motif_chr','motif_start','motif_stop','name_rep', 'score', 'motif_strand',\n",
    "#             'promoter_AGI2', 'p-value', 'q-value', 'matched_sequence', 'TF_name', 'TF_family', 'TF_AGI']]\n",
    "    #write file\n",
    "    df.to_csv(output_file, sep='\\t', index=False, header=None)\n"
   ]
  },
  {
   "cell_type": "code",
   "execution_count": null,
   "metadata": {},
   "outputs": [],
   "source": [
    "#merge windows with motifs and create output bed file\n",
    "merge_windows_motifs(args.promoter_bed,args.mapped_motif_bed,args.output_motifs_bed)"
   ]
  }
 ],
 "metadata": {
  "kernelspec": {
   "display_name": "Python [conda env:PromoterArchitecturePipeline] *",
   "language": "python",
   "name": "conda-env-PromoterArchitecturePipeline-py"
  },
  "language_info": {
   "codemirror_mode": {
    "name": "ipython",
    "version": 3
   },
   "file_extension": ".py",
   "mimetype": "text/x-python",
   "name": "python",
   "nbconvert_exporter": "python",
   "pygments_lexer": "ipython3",
   "version": "3.7.6"
  }
 },
 "nbformat": 4,
 "nbformat_minor": 4
}
