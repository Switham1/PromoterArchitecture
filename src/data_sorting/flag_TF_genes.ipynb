{
 "cells": [
  {
   "cell_type": "code",
   "execution_count": 4,
   "metadata": {},
   "outputs": [],
   "source": [
    "import pandas as pd"
   ]
  },
  {
   "cell_type": "code",
   "execution_count": null,
   "metadata": {},
   "outputs": [],
   "source": [
    "# parser.add_argument('file_names', type=str, help='Name of folder and filenames for the promoters extracted')\n",
    "# parser.add_argument('gene_categories', type=str, help='Input location of Czechowski gene categories text file')\n",
    "# parser.add_argument('TF_list', type=str, help='Input location of Arabidopsis transcription factor list')\n",
    "# parser.add_argument('output', type=str, help='Output location of flagged TF genes')"
   ]
  },
  {
   "cell_type": "code",
   "execution_count": 10,
   "metadata": {},
   "outputs": [],
   "source": [
    "#genes_of_interest = '../../data/genomes/housekeeping_variable_list.txt'\n",
    "file_names = 'non-overlapping_includingbidirectional_all_genes_newannotation'\n",
    "genes_of_interest = f'../../data/output/{file_names}/genes/promoters_5UTR_czechowski_constitutive_variable_random.txt'\n",
    "#plant TFDB v. 5.0 Arabidopsis thaliana TF list\n",
    "TF_list = '../../data/genes/Ath_TF_list.txt'\n",
    "output = f'../../data/output/{file_names}/genes/promoters_5UTR_czechowski_constitutive_variable_random_variable_TFs_only.txt'"
   ]
  },
  {
   "cell_type": "code",
   "execution_count": 11,
   "metadata": {},
   "outputs": [],
   "source": [
    "def flagTFs(genes_of_interest, TF_list, output):\n",
    "    \"\"\"Function to export a file with all genes which are TFs from a list of genes of interest\"\"\"\n",
    "    all_genes = pd.read_table(genes_of_interest, sep='\\t', header=None, names=['Gene_ID','gene_type'])\n",
    "    TFs = pd.read_table(TF_list, sep='\\t', header=1)\n",
    "    #merge the dfs so that only TFs are included    \n",
    "    TFs_of_interest = pd.merge(all_genes, TFs, on='Gene_ID')\n",
    "    #select only columns of interest\n",
    "\n",
    "    TFs_of_interest = TFs_of_interest[['Gene_ID', 'gene_type','Family']]\n",
    "    #drop duplicates\n",
    "    TFs_of_interest = TFs_of_interest.drop_duplicates('Gene_ID')\n",
    "    #make output file containing only genes from genes of interest which are transcription factors\n",
    "    TFs_of_interest.to_csv(output, sep='\\t', index=False)"
   ]
  },
  {
   "cell_type": "code",
   "execution_count": 12,
   "metadata": {},
   "outputs": [],
   "source": [
    "flagTFs(genes_of_interest,TF_list,output)"
   ]
  },
  {
   "cell_type": "code",
   "execution_count": null,
   "metadata": {},
   "outputs": [],
   "source": []
  }
 ],
 "metadata": {
  "kernelspec": {
   "display_name": "Python [conda env:PromoterArchitecturePipeline] *",
   "language": "python",
   "name": "conda-env-PromoterArchitecturePipeline-py"
  },
  "language_info": {
   "codemirror_mode": {
    "name": "ipython",
    "version": 3
   },
   "file_extension": ".py",
   "mimetype": "text/x-python",
   "name": "python",
   "nbconvert_exporter": "python",
   "pygments_lexer": "ipython3",
   "version": "3.7.6"
  }
 },
 "nbformat": 4,
 "nbformat_minor": 4
}
