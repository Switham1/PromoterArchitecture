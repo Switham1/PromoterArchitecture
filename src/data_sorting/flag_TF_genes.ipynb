{
 "cells": [
  {
   "cell_type": "code",
   "execution_count": 1,
   "metadata": {},
   "outputs": [],
   "source": [
    "import pandas as pd"
   ]
  },
  {
   "cell_type": "code",
   "execution_count": 33,
   "metadata": {},
   "outputs": [],
   "source": [
    "genes_of_interest = '../../data/genomes/housekeeping_variable_list.txt'\n",
    "#plant TFDB v. 5.0 Arabidopsis thaliana TF list\n",
    "TF_list = '../../data/genes/Ath_TF_list.txt'\n",
    "output = '../../data/genes/housekeeping_variable_TFs_only.txt'"
   ]
  },
  {
   "cell_type": "code",
   "execution_count": 36,
   "metadata": {},
   "outputs": [],
   "source": [
    "def flagTFs(genes_of_interest, TF_list, output):\n",
    "    \"\"\"Function to export a file with all genes which are TFs from a list of genes of interest\"\"\"\n",
    "    all_genes = pd.read_table(genes_of_interest, sep='\\t', header=None, names=['Gene_ID'])\n",
    "    TFs = pd.read_table(TF_list, sep='\\t', header=1)\n",
    "    #merge the dfs so that only TFs are included    \n",
    "    TFs_of_interest = pd.merge(all_genes, TFs, on='Gene_ID')\n",
    "    #make output file containing only genes from genes of interest which are transcription factors\n",
    "    TFs_of_interest.to_csv(output, encoding='utf-8', index=False)"
   ]
  },
  {
   "cell_type": "code",
   "execution_count": 37,
   "metadata": {},
   "outputs": [],
   "source": [
    "flagTFs(genes_of_interest,TF_list,output)"
   ]
  },
  {
   "cell_type": "code",
   "execution_count": null,
   "metadata": {},
   "outputs": [],
   "source": []
  }
 ],
 "metadata": {
  "kernelspec": {
   "display_name": "Python [conda env:PromoterArchitecturePipeline] *",
   "language": "python",
   "name": "conda-env-PromoterArchitecturePipeline-py"
  },
  "language_info": {
   "codemirror_mode": {
    "name": "ipython",
    "version": 3
   },
   "file_extension": ".py",
   "mimetype": "text/x-python",
   "name": "python",
   "nbconvert_exporter": "python",
   "pygments_lexer": "ipython3",
   "version": "3.6.7"
  }
 },
 "nbformat": 4,
 "nbformat_minor": 4
}
