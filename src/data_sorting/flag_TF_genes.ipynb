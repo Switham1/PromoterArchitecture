{
 "cells": [
  {
   "cell_type": "code",
   "execution_count": 13,
   "metadata": {},
   "outputs": [],
   "source": [
    "import pandas as pd"
   ]
  },
  {
   "cell_type": "code",
   "execution_count": 14,
   "metadata": {},
   "outputs": [],
   "source": [
    "# parser.add_argument('file_names', type=str, help='Name of folder and filenames for the promoters extracted')\n",
    "# parser.add_argument('gene_categories', type=str, help='Input location of Czechowski gene categories text file')\n",
    "# parser.add_argument('TF_list', type=str, help='Input location of Arabidopsis transcription factor list')\n",
    "# parser.add_argument('output', type=str, help='Output location of flagged TF genes')"
   ]
  },
  {
   "cell_type": "code",
   "execution_count": 15,
   "metadata": {},
   "outputs": [],
   "source": [
    "#genes_of_interest = '../../data/genomes/housekeeping_variable_list.txt'\n",
    "file_names = 'non-overlapping_includingbidirectional_all_genes_newannotation'\n",
    "genes_of_interest = f'../../data/output/{file_names}/genes/promoters_5UTR_czechowski_constitutive_variable_random.txt'\n",
    "#plant TFDB v. 5.0 Arabidopsis thaliana TF list\n",
    "TF_list = '../../data/genes/Ath_TF_list.txt'\n",
    "output = f'../../data/output/{file_names}/genes/promoters_5UTR_czechowski_constitutive_variable_random_variable_TFs_only.txt'\n",
    "#all genes expression/CVs location\n",
    "all_genes= f'../../data/output/{file_names}/genes/promoters_5UTR_czechowski_allfilteredgenes.txt'\n"
   ]
  },
  {
   "cell_type": "code",
   "execution_count": 16,
   "metadata": {},
   "outputs": [],
   "source": [
    "def flagTFs(genes_of_interest, TF_list, all_genes, output):\n",
    "    \"\"\"Function to export a file with all genes which are TFs from a list of genes of interest\"\"\"\n",
    "    genes_of_interest_df = pd.read_table(genes_of_interest, sep='\\t', header=None, names=['Gene_ID','gene_type'])\n",
    "    TFs = pd.read_table(TF_list, sep='\\t', header=1)\n",
    "    #merge the dfs so that only TFs are included    \n",
    "    TFs_of_interest = pd.merge(genes_of_interest_df, TFs, on='Gene_ID')\n",
    "    \n",
    "    #Get the CV and expression data\n",
    "    all_genes_df = pd.read_table(all_genes, sep='\\t', header=0)\n",
    "    #merge with TFs_of_interest\n",
    "    TFs_of_interest = pd.merge(TFs_of_interest, all_genes_df, how='left',left_on='Gene_ID',right_on='AGI')\n",
    "    \n",
    "    \n",
    "    #select only columns of interest\n",
    "\n",
    "    TFs_of_interest = TFs_of_interest[['Gene_ID', 'gene_type','Family','expression_mean','expression_CV','constitutive_in_araport11']]\n",
    "    #drop duplicates\n",
    "    TFs_of_interest = TFs_of_interest.drop_duplicates('Gene_ID')\n",
    "    #make output file containing only genes from genes of interest which are transcription factors\n",
    "    TFs_of_interest.to_csv(output, sep='\\t', index=False)"
   ]
  },
  {
   "cell_type": "code",
   "execution_count": 17,
   "metadata": {},
   "outputs": [],
   "source": [
    "flagTFs(genes_of_interest,TF_list,all_genes,output)"
   ]
  },
  {
   "cell_type": "code",
   "execution_count": null,
   "metadata": {},
   "outputs": [],
   "source": []
  }
 ],
 "metadata": {
  "kernelspec": {
   "display_name": "Python [conda env:PromoterArchitecturePipeline] *",
   "language": "python",
   "name": "conda-env-PromoterArchitecturePipeline-py"
  },
  "language_info": {
   "codemirror_mode": {
    "name": "ipython",
    "version": 3
   },
   "file_extension": ".py",
   "mimetype": "text/x-python",
   "name": "python",
   "nbconvert_exporter": "python",
   "pygments_lexer": "ipython3",
   "version": "3.7.8"
  }
 },
 "nbformat": 4,
 "nbformat_minor": 4
}
