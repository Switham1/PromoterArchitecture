{
 "cells": [
  {
   "cell_type": "code",
   "execution_count": 53,
   "metadata": {},
   "outputs": [],
   "source": [
    "import pandas as pd\n",
    "#import argparse\n",
    "import os"
   ]
  },
  {
   "cell_type": "code",
   "execution_count": 54,
   "metadata": {},
   "outputs": [],
   "source": [
    "\n",
    "file_names = 'non-overlapping_includingbidirectional_all_genes_newannotation'\n",
    "Schmid_rankedtau = f'../../data/output/{file_names}/genes/tissue_specific/promoters_5UTR_schmid_allfilteredgenes_TAU.txt'\n",
    "promoter_bedfile = f'../../data/output/{file_names}/FIMO/promoters_5UTR.bed'\n",
    "promoterno5UTR_bedfile = f'../../data/output/{file_names}/promoters.gff3'\n",
    "Schmid_gene_categories = f'../../data/output/{file_names}/genes/promoters_5UTR_schmid_tissuespecific_variable_random_300.txt'\n",
    "no_of_genes = 300\n",
    "promoter_mapped_motifs = f'../../data/output/{file_names}/FIMO/promoters_5UTR_motifs_mapped.bed'\n",
    "promoters_filtered_contain_motifs = f'../../data/output/{file_names}/FIMO/promoters_5UTR_filtered_contain_motifs.bed'\n",
    "promoters_gff3 = f'../../data/output/{file_names}/promoters.gff3'\n",
    "Schmid_allgenes = f'../../data/output/{file_names}/genes/promoters_5UTR_schmid_allfilteredgenes.txt'"
   ]
  },
  {
   "cell_type": "code",
   "execution_count": 55,
   "metadata": {},
   "outputs": [],
   "source": [
    "def remove_proms_no_TFBS(promoter_bedfile, promoter_mapped_motifs,promoters_filtered_contain_motifs):\n",
    "    \"\"\"remove promoters which had no TFBSs found within them after filtering the FIMO output. Create output file of these\"\"\"\n",
    "    promoters = pd.read_table(promoter_bedfile, sep='\\t', header=None)\n",
    "    col = ['chr','start','stop','promoter_AGI','dot1', 'strand','source','type','dot2','attributes']\n",
    "    promoters.columns = col\n",
    "    mapped_motifs = pd.read_table(promoter_mapped_motifs, sep='\\t', header=None)\n",
    "    col2 = ['chr', 'start', 'stop', 'name_rep', 'score', 'strand', 'promoter_AGI', 'p-value', 'q-value', 'matched_sequence', 'TF_name', 'TF_family', 'TF_AGI']\n",
    "    mapped_motifs.columns = col2\n",
    "\n",
    "    merged = pd.merge(promoters,mapped_motifs, on='promoter_AGI', how='left',  suffixes=['', '_y'])\n",
    "    #remove NaNs in TF_AGI column\n",
    "    filtered_df = merged[merged.TF_AGI.notnull()]\n",
    "    #reduce columns\n",
    "    filtered_df = filtered_df[col]\n",
    "    #filter duplicates\n",
    "    idx = filtered_df.promoter_AGI.drop_duplicates().index\n",
    "    #this will return filtered df\n",
    "    no_dups = filtered_df.loc[idx,:]\n",
    "    no_dups.to_csv(promoters_filtered_contain_motifs, sep='\\t', header=None, index=False)"
   ]
  },
  {
   "cell_type": "code",
   "execution_count": 56,
   "metadata": {},
   "outputs": [],
   "source": [
    "def remove_only5UTR(promoter5UTR_bedfile, promoters_gff3):\n",
    "    \"\"\"remove genes where only the Araport11 5'UTR is present due to the promoter overlapping other genes\"\"\"\n",
    "    #read in df\n",
    "    promoter5UTR = pd.read_table(promoter5UTR_bedfile,sep='\\t', header=None)\n",
    "    col = ['chr','start','stop','AGI','dot1', 'strand','source','type','dot2','attributes']\n",
    "    promoter5UTR.columns = col\n",
    "    \n",
    "    # read in promoter only gff3\n",
    "    promoter_no_5UTR_df = pd.read_table(promoters_gff3, sep='\\t', header=None)\n",
    "    col = ['chr', 'source', 'type', 'start','stop', 'dot1','strand','dot2','attributes']\n",
    "    promoter_no_5UTR_df.columns = col\n",
    "    #add AGI column\n",
    "    promoter_no_5UTR_df_agi = promoter_no_5UTR_df.assign(AGI=promoter_no_5UTR_df.attributes.str.extract(r'ID=gene:(.*?)\\;'))\n",
    "    \n",
    "    #filter promoters in promoter5UTR but not in promoter_no_5UTR_df_agi\n",
    "    filtered = promoter5UTR[promoter5UTR.AGI.isin(promoter_no_5UTR_df_agi.AGI)]    \n",
    "    \n",
    "    #rename promoter5UTR_bedfile as including genes with only non-overlapping 5'UTRs\n",
    "    \n",
    "    oldextension = os.path.splitext(promoter5UTR_bedfile)[1]\n",
    "    oldname = os.path.splitext(promoter5UTR_bedfile)[0]\n",
    "    os.rename(promoter5UTR_bedfile, oldname + '_incl_only5UTR' + oldextension)\n",
    "    \n",
    "    #make a new file called the same name as promoter5UTR_bedfile\n",
    "    filtered.to_csv(promoter5UTR_bedfile,sep='\\t', header=None, index=False) "
   ]
  },
  {
   "cell_type": "code",
   "execution_count": 57,
   "metadata": {},
   "outputs": [],
   "source": [
    "def filter_genes_schmid(promoter_bed, select_genes_file):\n",
    "    \"\"\"filter out genes from the microarray data which aren't in the promoter_bed\"\"\"\n",
    "    select_genes = pd.read_table(select_genes_file, sep='\\t', header=0)\n",
    "    cols = ['AGI','tau']\n",
    "    select_genes.columns = cols\n",
    "    #make AGI capitalised\n",
    "    select_genes.AGI = select_genes.AGI.str.upper()\n",
    "    \n",
    "    promoters = pd.read_table(promoter_bed, sep='\\t', header=None)\n",
    "    col = ['chr','start','stop','AGI','dot1', 'strand','source','type','dot2','attributes']\n",
    "    promoters.columns = col\n",
    "    merged = pd.merge(promoters, select_genes, on='AGI', how='left')\n",
    "    #remove NaNs in tau column\n",
    "    filtered_df = merged[merged.tau.notnull()].copy()\n",
    "    \n",
    "    #sort by chr and start \n",
    "    filtered_df.sort_values(['chr','start'], inplace=True, ignore_index=True) \n",
    "    \n",
    "    #save df\n",
    "    filtered_df.to_csv(Schmid_allgenes,sep='\\t',columns=filtered_df.columns, index=False)\n",
    "    \n",
    "    #sort by tau value\n",
    "    filtered_df.sort_values('tau', inplace=True, ignore_index=True) \n",
    "    \n",
    "    return filtered_df"
   ]
  },
  {
   "cell_type": "code",
   "execution_count": 58,
   "metadata": {},
   "outputs": [],
   "source": [
    "def subSet_ontau(in_df, out_dir, no_of_genes):\n",
    "    '''\n",
    "    Extract the constitutive, tissue_specific, and control subsets based on tau values\n",
    "    '''\n",
    "    #filtering based on presence in the Araport11 annotation, define the first\n",
    "    #n rows as the constitutive set and add label\n",
    "    constitutive          = in_df[0:no_of_genes].copy()\n",
    "    constitutive['state'] = 'constitutive'\n",
    "\n",
    "    #define the last n rows as the variable set and add label\n",
    "    variable          = in_df[-no_of_genes:].copy()\n",
    "    variable['state'] = 'tissue_specific'\n",
    "\n",
    "    #extract the rest of the rows as the control search space\n",
    "    mid_range    = in_df[(no_of_genes+1):-(no_of_genes+1)].copy()\n",
    "\n",
    "    #create 10 labelled bins\n",
    "    mid_range['bins'] = pd.Series(pd.qcut(mid_range['tau'], q = 10, precision = 2))\n",
    "\n",
    "    #extract 10 random rows from these bins and label as the control set\n",
    "    sample = no_of_genes/10\n",
    "    sample_integar = int(str(sample).replace('.0', '')) #convert sample to an integar\n",
    "    samples_from_bins = mid_range.groupby('bins').apply(pd.DataFrame.sample, sample_integar, random_state = 2)\n",
    "    samples_from_bins['state'] = 'control'\n",
    "\n",
    "    #concatenate and write as output\n",
    "    output_set = pd.concat([constitutive[['AGI', 'state']], variable[['AGI', 'state']], samples_from_bins[['AGI', 'state']]], ignore_index = True)\n",
    "    output_set.to_csv(out_dir, sep = '\\t', index = False, header=False)\n",
    "    \n",
    "    #function from expressionVar_subsets_plot.py\n",
    "    #__author__ = \"Will Nash\"\n",
    "    # __copyright__ = \"Copyright 2020, The Earlham Institute\"\n",
    "    # __credits__ = [\"Will Nash\", \"Wilfried Haerty\"]\n",
    "    # __license__ = \"GPL\"\n",
    "    # __version__ = \"1.0\"\n",
    "    # __maintainer__ = \"Will Nash\"\n",
    "    # __email__ = \"will.nash@earlham.ac.uk\"\n",
    "    # __status__ = \"Testing\"\n",
    "    #__modified_by__ \"Sam Witham\""
   ]
  },
  {
   "cell_type": "code",
   "execution_count": 59,
   "metadata": {},
   "outputs": [
    {
     "name": "stdout",
     "output_type": "stream",
     "text": [
      "Directory  ../../data/output/non-overlapping_includingbidirectional_all_genes_newannotation/genes  already exists\n"
     ]
    }
   ],
   "source": [
    "#make directory for the output files to be exported to\n",
    "#dirName = f'{args.directory_path}/data/output/{args.file_names}'\n",
    "dirName = f'../../data/output/{file_names}/genes'\n",
    "try:\n",
    "    # Create target Directory\n",
    "    os.mkdir(dirName)\n",
    "    print(\"Directory \" , dirName ,  \" created\") \n",
    "except FileExistsError:\n",
    "    print(\"Directory \" , dirName ,  \" already exists\")"
   ]
  },
  {
   "cell_type": "code",
   "execution_count": 60,
   "metadata": {},
   "outputs": [],
   "source": [
    "remove_only5UTR(promoter_bedfile, promoters_gff3)    "
   ]
  },
  {
   "cell_type": "code",
   "execution_count": 61,
   "metadata": {},
   "outputs": [],
   "source": [
    "remove_proms_no_TFBS(promoter_bedfile,promoter_mapped_motifs,promoters_filtered_contain_motifs)\n"
   ]
  },
  {
   "cell_type": "code",
   "execution_count": 62,
   "metadata": {},
   "outputs": [],
   "source": [
    "filtered_schmid = filter_genes_schmid(promoters_filtered_contain_motifs,Schmid_rankedtau)\n"
   ]
  },
  {
   "cell_type": "code",
   "execution_count": 64,
   "metadata": {},
   "outputs": [],
   "source": [
    "subSet_ontau(filtered_schmid,Schmid_gene_categories,no_of_genes)"
   ]
  },
  {
   "cell_type": "code",
   "execution_count": null,
   "metadata": {},
   "outputs": [],
   "source": []
  }
 ],
 "metadata": {
  "kernelspec": {
   "display_name": "Python [conda env:PromoterArchitecturePipeline] *",
   "language": "python",
   "name": "conda-env-PromoterArchitecturePipeline-py"
  },
  "language_info": {
   "codemirror_mode": {
    "name": "ipython",
    "version": 3
   },
   "file_extension": ".py",
   "mimetype": "text/x-python",
   "name": "python",
   "nbconvert_exporter": "python",
   "pygments_lexer": "ipython3",
   "version": "3.7.8"
  }
 },
 "nbformat": 4,
 "nbformat_minor": 4
}
