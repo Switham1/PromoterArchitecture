{
 "cells": [
  {
   "cell_type": "code",
   "execution_count": 24,
   "metadata": {},
   "outputs": [],
   "source": [
    "from pybedtools import BedTool\n",
    "import pandas as pd\n",
    "import os\n",
    "import argparse"
   ]
  },
  {
   "cell_type": "code",
   "execution_count": 7,
   "metadata": {},
   "outputs": [
    {
     "ename": "NameError",
     "evalue": "name 'argparse' is not defined",
     "output_type": "error",
     "traceback": [
      "\u001b[0;31m---------------------------------------------------------------------------\u001b[0m",
      "\u001b[0;31mNameError\u001b[0m                                 Traceback (most recent call last)",
      "\u001b[0;32m<ipython-input-7-2f588ddad939>\u001b[0m in \u001b[0;36m<module>\u001b[0;34m\u001b[0m\n\u001b[0;32m----> 1\u001b[0;31m \u001b[0mparser\u001b[0m \u001b[0;34m=\u001b[0m \u001b[0margparse\u001b[0m\u001b[0;34m.\u001b[0m\u001b[0mArgumentParser\u001b[0m\u001b[0;34m(\u001b[0m\u001b[0mdescription\u001b[0m\u001b[0;34m=\u001b[0m\u001b[0;34m'extract_promoter_openchrom'\u001b[0m\u001b[0;34m)\u001b[0m\u001b[0;34m\u001b[0m\u001b[0;34m\u001b[0m\u001b[0m\n\u001b[0m\u001b[1;32m      2\u001b[0m \u001b[0mparser\u001b[0m\u001b[0;34m.\u001b[0m\u001b[0madd_argument\u001b[0m\u001b[0;34m(\u001b[0m\u001b[0;34m'directory_path'\u001b[0m\u001b[0;34m,\u001b[0m \u001b[0mtype\u001b[0m\u001b[0;34m=\u001b[0m\u001b[0mstr\u001b[0m\u001b[0;34m,\u001b[0m \u001b[0mhelp\u001b[0m\u001b[0;34m=\u001b[0m\u001b[0;34m'Location of base directory'\u001b[0m\u001b[0;34m)\u001b[0m\u001b[0;34m\u001b[0m\u001b[0;34m\u001b[0m\u001b[0m\n\u001b[1;32m      3\u001b[0m \u001b[0mparser\u001b[0m\u001b[0;34m.\u001b[0m\u001b[0madd_argument\u001b[0m\u001b[0;34m(\u001b[0m\u001b[0;34m'file_names'\u001b[0m\u001b[0;34m,\u001b[0m \u001b[0mtype\u001b[0m\u001b[0;34m=\u001b[0m\u001b[0mstr\u001b[0m\u001b[0;34m,\u001b[0m \u001b[0mhelp\u001b[0m\u001b[0;34m=\u001b[0m\u001b[0;34m'Name of folder and filenames for the promoters extracted'\u001b[0m\u001b[0;34m)\u001b[0m\u001b[0;34m\u001b[0m\u001b[0;34m\u001b[0m\u001b[0m\n\u001b[1;32m      4\u001b[0m \u001b[0margs\u001b[0m \u001b[0;34m=\u001b[0m \u001b[0mparser\u001b[0m\u001b[0;34m.\u001b[0m\u001b[0mparse_args\u001b[0m\u001b[0;34m(\u001b[0m\u001b[0;34m)\u001b[0m\u001b[0;34m\u001b[0m\u001b[0;34m\u001b[0m\u001b[0m\n",
      "\u001b[0;31mNameError\u001b[0m: name 'argparse' is not defined"
     ]
    }
   ],
   "source": [
    "parser = argparse.ArgumentParser(description='extract_promoter_openchrom')\n",
    "parser.add_argument('directory_path', type=str, help='Location of base directory')\n",
    "parser.add_argument('file_names', type=str, help='Name of folder and filenames for the promoters extracted')\n",
    "args = parser.parse_args()"
   ]
  },
  {
   "cell_type": "code",
   "execution_count": 37,
   "metadata": {},
   "outputs": [],
   "source": [
    "def open_chromatin(promoter_bed, chromatin_bed, output_intersect_file):\n",
    "    \"\"\"Function to make chromatin intersect with promoters\"\"\"\n",
    "    \n",
    "    all_proms = BedTool(promoter_bed) #read in files using BedTools\n",
    "    open_chrom = BedTool(chromatin_bed)\n",
    "    #report chromosome position of overlapping feature, along with the promoter which overlaps it (only reports the overlapping nucleotides, not the whole promoter length. Can use u=True to get whole promoter length)\n",
    "    #f, the minimum overlap as fraction of A. F, nucleotide fraction of B (genes) that need to be overlapping with A (promoters)\n",
    "    #wa, Write the original entry in A for each overlap.\n",
    "    #wo,  Write the original A and B entries plus the number of base pairs of overlap between the two features. Only A features with overlap are reported. \n",
    "    #u, write original A entry only once even if more than one overlap\n",
    "    intersect = all_proms.intersect(open_chrom, wo=True) #could add u=True which indicates we want to see the promoters that overlap features in the genome\n",
    "    #Write to output_file\n",
    "    with open(output_intersect_file, 'w') as output:\n",
    "        #Each line in the file contains gff entry a and gff entry b that it overlaps plus the number of bp in the overlap so 19 columns\n",
    "        output.write(str(intersect))\n",
    "     #read in intersect bed file\n",
    "#     proms_intersect_open_chrom = pd.read_table(output_file, sep='\\t', header=0)\n",
    "#     cols = ['chrA', 'startA', 'stopA', 'promoter_AGI','dot1','strand','source','type','dot2','attributes','chrB', 'startB','stopB','bp_overlap']\n",
    "#     proms_intersect_open_chrom.columns = cols\n",
    "    #add empty openchrom_distance_from_ATG column\n",
    "    \n",
    "#     for i, v in proms_intersect_open_chrom.iterrows():\n",
    "#         #if positive strand feature A\n",
    "#         if proms_intersect_open_chrom.loc[i,'strand'] == '+':\n",
    "#             #if end of open chromatin is downstream or equal to ATG, promoter start becomes openchrom start\n",
    "#             if overlapping_proms.loc[i,'stopA'] <=  overlapping_proms.loc[i, 'stopB']:\n",
    "#                 overlapping_proms.loc[i,'startA'] = overlapping_proms.loc[i,'startB']\n",
    "#             #else if upstream and chromatin stop is after promoter start, add distance from chromatin stop to ATG\n",
    "#             elif overlapping_proms.loc[i,'startA'] <=  overlapping_proms.loc[i, 'stopB']:\n",
    "#                 overlapping_proms.loc[i,'openchrom_distance_from_ATG'] = overlapping_proms.loc[i,'stopA'] - overlapping_proms.loc[i, 'stopB']                 \n",
    "                \n",
    "#         elif overlapping_proms.loc[i,'strand'] == '-':            \n",
    "#             #if end of open chromatin is downstream or equal to ATG, distance is 0\n",
    "#             if overlapping_proms.loc[i,'startA'] >=  overlapping_proms.loc[i, 'startB']:\n",
    "#                 overlapping_proms.loc[i,'openchrom_distance_from_ATG'] = 0\n",
    "#             #else if upstream and chromatin stop is after promoter start, add distance from chromatin stop to ATG  \n",
    "#             elif overlapping_proms.loc[i,'stopA'] >=  overlapping_proms.loc[i, 'startB']:\n",
    "#                 overlapping_proms.loc[i,'openchrom_distance_from_ATG'] =  overlapping_proms.loc[i, 'startB'] - overlapping_proms.loc[i,'startB']\n",
    "    "
   ]
  },
  {
   "cell_type": "code",
   "execution_count": null,
   "metadata": {},
   "outputs": [],
   "source": []
  },
  {
   "cell_type": "code",
   "execution_count": 32,
   "metadata": {},
   "outputs": [],
   "source": [
    "directory_path='/home/witham/Documents/pipeline_new/PromoterArchitecture'\n",
    "file_names = 'non-overlapping_includingbidirectional_all_genes'"
   ]
  },
  {
   "cell_type": "code",
   "execution_count": 33,
   "metadata": {},
   "outputs": [
    {
     "name": "stdout",
     "output_type": "stream",
     "text": [
      "Directory  /home/witham/Documents/pipeline_new/PromoterArchitecture/data/genomes/non-overlapping_includingbidirectional_all_genes  already exists\n"
     ]
    }
   ],
   "source": [
    "#make directory for the output files to be exported to\n",
    "dirName = f'{directory_path}/data/genomes/{file_names}'\n",
    "try:\n",
    "    # Create target Directory\n",
    "    os.mkdir(dirName)\n",
    "    print(\"Directory \" , dirName ,  \" created\") \n",
    "except FileExistsError:\n",
    "    print(\"Directory \" , dirName ,  \" already exists\")\n",
    "        "
   ]
  },
  {
   "cell_type": "code",
   "execution_count": 34,
   "metadata": {},
   "outputs": [
    {
     "name": "stdout",
     "output_type": "stream",
     "text": [
      "Directory  /home/witham/Documents/pipeline_new/PromoterArchitecture/data/promoter_analysis/non-overlapping_includingbidirectional_all_genes  created\n"
     ]
    }
   ],
   "source": [
    "#make directory for the output files to be exported to\n",
    "dirName = f'{directory_path}/data/promoter_analysis/{file_names}'\n",
    "try:\n",
    "    # Create target Directory\n",
    "    os.mkdir(dirName)\n",
    "    print(\"Directory \" , dirName ,  \" created\") \n",
    "except FileExistsError:\n",
    "    print(\"Directory \" , dirName ,  \" already exists\")"
   ]
  },
  {
   "cell_type": "code",
   "execution_count": 49,
   "metadata": {},
   "outputs": [],
   "source": [
    "root_chrom = f'{directory_path}/data/ATAC-seq/potter2018/Roots_NaOH_peaks_all.bed'\n",
    "shoot_chrom = f'{directory_path}/data/ATAC-seq/potter2018/Shoots_NaOH_peaks_all.bed'\n",
    "root_shoot_intersect_chrom=f'{directory_path}/data/ATAC-seq/potter2018/intersectRootsShoots_PeaksInBoth.bed'\n",
    "root_intersect =  f'{directory_path}/data/promoter_analysis/{file_names}/root_promoterchromintersect.bed'\n",
    "shoot_intersect =  f'{directory_path}/data/promoter_analysis/{file_names}/shoot_promoterchromintersect.bed'\n",
    "root_shoot_intersect_chrom_intersect = f'{directory_path}/data/promoter_analysis/{file_names}/rootshoot_promoterchromintersect.bed'\n",
    "promoters_5UTR = f'{directory_path}/data/FIMO/{file_names}/promoters_5UTR_renamedChr.bed'"
   ]
  },
  {
   "cell_type": "code",
   "execution_count": 50,
   "metadata": {},
   "outputs": [],
   "source": [
    "#root\n",
    "open_chromatin(promoters_5UTR, root_chrom, root_intersect)\n"
   ]
  },
  {
   "cell_type": "code",
   "execution_count": 51,
   "metadata": {},
   "outputs": [],
   "source": [
    "#shoot\n",
    "open_chromatin(promoters_5UTR, shoot_chrom, shoot_intersect)"
   ]
  },
  {
   "cell_type": "code",
   "execution_count": 52,
   "metadata": {},
   "outputs": [],
   "source": [
    "#root-shoot intersect\n",
    "open_chromatin(promoters_5UTR, root_shoot_intersect_chrom, root_shoot_intersect_chrom_intersect)"
   ]
  },
  {
   "cell_type": "code",
   "execution_count": null,
   "metadata": {},
   "outputs": [],
   "source": []
  }
 ],
 "metadata": {
  "kernelspec": {
   "display_name": "Python [conda env:PromoterArchitecturePipeline] *",
   "language": "python",
   "name": "conda-env-PromoterArchitecturePipeline-py"
  },
  "language_info": {
   "codemirror_mode": {
    "name": "ipython",
    "version": 3
   },
   "file_extension": ".py",
   "mimetype": "text/x-python",
   "name": "python",
   "nbconvert_exporter": "python",
   "pygments_lexer": "ipython3",
   "version": "3.7.6"
  }
 },
 "nbformat": 4,
 "nbformat_minor": 4
}
