{
 "cells": [
  {
   "cell_type": "code",
   "execution_count": null,
   "metadata": {},
   "outputs": [],
   "source": [
    "#rename the TATAbox bed file downloaded from EPD promoters"
   ]
  },
  {
   "cell_type": "code",
   "execution_count": 25,
   "metadata": {},
   "outputs": [],
   "source": [
    "from pybedtools import BedTool\n",
    "import pandas as pd"
   ]
  },
  {
   "cell_type": "code",
   "execution_count": 26,
   "metadata": {},
   "outputs": [],
   "source": [
    "bedfile = '../../data/EPD_promoter_analysis/EPDnew_promoters/TATAbox_location_-50to0.bed'\n",
    "outputlocation = '../../data/EPD_promoter_analysis/EPDnew_promoters/TATAbox_location_-50to0_renamed.bed'"
   ]
  },
  {
   "cell_type": "code",
   "execution_count": 27,
   "metadata": {},
   "outputs": [],
   "source": [
    "def rename(bedfile, outputlocation):\n",
    "    \"\"\"function to remove column 4 and remove 'chr' from column 1\"\"\"\n",
    "    df = pd.read_table(bedfile, sep='\\t', header = None)\n",
    "    cols = ['chr','start','stop','type','number','strand']\n",
    "    df.columns = cols\n",
    "    #drop number column\n",
    "    df.drop(columns=['number'],inplace=True)\n",
    "    #rename chromosome\n",
    "    df.chr = df.chr.str.replace('chr','')\n",
    "    #make TATA boxes 15bp long\n",
    "    df.loc[df.strand =='+', 'stop'] = df.stop + 14\n",
    "    df.loc[df.strand =='-', 'start'] = df.start - 14\n",
    "    #save as bed file\n",
    "    BedTool.from_dataframe(df).saveas(outputlocation)\n",
    "    "
   ]
  },
  {
   "cell_type": "code",
   "execution_count": 28,
   "metadata": {},
   "outputs": [],
   "source": [
    "rename(bedfile,outputlocation)"
   ]
  },
  {
   "cell_type": "code",
   "execution_count": null,
   "metadata": {},
   "outputs": [],
   "source": []
  }
 ],
 "metadata": {
  "kernelspec": {
   "display_name": "Python [conda env:PromoterArchitecturePipeline] *",
   "language": "python",
   "name": "conda-env-PromoterArchitecturePipeline-py"
  },
  "language_info": {
   "codemirror_mode": {
    "name": "ipython",
    "version": 3
   },
   "file_extension": ".py",
   "mimetype": "text/x-python",
   "name": "python",
   "nbconvert_exporter": "python",
   "pygments_lexer": "ipython3",
   "version": "3.7.8"
  }
 },
 "nbformat": 4,
 "nbformat_minor": 4
}
