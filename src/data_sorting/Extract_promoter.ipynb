{
 "cells": [
  {
   "cell_type": "markdown",
   "metadata": {},
   "source": [
    "this script extracts transcription start sites of promoters from Molly's dataset"
   ]
  },
  {
   "cell_type": "code",
   "execution_count": null,
   "metadata": {},
   "outputs": [],
   "source": [
    "##needs mysql installed\n",
    "#Need to be aware that fasta file sequence can be multiline or single line, databases provide it multilined"
   ]
  },
  {
   "cell_type": "code",
   "execution_count": 32,
   "metadata": {},
   "outputs": [],
   "source": [
    "from pybedtools import BedTool\n",
    "from BCBio.GFF import GFFExaminer\n",
    "from BCBio import GFF\n",
    "import pprint\n",
    "import pymysql.cursors\n",
    "from pyfaidx import Fasta\n",
    "import pandas as pd\n",
    "import os"
   ]
  },
  {
   "cell_type": "code",
   "execution_count": 33,
   "metadata": {},
   "outputs": [
    {
     "name": "stdout",
     "output_type": "stream",
     "text": [
      "{'gff_id': {('Chr1',): 20692,\n",
      "            ('Chr2',): 11967,\n",
      "            ('Chr3',): 15930,\n",
      "            ('Chr4',): 12159,\n",
      "            ('Chr5',): 18540,\n",
      "            ('ChrC',): 235,\n",
      "            ('ChrM',): 183},\n",
      " 'gff_source': {('MegrawPEAT',): 79706},\n",
      " 'gff_source_type': {('MegrawPEAT', 'Peak'): 79706},\n",
      " 'gff_type': {('Peak',): 79706}}\n"
     ]
    }
   ],
   "source": [
    "#examine the gff3 file\n",
    "in_file = \"/home/witham/Documents/Pipeline/data/TSS_data/AnnotatedPEATPeaks.txt\"\n",
    "examiner = GFFExaminer()\n",
    "in_handle = open(in_file)\n",
    "pprint.pprint(examiner.available_limits(in_handle))\n",
    "in_handle.close()"
   ]
  },
  {
   "cell_type": "code",
   "execution_count": 25,
   "metadata": {},
   "outputs": [
    {
     "name": "stdout",
     "output_type": "stream",
     "text": [
      "{'gff_id': {('Chr1',): 207497,\n",
      "            ('Chr2',): 125500,\n",
      "            ('Chr3',): 154731,\n",
      "            ('Chr4',): 121971,\n",
      "            ('Chr5',): 178800,\n",
      "            ('ChrC',): 620,\n",
      "            ('ChrM',): 771},\n",
      " 'gff_source': {('Araport11',): 789890},\n",
      " 'gff_source_type': {('Araport11', 'CDS'): 286355,\n",
      "                     ('Araport11', 'antisense_RNA'): 91,\n",
      "                     ('Araport11', 'antisense_lncRNA'): 1424,\n",
      "                     ('Araport11', 'exon'): 200542,\n",
      "                     ('Araport11', 'five_prime_UTR'): 46895,\n",
      "                     ('Araport11', 'gene'): 33341,\n",
      "                     ('Araport11', 'lnc_RNA'): 2455,\n",
      "                     ('Araport11', 'mRNA'): 52270,\n",
      "                     ('Araport11', 'miRNA'): 427,\n",
      "                     ('Araport11', 'miRNA_primary_transcript'): 325,\n",
      "                     ('Araport11', 'ncRNA'): 286,\n",
      "                     ('Araport11', 'protein'): 48359,\n",
      "                     ('Araport11', 'pseudogene'): 952,\n",
      "                     ('Araport11', 'pseudogenic_exon'): 2058,\n",
      "                     ('Araport11', 'pseudogenic_tRNA'): 27,\n",
      "                     ('Araport11', 'pseudogenic_transcript'): 1100,\n",
      "                     ('Araport11', 'rRNA'): 15,\n",
      "                     ('Araport11', 'snRNA'): 82,\n",
      "                     ('Araport11', 'snoRNA'): 287,\n",
      "                     ('Araport11', 'tRNA'): 689,\n",
      "                     ('Araport11', 'three_prime_UTR'): 41127,\n",
      "                     ('Araport11', 'transcript_region'): 726,\n",
      "                     ('Araport11', 'transposable_element'): 31189,\n",
      "                     ('Araport11', 'transposable_element_gene'): 3901,\n",
      "                     ('Araport11', 'transposon_fragment'): 34856,\n",
      "                     ('Araport11', 'uORF'): 111},\n",
      " 'gff_type': {('CDS',): 286355,\n",
      "              ('antisense_RNA',): 91,\n",
      "              ('antisense_lncRNA',): 1424,\n",
      "              ('exon',): 200542,\n",
      "              ('five_prime_UTR',): 46895,\n",
      "              ('gene',): 33341,\n",
      "              ('lnc_RNA',): 2455,\n",
      "              ('mRNA',): 52270,\n",
      "              ('miRNA',): 427,\n",
      "              ('miRNA_primary_transcript',): 325,\n",
      "              ('ncRNA',): 286,\n",
      "              ('protein',): 48359,\n",
      "              ('pseudogene',): 952,\n",
      "              ('pseudogenic_exon',): 2058,\n",
      "              ('pseudogenic_tRNA',): 27,\n",
      "              ('pseudogenic_transcript',): 1100,\n",
      "              ('rRNA',): 15,\n",
      "              ('snRNA',): 82,\n",
      "              ('snoRNA',): 287,\n",
      "              ('tRNA',): 689,\n",
      "              ('three_prime_UTR',): 41127,\n",
      "              ('transcript_region',): 726,\n",
      "              ('transposable_element',): 31189,\n",
      "              ('transposable_element_gene',): 3901,\n",
      "              ('transposon_fragment',): 34856,\n",
      "              ('uORF',): 111}}\n"
     ]
    }
   ],
   "source": [
    "#examine the gff3 file\n",
    "in_file = \"/home/witham/Documents/Pipeline/data/genomes/Araport11_GFF3_genes_transposons.201606.gff\"\n",
    "examiner = GFFExaminer()\n",
    "in_handle = open(in_file)\n",
    "pprint.pprint(examiner.available_limits(in_handle))\n",
    "in_handle.close()"
   ]
  },
  {
   "cell_type": "code",
   "execution_count": 47,
   "metadata": {},
   "outputs": [],
   "source": [
    "# def download_chromosome_sizes(genome_assembly_id,output_file):\n",
    "#     \"\"\"download chromosome sizes from the UCSC Genome browser's mysql database, using the UCSC Genome Browser assembly ID\"\"\"\n",
    "#     #connect to the database\n",
    "#     connection = pymysql.connect(host='genome-euro-mysql.soe.ucsc.edu',\n",
    "#                                 user='genome',\n",
    "#                                 port=3306)\n",
    "#     output = open(output_file, 'w') #make output file with write capability\n",
    "#     try:\n",
    "#         with connection.cursor() as cursor:\n",
    "#             sql = f\"SELECT 'chrom', 'size' FROM {genome_assembly_id}.chromInfo\" #specify the columns and genome assembly\n",
    "#             cursor.execute(sql) #grab the columns and genome assembly\n",
    "#             result = cursor.fetchone()\n",
    "#             output.write(result)\n",
    "#     finally:\n",
    "#         connection.close()\n",
    "#     output.close()"
   ]
  },
  {
   "cell_type": "code",
   "execution_count": 34,
   "metadata": {},
   "outputs": [],
   "source": [
    "def fasta_chromsizes(genome, output_file):\n",
    "    \"\"\"extracts chromosome sizes in a form compatible with BedTools.flank (as a dictionary)\"\"\"\n",
    "    #output = open(output_file, 'w')\n",
    "    the_genome = Fasta(genome) #using pyfaidx Fasta, parse the genome file as a fasta\n",
    "     \n",
    "    chromsizes = {} #make dictionary called chromsizes\n",
    "    for key in the_genome.keys():\n",
    "       \n",
    "        #chromsizes[key] = f'({0}, {len(the_genome[key])})' #add the chromosome name and length to dictionary\n",
    "        chromsizes[f'Chr{key}'] = f'({len(the_genome[key])})' #add the chromosome name and length to dictionary\n",
    "        #chromsizes[key] = f'({len(the_genome[key])})' #add the chromosome name and length to dictionary\n",
    "    #output_file.write(chrom)\n",
    "    chromsizes_string = ''\n",
    "    \n",
    "    for k,v in chromsizes.items():\n",
    "        chromsizes_string = chromsizes_string + f'{k}\\t{v}\\n'\n",
    "    \n",
    "    \n",
    "    with open(output_file, 'w') as output:            \n",
    "        output.write(chromsizes_string.replace('(','').replace(')',''))\n",
    "    #\n",
    "       # a,b = k.split(':'#turn dictionary string into columns\n",
    " \n",
    "      "
   ]
  },
  {
   "cell_type": "code",
   "execution_count": 35,
   "metadata": {},
   "outputs": [],
   "source": [
    "# def extract_genes(gene_gff,output_file):\n",
    "#     \"\"\"This function extracts all whole genes from a gff3 file, ignoring gene features, and adds them to an output file\"\"\"\n",
    "#     stringToMatch = 'ID=gene'\n",
    "#     matchedLine = ''\n",
    "#     with open(gene_gff, 'r') as file:        \n",
    "#         for line in file:\n",
    "#             if stringToMatch in line:\n",
    "#                 matchedLine = matchedLine + line + '\\n'\n",
    "    \n",
    "    \n",
    "#     with open(output_file, 'w') as output:\n",
    "#         output.write(matchedLine)       \n",
    "    "
   ]
  },
  {
   "cell_type": "code",
   "execution_count": 36,
   "metadata": {},
   "outputs": [],
   "source": [
    "def extract_genes(gene_gff,output_file):\n",
    "    \"\"\"This function extracts all whole genes from a gff3 file, ignoring gene features, and adds them to an output file\"\"\"\n",
    "    limit_info = dict(gff_type = ['gene'])\n",
    "    matchedLine = ''\n",
    "    output = open(output_file, 'w')\n",
    "    \n",
    "    with open(gene_gff, 'r') as in_handle:                    \n",
    "            GFF.write(GFF.parse(in_handle, limit_info=limit_info),output)\n",
    "    output.close()\n",
    "   \n",
    "      \n"
   ]
  },
  {
   "cell_type": "code",
   "execution_count": 37,
   "metadata": {},
   "outputs": [],
   "source": [
    "def add_promoter(genes_gff,chromsize,promoter_length,output_file):\n",
    "    \"\"\"This function adds a promoter of a certain length to each gene in the input file and exports to an output file\"\"\"\n",
    "    #output = open(output_location, 'w') #make output file with write capability\n",
    "    genes = BedTool(genes_gff)\n",
    "    promoters = genes.flank(g=chromsize, l=promoter_length, r=0, s=True)\n",
    "      \n",
    "\n",
    "    #promoters = a.flank(genome=chromsize, l=1000)\n",
    "    #open gff file as dataframe and separate by strand, and add column names\n",
    "  #  df = pd.read_csv(genes_gff, sep='\\t', encoding='utf-8',\n",
    "    #names=[\"chromosome\", \"source\", \"type\", \"start\", \"end\", \"score\", \"strand\", \"phase\", \"attributes\"])\n",
    "        \n",
    "    #positive = BedTool.from_dataframe(df[df.strand.isin(['+'])]) #add only positive strand genes to bedtools\n",
    "    #pos_promoters = positive.flank(g=chromsize, l=promoter_length, r=0, s=True) #add promoter upstream of gene\n",
    "    \n",
    "    #make negative signs positive\n",
    "  #  negative = df[df.strand.isin(['-'])].copy()\n",
    "    #negpos = negative.strand.replace('-','+')\n",
    "   # negative2 = BedTool.from_dataframe(negpos) #add only negative strand genes to bedtools\n",
    "   # neg_promoters = negative2.flank(g=chromsize, l=0, r=promoter_length) #add promoter after gene as it is on -ve strand\n",
    "    \n",
    "    #merge the positive and negative promoters, with postmerge option so that promoters themselves aren't merged\n",
    "    #promoters = pos_promoters.cat(neg_promoters, postmerge=False)     \n",
    "         \n",
    "    with open(output_file,'w') as f:\n",
    "        f.write(str(promoters))\n",
    "#     count = 0\n",
    "#     while count < 10:\n",
    "#         for line in promoters:\n",
    "#             print(line)\n",
    "#             count = count + 1\n",
    "  #  return negpos"
   ]
  },
  {
   "cell_type": "code",
   "execution_count": 98,
   "metadata": {},
   "outputs": [],
   "source": [
    "def promoter_overlap(promoter_gff,allfeatures_gff,output_file):\n",
    "    \"\"\"function to create file containing promoters which overlap other genome features\"\"\"\n",
    "    promoters = BedTool(promoter_gff) #read in files using BedTools\n",
    "    features = BedTool(allfeatures_gff)\n",
    "    #report chromosome position of overlapping feature, along with the promoter which overlaps it (only reports the overlapping nucleotides, not the whole promoter length. Can use u=True to get whole promoter length)\n",
    "    #f, the minimum overlap as fraction of A. F, nucleotide fraction of B (genes) that need to be overlapping with A (promoters)\n",
    "    #wa, Write the original entry in A for each overlap.\n",
    "    #u, write original A entry only once even if more than one overlap\n",
    "    intersect = promoters.intersect(features,f=0.001, F=0.001, u=True, wa=True) #could add u=True which indicates we want to see the promoters that overlap features in the genome\n",
    "    with open(output_file, 'w') as output:\n",
    "        output.write(str(intersect))"
   ]
  },
  {
   "cell_type": "code",
   "execution_count": null,
   "metadata": {},
   "outputs": [],
   "source": [
    "#will come back to this later once pipline is finished\n",
    "# def rename_promoter_feature(promoter_gff, output_file):\n",
    "#     \"\"\"This function renames the 3rd column of the promoter gff file to promoter\"\"\"\n",
    "#     output =  open(output_file, 'w')\n",
    "#     with open(promoter_gff, 'r') as in_handle:\n",
    "#         GFF.write(GFF.parse(in_handle, ??????????????????),output)\n",
    "#     output.close()"
   ]
  },
  {
   "cell_type": "code",
   "execution_count": 96,
   "metadata": {},
   "outputs": [],
   "source": [
    "# def find_closest_TSS(gene_gff,TSS_gff,output_location):\n",
    "#     \"\"\"this reads in the genes gff file and TSS gff file, finds the closest gene each TSS belongs to\"\"\"\n",
    "#     output = open(output_location, 'w') #make output file with write capability\n",
    "#     genes = BedTool(gene_gff)\n",
    "#     TSS = BedTool(TSS_gff)\n",
    "#     non_overlapping_TSS = TSS.subtract(genes)\n",
    "#     #intersect = TSS.intersect(genes)\n",
    "    \n",
    "#    # for gene in intersect:\n",
    "#        # print(gene.name)\n",
    "   \n",
    "#     nearby = genes.closest(TSS, d=True, stream=True)   \n",
    "  \n",
    "#     for gene in nearby:             \n",
    "#         if int(gene[-1]) < 1000:\n",
    "#             output.write(gene.name + '\\n')      \n",
    "#     output.close()       "
   ]
  },
  {
   "cell_type": "code",
   "execution_count": 6,
   "metadata": {},
   "outputs": [],
   "source": [
    "def find_closest_TSS(gene_gff,TSS_gff,output_location):\n",
    "    \"\"\"this reads in the genes gff file and TSS gff file, finds the closest gene each TSS belongs to\"\"\""
   ]
  },
  {
   "cell_type": "code",
   "execution_count": 7,
   "metadata": {},
   "outputs": [],
   "source": [
    "#gff columns:\n",
    "   # 1:seqname 2:source 3:feature 4:start 5:end 6:score 7:filter 8:strand 9:group 10:attribute"
   ]
  },
  {
   "cell_type": "code",
   "execution_count": 8,
   "metadata": {},
   "outputs": [],
   "source": [
    "def remove_characters_linestart(input_location,output_location,oldcharacters,newcharacters):\n",
    "    \"\"\"this function removes characters from the start of each line in the input file and sends modified lines to output\"\"\"\n",
    "    output = open(output_location, 'w') #make output file with write capability\n",
    "    with open(input_location, 'r') as infile:  \n",
    "        \n",
    "        for line in infile:\n",
    "            line = line.strip() # removes hidden characters/spaces\n",
    "            if line[0] == \"C\":\n",
    "                                 \n",
    "                line = line.replace(oldcharacters, newcharacters) #remove characters from start of line, replace with new characters        \n",
    "                output.write(line + '\\n') #output to new file\n",
    "    output.close()"
   ]
  },
  {
   "cell_type": "code",
   "execution_count": 4,
   "metadata": {},
   "outputs": [],
   "source": [
    "\n",
    "TSS_raw = '/home/witham/Documents/Pipeline/data/TSS_data/AnnotatedPEATPeaks.txt'\n",
    "#TSS_renamedChr = '/home/witham/Documents/Pipeline/data/TSS_data/AnnotatedPEATPeaks_renamedChr.gff'\n",
    "#genome2 = \"/home/witham/Documents/Pipeline/data/genomes/Arabidopsis_thaliana.TAIR10.dna.toplevel_sl_simpleChr.fasta\"\n",
    "genome = '/home/witham/Documents/Pipeline/data/genomes/TAIR10_chr_all.fas'\n"
   ]
  },
  {
   "cell_type": "code",
   "execution_count": 101,
   "metadata": {},
   "outputs": [],
   "source": [
    "genes = \"../../data/genomes/Araport11_GFF3_genes_transposons.201606.gff\"\n",
    "#genes_renamedChr = \"/home/witham/Documents/Pipeline/data/genomes/Araport11_GFF3_genes_transposons.201606_renamedChr.gff\"\n",
    "test_genes = \"/home/witham/Documents/Pipeline/data/genomes/test_genes.gff3\"\n",
    "testgenesonly_gff = \"/home/witham/Documents/Pipeline/data/genomes/testgenes_only.gff3\"\n",
    "temp = \"/home/witham/Documents/Pipeline/data/TSS_data/temp.txt\"\n",
    "#TSS = \"/home/witham/Documents/Pipeline/data/TSS_data/AnnotatedPEATPeaks_renamedcol.gff\"\n",
    "#TSS = \"/home/witham/Documents/Pipeline/data/TSS_data/TSStest.txt\"\n",
    "#find_closest_TSS(genes,output,temp)\n",
    "genesonly_gff = \"../../data/genomes/genesonly.gff3\"\n",
    "promoters = \"../../data/genomes/promoters.gff3\"\n",
    "#genes_bed = \"/home/witham/Documents/Pipeline/data/genomes/genes.bed\"\n",
    "overlapping_promoters = \"../../data/genomes/promoters_overlapping.gff3\"\n",
    "promoterandgenes_only_overlap = \"../../data/genomes/promoterandgenes_only_overlap.gff3\""
   ]
  },
  {
   "cell_type": "code",
   "execution_count": 6,
   "metadata": {},
   "outputs": [],
   "source": [
    "#remove 'Chr' from seqname column in TSS gff file so that it matches the naming in the gene gff file\n",
    "#also remove Chr from araport gff file\n",
    "#remove_characters_linestart(TSS_raw, TSS_renamedChr, 'Chr')\n",
    "#remove_characters_linestart(genes, genes_renamedChr, 'Chr')"
   ]
  },
  {
   "cell_type": "code",
   "execution_count": 7,
   "metadata": {},
   "outputs": [],
   "source": [
    "#num = len([1 for line in open(\"/home/witham/Documents/Pipeline/data/genomes/Arabidopsis_thaliana.TAIR10.dna.toplevel_sl_simpleChr.fasta\") if line.startswith(\">\")])\n",
    "#print(num)"
   ]
  },
  {
   "cell_type": "code",
   "execution_count": 8,
   "metadata": {},
   "outputs": [],
   "source": [
    "chromsizes_file = '/home/witham/Documents/Pipeline/data/genomes/chromsizes.chr'\n",
    "chromsizes_file_renamedChr_temp = '/home/witham/Documents/Pipeline/data/genomes/chromsizes_renamedChr_temp.chr'\n",
    "chromsizes_file_renamedChr = '/home/witham/Documents/Pipeline/data/genomes/chromsizes_renamedChr.chr'\n",
    "#chromsizes_file2 = '/home/witham/Documents/Pipeline/data/genomes/chromsizes2.chr'"
   ]
  },
  {
   "cell_type": "code",
   "execution_count": 91,
   "metadata": {},
   "outputs": [],
   "source": [
    "fasta_chromsizes(genome, chromsizes_file)"
   ]
  },
  {
   "cell_type": "code",
   "execution_count": 92,
   "metadata": {},
   "outputs": [],
   "source": [
    "#rename mitochondria and chloroplast to M and C\n",
    "remove_characters_linestart(chromsizes_file, chromsizes_file_renamedChr_temp, 'mitochondria','M')\n",
    "remove_characters_linestart(chromsizes_file_renamedChr_temp, chromsizes_file_renamedChr, 'chloroplast','C')\n",
    "os.remove(chromsizes_file_renamedChr_temp)"
   ]
  },
  {
   "cell_type": "code",
   "execution_count": 77,
   "metadata": {},
   "outputs": [],
   "source": [
    "#fasta_chromsizes(genome2, chromsizes_file2)"
   ]
  },
  {
   "cell_type": "code",
   "execution_count": 93,
   "metadata": {},
   "outputs": [],
   "source": [
    "#extract_genes(genes,genesonly_gff)\n",
    "extract_genes(genes,genesonly_gff)\n",
    "#this changes chromosome no. to 1 rather than Chr1"
   ]
  },
  {
   "cell_type": "code",
   "execution_count": 95,
   "metadata": {},
   "outputs": [],
   "source": [
    "add_promoter(genesonly_gff,chromsizes_file_renamedChr,1000,promoters)"
   ]
  },
  {
   "cell_type": "code",
   "execution_count": 198,
   "metadata": {},
   "outputs": [],
   "source": [
    "# df = pd.read_csv(genesonly_gff, sep='\\t', encoding='utf-8',\n",
    "# names=[\"chromosome\", \"source\", \"type\", \"start\", \"end\", \"score\", \"strand\", \"phase\", \"attributes\"])\n",
    "        \n",
    "# positive = BedTool.from_dataframe(df[df.strand.isin(['+'])]) #add only positive strand genes to bedtools\n",
    "# pos_promoters = positive.flank(g=chromosome_sizes_dict, l=1000, r=0) #add promoter upstream of gene\n",
    "# with open(\"/home/witham/Documents/Pipeline/data/genomes/promoters.gff3\",'w') as f:\n",
    "#         f.write(str(pos_promoters))"
   ]
  },
  {
   "cell_type": "code",
   "execution_count": 98,
   "metadata": {},
   "outputs": [],
   "source": [
    "#find_closest_TSS(genesonly_gff,TSS_raw,'/home/witham/Documents/Pipeline/data/genomes/closest.test')"
   ]
  },
  {
   "cell_type": "code",
   "execution_count": 102,
   "metadata": {},
   "outputs": [],
   "source": [
    "#create file containing only promoters which overlap other genome features\n",
    "promoter_overlap(promoters,genes,overlapping_promoters)"
   ]
  },
  {
   "cell_type": "code",
   "execution_count": 103,
   "metadata": {},
   "outputs": [
    {
     "name": "stdout",
     "output_type": "stream",
     "text": [
      "{'gff_id': {('Chr1',): 6785,\n",
      "            ('Chr2',): 4064,\n",
      "            ('Chr3',): 5115,\n",
      "            ('Chr4',): 3857,\n",
      "            ('Chr5',): 5714,\n",
      "            ('ChrC',): 122,\n",
      "            ('ChrM',): 87},\n",
      " 'gff_source': {('Araport11',): 25744},\n",
      " 'gff_source_type': {('Araport11', 'gene'): 25744},\n",
      " 'gff_type': {('gene',): 25744}}\n"
     ]
    }
   ],
   "source": [
    "#examine this gff3 promoter file and compare to all promoters\n",
    "in_file = overlapping_promoters\n",
    "examiner = GFFExaminer()\n",
    "in_handle = open(in_file)\n",
    "pprint.pprint(examiner.available_limits(in_handle))\n",
    "in_handle.close()"
   ]
  },
  {
   "cell_type": "code",
   "execution_count": 105,
   "metadata": {},
   "outputs": [
    {
     "name": "stdout",
     "output_type": "stream",
     "text": [
      "{'gff_id': {('Chr1',): 8771,\n",
      "            ('Chr2',): 5265,\n",
      "            ('Chr3',): 6544,\n",
      "            ('Chr4',): 5007,\n",
      "            ('Chr5',): 7469,\n",
      "            ('ChrC',): 133,\n",
      "            ('ChrM',): 152},\n",
      " 'gff_source': {('Araport11',): 33341},\n",
      " 'gff_source_type': {('Araport11', 'gene'): 33341},\n",
      " 'gff_type': {('gene',): 33341}}\n"
     ]
    }
   ],
   "source": [
    "# all promoters\n",
    "in_file = promoters\n",
    "examiner = GFFExaminer()\n",
    "in_handle = open(in_file)\n",
    "pprint.pprint(examiner.available_limits(in_handle))\n",
    "in_handle.close()"
   ]
  },
  {
   "cell_type": "code",
   "execution_count": 99,
   "metadata": {},
   "outputs": [],
   "source": [
    "#promoters overlapping only genes\n",
    "promoter_overlap(promoters,genesonly_gff,promoterandgenes_only_overlap)"
   ]
  },
  {
   "cell_type": "code",
   "execution_count": 100,
   "metadata": {},
   "outputs": [
    {
     "name": "stdout",
     "output_type": "stream",
     "text": [
      "{'gff_id': {('Chr1',): 5328,\n",
      "            ('Chr2',): 2902,\n",
      "            ('Chr3',): 4005,\n",
      "            ('Chr4',): 2920,\n",
      "            ('Chr5',): 4387,\n",
      "            ('ChrC',): 133,\n",
      "            ('ChrM',): 151},\n",
      " 'gff_source': {('Araport11',): 19826},\n",
      " 'gff_source_type': {('Araport11', 'gene'): 19826},\n",
      " 'gff_type': {('gene',): 19826}}\n"
     ]
    }
   ],
   "source": [
    "# promoters overlapping genes only\n",
    "in_file = promoterandgenes_only_overlap\n",
    "examiner = GFFExaminer()\n",
    "in_handle = open(in_file)\n",
    "pprint.pprint(examiner.available_limits(in_handle))\n",
    "in_handle.close()"
   ]
  },
  {
   "cell_type": "code",
   "execution_count": null,
   "metadata": {},
   "outputs": [],
   "source": []
  },
  {
   "cell_type": "code",
   "execution_count": null,
   "metadata": {},
   "outputs": [],
   "source": []
  },
  {
   "cell_type": "code",
   "execution_count": null,
   "metadata": {},
   "outputs": [],
   "source": []
  }
 ],
 "metadata": {
  "kernelspec": {
   "display_name": "Python [conda env:PromoterArchitecturePipeline] *",
   "language": "python",
   "name": "conda-env-PromoterArchitecturePipeline-py"
  },
  "language_info": {
   "codemirror_mode": {
    "name": "ipython",
    "version": 3
   },
   "file_extension": ".py",
   "mimetype": "text/x-python",
   "name": "python",
   "nbconvert_exporter": "python",
   "pygments_lexer": "ipython3",
   "version": "3.6.7"
  }
 },
 "nbformat": 4,
 "nbformat_minor": 4
}
