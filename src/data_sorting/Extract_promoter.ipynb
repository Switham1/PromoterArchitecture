{
 "cells": [
  {
   "cell_type": "markdown",
   "metadata": {},
   "source": [
    "this script extracts transcription start sites of promoters from Molly's dataset"
   ]
  },
  {
   "cell_type": "code",
   "execution_count": null,
   "metadata": {},
   "outputs": [],
   "source": [
    "##needs mysql installed\n",
    "#Need to be aware that fasta file sequence can be multiline or single line, databases provide it multilined"
   ]
  },
  {
   "cell_type": "code",
   "execution_count": 144,
   "metadata": {},
   "outputs": [],
   "source": [
    "from pybedtools import BedTool\n",
    "from BCBio.GFF import GFFExaminer\n",
    "from BCBio import GFF\n",
    "import pprint\n",
    "import pymysql.cursors\n",
    "from pyfaidx import Fasta\n",
    "import pandas as pd\n",
    "import os\n",
    "import numpy as np\n",
    "import io"
   ]
  },
  {
   "cell_type": "code",
   "execution_count": 2,
   "metadata": {},
   "outputs": [
    {
     "name": "stdout",
     "output_type": "stream",
     "text": [
      "{'gff_id': {('Chr1',): 20692,\n",
      "            ('Chr2',): 11967,\n",
      "            ('Chr3',): 15930,\n",
      "            ('Chr4',): 12159,\n",
      "            ('Chr5',): 18540,\n",
      "            ('ChrC',): 235,\n",
      "            ('ChrM',): 183},\n",
      " 'gff_source': {('MegrawPEAT',): 79706},\n",
      " 'gff_source_type': {('MegrawPEAT', 'Peak'): 79706},\n",
      " 'gff_type': {('Peak',): 79706}}\n"
     ]
    }
   ],
   "source": [
    "#examine the gff3 file\n",
    "in_file = \"/home/witham/Documents/Pipeline/data/TSS_data/AnnotatedPEATPeaks.txt\"\n",
    "examiner = GFFExaminer()\n",
    "in_handle = open(in_file)\n",
    "pprint.pprint(examiner.available_limits(in_handle))\n",
    "in_handle.close()"
   ]
  },
  {
   "cell_type": "code",
   "execution_count": 3,
   "metadata": {},
   "outputs": [
    {
     "name": "stdout",
     "output_type": "stream",
     "text": [
      "{'gff_id': {('Chr1',): 207497,\n",
      "            ('Chr2',): 125500,\n",
      "            ('Chr3',): 154731,\n",
      "            ('Chr4',): 121971,\n",
      "            ('Chr5',): 178800,\n",
      "            ('ChrC',): 620,\n",
      "            ('ChrM',): 771},\n",
      " 'gff_source': {('Araport11',): 789890},\n",
      " 'gff_source_type': {('Araport11', 'CDS'): 286355,\n",
      "                     ('Araport11', 'antisense_RNA'): 91,\n",
      "                     ('Araport11', 'antisense_lncRNA'): 1424,\n",
      "                     ('Araport11', 'exon'): 200542,\n",
      "                     ('Araport11', 'five_prime_UTR'): 46895,\n",
      "                     ('Araport11', 'gene'): 33341,\n",
      "                     ('Araport11', 'lnc_RNA'): 2455,\n",
      "                     ('Araport11', 'mRNA'): 52270,\n",
      "                     ('Araport11', 'miRNA'): 427,\n",
      "                     ('Araport11', 'miRNA_primary_transcript'): 325,\n",
      "                     ('Araport11', 'ncRNA'): 286,\n",
      "                     ('Araport11', 'protein'): 48359,\n",
      "                     ('Araport11', 'pseudogene'): 952,\n",
      "                     ('Araport11', 'pseudogenic_exon'): 2058,\n",
      "                     ('Araport11', 'pseudogenic_tRNA'): 27,\n",
      "                     ('Araport11', 'pseudogenic_transcript'): 1100,\n",
      "                     ('Araport11', 'rRNA'): 15,\n",
      "                     ('Araport11', 'snRNA'): 82,\n",
      "                     ('Araport11', 'snoRNA'): 287,\n",
      "                     ('Araport11', 'tRNA'): 689,\n",
      "                     ('Araport11', 'three_prime_UTR'): 41127,\n",
      "                     ('Araport11', 'transcript_region'): 726,\n",
      "                     ('Araport11', 'transposable_element'): 31189,\n",
      "                     ('Araport11', 'transposable_element_gene'): 3901,\n",
      "                     ('Araport11', 'transposon_fragment'): 34856,\n",
      "                     ('Araport11', 'uORF'): 111},\n",
      " 'gff_type': {('CDS',): 286355,\n",
      "              ('antisense_RNA',): 91,\n",
      "              ('antisense_lncRNA',): 1424,\n",
      "              ('exon',): 200542,\n",
      "              ('five_prime_UTR',): 46895,\n",
      "              ('gene',): 33341,\n",
      "              ('lnc_RNA',): 2455,\n",
      "              ('mRNA',): 52270,\n",
      "              ('miRNA',): 427,\n",
      "              ('miRNA_primary_transcript',): 325,\n",
      "              ('ncRNA',): 286,\n",
      "              ('protein',): 48359,\n",
      "              ('pseudogene',): 952,\n",
      "              ('pseudogenic_exon',): 2058,\n",
      "              ('pseudogenic_tRNA',): 27,\n",
      "              ('pseudogenic_transcript',): 1100,\n",
      "              ('rRNA',): 15,\n",
      "              ('snRNA',): 82,\n",
      "              ('snoRNA',): 287,\n",
      "              ('tRNA',): 689,\n",
      "              ('three_prime_UTR',): 41127,\n",
      "              ('transcript_region',): 726,\n",
      "              ('transposable_element',): 31189,\n",
      "              ('transposable_element_gene',): 3901,\n",
      "              ('transposon_fragment',): 34856,\n",
      "              ('uORF',): 111}}\n"
     ]
    }
   ],
   "source": [
    "#examine the gff3 file\n",
    "in_file = \"/home/witham/Documents/Pipeline/data/genomes/Araport11_GFF3_genes_transposons.201606.gff\"\n",
    "examiner = GFFExaminer()\n",
    "in_handle = open(in_file)\n",
    "pprint.pprint(examiner.available_limits(in_handle))\n",
    "in_handle.close()"
   ]
  },
  {
   "cell_type": "code",
   "execution_count": 4,
   "metadata": {},
   "outputs": [],
   "source": [
    "# def download_chromosome_sizes(genome_assembly_id,output_file):\n",
    "#     \"\"\"download chromosome sizes from the UCSC Genome browser's mysql database, using the UCSC Genome Browser assembly ID\"\"\"\n",
    "#     #connect to the database\n",
    "#     connection = pymysql.connect(host='genome-euro-mysql.soe.ucsc.edu',\n",
    "#                                 user='genome',\n",
    "#                                 port=3306)\n",
    "#     output = open(output_file, 'w') #make output file with write capability\n",
    "#     try:\n",
    "#         with connection.cursor() as cursor:\n",
    "#             sql = f\"SELECT 'chrom', 'size' FROM {genome_assembly_id}.chromInfo\" #specify the columns and genome assembly\n",
    "#             cursor.execute(sql) #grab the columns and genome assembly\n",
    "#             result = cursor.fetchone()\n",
    "#             output.write(result)\n",
    "#     finally:\n",
    "#         connection.close()\n",
    "#     output.close()"
   ]
  },
  {
   "cell_type": "code",
   "execution_count": 2,
   "metadata": {},
   "outputs": [],
   "source": [
    "def fasta_chromsizes(genome, output_file):\n",
    "    \"\"\"extracts chromosome sizes in a form compatible with BedTools.flank (as a dictionary)\"\"\"\n",
    "    #output = open(output_file, 'w')\n",
    "    the_genome = Fasta(genome) #using pyfaidx Fasta, parse the genome file as a fasta\n",
    "     \n",
    "    chromsizes = {} #make dictionary called chromsizes\n",
    "    for key in the_genome.keys():\n",
    "       \n",
    "        #chromsizes[key] = f'({0}, {len(the_genome[key])})' #add the chromosome name and length to dictionary\n",
    "        chromsizes[f'Chr{key}'] = f'({len(the_genome[key])})' #add the chromosome name and length to dictionary\n",
    "        #chromsizes[key] = f'({len(the_genome[key])})' #add the chromosome name and length to dictionary\n",
    "    #output_file.write(chrom)\n",
    "    chromsizes_string = ''\n",
    "    \n",
    "    for k,v in chromsizes.items():\n",
    "        chromsizes_string = chromsizes_string + f'{k}\\t{v}\\n'\n",
    "    \n",
    "    \n",
    "    with open(output_file, 'w') as output:            \n",
    "        output.write(chromsizes_string.replace('(','').replace(')',''))\n",
    "    #\n",
    "       # a,b = k.split(':'#turn dictionary string into columns\n",
    " \n",
    "      "
   ]
  },
  {
   "cell_type": "code",
   "execution_count": 3,
   "metadata": {},
   "outputs": [],
   "source": [
    "# def extract_genes(gene_gff,output_file):\n",
    "#     \"\"\"This function extracts all whole genes from a gff3 file, ignoring gene features, and adds them to an output file\"\"\"\n",
    "#     stringToMatch = 'ID=gene'\n",
    "#     matchedLine = ''\n",
    "#     with open(gene_gff, 'r') as file:        \n",
    "#         for line in file:\n",
    "#             if stringToMatch in line:\n",
    "#                 matchedLine = matchedLine + line + '\\n'\n",
    "    \n",
    "    \n",
    "#     with open(output_file, 'w') as output:\n",
    "#         output.write(matchedLine)       \n",
    "    "
   ]
  },
  {
   "cell_type": "code",
   "execution_count": 86,
   "metadata": {},
   "outputs": [],
   "source": [
    "def extract_genes(gene_gff,temp,output_file):\n",
    "    \"\"\"This function extracts all whole genes from a gff3 file, ignoring gene features, and adds them to an output file\"\"\"\n",
    "    #limit dictionary to genes\n",
    "    limit_info = dict(gff_type = ['gene'])\n",
    "    #open temporary file\n",
    "    output = open(temp, 'w')\n",
    "    #open gff file, parse it, limiting to genes only. Save the file.\n",
    "    with open(gene_gff, 'r') as in_handle:                    \n",
    "            GFF.write(GFF.parse(in_handle, limit_info=limit_info),output)\n",
    "    output.close()\n",
    "    \n",
    "    #now remove the unwanted annotations that were added by GFF.write eg. Chr1\tannotation\tremark\t1\t30425192\t.\t.\t.\tgff-version=3\n",
    "    #remove lines beginning with ##\n",
    "    with open(temp, 'r') as tempfile, open(output_file, 'w') as newfile:        \n",
    "        for line in tempfile:\n",
    "            line = line.strip() # removes hidden characters/spaces\n",
    "            if line[0] == \"#\":\n",
    "                pass\n",
    "            else:                \n",
    "                #don't include lines beginning with ##\n",
    "                newfile.write(line + '\\n') #output to new file\n",
    "    #remove temporary file\n",
    "    os.remove(temp)       \n",
    "    #read in gff file\n",
    "    genes = pd.read_table(output_file, sep='\\t', header=0)\n",
    "    cols2 = ['chr', 'source', 'type', 'start','stop','dot1','strand','dot2','attributes']\n",
    "    genes.columns = cols2\n",
    "    #remove all lines where source is annotation\n",
    "    no_annotation = genes[~genes.source.str.contains(\"annotation\")]\n",
    "    #remove all lines that are not protein coding\n",
    "    protein_coding = no_annotation[no_annotation.attributes.str.contains('locus_type=protein_coding')]\n",
    "    #create gff file containing no lines with annotation and no lines starting with ##\n",
    "    protein_coding.to_csv(output_file,index=False,sep='\\t',header=0)"
   ]
  },
  {
   "cell_type": "code",
   "execution_count": 5,
   "metadata": {},
   "outputs": [],
   "source": [
    "# def add_promoter(genes_gff,chromsize,promoter_length,output_file):\n",
    "#     \"\"\"This function adds a promoter of a certain length to each gene in the input file and exports to an output file\"\"\"\n",
    "#     #output = open(output_location, 'w') #make output file with write capability\n",
    "#     genes = BedTool(genes_gff)\n",
    "#     promoters = genes.flank(g=chromsize, l=promoter_length, r=0, s=True)\n",
    "      \n",
    "\n",
    "#     #promoters = a.flank(genome=chromsize, l=1000)\n",
    "#     #open gff file as dataframe and separate by strand, and add column names\n",
    "#   #  df = pd.read_csv(genes_gff, sep='\\t', encoding='utf-8',\n",
    "#     #names=[\"chromosome\", \"source\", \"type\", \"start\", \"end\", \"score\", \"strand\", \"phase\", \"attributes\"])\n",
    "        \n",
    "#     #positive = BedTool.from_dataframe(df[df.strand.isin(['+'])]) #add only positive strand genes to bedtools\n",
    "#     #pos_promoters = positive.flank(g=chromsize, l=promoter_length, r=0, s=True) #add promoter upstream of gene\n",
    "    \n",
    "#     #make negative signs positive\n",
    "#   #  negative = df[df.strand.isin(['-'])].copy()\n",
    "#     #negpos = negative.strand.replace('-','+')\n",
    "#    # negative2 = BedTool.from_dataframe(negpos) #add only negative strand genes to bedtools\n",
    "#    # neg_promoters = negative2.flank(g=chromsize, l=0, r=promoter_length) #add promoter after gene as it is on -ve strand\n",
    "    \n",
    "#     #merge the positive and negative promoters, with postmerge option so that promoters themselves aren't merged\n",
    "#     #promoters = pos_promoters.cat(neg_promoters, postmerge=False)     \n",
    "         \n",
    "#     with open(output_file,'w') as f:\n",
    "#         f.write(str(promoters))\n",
    "# #     count = 0\n",
    "# #     while count < 10:\n",
    "# #         for line in promoters:\n",
    "# #             print(line)\n",
    "# #             count = count + 1\n",
    "#   #  return negpos"
   ]
  },
  {
   "cell_type": "code",
   "execution_count": 26,
   "metadata": {},
   "outputs": [],
   "source": [
    "def add_promoter(genes_gff,chromsize,promoter_length):\n",
    "    \"\"\"This function adds a promoter of a certain length to each gene in the input file and exports an output string\"\"\"\n",
    "    #output = open(output_location, 'w') #make output file with write capability\n",
    "    #parse gff file containing only genes.\n",
    "    genes = BedTool(genes_gff)\n",
    "    #extract promoters upsteam using chromsize file and specified promoter length. r, no. of bp to add to end coordinate. s, based on strand.\n",
    "    promoters = genes.flank(g=chromsize, l=promoter_length, r=0, s=True)\n",
    "    return promoters"
   ]
  },
  {
   "cell_type": "code",
   "execution_count": 14,
   "metadata": {},
   "outputs": [],
   "source": [
    "# def promoter_overlap(promoter_gff,allfeatures_gff,output_file):\n",
    "#     \"\"\"function to create file containing promoters which overlap other genome features\"\"\"\n",
    "#     promoters = BedTool(promoter_gff) #read in files using BedTools\n",
    "#     features = BedTool(allfeatures_gff)\n",
    "#     #report chromosome position of overlapping feature, along with the promoter which overlaps it (only reports the overlapping nucleotides, not the whole promoter length. Can use u=True to get whole promoter length)\n",
    "#     #f, the minimum overlap as fraction of A. F, nucleotide fraction of B (genes) that need to be overlapping with A (promoters)\n",
    "#     #wa, Write the original entry in A for each overlap.\n",
    "#     #u, write original A entry only once even if more than one overlap\n",
    "#     intersect = promoters.intersect(features,f=0.001, F=0.001, u=True, wa=True) #could add u=True which indicates we want to see the promoters that overlap features in the genome\n",
    "#     with open(output_file, 'w') as output:\n",
    "#         output.write(str(intersect))"
   ]
  },
  {
   "cell_type": "code",
   "execution_count": 324,
   "metadata": {},
   "outputs": [],
   "source": [
    "def remove_promoter_overlap(promoter_gff, all_genes_gff, output_file):\n",
    "    \"\"\"function to create file containing promoters which overlap other genome features. \n",
    "    Then create a df with only promoters which overlap other genes. Then shorten them so they are no longer overlapping. \n",
    "    Then merge back with all the extracted promoters, keeping only the shortened ones\"\"\"\n",
    "    all_proms = BedTool(promoter_gff) #read in files using BedTools\n",
    "    features = BedTool(all_genes_gff)\n",
    "    #report chromosome position of overlapping feature, along with the promoter which overlaps it (only reports the overlapping nucleotides, not the whole promoter length. Can use u=True to get whole promoter length)\n",
    "    #f, the minimum overlap as fraction of A. F, nucleotide fraction of B (genes) that need to be overlapping with A (promoters)\n",
    "    #wa, Write the original entry in A for each overlap.\n",
    "    #wo,  Write the original A and B entries plus the number of base pairs of overlap between the two features. Only A features with overlap are reported. \n",
    "    #u, write original A entry only once even if more than one overlap\n",
    "    intersect = all_proms.intersect(features, wo=True) #could add u=True which indicates we want to see the promoters that overlap features in the genome\n",
    "    #Write to output_file\n",
    "    with open(output_file, 'w') as output:\n",
    "        #Each line in the file contains gff entry a and gff entry b that it overlaps plus the number of bp in the overlap so 19 columns\n",
    "        output.write(str(intersect))    \n",
    "    #read in gff file\n",
    "    overlapping_proms = pd.read_table(output_file, sep='\\t', header=0)\n",
    "    cols = ['chrA', 'sourceA', 'typeA', 'startA','stopA','dot1A','strandA','dot2A','attributesA','chrB', 'sourceB', 'typeB', 'startB','stopB','dot1B','strandB','dot2B','attributesB','bp_overlap']\n",
    "    overlapping_proms.columns = cols\n",
    "    #make new columns for the new start and stop for feature A\n",
    "    overlapping_proms['new_startA'] = overlapping_proms.startA\n",
    "    overlapping_proms['new_stopA'] = overlapping_proms.startA\n",
    "   \n",
    "    #iterate over rows\n",
    "    for i,data in overlapping_proms.iterrows():\n",
    "        #if positive strand feature A, reduce length to the stop position of feature B + 1\n",
    "        if overlapping_proms.loc[i,'strandA'] == '+':        \n",
    "            overlapping_proms.loc[i, 'new_startA'] = overlapping_proms.loc[i, 'stopB'] + 1\n",
    "        #if negative strand feature A, reduce length of promoter to start position of feature -1\n",
    "        elif overlapping_proms.loc[i,'strandA'] == '-': \n",
    "            overlapping_proms.loc[i, 'new_stopA'] = overlapping_proms.loc[i, 'startB'] - 1\n",
    "    #create df with just feature a containing new start and stop locations\n",
    "    new_feature_A = overlapping_proms[['chrA', 'sourceA', 'typeA', 'new_startA', 'new_stopA', 'dot1A', 'strandA', 'dot2A', 'attributesA']]\n",
    "    #rename columns\n",
    "    cols2 = ['chr', 'source', 'type', 'start','stop','dot1','strand','dot2','attributes']\n",
    "    new_feature_A.columns = cols2\n",
    "    #create a buffer of promoter_gff\n",
    "    promoter_gff_buffer = io.StringIO()\n",
    "    promoter_gff_buffer.write(str(promoter_gff))\n",
    "    #go back to beginning of the buffer\n",
    "    promoter_gff_buffer.seek(0)\n",
    "    #read in all_proms as df\n",
    "    all_proms_df = pd.read_table(promoter_gff_buffer, sep='\\t', header=0)\n",
    "    all_proms_df.columns = cols2\n",
    "    #merge all_proms_df with new_feature_A keeping the promoters in new_feature_A and only adding promoters from all_proms_df that aren't in new_feature_A\n",
    "    #outer merge adding suffix to new_feature_A\n",
    "    merged = pd.merge(all_proms_df, new_feature_A, how='left', on='attributes',suffixes=('','_reduced'))\n",
    "    #if start_reduced column from new_feature_A is NaN, pass\n",
    "    #replace NaN in start_reduced with string 'NAN'\n",
    "    merged.fillna('NAN', inplace=True)\n",
    "    for index,row in overlapping_proms.iterrows():\n",
    "        if merged.loc[index, 'start_reduced'] == 'NAN':\n",
    "        #merged.isnull(row.start_reduced):\n",
    "            pass\n",
    "        #if not NaN, replace start and stop from all_proms_df with those from new_feature_A\n",
    "        else:\n",
    "            merged.loc[index, 'start'] = merged.loc[index, 'start_reduced']\n",
    "            merged.loc[index, 'stop'] = merged.loc[index, 'stop_reduced']\n",
    "    \n",
    "\n",
    "#         merged.loc[merged.start] == merged.loc[merged.start_reduced]\n",
    "#         merged.loc[merged.stop] == merged.loc[merged.stop_reduced]\n",
    "   \n",
    "    #merged.columns = cols2\n",
    "    promoter_gff_buffer.close()\n",
    "    new_merged = merged[cols2]\n",
    "    #remove trailing decimal .0 from start and stop\n",
    "    new_merged = new_merged.astype({'start': 'int'})\n",
    "    new_merged = new_merged.astype({'stop': 'int'})\n",
    "    return new_merged "
   ]
  },
  {
   "cell_type": "code",
   "execution_count": null,
   "metadata": {},
   "outputs": [],
   "source": [
    "#will come back to this later once pipline is finished\n",
    "# def rename_promoter_feature(promoter_gff, output_file):\n",
    "#     \"\"\"This function renames the 3rd column of the promoter gff file to promoter\"\"\"\n",
    "#     output =  open(output_file, 'w')\n",
    "#     with open(promoter_gff, 'r') as in_handle:\n",
    "#         GFF.write(GFF.parse(in_handle, ??????????????????),output)\n",
    "#     output.close()"
   ]
  },
  {
   "cell_type": "code",
   "execution_count": 96,
   "metadata": {},
   "outputs": [],
   "source": [
    "# def find_closest_TSS(gene_gff,TSS_gff,output_location):\n",
    "#     \"\"\"this reads in the genes gff file and TSS gff file, finds the closest gene each TSS belongs to\"\"\"\n",
    "#     output = open(output_location, 'w') #make output file with write capability\n",
    "#     genes = BedTool(gene_gff)\n",
    "#     TSS = BedTool(TSS_gff)\n",
    "#     non_overlapping_TSS = TSS.subtract(genes)\n",
    "#     #intersect = TSS.intersect(genes)\n",
    "    \n",
    "#    # for gene in intersect:\n",
    "#        # print(gene.name)\n",
    "   \n",
    "#     nearby = genes.closest(TSS, d=True, stream=True)   \n",
    "  \n",
    "#     for gene in nearby:             \n",
    "#         if int(gene[-1]) < 1000:\n",
    "#             output.write(gene.name + '\\n')      \n",
    "#     output.close()       "
   ]
  },
  {
   "cell_type": "code",
   "execution_count": 10,
   "metadata": {},
   "outputs": [],
   "source": [
    "def find_closest_TSS(gene_gff,TSS_gff,output_location):\n",
    "    \"\"\"this reads in the genes gff file and TSS gff file, finds the closest gene each TSS belongs to\"\"\""
   ]
  },
  {
   "cell_type": "code",
   "execution_count": 7,
   "metadata": {},
   "outputs": [],
   "source": [
    "#gff columns:\n",
    "   # 1:seqname 2:source 3:feature 4:start 5:end 6:score 7:filter 8:strand 9:group 10:attribute"
   ]
  },
  {
   "cell_type": "code",
   "execution_count": 11,
   "metadata": {},
   "outputs": [],
   "source": [
    "def remove_characters_linestart(input_location,output_location,oldcharacters,newcharacters):\n",
    "    \"\"\"this function removes characters from the start of each line in the input file and sends modified lines to output\"\"\"\n",
    "    output = open(output_location, 'w') #make output file with write capability\n",
    "    with open(input_location, 'r') as infile:  \n",
    "        \n",
    "        for line in infile:\n",
    "            line = line.strip() # removes hidden characters/spaces\n",
    "            if line[0] == \"C\":\n",
    "                                 \n",
    "                line = line.replace(oldcharacters, newcharacters) #remove characters from start of line, replace with new characters        \n",
    "                output.write(line + '\\n') #output to new file\n",
    "    output.close()"
   ]
  },
  {
   "cell_type": "code",
   "execution_count": 7,
   "metadata": {},
   "outputs": [],
   "source": [
    "def bidirectional_proms(in_file, out_file):\n",
    "    \"\"\"this function create a file containing all promoters with an upstream gene going in the other direction ie. potential bidirectional promoters\"\"\"\n",
    "    #read in gff file\n",
    "    promoters = pd.read_table(in_file, sep='\\t', header=0)\n",
    "    cols2 = ['chr', 'source', 'type', 'start','stop','dot1','strand','dot2','attributes']\n",
    "    promoters.columns = cols2\n",
    "    #make sure lines are sorted\n",
    "  \n",
    "    promoters = promoters.sort_values(['chr','start']).reset_index(drop=True)\n",
    "    #if bidirectional\n",
    "    promoters['bidirectional'] = 'no'\n",
    "#     promoters['shift_f_start']\n",
    "#     promoters['shift_f_stop']\n",
    "    #print(promoters)\n",
    "    \n",
    "    for i,data in promoters.iterrows():\n",
    "        if i-1 >= 0:\n",
    "            #print(i,data)\n",
    "            if promoters.loc[i, 'strand'] == '+' and promoters.loc[i-1, 'strand'] == '-' and promoters.loc[i, 'start'] - promoters.loc[i-1, 'stop'] < 2000:\n",
    "                promoters.loc[i, 'bidirectional'] = 'yes'\n",
    "                promoters.loc[i-1, 'bidirectional'] = 'yes'\n",
    "    #write file\n",
    "    with open(out_file, 'w') as output:  \n",
    "        promoters[promoters.bidirectional == 'no'][['chr', 'source', 'type', 'start','stop','dot1','strand','dot2','attributes']].to_csv(out_file,index=False,sep='\\t',header=0)\n",
    "       \n",
    "\n",
    "    \n",
    "#     for i,data in promoters.iterrows():\n",
    "#         print(i, data)\n",
    "#         if i-1 > 0:\n",
    "#             if promoters.loc[i, 'strand'] == '+' and promoters.loc[i-1, 'strand'] == '-' and promoters.loc[i, 'start'] - promoters.loc[i-1, 'stop'] < 2000:\n",
    "#                 promoters.loc[i, 'bidirectional'] = 'yes'\n",
    "#                 promoters.loc[i-1, 'bidirectional'] = 'yes'\n",
    "\n",
    "    #print(len(promoters.bidirectional[promoters.bidirectional == 'yes']))     \n",
    "    #print(promoters)\n",
    "   "
   ]
  },
  {
   "cell_type": "code",
   "execution_count": 8,
   "metadata": {},
   "outputs": [],
   "source": [
    "\n",
    "TSS_raw = '/home/witham/Documents/Pipeline/data/TSS_data/AnnotatedPEATPeaks.txt'\n",
    "#TSS_renamedChr = '/home/witham/Documents/Pipeline/data/TSS_data/AnnotatedPEATPeaks_renamedChr.gff'\n",
    "#genome2 = \"/home/witham/Documents/Pipeline/data/genomes/Arabidopsis_thaliana.TAIR10.dna.toplevel_sl_simpleChr.fasta\"\n",
    "genome = '/home/witham/Documents/Pipeline/data/genomes/TAIR10_chr_all.fas'\n",
    "nonbidirectional_promoters = '../../data/genomes/nonbidirectional_proms.gff3'"
   ]
  },
  {
   "cell_type": "code",
   "execution_count": 9,
   "metadata": {},
   "outputs": [],
   "source": [
    "genes = \"../../data/genomes/Araport11_GFF3_genes_transposons.201606.gff\"\n",
    "#genes_renamedChr = \"/home/witham/Documents/Pipeline/data/genomes/Araport11_GFF3_genes_transposons.201606_renamedChr.gff\"\n",
    "test_genes = \"/home/witham/Documents/Pipeline/data/genomes/test_genes.gff3\"\n",
    "testgenesonly_gff = \"/home/witham/Documents/Pipeline/data/genomes/testgenes_only.gff3\"\n",
    "temp = \"/home/witham/Documents/Pipeline/data/TSS_data/temp.txt\"\n",
    "#TSS = \"/home/witham/Documents/Pipeline/data/TSS_data/AnnotatedPEATPeaks_renamedcol.gff\"\n",
    "#TSS = \"/home/witham/Documents/Pipeline/data/TSS_data/TSStest.txt\"\n",
    "#find_closest_TSS(genes,output,temp)\n",
    "genesonly_gff = \"../../data/genomes/genesonly.gff3\"\n",
    "promoters = \"../../data/genomes/promoters.gff3\"\n",
    "#genes_bed = \"/home/witham/Documents/Pipeline/data/genomes/genes.bed\"\n",
    "overlapping_promoters = \"../../data/genomes/promoters_overlapping.gff3\"\n",
    "promoterandgenes_only_overlap = \"../../data/genomes/promoterandgenes_only_overlap.gff3\""
   ]
  },
  {
   "cell_type": "code",
   "execution_count": 10,
   "metadata": {},
   "outputs": [],
   "source": [
    "#remove 'Chr' from seqname column in TSS gff file so that it matches the naming in the gene gff file\n",
    "#also remove Chr from araport gff file\n",
    "#remove_characters_linestart(TSS_raw, TSS_renamedChr, 'Chr')\n",
    "#remove_characters_linestart(genes, genes_renamedChr, 'Chr')"
   ]
  },
  {
   "cell_type": "code",
   "execution_count": 11,
   "metadata": {},
   "outputs": [],
   "source": [
    "#num = len([1 for line in open(\"/home/witham/Documents/Pipeline/data/genomes/Arabidopsis_thaliana.TAIR10.dna.toplevel_sl_simpleChr.fasta\") if line.startswith(\">\")])\n",
    "#print(num)"
   ]
  },
  {
   "cell_type": "code",
   "execution_count": 12,
   "metadata": {},
   "outputs": [],
   "source": [
    "chromsizes_file = '/home/witham/Documents/Pipeline/data/genomes/chromsizes.chr'\n",
    "chromsizes_file_renamedChr_temp = '/home/witham/Documents/Pipeline/data/genomes/chromsizes_renamedChr_temp.chr'\n",
    "chromsizes_file_renamedChr = '/home/witham/Documents/Pipeline/data/genomes/chromsizes_renamedChr.chr'\n",
    "#chromsizes_file2 = '/home/witham/Documents/Pipeline/data/genomes/chromsizes2.chr'"
   ]
  },
  {
   "cell_type": "code",
   "execution_count": 91,
   "metadata": {},
   "outputs": [],
   "source": [
    "fasta_chromsizes(genome, chromsizes_file)"
   ]
  },
  {
   "cell_type": "code",
   "execution_count": 92,
   "metadata": {},
   "outputs": [],
   "source": [
    "#rename mitochondria and chloroplast to M and C\n",
    "remove_characters_linestart(chromsizes_file, chromsizes_file_renamedChr_temp, 'mitochondria','M')\n",
    "remove_characters_linestart(chromsizes_file_renamedChr_temp, chromsizes_file_renamedChr, 'chloroplast','C')\n",
    "os.remove(chromsizes_file_renamedChr_temp)"
   ]
  },
  {
   "cell_type": "code",
   "execution_count": 77,
   "metadata": {},
   "outputs": [],
   "source": [
    "#fasta_chromsizes(genome2, chromsizes_file2)"
   ]
  },
  {
   "cell_type": "code",
   "execution_count": 93,
   "metadata": {},
   "outputs": [],
   "source": [
    "#extract_genes(genes,genesonly_gff)\n",
    "extract_genes(genes,genesonly_gff)\n",
    "#this changes chromosome no. to 1 rather than Chr1"
   ]
  },
  {
   "cell_type": "code",
   "execution_count": 206,
   "metadata": {},
   "outputs": [],
   "source": [
    "#remove genes which are bidirectional (ie. upsteam promoter of another gene)\n",
    "#bidirectional_proms(genesonly_gff, nonbidirectional_promoters)"
   ]
  },
  {
   "cell_type": "code",
   "execution_count": 95,
   "metadata": {},
   "outputs": [],
   "source": [
    "#add_promoter(nonbidirectional_promoters,chromsizes_file_renamedChr,1000,promoters)"
   ]
  },
  {
   "cell_type": "code",
   "execution_count": 198,
   "metadata": {},
   "outputs": [],
   "source": [
    "# df = pd.read_csv(genesonly_gff, sep='\\t', encoding='utf-8',\n",
    "# names=[\"chromosome\", \"source\", \"type\", \"start\", \"end\", \"score\", \"strand\", \"phase\", \"attributes\"])\n",
    "        \n",
    "# positive = BedTool.from_dataframe(df[df.strand.isin(['+'])]) #add only positive strand genes to bedtools\n",
    "# pos_promoters = positive.flank(g=chromosome_sizes_dict, l=1000, r=0) #add promoter upstream of gene\n",
    "# with open(\"/home/witham/Documents/Pipeline/data/genomes/promoters.gff3\",'w') as f:\n",
    "#         f.write(str(pos_promoters))"
   ]
  },
  {
   "cell_type": "code",
   "execution_count": 98,
   "metadata": {},
   "outputs": [],
   "source": [
    "#find_closest_TSS(genesonly_gff,TSS_raw,'/home/witham/Documents/Pipeline/data/genomes/closest.test')"
   ]
  },
  {
   "cell_type": "code",
   "execution_count": 102,
   "metadata": {},
   "outputs": [],
   "source": [
    "#create file containing only promoters which overlap other genome features\n",
    "#promoter_overlap(promoters,genes,overlapping_promoters)"
   ]
  },
  {
   "cell_type": "code",
   "execution_count": 103,
   "metadata": {},
   "outputs": [
    {
     "name": "stdout",
     "output_type": "stream",
     "text": [
      "{'gff_id': {('Chr1',): 6785,\n",
      "            ('Chr2',): 4064,\n",
      "            ('Chr3',): 5115,\n",
      "            ('Chr4',): 3857,\n",
      "            ('Chr5',): 5714,\n",
      "            ('ChrC',): 122,\n",
      "            ('ChrM',): 87},\n",
      " 'gff_source': {('Araport11',): 25744},\n",
      " 'gff_source_type': {('Araport11', 'gene'): 25744},\n",
      " 'gff_type': {('gene',): 25744}}\n"
     ]
    }
   ],
   "source": [
    "#examine this gff3 promoter file and compare to all promoters\n",
    "in_file = overlapping_promoters\n",
    "examiner = GFFExaminer()\n",
    "in_handle = open(in_file)\n",
    "pprint.pprint(examiner.available_limits(in_handle))\n",
    "in_handle.close()"
   ]
  },
  {
   "cell_type": "code",
   "execution_count": 105,
   "metadata": {},
   "outputs": [
    {
     "name": "stdout",
     "output_type": "stream",
     "text": [
      "{'gff_id': {('Chr1',): 8771,\n",
      "            ('Chr2',): 5265,\n",
      "            ('Chr3',): 6544,\n",
      "            ('Chr4',): 5007,\n",
      "            ('Chr5',): 7469,\n",
      "            ('ChrC',): 133,\n",
      "            ('ChrM',): 152},\n",
      " 'gff_source': {('Araport11',): 33341},\n",
      " 'gff_source_type': {('Araport11', 'gene'): 33341},\n",
      " 'gff_type': {('gene',): 33341}}\n"
     ]
    }
   ],
   "source": [
    "# all promoters\n",
    "in_file = promoters\n",
    "examiner = GFFExaminer()\n",
    "in_handle = open(in_file)\n",
    "pprint.pprint(examiner.available_limits(in_handle))\n",
    "in_handle.close()"
   ]
  },
  {
   "cell_type": "code",
   "execution_count": 99,
   "metadata": {},
   "outputs": [],
   "source": [
    "# #promoters overlapping only genes\n",
    "# promoter_overlap(promoters,genesonly_gff,promoterandgenes_only_overlap)"
   ]
  },
  {
   "cell_type": "code",
   "execution_count": 100,
   "metadata": {},
   "outputs": [
    {
     "name": "stdout",
     "output_type": "stream",
     "text": [
      "{'gff_id': {('Chr1',): 5328,\n",
      "            ('Chr2',): 2902,\n",
      "            ('Chr3',): 4005,\n",
      "            ('Chr4',): 2920,\n",
      "            ('Chr5',): 4387,\n",
      "            ('ChrC',): 133,\n",
      "            ('ChrM',): 151},\n",
      " 'gff_source': {('Araport11',): 19826},\n",
      " 'gff_source_type': {('Araport11', 'gene'): 19826},\n",
      " 'gff_type': {('gene',): 19826}}\n"
     ]
    }
   ],
   "source": [
    "# promoters overlapping genes only\n",
    "in_file = promoterandgenes_only_overlap\n",
    "examiner = GFFExaminer()\n",
    "in_handle = open(in_file)\n",
    "pprint.pprint(examiner.available_limits(in_handle))\n",
    "in_handle.close()"
   ]
  },
  {
   "cell_type": "code",
   "execution_count": 154,
   "metadata": {},
   "outputs": [],
   "source": [
    "temp_gff = \"../../data/genomes/genesonly_no_annotation_temp.gff3\"\n",
    "extract_genes(genes,temp_gff,genesonly_gff)"
   ]
  },
  {
   "cell_type": "code",
   "execution_count": 155,
   "metadata": {},
   "outputs": [],
   "source": [
    "\n",
    "selected_genes = genesonly_gff\n",
    "\n",
    "promoters_incl_overlap = add_promoter(selected_genes,chromsizes_file_renamedChr,1000)"
   ]
  },
  {
   "cell_type": "code",
   "execution_count": 325,
   "metadata": {},
   "outputs": [],
   "source": [
    "merged = remove_promoter_overlap(promoters_incl_overlap,selected_genes,promoterandgenes_only_overlap)"
   ]
  },
  {
   "cell_type": "code",
   "execution_count": 327,
   "metadata": {},
   "outputs": [],
   "source": [
    "with open(promoters,'w') as f:\n",
    "    merged.to_csv(f,index=False,sep='\\t',header=0)"
   ]
  },
  {
   "cell_type": "code",
   "execution_count": 326,
   "metadata": {},
   "outputs": [
    {
     "data": {
      "text/html": [
       "<div>\n",
       "<style scoped>\n",
       "    .dataframe tbody tr th:only-of-type {\n",
       "        vertical-align: middle;\n",
       "    }\n",
       "\n",
       "    .dataframe tbody tr th {\n",
       "        vertical-align: top;\n",
       "    }\n",
       "\n",
       "    .dataframe thead th {\n",
       "        text-align: right;\n",
       "    }\n",
       "</style>\n",
       "<table border=\"1\" class=\"dataframe\">\n",
       "  <thead>\n",
       "    <tr style=\"text-align: right;\">\n",
       "      <th></th>\n",
       "      <th>chr</th>\n",
       "      <th>source</th>\n",
       "      <th>type</th>\n",
       "      <th>start</th>\n",
       "      <th>stop</th>\n",
       "      <th>dot1</th>\n",
       "      <th>strand</th>\n",
       "      <th>dot2</th>\n",
       "      <th>attributes</th>\n",
       "    </tr>\n",
       "  </thead>\n",
       "  <tbody>\n",
       "    <tr>\n",
       "      <th>0</th>\n",
       "      <td>Chr1</td>\n",
       "      <td>Araport11</td>\n",
       "      <td>gene</td>\n",
       "      <td>9131</td>\n",
       "      <td>10130</td>\n",
       "      <td>.</td>\n",
       "      <td>-</td>\n",
       "      <td>.</td>\n",
       "      <td>Dbxref=PMID:15010618,locus:2200940;ID=AT1G0102...</td>\n",
       "    </tr>\n",
       "    <tr>\n",
       "      <th>1</th>\n",
       "      <td>Chr1</td>\n",
       "      <td>Araport11</td>\n",
       "      <td>gene</td>\n",
       "      <td>13715</td>\n",
       "      <td>14714</td>\n",
       "      <td>.</td>\n",
       "      <td>-</td>\n",
       "      <td>.</td>\n",
       "      <td>Dbxref=PMID:11118137,PMID:15010618,PMID:166036...</td>\n",
       "    </tr>\n",
       "    <tr>\n",
       "      <th>2</th>\n",
       "      <td>Chr1</td>\n",
       "      <td>Araport11</td>\n",
       "      <td>gene</td>\n",
       "      <td>22121</td>\n",
       "      <td>23120</td>\n",
       "      <td>.</td>\n",
       "      <td>+</td>\n",
       "      <td>.</td>\n",
       "      <td>Alias=ASU1,ABNORMAL SUSPENSOR 1,ATDCL1,DICER-L...</td>\n",
       "    </tr>\n",
       "    <tr>\n",
       "      <th>3</th>\n",
       "      <td>Chr1</td>\n",
       "      <td>Araport11</td>\n",
       "      <td>gene</td>\n",
       "      <td>33172</td>\n",
       "      <td>34171</td>\n",
       "      <td>.</td>\n",
       "      <td>-</td>\n",
       "      <td>.</td>\n",
       "      <td>Alias=AtPPa1,pyrophosphorylase 1;Dbxref=PMID:1...</td>\n",
       "    </tr>\n",
       "    <tr>\n",
       "      <th>4</th>\n",
       "      <td>Chr1</td>\n",
       "      <td>Araport11</td>\n",
       "      <td>gene</td>\n",
       "      <td>37872</td>\n",
       "      <td>38443</td>\n",
       "      <td>.</td>\n",
       "      <td>-</td>\n",
       "      <td>.</td>\n",
       "      <td>Alias=LHY1,LATE ELONGATED HYPOCOTYL 1;Dbxref=P...</td>\n",
       "    </tr>\n",
       "    <tr>\n",
       "      <th>...</th>\n",
       "      <td>...</td>\n",
       "      <td>...</td>\n",
       "      <td>...</td>\n",
       "      <td>...</td>\n",
       "      <td>...</td>\n",
       "      <td>...</td>\n",
       "      <td>...</td>\n",
       "      <td>...</td>\n",
       "      <td>...</td>\n",
       "    </tr>\n",
       "    <tr>\n",
       "      <th>28246</th>\n",
       "      <td>ChrM</td>\n",
       "      <td>Araport11</td>\n",
       "      <td>gene</td>\n",
       "      <td>345757</td>\n",
       "      <td>346756</td>\n",
       "      <td>.</td>\n",
       "      <td>+</td>\n",
       "      <td>.</td>\n",
       "      <td>Dbxref=locus:504954618;ID=ATMG01350;Name=ATMG0...</td>\n",
       "    </tr>\n",
       "    <tr>\n",
       "      <th>28247</th>\n",
       "      <td>ChrM</td>\n",
       "      <td>Araport11</td>\n",
       "      <td>gene</td>\n",
       "      <td>351414</td>\n",
       "      <td>352413</td>\n",
       "      <td>.</td>\n",
       "      <td>-</td>\n",
       "      <td>.</td>\n",
       "      <td>Dbxref=PMID:9778852,PMID:7553942,PMID:15047901...</td>\n",
       "    </tr>\n",
       "    <tr>\n",
       "      <th>28248</th>\n",
       "      <td>ChrM</td>\n",
       "      <td>Araport11</td>\n",
       "      <td>gene</td>\n",
       "      <td>361053</td>\n",
       "      <td>362052</td>\n",
       "      <td>.</td>\n",
       "      <td>-</td>\n",
       "      <td>.</td>\n",
       "      <td>Dbxref=locus:504954620;ID=ATMG01370;Name=ATMG0...</td>\n",
       "    </tr>\n",
       "    <tr>\n",
       "      <th>28249</th>\n",
       "      <td>ChrM</td>\n",
       "      <td>Araport11</td>\n",
       "      <td>gene</td>\n",
       "      <td>362725</td>\n",
       "      <td>363724</td>\n",
       "      <td>.</td>\n",
       "      <td>+</td>\n",
       "      <td>.</td>\n",
       "      <td>Dbxref=locus:504954623;ID=ATMG01400;Name=ATMG0...</td>\n",
       "    </tr>\n",
       "    <tr>\n",
       "      <th>28250</th>\n",
       "      <td>ChrM</td>\n",
       "      <td>Araport11</td>\n",
       "      <td>gene</td>\n",
       "      <td>366701</td>\n",
       "      <td>366924</td>\n",
       "      <td>.</td>\n",
       "      <td>-</td>\n",
       "      <td>.</td>\n",
       "      <td>Dbxref=locus:504954624;ID=ATMG01410;Name=ATMG0...</td>\n",
       "    </tr>\n",
       "  </tbody>\n",
       "</table>\n",
       "<p>28251 rows × 9 columns</p>\n",
       "</div>"
      ],
      "text/plain": [
       "        chr     source  type   start    stop dot1 strand dot2  \\\n",
       "0      Chr1  Araport11  gene    9131   10130    .      -    .   \n",
       "1      Chr1  Araport11  gene   13715   14714    .      -    .   \n",
       "2      Chr1  Araport11  gene   22121   23120    .      +    .   \n",
       "3      Chr1  Araport11  gene   33172   34171    .      -    .   \n",
       "4      Chr1  Araport11  gene   37872   38443    .      -    .   \n",
       "...     ...        ...   ...     ...     ...  ...    ...  ...   \n",
       "28246  ChrM  Araport11  gene  345757  346756    .      +    .   \n",
       "28247  ChrM  Araport11  gene  351414  352413    .      -    .   \n",
       "28248  ChrM  Araport11  gene  361053  362052    .      -    .   \n",
       "28249  ChrM  Araport11  gene  362725  363724    .      +    .   \n",
       "28250  ChrM  Araport11  gene  366701  366924    .      -    .   \n",
       "\n",
       "                                              attributes  \n",
       "0      Dbxref=PMID:15010618,locus:2200940;ID=AT1G0102...  \n",
       "1      Dbxref=PMID:11118137,PMID:15010618,PMID:166036...  \n",
       "2      Alias=ASU1,ABNORMAL SUSPENSOR 1,ATDCL1,DICER-L...  \n",
       "3      Alias=AtPPa1,pyrophosphorylase 1;Dbxref=PMID:1...  \n",
       "4      Alias=LHY1,LATE ELONGATED HYPOCOTYL 1;Dbxref=P...  \n",
       "...                                                  ...  \n",
       "28246  Dbxref=locus:504954618;ID=ATMG01350;Name=ATMG0...  \n",
       "28247  Dbxref=PMID:9778852,PMID:7553942,PMID:15047901...  \n",
       "28248  Dbxref=locus:504954620;ID=ATMG01370;Name=ATMG0...  \n",
       "28249  Dbxref=locus:504954623;ID=ATMG01400;Name=ATMG0...  \n",
       "28250  Dbxref=locus:504954624;ID=ATMG01410;Name=ATMG0...  \n",
       "\n",
       "[28251 rows x 9 columns]"
      ]
     },
     "execution_count": 326,
     "metadata": {},
     "output_type": "execute_result"
    }
   ],
   "source": [
    "merged"
   ]
  },
  {
   "cell_type": "code",
   "execution_count": null,
   "metadata": {},
   "outputs": [],
   "source": []
  }
 ],
 "metadata": {
  "kernelspec": {
   "display_name": "Python [conda env:PromoterArchitecturePipeline] *",
   "language": "python",
   "name": "conda-env-PromoterArchitecturePipeline-py"
  },
  "language_info": {
   "codemirror_mode": {
    "name": "ipython",
    "version": 3
   },
   "file_extension": ".py",
   "mimetype": "text/x-python",
   "name": "python",
   "nbconvert_exporter": "python",
   "pygments_lexer": "ipython3",
   "version": "3.7.6"
  }
 },
 "nbformat": 4,
 "nbformat_minor": 4
}
