{
 "cells": [
  {
   "cell_type": "code",
   "execution_count": 1,
   "metadata": {},
   "outputs": [],
   "source": [
    "import pandas as pd"
   ]
  },
  {
   "cell_type": "code",
   "execution_count": 22,
   "metadata": {},
   "outputs": [],
   "source": [
    "def family_count(input_tsv,output):\n",
    "    \"\"\"count the number of enriched promoters in each family and save to file\"\"\"\n",
    "    input_tsv_df = pd.read_table(input_tsv, sep='\\t', header=0)\n",
    "    #input_tsv_df.groupby(by='TF_family').agg('count')\n",
    "    #include only positively enriched TFs\n",
    "    input_tsv_df_pos = input_tsv_df[input_tsv_df.site_representation == 'Up']\n",
    "    #count number of enriched genes in each family\n",
    "    familycounts = input_tsv_df_pos['TF_family'].value_counts().reset_index()\n",
    "    cols = ['TF_family','number_of_enriched_TFs']\n",
    "    familycounts.columns = cols\n",
    "    #save as file\n",
    "    familycounts.to_csv(output,index=False)\n",
    "    \n",
    "    return input_tsv_df_pos['TF_family'].value_counts()\n",
    "    "
   ]
  },
  {
   "cell_type": "code",
   "execution_count": 17,
   "metadata": {},
   "outputs": [],
   "source": [
    "input_tsv = '/home/witham/Documents/pipeline_new/PromoterArchitecture/data/output/non-overlapping_includingbidirectional_all_genes_newannotation/CiiiDER/Czechowski_400bp_promoters_5UTR_variable/enrichmentoutput_MostSigDeficit_mapped.tsv'"
   ]
  },
  {
   "cell_type": "code",
   "execution_count": 18,
   "metadata": {},
   "outputs": [],
   "source": [
    "output = '/home/witham/Documents/pipeline_new/PromoterArchitecture/data/output/non-overlapping_includingbidirectional_all_genes_newannotation/CiiiDER/Czechowski_400bp_promoters_5UTR_variable/enriched_TFBS_family_counts.txt'"
   ]
  },
  {
   "cell_type": "code",
   "execution_count": 23,
   "metadata": {},
   "outputs": [
    {
     "data": {
      "text/plain": [
       "C2C2DOF      36\n",
       "C2H2         19\n",
       "G2LIKE       15\n",
       "WRKY         15\n",
       "NAC          10\n",
       "MYB           9\n",
       "HOMEOBOX      8\n",
       "AP2EREBP      7\n",
       "BZIP          6\n",
       "C3H           5\n",
       "HB            4\n",
       "TRIHELIX      3\n",
       "RAV           2\n",
       "ARF           2\n",
       "ZFHD          1\n",
       "RWPRK         1\n",
       "ORPHAN        1\n",
       "BHLH          1\n",
       "REM           1\n",
       "C2C2YABBY     1\n",
       "ARID          1\n",
       "Name: TF_family, dtype: int64"
      ]
     },
     "execution_count": 23,
     "metadata": {},
     "output_type": "execute_result"
    }
   ],
   "source": [
    "family_count(input_tsv,output)"
   ]
  },
  {
   "cell_type": "code",
   "execution_count": null,
   "metadata": {},
   "outputs": [],
   "source": []
  }
 ],
 "metadata": {
  "kernelspec": {
   "display_name": "Python [conda env:PromoterArchitecturePipeline] *",
   "language": "python",
   "name": "conda-env-PromoterArchitecturePipeline-py"
  },
  "language_info": {
   "codemirror_mode": {
    "name": "ipython",
    "version": 3
   },
   "file_extension": ".py",
   "mimetype": "text/x-python",
   "name": "python",
   "nbconvert_exporter": "python",
   "pygments_lexer": "ipython3",
   "version": "3.7.8"
  }
 },
 "nbformat": 4,
 "nbformat_minor": 4
}
