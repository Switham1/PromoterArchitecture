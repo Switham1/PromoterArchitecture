{
 "cells": [
  {
   "cell_type": "code",
   "execution_count": 1,
   "metadata": {},
   "outputs": [],
   "source": [
    "from pybedtools import BedTool\n",
    "import pandas as pd"
   ]
  },
  {
   "cell_type": "code",
   "execution_count": 2,
   "metadata": {},
   "outputs": [],
   "source": [
    "\n",
    "def overlap_open_chromatin(promoter_gff,allfeatures_gff): #,output_file\n",
    "    \"\"\"function to create file containing promoters which overlap open chromatin\"\"\"\n",
    "    #read in files using BedTools\n",
    "    promoters = BedTool(promoter_gff) \n",
    "    features = BedTool(allfeatures_gff)\n",
    "    #report chromosome position of overlapping feature, along with the promoter which overlaps it (only reports the overlapping nucleotides, not the whole promoter length. Can use u=True to get whole promoter length)\n",
    "    #f, the minimum overlap as fraction of A. F, nucleotide fraction of B (genes) that need to be overlapping with A (promoters)\n",
    "    #wa, Write the original entry in A for each overlap.\n",
    "    #u, write original A entry only once even if more than one overlap\n",
    "    intersect = promoters.intersect(features,f=0.001, F=0.001, u=True, wa=True) #could add u=True which indicates we want to see the promoters that overlap features in the genome\n",
    "    #write to file\n",
    "    return str(intersect)\n",
    "#     with open(output_file, 'w') as output:\n",
    "#         output.write(str(intersect))"
   ]
  },
  {
   "cell_type": "code",
   "execution_count": 3,
   "metadata": {},
   "outputs": [],
   "source": [
    "def count_promoters(in_file): #, out_file\n",
    "    \"\"\"this function creates a text file detailing the number of promoters in an input GFF file \"\"\"\n",
    "    examiner = GFFExaminer()\n",
    "    #open input GFF file\n",
    "    in_handle = open(in_file,'r')\n",
    "    output = pformat(examiner.available_limits(in_handle))\n",
    "    in_handle.close()\n",
    "    return output\n",
    "    #output a text file, giving information such as no. of promoters in the file\n",
    "#     with open(out_file, 'w') as fout:\n",
    "#         fout.write(pformat(examiner.available_limits(in_handle)))\n",
    "#     in_handle.close()\n"
   ]
  },
  {
   "cell_type": "code",
   "execution_count": null,
   "metadata": {},
   "outputs": [],
   "source": []
  },
  {
   "cell_type": "code",
   "execution_count": null,
   "metadata": {},
   "outputs": [],
   "source": [
    "#directory_path = '/ei/workarea/group-eg/project_PromoterArchitecturePipeline'"
   ]
  },
  {
   "cell_type": "code",
   "execution_count": null,
   "metadata": {},
   "outputs": [],
   "source": [
    "directory_path = '../../'"
   ]
  },
  {
   "cell_type": "code",
   "execution_count": null,
   "metadata": {},
   "outputs": [],
   "source": [
    "promoters = f'{directory_path}data/genomes/promoters.gff'\n",
    "OpenChromatin_roots = f'{directory_path}ATAC-seq/potter2018/Roots_NaOH_peaks_all.bed'\n",
    "OpenChromatin_shoots = f'{directory_path}ATAC-seq/potter2018/Shoots_NaOH_peaks_all.bed"
   ]
  },
  {
   "cell_type": "code",
   "execution_count": null,
   "metadata": {},
   "outputs": [],
   "source": [
    "overlap_open_chromatin(promoters, )"
   ]
  },
  {
   "cell_type": "code",
   "execution_count": null,
   "metadata": {},
   "outputs": [],
   "source": [
    "#count no. of promoters in overlapping promoters file\n",
    "count_promoters(overlapping_promoters)"
   ]
  }
 ],
 "metadata": {
  "kernelspec": {
   "display_name": "Python [conda env:PromoterArchitecturePipeline] *",
   "language": "python",
   "name": "conda-env-PromoterArchitecturePipeline-py"
  },
  "language_info": {
   "codemirror_mode": {
    "name": "ipython",
    "version": 3
   },
   "file_extension": ".py",
   "mimetype": "text/x-python",
   "name": "python",
   "nbconvert_exporter": "python",
   "pygments_lexer": "ipython3",
   "version": "3.7.6"
  }
 },
 "nbformat": 4,
 "nbformat_minor": 4
}
