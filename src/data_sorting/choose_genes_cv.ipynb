{
 "cells": [
  {
   "cell_type": "code",
   "execution_count": 25,
   "metadata": {},
   "outputs": [],
   "source": [
    "import pandas as pd\n",
    "import argparse\n",
    "import os"
   ]
  },
  {
   "cell_type": "code",
   "execution_count": null,
   "metadata": {},
   "outputs": [],
   "source": [
    "parser = argparse.ArgumentParser(description='choose_genes_cv')\n",
    "parser.add_argument('file_names', type=str, help='Name of folder and filenames for the promoters extracted')\n",
    "parser.add_argument('promoter_bedfile', type=str, help='Input location of promoter bedfile')\n",
    "parser.add_argument('Czechowski_rankedcv', type=str, help='Input location of Czechowski et al 2005 ranked cv dataset reanalysed by Will Nash')\n",
    "parser.add_argument('no_of_genes', type=int, help='Number of genes in each category to subset')\n",
    "parser.add_argument('Czechowski_gene_categories', type=str, help='Output location of gene category subsets')\n",
    "\n",
    "\n",
    "\n",
    "\n",
    "args = parser.parse_args()"
   ]
  },
  {
   "cell_type": "code",
   "execution_count": 11,
   "metadata": {},
   "outputs": [],
   "source": [
    "def filter_genes(promoter_bed, select_genes_file):\n",
    "    \"\"\"filter out genes from the microarray data which aren't in the promoter_bed\"\"\"\n",
    "    select_genes = pd.read_table(select_genes_file, sep='\\t', header=None)\n",
    "    cols = ['rank','probe_id','AGI','expression_mean','expression_SD','expression_CV','proportion_of_values_present_in_mas5','presence_in_araport11','constitutive_in_araport11']\n",
    "    select_genes.columns = cols\n",
    "    \n",
    "    promoters = pd.read_table(promoter_bed, sep='\\t', header=None)\n",
    "    col = ['chr','start','stop','AGI','dot1', 'strand','source','type','dot2','attributes']\n",
    "    promoters.columns = col\n",
    "\n",
    "    merged = pd.merge(promoters, select_genes, on='AGI', how='left')\n",
    "    #remove NaNs in expression_CV column\n",
    "    filtered_df = merged[merged.expression_CV.notnull()]\n",
    "    \n",
    "    return filtered_df   "
   ]
  },
  {
   "cell_type": "code",
   "execution_count": 16,
   "metadata": {},
   "outputs": [],
   "source": [
    "def subSet_onCV(in_df, out_dir, no_of_genes):\n",
    "    '''\n",
    "    Extract the constitutive, variable, and control subsets based on CV values\n",
    "    '''\n",
    "    #fliltering based on presence in the Araport11 annotation, define the first\n",
    "    #n rows as the constitutive set and add label\n",
    "    constitutive          = in_df[in_df.presence_in_araport11 == 1][0:no_of_genes]\n",
    "    constitutive['state'] = 'constitutive'\n",
    "\n",
    "    #define the last n rows as the variable set and add label\n",
    "    variable          = in_df[in_df.presence_in_araport11 == 1][-no_of_genes:]\n",
    "    variable['state'] = 'variable'\n",
    "\n",
    "    #extract the rest of the rows as the control search space\n",
    "    mid_range    = in_df[in_df.presence_in_araport11 == 1][(no_of_genes+1):-(no_of_genes+1)]\n",
    "\n",
    "    #create 10 labelled bins\n",
    "    mid_range['bins'] = pd.Series(pd.qcut(mid_range['expression_CV'], q = 10, precision = 2))\n",
    "\n",
    "    #extract 10 random rows from these bins and label as the control set\n",
    "    samples_from_bins = mid_range.groupby('bins').apply(pd.DataFrame.sample, 10, random_state = 2)\n",
    "    samples_from_bins['state'] = 'control'\n",
    "\n",
    "    #concatenate and write as output\n",
    "    output_set = pd.concat([constitutive[['AGI', 'state']], variable[['AGI', 'state']], samples_from_bins[['AGI', 'state']]], ignore_index = True)\n",
    "    output_set.to_csv(out_dir, sep = '\\t', index = False, header=False)\n",
    "    \n",
    "    #function from expressionVar_subsets_plot.py\n",
    "    #__author__ = \"Will Nash\"\n",
    "    # __copyright__ = \"Copyright 2020, The Earlham Institute\"\n",
    "    # __credits__ = [\"Will Nash\", \"Wilfried Haerty\"]\n",
    "    # __license__ = \"GPL\"\n",
    "    # __version__ = \"1.0\"\n",
    "    # __maintainer__ = \"Will Nash\"\n",
    "    # __email__ = \"will.nash@earlham.ac.uk\"\n",
    "    # __status__ = \"Testing\"\n",
    "    #__modified_by__ \"Sam Witham\""
   ]
  },
  {
   "cell_type": "code",
   "execution_count": 23,
   "metadata": {},
   "outputs": [],
   "source": [
    "file_names = 'non-overlapping_includingbidirectional_all_genes_newannotation'\n",
    "Czechowski_rankedcv = '../../data/genes/AtGE_dev_gcRMA__all_probes__CV.tsv'\n",
    "promoter_bedfile = f'{location}/FIMO/{promoter_pref}.bed'\n",
    "Czechowski_gene_categories = f'../../data/output/{filenames}/genes/promoter_5UTR_czechowski_constitutive_variable_random'\n",
    "no_of_genes = 100"
   ]
  },
  {
   "cell_type": "code",
   "execution_count": 26,
   "metadata": {},
   "outputs": [
    {
     "name": "stdout",
     "output_type": "stream",
     "text": [
      "Directory  ../../data/output/non-overlapping_includingbidirectional_all_genes_newannotation/genes  already exists\n"
     ]
    }
   ],
   "source": [
    "#make directory for the output files to be exported to\n",
    "#dirName = f'{args.directory_path}/data/output/{args.file_names}'\n",
    "dirName = f'../../data/output/{file_names}/genes'\n",
    "try:\n",
    "    # Create target Directory\n",
    "    os.mkdir(dirName)\n",
    "    print(\"Directory \" , dirName ,  \" created\") \n",
    "except FileExistsError:\n",
    "    print(\"Directory \" , dirName ,  \" already exists\")"
   ]
  },
  {
   "cell_type": "code",
   "execution_count": 20,
   "metadata": {},
   "outputs": [],
   "source": [
    "filtered = filter_genes(promoter_bedfile,Czechowski_rankedcv)"
   ]
  },
  {
   "cell_type": "code",
   "execution_count": 21,
   "metadata": {},
   "outputs": [],
   "source": [
    "subSet_onCV(filtered,Czechowski_gene_categories,no_of_genes)"
   ]
  }
 ],
 "metadata": {
  "kernelspec": {
   "display_name": "Python [conda env:PromoterArchitecturePipeline] *",
   "language": "python",
   "name": "conda-env-PromoterArchitecturePipeline-py"
  },
  "language_info": {
   "codemirror_mode": {
    "name": "ipython",
    "version": 3
   },
   "file_extension": ".py",
   "mimetype": "text/x-python",
   "name": "python",
   "nbconvert_exporter": "python",
   "pygments_lexer": "ipython3",
   "version": "3.7.6"
  }
 },
 "nbformat": 4,
 "nbformat_minor": 4
}
