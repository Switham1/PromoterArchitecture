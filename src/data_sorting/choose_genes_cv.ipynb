{
 "cells": [
  {
   "cell_type": "code",
   "execution_count": 9,
   "metadata": {},
   "outputs": [],
   "source": [
    "import pandas as pd\n",
    "import argparse\n",
    "import os"
   ]
  },
  {
   "cell_type": "code",
   "execution_count": null,
   "metadata": {},
   "outputs": [],
   "source": [
    "parser = argparse.ArgumentParser(description='choose_genes_cv')\n",
    "parser.add_argument('file_names', type=str, help='Name of folder and filenames for the promoters extracted')\n",
    "parser.add_argument('promoter_bedfile', type=str, help='Input location of promoter bedfile')\n",
    "parser.add_argument('Czechowski_rankedcv', type=str, help='Input location of Czechowski et al 2005 ranked cv dataset reanalysed by Will Nash')\n",
    "parser.add_argument('no_of_genes', type=int, help='Number of genes in each category to subset')\n",
    "parser.add_argument('Czechowski_gene_categories', type=str, help='Output location of gene category subsets')\n",
    "parser.add_argument('promoter_mapped_motifs', type=str, help='Input location of promoter mapped motifs bed file')\n",
    "parser.add_argument('promoters_filtered_contain_motifs', type=str, help='output location of the promoter bed file filtered so that each promoter contains at least one TFBS')\n",
    "\n",
    "args = parser.parse_args()"
   ]
  },
  {
   "cell_type": "code",
   "execution_count": 50,
   "metadata": {},
   "outputs": [],
   "source": [
    "def remove_proms_no_TFBS(promoter_bedfile, promoter_mapped_motifs,promoters_filtered_contain_motifs):\n",
    "    \"\"\"remove promoters which had no TFBSs found within them after filtering the FIMO output. Create output file of these\"\"\"\n",
    "    promoters = pd.read_table(promoter_bedfile, sep='\\t', header=None)\n",
    "    col = ['chr','start','stop','promoter_AGI','dot1', 'strand','source','type','dot2','attributes']\n",
    "    promoters.columns = col\n",
    "    mapped_motifs = pd.read_table(promoter_mapped_motifs, sep='\\t', header=None)\n",
    "    col2 = ['chr', 'start', 'stop', 'name_rep', 'score', 'strand', 'promoter_AGI', 'p-value', 'q-value', 'matched_sequence', 'TF_name', 'TF_family', 'TF_AGI']\n",
    "    mapped_motifs.columns = col2\n",
    "\n",
    "    merged = pd.merge(promoters,mapped_motifs, on='promoter_AGI', how='left',  suffixes=['', '_y'])\n",
    "    #remove NaNs in TF_AGI column\n",
    "    filtered_df = merged[merged.TF_AGI.notnull()]\n",
    "    #reduce columns\n",
    "    filtered_df = filtered_df[col]\n",
    "    #filter duplicates\n",
    "    idx = filtered_df.promoter_AGI.drop_duplicates().index\n",
    "    #this will return filtered df\n",
    "    no_dups = filtered_df.loc[idx,:]\n",
    "    no_dups.to_csv(promoters_filtered_contain_motifs, sep='\\t', header=None, index=False)    "
   ]
  },
  {
   "cell_type": "code",
   "execution_count": 51,
   "metadata": {},
   "outputs": [],
   "source": [
    "def filter_genes(promoter_bed, select_genes_file):\n",
    "    \"\"\"filter out genes from the microarray data which aren't in the promoter_bed\"\"\"\n",
    "    select_genes = pd.read_table(select_genes_file, sep='\\t', header=None)\n",
    "    cols = ['rank','probe_id','AGI','expression_mean','expression_SD','expression_CV','proportion_of_values_present_in_mas5','presence_in_araport11','constitutive_in_araport11']\n",
    "    select_genes.columns = cols\n",
    "    \n",
    "    promoters = pd.read_table(promoter_bed, sep='\\t', header=None)\n",
    "    col = ['chr','start','stop','AGI','dot1', 'strand','source','type','dot2','attributes']\n",
    "    promoters.columns = col\n",
    "\n",
    "    merged = pd.merge(promoters, select_genes, on='AGI', how='left')\n",
    "    #remove NaNs in expression_CV column\n",
    "    filtered_df = merged[merged.expression_CV.notnull()]\n",
    "    \n",
    "    return filtered_df   "
   ]
  },
  {
   "cell_type": "code",
   "execution_count": 12,
   "metadata": {},
   "outputs": [],
   "source": [
    "def subSet_onCV(in_df, out_dir, no_of_genes):\n",
    "    '''\n",
    "    Extract the constitutive, variable, and control subsets based on CV values\n",
    "    '''\n",
    "    #fliltering based on presence in the Araport11 annotation, define the first\n",
    "    #n rows as the constitutive set and add label\n",
    "    constitutive          = in_df[in_df.presence_in_araport11 == 1][0:no_of_genes]\n",
    "    constitutive['state'] = 'constitutive'\n",
    "\n",
    "    #define the last n rows as the variable set and add label\n",
    "    variable          = in_df[in_df.presence_in_araport11 == 1][-no_of_genes:]\n",
    "    variable['state'] = 'variable'\n",
    "\n",
    "    #extract the rest of the rows as the control search space\n",
    "    mid_range    = in_df[in_df.presence_in_araport11 == 1][(no_of_genes+1):-(no_of_genes+1)]\n",
    "\n",
    "    #create 10 labelled bins\n",
    "    mid_range['bins'] = pd.Series(pd.qcut(mid_range['expression_CV'], q = 10, precision = 2))\n",
    "\n",
    "    #extract 10 random rows from these bins and label as the control set\n",
    "    samples_from_bins = mid_range.groupby('bins').apply(pd.DataFrame.sample, 10, random_state = 2)\n",
    "    samples_from_bins['state'] = 'control'\n",
    "\n",
    "    #concatenate and write as output\n",
    "    output_set = pd.concat([constitutive[['AGI', 'state']], variable[['AGI', 'state']], samples_from_bins[['AGI', 'state']]], ignore_index = True)\n",
    "    output_set.to_csv(out_dir, sep = '\\t', index = False, header=False)\n",
    "    \n",
    "    #function from expressionVar_subsets_plot.py\n",
    "    #__author__ = \"Will Nash\"\n",
    "    # __copyright__ = \"Copyright 2020, The Earlham Institute\"\n",
    "    # __credits__ = [\"Will Nash\", \"Wilfried Haerty\"]\n",
    "    # __license__ = \"GPL\"\n",
    "    # __version__ = \"1.0\"\n",
    "    # __maintainer__ = \"Will Nash\"\n",
    "    # __email__ = \"will.nash@earlham.ac.uk\"\n",
    "    # __status__ = \"Testing\"\n",
    "    #__modified_by__ \"Sam Witham\""
   ]
  },
  {
   "cell_type": "code",
   "execution_count": 53,
   "metadata": {},
   "outputs": [],
   "source": [
    "\n",
    "file_names = 'non-overlapping_includingbidirectional_all_genes_newannotation'\n",
    "Czechowski_rankedcv = '../../data/genes/AtGE_dev_gcRMA__all_probes__CV.tsv'\n",
    "promoter_bedfile = f'../../data/output/{file_names}/FIMO/promoters_5UTR.bed'\n",
    "Czechowski_gene_categories = f'../../data/output/{file_names}/genes/promoters_5UTR_czechowski_constitutive_variable_random'\n",
    "no_of_genes = 100\n",
    "promoter_mapped_motifs = f'../../data/output/{file_names}/FIMO/promoters_5UTR_motifs_mapped.bed'\n",
    "promoters_filtered_no_motifs = f'../../data/output/{file_names}/FIMO/promoters_5UTR_filtered_contain_motifs.bed'"
   ]
  },
  {
   "cell_type": "code",
   "execution_count": 26,
   "metadata": {},
   "outputs": [
    {
     "name": "stdout",
     "output_type": "stream",
     "text": [
      "Directory  ../../data/output/non-overlapping_includingbidirectional_all_genes_newannotation/genes  already exists\n"
     ]
    }
   ],
   "source": [
    "#make directory for the output files to be exported to\n",
    "#dirName = f'{args.directory_path}/data/output/{args.file_names}'\n",
    "dirName = f'../../data/output/{file_names}/genes'\n",
    "try:\n",
    "    # Create target Directory\n",
    "    os.mkdir(dirName)\n",
    "    print(\"Directory \" , dirName ,  \" created\") \n",
    "except FileExistsError:\n",
    "    print(\"Directory \" , dirName ,  \" already exists\")"
   ]
  },
  {
   "cell_type": "code",
   "execution_count": 54,
   "metadata": {},
   "outputs": [
    {
     "ename": "NameError",
     "evalue": "name 'promoters_filtered_contain_motifs' is not defined",
     "output_type": "error",
     "traceback": [
      "\u001b[0;31m---------------------------------------------------------------------------\u001b[0m",
      "\u001b[0;31mNameError\u001b[0m                                 Traceback (most recent call last)",
      "\u001b[0;32m<ipython-input-54-c068e20f9aeb>\u001b[0m in \u001b[0;36m<module>\u001b[0;34m\u001b[0m\n\u001b[0;32m----> 1\u001b[0;31m \u001b[0mremove_proms_no_TFBS\u001b[0m\u001b[0;34m(\u001b[0m\u001b[0mpromoter_bedfile\u001b[0m\u001b[0;34m,\u001b[0m \u001b[0mpromoter_mapped_motifs\u001b[0m\u001b[0;34m,\u001b[0m\u001b[0mpromoters_filtered_contain_motifs\u001b[0m\u001b[0;34m)\u001b[0m\u001b[0;34m\u001b[0m\u001b[0;34m\u001b[0m\u001b[0m\n\u001b[0m",
      "\u001b[0;31mNameError\u001b[0m: name 'promoters_filtered_contain_motifs' is not defined"
     ]
    }
   ],
   "source": [
    "remove_proms_no_TFBS(promoter_bedfile, promoter_mapped_motifs,promoters_filtered_contain_motifs)"
   ]
  },
  {
   "cell_type": "code",
   "execution_count": 20,
   "metadata": {},
   "outputs": [],
   "source": [
    "filtered = filter_genes(promoters_filtered_no_motifs,Czechowski_rankedcv)"
   ]
  },
  {
   "cell_type": "code",
   "execution_count": 21,
   "metadata": {},
   "outputs": [],
   "source": [
    "subSet_onCV(filtered,Czechowski_gene_categories,no_of_genes)"
   ]
  }
 ],
 "metadata": {
  "kernelspec": {
   "display_name": "Python [conda env:PromoterArchitecturePipeline] *",
   "language": "python",
   "name": "conda-env-PromoterArchitecturePipeline-py"
  },
  "language_info": {
   "codemirror_mode": {
    "name": "ipython",
    "version": 3
   },
   "file_extension": ".py",
   "mimetype": "text/x-python",
   "name": "python",
   "nbconvert_exporter": "python",
   "pygments_lexer": "ipython3",
   "version": "3.7.6"
  }
 },
 "nbformat": 4,
 "nbformat_minor": 4
}
