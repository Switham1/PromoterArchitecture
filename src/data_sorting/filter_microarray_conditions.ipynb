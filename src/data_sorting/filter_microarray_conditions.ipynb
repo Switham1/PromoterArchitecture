{
 "cells": [
  {
   "cell_type": "code",
   "execution_count": 8,
   "metadata": {},
   "outputs": [],
   "source": [
    "#filter schmid et al 2005 microarray conditions\n"
   ]
  },
  {
   "cell_type": "code",
   "execution_count": 1,
   "metadata": {},
   "outputs": [],
   "source": [
    "import pandas as pd\n",
    "import tspex\n",
    "import seaborn as sns"
   ]
  },
  {
   "cell_type": "code",
   "execution_count": 2,
   "metadata": {},
   "outputs": [],
   "source": [
    "input_file = '../../data/genes/AtGeneExpress_CV_2020/AtGE_dev_gcRMA.txt.newline'\n",
    "output_file = '../../data/genes/AtGeneExpress_CV_2020/AtGE_dev_gcRMA.txt.newline.filtered'\n",
    "output_tau = '../../data/output/non-overlapping_includingbidirectional_all_genes_newannotation/genes/tissue_specific/promoters_5UTR_schmid_allfilteredgenes_TAU.txt'"
   ]
  },
  {
   "cell_type": "code",
   "execution_count": 4,
   "metadata": {},
   "outputs": [],
   "source": [
    "def filter_conditions(input_file,output_file):\n",
    "    \"\"\"Filter unwanted plant growth conditions/tissues\"\"\"\n",
    "    df = pd.read_table(input_file, sep='\\t',header=0)\n",
    "    #filter columns to conditions of interest\n",
    "    #df = df[['Affy_identifier','AGI code','ATGE_12_A','ATGE_12_B','ATGE_12_C','ATGE_13_A','ATGE_13_B','ATGE_13_C','ATGE_14_A','ATGE_14_B','ATGE_14_C','ATGE_15_A','ATGE_15_B','ATGE_15_C','ATGE_16_A','ATGE_16_B','ATGE_16_C','ATGE_17_A','ATGE_17_B','ATGE_17_C','ATGE_18_A','ATGE_18_B','ATGE_18_C','ATGE_19_A','ATGE_19_B','ATGE_19_C','ATGE_20_A','ATGE_20_B','ATGE_20_C','ATGE_21_A','ATGE_21_B','ATGE_21_C','ATGE_22_A','ATGE_22_B','ATGE_22_C','ATGE_23_A','ATGE_23_B','ATGE_23_C','ATGE_24_A','ATGE_24_B','ATGE_24_C','ATGE_26_A','ATGE_26_B','ATGE_26_C','ATGE_27_A','ATGE_27_B','ATGE_27_C','ATGE_28_A','ATGE_28_B','ATGE_28_C','ATGE_29_A','ATGE_29_B','ATGE_29_C','ATGE_31_A','ATGE_31_B','ATGE_31_C','ATGE_32_A','ATGE_32_B','ATGE_32_C','ATGE_33_A','ATGE_33_B','ATGE_33_C','ATGE_34_A','ATGE_34_B','ATGE_34_C','ATGE_35_A','ATGE_35_B','ATGE_35_C','ATGE_36_A','ATGE_36_B','ATGE_36_C','ATGE_37_A','ATGE_37_B','ATGE_37_C','ATGE_39_A',\n",
    "           # 'ATGE_39_B','ATGE_39_C','ATGE_40_A','ATGE_40_B','ATGE_40_C','ATGE_41_A','ATGE_41_B','ATGE_41_C','ATGE_42_A','ATGE_42_B','ATGE_42_C','ATGE_43_A','ATGE_43_B','ATGE_43_C','ATGE_45_A','ATGE_45_B','ATGE_45_C','ATGE_73_A','ATGE_73_B','ATGE_73_C','ATGE_76_A','ATGE_76_B','ATGE_76_C','ATGE_77_A','ATGE_77_B','ATGE_77_C','ATGE_78_A','ATGE_78_B','ATGE_78_C','ATGE_79_A','ATGE_79_B','ATGE_79_C','ATGE_81_A','ATGE_81_B','ATGE_81_C','ATGE_82_A','ATGE_82_B','ATGE_82_C','ATGE_83_A','ATGE_83_B','ATGE_83_C','ATGE_84_A','ATGE_84_B','ATGE_84_C','ATGE_87_A','ATGE_87_B','ATGE_87_C','ATGE_89_A','ATGE_89_B','ATGE_89_C','ATGE_90_A','ATGE_90_B','ATGE_90_C','ATGE_91_A','ATGE_91_B','ATGE_91_C','ATGE_92_A','ATGE_92_B','ATGE_92_C']]\n",
    "    #write to output file\n",
    "    #df.to_csv(output_file, sep='\\t', header=1, index=False)\n",
    "    return df\n"
   ]
  },
  {
   "cell_type": "code",
   "execution_count": 35,
   "metadata": {},
   "outputs": [],
   "source": [
    "def calculate_tau(expression_data,output_tau):\n",
    "    \"\"\"calculate the TAU tissue specificity, log transforming the expression data in the process\"\"\"\n",
    "    df = expression_data\n",
    "    #remove NaN in AGI code column\n",
    "    df_filtered = df.dropna()\n",
    "    #remove Affy_identifier that starts with AFFX (Affymetrix normalisation probes)\n",
    "    df_filtered2 = df_filtered[~df_filtered.Affy_identifier.str.startswith('AFFX')]\n",
    "    \n",
    "    #set gene name as index column\n",
    "    df_filtered2.set_index('AGI code',inplace=True)\n",
    "    \n",
    "       #inverse log transform the expression data\n",
    "    df_filtered2_inverselog = df_filtered2.copy()\n",
    "    df_filtered2_inverselog.iloc[:,1:] = df_filtered2.iloc[:,1:].apply(lambda x: 2**x)\n",
    "    df_filtered2=df_filtered2_inverselog.copy()\n",
    "    #merge columns that are replicates\n",
    "    #first make a list of all final column names\n",
    "    list_of_conditions = []\n",
    "    for col in df_filtered2.columns:\n",
    "        if col == 'Affy_identifier':\n",
    "            pass\n",
    "        else:\n",
    "            \n",
    "\n",
    "            if col[:-2] in list_of_conditions:\n",
    "                pass\n",
    "            else:\n",
    "                list_of_conditions.append(col[:-2])\n",
    "    \n",
    "    #create copy of df\n",
    "    mean_replicates = df_filtered2.copy()\n",
    "    #merge replicates and calculate the mean\n",
    "    for ID in list_of_conditions:\n",
    "        tempdf= mean_replicates.loc[:,mean_replicates.columns.str.contains(ID)].mean(axis=1).reset_index()\n",
    "        tempdf.columns = ['AGI code', ID]\n",
    "        #merge with original df\n",
    "        df_filtered2 = pd.merge(df_filtered2, tempdf, how='left', on='AGI code')\n",
    "\n",
    "    #remove Affy_identifier column\n",
    "    df_filtered2.drop('Affy_identifier', inplace=True, axis=1)\n",
    "    \n",
    "    #set index\n",
    "    df_filtered2.set_index('AGI code', inplace=True)\n",
    "    \n",
    "    #select only columns in the list\n",
    "    df_filtered2 = df_filtered2[[name for name in list_of_conditions]]\n",
    "    \n",
    "        \n",
    "    \n",
    "    \n",
    "    return df_filtered2\n",
    "    \n",
    "    #Filter genes which have no expression\n",
    "    df_filtered3 = df_filtered2.loc[(df_filtered2 > 0).any(axis=1)]\n",
    "    \n",
    "    #Create copy of the df\n",
    "    data = df_filtered3.copy()\n",
    "    \n",
    "    #create TissueSpecificity object\n",
    "    tso = tspex.TissueSpecificity(data, 'tau', log=True)\n",
    "    #create tau df\n",
    "    tso_df = pd.DataFrame(tso.tissue_specificity)\n",
    "    tso_df.columns = ['TAU']\n",
    "        \n",
    "    #save output file\n",
    "    tso_df.to_csv(output_tau, sep='\\t', header=1)\n",
    "    \n",
    "    return tso,tso_df"
   ]
  },
  {
   "cell_type": "code",
   "execution_count": 36,
   "metadata": {},
   "outputs": [],
   "source": [
    "tso = calculate_tau(expression_data,output_tau)"
   ]
  },
  {
   "cell_type": "code",
   "execution_count": 6,
   "metadata": {},
   "outputs": [],
   "source": [
    "expression_data = filter_conditions(input_file,output_file)"
   ]
  },
  {
   "cell_type": "code",
   "execution_count": 7,
   "metadata": {},
   "outputs": [
    {
     "ename": "ValueError",
     "evalue": "too many values to unpack (expected 2)",
     "output_type": "error",
     "traceback": [
      "\u001b[0;31m---------------------------------------------------------------------------\u001b[0m",
      "\u001b[0;31mValueError\u001b[0m                                Traceback (most recent call last)",
      "\u001b[0;32m<ipython-input-7-babd84c42298>\u001b[0m in \u001b[0;36m<module>\u001b[0;34m\u001b[0m\n\u001b[0;32m----> 1\u001b[0;31m \u001b[0mtso\u001b[0m\u001b[0;34m,\u001b[0m\u001b[0mtso_df\u001b[0m \u001b[0;34m=\u001b[0m \u001b[0mcalculate_tau\u001b[0m\u001b[0;34m(\u001b[0m\u001b[0mexpression_data\u001b[0m\u001b[0;34m,\u001b[0m\u001b[0moutput_tau\u001b[0m\u001b[0;34m)\u001b[0m\u001b[0;34m\u001b[0m\u001b[0;34m\u001b[0m\u001b[0m\n\u001b[0m",
      "\u001b[0;31mValueError\u001b[0m: too many values to unpack (expected 2)"
     ]
    }
   ],
   "source": [
    "tso,tso_df = calculate_tau(expression_data,output_tau)"
   ]
  },
  {
   "cell_type": "code",
   "execution_count": 208,
   "metadata": {},
   "outputs": [
    {
     "data": {
      "text/html": [
       "<div>\n",
       "<style scoped>\n",
       "    .dataframe tbody tr th:only-of-type {\n",
       "        vertical-align: middle;\n",
       "    }\n",
       "\n",
       "    .dataframe tbody tr th {\n",
       "        vertical-align: top;\n",
       "    }\n",
       "\n",
       "    .dataframe thead th {\n",
       "        text-align: right;\n",
       "    }\n",
       "</style>\n",
       "<table border=\"1\" class=\"dataframe\">\n",
       "  <thead>\n",
       "    <tr style=\"text-align: right;\">\n",
       "      <th></th>\n",
       "      <th>AGI code</th>\n",
       "      <th>TAU</th>\n",
       "    </tr>\n",
       "  </thead>\n",
       "  <tbody>\n",
       "    <tr>\n",
       "      <th>0</th>\n",
       "      <td>orf25</td>\n",
       "      <td>0.1725</td>\n",
       "    </tr>\n",
       "    <tr>\n",
       "      <th>1</th>\n",
       "      <td>nad4L</td>\n",
       "      <td>0.1646</td>\n",
       "    </tr>\n",
       "    <tr>\n",
       "      <th>2</th>\n",
       "      <td>orf149</td>\n",
       "      <td>0.0684</td>\n",
       "    </tr>\n",
       "    <tr>\n",
       "      <th>3</th>\n",
       "      <td>orf275</td>\n",
       "      <td>0.0958</td>\n",
       "    </tr>\n",
       "    <tr>\n",
       "      <th>4</th>\n",
       "      <td>orf122c</td>\n",
       "      <td>0.2276</td>\n",
       "    </tr>\n",
       "    <tr>\n",
       "      <th>...</th>\n",
       "      <td>...</td>\n",
       "      <td>...</td>\n",
       "    </tr>\n",
       "    <tr>\n",
       "      <th>22741</th>\n",
       "      <td>At2g32910</td>\n",
       "      <td>0.0565</td>\n",
       "    </tr>\n",
       "    <tr>\n",
       "      <th>22742</th>\n",
       "      <td>At2g32890</td>\n",
       "      <td>0.3627</td>\n",
       "    </tr>\n",
       "    <tr>\n",
       "      <th>22743</th>\n",
       "      <td>At2g32880</td>\n",
       "      <td>0.2291</td>\n",
       "    </tr>\n",
       "    <tr>\n",
       "      <th>22744</th>\n",
       "      <td>At2g32860</td>\n",
       "      <td>0.1594</td>\n",
       "    </tr>\n",
       "    <tr>\n",
       "      <th>22745</th>\n",
       "      <td>At2g32830</td>\n",
       "      <td>0.2258</td>\n",
       "    </tr>\n",
       "  </tbody>\n",
       "</table>\n",
       "<p>22746 rows × 2 columns</p>\n",
       "</div>"
      ],
      "text/plain": [
       "        AGI code     TAU\n",
       "0          orf25  0.1725\n",
       "1          nad4L  0.1646\n",
       "2         orf149  0.0684\n",
       "3         orf275  0.0958\n",
       "4        orf122c  0.2276\n",
       "...          ...     ...\n",
       "22741  At2g32910  0.0565\n",
       "22742  At2g32890  0.3627\n",
       "22743  At2g32880  0.2291\n",
       "22744  At2g32860  0.1594\n",
       "22745  At2g32830  0.2258\n",
       "\n",
       "[22746 rows x 2 columns]"
      ]
     },
     "execution_count": 208,
     "metadata": {},
     "output_type": "execute_result"
    }
   ],
   "source": [
    "tso_df"
   ]
  },
  {
   "cell_type": "code",
   "execution_count": 204,
   "metadata": {},
   "outputs": [
    {
     "data": {
      "image/png": "[encoded data removed]",
      "text/plain": [
       "<Figure size 450x300 with 1 Axes>"
      ]
     },
     "metadata": {},
     "output_type": "display_data"
    }
   ],
   "source": [
    "tso.plot_histogram()"
   ]
  },
  {
   "cell_type": "code",
   "execution_count": 187,
   "metadata": {},
   "outputs": [
    {
     "name": "stderr",
     "output_type": "stream",
     "text": [
      "/home/witham/opt/anaconda3/envs/PromoterArchitecturePipeline/lib/python3.7/site-packages/tspex/core/specificity_class.py:210: UserWarning: There is no gene with tissue-specificity value above the threshold.\n",
      "  'There is no gene with tissue-specificity value above the threshold.'\n"
     ]
    }
   ],
   "source": [
    "tso.plot_heatmap(threshold=0.8, sort_genes=True, use_zscore=True, gene_names=False)\n"
   ]
  },
  {
   "cell_type": "code",
   "execution_count": 112,
   "metadata": {},
   "outputs": [],
   "source": [
    "df2 = loader(output_file)"
   ]
  },
  {
   "cell_type": "code",
   "execution_count": null,
   "metadata": {},
   "outputs": [],
   "source": []
  }
 ],
 "metadata": {
  "kernelspec": {
   "display_name": "Python [conda env:PromoterArchitecturePipeline] *",
   "language": "python",
   "name": "conda-env-PromoterArchitecturePipeline-py"
  },
  "language_info": {
   "codemirror_mode": {
    "name": "ipython",
    "version": 3
   },
   "file_extension": ".py",
   "mimetype": "text/x-python",
   "name": "python",
   "nbconvert_exporter": "python",
   "pygments_lexer": "ipython3",
   "version": "3.7.8"
  }
 },
 "nbformat": 4,
 "nbformat_minor": 4
}
