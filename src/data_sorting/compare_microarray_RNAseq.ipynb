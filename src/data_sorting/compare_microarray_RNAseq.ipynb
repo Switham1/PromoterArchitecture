{
 "cells": [
  {
   "cell_type": "code",
   "execution_count": 1,
   "metadata": {},
   "outputs": [],
   "source": [
    "#compare the CV values of czechowski et al 2005 (microarray) and those from the RNA-seq in Mergner et al 2020"
   ]
  },
  {
   "cell_type": "code",
   "execution_count": 1,
   "metadata": {},
   "outputs": [],
   "source": [
    "import pandas as pd\n",
    "import seaborn as sns\n",
    "import matplotlib.pyplot as plt"
   ]
  },
  {
   "cell_type": "code",
   "execution_count": 2,
   "metadata": {},
   "outputs": [],
   "source": [
    "# def make_plot(df,x_variable, y_variable,x_label, y_label, output_prefix, plot_kind):\n",
    "#     \"\"\"function to make and save plot\"\"\"\n",
    "#     #allow colour codes in seaborn\n",
    "#     sns.set(color_codes=True)\n",
    "#     sns.set_style(\"whitegrid\")\n",
    "#     #plot\n",
    "#     plot = sns.catplot(x=x_variable, y=y_variable, data=df, kind=plot_kind)\n",
    "#     #plot points\n",
    "#     ax = sns.swarmplot(x=x_variable, y=y_variable, data=df, color=\".25\")\n",
    "#     #change axes labels\n",
    "#     plt.ylabel(y_label)\n",
    "#     plt.xlabel(x_label)\n",
    "#     #save figure\n",
    "#     ax.get_figure().savefig(f'../../data/output/{file_names}/{dependent_variable}/plots/{output_prefix}_{plot_kind}.pdf', format='pdf')   "
   ]
  },
  {
   "cell_type": "code",
   "execution_count": 19,
   "metadata": {},
   "outputs": [],
   "source": [
    "def all_prom_distribution(df, x_variable, x_label, df2=pd.DataFrame(),df1_label='', df2_label=''):\n",
    "    \"\"\"function to return distribution plot of all promoters GC content. \n",
    "    df1_label and df2 labels are the names of the respective gene type subset in the df\"\"\"\n",
    "    #if only 1 dataframe provided then create just 1 plot\n",
    "    if df2.empty:    \n",
    "        dist_plot = df[x_variable]\n",
    "        #create figure with no transparency\n",
    "        dist_plot_fig = sns.distplot(dist_plot).get_figure()\n",
    "        plt.xlabel(x_label)\n",
    "    #else if 2 dataframes provided plot them on the same axes\n",
    "    else:\n",
    "        dist_plot1 = df[x_variable]\n",
    "        dist_plot2 = df2[x_variable]\n",
    "        sns.distplot(dist_plot1,hist=False, rug=True,label=df1_label)\n",
    "        sns.distplot(dist_plot2,hist=False, rug=True,label=df2_label).get_figure()\n",
    "        #create legend\n",
    "        plt.legend()\n",
    "\n",
    "    #save to file\n",
    "    #dist_plot_fig.savefig(f'../../data/output/{file_names}/{dependent_variable}/plots/{output_prefix}_distribution.pdf', format='pdf')    "
   ]
  },
  {
   "cell_type": "code",
   "execution_count": 3,
   "metadata": {},
   "outputs": [],
   "source": [
    "#location of files\n",
    "czechowski = '../../data/output/non-overlapping_includingbidirectional_all_genes_newannotation/genes/promoters_5UTR_czechowski_constitutive_variable_random.txt'\n",
    "czechowski_all = '../../data/output/non-overlapping_includingbidirectional_all_genes_newannotation/genes/promoters_5UTR_czechowski_allfilteredgenes.txt'\n",
    "mergner = '../../data/output/non-overlapping_includingbidirectional_all_genes_newannotation/genes/promoters_5UTR_mergner_constitutive_variable_random.txt'\n",
    "mergner_all = '../../data/output/non-overlapping_includingbidirectional_all_genes_newannotation/genes/promoters_5UTR_mergner_allfilteredgenes.txt'"
   ]
  },
  {
   "cell_type": "code",
   "execution_count": 4,
   "metadata": {},
   "outputs": [],
   "source": [
    "#read in files to dfs\n",
    "czechowski_df = pd.read_table(czechowski, sep='\\t', header=None)\n",
    "mergner_df = pd.read_table(mergner, sep='\\t', header=None)\n",
    "cols = ['AGI', 'gene_type']\n",
    "czechowski_df.columns = cols\n",
    "mergner_df.columns = cols"
   ]
  },
  {
   "cell_type": "code",
   "execution_count": 5,
   "metadata": {},
   "outputs": [],
   "source": [
    "#read in all genes\n",
    "czechowski_all_df = pd.read_table(czechowski_all, sep='\\t', header=0)\n",
    "mergner_all_df = pd.read_csv(mergner_all, sep='\\t',header=0)"
   ]
  },
  {
   "cell_type": "code",
   "execution_count": 6,
   "metadata": {},
   "outputs": [
    {
     "data": {
      "text/html": [
       "<div>\n",
       "<style scoped>\n",
       "    .dataframe tbody tr th:only-of-type {\n",
       "        vertical-align: middle;\n",
       "    }\n",
       "\n",
       "    .dataframe tbody tr th {\n",
       "        vertical-align: top;\n",
       "    }\n",
       "\n",
       "    .dataframe thead th {\n",
       "        text-align: right;\n",
       "    }\n",
       "</style>\n",
       "<table border=\"1\" class=\"dataframe\">\n",
       "  <thead>\n",
       "    <tr style=\"text-align: right;\">\n",
       "      <th></th>\n",
       "      <th>chr</th>\n",
       "      <th>start</th>\n",
       "      <th>stop</th>\n",
       "      <th>AGI</th>\n",
       "      <th>dot1</th>\n",
       "      <th>strand</th>\n",
       "      <th>source</th>\n",
       "      <th>type</th>\n",
       "      <th>dot2</th>\n",
       "      <th>attributes</th>\n",
       "      <th>transcription_class</th>\n",
       "      <th>transcription_family</th>\n",
       "      <th>expression_CV</th>\n",
       "      <th>presence_in_araport11</th>\n",
       "    </tr>\n",
       "  </thead>\n",
       "  <tbody>\n",
       "    <tr>\n",
       "      <th>0</th>\n",
       "      <td>1</td>\n",
       "      <td>30068518</td>\n",
       "      <td>30070022</td>\n",
       "      <td>AT1G79940</td>\n",
       "      <td>.</td>\n",
       "      <td>+</td>\n",
       "      <td>araport11</td>\n",
       "      <td>promoter</td>\n",
       "      <td>.</td>\n",
       "      <td>ID=gene:AT1G79940;Name=ERDJ2A;biotype=protein_...</td>\n",
       "      <td>NaN</td>\n",
       "      <td>NaN</td>\n",
       "      <td>0.181119</td>\n",
       "      <td>1.0</td>\n",
       "    </tr>\n",
       "    <tr>\n",
       "      <th>1</th>\n",
       "      <td>3</td>\n",
       "      <td>18488381</td>\n",
       "      <td>18489450</td>\n",
       "      <td>AT3G49850</td>\n",
       "      <td>.</td>\n",
       "      <td>+</td>\n",
       "      <td>araport11</td>\n",
       "      <td>promoter</td>\n",
       "      <td>.</td>\n",
       "      <td>ID=gene:AT3G49850;Name=TRB3;biotype=protein_co...</td>\n",
       "      <td>TF</td>\n",
       "      <td>MYB-related</td>\n",
       "      <td>0.211639</td>\n",
       "      <td>1.0</td>\n",
       "    </tr>\n",
       "    <tr>\n",
       "      <th>2</th>\n",
       "      <td>1</td>\n",
       "      <td>20186824</td>\n",
       "      <td>20188096</td>\n",
       "      <td>AT1G54080</td>\n",
       "      <td>.</td>\n",
       "      <td>-</td>\n",
       "      <td>araport11</td>\n",
       "      <td>promoter</td>\n",
       "      <td>.</td>\n",
       "      <td>ID=gene:AT1G54080;Name=UBP1A;biotype=protein_c...</td>\n",
       "      <td>NaN</td>\n",
       "      <td>NaN</td>\n",
       "      <td>0.214741</td>\n",
       "      <td>1.0</td>\n",
       "    </tr>\n",
       "    <tr>\n",
       "      <th>3</th>\n",
       "      <td>1</td>\n",
       "      <td>28630789</td>\n",
       "      <td>28631403</td>\n",
       "      <td>AT1G76320</td>\n",
       "      <td>.</td>\n",
       "      <td>+</td>\n",
       "      <td>araport11</td>\n",
       "      <td>promoter</td>\n",
       "      <td>.</td>\n",
       "      <td>ID=gene:AT1G76320;Name=FRS4;biotype=protein_co...</td>\n",
       "      <td>TF</td>\n",
       "      <td>FAR1</td>\n",
       "      <td>0.215190</td>\n",
       "      <td>1.0</td>\n",
       "    </tr>\n",
       "    <tr>\n",
       "      <th>4</th>\n",
       "      <td>3</td>\n",
       "      <td>5455942</td>\n",
       "      <td>5456512</td>\n",
       "      <td>AT3G16090</td>\n",
       "      <td>.</td>\n",
       "      <td>+</td>\n",
       "      <td>araport11</td>\n",
       "      <td>promoter</td>\n",
       "      <td>.</td>\n",
       "      <td>ID=gene:AT3G16090;Name=HRD1A;biotype=protein_c...</td>\n",
       "      <td>NaN</td>\n",
       "      <td>NaN</td>\n",
       "      <td>0.216473</td>\n",
       "      <td>1.0</td>\n",
       "    </tr>\n",
       "    <tr>\n",
       "      <th>...</th>\n",
       "      <td>...</td>\n",
       "      <td>...</td>\n",
       "      <td>...</td>\n",
       "      <td>...</td>\n",
       "      <td>...</td>\n",
       "      <td>...</td>\n",
       "      <td>...</td>\n",
       "      <td>...</td>\n",
       "      <td>...</td>\n",
       "      <td>...</td>\n",
       "      <td>...</td>\n",
       "      <td>...</td>\n",
       "      <td>...</td>\n",
       "      <td>...</td>\n",
       "    </tr>\n",
       "    <tr>\n",
       "      <th>17642</th>\n",
       "      <td>3</td>\n",
       "      <td>977474</td>\n",
       "      <td>978264</td>\n",
       "      <td>AT3G03826</td>\n",
       "      <td>.</td>\n",
       "      <td>+</td>\n",
       "      <td>araport11</td>\n",
       "      <td>promoter</td>\n",
       "      <td>.</td>\n",
       "      <td>ID=gene:AT3G03826;biotype=protein_coding;descr...</td>\n",
       "      <td>NaN</td>\n",
       "      <td>NaN</td>\n",
       "      <td>5.385165</td>\n",
       "      <td>1.0</td>\n",
       "    </tr>\n",
       "    <tr>\n",
       "      <th>17643</th>\n",
       "      <td>4</td>\n",
       "      <td>6618426</td>\n",
       "      <td>6618675</td>\n",
       "      <td>AT4G10740</td>\n",
       "      <td>.</td>\n",
       "      <td>-</td>\n",
       "      <td>araport11</td>\n",
       "      <td>promoter</td>\n",
       "      <td>.</td>\n",
       "      <td>ID=gene:AT4G10740;biotype=protein_coding;descr...</td>\n",
       "      <td>NaN</td>\n",
       "      <td>NaN</td>\n",
       "      <td>5.385165</td>\n",
       "      <td>1.0</td>\n",
       "    </tr>\n",
       "    <tr>\n",
       "      <th>17644</th>\n",
       "      <td>3</td>\n",
       "      <td>10358116</td>\n",
       "      <td>10359281</td>\n",
       "      <td>AT3G27910</td>\n",
       "      <td>.</td>\n",
       "      <td>-</td>\n",
       "      <td>araport11</td>\n",
       "      <td>promoter</td>\n",
       "      <td>.</td>\n",
       "      <td>ID=gene:AT3G27910;biotype=protein_coding;descr...</td>\n",
       "      <td>NaN</td>\n",
       "      <td>NaN</td>\n",
       "      <td>5.385165</td>\n",
       "      <td>1.0</td>\n",
       "    </tr>\n",
       "    <tr>\n",
       "      <th>17645</th>\n",
       "      <td>5</td>\n",
       "      <td>19818947</td>\n",
       "      <td>19820352</td>\n",
       "      <td>AT5G48890</td>\n",
       "      <td>.</td>\n",
       "      <td>+</td>\n",
       "      <td>araport11</td>\n",
       "      <td>promoter</td>\n",
       "      <td>.</td>\n",
       "      <td>ID=gene:AT5G48890;Name=LATE;biotype=protein_co...</td>\n",
       "      <td>NaN</td>\n",
       "      <td>NaN</td>\n",
       "      <td>5.385165</td>\n",
       "      <td>1.0</td>\n",
       "    </tr>\n",
       "    <tr>\n",
       "      <th>17646</th>\n",
       "      <td>5</td>\n",
       "      <td>9531081</td>\n",
       "      <td>9531844</td>\n",
       "      <td>AT5G27090</td>\n",
       "      <td>.</td>\n",
       "      <td>+</td>\n",
       "      <td>araport11</td>\n",
       "      <td>promoter</td>\n",
       "      <td>.</td>\n",
       "      <td>ID=gene:AT5G27090;Name=AGL54;biotype=protein_c...</td>\n",
       "      <td>TF</td>\n",
       "      <td>MADS-M-type</td>\n",
       "      <td>5.385165</td>\n",
       "      <td>1.0</td>\n",
       "    </tr>\n",
       "  </tbody>\n",
       "</table>\n",
       "<p>17647 rows × 14 columns</p>\n",
       "</div>"
      ],
      "text/plain": [
       "       chr     start      stop        AGI dot1 strand     source      type  \\\n",
       "0        1  30068518  30070022  AT1G79940    .      +  araport11  promoter   \n",
       "1        3  18488381  18489450  AT3G49850    .      +  araport11  promoter   \n",
       "2        1  20186824  20188096  AT1G54080    .      -  araport11  promoter   \n",
       "3        1  28630789  28631403  AT1G76320    .      +  araport11  promoter   \n",
       "4        3   5455942   5456512  AT3G16090    .      +  araport11  promoter   \n",
       "...    ...       ...       ...        ...  ...    ...        ...       ...   \n",
       "17642    3    977474    978264  AT3G03826    .      +  araport11  promoter   \n",
       "17643    4   6618426   6618675  AT4G10740    .      -  araport11  promoter   \n",
       "17644    3  10358116  10359281  AT3G27910    .      -  araport11  promoter   \n",
       "17645    5  19818947  19820352  AT5G48890    .      +  araport11  promoter   \n",
       "17646    5   9531081   9531844  AT5G27090    .      +  araport11  promoter   \n",
       "\n",
       "      dot2                                         attributes  \\\n",
       "0        .  ID=gene:AT1G79940;Name=ERDJ2A;biotype=protein_...   \n",
       "1        .  ID=gene:AT3G49850;Name=TRB3;biotype=protein_co...   \n",
       "2        .  ID=gene:AT1G54080;Name=UBP1A;biotype=protein_c...   \n",
       "3        .  ID=gene:AT1G76320;Name=FRS4;biotype=protein_co...   \n",
       "4        .  ID=gene:AT3G16090;Name=HRD1A;biotype=protein_c...   \n",
       "...    ...                                                ...   \n",
       "17642    .  ID=gene:AT3G03826;biotype=protein_coding;descr...   \n",
       "17643    .  ID=gene:AT4G10740;biotype=protein_coding;descr...   \n",
       "17644    .  ID=gene:AT3G27910;biotype=protein_coding;descr...   \n",
       "17645    .  ID=gene:AT5G48890;Name=LATE;biotype=protein_co...   \n",
       "17646    .  ID=gene:AT5G27090;Name=AGL54;biotype=protein_c...   \n",
       "\n",
       "      transcription_class transcription_family  expression_CV  \\\n",
       "0                     NaN                  NaN       0.181119   \n",
       "1                      TF          MYB-related       0.211639   \n",
       "2                     NaN                  NaN       0.214741   \n",
       "3                      TF                 FAR1       0.215190   \n",
       "4                     NaN                  NaN       0.216473   \n",
       "...                   ...                  ...            ...   \n",
       "17642                 NaN                  NaN       5.385165   \n",
       "17643                 NaN                  NaN       5.385165   \n",
       "17644                 NaN                  NaN       5.385165   \n",
       "17645                 NaN                  NaN       5.385165   \n",
       "17646                  TF          MADS-M-type       5.385165   \n",
       "\n",
       "       presence_in_araport11  \n",
       "0                        1.0  \n",
       "1                        1.0  \n",
       "2                        1.0  \n",
       "3                        1.0  \n",
       "4                        1.0  \n",
       "...                      ...  \n",
       "17642                    1.0  \n",
       "17643                    1.0  \n",
       "17644                    1.0  \n",
       "17645                    1.0  \n",
       "17646                    1.0  \n",
       "\n",
       "[17647 rows x 14 columns]"
      ]
     },
     "execution_count": 6,
     "metadata": {},
     "output_type": "execute_result"
    }
   ],
   "source": [
    "mergner_all_df"
   ]
  },
  {
   "cell_type": "code",
   "execution_count": 9,
   "metadata": {},
   "outputs": [
    {
     "data": {
      "text/plain": [
       "15"
      ]
     },
     "execution_count": 9,
     "metadata": {},
     "output_type": "execute_result"
    }
   ],
   "source": [
    "#how many constitutive genes in both mergner and czechowski constitutive sets?\n",
    "inboth = czechowski_df[czechowski_df.AGI.isin(mergner_df.AGI)]\n",
    "len(inboth[inboth.gene_type == 'constitutive'])"
   ]
  },
  {
   "cell_type": "code",
   "execution_count": 10,
   "metadata": {},
   "outputs": [
    {
     "data": {
      "text/plain": [
       "0"
      ]
     },
     "execution_count": 10,
     "metadata": {},
     "output_type": "execute_result"
    }
   ],
   "source": [
    "#how many variable genes in both mergner and czechowski constitutive sets?\n",
    "len(inboth[inboth.gene_type == 'variable'])"
   ]
  },
  {
   "cell_type": "code",
   "execution_count": 11,
   "metadata": {},
   "outputs": [
    {
     "data": {
      "text/plain": [
       "0"
      ]
     },
     "execution_count": 11,
     "metadata": {},
     "output_type": "execute_result"
    }
   ],
   "source": [
    "#how many control genes in both mergner and czechowski constitutive sets?\n",
    "len(inboth[inboth.gene_type == 'random'])"
   ]
  },
  {
   "cell_type": "code",
   "execution_count": 12,
   "metadata": {},
   "outputs": [
    {
     "data": {
      "text/html": [
       "<div>\n",
       "<style scoped>\n",
       "    .dataframe tbody tr th:only-of-type {\n",
       "        vertical-align: middle;\n",
       "    }\n",
       "\n",
       "    .dataframe tbody tr th {\n",
       "        vertical-align: top;\n",
       "    }\n",
       "\n",
       "    .dataframe thead th {\n",
       "        text-align: right;\n",
       "    }\n",
       "</style>\n",
       "<table border=\"1\" class=\"dataframe\">\n",
       "  <thead>\n",
       "    <tr style=\"text-align: right;\">\n",
       "      <th></th>\n",
       "      <th>AGI</th>\n",
       "      <th>gene_type</th>\n",
       "    </tr>\n",
       "  </thead>\n",
       "  <tbody>\n",
       "    <tr>\n",
       "      <th>0</th>\n",
       "      <td>AT1G79940</td>\n",
       "      <td>constitutive</td>\n",
       "    </tr>\n",
       "    <tr>\n",
       "      <th>1</th>\n",
       "      <td>AT3G49850</td>\n",
       "      <td>constitutive</td>\n",
       "    </tr>\n",
       "    <tr>\n",
       "      <th>2</th>\n",
       "      <td>AT1G54080</td>\n",
       "      <td>constitutive</td>\n",
       "    </tr>\n",
       "    <tr>\n",
       "      <th>3</th>\n",
       "      <td>AT1G76320</td>\n",
       "      <td>constitutive</td>\n",
       "    </tr>\n",
       "    <tr>\n",
       "      <th>4</th>\n",
       "      <td>AT3G16090</td>\n",
       "      <td>constitutive</td>\n",
       "    </tr>\n",
       "    <tr>\n",
       "      <th>...</th>\n",
       "      <td>...</td>\n",
       "      <td>...</td>\n",
       "    </tr>\n",
       "    <tr>\n",
       "      <th>295</th>\n",
       "      <td>AT5G52500</td>\n",
       "      <td>control</td>\n",
       "    </tr>\n",
       "    <tr>\n",
       "      <th>296</th>\n",
       "      <td>AT3G45800</td>\n",
       "      <td>control</td>\n",
       "    </tr>\n",
       "    <tr>\n",
       "      <th>297</th>\n",
       "      <td>AT1G34500</td>\n",
       "      <td>control</td>\n",
       "    </tr>\n",
       "    <tr>\n",
       "      <th>298</th>\n",
       "      <td>AT4G39250</td>\n",
       "      <td>control</td>\n",
       "    </tr>\n",
       "    <tr>\n",
       "      <th>299</th>\n",
       "      <td>AT5G26692</td>\n",
       "      <td>control</td>\n",
       "    </tr>\n",
       "  </tbody>\n",
       "</table>\n",
       "<p>300 rows × 2 columns</p>\n",
       "</div>"
      ],
      "text/plain": [
       "           AGI     gene_type\n",
       "0    AT1G79940  constitutive\n",
       "1    AT3G49850  constitutive\n",
       "2    AT1G54080  constitutive\n",
       "3    AT1G76320  constitutive\n",
       "4    AT3G16090  constitutive\n",
       "..         ...           ...\n",
       "295  AT5G52500       control\n",
       "296  AT3G45800       control\n",
       "297  AT1G34500       control\n",
       "298  AT4G39250       control\n",
       "299  AT5G26692       control\n",
       "\n",
       "[300 rows x 2 columns]"
      ]
     },
     "execution_count": 12,
     "metadata": {},
     "output_type": "execute_result"
    }
   ],
   "source": [
    "mergner_df"
   ]
  },
  {
   "cell_type": "code",
   "execution_count": 13,
   "metadata": {},
   "outputs": [
    {
     "data": {
      "image/png": "[encoded data removed]",
      "text/plain": [
       "<Figure size 432x288 with 1 Axes>"
      ]
     },
     "metadata": {
      "needs_background": "light"
     },
     "output_type": "display_data"
    }
   ],
   "source": [
    "#all czechowski CV distribution plot\n",
    "all_prom_distribution(czechowski_all_df,'expression_CV', 'Expression CV')"
   ]
  },
  {
   "cell_type": "code",
   "execution_count": 14,
   "metadata": {},
   "outputs": [
    {
     "data": {
      "image/png": "[encoded data removed]",
      "text/plain": [
       "<Figure size 432x288 with 1 Axes>"
      ]
     },
     "metadata": {
      "needs_background": "light"
     },
     "output_type": "display_data"
    }
   ],
   "source": [
    "#all mergner CV distribution plot\n",
    "all_prom_distribution(mergner_all_df,'expression_CV', 'Expression CV')"
   ]
  },
  {
   "cell_type": "code",
   "execution_count": 31,
   "metadata": {},
   "outputs": [],
   "source": [
    "#plot CV from RNA-seq for top variable and top constitutive genes from microarray'\n",
    "merged = pd.merge(czechowski_df,mergner_all_df, on='AGI', how='left')"
   ]
  },
  {
   "cell_type": "code",
   "execution_count": 46,
   "metadata": {},
   "outputs": [
    {
     "name": "stderr",
     "output_type": "stream",
     "text": [
      "/home/witham/opt/anaconda3/envs/PromoterArchitecturePipeline/lib/python3.7/site-packages/seaborn/distributions.py:283: UserWarning: Data must have variance to compute a kernel density estimate.\n",
      "  warnings.warn(msg, UserWarning)\n"
     ]
    },
    {
     "data": {
      "image/png": "[encoded data removed]",
      "text/plain": [
       "<Figure size 432x288 with 1 Axes>"
      ]
     },
     "metadata": {
      "needs_background": "light"
     },
     "output_type": "display_data"
    }
   ],
   "source": [
    "#using CVs from RNA-seq for top variable and top constitutive genes from microarray'\n",
    "#plot microarray constitutive gene CVs and plot variable CVs\n",
    "#merge dfs\n",
    "merged2 = pd.merge(mergner_df,czechowski_all_df, on='AGI', how='left')\n",
    "#ONLY 134 GENES FROM RNA-SEQ SET ARE IN THE MICROARRAY SET\n",
    "#86 constitutive genes from RNA-seq in microarray\n",
    "#1 variable genes from RNA-seq in microarray\n",
    "#47 control genes from RNA-seq in microarray\n",
    "all_prom_distribution(merged2[merged2.gene_type == 'constitutive'],'expression_CV', 'Expression CV', merged2[merged2.gene_type == 'variable'], df1_label='constitutive',df2_label='variable')"
   ]
  },
  {
   "cell_type": "code",
   "execution_count": 47,
   "metadata": {},
   "outputs": [
    {
     "data": {
      "image/png": "[encoded data removed]",
      "text/plain": [
       "<Figure size 432x288 with 1 Axes>"
      ]
     },
     "metadata": {
      "needs_background": "light"
     },
     "output_type": "display_data"
    }
   ],
   "source": [
    "#using CVs from microarray for top variable and top constitutive genes from RNA-seq'\n",
    "#plot microarray constitutive gene CVs and plot variable CVs\n",
    "all_prom_distribution(merged[merged.gene_type == 'constitutive'],'expression_CV', 'Expression CV', merged[merged.gene_type == 'variable'], df1_label='constitutive',df2_label='variable')\n",
    "#Indeed constitutive genes set from the microarray have lower RNA-seq CVs than variable gene set"
   ]
  },
  {
   "cell_type": "code",
   "execution_count": 21,
   "metadata": {},
   "outputs": [
    {
     "data": {
      "image/png": "[encoded data removed]",
      "text/plain": [
       "<Figure size 432x288 with 1 Axes>"
      ]
     },
     "metadata": {
      "needs_background": "light"
     },
     "output_type": "display_data"
    }
   ],
   "source": [
    "#czechovski CV distribution\n",
    "#using CVs and gene categories from only the microarray, plot CVs of the constitutive and variable gene sets\n",
    "merged_czechowski =pd.merge(czechowski_df,czechowski_all_df, on='AGI', how='left')\n",
    "all_prom_distribution(merged_czechowski[merged_czechowski.gene_type == 'constitutive'],'expression_CV', 'Expression CV',merged_czechowski[merged_czechowski.gene_type == 'variable'],df1_label='constitutive',df2_label='variable')"
   ]
  },
  {
   "cell_type": "code",
   "execution_count": 28,
   "metadata": {},
   "outputs": [
    {
     "name": "stderr",
     "output_type": "stream",
     "text": [
      "/home/witham/opt/anaconda3/envs/PromoterArchitecturePipeline/lib/python3.7/site-packages/seaborn/distributions.py:369: UserWarning: Default bandwidth for data is 0; skipping density estimation.\n",
      "  warnings.warn(msg, UserWarning)\n"
     ]
    },
    {
     "data": {
      "image/png": "[encoded data removed]",
      "text/plain": [
       "<Figure size 432x288 with 1 Axes>"
      ]
     },
     "metadata": {
      "needs_background": "light"
     },
     "output_type": "display_data"
    }
   ],
   "source": [
    "#mergner CV distribution\n",
    "#using CVs and gene categories from only the RNA-seq data, plot CVs of the constitutive and variable gene sets\n",
    "merged_mergner =pd.merge(mergner_df,mergner_all_df, on='AGI', how='left')\n",
    "all_prom_distribution(merged_mergner[merged_mergner.gene_type == 'constitutive'],'expression_CV', 'Expression CV',merged_mergner[merged_mergner.gene_type == 'variable'],df1_label='constitutive',df2_label='variable')\n",
    "#all variable genes have a CV of 5.385165"
   ]
  },
  {
   "cell_type": "code",
   "execution_count": 18,
   "metadata": {},
   "outputs": [
    {
     "data": {
      "image/png": "[encoded data removed]",
      "text/plain": [
       "<Figure size 432x288 with 1 Axes>"
      ]
     },
     "metadata": {
      "needs_background": "light"
     },
     "output_type": "display_data"
    }
   ],
   "source": [
    "#distribution of only constitutive gene CVs (both gene categories and CVs from RNA-seq data)\n",
    "all_prom_distribution(merged_mergner[merged_mergner.gene_type == 'constitutive'],'expression_CV', 'Expression CV')"
   ]
  },
  {
   "cell_type": "code",
   "execution_count": 19,
   "metadata": {},
   "outputs": [
    {
     "name": "stderr",
     "output_type": "stream",
     "text": [
      "/home/witham/opt/anaconda3/envs/PromoterArchitecturePipeline/lib/python3.7/site-packages/seaborn/distributions.py:369: UserWarning: Default bandwidth for data is 0; skipping density estimation.\n",
      "  warnings.warn(msg, UserWarning)\n"
     ]
    },
    {
     "data": {
      "image/png": "[encoded data removed]",
      "text/plain": [
       "<Figure size 432x288 with 1 Axes>"
      ]
     },
     "metadata": {
      "needs_background": "light"
     },
     "output_type": "display_data"
    }
   ],
   "source": [
    "#distribution of only variable gene CVs (both gene categories and CVs from RNA-seq data)\n",
    "all_prom_distribution(merged_mergner[merged_mergner.gene_type == 'variable'],'expression_CV', 'Expression CV')\n",
    "#all variable genes have a CV of 5.385165"
   ]
  },
  {
   "cell_type": "code",
   "execution_count": null,
   "metadata": {},
   "outputs": [],
   "source": []
  }
 ],
 "metadata": {
  "kernelspec": {
   "display_name": "Python [conda env:PromoterArchitecturePipeline] *",
   "language": "python",
   "name": "conda-env-PromoterArchitecturePipeline-py"
  },
  "language_info": {
   "codemirror_mode": {
    "name": "ipython",
    "version": 3
   },
   "file_extension": ".py",
   "mimetype": "text/x-python",
   "name": "python",
   "nbconvert_exporter": "python",
   "pygments_lexer": "ipython3",
   "version": "3.7.6"
  }
 },
 "nbformat": 4,
 "nbformat_minor": 4
}
