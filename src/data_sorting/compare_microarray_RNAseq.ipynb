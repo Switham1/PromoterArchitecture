{
 "cells": [
  {
   "cell_type": "code",
   "execution_count": 1,
   "metadata": {},
   "outputs": [],
   "source": [
    "#compare the CV values of czechowski et al 2005 (microarray) and those from the RNA-seq in Mergner et al 2020"
   ]
  },
  {
   "cell_type": "code",
   "execution_count": 1,
   "metadata": {},
   "outputs": [],
   "source": [
    "import pandas as pd\n",
    "import seaborn as sns\n",
    "import matplotlib.pyplot as plt\n",
    "import os"
   ]
  },
  {
   "cell_type": "code",
   "execution_count": 2,
   "metadata": {},
   "outputs": [],
   "source": [
    "# def make_plot(df,x_variable, y_variable,x_label, y_label, output_prefix, plot_kind):\n",
    "#     \"\"\"function to make and save plot\"\"\"\n",
    "#     #allow colour codes in seaborn\n",
    "#     sns.set(color_codes=True)\n",
    "#     sns.set_style(\"whitegrid\")\n",
    "#     #plot\n",
    "#     plot = sns.catplot(x=x_variable, y=y_variable, data=df, kind=plot_kind)\n",
    "#     #plot points\n",
    "#     ax = sns.swarmplot(x=x_variable, y=y_variable, data=df, color=\".25\")\n",
    "#     #change axes labels\n",
    "#     plt.ylabel(y_label)\n",
    "#     plt.xlabel(x_label)\n",
    "#     #save figure\n",
    "#     ax.get_figure().savefig(f'../../data/output/{file_names}/{dependent_variable}/plots/{output_prefix}_{plot_kind}.pdf', format='pdf')   "
   ]
  },
  {
   "cell_type": "code",
   "execution_count": null,
   "metadata": {},
   "outputs": [],
   "source": []
  },
  {
   "cell_type": "code",
   "execution_count": 3,
   "metadata": {},
   "outputs": [],
   "source": [
    "file_names = 'non-overlapping_includingbidirectional_all_genes_newannotation'\n",
    "output_prefix = 'czechowski_co-oefficient_of_variation'\n"
   ]
  },
  {
   "cell_type": "code",
   "execution_count": 4,
   "metadata": {},
   "outputs": [
    {
     "name": "stdout",
     "output_type": "stream",
     "text": [
      "Directory  ../../data/output/non-overlapping_includingbidirectional_all_genes_newannotation/genes/plots  already exists\n"
     ]
    }
   ],
   "source": [
    "#make directory for the plots to be exported to\n",
    "dirName = f'../../data/output/{file_names}/genes/plots'\n",
    "try:\n",
    "    # Create target Directory\n",
    "    os.mkdir(dirName)\n",
    "    print(\"Directory \" , dirName ,  \" created\") \n",
    "except FileExistsError:\n",
    "    print(\"Directory \" , dirName ,  \" already exists\")"
   ]
  },
  {
   "cell_type": "code",
   "execution_count": 5,
   "metadata": {},
   "outputs": [],
   "source": [
    "def all_prom_distribution(df, x_variable, x_label, df2=pd.DataFrame(),df1_label='', df2_label='', labels=False,\n",
    "                          min_x_constitutive=False, max_x_constitutive=False,min_x_variable=False,max_x_variable=False, save=False):\n",
    "    \"\"\"function to return distribution plot of all promoters of variable of interest. \n",
    "    df1_label and df2 labels are the names of the respective gene type subset in the df\"\"\"\n",
    "    #if only 1 dataframe provided then create just 1 plot\n",
    "    if df2.empty:    \n",
    "        dist_plot = df[x_variable]\n",
    "        #create figure with no transparency\n",
    "        dist_plot_fig = sns.distplot(dist_plot).get_figure()\n",
    "        plt.xlabel(x_label)\n",
    "    #else if 2 dataframes provided plot them on the same axes\n",
    "    else:\n",
    "        dist_plot1 = df[x_variable]\n",
    "        dist_plot2 = df2[x_variable]\n",
    "        dist_plot_fig = sns.distplot(dist_plot1,hist=False, rug=True,label=df1_label)\n",
    "        sns.distplot(dist_plot2,hist=False, rug=True,label=df2_label).get_figure()\n",
    "        #create legend\n",
    "        plt.legend()\n",
    "    if labels==True:\n",
    "        #get axes\n",
    "        ax = plt.axes()\n",
    "        #constitutive annotation\n",
    "        ax.annotate('top 100 constitutive range', xy=(max_x_constitutive, 0.2), xycoords='data', ha='left',\n",
    "            xytext=(50, 100), textcoords='offset points',\n",
    "                   arrowprops=dict(arrowstyle='->', connectionstyle='arc3,rad=0.4', \n",
    "                            color='black'))\n",
    "        ax.annotate('', xy=(max_x_constitutive, 0.2),\n",
    "            xytext=(min_x_constitutive, 0.2),\n",
    "            xycoords='data', textcoords='data',\n",
    "            arrowprops={'arrowstyle': '|-|,widthA=0.2,widthB=0.2','color':'blue'})\n",
    "        #Variable annotation\n",
    "        ax.annotate('top 100 variable range', xy=(max_x_variable, 0.2), xycoords='data', ha='right',\n",
    "            xytext=(0, -20), textcoords='offset points')\n",
    "        ax.annotate('', xy=(max_x_variable, 0.2),\n",
    "            xytext=(min_x_variable, 0.2),\n",
    "            xycoords='data', textcoords='data',\n",
    "            arrowprops={'arrowstyle': '|-|,widthA=0.2,widthB=0.2','color':'orange' })\n",
    "        \n",
    "\n",
    "    #save to file\n",
    "    if save == True:\n",
    "        dist_plot_fig.savefig(f'../../data/output/{file_names}/genes/plots/{output_prefix}_distribution.pdf', format='pdf')\n",
    "    return dist_plot_fig"
   ]
  },
  {
   "cell_type": "code",
   "execution_count": 6,
   "metadata": {},
   "outputs": [],
   "source": [
    "#location of files\n",
    "czechowski = '../../data/output/non-overlapping_includingbidirectional_all_genes_newannotation/genes/promoters_5UTR_czechowski_constitutive_variable_random.txt'\n",
    "czechowski_all = '../../data/output/non-overlapping_includingbidirectional_all_genes_newannotation/genes/promoters_5UTR_czechowski_allfilteredgenes.txt'\n",
    "mergner = '../../data/output/non-overlapping_includingbidirectional_all_genes_newannotation/genes/promoters_5UTR_mergner_constitutive_variable_random.txt'\n",
    "mergner_all = '../../data/output/non-overlapping_includingbidirectional_all_genes_newannotation/genes/promoters_5UTR_mergner_allfilteredgenes.txt'"
   ]
  },
  {
   "cell_type": "code",
   "execution_count": 7,
   "metadata": {},
   "outputs": [],
   "source": [
    "#read in files to dfs\n",
    "czechowski_df = pd.read_table(czechowski, sep='\\t', header=None)\n",
    "mergner_df = pd.read_table(mergner, sep='\\t', header=None)\n",
    "cols = ['AGI', 'gene_type']\n",
    "czechowski_df.columns = cols\n",
    "mergner_df.columns = cols"
   ]
  },
  {
   "cell_type": "code",
   "execution_count": 8,
   "metadata": {},
   "outputs": [],
   "source": [
    "#read in all genes\n",
    "czechowski_all_df = pd.read_table(czechowski_all, sep='\\t', header=0)\n",
    "mergner_all_df = pd.read_csv(mergner_all, sep='\\t',header=0)"
   ]
  },
  {
   "cell_type": "code",
   "execution_count": 7,
   "metadata": {},
   "outputs": [
    {
     "data": {
      "text/html": [
       "<div>\n",
       "<style scoped>\n",
       "    .dataframe tbody tr th:only-of-type {\n",
       "        vertical-align: middle;\n",
       "    }\n",
       "\n",
       "    .dataframe tbody tr th {\n",
       "        vertical-align: top;\n",
       "    }\n",
       "\n",
       "    .dataframe thead th {\n",
       "        text-align: right;\n",
       "    }\n",
       "</style>\n",
       "<table border=\"1\" class=\"dataframe\">\n",
       "  <thead>\n",
       "    <tr style=\"text-align: right;\">\n",
       "      <th></th>\n",
       "      <th>chr</th>\n",
       "      <th>start</th>\n",
       "      <th>stop</th>\n",
       "      <th>AGI</th>\n",
       "      <th>dot1</th>\n",
       "      <th>strand</th>\n",
       "      <th>source</th>\n",
       "      <th>type</th>\n",
       "      <th>dot2</th>\n",
       "      <th>attributes</th>\n",
       "      <th>transcription_class</th>\n",
       "      <th>transcription_family</th>\n",
       "      <th>expression_CV</th>\n",
       "      <th>presence_in_araport11</th>\n",
       "    </tr>\n",
       "  </thead>\n",
       "  <tbody>\n",
       "    <tr>\n",
       "      <th>0</th>\n",
       "      <td>1</td>\n",
       "      <td>30068518</td>\n",
       "      <td>30070022</td>\n",
       "      <td>AT1G79940</td>\n",
       "      <td>.</td>\n",
       "      <td>+</td>\n",
       "      <td>araport11</td>\n",
       "      <td>promoter</td>\n",
       "      <td>.</td>\n",
       "      <td>ID=gene:AT1G79940;Name=ERDJ2A;biotype=protein_...</td>\n",
       "      <td>NaN</td>\n",
       "      <td>NaN</td>\n",
       "      <td>0.181119</td>\n",
       "      <td>1.0</td>\n",
       "    </tr>\n",
       "    <tr>\n",
       "      <th>1</th>\n",
       "      <td>3</td>\n",
       "      <td>18488381</td>\n",
       "      <td>18489450</td>\n",
       "      <td>AT3G49850</td>\n",
       "      <td>.</td>\n",
       "      <td>+</td>\n",
       "      <td>araport11</td>\n",
       "      <td>promoter</td>\n",
       "      <td>.</td>\n",
       "      <td>ID=gene:AT3G49850;Name=TRB3;biotype=protein_co...</td>\n",
       "      <td>TF</td>\n",
       "      <td>MYB-related</td>\n",
       "      <td>0.211639</td>\n",
       "      <td>1.0</td>\n",
       "    </tr>\n",
       "    <tr>\n",
       "      <th>2</th>\n",
       "      <td>1</td>\n",
       "      <td>20186824</td>\n",
       "      <td>20188096</td>\n",
       "      <td>AT1G54080</td>\n",
       "      <td>.</td>\n",
       "      <td>-</td>\n",
       "      <td>araport11</td>\n",
       "      <td>promoter</td>\n",
       "      <td>.</td>\n",
       "      <td>ID=gene:AT1G54080;Name=UBP1A;biotype=protein_c...</td>\n",
       "      <td>NaN</td>\n",
       "      <td>NaN</td>\n",
       "      <td>0.214741</td>\n",
       "      <td>1.0</td>\n",
       "    </tr>\n",
       "    <tr>\n",
       "      <th>3</th>\n",
       "      <td>1</td>\n",
       "      <td>28630789</td>\n",
       "      <td>28631403</td>\n",
       "      <td>AT1G76320</td>\n",
       "      <td>.</td>\n",
       "      <td>+</td>\n",
       "      <td>araport11</td>\n",
       "      <td>promoter</td>\n",
       "      <td>.</td>\n",
       "      <td>ID=gene:AT1G76320;Name=FRS4;biotype=protein_co...</td>\n",
       "      <td>TF</td>\n",
       "      <td>FAR1</td>\n",
       "      <td>0.215190</td>\n",
       "      <td>1.0</td>\n",
       "    </tr>\n",
       "    <tr>\n",
       "      <th>4</th>\n",
       "      <td>3</td>\n",
       "      <td>5455942</td>\n",
       "      <td>5456512</td>\n",
       "      <td>AT3G16090</td>\n",
       "      <td>.</td>\n",
       "      <td>+</td>\n",
       "      <td>araport11</td>\n",
       "      <td>promoter</td>\n",
       "      <td>.</td>\n",
       "      <td>ID=gene:AT3G16090;Name=HRD1A;biotype=protein_c...</td>\n",
       "      <td>NaN</td>\n",
       "      <td>NaN</td>\n",
       "      <td>0.216473</td>\n",
       "      <td>1.0</td>\n",
       "    </tr>\n",
       "    <tr>\n",
       "      <th>...</th>\n",
       "      <td>...</td>\n",
       "      <td>...</td>\n",
       "      <td>...</td>\n",
       "      <td>...</td>\n",
       "      <td>...</td>\n",
       "      <td>...</td>\n",
       "      <td>...</td>\n",
       "      <td>...</td>\n",
       "      <td>...</td>\n",
       "      <td>...</td>\n",
       "      <td>...</td>\n",
       "      <td>...</td>\n",
       "      <td>...</td>\n",
       "      <td>...</td>\n",
       "    </tr>\n",
       "    <tr>\n",
       "      <th>16459</th>\n",
       "      <td>5</td>\n",
       "      <td>16177731</td>\n",
       "      <td>16178731</td>\n",
       "      <td>AT5G40430</td>\n",
       "      <td>.</td>\n",
       "      <td>-</td>\n",
       "      <td>araport11</td>\n",
       "      <td>promoter</td>\n",
       "      <td>.</td>\n",
       "      <td>ID=gene:AT5G40430;Name=MYB22;biotype=protein_c...</td>\n",
       "      <td>TF</td>\n",
       "      <td>MYB</td>\n",
       "      <td>5.385165</td>\n",
       "      <td>1.0</td>\n",
       "    </tr>\n",
       "    <tr>\n",
       "      <th>16460</th>\n",
       "      <td>1</td>\n",
       "      <td>13152582</td>\n",
       "      <td>13153582</td>\n",
       "      <td>AT1G35617</td>\n",
       "      <td>.</td>\n",
       "      <td>+</td>\n",
       "      <td>araport11</td>\n",
       "      <td>promoter</td>\n",
       "      <td>.</td>\n",
       "      <td>ID=gene:AT1G35617;biotype=protein_coding;descr...</td>\n",
       "      <td>NaN</td>\n",
       "      <td>NaN</td>\n",
       "      <td>5.385165</td>\n",
       "      <td>1.0</td>\n",
       "    </tr>\n",
       "    <tr>\n",
       "      <th>16461</th>\n",
       "      <td>3</td>\n",
       "      <td>8286941</td>\n",
       "      <td>8287968</td>\n",
       "      <td>AT3G23220</td>\n",
       "      <td>.</td>\n",
       "      <td>+</td>\n",
       "      <td>araport11</td>\n",
       "      <td>promoter</td>\n",
       "      <td>.</td>\n",
       "      <td>ID=gene:AT3G23220;Name=ERF095;biotype=protein_...</td>\n",
       "      <td>TF</td>\n",
       "      <td>AP2/ERF-ERF</td>\n",
       "      <td>5.385165</td>\n",
       "      <td>1.0</td>\n",
       "    </tr>\n",
       "    <tr>\n",
       "      <th>16462</th>\n",
       "      <td>5</td>\n",
       "      <td>21525713</td>\n",
       "      <td>21526249</td>\n",
       "      <td>AT5G53100</td>\n",
       "      <td>.</td>\n",
       "      <td>+</td>\n",
       "      <td>araport11</td>\n",
       "      <td>promoter</td>\n",
       "      <td>.</td>\n",
       "      <td>ID=gene:AT5G53100;biotype=protein_coding;descr...</td>\n",
       "      <td>NaN</td>\n",
       "      <td>NaN</td>\n",
       "      <td>5.385165</td>\n",
       "      <td>1.0</td>\n",
       "    </tr>\n",
       "    <tr>\n",
       "      <th>16463</th>\n",
       "      <td>2</td>\n",
       "      <td>19071083</td>\n",
       "      <td>19071536</td>\n",
       "      <td>AT2G46460</td>\n",
       "      <td>.</td>\n",
       "      <td>+</td>\n",
       "      <td>araport11</td>\n",
       "      <td>promoter</td>\n",
       "      <td>.</td>\n",
       "      <td>ID=gene:AT2G46460;biotype=protein_coding;descr...</td>\n",
       "      <td>NaN</td>\n",
       "      <td>NaN</td>\n",
       "      <td>5.385165</td>\n",
       "      <td>1.0</td>\n",
       "    </tr>\n",
       "  </tbody>\n",
       "</table>\n",
       "<p>16464 rows × 14 columns</p>\n",
       "</div>"
      ],
      "text/plain": [
       "       chr     start      stop        AGI dot1 strand     source      type  \\\n",
       "0        1  30068518  30070022  AT1G79940    .      +  araport11  promoter   \n",
       "1        3  18488381  18489450  AT3G49850    .      +  araport11  promoter   \n",
       "2        1  20186824  20188096  AT1G54080    .      -  araport11  promoter   \n",
       "3        1  28630789  28631403  AT1G76320    .      +  araport11  promoter   \n",
       "4        3   5455942   5456512  AT3G16090    .      +  araport11  promoter   \n",
       "...    ...       ...       ...        ...  ...    ...        ...       ...   \n",
       "16459    5  16177731  16178731  AT5G40430    .      -  araport11  promoter   \n",
       "16460    1  13152582  13153582  AT1G35617    .      +  araport11  promoter   \n",
       "16461    3   8286941   8287968  AT3G23220    .      +  araport11  promoter   \n",
       "16462    5  21525713  21526249  AT5G53100    .      +  araport11  promoter   \n",
       "16463    2  19071083  19071536  AT2G46460    .      +  araport11  promoter   \n",
       "\n",
       "      dot2                                         attributes  \\\n",
       "0        .  ID=gene:AT1G79940;Name=ERDJ2A;biotype=protein_...   \n",
       "1        .  ID=gene:AT3G49850;Name=TRB3;biotype=protein_co...   \n",
       "2        .  ID=gene:AT1G54080;Name=UBP1A;biotype=protein_c...   \n",
       "3        .  ID=gene:AT1G76320;Name=FRS4;biotype=protein_co...   \n",
       "4        .  ID=gene:AT3G16090;Name=HRD1A;biotype=protein_c...   \n",
       "...    ...                                                ...   \n",
       "16459    .  ID=gene:AT5G40430;Name=MYB22;biotype=protein_c...   \n",
       "16460    .  ID=gene:AT1G35617;biotype=protein_coding;descr...   \n",
       "16461    .  ID=gene:AT3G23220;Name=ERF095;biotype=protein_...   \n",
       "16462    .  ID=gene:AT5G53100;biotype=protein_coding;descr...   \n",
       "16463    .  ID=gene:AT2G46460;biotype=protein_coding;descr...   \n",
       "\n",
       "      transcription_class transcription_family  expression_CV  \\\n",
       "0                     NaN                  NaN       0.181119   \n",
       "1                      TF          MYB-related       0.211639   \n",
       "2                     NaN                  NaN       0.214741   \n",
       "3                      TF                 FAR1       0.215190   \n",
       "4                     NaN                  NaN       0.216473   \n",
       "...                   ...                  ...            ...   \n",
       "16459                  TF                  MYB       5.385165   \n",
       "16460                 NaN                  NaN       5.385165   \n",
       "16461                  TF          AP2/ERF-ERF       5.385165   \n",
       "16462                 NaN                  NaN       5.385165   \n",
       "16463                 NaN                  NaN       5.385165   \n",
       "\n",
       "       presence_in_araport11  \n",
       "0                        1.0  \n",
       "1                        1.0  \n",
       "2                        1.0  \n",
       "3                        1.0  \n",
       "4                        1.0  \n",
       "...                      ...  \n",
       "16459                    1.0  \n",
       "16460                    1.0  \n",
       "16461                    1.0  \n",
       "16462                    1.0  \n",
       "16463                    1.0  \n",
       "\n",
       "[16464 rows x 14 columns]"
      ]
     },
     "execution_count": 7,
     "metadata": {},
     "output_type": "execute_result"
    }
   ],
   "source": [
    "mergner_all_df"
   ]
  },
  {
   "cell_type": "code",
   "execution_count": 8,
   "metadata": {},
   "outputs": [
    {
     "data": {
      "text/plain": [
       "14"
      ]
     },
     "execution_count": 8,
     "metadata": {},
     "output_type": "execute_result"
    }
   ],
   "source": [
    "#how many constitutive genes in both mergner and czechowski constitutive sets?\n",
    "inboth = czechowski_df[czechowski_df.AGI.isin(mergner_df.AGI)]\n",
    "len(inboth[inboth.gene_type == 'constitutive'])"
   ]
  },
  {
   "cell_type": "code",
   "execution_count": 9,
   "metadata": {},
   "outputs": [
    {
     "data": {
      "text/plain": [
       "2"
      ]
     },
     "execution_count": 9,
     "metadata": {},
     "output_type": "execute_result"
    }
   ],
   "source": [
    "#how many variable genes in both mergner and czechowski constitutive sets?\n",
    "len(inboth[inboth.gene_type == 'variable'])"
   ]
  },
  {
   "cell_type": "code",
   "execution_count": 10,
   "metadata": {},
   "outputs": [
    {
     "data": {
      "text/plain": [
       "0"
      ]
     },
     "execution_count": 10,
     "metadata": {},
     "output_type": "execute_result"
    }
   ],
   "source": [
    "#how many control genes in both mergner and czechowski constitutive sets?\n",
    "len(inboth[inboth.gene_type == 'random'])"
   ]
  },
  {
   "cell_type": "code",
   "execution_count": 11,
   "metadata": {},
   "outputs": [
    {
     "data": {
      "text/html": [
       "<div>\n",
       "<style scoped>\n",
       "    .dataframe tbody tr th:only-of-type {\n",
       "        vertical-align: middle;\n",
       "    }\n",
       "\n",
       "    .dataframe tbody tr th {\n",
       "        vertical-align: top;\n",
       "    }\n",
       "\n",
       "    .dataframe thead th {\n",
       "        text-align: right;\n",
       "    }\n",
       "</style>\n",
       "<table border=\"1\" class=\"dataframe\">\n",
       "  <thead>\n",
       "    <tr style=\"text-align: right;\">\n",
       "      <th></th>\n",
       "      <th>AGI</th>\n",
       "      <th>gene_type</th>\n",
       "    </tr>\n",
       "  </thead>\n",
       "  <tbody>\n",
       "    <tr>\n",
       "      <th>0</th>\n",
       "      <td>AT1G79940</td>\n",
       "      <td>constitutive</td>\n",
       "    </tr>\n",
       "    <tr>\n",
       "      <th>1</th>\n",
       "      <td>AT3G49850</td>\n",
       "      <td>constitutive</td>\n",
       "    </tr>\n",
       "    <tr>\n",
       "      <th>2</th>\n",
       "      <td>AT1G54080</td>\n",
       "      <td>constitutive</td>\n",
       "    </tr>\n",
       "    <tr>\n",
       "      <th>3</th>\n",
       "      <td>AT1G76320</td>\n",
       "      <td>constitutive</td>\n",
       "    </tr>\n",
       "    <tr>\n",
       "      <th>4</th>\n",
       "      <td>AT3G16090</td>\n",
       "      <td>constitutive</td>\n",
       "    </tr>\n",
       "    <tr>\n",
       "      <th>...</th>\n",
       "      <td>...</td>\n",
       "      <td>...</td>\n",
       "    </tr>\n",
       "    <tr>\n",
       "      <th>295</th>\n",
       "      <td>AT3G10460</td>\n",
       "      <td>control</td>\n",
       "    </tr>\n",
       "    <tr>\n",
       "      <th>296</th>\n",
       "      <td>AT1G05580</td>\n",
       "      <td>control</td>\n",
       "    </tr>\n",
       "    <tr>\n",
       "      <th>297</th>\n",
       "      <td>AT5G23270</td>\n",
       "      <td>control</td>\n",
       "    </tr>\n",
       "    <tr>\n",
       "      <th>298</th>\n",
       "      <td>AT5G60070</td>\n",
       "      <td>control</td>\n",
       "    </tr>\n",
       "    <tr>\n",
       "      <th>299</th>\n",
       "      <td>AT1G51910</td>\n",
       "      <td>control</td>\n",
       "    </tr>\n",
       "  </tbody>\n",
       "</table>\n",
       "<p>300 rows × 2 columns</p>\n",
       "</div>"
      ],
      "text/plain": [
       "           AGI     gene_type\n",
       "0    AT1G79940  constitutive\n",
       "1    AT3G49850  constitutive\n",
       "2    AT1G54080  constitutive\n",
       "3    AT1G76320  constitutive\n",
       "4    AT3G16090  constitutive\n",
       "..         ...           ...\n",
       "295  AT3G10460       control\n",
       "296  AT1G05580       control\n",
       "297  AT5G23270       control\n",
       "298  AT5G60070       control\n",
       "299  AT1G51910       control\n",
       "\n",
       "[300 rows x 2 columns]"
      ]
     },
     "execution_count": 11,
     "metadata": {},
     "output_type": "execute_result"
    }
   ],
   "source": [
    "mergner_df"
   ]
  },
  {
   "cell_type": "code",
   "execution_count": 12,
   "metadata": {},
   "outputs": [
    {
     "data": {
      "image/png": "[encoded data removed]",
      "text/plain": [
       "<Figure size 432x288 with 1 Axes>"
      ]
     },
     "metadata": {
      "needs_background": "light"
     },
     "output_type": "display_data"
    }
   ],
   "source": [
    "#all czechowski CV distribution plot\n",
    "all_prom_distribution(czechowski_all_df,'expression_CV', 'Expression CV')"
   ]
  },
  {
   "cell_type": "code",
   "execution_count": 13,
   "metadata": {},
   "outputs": [
    {
     "data": {
      "image/png": "[encoded data removed]",
      "text/plain": [
       "<Figure size 432x288 with 1 Axes>"
      ]
     },
     "metadata": {
      "needs_background": "light"
     },
     "output_type": "display_data"
    }
   ],
   "source": [
    "#all mergner CV distribution plot\n",
    "all_prom_distribution(mergner_all_df,'expression_CV', 'Expression CV')"
   ]
  },
  {
   "cell_type": "code",
   "execution_count": 14,
   "metadata": {},
   "outputs": [],
   "source": [
    "#plot CV from RNA-seq for top variable and top constitutive genes from microarray'\n",
    "merged = pd.merge(czechowski_df,mergner_all_df, on='AGI', how='left')"
   ]
  },
  {
   "cell_type": "code",
   "execution_count": 15,
   "metadata": {},
   "outputs": [
    {
     "name": "stderr",
     "output_type": "stream",
     "text": [
      "/home/witham/opt/anaconda3/envs/PromoterArchitecturePipeline/lib/python3.7/site-packages/seaborn/distributions.py:283: UserWarning: Data must have variance to compute a kernel density estimate.\n",
      "  warnings.warn(msg, UserWarning)\n"
     ]
    },
    {
     "data": {
      "image/png": "[encoded data removed]",
      "text/plain": [
       "<Figure size 432x288 with 1 Axes>"
      ]
     },
     "metadata": {
      "needs_background": "light"
     },
     "output_type": "display_data"
    }
   ],
   "source": [
    "#using CVs from RNA-seq for top variable and top constitutive genes from microarray'\n",
    "#plot microarray constitutive gene CVs and plot variable CVs\n",
    "#merge dfs\n",
    "merged2 = pd.merge(mergner_df,czechowski_all_df, on='AGI', how='left')\n",
    "#ONLY 134 GENES FROM RNA-SEQ SET ARE IN THE MICROARRAY SET\n",
    "#86 constitutive genes from RNA-seq in microarray\n",
    "#1 variable genes from RNA-seq in microarray\n",
    "#47 control genes from RNA-seq in microarray\n",
    "all_prom_distribution(merged2[merged2.gene_type == 'constitutive'],'expression_CV', 'Expression CV', merged2[merged2.gene_type == 'variable'], df1_label='constitutive',df2_label='variable')"
   ]
  },
  {
   "cell_type": "code",
   "execution_count": 16,
   "metadata": {},
   "outputs": [
    {
     "data": {
      "image/png": "[encoded data removed]",
      "text/plain": [
       "<Figure size 432x288 with 1 Axes>"
      ]
     },
     "metadata": {
      "needs_background": "light"
     },
     "output_type": "display_data"
    }
   ],
   "source": [
    "#using CVs from microarray for top variable and top constitutive genes from RNA-seq'\n",
    "#plot microarray constitutive gene CVs and plot variable CVs\n",
    "all_prom_distribution(merged[merged.gene_type == 'constitutive'],'expression_CV', 'Expression CV', merged[merged.gene_type == 'variable'], df1_label='constitutive',df2_label='variable')\n",
    "#Indeed constitutive genes set from the microarray have lower RNA-seq CVs than variable gene set"
   ]
  },
  {
   "cell_type": "code",
   "execution_count": 10,
   "metadata": {},
   "outputs": [
    {
     "data": {
      "text/plain": [
       "<AxesSubplot:xlabel='expression_CV'>"
      ]
     },
     "execution_count": 10,
     "metadata": {},
     "output_type": "execute_result"
    },
    {
     "data": {
      "image/png": "[encoded data removed]",
      "text/plain": [
       "<Figure size 432x288 with 1 Axes>"
      ]
     },
     "metadata": {
      "needs_background": "light"
     },
     "output_type": "display_data"
    }
   ],
   "source": [
    "#czechovski CV distribution\n",
    "#using CVs and gene categories from only the microarray, plot CVs of the constitutive and variable gene sets\n",
    "merged_czechowski =pd.merge(czechowski_df,czechowski_all_df, on='AGI', how='left')\n",
    "all_prom_distribution(merged_czechowski[merged_czechowski.gene_type == 'constitutive'],'expression_CV', 'Expression CV',merged_czechowski[merged_czechowski.gene_type == 'variable'],df1_label='constitutive',df2_label='variable')"
   ]
  },
  {
   "cell_type": "code",
   "execution_count": 18,
   "metadata": {},
   "outputs": [
    {
     "name": "stderr",
     "output_type": "stream",
     "text": [
      "/home/witham/opt/anaconda3/envs/PromoterArchitecturePipeline/lib/python3.7/site-packages/seaborn/distributions.py:369: UserWarning: Default bandwidth for data is 0; skipping density estimation.\n",
      "  warnings.warn(msg, UserWarning)\n"
     ]
    },
    {
     "data": {
      "image/png": "[encoded data removed]",
      "text/plain": [
       "<Figure size 432x288 with 1 Axes>"
      ]
     },
     "metadata": {
      "needs_background": "light"
     },
     "output_type": "display_data"
    }
   ],
   "source": [
    "#mergner CV distribution\n",
    "#using CVs and gene categories from only the RNA-seq data, plot CVs of the constitutive and variable gene sets\n",
    "merged_mergner =pd.merge(mergner_df,mergner_all_df, on='AGI', how='left')\n",
    "all_prom_distribution(merged_mergner[merged_mergner.gene_type == 'constitutive'],'expression_CV', 'Expression CV',merged_mergner[merged_mergner.gene_type == 'variable'],df1_label='constitutive',df2_label='variable')\n",
    "#all variable genes have a CV of 5.385165"
   ]
  },
  {
   "cell_type": "code",
   "execution_count": 19,
   "metadata": {},
   "outputs": [
    {
     "data": {
      "image/png": "[encoded data removed]",
      "text/plain": [
       "<Figure size 432x288 with 1 Axes>"
      ]
     },
     "metadata": {
      "needs_background": "light"
     },
     "output_type": "display_data"
    }
   ],
   "source": [
    "#distribution of only constitutive gene CVs (both gene categories and CVs from RNA-seq data)\n",
    "all_prom_distribution(merged_mergner[merged_mergner.gene_type == 'constitutive'],'expression_CV', 'Expression CV')"
   ]
  },
  {
   "cell_type": "code",
   "execution_count": 20,
   "metadata": {},
   "outputs": [
    {
     "name": "stderr",
     "output_type": "stream",
     "text": [
      "/home/witham/opt/anaconda3/envs/PromoterArchitecturePipeline/lib/python3.7/site-packages/seaborn/distributions.py:369: UserWarning: Default bandwidth for data is 0; skipping density estimation.\n",
      "  warnings.warn(msg, UserWarning)\n"
     ]
    },
    {
     "data": {
      "image/png": "[encoded data removed]",
      "text/plain": [
       "<Figure size 432x288 with 1 Axes>"
      ]
     },
     "metadata": {
      "needs_background": "light"
     },
     "output_type": "display_data"
    }
   ],
   "source": [
    "#distribution of only variable gene CVs (both gene categories and CVs from RNA-seq data)\n",
    "all_prom_distribution(merged_mergner[merged_mergner.gene_type == 'variable'],'expression_CV', 'Expression CV')\n",
    "#all variable genes have a CV of 5.385165"
   ]
  },
  {
   "cell_type": "code",
   "execution_count": 24,
   "metadata": {},
   "outputs": [
    {
     "data": {
      "text/html": [
       "<div>\n",
       "<style scoped>\n",
       "    .dataframe tbody tr th:only-of-type {\n",
       "        vertical-align: middle;\n",
       "    }\n",
       "\n",
       "    .dataframe tbody tr th {\n",
       "        vertical-align: top;\n",
       "    }\n",
       "\n",
       "    .dataframe thead th {\n",
       "        text-align: right;\n",
       "    }\n",
       "</style>\n",
       "<table border=\"1\" class=\"dataframe\">\n",
       "  <thead>\n",
       "    <tr style=\"text-align: right;\">\n",
       "      <th></th>\n",
       "      <th>AGI</th>\n",
       "      <th>gene_type</th>\n",
       "      <th>chr</th>\n",
       "      <th>start</th>\n",
       "      <th>stop</th>\n",
       "      <th>dot1</th>\n",
       "      <th>strand</th>\n",
       "      <th>source</th>\n",
       "      <th>type</th>\n",
       "      <th>dot2</th>\n",
       "      <th>attributes</th>\n",
       "      <th>rank</th>\n",
       "      <th>probe_id</th>\n",
       "      <th>expression_mean</th>\n",
       "      <th>expression_SD</th>\n",
       "      <th>expression_CV</th>\n",
       "      <th>proportion_of_values_present_in_mas5</th>\n",
       "      <th>presence_in_araport11</th>\n",
       "      <th>constitutive_in_araport11</th>\n",
       "    </tr>\n",
       "  </thead>\n",
       "  <tbody>\n",
       "    <tr>\n",
       "      <th>0</th>\n",
       "      <td>AT4G34270</td>\n",
       "      <td>constitutive</td>\n",
       "      <td>4</td>\n",
       "      <td>16406153</td>\n",
       "      <td>16406940</td>\n",
       "      <td>.</td>\n",
       "      <td>-</td>\n",
       "      <td>araport11</td>\n",
       "      <td>promoter</td>\n",
       "      <td>.</td>\n",
       "      <td>ID=gene:AT4G34270;Name=TIP41L;biotype=protein_...</td>\n",
       "      <td>1.0</td>\n",
       "      <td>253287_at</td>\n",
       "      <td>353.456602</td>\n",
       "      <td>49.857754</td>\n",
       "      <td>0.141058</td>\n",
       "      <td>89.0</td>\n",
       "      <td>1.0</td>\n",
       "      <td>0.0</td>\n",
       "    </tr>\n",
       "    <tr>\n",
       "      <th>1</th>\n",
       "      <td>AT4G33380</td>\n",
       "      <td>constitutive</td>\n",
       "      <td>4</td>\n",
       "      <td>16071405</td>\n",
       "      <td>16072063</td>\n",
       "      <td>.</td>\n",
       "      <td>+</td>\n",
       "      <td>araport11</td>\n",
       "      <td>promoter</td>\n",
       "      <td>.</td>\n",
       "      <td>ID=gene:AT4G33380;biotype=protein_coding;descr...</td>\n",
       "      <td>2.0</td>\n",
       "      <td>253355_at</td>\n",
       "      <td>310.079363</td>\n",
       "      <td>44.656095</td>\n",
       "      <td>0.144015</td>\n",
       "      <td>100.0</td>\n",
       "      <td>1.0</td>\n",
       "      <td>0.0</td>\n",
       "    </tr>\n",
       "    <tr>\n",
       "      <th>2</th>\n",
       "      <td>AT2G28390</td>\n",
       "      <td>constitutive</td>\n",
       "      <td>2</td>\n",
       "      <td>12143375</td>\n",
       "      <td>12144665</td>\n",
       "      <td>.</td>\n",
       "      <td>-</td>\n",
       "      <td>araport11</td>\n",
       "      <td>promoter</td>\n",
       "      <td>.</td>\n",
       "      <td>ID=gene:AT2G28390;Name=MON1;biotype=protein_co...</td>\n",
       "      <td>5.0</td>\n",
       "      <td>265256_at</td>\n",
       "      <td>415.473770</td>\n",
       "      <td>64.144394</td>\n",
       "      <td>0.154389</td>\n",
       "      <td>99.0</td>\n",
       "      <td>1.0</td>\n",
       "      <td>0.0</td>\n",
       "    </tr>\n",
       "    <tr>\n",
       "      <th>3</th>\n",
       "      <td>AT1G71820</td>\n",
       "      <td>constitutive</td>\n",
       "      <td>1</td>\n",
       "      <td>27008563</td>\n",
       "      <td>27010021</td>\n",
       "      <td>.</td>\n",
       "      <td>+</td>\n",
       "      <td>araport11</td>\n",
       "      <td>promoter</td>\n",
       "      <td>.</td>\n",
       "      <td>ID=gene:AT1G71820;Name=SEC6;biotype=protein_co...</td>\n",
       "      <td>6.0</td>\n",
       "      <td>261520_at</td>\n",
       "      <td>404.220936</td>\n",
       "      <td>64.348116</td>\n",
       "      <td>0.159190</td>\n",
       "      <td>100.0</td>\n",
       "      <td>1.0</td>\n",
       "      <td>0.0</td>\n",
       "    </tr>\n",
       "    <tr>\n",
       "      <th>4</th>\n",
       "      <td>AT1G48900</td>\n",
       "      <td>constitutive</td>\n",
       "      <td>1</td>\n",
       "      <td>18087743</td>\n",
       "      <td>18088934</td>\n",
       "      <td>.</td>\n",
       "      <td>-</td>\n",
       "      <td>araport11</td>\n",
       "      <td>promoter</td>\n",
       "      <td>.</td>\n",
       "      <td>ID=gene:AT1G48900;Name=SRP-54C;biotype=protein...</td>\n",
       "      <td>8.0</td>\n",
       "      <td>246628_at</td>\n",
       "      <td>1092.834323</td>\n",
       "      <td>175.242466</td>\n",
       "      <td>0.160356</td>\n",
       "      <td>100.0</td>\n",
       "      <td>1.0</td>\n",
       "      <td>0.0</td>\n",
       "    </tr>\n",
       "    <tr>\n",
       "      <th>...</th>\n",
       "      <td>...</td>\n",
       "      <td>...</td>\n",
       "      <td>...</td>\n",
       "      <td>...</td>\n",
       "      <td>...</td>\n",
       "      <td>...</td>\n",
       "      <td>...</td>\n",
       "      <td>...</td>\n",
       "      <td>...</td>\n",
       "      <td>...</td>\n",
       "      <td>...</td>\n",
       "      <td>...</td>\n",
       "      <td>...</td>\n",
       "      <td>...</td>\n",
       "      <td>...</td>\n",
       "      <td>...</td>\n",
       "      <td>...</td>\n",
       "      <td>...</td>\n",
       "      <td>...</td>\n",
       "    </tr>\n",
       "    <tr>\n",
       "      <th>195</th>\n",
       "      <td>AT5G45840</td>\n",
       "      <td>variable</td>\n",
       "      <td>5</td>\n",
       "      <td>18597221</td>\n",
       "      <td>18598907</td>\n",
       "      <td>.</td>\n",
       "      <td>-</td>\n",
       "      <td>araport11</td>\n",
       "      <td>promoter</td>\n",
       "      <td>.</td>\n",
       "      <td>ID=gene:AT5G45840;biotype=protein_coding;gene_...</td>\n",
       "      <td>12040.0</td>\n",
       "      <td>248916_at</td>\n",
       "      <td>134.581901</td>\n",
       "      <td>703.490627</td>\n",
       "      <td>5.227231</td>\n",
       "      <td>87.0</td>\n",
       "      <td>1.0</td>\n",
       "      <td>0.0</td>\n",
       "    </tr>\n",
       "    <tr>\n",
       "      <th>196</th>\n",
       "      <td>AT5G16100</td>\n",
       "      <td>variable</td>\n",
       "      <td>5</td>\n",
       "      <td>5259719</td>\n",
       "      <td>5260521</td>\n",
       "      <td>.</td>\n",
       "      <td>-</td>\n",
       "      <td>araport11</td>\n",
       "      <td>promoter</td>\n",
       "      <td>.</td>\n",
       "      <td>ID=gene:AT5G16100;biotype=protein_coding;descr...</td>\n",
       "      <td>12042.0</td>\n",
       "      <td>246491_at</td>\n",
       "      <td>58.005668</td>\n",
       "      <td>317.123112</td>\n",
       "      <td>5.467106</td>\n",
       "      <td>96.0</td>\n",
       "      <td>1.0</td>\n",
       "      <td>0.0</td>\n",
       "    </tr>\n",
       "    <tr>\n",
       "      <th>197</th>\n",
       "      <td>AT3G44070</td>\n",
       "      <td>variable</td>\n",
       "      <td>3</td>\n",
       "      <td>15829478</td>\n",
       "      <td>15830823</td>\n",
       "      <td>.</td>\n",
       "      <td>-</td>\n",
       "      <td>araport11</td>\n",
       "      <td>promoter</td>\n",
       "      <td>.</td>\n",
       "      <td>ID=gene:AT3G44070;biotype=protein_coding;descr...</td>\n",
       "      <td>12044.0</td>\n",
       "      <td>252663_at</td>\n",
       "      <td>43.870893</td>\n",
       "      <td>243.328949</td>\n",
       "      <td>5.546478</td>\n",
       "      <td>92.0</td>\n",
       "      <td>1.0</td>\n",
       "      <td>0.0</td>\n",
       "    </tr>\n",
       "    <tr>\n",
       "      <th>198</th>\n",
       "      <td>AT3G60570</td>\n",
       "      <td>variable</td>\n",
       "      <td>3</td>\n",
       "      <td>22390152</td>\n",
       "      <td>22391246</td>\n",
       "      <td>.</td>\n",
       "      <td>+</td>\n",
       "      <td>araport11</td>\n",
       "      <td>promoter</td>\n",
       "      <td>.</td>\n",
       "      <td>ID=gene:AT3G60570;Name=EXPB5;biotype=protein_c...</td>\n",
       "      <td>12045.0</td>\n",
       "      <td>251397_at</td>\n",
       "      <td>136.318970</td>\n",
       "      <td>881.245110</td>\n",
       "      <td>6.464582</td>\n",
       "      <td>85.0</td>\n",
       "      <td>1.0</td>\n",
       "      <td>0.0</td>\n",
       "    </tr>\n",
       "    <tr>\n",
       "      <th>199</th>\n",
       "      <td>AT3G18810</td>\n",
       "      <td>variable</td>\n",
       "      <td>3</td>\n",
       "      <td>6483593</td>\n",
       "      <td>6484067</td>\n",
       "      <td>.</td>\n",
       "      <td>-</td>\n",
       "      <td>araport11</td>\n",
       "      <td>promoter</td>\n",
       "      <td>.</td>\n",
       "      <td>ID=gene:AT3G18810;Name=PERK6;biotype=protein_c...</td>\n",
       "      <td>12046.0</td>\n",
       "      <td>257804_at</td>\n",
       "      <td>90.857751</td>\n",
       "      <td>594.048988</td>\n",
       "      <td>6.538231</td>\n",
       "      <td>89.0</td>\n",
       "      <td>1.0</td>\n",
       "      <td>0.0</td>\n",
       "    </tr>\n",
       "  </tbody>\n",
       "</table>\n",
       "<p>200 rows × 19 columns</p>\n",
       "</div>"
      ],
      "text/plain": [
       "           AGI     gene_type  chr     start      stop dot1 strand     source  \\\n",
       "0    AT4G34270  constitutive    4  16406153  16406940    .      -  araport11   \n",
       "1    AT4G33380  constitutive    4  16071405  16072063    .      +  araport11   \n",
       "2    AT2G28390  constitutive    2  12143375  12144665    .      -  araport11   \n",
       "3    AT1G71820  constitutive    1  27008563  27010021    .      +  araport11   \n",
       "4    AT1G48900  constitutive    1  18087743  18088934    .      -  araport11   \n",
       "..         ...           ...  ...       ...       ...  ...    ...        ...   \n",
       "195  AT5G45840      variable    5  18597221  18598907    .      -  araport11   \n",
       "196  AT5G16100      variable    5   5259719   5260521    .      -  araport11   \n",
       "197  AT3G44070      variable    3  15829478  15830823    .      -  araport11   \n",
       "198  AT3G60570      variable    3  22390152  22391246    .      +  araport11   \n",
       "199  AT3G18810      variable    3   6483593   6484067    .      -  araport11   \n",
       "\n",
       "         type dot2                                         attributes  \\\n",
       "0    promoter    .  ID=gene:AT4G34270;Name=TIP41L;biotype=protein_...   \n",
       "1    promoter    .  ID=gene:AT4G33380;biotype=protein_coding;descr...   \n",
       "2    promoter    .  ID=gene:AT2G28390;Name=MON1;biotype=protein_co...   \n",
       "3    promoter    .  ID=gene:AT1G71820;Name=SEC6;biotype=protein_co...   \n",
       "4    promoter    .  ID=gene:AT1G48900;Name=SRP-54C;biotype=protein...   \n",
       "..        ...  ...                                                ...   \n",
       "195  promoter    .  ID=gene:AT5G45840;biotype=protein_coding;gene_...   \n",
       "196  promoter    .  ID=gene:AT5G16100;biotype=protein_coding;descr...   \n",
       "197  promoter    .  ID=gene:AT3G44070;biotype=protein_coding;descr...   \n",
       "198  promoter    .  ID=gene:AT3G60570;Name=EXPB5;biotype=protein_c...   \n",
       "199  promoter    .  ID=gene:AT3G18810;Name=PERK6;biotype=protein_c...   \n",
       "\n",
       "        rank   probe_id  expression_mean  expression_SD  expression_CV  \\\n",
       "0        1.0  253287_at       353.456602      49.857754       0.141058   \n",
       "1        2.0  253355_at       310.079363      44.656095       0.144015   \n",
       "2        5.0  265256_at       415.473770      64.144394       0.154389   \n",
       "3        6.0  261520_at       404.220936      64.348116       0.159190   \n",
       "4        8.0  246628_at      1092.834323     175.242466       0.160356   \n",
       "..       ...        ...              ...            ...            ...   \n",
       "195  12040.0  248916_at       134.581901     703.490627       5.227231   \n",
       "196  12042.0  246491_at        58.005668     317.123112       5.467106   \n",
       "197  12044.0  252663_at        43.870893     243.328949       5.546478   \n",
       "198  12045.0  251397_at       136.318970     881.245110       6.464582   \n",
       "199  12046.0  257804_at        90.857751     594.048988       6.538231   \n",
       "\n",
       "     proportion_of_values_present_in_mas5  presence_in_araport11  \\\n",
       "0                                    89.0                    1.0   \n",
       "1                                   100.0                    1.0   \n",
       "2                                    99.0                    1.0   \n",
       "3                                   100.0                    1.0   \n",
       "4                                   100.0                    1.0   \n",
       "..                                    ...                    ...   \n",
       "195                                  87.0                    1.0   \n",
       "196                                  96.0                    1.0   \n",
       "197                                  92.0                    1.0   \n",
       "198                                  85.0                    1.0   \n",
       "199                                  89.0                    1.0   \n",
       "\n",
       "     constitutive_in_araport11  \n",
       "0                          0.0  \n",
       "1                          0.0  \n",
       "2                          0.0  \n",
       "3                          0.0  \n",
       "4                          0.0  \n",
       "..                         ...  \n",
       "195                        0.0  \n",
       "196                        0.0  \n",
       "197                        0.0  \n",
       "198                        0.0  \n",
       "199                        0.0  \n",
       "\n",
       "[200 rows x 19 columns]"
      ]
     },
     "execution_count": 24,
     "metadata": {},
     "output_type": "execute_result"
    }
   ],
   "source": [
    "#Czechowski top 100 constitutive & variable genes\n",
    "merged_czechowski[~(merged_czechowski.gene_type == 'control')]"
   ]
  },
  {
   "cell_type": "code",
   "execution_count": 26,
   "metadata": {},
   "outputs": [
    {
     "data": {
      "text/plain": [
       "0.2126662631755038"
      ]
     },
     "execution_count": 26,
     "metadata": {},
     "output_type": "execute_result"
    }
   ],
   "source": [
    "#highest CV constitutive\n",
    "merged_czechowski[merged_czechowski.gene_type == 'constitutive'].expression_CV.max()"
   ]
  },
  {
   "cell_type": "code",
   "execution_count": 27,
   "metadata": {},
   "outputs": [
    {
     "data": {
      "text/plain": [
       "2.4864757213875044"
      ]
     },
     "execution_count": 27,
     "metadata": {},
     "output_type": "execute_result"
    }
   ],
   "source": [
    "#lowest CV variable\n",
    "merged_czechowski[merged_czechowski.gene_type == 'variable'].expression_CV.min()"
   ]
  },
  {
   "cell_type": "code",
   "execution_count": 11,
   "metadata": {},
   "outputs": [
    {
     "name": "stderr",
     "output_type": "stream",
     "text": [
      "/home/witham/opt/anaconda3/envs/PromoterArchitecturePipeline/lib/python3.7/site-packages/ipykernel_launcher.py:21: MatplotlibDeprecationWarning: Adding an axes using the same arguments as a previous axes currently reuses the earlier instance.  In a future version, a new instance will always be created and returned.  Meanwhile, this warning can be suppressed, and the future behavior ensured, by passing a unique label to each axes instance.\n"
     ]
    },
    {
     "data": {
      "image/png": "[encoded data removed]",
      "text/plain": [
       "<Figure size 432x288 with 1 Axes>"
      ]
     },
     "metadata": {
      "needs_background": "light"
     },
     "output_type": "display_data"
    }
   ],
   "source": [
    "#all czechowski CV distribution plot with annotation showing top 100 constitutive and top 100 variable\n",
    "dist_plot_fig = all_prom_distribution(czechowski_all_df,'expression_CV', 'Expression CV',\n",
    "                                      labels=True,min_x_constitutive=merged_czechowski[merged_czechowski.gene_type == 'constitutive'].expression_CV.min(),\n",
    "                                      max_x_constitutive=merged_czechowski[merged_czechowski.gene_type == 'constitutive'].expression_CV.max(),\n",
    "                                     min_x_variable=merged_czechowski[merged_czechowski.gene_type == 'variable'].expression_CV.min(),\n",
    "                                     max_x_variable=merged_czechowski[merged_czechowski.gene_type == 'variable'].expression_CV.max(),save=True)\n"
   ]
  },
  {
   "cell_type": "code",
   "execution_count": 49,
   "metadata": {},
   "outputs": [
    {
     "data": {
      "text/plain": [
       "0.14105764030744095"
      ]
     },
     "execution_count": 49,
     "metadata": {},
     "output_type": "execute_result"
    }
   ],
   "source": [
    "merged_czechowski[merged_czechowski.gene_type == 'constitutive'].expression_CV.min()"
   ]
  },
  {
   "cell_type": "code",
   "execution_count": 64,
   "metadata": {},
   "outputs": [
    {
     "data": {
      "text/plain": [
       "0.2126662631755038"
      ]
     },
     "execution_count": 64,
     "metadata": {},
     "output_type": "execute_result"
    }
   ],
   "source": [
    "merged_czechowski[merged_czechowski.gene_type == 'constitutive'].expression_CV.max()"
   ]
  },
  {
   "cell_type": "markdown",
   "metadata": {},
   "source": [
    "### identify how many promoters potentially bidirectional in each promoter category (potentially overlapping promoters where the upstream gene was positioned in the opposite direction and was less than 2000 bp away from the TSS.)"
   ]
  },
  {
   "cell_type": "code",
   "execution_count": 126,
   "metadata": {},
   "outputs": [],
   "source": [
    "overlapping_promoters_bed = f'../../data/output/{file_names}/overlapping_promoters.bed'\n",
    "overlappingproms_df = pd.read_table(overlapping_promoters_bed, sep='\\t',header=None)\n",
    "cols = ['chr', 'start', 'stop', 'numberoverlapping', 'gene1','gene2']\n",
    "overlappingproms_df.columns = cols\n",
    "#select genes present in both czechowski gene set and overlapping\n",
    "czechowski_overlappingproms = czechowski_df[czechowski_df.AGI.isin(overlappingproms_df.gene1) | czechowski_df.AGI.isin(overlappingproms_df.gene2)]\n"
   ]
  },
  {
   "cell_type": "code",
   "execution_count": 129,
   "metadata": {},
   "outputs": [
    {
     "data": {
      "text/plain": [
       "37"
      ]
     },
     "execution_count": 129,
     "metadata": {},
     "output_type": "execute_result"
    }
   ],
   "source": [
    "len(czechowski_overlappingproms[czechowski_overlappingproms.gene_type == 'constitutive'])"
   ]
  },
  {
   "cell_type": "code",
   "execution_count": 131,
   "metadata": {},
   "outputs": [
    {
     "data": {
      "text/plain": [
       "13"
      ]
     },
     "execution_count": 131,
     "metadata": {},
     "output_type": "execute_result"
    }
   ],
   "source": [
    "len(czechowski_overlappingproms[czechowski_overlappingproms.gene_type == 'variable'])"
   ]
  },
  {
   "cell_type": "code",
   "execution_count": 132,
   "metadata": {},
   "outputs": [
    {
     "data": {
      "text/plain": [
       "23"
      ]
     },
     "execution_count": 132,
     "metadata": {},
     "output_type": "execute_result"
    }
   ],
   "source": [
    "len(czechowski_overlappingproms[czechowski_overlappingproms.gene_type == 'control'])"
   ]
  },
  {
   "cell_type": "code",
   "execution_count": null,
   "metadata": {},
   "outputs": [],
   "source": []
  }
 ],
 "metadata": {
  "kernelspec": {
   "display_name": "Python [conda env:PromoterArchitecturePipeline] *",
   "language": "python",
   "name": "conda-env-PromoterArchitecturePipeline-py"
  },
  "language_info": {
   "codemirror_mode": {
    "name": "ipython",
    "version": 3
   },
   "file_extension": ".py",
   "mimetype": "text/x-python",
   "name": "python",
   "nbconvert_exporter": "python",
   "pygments_lexer": "ipython3",
   "version": "3.7.8"
  }
 },
 "nbformat": 4,
 "nbformat_minor": 4
}
