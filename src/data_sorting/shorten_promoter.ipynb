{
 "cells": [
  {
   "cell_type": "code",
   "execution_count": null,
   "metadata": {},
   "outputs": [],
   "source": [
    "#Shorten promtoters to certain length upstream of ATG after doing FIMO analysis"
   ]
  },
  {
   "cell_type": "code",
   "execution_count": 1,
   "metadata": {},
   "outputs": [],
   "source": [
    "from pybedtools import BedTool\n",
    "import pandas as pd\n",
    "import argparse"
   ]
  },
  {
   "cell_type": "code",
   "execution_count": null,
   "metadata": {},
   "outputs": [],
   "source": [
    "parser = argparse.ArgumentParser(description='shorten_promoter')\n",
    "parser.add_argument('file_names', type=str, help='Name of folder and filenames for the promoters extracted')\n",
    "parser.add_argument('promoterpref', type=str, help='Name of the prefix name for the promoters extracted')\n",
    "parser.add_argument('promoter_5UTR_bed', type=str, help='Location of the extracted promoters/5UTRs')\n",
    "parser.add_argument('promoter_length', type=int, help='Length to shorten promoters to')\n",
    "parser.add_argument('shortened_promoter_5UTR_bed', type=str, help='Output location of the shortened promoters/5UTRs')\n",
    "args = parser.parse_args()"
   ]
  },
  {
   "cell_type": "code",
   "execution_count": 18,
   "metadata": {},
   "outputs": [],
   "source": [
    "file_names = 'non-overlapping_includingbidirectional_all_genes_newannotation'\n",
    "promoterpref='promoters_5UTR'\n",
    "#use promoters which definitely have TFBSs\n",
    "promoter_5UTR_bed = f'../../data/output/{file_names}/FIMO/{promoterpref}_filtered_contain_motifs.bed'\n",
    "promoter_length = 400\n",
    "shortened_promoter_5UTR_bed = f'../../data/output/{file_names}/FIMO/{promoterpref}_{str(promoter_length)}bp.bed'"
   ]
  },
  {
   "cell_type": "code",
   "execution_count": 19,
   "metadata": {},
   "outputs": [],
   "source": [
    "def shorten_promoters(promoter_5UTR_bed,promoter_length,shortened_promoter_5UTR_bed):\n",
    "    \"\"\"shorten promoters to certain length upstream of ATG and output to a file.\"\"\"\n",
    "    promoters = pd.read_table(promoter_5UTR_bed, sep='\\t', header=None)\n",
    "    cols = ['chr','start','stop','AGI','dot1','strand','source','type','dot2','attributes']\n",
    "    promoters.columns = cols\n",
    "    #shorten promoters to the promoter_length upstream of ATG\n",
    "    promoters.loc[promoters.strand == '+', 'start'] = promoters.loc[promoters.strand == '+', 'stop'] - promoter_length\n",
    "    promoters.loc[promoters.strand == '-', 'stop'] = promoters.loc[promoters.strand == '-', 'start'] + promoter_length\n",
    "    #write to output file\n",
    "    promoters.to_csv(shortened_promoter_5UTR_bed, sep='\\t',header=None,index=False)"
   ]
  },
  {
   "cell_type": "code",
   "execution_count": 20,
   "metadata": {},
   "outputs": [],
   "source": [
    "#shorten promoters\n",
    "shorten_promoters(promoter_5UTR_bed,promoter_length,shortened_promoter_5UTR_bed)"
   ]
  },
  {
   "cell_type": "code",
   "execution_count": null,
   "metadata": {},
   "outputs": [],
   "source": []
  }
 ],
 "metadata": {
  "kernelspec": {
   "display_name": "Python [conda env:PromoterArchitecturePipeline] *",
   "language": "python",
   "name": "conda-env-PromoterArchitecturePipeline-py"
  },
  "language_info": {
   "codemirror_mode": {
    "name": "ipython",
    "version": 3
   },
   "file_extension": ".py",
   "mimetype": "text/x-python",
   "name": "python",
   "nbconvert_exporter": "python",
   "pygments_lexer": "ipython3",
   "version": "3.7.6"
  }
 },
 "nbformat": 4,
 "nbformat_minor": 4
}
