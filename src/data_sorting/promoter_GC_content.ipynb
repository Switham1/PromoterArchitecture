{
 "cells": [
  {
   "cell_type": "code",
   "execution_count": 4,
   "metadata": {},
   "outputs": [],
   "source": [
    "from Bio.SeqUtils import GC\n",
    "from Bio import SeqIO"
   ]
  },
  {
   "cell_type": "code",
   "execution_count": 13,
   "metadata": {},
   "outputs": [],
   "source": [
    "promoters = '../../data/FIMO/responsivepromoters.fasta'\n",
    "output = '../../data/genes/responsivepromoters_GC_content.txt'"
   ]
  },
  {
   "cell_type": "code",
   "execution_count": 17,
   "metadata": {},
   "outputs": [],
   "source": [
    "def GC_content(dna_fasta, output_file):\n",
    "    \"\"\"function to calculate GC content % of sequences in a fast file and output a text file\"\"\"\n",
    "\n",
    "    fasta_sequences = SeqIO.parse(open(promoters),'fasta')\n",
    "    with open(output_file, 'w') as fout:\n",
    "\n",
    "        for fasta in fasta_sequences:\n",
    "                name, sequence = fasta.id, str(fasta.seq)\n",
    "\n",
    "                fout.write(f'{name} {GC(sequence)}\\n')\n",
    "\n",
    "       \n",
    "    "
   ]
  },
  {
   "cell_type": "code",
   "execution_count": 18,
   "metadata": {},
   "outputs": [],
   "source": [
    "GC_content(promoters, output)"
   ]
  },
  {
   "cell_type": "code",
   "execution_count": null,
   "metadata": {},
   "outputs": [],
   "source": []
  }
 ],
 "metadata": {
  "kernelspec": {
   "display_name": "Python [conda env:PromoterArchitecturePipeline] *",
   "language": "python",
   "name": "conda-env-PromoterArchitecturePipeline-py"
  },
  "language_info": {
   "codemirror_mode": {
    "name": "ipython",
    "version": 3
   },
   "file_extension": ".py",
   "mimetype": "text/x-python",
   "name": "python",
   "nbconvert_exporter": "python",
   "pygments_lexer": "ipython3",
   "version": "3.6.7"
  }
 },
 "nbformat": 4,
 "nbformat_minor": 4
}
