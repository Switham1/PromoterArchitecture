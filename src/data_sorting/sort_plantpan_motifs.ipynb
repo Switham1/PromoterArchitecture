{
 "cells": [
  {
   "cell_type": "code",
   "execution_count": 3,
   "metadata": {},
   "outputs": [],
   "source": [
    "plantpan_motifs = '../../data/FIMO/motif_data/plant_pan/Transcription_factor_weight_matrix_Arabidopsis_thaliana.txt'\n",
    "plantpan_motifs_meme = '../../data/FIMO/motif_data/plant_pan/plantpan_meme_format.meme'"
   ]
  },
  {
   "cell_type": "code",
   "execution_count": null,
   "metadata": {},
   "outputs": [],
   "source": [
    "with open(plantpan_motifs, 'r') as fin:\n",
    "    with open(plantpan_motifs_meme, 'w') as fout:\n",
    "        for line in fin:\n",
    "            fout.write(line.replace('>', ''))\n",
    "    "
   ]
  },
  {
   "cell_type": "code",
   "execution_count": 9,
   "metadata": {},
   "outputs": [],
   "source": [
    "with open(plantpan_motifs, \"r\") as fin:\n",
    "    with open(plantpan_motifs_meme, \"w\") as fout:\n",
    "        for line in fin:\n",
    "            #if first character is a letter, add a colon after it, and remove square brackets\n",
    "            if line[0].isalpha():                \n",
    "                fout.write(line.translate(str.maketrans({f'{line[0]}': f'{line[0]}:', '[': None, ']':None})))\n",
    "                #otherwise remove any '>' characters\n",
    "            else:\n",
    "                fout.write(line.replace('>', ''))\n",
    "\n"
   ]
  },
  {
   "cell_type": "code",
   "execution_count": null,
   "metadata": {},
   "outputs": [],
   "source": []
  }
 ],
 "metadata": {
  "kernelspec": {
   "display_name": "Python [conda env:PromoterArchitecturePipeline] *",
   "language": "python",
   "name": "conda-env-PromoterArchitecturePipeline-py"
  },
  "language_info": {
   "codemirror_mode": {
    "name": "ipython",
    "version": 3
   },
   "file_extension": ".py",
   "mimetype": "text/x-python",
   "name": "python",
   "nbconvert_exporter": "python",
   "pygments_lexer": "ipython3",
   "version": "3.6.7"
  }
 },
 "nbformat": 4,
 "nbformat_minor": 4
}
