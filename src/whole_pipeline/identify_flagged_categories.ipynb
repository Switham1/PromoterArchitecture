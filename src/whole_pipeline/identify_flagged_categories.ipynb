{
 "cells": [
  {
   "cell_type": "code",
   "execution_count": 2,
   "metadata": {},
   "outputs": [],
   "source": [
    "import pandas as pd"
   ]
  },
  {
   "cell_type": "code",
   "execution_count": 1,
   "metadata": {},
   "outputs": [],
   "source": [
    "#read in files\n",
    "flagged_bidirectional = '../../data/output/non-overlapping_includingbidirectional_all_genes_newannotation/overlapping_promoters_5UTR.bed'\n",
    "cv_categories = '../../data/output/non-overlapping_includingbidirectional_all_genes_newannotation/genes/promoters_5UTR_czechowski_constitutive_variable_random.txt'\n",
    "tau_categories = '../../data/output/non-overlapping_includingbidirectional_all_genes_newannotation/genes/promoters_5UTR_schmid_non-specific_tissue_specific_random.txt'"
   ]
  },
  {
   "cell_type": "code",
   "execution_count": 11,
   "metadata": {},
   "outputs": [],
   "source": [
    "flagged_bidirectional_df = pd.read_table(flagged_bidirectional, sep='\\t', header = None)\n",
    "col = ['chr', 'start','stop','number', 'AGI','AGI2']\n",
    "flagged_bidirectional_df.columns = col\n",
    "cv_categories_df = pd.read_table(cv_categories, sep='\\t', header = None)\n",
    "tau_categories_df = pd.read_table(tau_categories, sep='\\t', header = None)\n",
    "col2 = ['AGI', 'gene_type']\n",
    "cv_categories_df.columns = col2\n",
    "tau_categories_df.columns = col2"
   ]
  },
  {
   "cell_type": "code",
   "execution_count": 14,
   "metadata": {},
   "outputs": [],
   "source": [
    "#merge dfs\n",
    "merged_cv = pd.merge(cv_categories_df,flagged_bidirectional_df, how='left', on='AGI')\n",
    "merged_tau = pd.merge(tau_categories_df,flagged_bidirectional_df, how='left', on='AGI')"
   ]
  },
  {
   "cell_type": "code",
   "execution_count": 23,
   "metadata": {},
   "outputs": [],
   "source": [
    "#remove NaN rows\n",
    "merged_cv_nonull = merged_cv[~merged_cv.chr.isnull()]\n",
    "merged_tau_nonull = merged_tau[~merged_tau.chr.isnull()]\n"
   ]
  },
  {
   "cell_type": "code",
   "execution_count": 28,
   "metadata": {},
   "outputs": [
    {
     "data": {
      "text/html": "<div>\n<style scoped>\n    .dataframe tbody tr th:only-of-type {\n        vertical-align: middle;\n    }\n\n    .dataframe tbody tr th {\n        vertical-align: top;\n    }\n\n    .dataframe thead th {\n        text-align: right;\n    }\n</style>\n<table border=\"1\" class=\"dataframe\">\n  <thead>\n    <tr style=\"text-align: right;\">\n      <th></th>\n      <th>AGI</th>\n      <th>chr</th>\n      <th>start</th>\n      <th>stop</th>\n      <th>number</th>\n      <th>AGI2</th>\n    </tr>\n    <tr>\n      <th>gene_type</th>\n      <th></th>\n      <th></th>\n      <th></th>\n      <th></th>\n      <th></th>\n      <th></th>\n    </tr>\n  </thead>\n  <tbody>\n    <tr>\n      <th>constitutive</th>\n      <td>17</td>\n      <td>17</td>\n      <td>17</td>\n      <td>17</td>\n      <td>17</td>\n      <td>17</td>\n    </tr>\n    <tr>\n      <th>control</th>\n      <td>11</td>\n      <td>11</td>\n      <td>11</td>\n      <td>11</td>\n      <td>11</td>\n      <td>11</td>\n    </tr>\n    <tr>\n      <th>variable</th>\n      <td>6</td>\n      <td>6</td>\n      <td>6</td>\n      <td>6</td>\n      <td>6</td>\n      <td>6</td>\n    </tr>\n  </tbody>\n</table>\n</div>",
      "text/plain": "              AGI  chr  start  stop  number  AGI2\ngene_type                                        \nconstitutive   17   17     17    17      17    17\ncontrol        11   11     11    11      11    11\nvariable        6    6      6     6       6     6"
     },
     "execution_count": 28,
     "metadata": {},
     "output_type": "execute_result"
    }
   ],
   "source": [
    "merged_cv_nonull.groupby(by='gene_type').agg('count')"
   ]
  },
  {
   "cell_type": "code",
   "execution_count": 29,
   "metadata": {},
   "outputs": [
    {
     "data": {
      "text/html": "<div>\n<style scoped>\n    .dataframe tbody tr th:only-of-type {\n        vertical-align: middle;\n    }\n\n    .dataframe tbody tr th {\n        vertical-align: top;\n    }\n\n    .dataframe thead th {\n        text-align: right;\n    }\n</style>\n<table border=\"1\" class=\"dataframe\">\n  <thead>\n    <tr style=\"text-align: right;\">\n      <th></th>\n      <th>AGI</th>\n      <th>chr</th>\n      <th>start</th>\n      <th>stop</th>\n      <th>number</th>\n      <th>AGI2</th>\n    </tr>\n    <tr>\n      <th>gene_type</th>\n      <th></th>\n      <th></th>\n      <th></th>\n      <th></th>\n      <th></th>\n      <th></th>\n    </tr>\n  </thead>\n  <tbody>\n    <tr>\n      <th>control</th>\n      <td>11</td>\n      <td>11</td>\n      <td>11</td>\n      <td>11</td>\n      <td>11</td>\n      <td>11</td>\n    </tr>\n    <tr>\n      <th>non-specific</th>\n      <td>15</td>\n      <td>15</td>\n      <td>15</td>\n      <td>15</td>\n      <td>15</td>\n      <td>15</td>\n    </tr>\n    <tr>\n      <th>tissue_specific</th>\n      <td>14</td>\n      <td>14</td>\n      <td>14</td>\n      <td>14</td>\n      <td>14</td>\n      <td>14</td>\n    </tr>\n  </tbody>\n</table>\n</div>",
      "text/plain": "                 AGI  chr  start  stop  number  AGI2\ngene_type                                           \ncontrol           11   11     11    11      11    11\nnon-specific      15   15     15    15      15    15\ntissue_specific   14   14     14    14      14    14"
     },
     "execution_count": 29,
     "metadata": {},
     "output_type": "execute_result"
    }
   ],
   "source": [
    "merged_tau_nonull.groupby(by='gene_type').agg('count')"
   ]
  },
  {
   "cell_type": "code",
   "execution_count": null,
   "metadata": {},
   "outputs": [],
   "source": []
  }
 ],
 "metadata": {
  "kernelspec": {
   "display_name": "Python 3",
   "language": "python",
   "name": "python3"
  },
  "language_info": {
   "codemirror_mode": {
    "name": "ipython",
    "version": 3
   },
   "file_extension": ".py",
   "mimetype": "text/x-python",
   "name": "python",
   "nbconvert_exporter": "python",
   "pygments_lexer": "ipython3",
   "version": "3.7.8-final"
  },
  "orig_nbformat": 2
 },
 "nbformat": 4,
 "nbformat_minor": 2
}