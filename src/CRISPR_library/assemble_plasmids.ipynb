{
 "cells": [
  {
   "cell_type": "code",
   "execution_count": 1,
   "metadata": {},
   "outputs": [],
   "source": [
    "import dnacauldron as dc\n",
    "import pandas as pd\n",
    "from Bio import SeqIO\n",
    "import csv\n",
    "import io\n",
    "import os\n",
    "from pydna.all import *"
   ]
  },
  {
   "cell_type": "code",
   "execution_count": 470,
   "metadata": {},
   "outputs": [],
   "source": [
    "##I added the genbank files of the pUAP4 backbone to the /data/CRISPR_library/parts/ folder"
   ]
  },
  {
   "cell_type": "code",
   "execution_count": 2,
   "metadata": {},
   "outputs": [
    {
     "name": "stdout",
     "output_type": "stream",
     "text": [
      "Directory  ../../data/CRISPR_library/parts  already exists\n"
     ]
    }
   ],
   "source": [
    "#make folders for output\n",
    "dirName = f'../../data/CRISPR_library/parts'\n",
    "try:\n",
    "    # Create target Directory\n",
    "    os.mkdir(dirName)\n",
    "    print(\"Directory \" , dirName ,  \" created\") \n",
    "except FileExistsError:\n",
    "    print(\"Directory \" , dirName ,  \" already exists\")"
   ]
  },
  {
   "cell_type": "code",
   "execution_count": 3,
   "metadata": {},
   "outputs": [
    {
     "name": "stdout",
     "output_type": "stream",
     "text": [
      "Directory  ../../data/CRISPR_library/parts/scaffolds  already exists\n"
     ]
    }
   ],
   "source": [
    "#make folders for output\n",
    "dirName = f'../../data/CRISPR_library/parts/scaffolds'\n",
    "try:\n",
    "    # Create target Directory\n",
    "    os.mkdir(dirName)\n",
    "    print(\"Directory \" , dirName ,  \" created\") \n",
    "except FileExistsError:\n",
    "    print(\"Directory \" , dirName ,  \" already exists\")"
   ]
  },
  {
   "cell_type": "code",
   "execution_count": 4,
   "metadata": {},
   "outputs": [
    {
     "name": "stdout",
     "output_type": "stream",
     "text": [
      "Directory  ../../data/CRISPR_library/reports  already exists\n"
     ]
    }
   ],
   "source": [
    "#make folders for output\n",
    "dirName = f'../../data/CRISPR_library/reports'\n",
    "try:\n",
    "    # Create target Directory\n",
    "    os.mkdir(dirName)\n",
    "    print(\"Directory \" , dirName ,  \" created\") \n",
    "except FileExistsError:\n",
    "    print(\"Directory \" , dirName ,  \" already exists\")"
   ]
  },
  {
   "cell_type": "code",
   "execution_count": 5,
   "metadata": {},
   "outputs": [],
   "source": [
    "def create_primer_fasta(all_guides):\n",
    "    \"\"\"function to set the guide names in the sequence repository and create a fasta file\"\"\"\n",
    "    #read allguides csv\n",
    "    all_guides_df = pd.read_csv(all_guides, header=0)\n",
    "    #create a temporary buffer containing the name and sequence columns\n",
    "    buffer = io.StringIO()\n",
    "    all_guides_df[['Name','Sequence']].to_csv(buffer,sep='\\t', header=None, index=None)\n",
    "    #go back to beginning of the buffer\n",
    "    buffer.seek(0)\n",
    "    #convert buffer into fasta file and save the file\n",
    "    SeqIO.convert(buffer, 'tab','../../data/CRISPR_library/parts/guides.fasta','fasta')"
   ]
  },
  {
   "cell_type": "code",
   "execution_count": 6,
   "metadata": {},
   "outputs": [],
   "source": [
    "def simulate_pcr(forward_primer_name,reverse_primer_name, scaffold_name, repository):\n",
    "    \"\"\"function to simulate a PCR program and generate the virtual PCR product. Use the names provided to select the sequences from the biopython seq object\"\"\"\n",
    "    #select the parts from the sequence repository using the names provided\n",
    "    forward_primer = repository.collections['parts'][forward_primer_name]\n",
    "    reverse_primer = repository.collections['parts'][reverse_primer_name]\n",
    "    scaffold = repository.collections['parts'][scaffold_name]\n",
    "    \n",
    "    PCR_prod = pcr(forward_primer, reverse_primer, scaffold)\n",
    "    #change name of the PCR product\n",
    "    PCR_prod.id = forward_primer_name + '_scaffold'\n",
    "    PCR_prod.name = forward_primer_name + '_scaffold'\n",
    "    #save the PCR products\n",
    "    PCR_prod.write(filename=f\"../../data/CRISPR_library/parts/scaffolds/{forward_primer_name}_scaffold.gb\",f='gb')"
   ]
  },
  {
   "cell_type": "code",
   "execution_count": 7,
   "metadata": {},
   "outputs": [],
   "source": [
    "def add_PCRs2repo(primer_name_prefix,parts_list, reverse_primer_name, scaffold_name, repository):\n",
    "    \"\"\"run all of the virtual PCRs for each of the forward primers in the sequence repository. \n",
    "    Primer_name_prefix is the start of the primer names in the list, in this case Sam Witham's initials\"\"\"\n",
    "    for part in parts_list:\n",
    "        #if starts with SW and does not end with _scaffold\n",
    "        if part.startswith(primer_name_prefix) and not part.endswith('_scaffold'):\n",
    "            simulate_pcr(part, reverse_primer_name,scaffold_name,repository)"
   ]
  },
  {
   "cell_type": "code",
   "execution_count": 8,
   "metadata": {},
   "outputs": [],
   "source": [
    "def create_repo(parts_folder_location):\n",
    "    \"\"\"function to use the parts folder location and input all files into the sequence repository\"\"\"\n",
    "    #create sequence repository using all parts in the folder location\n",
    "    repository = dc.SequenceRepository()\n",
    "    repository.import_records(folder=parts_folder_location, use_file_names_as_ids=True)\n",
    "    #list the parts in the repository\n",
    "    parts_list = list(repository.collections['parts'])\n",
    "\n",
    "    \n",
    "    \n",
    "    return repository,parts_list"
   ]
  },
  {
   "cell_type": "code",
   "execution_count": 9,
   "metadata": {},
   "outputs": [],
   "source": [
    "def map_guide_pairs(all_guides, guide_pairs):\n",
    "    \"\"\"function to map the guide names in all_guides.csv to the guide pairs\"\"\"\n",
    "    #read in the csvs\n",
    "    guide_pairs_df = pd.read_csv(guide_pairs, header=0)\n",
    "    all_guides_df = pd.read_csv(all_guides, header=0)\n",
    "    #merge the dfs\n",
    "    merged = pd.merge(guide_pairs_df, all_guides_df, left_on='guide1', right_on='Description')\n",
    "    #rename columns\n",
    "    merged.rename(columns={'Name': 'Name_guide1', 'Description': 'Description_guide1'}, inplace=True)\n",
    "    #merge again to map guide 2\n",
    "    merged = pd.merge(merged, all_guides_df, left_on='guide2', right_on='Description')\n",
    "    merged.rename(columns={'Name': 'Name_guide2', 'Description': 'Description_guide2'}, inplace=True)\n",
    "    #filter columns\n",
    "    merged = merged[['guide1','guide2','Name_guide1','Name_guide2','Description_guide1','Description_guide2']]\n",
    "    return merged"
   ]
  },
  {
   "cell_type": "code",
   "execution_count": 19,
   "metadata": {},
   "outputs": [],
   "source": [
    "def create_goldengate_hierarchy_csv(mapped_guide_pairs, first_level1_ID,level2_ID_prefix,output_location):\n",
    "    \"\"\"function to allocate the guides in each guide pair to loop level 1 acceptors pCk3 and pCk4 respectively\"\"\"\n",
    "    #create level ID\n",
    "    ID_letters = first_level1_ID[:8]\n",
    "    ID_number = int(first_level1_ID[-4:])\n",
    "    #create empty list\n",
    "    rows_list=[]\n",
    "    #iterate over rows in mapped_guide_pairs\n",
    "    for i,data in mapped_guide_pairs.iterrows():\n",
    "        #add columns to dictionary for guide 1 in the pair (contruct name, acceptor, promoter and guidescaffold 1)\n",
    "        dict1 = {'construct':f'{ID_letters}{ID_number}','acceptor':'pCk3','part1':'picsl90002','part2':(mapped_guide_pairs.loc[i, 'Name_guide1']+'_scaffold')}\n",
    "        #increase ID_number by one for the next construct\n",
    "        ID_number = ID_number + 1\n",
    "        #append dictionary to rows_list\n",
    "        rows_list.append(dict1)\n",
    "        #add columns to dictionary for guide 2 in the pair (contruct name, acceptor, promoter and guidescaffold 2)\n",
    "        dict2 = {'construct':f'{ID_letters}{ID_number}','acceptor':'pCk4','part1':'picsl90002','part2':(mapped_guide_pairs.loc[i, 'Name_guide2']+'_scaffold')}\n",
    "        #increase ID_number by one for the next construct\n",
    "        ID_number = ID_number + 1\n",
    "        #append dictionary to rows_list\n",
    "        rows_list.append(dict2)\n",
    "    #create df of rows_list\n",
    "    df = pd.DataFrame(rows_list, columns=['construct','acceptor','part1','part2'])\n",
    "    #remove duplicates\n",
    "    df.drop_duplicates(subset=['acceptor', 'part1','part2'], keep='first', inplace=True)\n",
    "    #sort by PCR product name\n",
    "    df = df.sort_values(['part2']).reset_index(drop=True)\n",
    "    #add new construct names now duplicates are removed\n",
    "    #create level ID\n",
    "    ID_letters = first_level1_ID[:8]\n",
    "    ID_number = int(first_level1_ID[-4:])    \n",
    "    #rename construct IDs\n",
    "    for i, data in df.iterrows():\n",
    "        #make ID_number have 0's as prefix so four digits long\n",
    "        ID_number_string = f'{ID_number:04}'\n",
    "        df.loc[i, 'construct'] = f'{ID_letters}{ID_number_string}'\n",
    "        #increase ID_number by one for the next construct\n",
    "        ID_number = ID_number + 1\n",
    "    #now primer level 1s are added, add level 2 constructs to hierarchy\n",
    "    #create copy of df\n",
    "    df_copy = df.copy()\n",
    "    #add primer name column hierarchy df\n",
    "    df_copy = df_copy.assign(primer_name=df_copy.part2.str.extract('^(.+?)_'))\n",
    "    #split df by acceptor\n",
    "    pck3 = df_copy[df_copy.acceptor=='pCk3']\n",
    "    pck4 = df_copy[df_copy.acceptor=='pCk4']\n",
    "    #map the level 1 sgRNA construct names to the guide pairs by merging the dfs\n",
    "    merged = pd.merge(mapped_guide_pairs, pck3,left_on='Name_guide1', right_on='primer_name',how='left',suffixes=('','_guide1'))\n",
    "    #merge again to get the second name guide construct ID\n",
    "    merged = pd.merge(merged, pck4,left_on='Name_guide2', right_on='primer_name',how='left', suffixes=('','_guide2'))\n",
    "    #now create the level 2 constructs\n",
    "    #create level ID letters\n",
    "    ID_letters2 = level2_ID_prefix\n",
    "    #create another row_list\n",
    "    rows_list2=[]\n",
    "    for i,data in merged.iterrows():\n",
    "       \n",
    "        #make ID_number have 0's as prefix so four digits long\n",
    "        ID_number_string = f'{ID_number:04}'\n",
    "        #add columns to dictionary for guide 1 in the pair (contruct name, acceptor, promoter and guidescaffold 1)\n",
    "        dict1 = {'construct':f'{ID_letters2}{ID_number_string}','acceptor':'pCsA','part1':'pepsw1kn0114','part2':'pepsw1kn0333','part3':merged.loc[i, 'construct'],'part4':merged.loc[i, 'construct_guide2']}\n",
    "        #increase ID_number by one for the next construct\n",
    "        ID_number = ID_number + 1\n",
    "        #append dictionary to rows_list\n",
    "        rows_list2.append(dict1)   \n",
    "        \n",
    "    #turn rows_list2 into a df\n",
    "    df_level2 = pd.DataFrame(rows_list2, columns=['construct','acceptor','part1','part2','part3','part4'])\n",
    "    #concatenate the level 1 and level 2 hierarchy dfs\n",
    "    cat = pd.concat([df,df_level2])\n",
    "    #sort by\n",
    "    #add level 2 constructs\n",
    "    cat.to_csv(output_location, header=1, index=False)\n",
    "    return cat"
   ]
  },
  {
   "cell_type": "code",
   "execution_count": 11,
   "metadata": {},
   "outputs": [
    {
     "ename": "NameError",
     "evalue": "name 'mapped_guide_pairs' is not defined",
     "output_type": "error",
     "traceback": [
      "\u001b[0;31m---------------------------------------------------------------------------\u001b[0m",
      "\u001b[0;31mNameError\u001b[0m                                 Traceback (most recent call last)",
      "\u001b[0;32m<ipython-input-11-270d33f20583>\u001b[0m in \u001b[0;36m<module>\u001b[0;34m\u001b[0m\n\u001b[0;32m----> 1\u001b[0;31m \u001b[0mmapped_guide_pairs\u001b[0m\u001b[0;34m.\u001b[0m\u001b[0mto_csv\u001b[0m\u001b[0;34m(\u001b[0m\u001b[0;34m'../../data/CRISPR_library/all_guide_pairs.csv'\u001b[0m\u001b[0;34m,\u001b[0m\u001b[0mheader\u001b[0m\u001b[0;34m=\u001b[0m\u001b[0;36m1\u001b[0m\u001b[0;34m,\u001b[0m\u001b[0mindex\u001b[0m\u001b[0;34m=\u001b[0m\u001b[0;32mFalse\u001b[0m\u001b[0;34m)\u001b[0m\u001b[0;34m\u001b[0m\u001b[0;34m\u001b[0m\u001b[0m\n\u001b[0m",
      "\u001b[0;31mNameError\u001b[0m: name 'mapped_guide_pairs' is not defined"
     ]
    }
   ],
   "source": [
    "# mapped_guide_pairs.to_csv('../../data/CRISPR_library/all_guide_pairs.csv',header=1,index=False)"
   ]
  },
  {
   "cell_type": "code",
   "execution_count": 12,
   "metadata": {},
   "outputs": [],
   "source": [
    "def hierarchical_goldengate_assembly(parts_location,hierarchy_csv, report_output):\n",
    "    \"\"\"function to do hierarchical goldengate assembly for pasts in the hierarchy_csv.Specify parts location and the report_output location\"\"\"\n",
    "    #create an updated sequence repository of all parts\n",
    "    repository,parts_list = create_repo(parts_location)\n",
    "    #create an assembly plan\n",
    "    assembly_plan = dc.AssemblyPlan.from_spreadsheet(\n",
    "    assembly_class=dc.Type2sRestrictionAssembly,\n",
    "    path=hierarchy_csv)\n",
    "    #create plan simulation\n",
    "    plan_simulation = assembly_plan.simulate(sequence_repository=repository)\n",
    "    #create report write\n",
    "    report_writer = dc.AssemblyReportWriter(\n",
    "    include_mix_graphs=True, include_assembly_plots=True)\n",
    "    #run simulation\n",
    "    plan_simulation.write_report(report_output, assembly_report_writer=report_writer)\n",
    "    "
   ]
  },
  {
   "cell_type": "code",
   "execution_count": 482,
   "metadata": {},
   "outputs": [],
   "source": [
    "# def goldengate_assembly(parts_location, report_output):\n",
    "#     \"\"\"function to do combinatorial goldengate assembly for all parts in a location. Specify parts location and the report_output location\"\"\"\n",
    "#     #create an updated sequence repository of all parts\n",
    "#     repository,parts_list = create_repo(parts_location)\n",
    "#     #create an assembly type\n",
    "#     assembly = dc.Type2sRestrictionAssembly(name=\"combinatorial_asm\",\n",
    "#     parts=parts_list,\n",
    "#     expected_constructs=\"any_number\")\n",
    "#     #create a simulation\n",
    "#     simulation = assembly.simulate(sequence_repository=repository)\n",
    "#     #name the report writer\n",
    "#     report_writer = dc.AssemblyReportWriter(include_mix_graphs=True, include_part_plots=True)\n",
    "#     #write the report\n",
    "#     simulation.write_report(target=os.path.join(report_output, \"combinatorial\"),\n",
    "#     report_writer=report_writer)"
   ]
  },
  {
   "cell_type": "code",
   "execution_count": 13,
   "metadata": {},
   "outputs": [],
   "source": [
    "#guide pairs location\n",
    "ARF9pairs='../../data/CRISPR_library/ARF9guidepairs.csv'\n",
    "ARF18pairs='../../data/CRISPR_library/ARF18guidepairs.csv'\n",
    "DREB26pairs='../../data/CRISPR_library/DREB26guidepairs.csv'\n",
    "NLP7pairs='../../data/CRISPR_library/NLP7guidepairs.csv'"
   ]
  },
  {
   "cell_type": "code",
   "execution_count": 14,
   "metadata": {},
   "outputs": [],
   "source": [
    "ARF9guides = '../../data/CRISPR_library/sgRNAs-ARF9_new.csv'\n",
    "ARF18guides ='../../data/CRISPR_library/sgRNAs-ARF18_new.csv'\n",
    "DREB26guides = '../../data/CRISPR_library/sgRNAs-DREB26_new.csv'\n",
    "NLP7guides = '../../data/CRISPR_library/sgRNAs-NLP7_new.csv'"
   ]
  },
  {
   "cell_type": "code",
   "execution_count": 15,
   "metadata": {},
   "outputs": [],
   "source": [
    "#location of all_guides.csv\n",
    "all_guides = '../../data/CRISPR_library/all_guides.csv'"
   ]
  },
  {
   "cell_type": "code",
   "execution_count": 16,
   "metadata": {},
   "outputs": [],
   "source": [
    "#Create fasta file containing forward primers of all the guides\n",
    "create_primer_fasta(all_guides)"
   ]
  },
  {
   "cell_type": "code",
   "execution_count": 17,
   "metadata": {},
   "outputs": [],
   "source": [
    "#create sequence repo\n",
    "repository,parts_list = create_repo('../../data/CRISPR_library/parts/')"
   ]
  },
  {
   "cell_type": "code",
   "execution_count": 18,
   "metadata": {},
   "outputs": [],
   "source": [
    "# #run virtual PCR program for all primers\n",
    "\n",
    "# simulate_pcr('SW107','QMD025','pslq1661-sgmuc4-e3fe-addgene-51025-chen-sgrna-scaffold', repository)"
   ]
  },
  {
   "cell_type": "code",
   "execution_count": 489,
   "metadata": {},
   "outputs": [
    {
     "data": {
      "text/html": [
       "<font face=monospace><a href='../../data/CRISPR_library/parts/scaffolds/SW107_scaffold.gb' target='_blank'>../../data/CRISPR_library/parts/scaffolds/SW107_scaffold.gb</a></font><br>"
      ]
     },
     "metadata": {},
     "output_type": "display_data"
    },
    {
     "data": {
      "text/html": [
       "<font face=monospace><a href='../../data/CRISPR_library/parts/scaffolds/SW108_scaffold.gb' target='_blank'>../../data/CRISPR_library/parts/scaffolds/SW108_scaffold.gb</a></font><br>"
      ]
     },
     "metadata": {},
     "output_type": "display_data"
    },
    {
     "data": {
      "text/html": [
       "<font face=monospace><a href='../../data/CRISPR_library/parts/scaffolds/SW109_scaffold.gb' target='_blank'>../../data/CRISPR_library/parts/scaffolds/SW109_scaffold.gb</a></font><br>"
      ]
     },
     "metadata": {},
     "output_type": "display_data"
    },
    {
     "data": {
      "text/html": [
       "<font face=monospace><a href='../../data/CRISPR_library/parts/scaffolds/SW110_scaffold.gb' target='_blank'>../../data/CRISPR_library/parts/scaffolds/SW110_scaffold.gb</a></font><br>"
      ]
     },
     "metadata": {},
     "output_type": "display_data"
    },
    {
     "data": {
      "text/html": [
       "<font face=monospace><a href='../../data/CRISPR_library/parts/scaffolds/SW111_scaffold.gb' target='_blank'>../../data/CRISPR_library/parts/scaffolds/SW111_scaffold.gb</a></font><br>"
      ]
     },
     "metadata": {},
     "output_type": "display_data"
    },
    {
     "data": {
      "text/html": [
       "<font face=monospace><a href='../../data/CRISPR_library/parts/scaffolds/SW112_scaffold.gb' target='_blank'>../../data/CRISPR_library/parts/scaffolds/SW112_scaffold.gb</a></font><br>"
      ]
     },
     "metadata": {},
     "output_type": "display_data"
    },
    {
     "data": {
      "text/html": [
       "<font face=monospace><a href='../../data/CRISPR_library/parts/scaffolds/SW113_scaffold.gb' target='_blank'>../../data/CRISPR_library/parts/scaffolds/SW113_scaffold.gb</a></font><br>"
      ]
     },
     "metadata": {},
     "output_type": "display_data"
    },
    {
     "data": {
      "text/html": [
       "<font face=monospace><a href='../../data/CRISPR_library/parts/scaffolds/SW114_scaffold.gb' target='_blank'>../../data/CRISPR_library/parts/scaffolds/SW114_scaffold.gb</a></font><br>"
      ]
     },
     "metadata": {},
     "output_type": "display_data"
    },
    {
     "data": {
      "text/html": [
       "<font face=monospace><a href='../../data/CRISPR_library/parts/scaffolds/SW115_scaffold.gb' target='_blank'>../../data/CRISPR_library/parts/scaffolds/SW115_scaffold.gb</a></font><br>"
      ]
     },
     "metadata": {},
     "output_type": "display_data"
    },
    {
     "data": {
      "text/html": [
       "<font face=monospace><a href='../../data/CRISPR_library/parts/scaffolds/SW116_scaffold.gb' target='_blank'>../../data/CRISPR_library/parts/scaffolds/SW116_scaffold.gb</a></font><br>"
      ]
     },
     "metadata": {},
     "output_type": "display_data"
    },
    {
     "data": {
      "text/html": [
       "<font face=monospace><a href='../../data/CRISPR_library/parts/scaffolds/SW117_scaffold.gb' target='_blank'>../../data/CRISPR_library/parts/scaffolds/SW117_scaffold.gb</a></font><br>"
      ]
     },
     "metadata": {},
     "output_type": "display_data"
    },
    {
     "data": {
      "text/html": [
       "<font face=monospace><a href='../../data/CRISPR_library/parts/scaffolds/SW118_scaffold.gb' target='_blank'>../../data/CRISPR_library/parts/scaffolds/SW118_scaffold.gb</a></font><br>"
      ]
     },
     "metadata": {},
     "output_type": "display_data"
    },
    {
     "data": {
      "text/html": [
       "<font face=monospace><a href='../../data/CRISPR_library/parts/scaffolds/SW119_scaffold.gb' target='_blank'>../../data/CRISPR_library/parts/scaffolds/SW119_scaffold.gb</a></font><br>"
      ]
     },
     "metadata": {},
     "output_type": "display_data"
    },
    {
     "data": {
      "text/html": [
       "<font face=monospace><a href='../../data/CRISPR_library/parts/scaffolds/SW120_scaffold.gb' target='_blank'>../../data/CRISPR_library/parts/scaffolds/SW120_scaffold.gb</a></font><br>"
      ]
     },
     "metadata": {},
     "output_type": "display_data"
    },
    {
     "data": {
      "text/html": [
       "<font face=monospace><a href='../../data/CRISPR_library/parts/scaffolds/SW121_scaffold.gb' target='_blank'>../../data/CRISPR_library/parts/scaffolds/SW121_scaffold.gb</a></font><br>"
      ]
     },
     "metadata": {},
     "output_type": "display_data"
    },
    {
     "data": {
      "text/html": [
       "<font face=monospace><a href='../../data/CRISPR_library/parts/scaffolds/SW122_scaffold.gb' target='_blank'>../../data/CRISPR_library/parts/scaffolds/SW122_scaffold.gb</a></font><br>"
      ]
     },
     "metadata": {},
     "output_type": "display_data"
    },
    {
     "data": {
      "text/html": [
       "<font face=monospace><a href='../../data/CRISPR_library/parts/scaffolds/SW123_scaffold.gb' target='_blank'>../../data/CRISPR_library/parts/scaffolds/SW123_scaffold.gb</a></font><br>"
      ]
     },
     "metadata": {},
     "output_type": "display_data"
    },
    {
     "data": {
      "text/html": [
       "<font face=monospace><a href='../../data/CRISPR_library/parts/scaffolds/SW124_scaffold.gb' target='_blank'>../../data/CRISPR_library/parts/scaffolds/SW124_scaffold.gb</a></font><br>"
      ]
     },
     "metadata": {},
     "output_type": "display_data"
    },
    {
     "data": {
      "text/html": [
       "<font face=monospace><a href='../../data/CRISPR_library/parts/scaffolds/SW125_scaffold.gb' target='_blank'>../../data/CRISPR_library/parts/scaffolds/SW125_scaffold.gb</a></font><br>"
      ]
     },
     "metadata": {},
     "output_type": "display_data"
    },
    {
     "data": {
      "text/html": [
       "<font face=monospace><a href='../../data/CRISPR_library/parts/scaffolds/SW126_scaffold.gb' target='_blank'>../../data/CRISPR_library/parts/scaffolds/SW126_scaffold.gb</a></font><br>"
      ]
     },
     "metadata": {},
     "output_type": "display_data"
    },
    {
     "data": {
      "text/html": [
       "<font face=monospace><a href='../../data/CRISPR_library/parts/scaffolds/SW127_scaffold.gb' target='_blank'>../../data/CRISPR_library/parts/scaffolds/SW127_scaffold.gb</a></font><br>"
      ]
     },
     "metadata": {},
     "output_type": "display_data"
    },
    {
     "data": {
      "text/html": [
       "<font face=monospace><a href='../../data/CRISPR_library/parts/scaffolds/SW128_scaffold.gb' target='_blank'>../../data/CRISPR_library/parts/scaffolds/SW128_scaffold.gb</a></font><br>"
      ]
     },
     "metadata": {},
     "output_type": "display_data"
    },
    {
     "data": {
      "text/html": [
       "<font face=monospace><a href='../../data/CRISPR_library/parts/scaffolds/SW129_scaffold.gb' target='_blank'>../../data/CRISPR_library/parts/scaffolds/SW129_scaffold.gb</a></font><br>"
      ]
     },
     "metadata": {},
     "output_type": "display_data"
    },
    {
     "data": {
      "text/html": [
       "<font face=monospace><a href='../../data/CRISPR_library/parts/scaffolds/SW130_scaffold.gb' target='_blank'>../../data/CRISPR_library/parts/scaffolds/SW130_scaffold.gb</a></font><br>"
      ]
     },
     "metadata": {},
     "output_type": "display_data"
    },
    {
     "data": {
      "text/html": [
       "<font face=monospace><a href='../../data/CRISPR_library/parts/scaffolds/SW131_scaffold.gb' target='_blank'>../../data/CRISPR_library/parts/scaffolds/SW131_scaffold.gb</a></font><br>"
      ]
     },
     "metadata": {},
     "output_type": "display_data"
    },
    {
     "data": {
      "text/html": [
       "<font face=monospace><a href='../../data/CRISPR_library/parts/scaffolds/SW132_scaffold.gb' target='_blank'>../../data/CRISPR_library/parts/scaffolds/SW132_scaffold.gb</a></font><br>"
      ]
     },
     "metadata": {},
     "output_type": "display_data"
    },
    {
     "data": {
      "text/html": [
       "<font face=monospace><a href='../../data/CRISPR_library/parts/scaffolds/SW133_scaffold.gb' target='_blank'>../../data/CRISPR_library/parts/scaffolds/SW133_scaffold.gb</a></font><br>"
      ]
     },
     "metadata": {},
     "output_type": "display_data"
    },
    {
     "data": {
      "text/html": [
       "<font face=monospace><a href='../../data/CRISPR_library/parts/scaffolds/SW134_scaffold.gb' target='_blank'>../../data/CRISPR_library/parts/scaffolds/SW134_scaffold.gb</a></font><br>"
      ]
     },
     "metadata": {},
     "output_type": "display_data"
    },
    {
     "data": {
      "text/html": [
       "<font face=monospace><a href='../../data/CRISPR_library/parts/scaffolds/SW135_scaffold.gb' target='_blank'>../../data/CRISPR_library/parts/scaffolds/SW135_scaffold.gb</a></font><br>"
      ]
     },
     "metadata": {},
     "output_type": "display_data"
    },
    {
     "data": {
      "text/html": [
       "<font face=monospace><a href='../../data/CRISPR_library/parts/scaffolds/SW136_scaffold.gb' target='_blank'>../../data/CRISPR_library/parts/scaffolds/SW136_scaffold.gb</a></font><br>"
      ]
     },
     "metadata": {},
     "output_type": "display_data"
    },
    {
     "data": {
      "text/html": [
       "<font face=monospace><a href='../../data/CRISPR_library/parts/scaffolds/SW137_scaffold.gb' target='_blank'>../../data/CRISPR_library/parts/scaffolds/SW137_scaffold.gb</a></font><br>"
      ]
     },
     "metadata": {},
     "output_type": "display_data"
    },
    {
     "data": {
      "text/html": [
       "<font face=monospace><a href='../../data/CRISPR_library/parts/scaffolds/SW138_scaffold.gb' target='_blank'>../../data/CRISPR_library/parts/scaffolds/SW138_scaffold.gb</a></font><br>"
      ]
     },
     "metadata": {},
     "output_type": "display_data"
    },
    {
     "data": {
      "text/html": [
       "<font face=monospace><a href='../../data/CRISPR_library/parts/scaffolds/SW139_scaffold.gb' target='_blank'>../../data/CRISPR_library/parts/scaffolds/SW139_scaffold.gb</a></font><br>"
      ]
     },
     "metadata": {},
     "output_type": "display_data"
    },
    {
     "data": {
      "text/html": [
       "<font face=monospace><a href='../../data/CRISPR_library/parts/scaffolds/SW140_scaffold.gb' target='_blank'>../../data/CRISPR_library/parts/scaffolds/SW140_scaffold.gb</a></font><br>"
      ]
     },
     "metadata": {},
     "output_type": "display_data"
    },
    {
     "data": {
      "text/html": [
       "<font face=monospace><a href='../../data/CRISPR_library/parts/scaffolds/SW141_scaffold.gb' target='_blank'>../../data/CRISPR_library/parts/scaffolds/SW141_scaffold.gb</a></font><br>"
      ]
     },
     "metadata": {},
     "output_type": "display_data"
    },
    {
     "data": {
      "text/html": [
       "<font face=monospace><a href='../../data/CRISPR_library/parts/scaffolds/SW142_scaffold.gb' target='_blank'>../../data/CRISPR_library/parts/scaffolds/SW142_scaffold.gb</a></font><br>"
      ]
     },
     "metadata": {},
     "output_type": "display_data"
    },
    {
     "data": {
      "text/html": [
       "<font face=monospace><a href='../../data/CRISPR_library/parts/scaffolds/SW143_scaffold.gb' target='_blank'>../../data/CRISPR_library/parts/scaffolds/SW143_scaffold.gb</a></font><br>"
      ]
     },
     "metadata": {},
     "output_type": "display_data"
    },
    {
     "data": {
      "text/html": [
       "<font face=monospace><a href='../../data/CRISPR_library/parts/scaffolds/SW144_scaffold.gb' target='_blank'>../../data/CRISPR_library/parts/scaffolds/SW144_scaffold.gb</a></font><br>"
      ]
     },
     "metadata": {},
     "output_type": "display_data"
    },
    {
     "data": {
      "text/html": [
       "<font face=monospace><a href='../../data/CRISPR_library/parts/scaffolds/SW145_scaffold.gb' target='_blank'>../../data/CRISPR_library/parts/scaffolds/SW145_scaffold.gb</a></font><br>"
      ]
     },
     "metadata": {},
     "output_type": "display_data"
    },
    {
     "data": {
      "text/html": [
       "<font face=monospace><a href='../../data/CRISPR_library/parts/scaffolds/SW146_scaffold.gb' target='_blank'>../../data/CRISPR_library/parts/scaffolds/SW146_scaffold.gb</a></font><br>"
      ]
     },
     "metadata": {},
     "output_type": "display_data"
    },
    {
     "data": {
      "text/html": [
       "<font face=monospace><a href='../../data/CRISPR_library/parts/scaffolds/SW147_scaffold.gb' target='_blank'>../../data/CRISPR_library/parts/scaffolds/SW147_scaffold.gb</a></font><br>"
      ]
     },
     "metadata": {},
     "output_type": "display_data"
    },
    {
     "data": {
      "text/html": [
       "<font face=monospace><a href='../../data/CRISPR_library/parts/scaffolds/SW148_scaffold.gb' target='_blank'>../../data/CRISPR_library/parts/scaffolds/SW148_scaffold.gb</a></font><br>"
      ]
     },
     "metadata": {},
     "output_type": "display_data"
    },
    {
     "data": {
      "text/html": [
       "<font face=monospace><a href='../../data/CRISPR_library/parts/scaffolds/SW149_scaffold.gb' target='_blank'>../../data/CRISPR_library/parts/scaffolds/SW149_scaffold.gb</a></font><br>"
      ]
     },
     "metadata": {},
     "output_type": "display_data"
    },
    {
     "data": {
      "text/html": [
       "<font face=monospace><a href='../../data/CRISPR_library/parts/scaffolds/SW150_scaffold.gb' target='_blank'>../../data/CRISPR_library/parts/scaffolds/SW150_scaffold.gb</a></font><br>"
      ]
     },
     "metadata": {},
     "output_type": "display_data"
    },
    {
     "data": {
      "text/html": [
       "<font face=monospace><a href='../../data/CRISPR_library/parts/scaffolds/SW151_scaffold.gb' target='_blank'>../../data/CRISPR_library/parts/scaffolds/SW151_scaffold.gb</a></font><br>"
      ]
     },
     "metadata": {},
     "output_type": "display_data"
    },
    {
     "data": {
      "text/html": [
       "<font face=monospace><a href='../../data/CRISPR_library/parts/scaffolds/SW152_scaffold.gb' target='_blank'>../../data/CRISPR_library/parts/scaffolds/SW152_scaffold.gb</a></font><br>"
      ]
     },
     "metadata": {},
     "output_type": "display_data"
    },
    {
     "data": {
      "text/html": [
       "<font face=monospace><a href='../../data/CRISPR_library/parts/scaffolds/SW153_scaffold.gb' target='_blank'>../../data/CRISPR_library/parts/scaffolds/SW153_scaffold.gb</a></font><br>"
      ]
     },
     "metadata": {},
     "output_type": "display_data"
    },
    {
     "data": {
      "text/html": [
       "<font face=monospace><a href='../../data/CRISPR_library/parts/scaffolds/SW154_scaffold.gb' target='_blank'>../../data/CRISPR_library/parts/scaffolds/SW154_scaffold.gb</a></font><br>"
      ]
     },
     "metadata": {},
     "output_type": "display_data"
    },
    {
     "data": {
      "text/html": [
       "<font face=monospace><a href='../../data/CRISPR_library/parts/scaffolds/SW155_scaffold.gb' target='_blank'>../../data/CRISPR_library/parts/scaffolds/SW155_scaffold.gb</a></font><br>"
      ]
     },
     "metadata": {},
     "output_type": "display_data"
    },
    {
     "data": {
      "text/html": [
       "<font face=monospace><a href='../../data/CRISPR_library/parts/scaffolds/SW156_scaffold.gb' target='_blank'>../../data/CRISPR_library/parts/scaffolds/SW156_scaffold.gb</a></font><br>"
      ]
     },
     "metadata": {},
     "output_type": "display_data"
    },
    {
     "data": {
      "text/html": [
       "<font face=monospace><a href='../../data/CRISPR_library/parts/scaffolds/SW157_scaffold.gb' target='_blank'>../../data/CRISPR_library/parts/scaffolds/SW157_scaffold.gb</a></font><br>"
      ]
     },
     "metadata": {},
     "output_type": "display_data"
    },
    {
     "data": {
      "text/html": [
       "<font face=monospace><a href='../../data/CRISPR_library/parts/scaffolds/SW158_scaffold.gb' target='_blank'>../../data/CRISPR_library/parts/scaffolds/SW158_scaffold.gb</a></font><br>"
      ]
     },
     "metadata": {},
     "output_type": "display_data"
    },
    {
     "data": {
      "text/html": [
       "<font face=monospace><a href='../../data/CRISPR_library/parts/scaffolds/SW159_scaffold.gb' target='_blank'>../../data/CRISPR_library/parts/scaffolds/SW159_scaffold.gb</a></font><br>"
      ]
     },
     "metadata": {},
     "output_type": "display_data"
    },
    {
     "data": {
      "text/html": [
       "<font face=monospace><a href='../../data/CRISPR_library/parts/scaffolds/SW160_scaffold.gb' target='_blank'>../../data/CRISPR_library/parts/scaffolds/SW160_scaffold.gb</a></font><br>"
      ]
     },
     "metadata": {},
     "output_type": "display_data"
    },
    {
     "data": {
      "text/html": [
       "<font face=monospace><a href='../../data/CRISPR_library/parts/scaffolds/SW161_scaffold.gb' target='_blank'>../../data/CRISPR_library/parts/scaffolds/SW161_scaffold.gb</a></font><br>"
      ]
     },
     "metadata": {},
     "output_type": "display_data"
    },
    {
     "data": {
      "text/html": [
       "<font face=monospace><a href='../../data/CRISPR_library/parts/scaffolds/SW162_scaffold.gb' target='_blank'>../../data/CRISPR_library/parts/scaffolds/SW162_scaffold.gb</a></font><br>"
      ]
     },
     "metadata": {},
     "output_type": "display_data"
    },
    {
     "data": {
      "text/html": [
       "<font face=monospace><a href='../../data/CRISPR_library/parts/scaffolds/SW163_scaffold.gb' target='_blank'>../../data/CRISPR_library/parts/scaffolds/SW163_scaffold.gb</a></font><br>"
      ]
     },
     "metadata": {},
     "output_type": "display_data"
    },
    {
     "data": {
      "text/html": [
       "<font face=monospace><a href='../../data/CRISPR_library/parts/scaffolds/SW164_scaffold.gb' target='_blank'>../../data/CRISPR_library/parts/scaffolds/SW164_scaffold.gb</a></font><br>"
      ]
     },
     "metadata": {},
     "output_type": "display_data"
    },
    {
     "data": {
      "text/html": [
       "<font face=monospace><a href='../../data/CRISPR_library/parts/scaffolds/SW165_scaffold.gb' target='_blank'>../../data/CRISPR_library/parts/scaffolds/SW165_scaffold.gb</a></font><br>"
      ]
     },
     "metadata": {},
     "output_type": "display_data"
    },
    {
     "data": {
      "text/html": [
       "<font face=monospace><a href='../../data/CRISPR_library/parts/scaffolds/SW166_scaffold.gb' target='_blank'>../../data/CRISPR_library/parts/scaffolds/SW166_scaffold.gb</a></font><br>"
      ]
     },
     "metadata": {},
     "output_type": "display_data"
    },
    {
     "data": {
      "text/html": [
       "<font face=monospace><a href='../../data/CRISPR_library/parts/scaffolds/SW167_scaffold.gb' target='_blank'>../../data/CRISPR_library/parts/scaffolds/SW167_scaffold.gb</a></font><br>"
      ]
     },
     "metadata": {},
     "output_type": "display_data"
    },
    {
     "data": {
      "text/html": [
       "<font face=monospace><a href='../../data/CRISPR_library/parts/scaffolds/SW168_scaffold.gb' target='_blank'>../../data/CRISPR_library/parts/scaffolds/SW168_scaffold.gb</a></font><br>"
      ]
     },
     "metadata": {},
     "output_type": "display_data"
    },
    {
     "data": {
      "text/html": [
       "<font face=monospace><a href='../../data/CRISPR_library/parts/scaffolds/SW169_scaffold.gb' target='_blank'>../../data/CRISPR_library/parts/scaffolds/SW169_scaffold.gb</a></font><br>"
      ]
     },
     "metadata": {},
     "output_type": "display_data"
    },
    {
     "data": {
      "text/html": [
       "<font face=monospace><a href='../../data/CRISPR_library/parts/scaffolds/SW170_scaffold.gb' target='_blank'>../../data/CRISPR_library/parts/scaffolds/SW170_scaffold.gb</a></font><br>"
      ]
     },
     "metadata": {},
     "output_type": "display_data"
    },
    {
     "data": {
      "text/html": [
       "<font face=monospace><a href='../../data/CRISPR_library/parts/scaffolds/SW171_scaffold.gb' target='_blank'>../../data/CRISPR_library/parts/scaffolds/SW171_scaffold.gb</a></font><br>"
      ]
     },
     "metadata": {},
     "output_type": "display_data"
    },
    {
     "data": {
      "text/html": [
       "<font face=monospace><a href='../../data/CRISPR_library/parts/scaffolds/SW172_scaffold.gb' target='_blank'>../../data/CRISPR_library/parts/scaffolds/SW172_scaffold.gb</a></font><br>"
      ]
     },
     "metadata": {},
     "output_type": "display_data"
    },
    {
     "data": {
      "text/html": [
       "<font face=monospace><a href='../../data/CRISPR_library/parts/scaffolds/SW173_scaffold.gb' target='_blank'>../../data/CRISPR_library/parts/scaffolds/SW173_scaffold.gb</a></font><br>"
      ]
     },
     "metadata": {},
     "output_type": "display_data"
    },
    {
     "data": {
      "text/html": [
       "<font face=monospace><a href='../../data/CRISPR_library/parts/scaffolds/SW174_scaffold.gb' target='_blank'>../../data/CRISPR_library/parts/scaffolds/SW174_scaffold.gb</a></font><br>"
      ]
     },
     "metadata": {},
     "output_type": "display_data"
    },
    {
     "data": {
      "text/html": [
       "<font face=monospace><a href='../../data/CRISPR_library/parts/scaffolds/SW175_scaffold.gb' target='_blank'>../../data/CRISPR_library/parts/scaffolds/SW175_scaffold.gb</a></font><br>"
      ]
     },
     "metadata": {},
     "output_type": "display_data"
    },
    {
     "data": {
      "text/html": [
       "<font face=monospace><a href='../../data/CRISPR_library/parts/scaffolds/SW176_scaffold.gb' target='_blank'>../../data/CRISPR_library/parts/scaffolds/SW176_scaffold.gb</a></font><br>"
      ]
     },
     "metadata": {},
     "output_type": "display_data"
    },
    {
     "data": {
      "text/html": [
       "<font face=monospace><a href='../../data/CRISPR_library/parts/scaffolds/SW177_scaffold.gb' target='_blank'>../../data/CRISPR_library/parts/scaffolds/SW177_scaffold.gb</a></font><br>"
      ]
     },
     "metadata": {},
     "output_type": "display_data"
    },
    {
     "data": {
      "text/html": [
       "<font face=monospace><a href='../../data/CRISPR_library/parts/scaffolds/SW178_scaffold.gb' target='_blank'>../../data/CRISPR_library/parts/scaffolds/SW178_scaffold.gb</a></font><br>"
      ]
     },
     "metadata": {},
     "output_type": "display_data"
    },
    {
     "data": {
      "text/html": [
       "<font face=monospace><a href='../../data/CRISPR_library/parts/scaffolds/SW179_scaffold.gb' target='_blank'>../../data/CRISPR_library/parts/scaffolds/SW179_scaffold.gb</a></font><br>"
      ]
     },
     "metadata": {},
     "output_type": "display_data"
    },
    {
     "data": {
      "text/html": [
       "<font face=monospace><a href='../../data/CRISPR_library/parts/scaffolds/SW180_scaffold.gb' target='_blank'>../../data/CRISPR_library/parts/scaffolds/SW180_scaffold.gb</a></font><br>"
      ]
     },
     "metadata": {},
     "output_type": "display_data"
    },
    {
     "data": {
      "text/html": [
       "<font face=monospace><a href='../../data/CRISPR_library/parts/scaffolds/SW181_scaffold.gb' target='_blank'>../../data/CRISPR_library/parts/scaffolds/SW181_scaffold.gb</a></font><br>"
      ]
     },
     "metadata": {},
     "output_type": "display_data"
    },
    {
     "data": {
      "text/html": [
       "<font face=monospace><a href='../../data/CRISPR_library/parts/scaffolds/SW182_scaffold.gb' target='_blank'>../../data/CRISPR_library/parts/scaffolds/SW182_scaffold.gb</a></font><br>"
      ]
     },
     "metadata": {},
     "output_type": "display_data"
    },
    {
     "data": {
      "text/html": [
       "<font face=monospace><a href='../../data/CRISPR_library/parts/scaffolds/SW183_scaffold.gb' target='_blank'>../../data/CRISPR_library/parts/scaffolds/SW183_scaffold.gb</a></font><br>"
      ]
     },
     "metadata": {},
     "output_type": "display_data"
    },
    {
     "data": {
      "text/html": [
       "<font face=monospace><a href='../../data/CRISPR_library/parts/scaffolds/SW184_scaffold.gb' target='_blank'>../../data/CRISPR_library/parts/scaffolds/SW184_scaffold.gb</a></font><br>"
      ]
     },
     "metadata": {},
     "output_type": "display_data"
    },
    {
     "data": {
      "text/html": [
       "<font face=monospace><a href='../../data/CRISPR_library/parts/scaffolds/SW185_scaffold.gb' target='_blank'>../../data/CRISPR_library/parts/scaffolds/SW185_scaffold.gb</a></font><br>"
      ]
     },
     "metadata": {},
     "output_type": "display_data"
    },
    {
     "data": {
      "text/html": [
       "<font face=monospace><a href='../../data/CRISPR_library/parts/scaffolds/SW186_scaffold.gb' target='_blank'>../../data/CRISPR_library/parts/scaffolds/SW186_scaffold.gb</a></font><br>"
      ]
     },
     "metadata": {},
     "output_type": "display_data"
    },
    {
     "data": {
      "text/html": [
       "<font face=monospace><a href='../../data/CRISPR_library/parts/scaffolds/SW187_scaffold.gb' target='_blank'>../../data/CRISPR_library/parts/scaffolds/SW187_scaffold.gb</a></font><br>"
      ]
     },
     "metadata": {},
     "output_type": "display_data"
    },
    {
     "data": {
      "text/html": [
       "<font face=monospace><a href='../../data/CRISPR_library/parts/scaffolds/SW188_scaffold.gb' target='_blank'>../../data/CRISPR_library/parts/scaffolds/SW188_scaffold.gb</a></font><br>"
      ]
     },
     "metadata": {},
     "output_type": "display_data"
    },
    {
     "data": {
      "text/html": [
       "<font face=monospace><a href='../../data/CRISPR_library/parts/scaffolds/SW189_scaffold.gb' target='_blank'>../../data/CRISPR_library/parts/scaffolds/SW189_scaffold.gb</a></font><br>"
      ]
     },
     "metadata": {},
     "output_type": "display_data"
    },
    {
     "data": {
      "text/html": [
       "<font face=monospace><a href='../../data/CRISPR_library/parts/scaffolds/SW190_scaffold.gb' target='_blank'>../../data/CRISPR_library/parts/scaffolds/SW190_scaffold.gb</a></font><br>"
      ]
     },
     "metadata": {},
     "output_type": "display_data"
    },
    {
     "data": {
      "text/html": [
       "<font face=monospace><a href='../../data/CRISPR_library/parts/scaffolds/SW191_scaffold.gb' target='_blank'>../../data/CRISPR_library/parts/scaffolds/SW191_scaffold.gb</a></font><br>"
      ]
     },
     "metadata": {},
     "output_type": "display_data"
    },
    {
     "data": {
      "text/html": [
       "<font face=monospace><a href='../../data/CRISPR_library/parts/scaffolds/SW192_scaffold.gb' target='_blank'>../../data/CRISPR_library/parts/scaffolds/SW192_scaffold.gb</a></font><br>"
      ]
     },
     "metadata": {},
     "output_type": "display_data"
    },
    {
     "data": {
      "text/html": [
       "<font face=monospace><a href='../../data/CRISPR_library/parts/scaffolds/SW193_scaffold.gb' target='_blank'>../../data/CRISPR_library/parts/scaffolds/SW193_scaffold.gb</a></font><br>"
      ]
     },
     "metadata": {},
     "output_type": "display_data"
    },
    {
     "data": {
      "text/html": [
       "<font face=monospace><a href='../../data/CRISPR_library/parts/scaffolds/SW194_scaffold.gb' target='_blank'>../../data/CRISPR_library/parts/scaffolds/SW194_scaffold.gb</a></font><br>"
      ]
     },
     "metadata": {},
     "output_type": "display_data"
    },
    {
     "data": {
      "text/html": [
       "<font face=monospace><a href='../../data/CRISPR_library/parts/scaffolds/SW195_scaffold.gb' target='_blank'>../../data/CRISPR_library/parts/scaffolds/SW195_scaffold.gb</a></font><br>"
      ]
     },
     "metadata": {},
     "output_type": "display_data"
    },
    {
     "data": {
      "text/html": [
       "<font face=monospace><a href='../../data/CRISPR_library/parts/scaffolds/SW196_scaffold.gb' target='_blank'>../../data/CRISPR_library/parts/scaffolds/SW196_scaffold.gb</a></font><br>"
      ]
     },
     "metadata": {},
     "output_type": "display_data"
    },
    {
     "data": {
      "text/html": [
       "<font face=monospace><a href='../../data/CRISPR_library/parts/scaffolds/SW197_scaffold.gb' target='_blank'>../../data/CRISPR_library/parts/scaffolds/SW197_scaffold.gb</a></font><br>"
      ]
     },
     "metadata": {},
     "output_type": "display_data"
    },
    {
     "data": {
      "text/html": [
       "<font face=monospace><a href='../../data/CRISPR_library/parts/scaffolds/SW198_scaffold.gb' target='_blank'>../../data/CRISPR_library/parts/scaffolds/SW198_scaffold.gb</a></font><br>"
      ]
     },
     "metadata": {},
     "output_type": "display_data"
    },
    {
     "data": {
      "text/html": [
       "<font face=monospace><a href='../../data/CRISPR_library/parts/scaffolds/SW199_scaffold.gb' target='_blank'>../../data/CRISPR_library/parts/scaffolds/SW199_scaffold.gb</a></font><br>"
      ]
     },
     "metadata": {},
     "output_type": "display_data"
    },
    {
     "data": {
      "text/html": [
       "<font face=monospace><a href='../../data/CRISPR_library/parts/scaffolds/SW200_scaffold.gb' target='_blank'>../../data/CRISPR_library/parts/scaffolds/SW200_scaffold.gb</a></font><br>"
      ]
     },
     "metadata": {},
     "output_type": "display_data"
    },
    {
     "data": {
      "text/html": [
       "<font face=monospace><a href='../../data/CRISPR_library/parts/scaffolds/SW201_scaffold.gb' target='_blank'>../../data/CRISPR_library/parts/scaffolds/SW201_scaffold.gb</a></font><br>"
      ]
     },
     "metadata": {},
     "output_type": "display_data"
    },
    {
     "data": {
      "text/html": [
       "<font face=monospace><a href='../../data/CRISPR_library/parts/scaffolds/SW202_scaffold.gb' target='_blank'>../../data/CRISPR_library/parts/scaffolds/SW202_scaffold.gb</a></font><br>"
      ]
     },
     "metadata": {},
     "output_type": "display_data"
    },
    {
     "data": {
      "text/html": [
       "<font face=monospace><a href='../../data/CRISPR_library/parts/scaffolds/SW203_scaffold.gb' target='_blank'>../../data/CRISPR_library/parts/scaffolds/SW203_scaffold.gb</a></font><br>"
      ]
     },
     "metadata": {},
     "output_type": "display_data"
    },
    {
     "data": {
      "text/html": [
       "<font face=monospace><a href='../../data/CRISPR_library/parts/scaffolds/SW204_scaffold.gb' target='_blank'>../../data/CRISPR_library/parts/scaffolds/SW204_scaffold.gb</a></font><br>"
      ]
     },
     "metadata": {},
     "output_type": "display_data"
    },
    {
     "data": {
      "text/html": [
       "<font face=monospace><a href='../../data/CRISPR_library/parts/scaffolds/SW205_scaffold.gb' target='_blank'>../../data/CRISPR_library/parts/scaffolds/SW205_scaffold.gb</a></font><br>"
      ]
     },
     "metadata": {},
     "output_type": "display_data"
    },
    {
     "data": {
      "text/html": [
       "<font face=monospace><a href='../../data/CRISPR_library/parts/scaffolds/SW206_scaffold.gb' target='_blank'>../../data/CRISPR_library/parts/scaffolds/SW206_scaffold.gb</a></font><br>"
      ]
     },
     "metadata": {},
     "output_type": "display_data"
    },
    {
     "data": {
      "text/html": [
       "<font face=monospace><a href='../../data/CRISPR_library/parts/scaffolds/SW207_scaffold.gb' target='_blank'>../../data/CRISPR_library/parts/scaffolds/SW207_scaffold.gb</a></font><br>"
      ]
     },
     "metadata": {},
     "output_type": "display_data"
    },
    {
     "data": {
      "text/html": [
       "<font face=monospace><a href='../../data/CRISPR_library/parts/scaffolds/SW208_scaffold.gb' target='_blank'>../../data/CRISPR_library/parts/scaffolds/SW208_scaffold.gb</a></font><br>"
      ]
     },
     "metadata": {},
     "output_type": "display_data"
    },
    {
     "data": {
      "text/html": [
       "<font face=monospace><a href='../../data/CRISPR_library/parts/scaffolds/SW209_scaffold.gb' target='_blank'>../../data/CRISPR_library/parts/scaffolds/SW209_scaffold.gb</a></font><br>"
      ]
     },
     "metadata": {},
     "output_type": "display_data"
    },
    {
     "data": {
      "text/html": [
       "<font face=monospace><a href='../../data/CRISPR_library/parts/scaffolds/SW210_scaffold.gb' target='_blank'>../../data/CRISPR_library/parts/scaffolds/SW210_scaffold.gb</a></font><br>"
      ]
     },
     "metadata": {},
     "output_type": "display_data"
    },
    {
     "data": {
      "text/html": [
       "<font face=monospace><a href='../../data/CRISPR_library/parts/scaffolds/SW211_scaffold.gb' target='_blank'>../../data/CRISPR_library/parts/scaffolds/SW211_scaffold.gb</a></font><br>"
      ]
     },
     "metadata": {},
     "output_type": "display_data"
    },
    {
     "data": {
      "text/html": [
       "<font face=monospace><a href='../../data/CRISPR_library/parts/scaffolds/SW212_scaffold.gb' target='_blank'>../../data/CRISPR_library/parts/scaffolds/SW212_scaffold.gb</a></font><br>"
      ]
     },
     "metadata": {},
     "output_type": "display_data"
    },
    {
     "data": {
      "text/html": [
       "<font face=monospace><a href='../../data/CRISPR_library/parts/scaffolds/SW213_scaffold.gb' target='_blank'>../../data/CRISPR_library/parts/scaffolds/SW213_scaffold.gb</a></font><br>"
      ]
     },
     "metadata": {},
     "output_type": "display_data"
    },
    {
     "data": {
      "text/html": [
       "<font face=monospace><a href='../../data/CRISPR_library/parts/scaffolds/SW214_scaffold.gb' target='_blank'>../../data/CRISPR_library/parts/scaffolds/SW214_scaffold.gb</a></font><br>"
      ]
     },
     "metadata": {},
     "output_type": "display_data"
    },
    {
     "data": {
      "text/html": [
       "<font face=monospace><a href='../../data/CRISPR_library/parts/scaffolds/SW215_scaffold.gb' target='_blank'>../../data/CRISPR_library/parts/scaffolds/SW215_scaffold.gb</a></font><br>"
      ]
     },
     "metadata": {},
     "output_type": "display_data"
    },
    {
     "data": {
      "text/html": [
       "<font face=monospace><a href='../../data/CRISPR_library/parts/scaffolds/SW216_scaffold.gb' target='_blank'>../../data/CRISPR_library/parts/scaffolds/SW216_scaffold.gb</a></font><br>"
      ]
     },
     "metadata": {},
     "output_type": "display_data"
    },
    {
     "data": {
      "text/html": [
       "<font face=monospace><a href='../../data/CRISPR_library/parts/scaffolds/SW217_scaffold.gb' target='_blank'>../../data/CRISPR_library/parts/scaffolds/SW217_scaffold.gb</a></font><br>"
      ]
     },
     "metadata": {},
     "output_type": "display_data"
    },
    {
     "data": {
      "text/html": [
       "<font face=monospace><a href='../../data/CRISPR_library/parts/scaffolds/SW218_scaffold.gb' target='_blank'>../../data/CRISPR_library/parts/scaffolds/SW218_scaffold.gb</a></font><br>"
      ]
     },
     "metadata": {},
     "output_type": "display_data"
    },
    {
     "data": {
      "text/html": [
       "<font face=monospace><a href='../../data/CRISPR_library/parts/scaffolds/SW219_scaffold.gb' target='_blank'>../../data/CRISPR_library/parts/scaffolds/SW219_scaffold.gb</a></font><br>"
      ]
     },
     "metadata": {},
     "output_type": "display_data"
    },
    {
     "data": {
      "text/html": [
       "<font face=monospace><a href='../../data/CRISPR_library/parts/scaffolds/SW220_scaffold.gb' target='_blank'>../../data/CRISPR_library/parts/scaffolds/SW220_scaffold.gb</a></font><br>"
      ]
     },
     "metadata": {},
     "output_type": "display_data"
    },
    {
     "data": {
      "text/html": [
       "<font face=monospace><a href='../../data/CRISPR_library/parts/scaffolds/SW221_scaffold.gb' target='_blank'>../../data/CRISPR_library/parts/scaffolds/SW221_scaffold.gb</a></font><br>"
      ]
     },
     "metadata": {},
     "output_type": "display_data"
    },
    {
     "data": {
      "text/html": [
       "<font face=monospace><a href='../../data/CRISPR_library/parts/scaffolds/SW222_scaffold.gb' target='_blank'>../../data/CRISPR_library/parts/scaffolds/SW222_scaffold.gb</a></font><br>"
      ]
     },
     "metadata": {},
     "output_type": "display_data"
    },
    {
     "data": {
      "text/html": [
       "<font face=monospace><a href='../../data/CRISPR_library/parts/scaffolds/SW223_scaffold.gb' target='_blank'>../../data/CRISPR_library/parts/scaffolds/SW223_scaffold.gb</a></font><br>"
      ]
     },
     "metadata": {},
     "output_type": "display_data"
    },
    {
     "data": {
      "text/html": [
       "<font face=monospace><a href='../../data/CRISPR_library/parts/scaffolds/SW224_scaffold.gb' target='_blank'>../../data/CRISPR_library/parts/scaffolds/SW224_scaffold.gb</a></font><br>"
      ]
     },
     "metadata": {},
     "output_type": "display_data"
    },
    {
     "data": {
      "text/html": [
       "<font face=monospace><a href='../../data/CRISPR_library/parts/scaffolds/SW225_scaffold.gb' target='_blank'>../../data/CRISPR_library/parts/scaffolds/SW225_scaffold.gb</a></font><br>"
      ]
     },
     "metadata": {},
     "output_type": "display_data"
    },
    {
     "data": {
      "text/html": [
       "<font face=monospace><a href='../../data/CRISPR_library/parts/scaffolds/SW226_scaffold.gb' target='_blank'>../../data/CRISPR_library/parts/scaffolds/SW226_scaffold.gb</a></font><br>"
      ]
     },
     "metadata": {},
     "output_type": "display_data"
    }
   ],
   "source": [
    "#run virtual PCRs using all given forward primers starting with 'SW' and save the files to parts/scaffolds\n",
    "add_PCRs2repo('SW',parts_list, 'QMD025','pslq1661', repository)"
   ]
  },
  {
   "cell_type": "code",
   "execution_count": 21,
   "metadata": {},
   "outputs": [],
   "source": [
    "#map guide pairs to the all_guides.csv\n",
    "ARF9 = map_guide_pairs(all_guides, ARF9pairs)\n",
    "ARF18 = map_guide_pairs(all_guides, ARF18pairs)\n",
    "DREB26 = map_guide_pairs(all_guides, DREB26pairs)\n",
    "NLP7 = map_guide_pairs(all_guides, NLP7pairs)"
   ]
  },
  {
   "cell_type": "code",
   "execution_count": 22,
   "metadata": {},
   "outputs": [],
   "source": [
    "#concatenate the mapped pairs together\n",
    "mapped_guide_pairs = pd.concat([ARF9,ARF18,DREB26,NLP7])\n",
    "#reset index\n",
    "mapped_guide_pairs.reset_index(inplace=True, drop=True)"
   ]
  },
  {
   "cell_type": "code",
   "execution_count": 23,
   "metadata": {},
   "outputs": [
    {
     "data": {
      "text/html": [
       "<div>\n",
       "<style scoped>\n",
       "    .dataframe tbody tr th:only-of-type {\n",
       "        vertical-align: middle;\n",
       "    }\n",
       "\n",
       "    .dataframe tbody tr th {\n",
       "        vertical-align: top;\n",
       "    }\n",
       "\n",
       "    .dataframe thead th {\n",
       "        text-align: right;\n",
       "    }\n",
       "</style>\n",
       "<table border=\"1\" class=\"dataframe\">\n",
       "  <thead>\n",
       "    <tr style=\"text-align: right;\">\n",
       "      <th></th>\n",
       "      <th>construct</th>\n",
       "      <th>acceptor</th>\n",
       "      <th>part1</th>\n",
       "      <th>part2</th>\n",
       "      <th>part3</th>\n",
       "      <th>part4</th>\n",
       "    </tr>\n",
       "  </thead>\n",
       "  <tbody>\n",
       "    <tr>\n",
       "      <th>0</th>\n",
       "      <td>pEPSW1KN0115</td>\n",
       "      <td>pCk3</td>\n",
       "      <td>picsl90002</td>\n",
       "      <td>SW107_scaffold</td>\n",
       "      <td>NaN</td>\n",
       "      <td>NaN</td>\n",
       "    </tr>\n",
       "    <tr>\n",
       "      <th>1</th>\n",
       "      <td>pEPSW1KN0116</td>\n",
       "      <td>pCk3</td>\n",
       "      <td>picsl90002</td>\n",
       "      <td>SW108_scaffold</td>\n",
       "      <td>NaN</td>\n",
       "      <td>NaN</td>\n",
       "    </tr>\n",
       "    <tr>\n",
       "      <th>2</th>\n",
       "      <td>pEPSW1KN0117</td>\n",
       "      <td>pCk3</td>\n",
       "      <td>picsl90002</td>\n",
       "      <td>SW109_scaffold</td>\n",
       "      <td>NaN</td>\n",
       "      <td>NaN</td>\n",
       "    </tr>\n",
       "    <tr>\n",
       "      <th>3</th>\n",
       "      <td>pEPSW1KN0118</td>\n",
       "      <td>pCk3</td>\n",
       "      <td>picsl90002</td>\n",
       "      <td>SW110_scaffold</td>\n",
       "      <td>NaN</td>\n",
       "      <td>NaN</td>\n",
       "    </tr>\n",
       "    <tr>\n",
       "      <th>4</th>\n",
       "      <td>pEPSW1KN0119</td>\n",
       "      <td>pCk4</td>\n",
       "      <td>picsl90002</td>\n",
       "      <td>SW111_scaffold</td>\n",
       "      <td>NaN</td>\n",
       "      <td>NaN</td>\n",
       "    </tr>\n",
       "    <tr>\n",
       "      <th>...</th>\n",
       "      <td>...</td>\n",
       "      <td>...</td>\n",
       "      <td>...</td>\n",
       "      <td>...</td>\n",
       "      <td>...</td>\n",
       "      <td>...</td>\n",
       "    </tr>\n",
       "    <tr>\n",
       "      <th>91</th>\n",
       "      <td>pEPSW2SP0328</td>\n",
       "      <td>pCsA</td>\n",
       "      <td>pepsw1kn0114</td>\n",
       "      <td>pepsw1kn0333</td>\n",
       "      <td>pEPSW1KN0228</td>\n",
       "      <td>pEPSW1KN0232</td>\n",
       "    </tr>\n",
       "    <tr>\n",
       "      <th>92</th>\n",
       "      <td>pEPSW2SP0329</td>\n",
       "      <td>pCsA</td>\n",
       "      <td>pepsw1kn0114</td>\n",
       "      <td>pepsw1kn0333</td>\n",
       "      <td>pEPSW1KN0228</td>\n",
       "      <td>pEPSW1KN0233</td>\n",
       "    </tr>\n",
       "    <tr>\n",
       "      <th>93</th>\n",
       "      <td>pEPSW2SP0330</td>\n",
       "      <td>pCsA</td>\n",
       "      <td>pepsw1kn0114</td>\n",
       "      <td>pepsw1kn0333</td>\n",
       "      <td>pEPSW1KN0228</td>\n",
       "      <td>pEPSW1KN0234</td>\n",
       "    </tr>\n",
       "    <tr>\n",
       "      <th>94</th>\n",
       "      <td>pEPSW2SP0331</td>\n",
       "      <td>pCsA</td>\n",
       "      <td>pepsw1kn0114</td>\n",
       "      <td>pepsw1kn0333</td>\n",
       "      <td>pEPSW1KN0235</td>\n",
       "      <td>pEPSW1KN0234</td>\n",
       "    </tr>\n",
       "    <tr>\n",
       "      <th>95</th>\n",
       "      <td>pEPSW2SP0332</td>\n",
       "      <td>pCsA</td>\n",
       "      <td>pepsw1kn0114</td>\n",
       "      <td>pepsw1kn0333</td>\n",
       "      <td>pEPSW1KN0236</td>\n",
       "      <td>pEPSW1KN0234</td>\n",
       "    </tr>\n",
       "  </tbody>\n",
       "</table>\n",
       "<p>218 rows × 6 columns</p>\n",
       "</div>"
      ],
      "text/plain": [
       "       construct acceptor         part1           part2         part3  \\\n",
       "0   pEPSW1KN0115     pCk3    picsl90002  SW107_scaffold           NaN   \n",
       "1   pEPSW1KN0116     pCk3    picsl90002  SW108_scaffold           NaN   \n",
       "2   pEPSW1KN0117     pCk3    picsl90002  SW109_scaffold           NaN   \n",
       "3   pEPSW1KN0118     pCk3    picsl90002  SW110_scaffold           NaN   \n",
       "4   pEPSW1KN0119     pCk4    picsl90002  SW111_scaffold           NaN   \n",
       "..           ...      ...           ...             ...           ...   \n",
       "91  pEPSW2SP0328     pCsA  pepsw1kn0114    pepsw1kn0333  pEPSW1KN0228   \n",
       "92  pEPSW2SP0329     pCsA  pepsw1kn0114    pepsw1kn0333  pEPSW1KN0228   \n",
       "93  pEPSW2SP0330     pCsA  pepsw1kn0114    pepsw1kn0333  pEPSW1KN0228   \n",
       "94  pEPSW2SP0331     pCsA  pepsw1kn0114    pepsw1kn0333  pEPSW1KN0235   \n",
       "95  pEPSW2SP0332     pCsA  pepsw1kn0114    pepsw1kn0333  pEPSW1KN0236   \n",
       "\n",
       "           part4  \n",
       "0            NaN  \n",
       "1            NaN  \n",
       "2            NaN  \n",
       "3            NaN  \n",
       "4            NaN  \n",
       "..           ...  \n",
       "91  pEPSW1KN0232  \n",
       "92  pEPSW1KN0233  \n",
       "93  pEPSW1KN0234  \n",
       "94  pEPSW1KN0234  \n",
       "95  pEPSW1KN0234  \n",
       "\n",
       "[218 rows x 6 columns]"
      ]
     },
     "execution_count": 23,
     "metadata": {},
     "output_type": "execute_result"
    }
   ],
   "source": [
    "no_dups = create_goldengate_hierarchy_csv(mapped_guide_pairs,'pEPSW1KN0115','pEPSW2SP','../../data/CRISPR_library/hierarchy.csv')\n",
    "no_dups"
   ]
  },
  {
   "cell_type": "code",
   "execution_count": 24,
   "metadata": {},
   "outputs": [
    {
     "name": "stderr",
     "output_type": "stream",
     "text": [
      "assembly:   5%|▍         | 10/218 [00:00<00:02, 91.08it/s, now=None]"
     ]
    },
    {
     "name": "stdout",
     "output_type": "stream",
     "text": [
      "Simulating assembly plan hierarchy...\n"
     ]
    },
    {
     "name": "stderr",
     "output_type": "stream",
     "text": [
      "assembly:   0%|          | 0/218 [00:00<?, ?it/s, now=None]          "
     ]
    },
    {
     "name": "stdout",
     "output_type": "stream",
     "text": [
      "Generating assemblies reports...\n"
     ]
    },
    {
     "name": "stderr",
     "output_type": "stream",
     "text": [
      "                                                                     \r"
     ]
    }
   ],
   "source": [
    "#run hierarchical assembly\n",
    "hierarchical_goldengate_assembly('../../data/CRISPR_library/parts/','../../data/CRISPR_library/hierarchy.csv', '../../data/CRISPR_library/reports')"
   ]
  },
  {
   "cell_type": "code",
   "execution_count": 217,
   "metadata": {},
   "outputs": [
    {
     "name": "stderr",
     "output_type": "stream",
     "text": [
      "/home/witham/opt/anaconda3/envs/PromoterArchitecturePipeline/lib/python3.7/site-packages/Bio/SeqIO/InsdcIO.py:730: BiopythonWarning: Increasing length of locus line to allow long name. This will result in fields that are not in usual positions.\n",
      "  BiopythonWarning,\n"
     ]
    }
   ],
   "source": [
    "# goldengate_assembly('../../data/CRISPR_library/parts/','../../data/CRISPR_library/parts/reports')"
   ]
  },
  {
   "cell_type": "code",
   "execution_count": 156,
   "metadata": {},
   "outputs": [
    {
     "data": {
      "text/plain": [
       "|95°C|95°C               |    |tmf:59.3\n",
       "|____|_____          72°C|72°C|tmr:53.6\n",
       "|5min|30s  \\ 52.0°C _____|____|30s/kb\n",
       "|    |      \\______/ 0: 4|5min|GC 42%\n",
       "|    |       30s         |    |138bp\n"
      ]
     },
     "execution_count": 156,
     "metadata": {},
     "output_type": "execute_result"
    }
   ],
   "source": [
    "#recommended PCR program\n",
    "amplicon.program()"
   ]
  },
  {
   "cell_type": "code",
   "execution_count": 157,
   "metadata": {},
   "outputs": [
    {
     "data": {
      "text/plain": [
       "                                 5gtttaagagctatgctggaaac...agtcggtgctttttttc3\n",
       "                                                           |||||||||||||||||\n",
       "                                                          3tcagccacgaaaaaaagcgatCTCTGGt5\n",
       "5tgtGGTCTCtattGTTACAGTTACAGAGCAGGAgtttaagagctatgctggaaac3\n",
       "                                  ||||||||||||||||||||||\n",
       "                                 3caaattctcgatacgacctttg...tcagccacgaaaaaaag5"
      ]
     },
     "execution_count": 157,
     "metadata": {},
     "output_type": "execute_result"
    }
   ],
   "source": [
    "amplicon.figure()"
   ]
  },
  {
   "cell_type": "code",
   "execution_count": 158,
   "metadata": {},
   "outputs": [
    {
     "data": {
      "text/plain": [
       "'SW107_scaffold'"
      ]
     },
     "execution_count": 158,
     "metadata": {},
     "output_type": "execute_result"
    }
   ],
   "source": [
    "amplicon.id"
   ]
  },
  {
   "cell_type": "code",
   "execution_count": 165,
   "metadata": {},
   "outputs": [
    {
     "ename": "AttributeError",
     "evalue": "'SequenceRepository' object has no attribute 'id'",
     "output_type": "error",
     "traceback": [
      "\u001b[0;31m---------------------------------------------------------------------------\u001b[0m",
      "\u001b[0;31mAttributeError\u001b[0m                            Traceback (most recent call last)",
      "\u001b[0;32m<ipython-input-165-af39949ea005>\u001b[0m in \u001b[0;36m<module>\u001b[0;34m\u001b[0m\n\u001b[0;32m----> 1\u001b[0;31m \u001b[0mrepository\u001b[0m\u001b[0;34m.\u001b[0m\u001b[0mid\u001b[0m\u001b[0;34m\u001b[0m\u001b[0;34m\u001b[0m\u001b[0m\n\u001b[0m",
      "\u001b[0;31mAttributeError\u001b[0m: 'SequenceRepository' object has no attribute 'id'"
     ]
    }
   ],
   "source": [
    "repository."
   ]
  },
  {
   "cell_type": "code",
   "execution_count": 167,
   "metadata": {},
   "outputs": [
    {
     "data": {
      "text/plain": [
       "<dnacauldron.SequenceRepository.SequenceRepository at 0x7fd54a8f4a10>"
      ]
     },
     "execution_count": 167,
     "metadata": {},
     "output_type": "execute_result"
    }
   ],
   "source": [
    "dc.SequenceRepository()"
   ]
  },
  {
   "cell_type": "code",
   "execution_count": null,
   "metadata": {},
   "outputs": [],
   "source": []
  }
 ],
 "metadata": {
  "kernelspec": {
   "display_name": "Python [conda env:PromoterArchitecturePipeline] *",
   "language": "python",
   "name": "conda-env-PromoterArchitecturePipeline-py"
  },
  "language_info": {
   "codemirror_mode": {
    "name": "ipython",
    "version": 3
   },
   "file_extension": ".py",
   "mimetype": "text/x-python",
   "name": "python",
   "nbconvert_exporter": "python",
   "pygments_lexer": "ipython3",
   "version": "3.7.8"
  }
 },
 "nbformat": 4,
 "nbformat_minor": 4
}
