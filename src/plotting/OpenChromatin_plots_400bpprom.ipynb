{
 "cells": [
  {
   "cell_type": "code",
   "execution_count": 2,
   "metadata": {},
   "outputs": [],
   "source": [
    "import pandas as pd\n",
    "import numpy as np\n",
    "import seaborn as sns\n",
    "import matplotlib.pyplot as plt\n",
    "import os\n",
    "#import argparse\n",
    "from statannot import add_stat_annotation\n",
    "\n",
    "#stats\n",
    "from scipy import stats\n",
    "from statsmodels.formula.api import ols\n",
    "import researchpy as rp\n",
    "from pingouin import kruskal\n",
    "from pybedtools import BedTool\n",
    "import scikit_posthocs as sp"
   ]
  },
  {
   "cell_type": "code",
   "execution_count": 3,
   "metadata": {},
   "outputs": [],
   "source": [
    "# parser = argparse.ArgumentParser(description='OpenChromatin_plots')\n",
    "# parser.add_argument('file_names', type=str, help='Name of folder and filenames for the promoters extracted')\n",
    "# parser.add_argument('Czechowski_gene_categories', type=str, help='Input location of Czechowski gene categories text file')\n",
    "# parser.add_argument('Chromatin_bp_covered', type=str, help='Input location of bp covered of chromatin in promoters text file')\n",
    "# parser.add_argument('output_folder_name', type=str, help='Optional output folder name ending in a forward slash',default = '')\n",
    "# args = parser.parse_args()\n",
    "dependent_variable = 'chromatin_coverage'"
   ]
  },
  {
   "cell_type": "code",
   "execution_count": 4,
   "metadata": {},
   "outputs": [],
   "source": [
    "file_names = 'non-overlapping_includingbidirectional_all_genes_newannotation'\n",
    "Czechowski_gene_categories = f'../../data/output/{file_names}/genes/promoters_5UTR_czechowski_constitutive_variable_random.txt'\n",
    "output_folder_name_rootshoot = 'RootShootIntersect/'\n",
    "output_folder_name_root = 'Root/'\n",
    "output_folder_name_shoot = 'Shoot/'\n",
    "output_folder_name_promoter = 'promoters_5UTR_400bp/'"
   ]
  },
  {
   "cell_type": "code",
   "execution_count": 5,
   "metadata": {},
   "outputs": [],
   "source": [
    "RootChomatin_bp_covered = f'../../data/output/{file_names}/chromatin_coverage/promoters_5UTR_400bpRootOpenChrom.bp_covered.txt'\n",
    "ShootChomatin_bp_covered = f'../../data/output/{file_names}/chromatin_coverage/promoters_5UTR_400bpShootOpenChrom.bp_covered.txt'\n",
    "RootShootIntersect_bp_covered = f'../../data/output/{file_names}/chromatin_coverage/promoters_5UTR_400bpShootRootIntersectOpenChrom.bp_covered.txt'"
   ]
  },
  {
   "cell_type": "code",
   "execution_count": 8,
   "metadata": {},
   "outputs": [
    {
     "name": "stdout",
     "output_type": "stream",
     "text": [
      "Directory  ../../data/output/non-overlapping_includingbidirectional_all_genes_newannotation/chromatin_coverage/promoters_5UTR/  already exists\n"
     ]
    }
   ],
   "source": [
    "# #make directory for the plots to be exported to\n",
    "# dirName = f'../../data/output/{file_names}/{dependent_variable}/{output_folder_name_promoter}'\n",
    "# try:\n",
    "#     # Create target Directory\n",
    "#     os.mkdir(dirName)\n",
    "#     print(\"Directory \" , dirName ,  \" created\") \n",
    "# except FileExistsError:\n",
    "#     print(\"Directory \" , dirName ,  \" already exists\")"
   ]
  },
  {
   "cell_type": "code",
   "execution_count": 9,
   "metadata": {},
   "outputs": [
    {
     "name": "stdout",
     "output_type": "stream",
     "text": [
      "Directory  ../../data/output/non-overlapping_includingbidirectional_all_genes_newannotation/chromatin_coverage/promoters_5UTR/RootShootIntersect/  already exists\n"
     ]
    }
   ],
   "source": [
    "# #make directory for the plots to be exported to\n",
    "# dirName = f'../../data/output/{file_names}/{dependent_variable}/{output_folder_name_promoter}{output_folder_name}'\n",
    "# try:\n",
    "#     # Create target Directory\n",
    "#     os.mkdir(dirName)\n",
    "#     print(\"Directory \" , dirName ,  \" created\") \n",
    "# except FileExistsError:\n",
    "#     print(\"Directory \" , dirName ,  \" already exists\")"
   ]
  },
  {
   "cell_type": "code",
   "execution_count": 10,
   "metadata": {},
   "outputs": [
    {
     "name": "stdout",
     "output_type": "stream",
     "text": [
      "Directory  ../../data/output/non-overlapping_includingbidirectional_all_genes_newannotation/chromatin_coverage/promoters_5UTR/RootShootIntersect/plots  already exists\n"
     ]
    }
   ],
   "source": [
    "# #make directory for the plots to be exported to\n",
    "# dirName = f'../../data/output/{file_names}/{dependent_variable}/{output_folder_name_promoter}{output_folder_name}plots'\n",
    "# try:\n",
    "#     # Create target Directory\n",
    "#     os.mkdir(dirName)\n",
    "#     print(\"Directory \" , dirName ,  \" created\") \n",
    "# except FileExistsError:\n",
    "#     print(\"Directory \" , dirName ,  \" already exists\")"
   ]
  },
  {
   "cell_type": "code",
   "execution_count": 6,
   "metadata": {},
   "outputs": [],
   "source": [
    "def percent_coverage(bp_covered):\n",
    "    \"\"\"function to calculate the % coverage from the output file of bedtools coverage\"\"\"\n",
    "\n",
    "    coverage_df = pd.read_table(bp_covered, sep='\\t', header=None)\n",
    "    col = ['chr','start','stop','AGI','dot','strand','source', 'type', 'dot2', 'details', 'no._of_overlaps', 'no._of_bases_covered','promoter_length','fraction_bases_covered']\n",
    "    coverage_df.columns = col\n",
    "    #add % bases covered column\n",
    "    coverage_df['percentage_bases_covered'] = coverage_df.fraction_bases_covered * 100\n",
    "\n",
    "    #remove unnecessary columns\n",
    "    coverage_df_reduced_columns = coverage_df[['chr','start','stop','AGI','strand', 'no._of_overlaps', 'no._of_bases_covered','promoter_length','fraction_bases_covered','percentage_bases_covered']]\n",
    "    return coverage_df_reduced_columns"
   ]
  },
  {
   "cell_type": "code",
   "execution_count": 7,
   "metadata": {},
   "outputs": [],
   "source": [
    "def merge_genecategories(df, gene_categories):\n",
    "    \"\"\"merge df with gene categories\"\"\"\n",
    "    #read in gene categories\n",
    "    gene_cats = pd.read_csv(gene_categories,sep='\\t', header=None)\n",
    "    gene_cats.columns = ['AGI','gene_type']\n",
    "    #merge to limit to genes of interest\n",
    "    df_categories = pd.merge(gene_cats, df, how='left', on='AGI')\n",
    "    return df_categories"
   ]
  },
  {
   "cell_type": "code",
   "execution_count": 8,
   "metadata": {},
   "outputs": [],
   "source": [
    "def make_plot(df,x_variable, y_variable,x_label, y_label, output_prefix, plot_kind):\n",
    "    \"\"\"function to make and save plot\"\"\"\n",
    "    #allow colour codes in seaborn\n",
    "    sns.set(color_codes=True)\n",
    "    sns.set_style(\"whitegrid\")\n",
    "    #plot\n",
    "    x=x_variable\n",
    "    y=y_variable\n",
    "    order=[\"constitutive\", \"variable\", \"control\"]\n",
    "    plot = sns.catplot(x=x, y=y, data=df, kind=plot_kind,order=order)\n",
    "    #plot points\n",
    "    ax = sns.swarmplot(x=x, y=y, data=df, color=\".25\",order=order)\n",
    "    #add significance if necessary\n",
    "    test_results = add_stat_annotation(ax, data=df, x=x, y=y, order=order,\n",
    "                                      box_pairs=[(\"constitutive\", \"variable\"),(\"constitutive\", \"control\"),(\"variable\", \"control\",)],\n",
    "                                      test='Kruskal', text_format='star',\n",
    "                                      loc='outside',verbose=2)\n",
    "    \n",
    "    #change axes labels\n",
    "    plt.ylabel(y_label)\n",
    "    plt.xlabel(x_label)\n",
    "    #tight layout\n",
    "    plt.tight_layout()\n",
    "    #save figure\n",
    "    ax.get_figure().savefig(f'../../data/output/{file_names}/{dependent_variable}/{output_folder_name_promoter}{output_folder_name}plots/{output_prefix}_{plot_kind}.pdf', format='pdf')  "
   ]
  },
  {
   "cell_type": "code",
   "execution_count": 9,
   "metadata": {},
   "outputs": [],
   "source": [
    "\n",
    "def all_prom_distribution(df, x_variable, x_label, output_prefix):\n",
    "    \"\"\"function to return distribution plot of all promoters and the chromatin % bp covered\"\"\"    \n",
    "    \n",
    "    dist_plot = df[x_variable]\n",
    "    #create figure with no transparency\n",
    "    dist_plot_fig = sns.distplot(dist_plot).get_figure()\n",
    "    plt.xlabel(x_label)\n",
    "\n",
    "    #save to file\n",
    "    dist_plot_fig.savefig(f'../../data/output/{file_names}/{dependent_variable}/{output_folder_name_promoter}{output_folder_name}plots/{output_prefix}_distribution.pdf', format='pdf')"
   ]
  },
  {
   "cell_type": "code",
   "execution_count": 10,
   "metadata": {},
   "outputs": [],
   "source": [
    "#add % coverage column\n",
    "rootshootchromatin_coverage = percent_coverage(RootShootIntersect_bp_covered)\n",
    "rootchromatin_coverage = percent_coverage(RootChomatin_bp_covered)\n",
    "shootchromatin_coverage = percent_coverage(ShootChomatin_bp_covered)"
   ]
  },
  {
   "cell_type": "code",
   "execution_count": 11,
   "metadata": {},
   "outputs": [],
   "source": [
    "#add gene categories to the df\n",
    "cats_rootshoot = merge_genecategories(rootshootchromatin_coverage, Czechowski_gene_categories)\n",
    "cats_root = merge_genecategories(rootchromatin_coverage, Czechowski_gene_categories)\n",
    "cats_shoot = merge_genecategories(shootchromatin_coverage, Czechowski_gene_categories)"
   ]
  },
  {
   "cell_type": "code",
   "execution_count": 58,
   "metadata": {},
   "outputs": [
    {
     "data": {
      "image/png": "[encoded data removed]",
      "text/plain": [
       "<Figure size 360x360 with 1 Axes>"
      ]
     },
     "metadata": {},
     "output_type": "display_data"
    }
   ],
   "source": [
    "#Czechowski_gene_categories box plot root-shoot intersect\n",
    "make_plot(cats_rootshoot,'gene_type','percentage_bases_covered','Gene type','% bp covered', f'Czechowski_{dependent_variable}', 'box')"
   ]
  },
  {
   "cell_type": "code",
   "execution_count": 63,
   "metadata": {},
   "outputs": [
    {
     "data": {
      "image/png": "[encoded data removed]",
      "text/plain": [
       "<Figure size 432x288 with 1 Axes>"
      ]
     },
     "metadata": {},
     "output_type": "display_data"
    }
   ],
   "source": [
    "#all promoter distribution plot root shoot intersect\n",
    "all_prom_distribution(cats_rootshoot,'percentage_bases_covered', '% bp covered', f'{dependent_variable}_allproms')"
   ]
  },
  {
   "cell_type": "code",
   "execution_count": 12,
   "metadata": {},
   "outputs": [],
   "source": [
    "def test_normality(df,dependent_variable, between):\n",
    "    \"\"\"test normality of data categories\"\"\"\n",
    "    #find gene_type categories\n",
    "    pd.Categorical(df[between])\n",
    "    names = df[between].unique()\n",
    "    #Test normality\n",
    "    #returns test statistic, p-value\n",
    "    for name in names:\n",
    "        print('{}: {}'.format(name, stats.shapiro(df[dependent_variable][df[between] == name])))"
   ]
  },
  {
   "cell_type": "code",
   "execution_count": 13,
   "metadata": {},
   "outputs": [],
   "source": [
    "def describe_stats(df,dependent_variable, between):\n",
    "    \"\"\"return descriptve statistics\"\"\"\n",
    "    return df.groupby([between])[dependent_variable].describe()"
   ]
  },
  {
   "cell_type": "code",
   "execution_count": 14,
   "metadata": {},
   "outputs": [],
   "source": [
    "def variance(df, dependent_variable, between):\n",
    "    \"\"\"test variance of data categories\"\"\"\n",
    "    #find gene_type categories\n",
    "    pd.Categorical(df[between])\n",
    "    names = df[between].unique()\n",
    "    #test variance    \n",
    "    return stats.levene(df[dependent_variable][df[between] == names[0]], \n",
    "               df[dependent_variable][df[between] == names[1]], \n",
    "               df[dependent_variable][df[between] == names[2]])"
   ]
  },
  {
   "cell_type": "code",
   "execution_count": 15,
   "metadata": {},
   "outputs": [],
   "source": [
    "def kruskal_test(df,dependent_variable,between):\n",
    "    \"\"\"Do Kruskal-Wallis analysis\"\"\"\n",
    "    #Kruskal-Wallis one way analysis of variance\n",
    "    return kruskal(data=df, dv=dependent_variable, between=between)    "
   ]
  },
  {
   "cell_type": "code",
   "execution_count": 16,
   "metadata": {},
   "outputs": [],
   "source": [
    "def dunn_posthoc_test(df,dependent_variable, between):\n",
    "    \"\"\"dunn_posthoc tests with bonferroni multiple correction\"\"\"\n",
    "    return sp.posthoc_dunn(df, val_col=dependent_variable, group_col=between, p_adjust='bonferroni')"
   ]
  },
  {
   "cell_type": "markdown",
   "metadata": {},
   "source": [
    "# root shoot intercept stats"
   ]
  },
  {
   "cell_type": "code",
   "execution_count": 17,
   "metadata": {},
   "outputs": [],
   "source": [
    "df = cats_rootshoot\n",
    "dependent_variable = 'percentage_bases_covered'\n",
    "between_variable = 'gene_type'"
   ]
  },
  {
   "cell_type": "code",
   "execution_count": 18,
   "metadata": {},
   "outputs": [
    {
     "name": "stdout",
     "output_type": "stream",
     "text": [
      "constitutive: (0.7571035623550415, 1.4487511884597737e-11)\n",
      "variable: (0.7744484543800354, 4.368349432182228e-11)\n",
      "control: (0.8058207035064697, 3.7515437978363764e-10)\n"
     ]
    }
   ],
   "source": [
    "test_normality(df,dependent_variable,between_variable)"
   ]
  },
  {
   "cell_type": "markdown",
   "metadata": {},
   "source": [
    "## not normal"
   ]
  },
  {
   "cell_type": "code",
   "execution_count": 19,
   "metadata": {},
   "outputs": [
    {
     "data": {
      "text/plain": [
       "LeveneResult(statistic=2.626724477646715, pvalue=0.07399456813414625)"
      ]
     },
     "execution_count": 19,
     "metadata": {},
     "output_type": "execute_result"
    }
   ],
   "source": [
    "variance(df, dependent_variable,between_variable)"
   ]
  },
  {
   "cell_type": "markdown",
   "metadata": {},
   "source": [
    "## fail to reject null hypothesis that variances are equal\n",
    "\n"
   ]
  },
  {
   "cell_type": "code",
   "execution_count": 20,
   "metadata": {},
   "outputs": [
    {
     "data": {
      "text/html": [
       "<div>\n",
       "<style scoped>\n",
       "    .dataframe tbody tr th:only-of-type {\n",
       "        vertical-align: middle;\n",
       "    }\n",
       "\n",
       "    .dataframe tbody tr th {\n",
       "        vertical-align: top;\n",
       "    }\n",
       "\n",
       "    .dataframe thead th {\n",
       "        text-align: right;\n",
       "    }\n",
       "</style>\n",
       "<table border=\"1\" class=\"dataframe\">\n",
       "  <thead>\n",
       "    <tr style=\"text-align: right;\">\n",
       "      <th></th>\n",
       "      <th>count</th>\n",
       "      <th>mean</th>\n",
       "      <th>std</th>\n",
       "      <th>min</th>\n",
       "      <th>25%</th>\n",
       "      <th>50%</th>\n",
       "      <th>75%</th>\n",
       "      <th>max</th>\n",
       "    </tr>\n",
       "    <tr>\n",
       "      <th>gene_type</th>\n",
       "      <th></th>\n",
       "      <th></th>\n",
       "      <th></th>\n",
       "      <th></th>\n",
       "      <th></th>\n",
       "      <th></th>\n",
       "      <th></th>\n",
       "      <th></th>\n",
       "    </tr>\n",
       "  </thead>\n",
       "  <tbody>\n",
       "    <tr>\n",
       "      <th>constitutive</th>\n",
       "      <td>100.0</td>\n",
       "      <td>67.2100</td>\n",
       "      <td>39.101618</td>\n",
       "      <td>0.0</td>\n",
       "      <td>45.5625</td>\n",
       "      <td>86.625</td>\n",
       "      <td>100.0000</td>\n",
       "      <td>100.0</td>\n",
       "    </tr>\n",
       "    <tr>\n",
       "      <th>control</th>\n",
       "      <td>100.0</td>\n",
       "      <td>67.6875</td>\n",
       "      <td>36.250276</td>\n",
       "      <td>0.0</td>\n",
       "      <td>44.1250</td>\n",
       "      <td>81.250</td>\n",
       "      <td>100.0000</td>\n",
       "      <td>100.0</td>\n",
       "    </tr>\n",
       "    <tr>\n",
       "      <th>variable</th>\n",
       "      <td>100.0</td>\n",
       "      <td>38.2500</td>\n",
       "      <td>41.407695</td>\n",
       "      <td>0.0</td>\n",
       "      <td>0.0000</td>\n",
       "      <td>20.000</td>\n",
       "      <td>79.0625</td>\n",
       "      <td>100.0</td>\n",
       "    </tr>\n",
       "  </tbody>\n",
       "</table>\n",
       "</div>"
      ],
      "text/plain": [
       "              count     mean        std  min      25%     50%       75%    max\n",
       "gene_type                                                                     \n",
       "constitutive  100.0  67.2100  39.101618  0.0  45.5625  86.625  100.0000  100.0\n",
       "control       100.0  67.6875  36.250276  0.0  44.1250  81.250  100.0000  100.0\n",
       "variable      100.0  38.2500  41.407695  0.0   0.0000  20.000   79.0625  100.0"
      ]
     },
     "execution_count": 20,
     "metadata": {},
     "output_type": "execute_result"
    }
   ],
   "source": [
    "#descriptive stats\n",
    "describe_stats(df, dependent_variable,between_variable)"
   ]
  },
  {
   "cell_type": "code",
   "execution_count": 21,
   "metadata": {},
   "outputs": [
    {
     "data": {
      "text/html": [
       "<div>\n",
       "<style scoped>\n",
       "    .dataframe tbody tr th:only-of-type {\n",
       "        vertical-align: middle;\n",
       "    }\n",
       "\n",
       "    .dataframe tbody tr th {\n",
       "        vertical-align: top;\n",
       "    }\n",
       "\n",
       "    .dataframe thead th {\n",
       "        text-align: right;\n",
       "    }\n",
       "</style>\n",
       "<table border=\"1\" class=\"dataframe\">\n",
       "  <thead>\n",
       "    <tr style=\"text-align: right;\">\n",
       "      <th></th>\n",
       "      <th>Source</th>\n",
       "      <th>ddof1</th>\n",
       "      <th>H</th>\n",
       "      <th>p-unc</th>\n",
       "    </tr>\n",
       "  </thead>\n",
       "  <tbody>\n",
       "    <tr>\n",
       "      <th>Kruskal</th>\n",
       "      <td>gene_type</td>\n",
       "      <td>2</td>\n",
       "      <td>32.800812</td>\n",
       "      <td>7.540396e-08</td>\n",
       "    </tr>\n",
       "  </tbody>\n",
       "</table>\n",
       "</div>"
      ],
      "text/plain": [
       "            Source  ddof1          H         p-unc\n",
       "Kruskal  gene_type      2  32.800812  7.540396e-08"
      ]
     },
     "execution_count": 21,
     "metadata": {},
     "output_type": "execute_result"
    }
   ],
   "source": [
    "kruskal_test(df, dependent_variable,between_variable)"
   ]
  },
  {
   "cell_type": "markdown",
   "metadata": {},
   "source": [
    "## significant difference"
   ]
  },
  {
   "cell_type": "code",
   "execution_count": 22,
   "metadata": {},
   "outputs": [
    {
     "data": {
      "text/html": [
       "<div>\n",
       "<style scoped>\n",
       "    .dataframe tbody tr th:only-of-type {\n",
       "        vertical-align: middle;\n",
       "    }\n",
       "\n",
       "    .dataframe tbody tr th {\n",
       "        vertical-align: top;\n",
       "    }\n",
       "\n",
       "    .dataframe thead th {\n",
       "        text-align: right;\n",
       "    }\n",
       "</style>\n",
       "<table border=\"1\" class=\"dataframe\">\n",
       "  <thead>\n",
       "    <tr style=\"text-align: right;\">\n",
       "      <th></th>\n",
       "      <th>constitutive</th>\n",
       "      <th>control</th>\n",
       "      <th>variable</th>\n",
       "    </tr>\n",
       "  </thead>\n",
       "  <tbody>\n",
       "    <tr>\n",
       "      <th>constitutive</th>\n",
       "      <td>-1.000000</td>\n",
       "      <td>1.000000</td>\n",
       "      <td>0.000002</td>\n",
       "    </tr>\n",
       "    <tr>\n",
       "      <th>control</th>\n",
       "      <td>1.000000</td>\n",
       "      <td>-1.000000</td>\n",
       "      <td>0.000002</td>\n",
       "    </tr>\n",
       "    <tr>\n",
       "      <th>variable</th>\n",
       "      <td>0.000002</td>\n",
       "      <td>0.000002</td>\n",
       "      <td>-1.000000</td>\n",
       "    </tr>\n",
       "  </tbody>\n",
       "</table>\n",
       "</div>"
      ],
      "text/plain": [
       "              constitutive   control  variable\n",
       "constitutive     -1.000000  1.000000  0.000002\n",
       "control           1.000000 -1.000000  0.000002\n",
       "variable          0.000002  0.000002 -1.000000"
      ]
     },
     "execution_count": 22,
     "metadata": {},
     "output_type": "execute_result"
    }
   ],
   "source": [
    "dunn_posthoc_test(df, dependent_variable,between_variable)"
   ]
  },
  {
   "cell_type": "markdown",
   "metadata": {},
   "source": [
    "## Constitutive significantly higher than variable\n",
    "## Control significantly higher than variable"
   ]
  },
  {
   "cell_type": "markdown",
   "metadata": {},
   "source": [
    "# Root open chromatin stats"
   ]
  },
  {
   "cell_type": "code",
   "execution_count": 23,
   "metadata": {},
   "outputs": [],
   "source": [
    "df = cats_root\n",
    "dependent_variable = 'percentage_bases_covered'\n",
    "between_variable = 'gene_type'"
   ]
  },
  {
   "cell_type": "code",
   "execution_count": 24,
   "metadata": {},
   "outputs": [
    {
     "name": "stdout",
     "output_type": "stream",
     "text": [
      "constitutive: (0.6810014247894287, 1.9889783721936671e-13)\n",
      "variable: (0.7862942218780518, 9.596776151532538e-11)\n",
      "control: (0.7227646112442017, 1.8919349593915502e-12)\n"
     ]
    }
   ],
   "source": [
    "test_normality(df,dependent_variable,between_variable)"
   ]
  },
  {
   "cell_type": "code",
   "execution_count": 25,
   "metadata": {},
   "outputs": [
    {
     "data": {
      "text/plain": [
       "LeveneResult(statistic=6.420399197575066, pvalue=0.00186316007092009)"
      ]
     },
     "execution_count": 25,
     "metadata": {},
     "output_type": "execute_result"
    }
   ],
   "source": [
    "variance(df, dependent_variable,between_variable)"
   ]
  },
  {
   "cell_type": "code",
   "execution_count": 26,
   "metadata": {},
   "outputs": [
    {
     "data": {
      "text/html": [
       "<div>\n",
       "<style scoped>\n",
       "    .dataframe tbody tr th:only-of-type {\n",
       "        vertical-align: middle;\n",
       "    }\n",
       "\n",
       "    .dataframe tbody tr th {\n",
       "        vertical-align: top;\n",
       "    }\n",
       "\n",
       "    .dataframe thead th {\n",
       "        text-align: right;\n",
       "    }\n",
       "</style>\n",
       "<table border=\"1\" class=\"dataframe\">\n",
       "  <thead>\n",
       "    <tr style=\"text-align: right;\">\n",
       "      <th></th>\n",
       "      <th>count</th>\n",
       "      <th>mean</th>\n",
       "      <th>std</th>\n",
       "      <th>min</th>\n",
       "      <th>25%</th>\n",
       "      <th>50%</th>\n",
       "      <th>75%</th>\n",
       "      <th>max</th>\n",
       "    </tr>\n",
       "    <tr>\n",
       "      <th>gene_type</th>\n",
       "      <th></th>\n",
       "      <th></th>\n",
       "      <th></th>\n",
       "      <th></th>\n",
       "      <th></th>\n",
       "      <th></th>\n",
       "      <th></th>\n",
       "      <th></th>\n",
       "    </tr>\n",
       "  </thead>\n",
       "  <tbody>\n",
       "    <tr>\n",
       "      <th>constitutive</th>\n",
       "      <td>100.0</td>\n",
       "      <td>72.6425</td>\n",
       "      <td>39.201343</td>\n",
       "      <td>0.0</td>\n",
       "      <td>53.1875</td>\n",
       "      <td>99.375</td>\n",
       "      <td>100.0</td>\n",
       "      <td>100.0</td>\n",
       "    </tr>\n",
       "    <tr>\n",
       "      <th>control</th>\n",
       "      <td>100.0</td>\n",
       "      <td>77.8300</td>\n",
       "      <td>31.742809</td>\n",
       "      <td>0.0</td>\n",
       "      <td>66.6875</td>\n",
       "      <td>100.000</td>\n",
       "      <td>100.0</td>\n",
       "      <td>100.0</td>\n",
       "    </tr>\n",
       "    <tr>\n",
       "      <th>variable</th>\n",
       "      <td>100.0</td>\n",
       "      <td>56.7925</td>\n",
       "      <td>42.572251</td>\n",
       "      <td>0.0</td>\n",
       "      <td>0.0000</td>\n",
       "      <td>69.125</td>\n",
       "      <td>100.0</td>\n",
       "      <td>100.0</td>\n",
       "    </tr>\n",
       "  </tbody>\n",
       "</table>\n",
       "</div>"
      ],
      "text/plain": [
       "              count     mean        std  min      25%      50%    75%    max\n",
       "gene_type                                                                   \n",
       "constitutive  100.0  72.6425  39.201343  0.0  53.1875   99.375  100.0  100.0\n",
       "control       100.0  77.8300  31.742809  0.0  66.6875  100.000  100.0  100.0\n",
       "variable      100.0  56.7925  42.572251  0.0   0.0000   69.125  100.0  100.0"
      ]
     },
     "execution_count": 26,
     "metadata": {},
     "output_type": "execute_result"
    }
   ],
   "source": [
    "#descriptive stats\n",
    "describe_stats(df, dependent_variable,between_variable)"
   ]
  },
  {
   "cell_type": "code",
   "execution_count": 27,
   "metadata": {},
   "outputs": [
    {
     "data": {
      "text/html": [
       "<div>\n",
       "<style scoped>\n",
       "    .dataframe tbody tr th:only-of-type {\n",
       "        vertical-align: middle;\n",
       "    }\n",
       "\n",
       "    .dataframe tbody tr th {\n",
       "        vertical-align: top;\n",
       "    }\n",
       "\n",
       "    .dataframe thead th {\n",
       "        text-align: right;\n",
       "    }\n",
       "</style>\n",
       "<table border=\"1\" class=\"dataframe\">\n",
       "  <thead>\n",
       "    <tr style=\"text-align: right;\">\n",
       "      <th></th>\n",
       "      <th>Source</th>\n",
       "      <th>ddof1</th>\n",
       "      <th>H</th>\n",
       "      <th>p-unc</th>\n",
       "    </tr>\n",
       "  </thead>\n",
       "  <tbody>\n",
       "    <tr>\n",
       "      <th>Kruskal</th>\n",
       "      <td>gene_type</td>\n",
       "      <td>2</td>\n",
       "      <td>14.788404</td>\n",
       "      <td>0.000615</td>\n",
       "    </tr>\n",
       "  </tbody>\n",
       "</table>\n",
       "</div>"
      ],
      "text/plain": [
       "            Source  ddof1          H     p-unc\n",
       "Kruskal  gene_type      2  14.788404  0.000615"
      ]
     },
     "execution_count": 27,
     "metadata": {},
     "output_type": "execute_result"
    }
   ],
   "source": [
    "kruskal_test(df, dependent_variable,between_variable)"
   ]
  },
  {
   "cell_type": "code",
   "execution_count": 28,
   "metadata": {},
   "outputs": [
    {
     "data": {
      "text/html": [
       "<div>\n",
       "<style scoped>\n",
       "    .dataframe tbody tr th:only-of-type {\n",
       "        vertical-align: middle;\n",
       "    }\n",
       "\n",
       "    .dataframe tbody tr th {\n",
       "        vertical-align: top;\n",
       "    }\n",
       "\n",
       "    .dataframe thead th {\n",
       "        text-align: right;\n",
       "    }\n",
       "</style>\n",
       "<table border=\"1\" class=\"dataframe\">\n",
       "  <thead>\n",
       "    <tr style=\"text-align: right;\">\n",
       "      <th></th>\n",
       "      <th>constitutive</th>\n",
       "      <th>control</th>\n",
       "      <th>variable</th>\n",
       "    </tr>\n",
       "  </thead>\n",
       "  <tbody>\n",
       "    <tr>\n",
       "      <th>constitutive</th>\n",
       "      <td>-1.000000</td>\n",
       "      <td>1.000000</td>\n",
       "      <td>0.007673</td>\n",
       "    </tr>\n",
       "    <tr>\n",
       "      <th>control</th>\n",
       "      <td>1.000000</td>\n",
       "      <td>-1.000000</td>\n",
       "      <td>0.001055</td>\n",
       "    </tr>\n",
       "    <tr>\n",
       "      <th>variable</th>\n",
       "      <td>0.007673</td>\n",
       "      <td>0.001055</td>\n",
       "      <td>-1.000000</td>\n",
       "    </tr>\n",
       "  </tbody>\n",
       "</table>\n",
       "</div>"
      ],
      "text/plain": [
       "              constitutive   control  variable\n",
       "constitutive     -1.000000  1.000000  0.007673\n",
       "control           1.000000 -1.000000  0.001055\n",
       "variable          0.007673  0.001055 -1.000000"
      ]
     },
     "execution_count": 28,
     "metadata": {},
     "output_type": "execute_result"
    }
   ],
   "source": [
    "dunn_posthoc_test(df, dependent_variable,between_variable)"
   ]
  },
  {
   "cell_type": "markdown",
   "metadata": {},
   "source": [
    "## constitutive and control significantly higher than variable"
   ]
  },
  {
   "cell_type": "markdown",
   "metadata": {},
   "source": [
    "# Shoot open chromatin stats"
   ]
  },
  {
   "cell_type": "code",
   "execution_count": 29,
   "metadata": {},
   "outputs": [],
   "source": [
    "df = cats_shoot\n",
    "dependent_variable = 'percentage_bases_covered'\n",
    "between_variable = 'gene_type'"
   ]
  },
  {
   "cell_type": "code",
   "execution_count": 30,
   "metadata": {},
   "outputs": [
    {
     "name": "stdout",
     "output_type": "stream",
     "text": [
      "constitutive: (0.7480150461196899, 8.299831308344885e-12)\n",
      "variable: (0.7855666875839233, 9.136343070981212e-11)\n",
      "control: (0.7731749415397644, 4.020624111422677e-11)\n"
     ]
    }
   ],
   "source": [
    "test_normality(df,dependent_variable,between_variable)"
   ]
  },
  {
   "cell_type": "code",
   "execution_count": 31,
   "metadata": {},
   "outputs": [
    {
     "data": {
      "text/plain": [
       "LeveneResult(statistic=4.360090620490069, pvalue=0.013605127922924332)"
      ]
     },
     "execution_count": 31,
     "metadata": {},
     "output_type": "execute_result"
    }
   ],
   "source": [
    "variance(df, dependent_variable,between_variable)"
   ]
  },
  {
   "cell_type": "code",
   "execution_count": 32,
   "metadata": {},
   "outputs": [
    {
     "data": {
      "text/html": [
       "<div>\n",
       "<style scoped>\n",
       "    .dataframe tbody tr th:only-of-type {\n",
       "        vertical-align: middle;\n",
       "    }\n",
       "\n",
       "    .dataframe tbody tr th {\n",
       "        vertical-align: top;\n",
       "    }\n",
       "\n",
       "    .dataframe thead th {\n",
       "        text-align: right;\n",
       "    }\n",
       "</style>\n",
       "<table border=\"1\" class=\"dataframe\">\n",
       "  <thead>\n",
       "    <tr style=\"text-align: right;\">\n",
       "      <th></th>\n",
       "      <th>count</th>\n",
       "      <th>mean</th>\n",
       "      <th>std</th>\n",
       "      <th>min</th>\n",
       "      <th>25%</th>\n",
       "      <th>50%</th>\n",
       "      <th>75%</th>\n",
       "      <th>max</th>\n",
       "    </tr>\n",
       "    <tr>\n",
       "      <th>gene_type</th>\n",
       "      <th></th>\n",
       "      <th></th>\n",
       "      <th></th>\n",
       "      <th></th>\n",
       "      <th></th>\n",
       "      <th></th>\n",
       "      <th></th>\n",
       "      <th></th>\n",
       "    </tr>\n",
       "  </thead>\n",
       "  <tbody>\n",
       "    <tr>\n",
       "      <th>constitutive</th>\n",
       "      <td>100.0</td>\n",
       "      <td>68.6150</td>\n",
       "      <td>38.740679</td>\n",
       "      <td>0.0</td>\n",
       "      <td>47.2500</td>\n",
       "      <td>89.875</td>\n",
       "      <td>100.000</td>\n",
       "      <td>100.0</td>\n",
       "    </tr>\n",
       "    <tr>\n",
       "      <th>control</th>\n",
       "      <td>100.0</td>\n",
       "      <td>70.6925</td>\n",
       "      <td>35.684484</td>\n",
       "      <td>0.0</td>\n",
       "      <td>52.4375</td>\n",
       "      <td>87.750</td>\n",
       "      <td>100.000</td>\n",
       "      <td>100.0</td>\n",
       "    </tr>\n",
       "    <tr>\n",
       "      <th>variable</th>\n",
       "      <td>100.0</td>\n",
       "      <td>40.2900</td>\n",
       "      <td>41.607408</td>\n",
       "      <td>0.0</td>\n",
       "      <td>0.0000</td>\n",
       "      <td>23.500</td>\n",
       "      <td>83.375</td>\n",
       "      <td>100.0</td>\n",
       "    </tr>\n",
       "  </tbody>\n",
       "</table>\n",
       "</div>"
      ],
      "text/plain": [
       "              count     mean        std  min      25%     50%      75%    max\n",
       "gene_type                                                                    \n",
       "constitutive  100.0  68.6150  38.740679  0.0  47.2500  89.875  100.000  100.0\n",
       "control       100.0  70.6925  35.684484  0.0  52.4375  87.750  100.000  100.0\n",
       "variable      100.0  40.2900  41.607408  0.0   0.0000  23.500   83.375  100.0"
      ]
     },
     "execution_count": 32,
     "metadata": {},
     "output_type": "execute_result"
    }
   ],
   "source": [
    "#descriptive stats\n",
    "describe_stats(df, dependent_variable,between_variable)"
   ]
  },
  {
   "cell_type": "code",
   "execution_count": 33,
   "metadata": {},
   "outputs": [
    {
     "data": {
      "text/html": [
       "<div>\n",
       "<style scoped>\n",
       "    .dataframe tbody tr th:only-of-type {\n",
       "        vertical-align: middle;\n",
       "    }\n",
       "\n",
       "    .dataframe tbody tr th {\n",
       "        vertical-align: top;\n",
       "    }\n",
       "\n",
       "    .dataframe thead th {\n",
       "        text-align: right;\n",
       "    }\n",
       "</style>\n",
       "<table border=\"1\" class=\"dataframe\">\n",
       "  <thead>\n",
       "    <tr style=\"text-align: right;\">\n",
       "      <th></th>\n",
       "      <th>Source</th>\n",
       "      <th>ddof1</th>\n",
       "      <th>H</th>\n",
       "      <th>p-unc</th>\n",
       "    </tr>\n",
       "  </thead>\n",
       "  <tbody>\n",
       "    <tr>\n",
       "      <th>Kruskal</th>\n",
       "      <td>gene_type</td>\n",
       "      <td>2</td>\n",
       "      <td>31.958973</td>\n",
       "      <td>1.148675e-07</td>\n",
       "    </tr>\n",
       "  </tbody>\n",
       "</table>\n",
       "</div>"
      ],
      "text/plain": [
       "            Source  ddof1          H         p-unc\n",
       "Kruskal  gene_type      2  31.958973  1.148675e-07"
      ]
     },
     "execution_count": 33,
     "metadata": {},
     "output_type": "execute_result"
    }
   ],
   "source": [
    "kruskal_test(df, dependent_variable,between_variable)"
   ]
  },
  {
   "cell_type": "code",
   "execution_count": 34,
   "metadata": {},
   "outputs": [
    {
     "data": {
      "text/html": [
       "<div>\n",
       "<style scoped>\n",
       "    .dataframe tbody tr th:only-of-type {\n",
       "        vertical-align: middle;\n",
       "    }\n",
       "\n",
       "    .dataframe tbody tr th {\n",
       "        vertical-align: top;\n",
       "    }\n",
       "\n",
       "    .dataframe thead th {\n",
       "        text-align: right;\n",
       "    }\n",
       "</style>\n",
       "<table border=\"1\" class=\"dataframe\">\n",
       "  <thead>\n",
       "    <tr style=\"text-align: right;\">\n",
       "      <th></th>\n",
       "      <th>constitutive</th>\n",
       "      <th>control</th>\n",
       "      <th>variable</th>\n",
       "    </tr>\n",
       "  </thead>\n",
       "  <tbody>\n",
       "    <tr>\n",
       "      <th>constitutive</th>\n",
       "      <td>-1.000000</td>\n",
       "      <td>1.000000</td>\n",
       "      <td>0.000004</td>\n",
       "    </tr>\n",
       "    <tr>\n",
       "      <th>control</th>\n",
       "      <td>1.000000</td>\n",
       "      <td>-1.000000</td>\n",
       "      <td>0.000002</td>\n",
       "    </tr>\n",
       "    <tr>\n",
       "      <th>variable</th>\n",
       "      <td>0.000004</td>\n",
       "      <td>0.000002</td>\n",
       "      <td>-1.000000</td>\n",
       "    </tr>\n",
       "  </tbody>\n",
       "</table>\n",
       "</div>"
      ],
      "text/plain": [
       "              constitutive   control  variable\n",
       "constitutive     -1.000000  1.000000  0.000004\n",
       "control           1.000000 -1.000000  0.000002\n",
       "variable          0.000004  0.000002 -1.000000"
      ]
     },
     "execution_count": 34,
     "metadata": {},
     "output_type": "execute_result"
    }
   ],
   "source": [
    "dunn_posthoc_test(df, dependent_variable,between_variable)"
   ]
  },
  {
   "cell_type": "markdown",
   "metadata": {},
   "source": [
    "## constitutive and control significantly higher than variable"
   ]
  },
  {
   "cell_type": "code",
   "execution_count": null,
   "metadata": {},
   "outputs": [],
   "source": []
  }
 ],
 "metadata": {
  "kernelspec": {
   "display_name": "Python [conda env:PromoterArchitecturePipeline] *",
   "language": "python",
   "name": "conda-env-PromoterArchitecturePipeline-py"
  },
  "language_info": {
   "codemirror_mode": {
    "name": "ipython",
    "version": 3
   },
   "file_extension": ".py",
   "mimetype": "text/x-python",
   "name": "python",
   "nbconvert_exporter": "python",
   "pygments_lexer": "ipython3",
   "version": "3.7.6"
  }
 },
 "nbformat": 4,
 "nbformat_minor": 4
}
