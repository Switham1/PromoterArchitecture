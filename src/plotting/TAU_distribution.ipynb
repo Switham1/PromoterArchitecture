{
 "cells": [
  {
   "cell_type": "code",
   "execution_count": 1,
   "metadata": {},
   "outputs": [],
   "source": [
    "import pandas as pd\n",
    "import seaborn as sns\n",
    "import matplotlib.pyplot as plt\n",
    "import os"
   ]
  },
  {
   "cell_type": "code",
   "execution_count": null,
   "metadata": {},
   "outputs": [],
   "source": [
    "file_names = 'non-overlapping_includingbidirectional_all_genes_newannotation'\n",
    "output_prefix = 'czechowski_TAU'\n"
   ]
  },
  {
   "cell_type": "code",
   "execution_count": null,
   "metadata": {},
   "outputs": [],
   "source": [
    "#location of files\n",
    "czechowski = '../../data/output/non-overlapping_includingbidirectional_all_genes_newannotation/genes/promoters_5UTR_czechowski_constitutive_variable_random.txt'\n",
    "czechowski_all = '../../data/output/non-overlapping_includingbidirectional_all_genes_newannotation/genes/promoters_5UTR_czechowski_allfilteredgenes.txt'\n",
    "tau_table = '../../data/output/non-overlapping_includingbidirectional_all_genes_newannotation/genes/tissue_specific/promoters_5UTR_czechowski_allfilteredgenes_TAU.txt"
   ]
  },
  {
   "cell_type": "code",
   "execution_count": null,
   "metadata": {},
   "outputs": [],
   "source": [
    "#make directory for the plots to be exported to\n",
    "dirName = f'../../data/output/{file_names}/genes/plots'\n",
    "try:\n",
    "    # Create target Directory\n",
    "    os.mkdir(dirName)\n",
    "    print(\"Directory \" , dirName ,  \" created\") \n",
    "except FileExistsError:\n",
    "    print(\"Directory \" , dirName ,  \" already exists\")"
   ]
  },
  {
   "cell_type": "code",
   "execution_count": null,
   "metadata": {},
   "outputs": [],
   "source": [
    "def all_prom_distribution(df, x_variable, x_label, df2=pd.DataFrame(),df1_label='', df2_label='', labels=False,\n",
    "                          min_x_constitutive=False, max_x_constitutive=False,min_x_variable=False,max_x_variable=False, save=False):\n",
    "    \"\"\"function to return distribution plot of all promoters of variable of interest. \n",
    "    df1_label and df2 labels are the names of the respective gene type subset in the df\"\"\"\n",
    "    #if only 1 dataframe provided then create just 1 plot\n",
    "    if df2.empty:    \n",
    "        dist_plot = df[x_variable]\n",
    "        #create figure with no transparency\n",
    "        dist_plot_fig = sns.distplot(dist_plot).get_figure()\n",
    "        plt.xlabel(x_label)\n",
    "    #else if 2 dataframes provided plot them on the same axes\n",
    "    else:\n",
    "        dist_plot1 = df[x_variable]\n",
    "        dist_plot2 = df2[x_variable]\n",
    "        dist_plot_fig = sns.distplot(dist_plot1,hist=False, rug=True,label=df1_label)\n",
    "        sns.distplot(dist_plot2,hist=False, rug=True,label=df2_label).get_figure()\n",
    "        #create legend\n",
    "        plt.legend()\n",
    "    if labels==True:\n",
    "        #get axes\n",
    "        ax = plt.axes()\n",
    "        #constitutive annotation\n",
    "        ax.annotate('top 100 constitutive range', xy=(max_x_constitutive, 0.2), xycoords='data', ha='left',\n",
    "            xytext=(50, 100), textcoords='offset points',\n",
    "                   arrowprops=dict(arrowstyle='->', connectionstyle='arc3,rad=0.4', \n",
    "                            color='black'))\n",
    "        ax.annotate('', xy=(max_x_constitutive, 0.2),\n",
    "            xytext=(min_x_constitutive, 0.2),\n",
    "            xycoords='data', textcoords='data',\n",
    "            arrowprops={'arrowstyle': '|-|,widthA=0.2,widthB=0.2','color':'blue'})\n",
    "        #Variable annotation\n",
    "        ax.annotate('top 100 variable range', xy=(max_x_variable, 0.2), xycoords='data', ha='right',\n",
    "            xytext=(0, -20), textcoords='offset points')\n",
    "        ax.annotate('', xy=(max_x_variable, 0.2),\n",
    "            xytext=(min_x_variable, 0.2),\n",
    "            xycoords='data', textcoords='data',\n",
    "            arrowprops={'arrowstyle': '|-|,widthA=0.2,widthB=0.2','color':'orange' })\n",
    "        \n",
    "\n",
    "    #save to file\n",
    "    if save == True:\n",
    "        dist_plot_fig.savefig(f'../../data/output/{file_names}/genes/plots/{output_prefix}_distribution.pdf', format='pdf')\n",
    "    return dist_plot_fig"
   ]
  },
  {
   "cell_type": "code",
   "execution_count": null,
   "metadata": {},
   "outputs": [],
   "source": [
    "#read in files\n",
    "czechowski_df = pd.read_table(czechowski, sep='\\t', header=None)\n",
    "#all genes\n",
    "czechowski_all_df = pd.read_table(czechowski_all, sep='\\t', header=0)\n",
    "#TAU\n",
    "tau_df = pd.read_table(tau_table, sep='\\t', header=0)"
   ]
  },
  {
   "cell_type": "code",
   "execution_count": null,
   "metadata": {},
   "outputs": [],
   "source": []
  }
 ],
 "metadata": {
  "kernelspec": {
   "display_name": "Python [conda env:PromoterArchitecturePipeline] *",
   "language": "python",
   "name": "conda-env-PromoterArchitecturePipeline-py"
  },
  "language_info": {
   "codemirror_mode": {
    "name": "ipython",
    "version": 3
   },
   "file_extension": ".py",
   "mimetype": "text/x-python",
   "name": "python",
   "nbconvert_exporter": "python",
   "pygments_lexer": "ipython3",
   "version": "3.7.8"
  }
 },
 "nbformat": 4,
 "nbformat_minor": 4
}
