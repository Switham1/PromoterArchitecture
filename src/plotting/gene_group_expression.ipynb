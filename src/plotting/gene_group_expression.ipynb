{
 "cells": [
  {
   "cell_type": "code",
   "execution_count": null,
   "metadata": {},
   "outputs": [],
   "source": [
    "#create barplot showing mean expression in each condition/developmental stage for each gene group"
   ]
  },
  {
   "cell_type": "code",
   "execution_count": 1,
   "metadata": {},
   "outputs": [],
   "source": [
    "import pandas as pd\n",
    "import seaborn as sns\n",
    "import matplotlib.pyplot as plt\n",
    "import os"
   ]
  },
  {
   "cell_type": "code",
   "execution_count": null,
   "metadata": {},
   "outputs": [],
   "source": [
    "# #make directory for the plots to be exported to\n",
    "# dirName = f'../../data/output/{args.file_names}/genes/{args.output_folder_name}'\n",
    "# try:\n",
    "#     # Create target Directory\n",
    "#     os.mkdir(dirName)\n",
    "#     print(\"Directory \" , dirName ,  \" created\") \n",
    "# except FileExistsError:\n",
    "#     print(\"Directory \" , dirName ,  \" already exists\")"
   ]
  },
  {
   "cell_type": "code",
   "execution_count": 3,
   "metadata": {},
   "outputs": [],
   "source": [
    "gene_groups_cv='/home/witham/Documents/pipeline_new/PromoterArchitecture/data/output/non-overlapping_includingbidirectional_all_genes_newannotation/genes/promoters_5UTR_czechowski_constitutive_variable_random.txt'\n",
    "gene_groups_tau='/home/witham/Documents/pipeline_new/PromoterArchitecture/data/output/non-overlapping_includingbidirectional_all_genes_newannotation/genes/promoters_5UTR_schmid_non-specific_tissuespecific_random.txt'\n",
    "expression_data='/home/witham/Documents/pipeline_new/PromoterArchitecturedata/genes/AtGeneExpress_CV_2020/AtGE_dev_gcRMA.txt.newline'"
   ]
  },
  {
   "cell_type": "code",
   "execution_count": null,
   "metadata": {},
   "outputs": [],
   "source": [
    "def prepare_files(expression_data, gene_groups_cv, gene_groups_tau):\n",
    "    \"\"\"read in files and create dfs\"\"\"\n",
    "    expression_data_df = pd.read_table(expression_data, sep='\\t',header=0)\n",
    "    "
   ]
  },
  {
   "cell_type": "code",
   "execution_count": null,
   "metadata": {},
   "outputs": [],
   "source": [
    "def makeplot()"
   ]
  },
  {
   "cell_type": "code",
   "execution_count": 4,
   "metadata": {},
   "outputs": [],
   "source": [
    "file = '/home/witham/Documents/pipeline_new/PromoterArchitecture/data/output/non-overlapping_includingbidirectional_all_genes_newannotation/genes/tissue_specific/AtGE_dev_gcRMA__all_probes__CV.tsv'"
   ]
  },
  {
   "cell_type": "code",
   "execution_count": 61,
   "metadata": {},
   "outputs": [],
   "source": [
    "df = pd.read_table(file, sep='\\t')\n",
    "#make new df with last 9 columns\n",
    "df2 = df[df.columns[-9:]]"
   ]
  },
  {
   "cell_type": "code",
   "execution_count": 72,
   "metadata": {},
   "outputs": [],
   "source": [
    "list = df2.columns.tolist()\n",
    "#convert to dictionary\n",
    "dictionary = {'rank':[df2.columns.tolist()[0]],'probe_id':[df2.columns.tolist()[1]],'gene_id':[df2.columns.tolist()[2]],'mean':[df2.columns.tolist()[3]],'SD':[df2.columns.tolist()[4]],'CV':[df2.columns.tolist()[5]],'propP':[df2.columns.tolist()[6]],'current':[df2.columns.tolist()[7]],'Araport_const':[df2.columns.tolist()[8]]}\n"
   ]
  },
  {
   "cell_type": "code",
   "execution_count": 85,
   "metadata": {},
   "outputs": [],
   "source": [
    "final_row = pd.DataFrame.from_dict(dictionary) \n",
    "final_row['rank'].replace('t','',regex=True,inplace=True)"
   ]
  },
  {
   "cell_type": "code",
   "execution_count": 78,
   "metadata": {},
   "outputs": [],
   "source": [
    "#remove header\n",
    "df.columns = range(df.shape[1])\n",
    "df_removed_cols = df.loc[:, 0:8]\n",
    "#rename cols\n",
    "cols = ['rank','probe_id','gene_id','mean','SD','CV','propP','current','Araport_const']\n",
    "df_removed_cols.columns = cols"
   ]
  },
  {
   "cell_type": "code",
   "execution_count": 100,
   "metadata": {},
   "outputs": [],
   "source": [
    "#merge dfs\n",
    "df_final = pd.concat([df_removed_cols,final_row],ignore_index=True)\n",
    "#convert rank column to numeric\n",
    "df_final = df_final.astype({'rank': 'int'})\n",
    "df_final.sort_values(['rank'], inplace=True, ignore_index=True) "
   ]
  },
  {
   "cell_type": "code",
   "execution_count": 101,
   "metadata": {},
   "outputs": [
    {
     "data": {
      "text/html": [
       "<div>\n",
       "<style scoped>\n",
       "    .dataframe tbody tr th:only-of-type {\n",
       "        vertical-align: middle;\n",
       "    }\n",
       "\n",
       "    .dataframe tbody tr th {\n",
       "        vertical-align: top;\n",
       "    }\n",
       "\n",
       "    .dataframe thead th {\n",
       "        text-align: right;\n",
       "    }\n",
       "</style>\n",
       "<table border=\"1\" class=\"dataframe\">\n",
       "  <thead>\n",
       "    <tr style=\"text-align: right;\">\n",
       "      <th></th>\n",
       "      <th>rank</th>\n",
       "      <th>probe_id</th>\n",
       "      <th>gene_id</th>\n",
       "      <th>mean</th>\n",
       "      <th>SD</th>\n",
       "      <th>CV</th>\n",
       "      <th>propP</th>\n",
       "      <th>current</th>\n",
       "      <th>Araport_const</th>\n",
       "    </tr>\n",
       "  </thead>\n",
       "  <tbody>\n",
       "    <tr>\n",
       "      <th>0</th>\n",
       "      <td>1</td>\n",
       "      <td>265380_at</td>\n",
       "      <td>AT2G16670</td>\n",
       "      <td>4.854436062036413</td>\n",
       "      <td>0.290069196206258</td>\n",
       "      <td>0.059753428101507494</td>\n",
       "      <td>0</td>\n",
       "      <td>0.1</td>\n",
       "      <td>0.2</td>\n",
       "    </tr>\n",
       "    <tr>\n",
       "      <th>1</th>\n",
       "      <td>2</td>\n",
       "      <td>256549_at</td>\n",
       "      <td>AT3G31310</td>\n",
       "      <td>4.29519</td>\n",
       "      <td>0.260373</td>\n",
       "      <td>0.0606197</td>\n",
       "      <td>0</td>\n",
       "      <td>0</td>\n",
       "      <td>0</td>\n",
       "    </tr>\n",
       "    <tr>\n",
       "      <th>2</th>\n",
       "      <td>3</td>\n",
       "      <td>256552_at</td>\n",
       "      <td>AT3G31350</td>\n",
       "      <td>3.0776</td>\n",
       "      <td>0.188439</td>\n",
       "      <td>0.0612293</td>\n",
       "      <td>0</td>\n",
       "      <td>1</td>\n",
       "      <td>0</td>\n",
       "    </tr>\n",
       "    <tr>\n",
       "      <th>3</th>\n",
       "      <td>4</td>\n",
       "      <td>258520_at</td>\n",
       "      <td>AT3G06710</td>\n",
       "      <td>3.69302</td>\n",
       "      <td>0.234994</td>\n",
       "      <td>0.063632</td>\n",
       "      <td>0</td>\n",
       "      <td>1</td>\n",
       "      <td>0</td>\n",
       "    </tr>\n",
       "    <tr>\n",
       "      <th>4</th>\n",
       "      <td>5</td>\n",
       "      <td>258450_at</td>\n",
       "      <td>AT3G22340</td>\n",
       "      <td>3.48425</td>\n",
       "      <td>0.239817</td>\n",
       "      <td>0.0688287</td>\n",
       "      <td>0</td>\n",
       "      <td>0</td>\n",
       "      <td>0</td>\n",
       "    </tr>\n",
       "    <tr>\n",
       "      <th>...</th>\n",
       "      <td>...</td>\n",
       "      <td>...</td>\n",
       "      <td>...</td>\n",
       "      <td>...</td>\n",
       "      <td>...</td>\n",
       "      <td>...</td>\n",
       "      <td>...</td>\n",
       "      <td>...</td>\n",
       "      <td>...</td>\n",
       "    </tr>\n",
       "    <tr>\n",
       "      <th>22741</th>\n",
       "      <td>22742</td>\n",
       "      <td>246942_at</td>\n",
       "      <td>AT5G25430</td>\n",
       "      <td>45.7237</td>\n",
       "      <td>319.455</td>\n",
       "      <td>6.98664</td>\n",
       "      <td>6</td>\n",
       "      <td>1</td>\n",
       "      <td>0</td>\n",
       "    </tr>\n",
       "    <tr>\n",
       "      <th>22742</th>\n",
       "      <td>22743</td>\n",
       "      <td>248038_at</td>\n",
       "      <td>AT5G55980</td>\n",
       "      <td>61.5837</td>\n",
       "      <td>439.403</td>\n",
       "      <td>7.13505</td>\n",
       "      <td>16</td>\n",
       "      <td>1</td>\n",
       "      <td>0</td>\n",
       "    </tr>\n",
       "    <tr>\n",
       "      <th>22743</th>\n",
       "      <td>22744</td>\n",
       "      <td>264863_at</td>\n",
       "      <td>AT1G24110</td>\n",
       "      <td>38.4211</td>\n",
       "      <td>274.58</td>\n",
       "      <td>7.14659</td>\n",
       "      <td>7</td>\n",
       "      <td>1</td>\n",
       "      <td>0</td>\n",
       "    </tr>\n",
       "    <tr>\n",
       "      <th>22744</th>\n",
       "      <td>22745</td>\n",
       "      <td>267438_at</td>\n",
       "      <td>AT2G19050</td>\n",
       "      <td>54.8131</td>\n",
       "      <td>394.439</td>\n",
       "      <td>7.19607</td>\n",
       "      <td>17</td>\n",
       "      <td>1</td>\n",
       "      <td>0</td>\n",
       "    </tr>\n",
       "    <tr>\n",
       "      <th>22745</th>\n",
       "      <td>22746</td>\n",
       "      <td>246118_at</td>\n",
       "      <td>AT5G20340</td>\n",
       "      <td>25.2309</td>\n",
       "      <td>184.676</td>\n",
       "      <td>7.31942</td>\n",
       "      <td>1</td>\n",
       "      <td>1</td>\n",
       "      <td>0</td>\n",
       "    </tr>\n",
       "  </tbody>\n",
       "</table>\n",
       "<p>22746 rows × 9 columns</p>\n",
       "</div>"
      ],
      "text/plain": [
       "        rank   probe_id    gene_id               mean                 SD  \\\n",
       "0          1  265380_at  AT2G16670  4.854436062036413  0.290069196206258   \n",
       "1          2  256549_at  AT3G31310            4.29519           0.260373   \n",
       "2          3  256552_at  AT3G31350             3.0776           0.188439   \n",
       "3          4  258520_at  AT3G06710            3.69302           0.234994   \n",
       "4          5  258450_at  AT3G22340            3.48425           0.239817   \n",
       "...      ...        ...        ...                ...                ...   \n",
       "22741  22742  246942_at  AT5G25430            45.7237            319.455   \n",
       "22742  22743  248038_at  AT5G55980            61.5837            439.403   \n",
       "22743  22744  264863_at  AT1G24110            38.4211             274.58   \n",
       "22744  22745  267438_at  AT2G19050            54.8131            394.439   \n",
       "22745  22746  246118_at  AT5G20340            25.2309            184.676   \n",
       "\n",
       "                         CV propP current Araport_const  \n",
       "0      0.059753428101507494     0     0.1           0.2  \n",
       "1                 0.0606197     0       0             0  \n",
       "2                 0.0612293     0       1             0  \n",
       "3                  0.063632     0       1             0  \n",
       "4                 0.0688287     0       0             0  \n",
       "...                     ...   ...     ...           ...  \n",
       "22741               6.98664     6       1             0  \n",
       "22742               7.13505    16       1             0  \n",
       "22743               7.14659     7       1             0  \n",
       "22744               7.19607    17       1             0  \n",
       "22745               7.31942     1       1             0  \n",
       "\n",
       "[22746 rows x 9 columns]"
      ]
     },
     "execution_count": 101,
     "metadata": {},
     "output_type": "execute_result"
    }
   ],
   "source": [
    "df_final"
   ]
  },
  {
   "cell_type": "code",
   "execution_count": null,
   "metadata": {},
   "outputs": [],
   "source": []
  }
 ],
 "metadata": {
  "kernelspec": {
   "display_name": "Python [conda env:PromoterArchitecturePipeline] *",
   "language": "python",
   "name": "conda-env-PromoterArchitecturePipeline-py"
  },
  "language_info": {
   "codemirror_mode": {
    "name": "ipython",
    "version": 3
   },
   "file_extension": ".py",
   "mimetype": "text/x-python",
   "name": "python",
   "nbconvert_exporter": "python",
   "pygments_lexer": "ipython3",
   "version": "3.7.8"
  }
 },
 "nbformat": 4,
 "nbformat_minor": 4
}
