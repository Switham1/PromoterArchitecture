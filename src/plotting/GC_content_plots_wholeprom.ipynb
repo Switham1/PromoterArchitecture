{
 "cells": [
  {
   "cell_type": "code",
   "execution_count": 14,
   "metadata": {},
   "outputs": [],
   "source": [
    "import pandas as pd\n",
    "import seaborn as sns\n",
    "import matplotlib.pyplot as plt\n",
    "from scipy import stats\n",
    "from pingouin import kruskal\n",
    "import scikit_posthocs as sp\n",
    "import os\n",
    "from statannot import add_stat_annotation"
   ]
  },
  {
   "cell_type": "code",
   "execution_count": 2,
   "metadata": {},
   "outputs": [],
   "source": [
    "# parser = argparse.ArgumentParser(description='GC_content_plots')\n",
    "# parser.add_argument('file_names', type=str, help='Name of folder and filenames for the promoters extracted')\n",
    "# parser.add_argument('Czechowski_gene_categories', type=str, help='Input location of Czechowski gene categories text file')\n",
    "# parser.add_argument('GC_content_tsv', type=str, help='Input location of promoters GC_content tsv file')\n",
    "# parser.add_argument('output_folder_name', type=str, help='Optional output folder name ending in a forward slash',default = '')\n"
   ]
  },
  {
   "cell_type": "code",
   "execution_count": 3,
   "metadata": {},
   "outputs": [],
   "source": [
    "file_names = 'non-overlapping_includingbidirectional_all_genes_newannotation'\n",
    "Czechowski_gene_categories = f'../../data/output/{file_names}/genes/promoters_5UTR_czechowski_constitutive_variable_random.txt'\n",
    "GC_content_tsv = f'../../data/output/{file_names}/GC_content/promoters_5UTR_GC_content.tsv'\n",
    "dependent_variable = 'GC_content'\n",
    "output_folder_name = ''"
   ]
  },
  {
   "cell_type": "code",
   "execution_count": 4,
   "metadata": {},
   "outputs": [
    {
     "name": "stdout",
     "output_type": "stream",
     "text": [
      "Directory  ../../data/output/non-overlapping_includingbidirectional_all_genes_newannotation/GC_content/plots  already exists\n"
     ]
    }
   ],
   "source": [
    "#make directory for the plots to be exported to\n",
    "dirName = f'../../data/output/{file_names}/{dependent_variable}/{output_folder_name}plots'\n",
    "try:\n",
    "    # Create target Directory\n",
    "    os.mkdir(dirName)\n",
    "    print(\"Directory \" , dirName ,  \" created\") \n",
    "except FileExistsError:\n",
    "    print(\"Directory \" , dirName ,  \" already exists\")"
   ]
  },
  {
   "cell_type": "code",
   "execution_count": 5,
   "metadata": {},
   "outputs": [
    {
     "name": "stdout",
     "output_type": "stream",
     "text": [
      "Directory  ../../data/output/non-overlapping_includingbidirectional_all_genes_newannotation/GC_content/plots  already exists\n"
     ]
    }
   ],
   "source": [
    "#make directory for the plots to be exported to\n",
    "dirName = f'../../data/output/{file_names}/{dependent_variable}/{output_folder_name}plots'\n",
    "try:\n",
    "    # Create target Directory\n",
    "    os.mkdir(dirName)\n",
    "    print(\"Directory \" , dirName ,  \" created\") \n",
    "except FileExistsError:\n",
    "    print(\"Directory \" , dirName ,  \" already exists\")"
   ]
  },
  {
   "cell_type": "code",
   "execution_count": 6,
   "metadata": {},
   "outputs": [],
   "source": [
    "def read_GC_file(GC_content_tsv):\n",
    "    \"\"\"read in GC file and make extra columns\"\"\"\n",
    "     #read in GC content tsv\n",
    "    GC_content = pd.read_table(GC_content_tsv, sep='\\t', header=None)\n",
    "    cols2 = ['name', 'percentage_GC_content']\n",
    "    GC_content.columns = cols2\n",
    "\n",
    "    #Make AGI column\n",
    "    GC_content['AGI'] = GC_content.name.str.split(':',expand=True)[0]\n",
    "    #make window number column\n",
    "    #GC_content = GC_content.assign(window_number=GC_content.name.str.extract(r'_(.*?)\\:'))\n",
    "    #make chr column\n",
    "    GC_content = GC_content.assign(chr=GC_content.name.str.split(':',n=3,expand=True)[2])\n",
    "    #make start column\n",
    "    GC_content = GC_content.assign(start=GC_content.name.str.split(':',n=3,expand=True)[3].str.split('-',expand=True)[0])\n",
    "    #make stop column\n",
    "    GC_content = GC_content.assign(stop=GC_content.name.str.split(':',n=3,expand=True)[3].str.split('-',expand=True)[1])\n",
    "    return GC_content\n",
    "    "
   ]
  },
  {
   "cell_type": "code",
   "execution_count": 7,
   "metadata": {},
   "outputs": [],
   "source": [
    "def mergeGC_genecategories(GC_content_df, gene_categories):\n",
    "    \"\"\"merged GC content df with gene categories\"\"\"\n",
    "    #read in gene categories\n",
    "    gene_cats = pd.read_csv(gene_categories,sep='\\t', header=None)\n",
    "    gene_cats.columns = ['AGI','gene_type']\n",
    "    #merge to limit to genes of interest\n",
    "    GC_content_categories = pd.merge(gene_cats, GC_content_df, how='left', on='AGI')\n",
    "    return GC_content_categories"
   ]
  },
  {
   "cell_type": "code",
   "execution_count": 23,
   "metadata": {},
   "outputs": [],
   "source": [
    "def make_plot(df,x_variable, y_variable,x_label, y_label, output_prefix, plot_kind):\n",
    "    \"\"\"function to make and save plot\"\"\"\n",
    "    #allow colour codes in seaborn\n",
    "    sns.set(color_codes=True)\n",
    "    sns.set_style(\"whitegrid\")\n",
    "    #plot\n",
    "    x=x_variable\n",
    "    y=y_variable\n",
    "    order=[\"constitutive\", \"variable\", \"control\"]\n",
    "    plot = sns.catplot(x=x, y=y, data=df, kind=plot_kind,order=order)\n",
    "    #plot points\n",
    "    ax = sns.swarmplot(x=x, y=y, data=df, color=\".25\",order=order)\n",
    "    #add significance if necessary\n",
    "    test_results = add_stat_annotation(ax, data=df, x=x, y=y, order=order,\n",
    "                                      box_pairs=[(\"constitutive\", \"variable\"),(\"constitutive\", \"control\"),(\"variable\", \"control\",)],\n",
    "                                      test='Kruskal', text_format='star',\n",
    "                                      loc='outside',verbose=2)\n",
    "    \n",
    "    #change axes labels\n",
    "    plt.ylabel(y_label)\n",
    "    plt.xlabel(x_label)\n",
    "    #tight layout\n",
    "    plt.tight_layout()\n",
    "    #save figure\n",
    "    ax.get_figure().savefig(f'../../data/output/{file_names}/{dependent_variable}/{output_folder_name}plots/{output_prefix}_{plot_kind}.pdf', format='pdf')   "
   ]
  },
  {
   "cell_type": "code",
   "execution_count": 9,
   "metadata": {},
   "outputs": [],
   "source": [
    "# def box_plot(GC_content_categories, x_variable, y_variable,x_label, y_label,output_prefix):\n",
    "#     \"\"\"function to make and save box plot of GC_content split by gene_categories\"\"\"\n",
    "#     #allow colour codes in seaborn\n",
    "#     sns.set(color_codes=True)\n",
    "#     sns.set_style(\"whitegrid\")\n",
    "#     #plot\n",
    "#     plot = sns.catplot(x=x_variable, y=y_variable, data=GC_content_categories,kind='box')\n",
    "#     #plot points\n",
    "#     ax = sns.swarmplot(x=x_variable, y=y_variable, data=GC_content_categories, color=\".25\")\n",
    "#     plt.ylabel('Percentage GC content')\n",
    "#     plt.xlabel('Gene type')\n",
    "#     #save figure\n",
    "#     ax.get_figure().savefig(f'../../data/output/{file_names}/{dependent_variable}/plots/{output_prefix}_box.pdf', format='pdf')\n",
    "    \n"
   ]
  },
  {
   "cell_type": "code",
   "execution_count": 10,
   "metadata": {},
   "outputs": [],
   "source": [
    "def all_prom_distribution(df, x_variable, x_label, output_prefix):\n",
    "    \"\"\"function to return distribution plot of all promoters GC content\"\"\"    \n",
    "    \n",
    "    dist_plot = df[x_variable]\n",
    "    #create figure with no transparency\n",
    "    dist_plot_fig = sns.distplot(dist_plot).get_figure()\n",
    "    plt.xlabel(x_label)\n",
    "\n",
    "    #save to file\n",
    "    dist_plot_fig.savefig(f'../../data/output/{file_names}/{dependent_variable}/{output_folder_name}plots/{output_prefix}_distribution.pdf', format='pdf')    "
   ]
  },
  {
   "cell_type": "code",
   "execution_count": 11,
   "metadata": {},
   "outputs": [],
   "source": [
    "#read GC file\n",
    "GC_content_df = read_GC_file(GC_content_tsv)\n",
    "#merge with promoter categories\n",
    "GC_content_Czechowski_gene_categories = mergeGC_genecategories(GC_content_df, Czechowski_gene_categories)"
   ]
  },
  {
   "cell_type": "code",
   "execution_count": 12,
   "metadata": {},
   "outputs": [
    {
     "data": {
      "image/png": "[encoded data removed]",
      "text/plain": [
       "<Figure size 432x288 with 1 Axes>"
      ]
     },
     "metadata": {
      "needs_background": "light"
     },
     "output_type": "display_data"
    }
   ],
   "source": [
    "#all promoter distribution plot\n",
    "all_prom_distribution(GC_content_df,'percentage_GC_content', '% GC content', f'{dependent_variable}_allproms')"
   ]
  },
  {
   "cell_type": "code",
   "execution_count": 24,
   "metadata": {},
   "outputs": [
    {
     "name": "stdout",
     "output_type": "stream",
     "text": [
      "p-value annotation legend:\n",
      "ns: 5.00e-02 < p <= 1.00e+00\n",
      "*: 1.00e-02 < p <= 5.00e-02\n",
      "**: 1.00e-03 < p <= 1.00e-02\n",
      "***: 1.00e-04 < p <= 1.00e-03\n",
      "****: p <= 1.00e-04\n",
      "\n",
      "constitutive v.s. variable: Kruskal-Wallis paired samples with Bonferroni correction, P_val=2.065e-02 stat=7.303e+00\n",
      "variable v.s. control: Kruskal-Wallis paired samples with Bonferroni correction, P_val=7.009e-02 stat=5.141e+00\n",
      "constitutive v.s. control: Kruskal-Wallis paired samples with Bonferroni correction, P_val=1.000e+00 stat=6.267e-01\n"
     ]
    },
    {
     "data": {
      "image/png": "[encoded data removed]",
      "text/plain": [
       "<Figure size 360x360 with 1 Axes>"
      ]
     },
     "metadata": {},
     "output_type": "display_data"
    }
   ],
   "source": [
    "#Czechowski_gene_categories violin plot\n",
    "make_plot(GC_content_Czechowski_gene_categories,'gene_type','percentage_GC_content','Gene type','% GC content', f'Czechowski_{dependent_variable}', 'violin')"
   ]
  },
  {
   "cell_type": "code",
   "execution_count": 25,
   "metadata": {},
   "outputs": [
    {
     "name": "stdout",
     "output_type": "stream",
     "text": [
      "p-value annotation legend:\n",
      "ns: 5.00e-02 < p <= 1.00e+00\n",
      "*: 1.00e-02 < p <= 5.00e-02\n",
      "**: 1.00e-03 < p <= 1.00e-02\n",
      "***: 1.00e-04 < p <= 1.00e-03\n",
      "****: p <= 1.00e-04\n",
      "\n",
      "constitutive v.s. variable: Kruskal-Wallis paired samples with Bonferroni correction, P_val=2.065e-02 stat=7.303e+00\n",
      "variable v.s. control: Kruskal-Wallis paired samples with Bonferroni correction, P_val=7.009e-02 stat=5.141e+00\n",
      "constitutive v.s. control: Kruskal-Wallis paired samples with Bonferroni correction, P_val=1.000e+00 stat=6.267e-01\n"
     ]
    },
    {
     "data": {
      "image/png": "[encoded data removed]",
      "text/plain": [
       "<Figure size 360x360 with 1 Axes>"
      ]
     },
     "metadata": {},
     "output_type": "display_data"
    }
   ],
   "source": [
    "#Czechowski_gene_categories box plot\n",
    "make_plot(GC_content_Czechowski_gene_categories,'gene_type','percentage_GC_content','Gene type','% GC content', f'Czechowski_{dependent_variable}', 'box')"
   ]
  },
  {
   "cell_type": "code",
   "execution_count": 27,
   "metadata": {},
   "outputs": [],
   "source": [
    "def test_normality(df,dependent_variable, between):\n",
    "    \"\"\"test normality of data categories\"\"\"\n",
    "    #find gene_type categories\n",
    "    pd.Categorical(df[between])\n",
    "    names = df[between].unique()\n",
    "    #Test normality\n",
    "    #returns test statistic, p-value\n",
    "    for name in names:\n",
    "        print('{}: {}'.format(name, stats.shapiro(df[dependent_variable][df[between] == name])))"
   ]
  },
  {
   "cell_type": "code",
   "execution_count": 28,
   "metadata": {},
   "outputs": [],
   "source": [
    "def describe_stats(df,dependent_variable, between):\n",
    "    \"\"\"return descriptve statistics\"\"\"\n",
    "    return df.groupby([between])[dependent_variable].describe()"
   ]
  },
  {
   "cell_type": "code",
   "execution_count": 15,
   "metadata": {},
   "outputs": [],
   "source": [
    "def variance(df, dependent_variable, between):\n",
    "    \"\"\"test variance of data categories\"\"\"\n",
    "    #find gene_type categories\n",
    "    pd.Categorical(df[between])\n",
    "    names = df[between].unique()\n",
    "    #test variance    \n",
    "    return stats.levene(df[dependent_variable][df[between] == names[0]], \n",
    "               df[dependent_variable][df[between] == names[1]], \n",
    "               df[dependent_variable][df[between] == names[2]])"
   ]
  },
  {
   "cell_type": "code",
   "execution_count": 16,
   "metadata": {},
   "outputs": [],
   "source": [
    "def kruskal_test(df,dependent_variable,between):\n",
    "    \"\"\"Do Kruskal-Wallis analysis\"\"\"\n",
    "    #Kruskal-Wallis one way analysis of variance\n",
    "    return kruskal(data=df, dv=dependent_variable, between=between)\n",
    "    "
   ]
  },
  {
   "cell_type": "code",
   "execution_count": 17,
   "metadata": {},
   "outputs": [],
   "source": [
    "def dunn_posthoc_test(df,dependent_variable, between):\n",
    "    \"\"\"dunn_posthoc tests with bonferroni multiple correction\"\"\"\n",
    "    return sp.posthoc_dunn(df, val_col=dependent_variable, group_col=between, p_adjust='bonferroni')"
   ]
  },
  {
   "cell_type": "code",
   "execution_count": 18,
   "metadata": {},
   "outputs": [],
   "source": [
    "df = GC_content_Czechowski_gene_categories\n",
    "dependent_variable = 'percentage_GC_content'\n",
    "between_variable = 'gene_type'"
   ]
  },
  {
   "cell_type": "code",
   "execution_count": 19,
   "metadata": {},
   "outputs": [
    {
     "name": "stdout",
     "output_type": "stream",
     "text": [
      "constitutive: (0.9903396368026733, 0.6920543313026428)\n",
      "variable: (0.9584008455276489, 0.0030977900605648756)\n",
      "control: (0.9497858881950378, 0.0008030934841372073)\n"
     ]
    }
   ],
   "source": [
    "test_normality(df,dependent_variable,between_variable)"
   ]
  },
  {
   "cell_type": "markdown",
   "metadata": {},
   "source": [
    "### not normal"
   ]
  },
  {
   "cell_type": "code",
   "execution_count": 20,
   "metadata": {},
   "outputs": [
    {
     "data": {
      "text/plain": [
       "LeveneResult(statistic=1.3982322563825782, pvalue=0.24865456979307424)"
      ]
     },
     "execution_count": 20,
     "metadata": {},
     "output_type": "execute_result"
    }
   ],
   "source": [
    "variance(df,dependent_variable,between_variable)"
   ]
  },
  {
   "cell_type": "markdown",
   "metadata": {},
   "source": [
    "### fail to reject null hypothesis that variances are equal"
   ]
  },
  {
   "cell_type": "code",
   "execution_count": 21,
   "metadata": {},
   "outputs": [
    {
     "data": {
      "text/html": [
       "<div>\n",
       "<style scoped>\n",
       "    .dataframe tbody tr th:only-of-type {\n",
       "        vertical-align: middle;\n",
       "    }\n",
       "\n",
       "    .dataframe tbody tr th {\n",
       "        vertical-align: top;\n",
       "    }\n",
       "\n",
       "    .dataframe thead th {\n",
       "        text-align: right;\n",
       "    }\n",
       "</style>\n",
       "<table border=\"1\" class=\"dataframe\">\n",
       "  <thead>\n",
       "    <tr style=\"text-align: right;\">\n",
       "      <th></th>\n",
       "      <th>count</th>\n",
       "      <th>mean</th>\n",
       "      <th>std</th>\n",
       "      <th>min</th>\n",
       "      <th>25%</th>\n",
       "      <th>50%</th>\n",
       "      <th>75%</th>\n",
       "      <th>max</th>\n",
       "    </tr>\n",
       "    <tr>\n",
       "      <th>gene_type</th>\n",
       "      <th></th>\n",
       "      <th></th>\n",
       "      <th></th>\n",
       "      <th></th>\n",
       "      <th></th>\n",
       "      <th></th>\n",
       "      <th></th>\n",
       "      <th></th>\n",
       "    </tr>\n",
       "  </thead>\n",
       "  <tbody>\n",
       "    <tr>\n",
       "      <th>constitutive</th>\n",
       "      <td>100.0</td>\n",
       "      <td>33.161741</td>\n",
       "      <td>4.492243</td>\n",
       "      <td>22.515391</td>\n",
       "      <td>29.873661</td>\n",
       "      <td>33.469604</td>\n",
       "      <td>35.752280</td>\n",
       "      <td>44.444444</td>\n",
       "    </tr>\n",
       "    <tr>\n",
       "      <th>control</th>\n",
       "      <td>100.0</td>\n",
       "      <td>33.106605</td>\n",
       "      <td>4.237319</td>\n",
       "      <td>24.314766</td>\n",
       "      <td>30.173016</td>\n",
       "      <td>32.340274</td>\n",
       "      <td>35.438814</td>\n",
       "      <td>45.714286</td>\n",
       "    </tr>\n",
       "    <tr>\n",
       "      <th>variable</th>\n",
       "      <td>100.0</td>\n",
       "      <td>31.761399</td>\n",
       "      <td>3.596762</td>\n",
       "      <td>25.407166</td>\n",
       "      <td>28.774870</td>\n",
       "      <td>31.265023</td>\n",
       "      <td>33.992880</td>\n",
       "      <td>43.415340</td>\n",
       "    </tr>\n",
       "  </tbody>\n",
       "</table>\n",
       "</div>"
      ],
      "text/plain": [
       "              count       mean       std        min        25%        50%  \\\n",
       "gene_type                                                                   \n",
       "constitutive  100.0  33.161741  4.492243  22.515391  29.873661  33.469604   \n",
       "control       100.0  33.106605  4.237319  24.314766  30.173016  32.340274   \n",
       "variable      100.0  31.761399  3.596762  25.407166  28.774870  31.265023   \n",
       "\n",
       "                    75%        max  \n",
       "gene_type                           \n",
       "constitutive  35.752280  44.444444  \n",
       "control       35.438814  45.714286  \n",
       "variable      33.992880  43.415340  "
      ]
     },
     "execution_count": 21,
     "metadata": {},
     "output_type": "execute_result"
    }
   ],
   "source": [
    "#descriptive stats\n",
    "describe_stats(df,dependent_variable,between_variable)"
   ]
  },
  {
   "cell_type": "code",
   "execution_count": 22,
   "metadata": {},
   "outputs": [
    {
     "data": {
      "text/html": [
       "<div>\n",
       "<style scoped>\n",
       "    .dataframe tbody tr th:only-of-type {\n",
       "        vertical-align: middle;\n",
       "    }\n",
       "\n",
       "    .dataframe tbody tr th {\n",
       "        vertical-align: top;\n",
       "    }\n",
       "\n",
       "    .dataframe thead th {\n",
       "        text-align: right;\n",
       "    }\n",
       "</style>\n",
       "<table border=\"1\" class=\"dataframe\">\n",
       "  <thead>\n",
       "    <tr style=\"text-align: right;\">\n",
       "      <th></th>\n",
       "      <th>Source</th>\n",
       "      <th>ddof1</th>\n",
       "      <th>H</th>\n",
       "      <th>p-unc</th>\n",
       "    </tr>\n",
       "  </thead>\n",
       "  <tbody>\n",
       "    <tr>\n",
       "      <th>Kruskal</th>\n",
       "      <td>gene_type</td>\n",
       "      <td>2</td>\n",
       "      <td>8.700172</td>\n",
       "      <td>0.012906</td>\n",
       "    </tr>\n",
       "  </tbody>\n",
       "</table>\n",
       "</div>"
      ],
      "text/plain": [
       "            Source  ddof1         H     p-unc\n",
       "Kruskal  gene_type      2  8.700172  0.012906"
      ]
     },
     "execution_count": 22,
     "metadata": {},
     "output_type": "execute_result"
    }
   ],
   "source": [
    "kruskal_test(df,dependent_variable,between_variable)"
   ]
  },
  {
   "cell_type": "markdown",
   "metadata": {},
   "source": [
    "### significant difference, do post hoc tests"
   ]
  },
  {
   "cell_type": "code",
   "execution_count": 23,
   "metadata": {},
   "outputs": [
    {
     "data": {
      "text/html": [
       "<div>\n",
       "<style scoped>\n",
       "    .dataframe tbody tr th:only-of-type {\n",
       "        vertical-align: middle;\n",
       "    }\n",
       "\n",
       "    .dataframe tbody tr th {\n",
       "        vertical-align: top;\n",
       "    }\n",
       "\n",
       "    .dataframe thead th {\n",
       "        text-align: right;\n",
       "    }\n",
       "</style>\n",
       "<table border=\"1\" class=\"dataframe\">\n",
       "  <thead>\n",
       "    <tr style=\"text-align: right;\">\n",
       "      <th></th>\n",
       "      <th>constitutive</th>\n",
       "      <th>control</th>\n",
       "      <th>variable</th>\n",
       "    </tr>\n",
       "  </thead>\n",
       "  <tbody>\n",
       "    <tr>\n",
       "      <th>constitutive</th>\n",
       "      <td>-1.000000</td>\n",
       "      <td>1.000000</td>\n",
       "      <td>0.014244</td>\n",
       "    </tr>\n",
       "    <tr>\n",
       "      <th>control</th>\n",
       "      <td>1.000000</td>\n",
       "      <td>-1.000000</td>\n",
       "      <td>0.094585</td>\n",
       "    </tr>\n",
       "    <tr>\n",
       "      <th>variable</th>\n",
       "      <td>0.014244</td>\n",
       "      <td>0.094585</td>\n",
       "      <td>-1.000000</td>\n",
       "    </tr>\n",
       "  </tbody>\n",
       "</table>\n",
       "</div>"
      ],
      "text/plain": [
       "              constitutive   control  variable\n",
       "constitutive     -1.000000  1.000000  0.014244\n",
       "control           1.000000 -1.000000  0.094585\n",
       "variable          0.014244  0.094585 -1.000000"
      ]
     },
     "execution_count": 23,
     "metadata": {},
     "output_type": "execute_result"
    }
   ],
   "source": [
    "#run Dunn's post-hoc test\n",
    "dunn_posthoc_test(df,dependent_variable,between_variable)"
   ]
  },
  {
   "cell_type": "markdown",
   "metadata": {},
   "source": [
    "### constitutive significantly higher GC content than variable genes"
   ]
  },
  {
   "cell_type": "code",
   "execution_count": null,
   "metadata": {},
   "outputs": [],
   "source": []
  },
  {
   "cell_type": "code",
   "execution_count": null,
   "metadata": {},
   "outputs": [],
   "source": []
  }
 ],
 "metadata": {
  "kernelspec": {
   "display_name": "Python [conda env:PromoterArchitecturePipeline] *",
   "language": "python",
   "name": "conda-env-PromoterArchitecturePipeline-py"
  },
  "language_info": {
   "codemirror_mode": {
    "name": "ipython",
    "version": 3
   },
   "file_extension": ".py",
   "mimetype": "text/x-python",
   "name": "python",
   "nbconvert_exporter": "python",
   "pygments_lexer": "ipython3",
   "version": "3.7.6"
  }
 },
 "nbformat": 4,
 "nbformat_minor": 4
}
