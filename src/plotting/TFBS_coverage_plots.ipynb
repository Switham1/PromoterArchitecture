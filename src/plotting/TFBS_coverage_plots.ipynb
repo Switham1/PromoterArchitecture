{
 "cells": [
  {
   "cell_type": "code",
   "execution_count": 2,
   "metadata": {},
   "outputs": [],
   "source": [
    "import pandas as pd\n",
    "import numpy as np\n",
    "import seaborn as sns\n",
    "import matplotlib.pyplot as plt\n",
    "from scipy import stats\n",
    "from statsmodels.formula.api import ols\n",
    "import researchpy as rp"
   ]
  },
  {
   "cell_type": "markdown",
   "metadata": {},
   "source": [
    "#### read in TFBS_bp_covered file"
   ]
  },
  {
   "cell_type": "code",
   "execution_count": 3,
   "metadata": {},
   "outputs": [],
   "source": [
    "bp_covered = '../../data/promoter_analysis/promoters.bp_covered.txt'"
   ]
  },
  {
   "cell_type": "code",
   "execution_count": 4,
   "metadata": {},
   "outputs": [],
   "source": [
    "coverage_df = pd.read_table(bp_covered, sep='\\t', header=None)\n",
    "col = ['chr','start','stop','gene','dot','strand','source', 'type', 'dot2', 'details', 'no._of_overlaps', 'no._of_bases_covered','promoter_length','fraction_bases_covered']\n",
    "coverage_df.columns = col\n",
    "#add % bases covered column\n",
    "coverage_df['percentage_bases_covered'] = coverage_df.fraction_bases_covered * 100\n",
    "\n",
    "#remove unnecessary columns\n",
    "coverage_df_reduced_columns = coverage_df[['chr','start','stop','gene','strand', 'no._of_overlaps', 'no._of_bases_covered','promoter_length','fraction_bases_covered','percentage_bases_covered']]\n"
   ]
  },
  {
   "cell_type": "code",
   "execution_count": 5,
   "metadata": {},
   "outputs": [
    {
     "data": {
      "text/html": [
       "<div>\n",
       "<style scoped>\n",
       "    .dataframe tbody tr th:only-of-type {\n",
       "        vertical-align: middle;\n",
       "    }\n",
       "\n",
       "    .dataframe tbody tr th {\n",
       "        vertical-align: top;\n",
       "    }\n",
       "\n",
       "    .dataframe thead th {\n",
       "        text-align: right;\n",
       "    }\n",
       "</style>\n",
       "<table border=\"1\" class=\"dataframe\">\n",
       "  <thead>\n",
       "    <tr style=\"text-align: right;\">\n",
       "      <th></th>\n",
       "      <th>chr</th>\n",
       "      <th>start</th>\n",
       "      <th>stop</th>\n",
       "      <th>gene</th>\n",
       "      <th>strand</th>\n",
       "      <th>no._of_overlaps</th>\n",
       "      <th>no._of_bases_covered</th>\n",
       "      <th>promoter_length</th>\n",
       "      <th>fraction_bases_covered</th>\n",
       "      <th>percentage_bases_covered</th>\n",
       "    </tr>\n",
       "  </thead>\n",
       "  <tbody>\n",
       "    <tr>\n",
       "      <th>0</th>\n",
       "      <td>1</td>\n",
       "      <td>2630</td>\n",
       "      <td>3630</td>\n",
       "      <td>AT1G01010</td>\n",
       "      <td>+</td>\n",
       "      <td>6</td>\n",
       "      <td>51</td>\n",
       "      <td>1000</td>\n",
       "      <td>0.05100</td>\n",
       "      <td>5.100</td>\n",
       "    </tr>\n",
       "    <tr>\n",
       "      <th>1</th>\n",
       "      <td>1</td>\n",
       "      <td>9130</td>\n",
       "      <td>10130</td>\n",
       "      <td>AT1G01020</td>\n",
       "      <td>-</td>\n",
       "      <td>13</td>\n",
       "      <td>83</td>\n",
       "      <td>1000</td>\n",
       "      <td>0.08300</td>\n",
       "      <td>8.300</td>\n",
       "    </tr>\n",
       "    <tr>\n",
       "      <th>2</th>\n",
       "      <td>1</td>\n",
       "      <td>10100</td>\n",
       "      <td>11100</td>\n",
       "      <td>AT1G03987</td>\n",
       "      <td>+</td>\n",
       "      <td>41</td>\n",
       "      <td>55</td>\n",
       "      <td>1000</td>\n",
       "      <td>0.05500</td>\n",
       "      <td>5.500</td>\n",
       "    </tr>\n",
       "    <tr>\n",
       "      <th>3</th>\n",
       "      <td>1</td>\n",
       "      <td>13714</td>\n",
       "      <td>14714</td>\n",
       "      <td>AT1G01030</td>\n",
       "      <td>-</td>\n",
       "      <td>22</td>\n",
       "      <td>71</td>\n",
       "      <td>1000</td>\n",
       "      <td>0.07100</td>\n",
       "      <td>7.100</td>\n",
       "    </tr>\n",
       "    <tr>\n",
       "      <th>4</th>\n",
       "      <td>1</td>\n",
       "      <td>22120</td>\n",
       "      <td>23120</td>\n",
       "      <td>AT1G01040</td>\n",
       "      <td>+</td>\n",
       "      <td>33</td>\n",
       "      <td>135</td>\n",
       "      <td>1000</td>\n",
       "      <td>0.13500</td>\n",
       "      <td>13.500</td>\n",
       "    </tr>\n",
       "    <tr>\n",
       "      <th>...</th>\n",
       "      <td>...</td>\n",
       "      <td>...</td>\n",
       "      <td>...</td>\n",
       "      <td>...</td>\n",
       "      <td>...</td>\n",
       "      <td>...</td>\n",
       "      <td>...</td>\n",
       "      <td>...</td>\n",
       "      <td>...</td>\n",
       "      <td>...</td>\n",
       "    </tr>\n",
       "    <tr>\n",
       "      <th>33336</th>\n",
       "      <td>mitochondria</td>\n",
       "      <td>361052</td>\n",
       "      <td>362052</td>\n",
       "      <td>ATmitochondriaG01370</td>\n",
       "      <td>-</td>\n",
       "      <td>264</td>\n",
       "      <td>138</td>\n",
       "      <td>1000</td>\n",
       "      <td>0.13800</td>\n",
       "      <td>13.800</td>\n",
       "    </tr>\n",
       "    <tr>\n",
       "      <th>33337</th>\n",
       "      <td>mitochondria</td>\n",
       "      <td>361179</td>\n",
       "      <td>362179</td>\n",
       "      <td>ATmitochondriaG01380</td>\n",
       "      <td>-</td>\n",
       "      <td>264</td>\n",
       "      <td>138</td>\n",
       "      <td>1000</td>\n",
       "      <td>0.13800</td>\n",
       "      <td>13.800</td>\n",
       "    </tr>\n",
       "    <tr>\n",
       "      <th>33338</th>\n",
       "      <td>mitochondria</td>\n",
       "      <td>362724</td>\n",
       "      <td>363724</td>\n",
       "      <td>ATmitochondriaG01400</td>\n",
       "      <td>+</td>\n",
       "      <td>7</td>\n",
       "      <td>41</td>\n",
       "      <td>1000</td>\n",
       "      <td>0.04100</td>\n",
       "      <td>4.100</td>\n",
       "    </tr>\n",
       "    <tr>\n",
       "      <th>33339</th>\n",
       "      <td>mitochondria</td>\n",
       "      <td>363284</td>\n",
       "      <td>364284</td>\n",
       "      <td>ATmitochondriaG01390</td>\n",
       "      <td>-</td>\n",
       "      <td>4</td>\n",
       "      <td>20</td>\n",
       "      <td>1000</td>\n",
       "      <td>0.02000</td>\n",
       "      <td>2.000</td>\n",
       "    </tr>\n",
       "    <tr>\n",
       "      <th>33340</th>\n",
       "      <td>mitochondria</td>\n",
       "      <td>366700</td>\n",
       "      <td>366924</td>\n",
       "      <td>ATmitochondriaG01410</td>\n",
       "      <td>-</td>\n",
       "      <td>1</td>\n",
       "      <td>21</td>\n",
       "      <td>224</td>\n",
       "      <td>0.09375</td>\n",
       "      <td>9.375</td>\n",
       "    </tr>\n",
       "  </tbody>\n",
       "</table>\n",
       "<p>33341 rows × 10 columns</p>\n",
       "</div>"
      ],
      "text/plain": [
       "                chr   start    stop                  gene strand  \\\n",
       "0                 1    2630    3630             AT1G01010      +   \n",
       "1                 1    9130   10130             AT1G01020      -   \n",
       "2                 1   10100   11100             AT1G03987      +   \n",
       "3                 1   13714   14714             AT1G01030      -   \n",
       "4                 1   22120   23120             AT1G01040      +   \n",
       "...             ...     ...     ...                   ...    ...   \n",
       "33336  mitochondria  361052  362052  ATmitochondriaG01370      -   \n",
       "33337  mitochondria  361179  362179  ATmitochondriaG01380      -   \n",
       "33338  mitochondria  362724  363724  ATmitochondriaG01400      +   \n",
       "33339  mitochondria  363284  364284  ATmitochondriaG01390      -   \n",
       "33340  mitochondria  366700  366924  ATmitochondriaG01410      -   \n",
       "\n",
       "       no._of_overlaps  no._of_bases_covered  promoter_length  \\\n",
       "0                    6                    51             1000   \n",
       "1                   13                    83             1000   \n",
       "2                   41                    55             1000   \n",
       "3                   22                    71             1000   \n",
       "4                   33                   135             1000   \n",
       "...                ...                   ...              ...   \n",
       "33336              264                   138             1000   \n",
       "33337              264                   138             1000   \n",
       "33338                7                    41             1000   \n",
       "33339                4                    20             1000   \n",
       "33340                1                    21              224   \n",
       "\n",
       "       fraction_bases_covered  percentage_bases_covered  \n",
       "0                     0.05100                     5.100  \n",
       "1                     0.08300                     8.300  \n",
       "2                     0.05500                     5.500  \n",
       "3                     0.07100                     7.100  \n",
       "4                     0.13500                    13.500  \n",
       "...                       ...                       ...  \n",
       "33336                 0.13800                    13.800  \n",
       "33337                 0.13800                    13.800  \n",
       "33338                 0.04100                     4.100  \n",
       "33339                 0.02000                     2.000  \n",
       "33340                 0.09375                     9.375  \n",
       "\n",
       "[33341 rows x 10 columns]"
      ]
     },
     "execution_count": 5,
     "metadata": {},
     "output_type": "execute_result"
    }
   ],
   "source": [
    "coverage_df_reduced_columns"
   ]
  },
  {
   "cell_type": "code",
   "execution_count": 6,
   "metadata": {},
   "outputs": [],
   "source": [
    "#allow colour codes in seaborn\n",
    "sns.set(color_codes=True)\n",
    "sns.set_style(\"whitegrid\")"
   ]
  },
  {
   "cell_type": "markdown",
   "metadata": {},
   "source": [
    "#### Make distribution plot of all gene promoters"
   ]
  },
  {
   "cell_type": "code",
   "execution_count": 7,
   "metadata": {},
   "outputs": [
    {
     "data": {
      "image/png": "[encoded data removed]",
      "text/plain": [
       "<Figure size 432x288 with 1 Axes>"
      ]
     },
     "metadata": {},
     "output_type": "display_data"
    }
   ],
   "source": [
    "dist_plot = coverage_df_reduced_columns['percentage_bases_covered']\n",
    "#create figure with no transparency\n",
    "dist_plot_fig = sns.distplot(dist_plot).get_figure()\n",
    "\n",
    "#save to file\n",
    "dist_plot_fig.savefig('../../data/plots/TFBS_coverage/all_genes_bp_covered_dist.pdf', format='pdf')\n"
   ]
  },
  {
   "cell_type": "markdown",
   "metadata": {},
   "source": [
    "### constitutive vs responsive genes"
   ]
  },
  {
   "cell_type": "code",
   "execution_count": 8,
   "metadata": {},
   "outputs": [],
   "source": [
    "responsive_bp_covered = '../../data/promoter_analysis/responsivepromoters.bp_covered.txt'"
   ]
  },
  {
   "cell_type": "code",
   "execution_count": 9,
   "metadata": {},
   "outputs": [],
   "source": [
    "coverage_df2 = pd.read_table(responsive_bp_covered, sep='\\t', header=None)\n",
    "col = ['chr','start','stop','gene','dot','strand','source', 'type', 'dot2', 'details', 'no._of_overlaps', 'no._of_bases_covered','promoter_length','fraction_bases_covered']\n",
    "coverage_df2.columns = col\n",
    "#add % bases covered column\n",
    "coverage_df2['percentage_bases_covered'] = coverage_df2.fraction_bases_covered * 100\n",
    "\n",
    "#remove unnecessary columns\n",
    "coverage_df2_reduced_columns = coverage_df2[['chr','start','stop','gene','strand', 'no._of_overlaps', 'no._of_bases_covered','promoter_length','fraction_bases_covered','percentage_bases_covered']]"
   ]
  },
  {
   "cell_type": "markdown",
   "metadata": {},
   "source": [
    "#### add promoter type column"
   ]
  },
  {
   "cell_type": "code",
   "execution_count": 10,
   "metadata": {},
   "outputs": [],
   "source": [
    "select_genes_file = '../../data/genomes/ara_housekeeping_list.out'\n",
    "select_genes = pd.read_table(select_genes_file, sep='\\t', header=None)\n",
    "cols = ['gene','gene_type']\n",
    "select_genes.columns = cols\n",
    "merged = pd.merge(coverage_df2_reduced_columns, select_genes, on='gene' )"
   ]
  },
  {
   "cell_type": "code",
   "execution_count": 11,
   "metadata": {},
   "outputs": [
    {
     "data": {
      "text/html": [
       "<div>\n",
       "<style scoped>\n",
       "    .dataframe tbody tr th:only-of-type {\n",
       "        vertical-align: middle;\n",
       "    }\n",
       "\n",
       "    .dataframe tbody tr th {\n",
       "        vertical-align: top;\n",
       "    }\n",
       "\n",
       "    .dataframe thead th {\n",
       "        text-align: right;\n",
       "    }\n",
       "</style>\n",
       "<table border=\"1\" class=\"dataframe\">\n",
       "  <thead>\n",
       "    <tr style=\"text-align: right;\">\n",
       "      <th></th>\n",
       "      <th>chr</th>\n",
       "      <th>start</th>\n",
       "      <th>stop</th>\n",
       "      <th>gene</th>\n",
       "      <th>strand</th>\n",
       "      <th>no._of_overlaps</th>\n",
       "      <th>no._of_bases_covered</th>\n",
       "      <th>promoter_length</th>\n",
       "      <th>fraction_bases_covered</th>\n",
       "      <th>percentage_bases_covered</th>\n",
       "      <th>gene_type</th>\n",
       "    </tr>\n",
       "  </thead>\n",
       "  <tbody>\n",
       "    <tr>\n",
       "      <th>0</th>\n",
       "      <td>1</td>\n",
       "      <td>33171</td>\n",
       "      <td>34171</td>\n",
       "      <td>AT1G01050</td>\n",
       "      <td>-</td>\n",
       "      <td>7</td>\n",
       "      <td>73</td>\n",
       "      <td>1000</td>\n",
       "      <td>0.073</td>\n",
       "      <td>7.3</td>\n",
       "      <td>randCont</td>\n",
       "    </tr>\n",
       "    <tr>\n",
       "      <th>1</th>\n",
       "      <td>1</td>\n",
       "      <td>281760</td>\n",
       "      <td>282760</td>\n",
       "      <td>AT1G01780</td>\n",
       "      <td>+</td>\n",
       "      <td>119</td>\n",
       "      <td>154</td>\n",
       "      <td>1000</td>\n",
       "      <td>0.154</td>\n",
       "      <td>15.4</td>\n",
       "      <td>highVar</td>\n",
       "    </tr>\n",
       "    <tr>\n",
       "      <th>2</th>\n",
       "      <td>1</td>\n",
       "      <td>316090</td>\n",
       "      <td>317090</td>\n",
       "      <td>AT1G01910</td>\n",
       "      <td>-</td>\n",
       "      <td>25</td>\n",
       "      <td>122</td>\n",
       "      <td>1000</td>\n",
       "      <td>0.122</td>\n",
       "      <td>12.2</td>\n",
       "      <td>housekeeping</td>\n",
       "    </tr>\n",
       "    <tr>\n",
       "      <th>3</th>\n",
       "      <td>1</td>\n",
       "      <td>344515</td>\n",
       "      <td>345515</td>\n",
       "      <td>AT1G02000</td>\n",
       "      <td>+</td>\n",
       "      <td>8</td>\n",
       "      <td>90</td>\n",
       "      <td>1000</td>\n",
       "      <td>0.090</td>\n",
       "      <td>9.0</td>\n",
       "      <td>highVar</td>\n",
       "    </tr>\n",
       "    <tr>\n",
       "      <th>4</th>\n",
       "      <td>1</td>\n",
       "      <td>728829</td>\n",
       "      <td>729829</td>\n",
       "      <td>AT1G03070</td>\n",
       "      <td>+</td>\n",
       "      <td>101</td>\n",
       "      <td>121</td>\n",
       "      <td>1000</td>\n",
       "      <td>0.121</td>\n",
       "      <td>12.1</td>\n",
       "      <td>highVar</td>\n",
       "    </tr>\n",
       "    <tr>\n",
       "      <th>...</th>\n",
       "      <td>...</td>\n",
       "      <td>...</td>\n",
       "      <td>...</td>\n",
       "      <td>...</td>\n",
       "      <td>...</td>\n",
       "      <td>...</td>\n",
       "      <td>...</td>\n",
       "      <td>...</td>\n",
       "      <td>...</td>\n",
       "      <td>...</td>\n",
       "      <td>...</td>\n",
       "    </tr>\n",
       "    <tr>\n",
       "      <th>401</th>\n",
       "      <td>5</td>\n",
       "      <td>26120581</td>\n",
       "      <td>26121581</td>\n",
       "      <td>AT5G65360</td>\n",
       "      <td>-</td>\n",
       "      <td>8</td>\n",
       "      <td>82</td>\n",
       "      <td>1000</td>\n",
       "      <td>0.082</td>\n",
       "      <td>8.2</td>\n",
       "      <td>randCont</td>\n",
       "    </tr>\n",
       "    <tr>\n",
       "      <th>402</th>\n",
       "      <td>5</td>\n",
       "      <td>26171008</td>\n",
       "      <td>26172008</td>\n",
       "      <td>AT5G65470</td>\n",
       "      <td>+</td>\n",
       "      <td>6</td>\n",
       "      <td>71</td>\n",
       "      <td>1000</td>\n",
       "      <td>0.071</td>\n",
       "      <td>7.1</td>\n",
       "      <td>randCont</td>\n",
       "    </tr>\n",
       "    <tr>\n",
       "      <th>403</th>\n",
       "      <td>5</td>\n",
       "      <td>26467531</td>\n",
       "      <td>26468531</td>\n",
       "      <td>AT5G66250</td>\n",
       "      <td>+</td>\n",
       "      <td>1</td>\n",
       "      <td>14</td>\n",
       "      <td>1000</td>\n",
       "      <td>0.014</td>\n",
       "      <td>1.4</td>\n",
       "      <td>randCont</td>\n",
       "    </tr>\n",
       "    <tr>\n",
       "      <th>404</th>\n",
       "      <td>5</td>\n",
       "      <td>26817948</td>\n",
       "      <td>26818948</td>\n",
       "      <td>AT5G67210</td>\n",
       "      <td>+</td>\n",
       "      <td>20</td>\n",
       "      <td>161</td>\n",
       "      <td>1000</td>\n",
       "      <td>0.161</td>\n",
       "      <td>16.1</td>\n",
       "      <td>highVar</td>\n",
       "    </tr>\n",
       "    <tr>\n",
       "      <th>405</th>\n",
       "      <td>5</td>\n",
       "      <td>26956914</td>\n",
       "      <td>26957914</td>\n",
       "      <td>AT5G67590</td>\n",
       "      <td>+</td>\n",
       "      <td>24</td>\n",
       "      <td>127</td>\n",
       "      <td>1000</td>\n",
       "      <td>0.127</td>\n",
       "      <td>12.7</td>\n",
       "      <td>randCont</td>\n",
       "    </tr>\n",
       "  </tbody>\n",
       "</table>\n",
       "<p>406 rows × 11 columns</p>\n",
       "</div>"
      ],
      "text/plain": [
       "     chr     start      stop       gene strand  no._of_overlaps  \\\n",
       "0      1     33171     34171  AT1G01050      -                7   \n",
       "1      1    281760    282760  AT1G01780      +              119   \n",
       "2      1    316090    317090  AT1G01910      -               25   \n",
       "3      1    344515    345515  AT1G02000      +                8   \n",
       "4      1    728829    729829  AT1G03070      +              101   \n",
       "..   ...       ...       ...        ...    ...              ...   \n",
       "401    5  26120581  26121581  AT5G65360      -                8   \n",
       "402    5  26171008  26172008  AT5G65470      +                6   \n",
       "403    5  26467531  26468531  AT5G66250      +                1   \n",
       "404    5  26817948  26818948  AT5G67210      +               20   \n",
       "405    5  26956914  26957914  AT5G67590      +               24   \n",
       "\n",
       "     no._of_bases_covered  promoter_length  fraction_bases_covered  \\\n",
       "0                      73             1000                   0.073   \n",
       "1                     154             1000                   0.154   \n",
       "2                     122             1000                   0.122   \n",
       "3                      90             1000                   0.090   \n",
       "4                     121             1000                   0.121   \n",
       "..                    ...              ...                     ...   \n",
       "401                    82             1000                   0.082   \n",
       "402                    71             1000                   0.071   \n",
       "403                    14             1000                   0.014   \n",
       "404                   161             1000                   0.161   \n",
       "405                   127             1000                   0.127   \n",
       "\n",
       "     percentage_bases_covered     gene_type  \n",
       "0                         7.3      randCont  \n",
       "1                        15.4       highVar  \n",
       "2                        12.2  housekeeping  \n",
       "3                         9.0       highVar  \n",
       "4                        12.1       highVar  \n",
       "..                        ...           ...  \n",
       "401                       8.2      randCont  \n",
       "402                       7.1      randCont  \n",
       "403                       1.4      randCont  \n",
       "404                      16.1       highVar  \n",
       "405                      12.7      randCont  \n",
       "\n",
       "[406 rows x 11 columns]"
      ]
     },
     "execution_count": 11,
     "metadata": {},
     "output_type": "execute_result"
    }
   ],
   "source": [
    "merged"
   ]
  },
  {
   "cell_type": "markdown",
   "metadata": {},
   "source": [
    "#### scatterplots"
   ]
  },
  {
   "cell_type": "code",
   "execution_count": 12,
   "metadata": {},
   "outputs": [],
   "source": [
    "#set style to ticks\n",
    "sns.set(style=\"ticks\", color_codes=True)"
   ]
  },
  {
   "cell_type": "code",
   "execution_count": 13,
   "metadata": {},
   "outputs": [
    {
     "data": {
      "image/png": "[encoded data removed]",
      "text/plain": [
       "<Figure size 360x360 with 1 Axes>"
      ]
     },
     "metadata": {},
     "output_type": "display_data"
    }
   ],
   "source": [
    "sns.catplot(x=\"gene_type\", y=\"percentage_bases_covered\", data=merged).savefig('../../data/plots/TFBS_coverage/responsive_bp_covered.pdf', format='pdf')\n"
   ]
  },
  {
   "cell_type": "markdown",
   "metadata": {},
   "source": [
    "##### it looks like there is no difference!"
   ]
  },
  {
   "cell_type": "markdown",
   "metadata": {},
   "source": [
    "#### boxplot"
   ]
  },
  {
   "cell_type": "code",
   "execution_count": 14,
   "metadata": {},
   "outputs": [
    {
     "data": {
      "image/png": "[encoded data removed]",
      "text/plain": [
       "<Figure size 360x360 with 1 Axes>"
      ]
     },
     "metadata": {},
     "output_type": "display_data"
    }
   ],
   "source": [
    "sns.catplot(x=\"gene_type\", y=\"percentage_bases_covered\", kind='box', data=merged)\n",
    "#plot points\n",
    "ax = sns.swarmplot(x=\"gene_type\", y=\"percentage_bases_covered\", data=merged, color=\".25\").get_figure().savefig('../../data/plots/TFBS_coverage/responsive_bp_covered_boxplot.pdf', format='pdf')"
   ]
  },
  {
   "cell_type": "markdown",
   "metadata": {},
   "source": [
    "#### violin plot"
   ]
  },
  {
   "cell_type": "code",
   "execution_count": 15,
   "metadata": {},
   "outputs": [
    {
     "data": {
      "image/png": "[encoded data removed]",
      "text/plain": [
       "<Figure size 360x360 with 1 Axes>"
      ]
     },
     "metadata": {},
     "output_type": "display_data"
    }
   ],
   "source": [
    "sns.catplot(x=\"gene_type\", y=\"percentage_bases_covered\", kind='violin', data=merged).savefig('../../data/plots/TFBS_coverage/responsive_bp_covered_violinplot.pdf', format='pdf')\n"
   ]
  },
  {
   "cell_type": "markdown",
   "metadata": {},
   "source": [
    "### stats"
   ]
  },
  {
   "cell_type": "markdown",
   "metadata": {},
   "source": [
    "###group_by gene type"
   ]
  },
  {
   "cell_type": "code",
   "execution_count": 16,
   "metadata": {},
   "outputs": [
    {
     "name": "stdout",
     "output_type": "stream",
     "text": [
      "('highVar', 11.82)\n",
      "('housekeeping', 12.235999999999999)\n",
      "('randCont', 11.683980582524272)\n"
     ]
    }
   ],
   "source": [
    "groupby_genetype = merged.groupby('gene_type')\n",
    "for type, value in groupby_genetype['percentage_bases_covered']:\n",
    "    print((type, value.mean()))"
   ]
  },
  {
   "cell_type": "code",
   "execution_count": 17,
   "metadata": {},
   "outputs": [
    {
     "data": {
      "text/html": [
       "<div>\n",
       "<style scoped>\n",
       "    .dataframe tbody tr th:only-of-type {\n",
       "        vertical-align: middle;\n",
       "    }\n",
       "\n",
       "    .dataframe tbody tr th {\n",
       "        vertical-align: top;\n",
       "    }\n",
       "\n",
       "    .dataframe thead th {\n",
       "        text-align: right;\n",
       "    }\n",
       "</style>\n",
       "<table border=\"1\" class=\"dataframe\">\n",
       "  <thead>\n",
       "    <tr style=\"text-align: right;\">\n",
       "      <th></th>\n",
       "      <th>chr</th>\n",
       "      <th>start</th>\n",
       "      <th>stop</th>\n",
       "      <th>no._of_overlaps</th>\n",
       "      <th>no._of_bases_covered</th>\n",
       "      <th>promoter_length</th>\n",
       "      <th>fraction_bases_covered</th>\n",
       "      <th>percentage_bases_covered</th>\n",
       "    </tr>\n",
       "    <tr>\n",
       "      <th>gene_type</th>\n",
       "      <th></th>\n",
       "      <th></th>\n",
       "      <th></th>\n",
       "      <th></th>\n",
       "      <th></th>\n",
       "      <th></th>\n",
       "      <th></th>\n",
       "      <th></th>\n",
       "    </tr>\n",
       "  </thead>\n",
       "  <tbody>\n",
       "    <tr>\n",
       "      <th>highVar</th>\n",
       "      <td>3.000000</td>\n",
       "      <td>1.133520e+07</td>\n",
       "      <td>1.133620e+07</td>\n",
       "      <td>37.710000</td>\n",
       "      <td>118.200000</td>\n",
       "      <td>1000.0</td>\n",
       "      <td>0.11820</td>\n",
       "      <td>11.820000</td>\n",
       "    </tr>\n",
       "    <tr>\n",
       "      <th>housekeeping</th>\n",
       "      <td>2.790000</td>\n",
       "      <td>1.278677e+07</td>\n",
       "      <td>1.278777e+07</td>\n",
       "      <td>35.900000</td>\n",
       "      <td>122.360000</td>\n",
       "      <td>1000.0</td>\n",
       "      <td>0.12236</td>\n",
       "      <td>12.236000</td>\n",
       "    </tr>\n",
       "    <tr>\n",
       "      <th>randCont</th>\n",
       "      <td>2.907767</td>\n",
       "      <td>1.255818e+07</td>\n",
       "      <td>1.255918e+07</td>\n",
       "      <td>43.184466</td>\n",
       "      <td>116.839806</td>\n",
       "      <td>1000.0</td>\n",
       "      <td>0.11684</td>\n",
       "      <td>11.683981</td>\n",
       "    </tr>\n",
       "  </tbody>\n",
       "</table>\n",
       "</div>"
      ],
      "text/plain": [
       "                   chr         start          stop  no._of_overlaps  \\\n",
       "gene_type                                                             \n",
       "highVar       3.000000  1.133520e+07  1.133620e+07        37.710000   \n",
       "housekeeping  2.790000  1.278677e+07  1.278777e+07        35.900000   \n",
       "randCont      2.907767  1.255818e+07  1.255918e+07        43.184466   \n",
       "\n",
       "              no._of_bases_covered  promoter_length  fraction_bases_covered  \\\n",
       "gene_type                                                                     \n",
       "highVar                 118.200000           1000.0                 0.11820   \n",
       "housekeeping            122.360000           1000.0                 0.12236   \n",
       "randCont                116.839806           1000.0                 0.11684   \n",
       "\n",
       "              percentage_bases_covered  \n",
       "gene_type                               \n",
       "highVar                      11.820000  \n",
       "housekeeping                 12.236000  \n",
       "randCont                     11.683981  "
      ]
     },
     "execution_count": 17,
     "metadata": {},
     "output_type": "execute_result"
    }
   ],
   "source": [
    "groupby_genetype.mean()"
   ]
  },
  {
   "cell_type": "markdown",
   "metadata": {},
   "source": [
    "#### normality test (based on D’Agostino and Pearson’s test)"
   ]
  },
  {
   "cell_type": "code",
   "execution_count": 18,
   "metadata": {},
   "outputs": [
    {
     "name": "stdout",
     "output_type": "stream",
     "text": [
      "Statistics112.137, p=0.000\n"
     ]
    }
   ],
   "source": [
    "stat, p = stats.normaltest(merged['percentage_bases_covered'])\n",
    "print('Statistics%.3f, p=%.3f' % (stat, p))"
   ]
  },
  {
   "cell_type": "code",
   "execution_count": 19,
   "metadata": {},
   "outputs": [
    {
     "name": "stdout",
     "output_type": "stream",
     "text": [
      "The null hypothesis can be rejected\n"
     ]
    }
   ],
   "source": [
    "alpha = 0.05\n",
    "# null hypothesis: x comes from a normal distributionprint\n",
    "if p < alpha:\n",
    "    print(\"The null hypothesis can be rejected\")\n",
    "else:\n",
    "    print(\"The null hypothesis cannot be rejected\")"
   ]
  },
  {
   "cell_type": "markdown",
   "metadata": {},
   "source": [
    "#### data is not normal"
   ]
  },
  {
   "cell_type": "markdown",
   "metadata": {},
   "source": [
    "### test variance"
   ]
  },
  {
   "cell_type": "code",
   "execution_count": 20,
   "metadata": {},
   "outputs": [],
   "source": [
    "#create linear model of gene type by %bases_covered\n",
    "model = ols('percentage_bases_covered ~ gene_type', merged).fit()"
   ]
  },
  {
   "cell_type": "code",
   "execution_count": 21,
   "metadata": {},
   "outputs": [
    {
     "name": "stdout",
     "output_type": "stream",
     "text": [
      "                               OLS Regression Results                               \n",
      "====================================================================================\n",
      "Dep. Variable:     percentage_bases_covered   R-squared:                       0.001\n",
      "Model:                                  OLS   Adj. R-squared:                 -0.004\n",
      "Method:                       Least Squares   F-statistic:                    0.2192\n",
      "Date:                      Sun, 24 Nov 2019   Prob (F-statistic):              0.803\n",
      "Time:                              11:15:39   Log-Likelihood:                -1356.8\n",
      "No. Observations:                       406   AIC:                             2720.\n",
      "Df Residuals:                           403   BIC:                             2732.\n",
      "Df Model:                                 2                                         \n",
      "Covariance Type:                  nonrobust                                         \n",
      "=============================================================================================\n",
      "                                coef    std err          t      P>|t|      [0.025      0.975]\n",
      "---------------------------------------------------------------------------------------------\n",
      "Intercept                    11.8200      0.687     17.216      0.000      10.470      13.170\n",
      "gene_type[T.housekeeping]     0.4160      0.971      0.428      0.669      -1.493       2.325\n",
      "gene_type[T.randCont]        -0.1360      0.837     -0.163      0.871      -1.781       1.509\n",
      "==============================================================================\n",
      "Omnibus:                      112.195   Durbin-Watson:                   1.922\n",
      "Prob(Omnibus):                  0.000   Jarque-Bera (JB):              321.469\n",
      "Skew:                           1.294   Prob(JB):                     1.56e-70\n",
      "Kurtosis:                       6.508   Cond. No.                         4.42\n",
      "==============================================================================\n",
      "\n",
      "Warnings:\n",
      "[1] Standard Errors assume that the covariance matrix of the errors is correctly specified.\n"
     ]
    }
   ],
   "source": [
    "#summary\n",
    "print(model.summary())"
   ]
  },
  {
   "cell_type": "code",
   "execution_count": null,
   "metadata": {},
   "outputs": [],
   "source": []
  },
  {
   "cell_type": "markdown",
   "metadata": {},
   "source": [
    "### descriptive stats"
   ]
  },
  {
   "cell_type": "code",
   "execution_count": 22,
   "metadata": {},
   "outputs": [
    {
     "data": {
      "text/html": [
       "<div>\n",
       "<style scoped>\n",
       "    .dataframe tbody tr th:only-of-type {\n",
       "        vertical-align: middle;\n",
       "    }\n",
       "\n",
       "    .dataframe tbody tr th {\n",
       "        vertical-align: top;\n",
       "    }\n",
       "\n",
       "    .dataframe thead th {\n",
       "        text-align: right;\n",
       "    }\n",
       "</style>\n",
       "<table border=\"1\" class=\"dataframe\">\n",
       "  <thead>\n",
       "    <tr style=\"text-align: right;\">\n",
       "      <th></th>\n",
       "      <th>count</th>\n",
       "      <th>mean</th>\n",
       "      <th>std</th>\n",
       "      <th>min</th>\n",
       "      <th>25%</th>\n",
       "      <th>50%</th>\n",
       "      <th>75%</th>\n",
       "      <th>max</th>\n",
       "    </tr>\n",
       "    <tr>\n",
       "      <th>gene_type</th>\n",
       "      <th></th>\n",
       "      <th></th>\n",
       "      <th></th>\n",
       "      <th></th>\n",
       "      <th></th>\n",
       "      <th></th>\n",
       "      <th></th>\n",
       "      <th></th>\n",
       "    </tr>\n",
       "  </thead>\n",
       "  <tbody>\n",
       "    <tr>\n",
       "      <th>highVar</th>\n",
       "      <td>100.0</td>\n",
       "      <td>11.820000</td>\n",
       "      <td>6.248766</td>\n",
       "      <td>0.0</td>\n",
       "      <td>6.575</td>\n",
       "      <td>9.7</td>\n",
       "      <td>16.35</td>\n",
       "      <td>32.6</td>\n",
       "    </tr>\n",
       "    <tr>\n",
       "      <th>housekeeping</th>\n",
       "      <td>100.0</td>\n",
       "      <td>12.236000</td>\n",
       "      <td>7.202153</td>\n",
       "      <td>0.0</td>\n",
       "      <td>7.200</td>\n",
       "      <td>11.5</td>\n",
       "      <td>15.15</td>\n",
       "      <td>40.9</td>\n",
       "    </tr>\n",
       "    <tr>\n",
       "      <th>randCont</th>\n",
       "      <td>206.0</td>\n",
       "      <td>11.683981</td>\n",
       "      <td>6.982905</td>\n",
       "      <td>0.0</td>\n",
       "      <td>7.100</td>\n",
       "      <td>10.6</td>\n",
       "      <td>15.15</td>\n",
       "      <td>47.9</td>\n",
       "    </tr>\n",
       "  </tbody>\n",
       "</table>\n",
       "</div>"
      ],
      "text/plain": [
       "              count       mean       std  min    25%   50%    75%   max\n",
       "gene_type                                                              \n",
       "highVar       100.0  11.820000  6.248766  0.0  6.575   9.7  16.35  32.6\n",
       "housekeeping  100.0  12.236000  7.202153  0.0  7.200  11.5  15.15  40.9\n",
       "randCont      206.0  11.683981  6.982905  0.0  7.100  10.6  15.15  47.9"
      ]
     },
     "execution_count": 22,
     "metadata": {},
     "output_type": "execute_result"
    }
   ],
   "source": [
    "merged.groupby(['gene_type'])['percentage_bases_covered'].describe()"
   ]
  },
  {
   "cell_type": "markdown",
   "metadata": {},
   "source": [
    "### make separate dfs based on gene_type"
   ]
  },
  {
   "cell_type": "code",
   "execution_count": 23,
   "metadata": {},
   "outputs": [],
   "source": [
    "constitutive = merged[merged.gene_type == 'highVar']\n",
    "#reset indexes so residuals can be calculated later\n",
    "constitutive.reset_index(inplace=True)\n",
    "\n",
    "responsive = merged[merged.gene_type == 'housekeeping']\n",
    "responsive.reset_index(inplace=True)\n",
    "\n",
    "control = merged[merged.gene_type == 'randCont']\n",
    "control.reset_index(inplace=True)"
   ]
  },
  {
   "cell_type": "code",
   "execution_count": 24,
   "metadata": {},
   "outputs": [],
   "source": [
    "#### test Homogeneity of variances"
   ]
  },
  {
   "cell_type": "code",
   "execution_count": 25,
   "metadata": {},
   "outputs": [
    {
     "name": "stdout",
     "output_type": "stream",
     "text": [
      "LeveneResult(statistic=0.10045933531478, pvalue=0.751613050777689)\n"
     ]
    }
   ],
   "source": [
    "print(stats.levene(constitutive.percentage_bases_covered, responsive.percentage_bases_covered))"
   ]
  },
  {
   "cell_type": "markdown",
   "metadata": {},
   "source": [
    "#### not significant meaning there is homogeneity of variances and we can proceed"
   ]
  },
  {
   "cell_type": "markdown",
   "metadata": {},
   "source": [
    "### Normal distribution of residuals"
   ]
  },
  {
   "cell_type": "markdown",
   "metadata": {},
   "source": [
    "##### The residuals needs to be normally distributed. To calculate the residuals between the groups, subtract the values of one group from the values of the other group."
   ]
  },
  {
   "cell_type": "code",
   "execution_count": 26,
   "metadata": {},
   "outputs": [],
   "source": [
    "diff = constitutive.percentage_bases_covered - responsive.percentage_bases_covered"
   ]
  },
  {
   "cell_type": "markdown",
   "metadata": {},
   "source": [
    "#### pplot"
   ]
  },
  {
   "cell_type": "code",
   "execution_count": 27,
   "metadata": {},
   "outputs": [
    {
     "data": {
      "image/png": "[encoded data removed]",
      "text/plain": [
       "<Figure size 432x288 with 1 Axes>"
      ]
     },
     "metadata": {},
     "output_type": "display_data"
    }
   ],
   "source": [
    "stats.probplot(diff, plot= plt);"
   ]
  },
  {
   "cell_type": "markdown",
   "metadata": {},
   "source": [
    "### histogram"
   ]
  },
  {
   "cell_type": "markdown",
   "metadata": {},
   "source": [
    "## normality of residuals"
   ]
  },
  {
   "cell_type": "code",
   "execution_count": 28,
   "metadata": {},
   "outputs": [],
   "source": [
    "W_test_stat, p_value = stats.shapiro(diff)"
   ]
  },
  {
   "cell_type": "code",
   "execution_count": 29,
   "metadata": {},
   "outputs": [
    {
     "data": {
      "text/plain": [
       "(0.992019772529602, 0.8226550221443176)"
      ]
     },
     "execution_count": 29,
     "metadata": {},
     "output_type": "execute_result"
    }
   ],
   "source": [
    "W_test_stat, p_value"
   ]
  },
  {
   "cell_type": "code",
   "execution_count": 30,
   "metadata": {},
   "outputs": [],
   "source": [
    "### not significant p_value so data is normally distributed"
   ]
  },
  {
   "cell_type": "code",
   "execution_count": 31,
   "metadata": {},
   "outputs": [
    {
     "name": "stdout",
     "output_type": "stream",
     "text": [
      "Statistics0.900, p=0.638\n"
     ]
    }
   ],
   "source": [
    "stat, p = stats.normaltest(diff)\n",
    "print('Statistics%.3f, p=%.3f' % (stat, p))"
   ]
  },
  {
   "cell_type": "code",
   "execution_count": 32,
   "metadata": {},
   "outputs": [
    {
     "name": "stdout",
     "output_type": "stream",
     "text": [
      "The null hypothesis cannot be rejected\n"
     ]
    }
   ],
   "source": [
    "alpha = 0.05\n",
    "# null hypothesis: x comes from a normal distributionprint\n",
    "if p < alpha:\n",
    "    print(\"The null hypothesis can be rejected\")\n",
    "else:\n",
    "    print(\"The null hypothesis cannot be rejected\")"
   ]
  },
  {
   "cell_type": "markdown",
   "metadata": {},
   "source": [
    "### not significant p_value so data is normally distributed"
   ]
  },
  {
   "cell_type": "markdown",
   "metadata": {},
   "source": [
    "## independent samples T-test"
   ]
  },
  {
   "cell_type": "code",
   "execution_count": 33,
   "metadata": {},
   "outputs": [
    {
     "data": {
      "text/plain": [
       "Ttest_indResult(statistic=-0.43628289991175434, pvalue=0.6631068221116974)"
      ]
     },
     "execution_count": 33,
     "metadata": {},
     "output_type": "execute_result"
    }
   ],
   "source": [
    "stats.ttest_ind(constitutive.percentage_bases_covered, responsive.percentage_bases_covered)"
   ]
  },
  {
   "cell_type": "markdown",
   "metadata": {},
   "source": [
    "#### use researchpy to get degrees of freedom, the difference between the groups mean, and a measure of effect size"
   ]
  },
  {
   "cell_type": "code",
   "execution_count": 34,
   "metadata": {},
   "outputs": [
    {
     "data": {
      "text/html": [
       "<div>\n",
       "<style scoped>\n",
       "    .dataframe tbody tr th:only-of-type {\n",
       "        vertical-align: middle;\n",
       "    }\n",
       "\n",
       "    .dataframe tbody tr th {\n",
       "        vertical-align: top;\n",
       "    }\n",
       "\n",
       "    .dataframe thead th {\n",
       "        text-align: right;\n",
       "    }\n",
       "</style>\n",
       "<table border=\"1\" class=\"dataframe\">\n",
       "  <thead>\n",
       "    <tr style=\"text-align: right;\">\n",
       "      <th></th>\n",
       "      <th>Variable</th>\n",
       "      <th>N</th>\n",
       "      <th>Mean</th>\n",
       "      <th>SD</th>\n",
       "      <th>SE</th>\n",
       "      <th>95% Conf.</th>\n",
       "      <th>Interval</th>\n",
       "    </tr>\n",
       "  </thead>\n",
       "  <tbody>\n",
       "    <tr>\n",
       "      <th>0</th>\n",
       "      <td>percentage_bases_covered</td>\n",
       "      <td>100.0</td>\n",
       "      <td>11.820</td>\n",
       "      <td>6.248766</td>\n",
       "      <td>0.624877</td>\n",
       "      <td>10.580109</td>\n",
       "      <td>13.059891</td>\n",
       "    </tr>\n",
       "    <tr>\n",
       "      <th>1</th>\n",
       "      <td>percentage_bases_covered</td>\n",
       "      <td>100.0</td>\n",
       "      <td>12.236</td>\n",
       "      <td>7.202153</td>\n",
       "      <td>0.720215</td>\n",
       "      <td>10.806937</td>\n",
       "      <td>13.665063</td>\n",
       "    </tr>\n",
       "    <tr>\n",
       "      <th>2</th>\n",
       "      <td>combined</td>\n",
       "      <td>200.0</td>\n",
       "      <td>12.028</td>\n",
       "      <td>6.728602</td>\n",
       "      <td>0.475784</td>\n",
       "      <td>11.089775</td>\n",
       "      <td>12.966225</td>\n",
       "    </tr>\n",
       "  </tbody>\n",
       "</table>\n",
       "</div>"
      ],
      "text/plain": [
       "                   Variable      N    Mean        SD        SE  95% Conf.  \\\n",
       "0  percentage_bases_covered  100.0  11.820  6.248766  0.624877  10.580109   \n",
       "1  percentage_bases_covered  100.0  12.236  7.202153  0.720215  10.806937   \n",
       "2                  combined  200.0  12.028  6.728602  0.475784  11.089775   \n",
       "\n",
       "    Interval  \n",
       "0  13.059891  \n",
       "1  13.665063  \n",
       "2  12.966225  "
      ]
     },
     "execution_count": 34,
     "metadata": {},
     "output_type": "execute_result"
    }
   ],
   "source": [
    "descriptives, results = rp.ttest(constitutive.percentage_bases_covered, responsive.percentage_bases_covered)\n",
    "descriptives"
   ]
  },
  {
   "cell_type": "code",
   "execution_count": 35,
   "metadata": {},
   "outputs": [
    {
     "data": {
      "text/html": [
       "<div>\n",
       "<style scoped>\n",
       "    .dataframe tbody tr th:only-of-type {\n",
       "        vertical-align: middle;\n",
       "    }\n",
       "\n",
       "    .dataframe tbody tr th {\n",
       "        vertical-align: top;\n",
       "    }\n",
       "\n",
       "    .dataframe thead th {\n",
       "        text-align: right;\n",
       "    }\n",
       "</style>\n",
       "<table border=\"1\" class=\"dataframe\">\n",
       "  <thead>\n",
       "    <tr style=\"text-align: right;\">\n",
       "      <th></th>\n",
       "      <th>Independent t-test</th>\n",
       "      <th>results</th>\n",
       "    </tr>\n",
       "  </thead>\n",
       "  <tbody>\n",
       "    <tr>\n",
       "      <th>0</th>\n",
       "      <td>Difference (percentage_bases_covered - percent...</td>\n",
       "      <td>-0.4160</td>\n",
       "    </tr>\n",
       "    <tr>\n",
       "      <th>1</th>\n",
       "      <td>Degrees of freedom =</td>\n",
       "      <td>198.0000</td>\n",
       "    </tr>\n",
       "    <tr>\n",
       "      <th>2</th>\n",
       "      <td>t =</td>\n",
       "      <td>-0.4363</td>\n",
       "    </tr>\n",
       "    <tr>\n",
       "      <th>3</th>\n",
       "      <td>Two side test p value =</td>\n",
       "      <td>0.6631</td>\n",
       "    </tr>\n",
       "    <tr>\n",
       "      <th>4</th>\n",
       "      <td>Difference &gt; 0 p value =</td>\n",
       "      <td>0.3316</td>\n",
       "    </tr>\n",
       "    <tr>\n",
       "      <th>5</th>\n",
       "      <td>Difference &lt; 0 p value =</td>\n",
       "      <td>0.6684</td>\n",
       "    </tr>\n",
       "    <tr>\n",
       "      <th>6</th>\n",
       "      <td>Cohen's d =</td>\n",
       "      <td>-0.0617</td>\n",
       "    </tr>\n",
       "    <tr>\n",
       "      <th>7</th>\n",
       "      <td>Hedge's g =</td>\n",
       "      <td>-0.0615</td>\n",
       "    </tr>\n",
       "    <tr>\n",
       "      <th>8</th>\n",
       "      <td>Glass's delta =</td>\n",
       "      <td>-0.0666</td>\n",
       "    </tr>\n",
       "    <tr>\n",
       "      <th>9</th>\n",
       "      <td>r =</td>\n",
       "      <td>0.0310</td>\n",
       "    </tr>\n",
       "  </tbody>\n",
       "</table>\n",
       "</div>"
      ],
      "text/plain": [
       "                                  Independent t-test   results\n",
       "0  Difference (percentage_bases_covered - percent...   -0.4160\n",
       "1                              Degrees of freedom =   198.0000\n",
       "2                                               t =    -0.4363\n",
       "3                           Two side test p value =     0.6631\n",
       "4                          Difference > 0 p value =     0.3316\n",
       "5                          Difference < 0 p value =     0.6684\n",
       "6                                       Cohen's d =    -0.0617\n",
       "7                                       Hedge's g =    -0.0615\n",
       "8                                   Glass's delta =    -0.0666\n",
       "9                                               r =     0.0310"
      ]
     },
     "execution_count": 35,
     "metadata": {},
     "output_type": "execute_result"
    }
   ],
   "source": [
    "results"
   ]
  },
  {
   "cell_type": "markdown",
   "metadata": {},
   "source": [
    "## not a statistcally significant difference between constitutive and responsive promoter percentage_bases_covered"
   ]
  },
  {
   "cell_type": "markdown",
   "metadata": {},
   "source": [
    "# <b> include random sample"
   ]
  },
  {
   "cell_type": "markdown",
   "metadata": {},
   "source": [
    "#### get names of each promoter type for later"
   ]
  },
  {
   "cell_type": "code",
   "execution_count": 36,
   "metadata": {},
   "outputs": [
    {
     "data": {
      "text/plain": [
       "[randCont, highVar, housekeeping, highVar, highVar, ..., randCont, randCont, randCont, highVar, randCont]\n",
       "Length: 406\n",
       "Categories (3, object): [highVar, housekeeping, randCont]"
      ]
     },
     "execution_count": 36,
     "metadata": {},
     "output_type": "execute_result"
    }
   ],
   "source": [
    "pd.Categorical(merged.gene_type)"
   ]
  },
  {
   "cell_type": "code",
   "execution_count": 37,
   "metadata": {},
   "outputs": [],
   "source": [
    "names = merged.gene_type.unique()"
   ]
  },
  {
   "cell_type": "code",
   "execution_count": 38,
   "metadata": {},
   "outputs": [
    {
     "name": "stdout",
     "output_type": "stream",
     "text": [
      "chr                           int64\n",
      "start                         int64\n",
      "stop                          int64\n",
      "gene                         object\n",
      "strand                       object\n",
      "no._of_overlaps               int64\n",
      "no._of_bases_covered          int64\n",
      "promoter_length               int64\n",
      "fraction_bases_covered      float64\n",
      "percentage_bases_covered    float64\n",
      "gene_type                    object\n",
      "dtype: object\n"
     ]
    }
   ],
   "source": [
    "print(merged.dtypes)"
   ]
  },
  {
   "cell_type": "code",
   "execution_count": 39,
   "metadata": {},
   "outputs": [
    {
     "name": "stdout",
     "output_type": "stream",
     "text": [
      "randCont\n",
      "highVar\n",
      "housekeeping\n"
     ]
    }
   ],
   "source": [
    "for name in names:\n",
    "    print(name)"
   ]
  },
  {
   "cell_type": "markdown",
   "metadata": {},
   "source": [
    "#### tet normality"
   ]
  },
  {
   "cell_type": "code",
   "execution_count": 40,
   "metadata": {},
   "outputs": [
    {
     "name": "stdout",
     "output_type": "stream",
     "text": [
      "randCont: (0.9072531461715698, 4.875971293394343e-10)\n",
      "highVar: (0.9494914412498474, 0.0007681143470108509)\n",
      "housekeeping: (0.9271503686904907, 3.442267552600242e-05)\n"
     ]
    }
   ],
   "source": [
    "#returns test statistic, p-value\n",
    "for name in names:\n",
    "    print('{}: {}'.format(name, stats.shapiro(merged.percentage_bases_covered[merged.gene_type == name])))"
   ]
  },
  {
   "cell_type": "markdown",
   "metadata": {},
   "source": [
    "### normality rejected for highvar category\n",
    "\n"
   ]
  },
  {
   "cell_type": "markdown",
   "metadata": {},
   "source": [
    "### q-plots - constitutive"
   ]
  },
  {
   "cell_type": "code",
   "execution_count": 41,
   "metadata": {},
   "outputs": [
    {
     "data": {
      "image/png": "[encoded data removed]",
      "text/plain": [
       "<Figure size 432x288 with 1 Axes>"
      ]
     },
     "metadata": {},
     "output_type": "display_data"
    }
   ],
   "source": [
    "stats.probplot(constitutive.percentage_bases_covered, plot= plt);"
   ]
  },
  {
   "cell_type": "markdown",
   "metadata": {},
   "source": [
    "### q-plots - responsive"
   ]
  },
  {
   "cell_type": "code",
   "execution_count": 42,
   "metadata": {},
   "outputs": [
    {
     "data": {
      "image/png": "[encoded data removed]",
      "text/plain": [
       "<Figure size 432x288 with 1 Axes>"
      ]
     },
     "metadata": {},
     "output_type": "display_data"
    }
   ],
   "source": [
    "stats.probplot(responsive.percentage_bases_covered, plot= plt);"
   ]
  },
  {
   "cell_type": "markdown",
   "metadata": {},
   "source": [
    "### q-plots - random control"
   ]
  },
  {
   "cell_type": "code",
   "execution_count": 43,
   "metadata": {},
   "outputs": [
    {
     "data": {
      "image/png": "[encoded data removed]",
      "text/plain": [
       "<Figure size 432x288 with 1 Axes>"
      ]
     },
     "metadata": {},
     "output_type": "display_data"
    }
   ],
   "source": [
    "stats.probplot(control.percentage_bases_covered, plot= plt);"
   ]
  },
  {
   "cell_type": "markdown",
   "metadata": {},
   "source": [
    "## test homoscedasticity (Homogeneity of Variance)"
   ]
  },
  {
   "cell_type": "code",
   "execution_count": 44,
   "metadata": {},
   "outputs": [
    {
     "data": {
      "text/plain": [
       "LeveneResult(statistic=0.05549966805194884, pvalue=0.9460195669673873)"
      ]
     },
     "execution_count": 44,
     "metadata": {},
     "output_type": "execute_result"
    }
   ],
   "source": [
    "stats.levene(merged.percentage_bases_covered[merged.gene_type == names[0]], \n",
    "               merged.percentage_bases_covered[merged.gene_type == names[1]], \n",
    "               merged.percentage_bases_covered[merged.gene_type == names[2]])"
   ]
  },
  {
   "cell_type": "markdown",
   "metadata": {},
   "source": [
    "#### fail to reject null hypothesis that variances are equal"
   ]
  },
  {
   "cell_type": "markdown",
   "metadata": {},
   "source": [
    "## need to use Kruskal-Wallis one way analysis of variance: scipy.stats.kruskal"
   ]
  },
  {
   "cell_type": "code",
   "execution_count": 45,
   "metadata": {},
   "outputs": [
    {
     "data": {
      "text/plain": [
       "KruskalResult(statistic=0.3717078442574983, pvalue=0.8303948884401728)"
      ]
     },
     "execution_count": 45,
     "metadata": {},
     "output_type": "execute_result"
    }
   ],
   "source": [
    "stats.kruskal(merged.percentage_bases_covered[merged.gene_type == names[0]], \n",
    "               merged.percentage_bases_covered[merged.gene_type == names[1]], \n",
    "               merged.percentage_bases_covered[merged.gene_type == names[2]])"
   ]
  },
  {
   "cell_type": "code",
   "execution_count": 46,
   "metadata": {},
   "outputs": [
    {
     "data": {
      "text/plain": [
       "MannwhitneyuResult(statistic=4895.0, pvalue=0.3992279691550435)"
      ]
     },
     "execution_count": 46,
     "metadata": {},
     "output_type": "execute_result"
    }
   ],
   "source": [
    "#variable vs housekeeping\n",
    "stats.mannwhitneyu(merged.percentage_bases_covered[merged.gene_type == names[1]], \n",
    "               merged.percentage_bases_covered[merged.gene_type == names[2]])"
   ]
  },
  {
   "cell_type": "markdown",
   "metadata": {},
   "source": [
    "## not significantly different"
   ]
  },
  {
   "cell_type": "code",
   "execution_count": null,
   "metadata": {},
   "outputs": [],
   "source": []
  }
 ],
 "metadata": {
  "kernelspec": {
   "display_name": "Python [conda env:PromoterArchitecturePipeline] *",
   "language": "python",
   "name": "conda-env-PromoterArchitecturePipeline-py"
  },
  "language_info": {
   "codemirror_mode": {
    "name": "ipython",
    "version": 3
   },
   "file_extension": ".py",
   "mimetype": "text/x-python",
   "name": "python",
   "nbconvert_exporter": "python",
   "pygments_lexer": "ipython3",
   "version": "3.6.7"
  }
 },
 "nbformat": 4,
 "nbformat_minor": 4
}
