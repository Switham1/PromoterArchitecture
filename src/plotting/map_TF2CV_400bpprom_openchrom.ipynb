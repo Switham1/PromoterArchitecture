{
 "cells": [
  {
   "cell_type": "code",
   "execution_count": 150,
   "metadata": {},
   "outputs": [],
   "source": [
    "#map TFs binding a promoter to their relevant coefficient of variation - see if they correspond to constitutive or variable\n",
    "#Count TFs only once (only use unique TFs)\n",
    "#this script will work for any promoter length"
   ]
  },
  {
   "cell_type": "code",
   "execution_count": 1,
   "metadata": {},
   "outputs": [],
   "source": [
    "import pandas as pd\n",
    "#import argparse\n",
    "import os\n",
    "import seaborn as sns\n",
    "import matplotlib.pyplot as plt\n",
    "from pybedtools import BedTool\n",
    "import io\n",
    "#stats\n",
    "from pingouin import kruskal\n",
    "import scikit_posthocs as sp\n",
    "from scipy import stats"
   ]
  },
  {
   "cell_type": "code",
   "execution_count": 2,
   "metadata": {},
   "outputs": [],
   "source": [
    "# parser = argparse.ArgumentParser(description='map_TF2CV')\n",
    "# parser.add_argument('file_names', type=str, help='Name of folder and filenames for the promoters extracted')\n",
    "# parser.add_argument('Czechowski_gene_categories', type=str, help='Input location of Czechowski gene categories text file')\n",
    "# parser.add_argument('Czechowski_all_cvs', type=str, help='Input location of Czechowski coefficient of variations for all genes in the microarray')\n",
    "# parser.add_argument('mapped_motif_bed', type=str, help='Input location of promoters mapped motif bed')\n",
    "# parser.add_argument('output_folder_name', type=str, help='Optional output folder name ending in a forward slash',default = '')"
   ]
  },
  {
   "cell_type": "code",
   "execution_count": 3,
   "metadata": {},
   "outputs": [],
   "source": [
    "dependent_variable = 'TFBS_TF_class'\n",
    "file_names = 'non-overlapping_includingbidirectional_all_genes_newannotation'\n",
    "Czechowski_gene_categories = f'../../data/output/{file_names}/genes/promoters_5UTR_czechowski_constitutive_variable_random.txt'\n",
    "Czechowski_rankedcv = f'../../data/genes/AtGE_dev_gcRMA__all_probes__CV.tsv'\n",
    "mapped_motif_bed = f'../../data/output/{file_names}/FIMO/promoters_5UTR_400bp_motifs_mapped.bed'\n",
    "output_folder_name = 'promoters_5UTR_400bp/'\n",
    "rootshootintersect_openchromatin = '../../data/ATAC-seq/potter2018/intersectRootsShoots_PeaksInBoth.bed'\n",
    "root_openchromatin = '../../data/ATAC-seq/potter2018/Roots_NaOH_peaks_all.bed'\n",
    "shoot_openchromatin = '../../data/ATAC-seq/potter2018/Shoots_NaOH_peaks_all.bed'\n",
    "mapped_motif_bed_openchrom_rootshootintersect = f'../../data/output/{file_names}/FIMO/promoters_5UTR_400bp_motifs_mapped_openchromrootshootintersect.bed'\n",
    "mapped_motif_bed_openchrom_root = f'../../data/output/{file_names}/FIMO/promoters_5UTR_400bp_motifs_mapped_openchromroot.bed'\n",
    "mapped_motif_bed_openchrom_shoot = f'../../data/output/{file_names}/FIMO/promoters_5UTR_400bp_motifs_mapped_openchromshoot.bed'"
   ]
  },
  {
   "cell_type": "code",
   "execution_count": 4,
   "metadata": {},
   "outputs": [
    {
     "name": "stdout",
     "output_type": "stream",
     "text": [
      "Directory  ../../data/output/non-overlapping_includingbidirectional_all_genes_newannotation/TFBS_TF_class  already exists\n"
     ]
    }
   ],
   "source": [
    "#make directory for the plots to be exported to\n",
    "dirName = f'../../data/output/{file_names}/{dependent_variable}'\n",
    "try:\n",
    "    # Create target Directory\n",
    "    os.mkdir(dirName)\n",
    "    print(\"Directory \" , dirName ,  \" created\") \n",
    "except FileExistsError:\n",
    "    print(\"Directory \" , dirName ,  \" already exists\")"
   ]
  },
  {
   "cell_type": "code",
   "execution_count": 5,
   "metadata": {},
   "outputs": [
    {
     "name": "stdout",
     "output_type": "stream",
     "text": [
      "Directory  ../../data/output/non-overlapping_includingbidirectional_all_genes_newannotation/TFBS_TF_class/promoters_5UTR_400bp/  already exists\n"
     ]
    }
   ],
   "source": [
    "#make directory for the plots to be exported to\n",
    "dirName = f'../../data/output/{file_names}/{dependent_variable}/{output_folder_name}'\n",
    "try:\n",
    "    # Create target Directory\n",
    "    os.mkdir(dirName)\n",
    "    print(\"Directory \" , dirName ,  \" created\") \n",
    "except FileExistsError:\n",
    "    print(\"Directory \" , dirName ,  \" already exists\")"
   ]
  },
  {
   "cell_type": "code",
   "execution_count": 6,
   "metadata": {},
   "outputs": [
    {
     "name": "stdout",
     "output_type": "stream",
     "text": [
      "Directory  ../../data/output/non-overlapping_includingbidirectional_all_genes_newannotation/TFBS_TF_class/promoters_5UTR_400bp/plots  already exists\n"
     ]
    }
   ],
   "source": [
    "#make directory for the plots to be exported to\n",
    "dirName = f'../../data/output/{file_names}/{dependent_variable}/{output_folder_name}plots'\n",
    "try:\n",
    "    # Create target Directory\n",
    "    os.mkdir(dirName)\n",
    "    print(\"Directory \" , dirName ,  \" created\") \n",
    "except FileExistsError:\n",
    "    print(\"Directory \" , dirName ,  \" already exists\")"
   ]
  },
  {
   "cell_type": "code",
   "execution_count": 7,
   "metadata": {},
   "outputs": [],
   "source": [
    "def intersectbed(mapped_motifs_file,openchrom_bed, output):\n",
    "    \"\"\"function to intersect motifs_mapped with open chromatin, dropping any TFs which do not fall within open chromatin\"\"\"\n",
    "    #read in mapped motifs bed\n",
    "    mapped_motifs = pd.read_table(mapped_motifs_file, sep='\\t', header=None)\n",
    "    #if whole promoter, mapped motif will have 13 columns\n",
    "    #if shortened promoter, mapped motif file will have 24 (as bp overlap is needed in TF_diversity_plots_shortenedprom.py to remove TFBSs where the middle isn't in the promoter)\n",
    "    #if 24 columns, only select the subset of 13 columns\n",
    "    #if 13 columns, keep them all\n",
    "    #This is to make the dfs have identical column names\n",
    "    if len(mapped_motifs.columns) == 24:\n",
    "        cols = ['chr', 'start', 'stop', 'promoter_AGI','dot1','strand','source','type','dot2','attributes',\n",
    "            'motif_chr','motif_start','motif_stop','name_rep', 'score', 'motif_strand',\n",
    "            'promoter_AGI2', 'p-value', 'q-value', 'matched_sequence', 'TF_name', 'TF_family', 'TF_AGI','bp_overlap']\n",
    "        mapped_motifs.columns = cols\n",
    "        #filter columns\n",
    "        mapped_motifs = mapped_motifs[['motif_chr','motif_start','motif_stop','name_rep', 'score', 'motif_strand',\n",
    "             'promoter_AGI2', 'p-value', 'q-value', 'matched_sequence', 'TF_name', 'TF_family', 'TF_AGI']]\n",
    "        #rename columns\n",
    "        cols = ['chr', 'start', 'stop', 'name_rep', 'score', 'strand', 'promoter_AGI', 'p-value', 'q-value', 'matched_sequence', 'TF_name', 'TF_family', 'TF_AGI']\n",
    "        mapped_motifs.columns = cols\n",
    "        \n",
    "    else:\n",
    "        cols = ['chr', 'start', 'stop', 'name_rep', 'score', 'strand', 'promoter_AGI', 'p-value', 'q-value', 'matched_sequence', 'TF_name', 'TF_family', 'TF_AGI']\n",
    "        mapped_motifs.columns = cols\n",
    "    #remove invalid lines\n",
    "    mapped_motifs = mapped_motifs[mapped_motifs.chr != '.']\n",
    "    #save mapped motifs as temporary file\n",
    "    #save mapped motifs as a buffer\n",
    "    tempbuffer = io.StringIO()\n",
    "    #write df to buffer\n",
    "    mapped_motifs.to_csv(tempbuffer, header=None, index=False,sep='\\t')\n",
    "    #go back to start of buffer\n",
    "    tempbuffer.seek(0)\n",
    "    #read in files as bedtool objects\n",
    "    mapped_motifs2 = BedTool(tempbuffer)\n",
    "    openchrom = BedTool(openchrom_bed)\n",
    "    #run bedtools intersect\n",
    "    #wo,  Write the original A and B entries plus the number of base pairs of overlap between the two features. Only A features with overlap are reported. \n",
    "    #f=1 means only include motif is 100% of it is in open chromatin\n",
    "    intersect = mapped_motifs2.intersect(openchrom, wo=True, f=1).saveas(output) \n",
    "    #could add u=True which indicates we want to see the promoters that overlap features in the genome\n",
    "    #remove buffer\n",
    "    tempbuffer.close()"
   ]
  },
  {
   "cell_type": "code",
   "execution_count": 8,
   "metadata": {},
   "outputs": [],
   "source": [
    "def map_cv(ranked_cvs_file,mapped_motifs_file):\n",
    "    \"\"\"function to map the CV value to the TFs which bind to each promoter\"\"\"\n",
    "    #read in files\n",
    "    cvs = pd.read_table(ranked_cvs_file, sep='\\t', header=None)\n",
    "    cols = ['rank','probe_id','TF_AGI','expression_mean','expression_SD','expression_CV','proportion_of_values_present_in_mas5','presence_in_araport11','constitutive_in_araport11']\n",
    "    cvs.columns = cols\n",
    "    #filter out any genes that aren't present in araport11\n",
    "    cvs = cvs[cvs.presence_in_araport11==1]\n",
    "    #read in mapped motifs\n",
    "    mapped_motifs = pd.read_table(mapped_motifs_file, sep='\\t', header=None)\n",
    "    #if whole promoter, mapped motif will have 17 columns\n",
    "    #if shortened promoter, mapped motif file openchrom will have 28 (as bp overlap is needed in TF_diversity_plots_shortenedprom.py to remove TFBSs where the middle isn't in the promoter)\n",
    "    #if 28 columns, only select the subset of 13 columns\n",
    "    #if 17 columns, keep them all\n",
    "    #This is to make the dfs have identical column names\n",
    "\n",
    "    cols = ['chr', 'start', 'stop', 'name_rep', 'score', 'strand', 'promoter_AGI', 'p-value', 'q-value', 'matched_sequence', 'TF_name', 'TF_family', 'TF_AGI','chr_chrom','start_chrom','stop_chrom','bp_overlap']\n",
    "    mapped_motifs.columns = cols\n",
    "    #filter unwanted columns\n",
    "    mapped_motifs = mapped_motifs[['chr', 'start', 'stop', 'name_rep', 'score', 'strand', 'promoter_AGI', 'p-value', 'q-value', 'matched_sequence', 'TF_name', 'TF_family', 'TF_AGI']]\n",
    "    #merge CV df with mapped_motifs, adding the CVs to the respective TF AGIs\n",
    "    merged = pd.merge(mapped_motifs, cvs, how='left', on='TF_AGI')\n",
    "    #Groupby promoter and then keep only unique TFs in each promoter\n",
    "    #unique_CV_means = merged.groupby(['promoter_AGI', 'TF_AGI'])['expression_mean'].agg(lambda x: x.unique())\n",
    "    unique_TFs = merged.drop_duplicates(['promoter_AGI', 'TF_AGI']).reset_index(drop=True)\n",
    "\n",
    "   \n",
    "    return merged,unique_TFs"
   ]
  },
  {
   "cell_type": "code",
   "execution_count": 9,
   "metadata": {},
   "outputs": [],
   "source": [
    "def merge_genetype(df, gene_categories):\n",
    "    \"\"\"merge df with gene_categories file adding the genetype of the promoters (if in top 100 constitutive or top 100 variable promoters)\"\"\"\n",
    "    gene_cats = pd.read_table(gene_categories, sep='\\t', header=None)\n",
    "    cols = ['promoter_AGI','gene_type']\n",
    "    gene_cats.columns = cols\n",
    "    merged = pd.merge(gene_cats,df, on='promoter_AGI', how='left')\n",
    "    return merged"
   ]
  },
  {
   "cell_type": "code",
   "execution_count": 10,
   "metadata": {},
   "outputs": [],
   "source": [
    "def calculate_mean_SD_CV(df):\n",
    "    \"\"\"calculate the mean coefficient of variation of the unique TFs binding to a promoter\"\"\"\n",
    "    #group by promoter and calculate mean for each promoter\n",
    "    means = df.groupby('promoter_AGI')['expression_CV'].mean()\n",
    "    #turn into a dataframe\n",
    "    means_df = pd.DataFrame(means)\n",
    "    #turn the index into a new column\n",
    "    means_df.reset_index(level=0, inplace=True)\n",
    "    #name columns\n",
    "    cols = ['promoter_AGI', 'mean_cv']\n",
    "    means_df.columns = cols\n",
    "    \n",
    "        \n",
    "    #group by promoter and calculate SD (standard deviation) for each promoter\n",
    "    sd = df.groupby('promoter_AGI')['expression_CV'].std()\n",
    "    #turn into a dataframe\n",
    "    sd_df = pd.DataFrame(sd)\n",
    "    #turn the index into a new column\n",
    "    sd_df.reset_index(level=0, inplace=True)\n",
    "    #name columns\n",
    "    cols = ['promoter_AGI', 'sd']\n",
    "    sd_df.columns = cols\n",
    "    \n",
    "    #merge the dfs\n",
    "    merged = pd.merge(means_df,sd_df)   \n",
    "    return merged"
   ]
  },
  {
   "cell_type": "code",
   "execution_count": 11,
   "metadata": {},
   "outputs": [],
   "source": [
    "def all_prom_distribution(df, x_variable, x_label, output_prefix):\n",
    "    \"\"\"function to return distribution plot of all promoters GC content\"\"\"    \n",
    "    \n",
    "    dist_plot = df[x_variable]\n",
    "    #create figure with no transparency\n",
    "    dist_plot_fig = sns.distplot(dist_plot).get_figure()\n",
    "    plt.xlabel(x_label)\n",
    "\n",
    "    #save to file\n",
    "    dist_plot_fig.savefig(f'../../data/output/{file_names}/{dependent_variable}/{output_folder_name}plots/{output_prefix}_distribution.pdf', format='pdf')"
   ]
  },
  {
   "cell_type": "code",
   "execution_count": 12,
   "metadata": {},
   "outputs": [],
   "source": [
    "def make_plot(df,x_variable, y_variable,x_label, y_label, output_prefix, plot_kind):\n",
    "    \"\"\"function to make and save plot\"\"\"\n",
    "    #allow colour codes in seaborn\n",
    "    sns.set(color_codes=True)\n",
    "    sns.set_style(\"whitegrid\")\n",
    "    #plot with specific column order\n",
    "    plot = sns.catplot(x=x_variable, y=y_variable, data=df, kind=plot_kind, order=[\"constitutive\", \"variable\", \"control\"])\n",
    "    #plot points\n",
    "    ax = sns.swarmplot(x=x_variable, y=y_variable, data=df, color=\".25\",order=[\"constitutive\", \"variable\", \"control\"])\n",
    "    #change axes labels\n",
    "    plt.ylabel(y_label)\n",
    "    plt.xlabel(x_label)\n",
    "    #save figure\n",
    "    ax.get_figure().savefig(f'../../data/output/{file_names}/{dependent_variable}/{output_folder_name}plots/{output_prefix}_{plot_kind}.pdf', format='pdf')   "
   ]
  },
  {
   "cell_type": "code",
   "execution_count": 13,
   "metadata": {},
   "outputs": [],
   "source": [
    "# def parallelize_dataframe(df, func, n_cores=4):\n",
    "#     \"\"\"parallelize the plot making\"\"\"\n",
    "#     df_split = np.array_split(df, n_cores)\n",
    "#     pool = Pool(n_cores)\n",
    "#     df = pd.concat(pool.map(func, df_split))\n",
    "#     pool.close()\n",
    "#     pool.join()\n",
    "#     return df"
   ]
  },
  {
   "cell_type": "code",
   "execution_count": 14,
   "metadata": {},
   "outputs": [],
   "source": [
    "#run bedtools intersect to only select motifs in open chomatin\n",
    "intersectbed(mapped_motif_bed,rootshootintersect_openchromatin, mapped_motif_bed_openchrom_rootshootintersect)\n",
    "intersectbed(mapped_motif_bed,root_openchromatin, mapped_motif_bed_openchrom_root)\n",
    "intersectbed(mapped_motif_bed,shoot_openchromatin, mapped_motif_bed_openchrom_shoot)"
   ]
  },
  {
   "cell_type": "code",
   "execution_count": 15,
   "metadata": {},
   "outputs": [],
   "source": [
    "#map coefficient of variation (CV) values to each TF in the mapped_motifs file\n",
    "Czechowski_mergedrootshootintersect,Czechowski_merged_uniquerootshootintersect = map_cv(Czechowski_rankedcv, mapped_motif_bed_openchrom_rootshootintersect)\n",
    "Czechowski_mergedroot,Czechowski_merged_uniqueroot = map_cv(Czechowski_rankedcv, mapped_motif_bed_openchrom_root)\n",
    "Czechowski_mergedshoot,Czechowski_merged_uniqueshoot = map_cv(Czechowski_rankedcv, mapped_motif_bed_openchrom_shoot)"
   ]
  },
  {
   "cell_type": "code",
   "execution_count": 16,
   "metadata": {},
   "outputs": [
    {
     "data": {
      "text/plain": [
       "Index(['chr', 'start', 'stop', 'name_rep', 'score', 'strand', 'promoter_AGI',\n",
       "       'p-value', 'q-value', 'matched_sequence', 'TF_name', 'TF_family',\n",
       "       'TF_AGI', 'rank', 'probe_id', 'expression_mean', 'expression_SD',\n",
       "       'expression_CV', 'proportion_of_values_present_in_mas5',\n",
       "       'presence_in_araport11', 'constitutive_in_araport11'],\n",
       "      dtype='object')"
      ]
     },
     "execution_count": 16,
     "metadata": {},
     "output_type": "execute_result"
    }
   ],
   "source": [
    "Czechowski_mergedrootshootintersect.columns"
   ]
  },
  {
   "cell_type": "code",
   "execution_count": 17,
   "metadata": {},
   "outputs": [
    {
     "data": {
      "text/html": [
       "<div>\n",
       "<style scoped>\n",
       "    .dataframe tbody tr th:only-of-type {\n",
       "        vertical-align: middle;\n",
       "    }\n",
       "\n",
       "    .dataframe tbody tr th {\n",
       "        vertical-align: top;\n",
       "    }\n",
       "\n",
       "    .dataframe thead th {\n",
       "        text-align: right;\n",
       "    }\n",
       "</style>\n",
       "<table border=\"1\" class=\"dataframe\">\n",
       "  <thead>\n",
       "    <tr style=\"text-align: right;\">\n",
       "      <th></th>\n",
       "      <th>chr</th>\n",
       "      <th>start</th>\n",
       "      <th>stop</th>\n",
       "      <th>name_rep</th>\n",
       "      <th>score</th>\n",
       "      <th>strand</th>\n",
       "      <th>promoter_AGI</th>\n",
       "      <th>p-value</th>\n",
       "      <th>q-value</th>\n",
       "      <th>matched_sequence</th>\n",
       "      <th>...</th>\n",
       "      <th>TF_family</th>\n",
       "      <th>TF_AGI</th>\n",
       "      <th>rank</th>\n",
       "      <th>probe_id</th>\n",
       "      <th>expression_mean</th>\n",
       "      <th>expression_SD</th>\n",
       "      <th>expression_CV</th>\n",
       "      <th>proportion_of_values_present_in_mas5</th>\n",
       "      <th>presence_in_araport11</th>\n",
       "      <th>constitutive_in_araport11</th>\n",
       "    </tr>\n",
       "  </thead>\n",
       "  <tbody>\n",
       "    <tr>\n",
       "      <th>0</th>\n",
       "      <td>1</td>\n",
       "      <td>3560</td>\n",
       "      <td>3581</td>\n",
       "      <td>REM_tnt.REM19_colamp_a</td>\n",
       "      <td>9.191180</td>\n",
       "      <td>+</td>\n",
       "      <td>AT1G01010</td>\n",
       "      <td>0.000093</td>\n",
       "      <td>0.0389</td>\n",
       "      <td>ATTAAGAAAATAAAAATAAAA</td>\n",
       "      <td>...</td>\n",
       "      <td>REM</td>\n",
       "      <td>AT1G49480</td>\n",
       "      <td>3890.0</td>\n",
       "      <td>262400_at</td>\n",
       "      <td>671.552167</td>\n",
       "      <td>273.709079</td>\n",
       "      <td>0.407577</td>\n",
       "      <td>98.0</td>\n",
       "      <td>1.0</td>\n",
       "      <td>0.0</td>\n",
       "    </tr>\n",
       "    <tr>\n",
       "      <th>1</th>\n",
       "      <td>1</td>\n",
       "      <td>3560</td>\n",
       "      <td>3589</td>\n",
       "      <td>ABI3VP1_tnt.VRN1_col_a</td>\n",
       "      <td>-9.073530</td>\n",
       "      <td>-</td>\n",
       "      <td>AT1G01010</td>\n",
       "      <td>0.000094</td>\n",
       "      <td>0.0301</td>\n",
       "      <td>TTTATTCCTTTTATTTTTATTTTCTTAAT</td>\n",
       "      <td>...</td>\n",
       "      <td>ABI3VP1</td>\n",
       "      <td>AT3G18990</td>\n",
       "      <td>4219.0</td>\n",
       "      <td>256944_at</td>\n",
       "      <td>336.280254</td>\n",
       "      <td>142.874959</td>\n",
       "      <td>0.424869</td>\n",
       "      <td>98.0</td>\n",
       "      <td>1.0</td>\n",
       "      <td>0.0</td>\n",
       "    </tr>\n",
       "    <tr>\n",
       "      <th>2</th>\n",
       "      <td>1</td>\n",
       "      <td>3561</td>\n",
       "      <td>3590</td>\n",
       "      <td>ABI3VP1_tnt.VRN1_col_a</td>\n",
       "      <td>-8.264710</td>\n",
       "      <td>-</td>\n",
       "      <td>AT1G01010</td>\n",
       "      <td>0.000079</td>\n",
       "      <td>0.0276</td>\n",
       "      <td>ATTTATTCCTTTTATTTTTATTTTCTTAA</td>\n",
       "      <td>...</td>\n",
       "      <td>ABI3VP1</td>\n",
       "      <td>AT3G18990</td>\n",
       "      <td>4219.0</td>\n",
       "      <td>256944_at</td>\n",
       "      <td>336.280254</td>\n",
       "      <td>142.874959</td>\n",
       "      <td>0.424869</td>\n",
       "      <td>98.0</td>\n",
       "      <td>1.0</td>\n",
       "      <td>0.0</td>\n",
       "    </tr>\n",
       "    <tr>\n",
       "      <th>3</th>\n",
       "      <td>1</td>\n",
       "      <td>3561</td>\n",
       "      <td>3588</td>\n",
       "      <td>C2C2dof_tnt.AT1G69570_col_a</td>\n",
       "      <td>13.365100</td>\n",
       "      <td>-</td>\n",
       "      <td>AT1G01010</td>\n",
       "      <td>0.000013</td>\n",
       "      <td>0.0429</td>\n",
       "      <td>TTATTCCTTTTATTTTTATTTTCTTAA</td>\n",
       "      <td>...</td>\n",
       "      <td>C2C2DOF</td>\n",
       "      <td>AT1G69570</td>\n",
       "      <td>NaN</td>\n",
       "      <td>NaN</td>\n",
       "      <td>NaN</td>\n",
       "      <td>NaN</td>\n",
       "      <td>NaN</td>\n",
       "      <td>NaN</td>\n",
       "      <td>NaN</td>\n",
       "      <td>NaN</td>\n",
       "    </tr>\n",
       "    <tr>\n",
       "      <th>4</th>\n",
       "      <td>1</td>\n",
       "      <td>3565</td>\n",
       "      <td>3594</td>\n",
       "      <td>ABI3VP1_tnt.VRN1_col_a</td>\n",
       "      <td>-6.852940</td>\n",
       "      <td>-</td>\n",
       "      <td>AT1G01010</td>\n",
       "      <td>0.000059</td>\n",
       "      <td>0.0235</td>\n",
       "      <td>GACAATTTATTCCTTTTATTTTTATTTTC</td>\n",
       "      <td>...</td>\n",
       "      <td>ABI3VP1</td>\n",
       "      <td>AT3G18990</td>\n",
       "      <td>4219.0</td>\n",
       "      <td>256944_at</td>\n",
       "      <td>336.280254</td>\n",
       "      <td>142.874959</td>\n",
       "      <td>0.424869</td>\n",
       "      <td>98.0</td>\n",
       "      <td>1.0</td>\n",
       "      <td>0.0</td>\n",
       "    </tr>\n",
       "    <tr>\n",
       "      <th>...</th>\n",
       "      <td>...</td>\n",
       "      <td>...</td>\n",
       "      <td>...</td>\n",
       "      <td>...</td>\n",
       "      <td>...</td>\n",
       "      <td>...</td>\n",
       "      <td>...</td>\n",
       "      <td>...</td>\n",
       "      <td>...</td>\n",
       "      <td>...</td>\n",
       "      <td>...</td>\n",
       "      <td>...</td>\n",
       "      <td>...</td>\n",
       "      <td>...</td>\n",
       "      <td>...</td>\n",
       "      <td>...</td>\n",
       "      <td>...</td>\n",
       "      <td>...</td>\n",
       "      <td>...</td>\n",
       "      <td>...</td>\n",
       "      <td>...</td>\n",
       "    </tr>\n",
       "    <tr>\n",
       "      <th>353200</th>\n",
       "      <td>5</td>\n",
       "      <td>26970722</td>\n",
       "      <td>26970737</td>\n",
       "      <td>REM_tnt.REM19_col_a</td>\n",
       "      <td>13.955900</td>\n",
       "      <td>-</td>\n",
       "      <td>AT5G67640</td>\n",
       "      <td>0.000010</td>\n",
       "      <td>0.0123</td>\n",
       "      <td>GAAGGAAAAAAAAAG</td>\n",
       "      <td>...</td>\n",
       "      <td>REM</td>\n",
       "      <td>AT1G49480</td>\n",
       "      <td>3890.0</td>\n",
       "      <td>262400_at</td>\n",
       "      <td>671.552167</td>\n",
       "      <td>273.709079</td>\n",
       "      <td>0.407577</td>\n",
       "      <td>98.0</td>\n",
       "      <td>1.0</td>\n",
       "      <td>0.0</td>\n",
       "    </tr>\n",
       "    <tr>\n",
       "      <th>353201</th>\n",
       "      <td>5</td>\n",
       "      <td>26970722</td>\n",
       "      <td>26970743</td>\n",
       "      <td>C2C2dof_tnt.OBP3_col_a</td>\n",
       "      <td>13.156200</td>\n",
       "      <td>+</td>\n",
       "      <td>AT5G67640</td>\n",
       "      <td>0.000015</td>\n",
       "      <td>0.0367</td>\n",
       "      <td>CTTTTTTTTTCCTTCTTTCTT</td>\n",
       "      <td>...</td>\n",
       "      <td>C2C2DOF</td>\n",
       "      <td>AT3G55370</td>\n",
       "      <td>NaN</td>\n",
       "      <td>NaN</td>\n",
       "      <td>NaN</td>\n",
       "      <td>NaN</td>\n",
       "      <td>NaN</td>\n",
       "      <td>NaN</td>\n",
       "      <td>NaN</td>\n",
       "      <td>NaN</td>\n",
       "    </tr>\n",
       "    <tr>\n",
       "      <th>353202</th>\n",
       "      <td>5</td>\n",
       "      <td>26970723</td>\n",
       "      <td>26970744</td>\n",
       "      <td>C2C2dof_tnt.OBP3_col_a</td>\n",
       "      <td>13.312500</td>\n",
       "      <td>+</td>\n",
       "      <td>AT5G67640</td>\n",
       "      <td>0.000013</td>\n",
       "      <td>0.0351</td>\n",
       "      <td>TTTTTTTTTCCTTCTTTCTTT</td>\n",
       "      <td>...</td>\n",
       "      <td>C2C2DOF</td>\n",
       "      <td>AT3G55370</td>\n",
       "      <td>NaN</td>\n",
       "      <td>NaN</td>\n",
       "      <td>NaN</td>\n",
       "      <td>NaN</td>\n",
       "      <td>NaN</td>\n",
       "      <td>NaN</td>\n",
       "      <td>NaN</td>\n",
       "      <td>NaN</td>\n",
       "    </tr>\n",
       "    <tr>\n",
       "      <th>353203</th>\n",
       "      <td>5</td>\n",
       "      <td>26970724</td>\n",
       "      <td>26970745</td>\n",
       "      <td>BBRBPC_tnt.BPC6_col_a</td>\n",
       "      <td>0.219178</td>\n",
       "      <td>+</td>\n",
       "      <td>AT5G67640</td>\n",
       "      <td>0.000034</td>\n",
       "      <td>0.0284</td>\n",
       "      <td>TTTTTTTTCCTTCTTTCTTTA</td>\n",
       "      <td>...</td>\n",
       "      <td>BBRBPC</td>\n",
       "      <td>AT5G42520</td>\n",
       "      <td>1524.0</td>\n",
       "      <td>249199_at</td>\n",
       "      <td>493.182683</td>\n",
       "      <td>149.269860</td>\n",
       "      <td>0.302666</td>\n",
       "      <td>98.0</td>\n",
       "      <td>1.0</td>\n",
       "      <td>0.0</td>\n",
       "    </tr>\n",
       "    <tr>\n",
       "      <th>353204</th>\n",
       "      <td>5</td>\n",
       "      <td>26970730</td>\n",
       "      <td>26970745</td>\n",
       "      <td>BBRBPC_tnt.BPC1_colamp_a</td>\n",
       "      <td>5.875000</td>\n",
       "      <td>+</td>\n",
       "      <td>AT5G67640</td>\n",
       "      <td>0.000076</td>\n",
       "      <td>0.0491</td>\n",
       "      <td>TTCCTTCTTTCTTTA</td>\n",
       "      <td>...</td>\n",
       "      <td>BBRBPC</td>\n",
       "      <td>AT2G01930</td>\n",
       "      <td>5762.0</td>\n",
       "      <td>263305_at</td>\n",
       "      <td>181.275661</td>\n",
       "      <td>92.322959</td>\n",
       "      <td>0.509296</td>\n",
       "      <td>100.0</td>\n",
       "      <td>1.0</td>\n",
       "      <td>0.0</td>\n",
       "    </tr>\n",
       "  </tbody>\n",
       "</table>\n",
       "<p>353205 rows × 21 columns</p>\n",
       "</div>"
      ],
      "text/plain": [
       "        chr     start      stop                     name_rep      score  \\\n",
       "0         1      3560      3581       REM_tnt.REM19_colamp_a   9.191180   \n",
       "1         1      3560      3589       ABI3VP1_tnt.VRN1_col_a  -9.073530   \n",
       "2         1      3561      3590       ABI3VP1_tnt.VRN1_col_a  -8.264710   \n",
       "3         1      3561      3588  C2C2dof_tnt.AT1G69570_col_a  13.365100   \n",
       "4         1      3565      3594       ABI3VP1_tnt.VRN1_col_a  -6.852940   \n",
       "...     ...       ...       ...                          ...        ...   \n",
       "353200    5  26970722  26970737          REM_tnt.REM19_col_a  13.955900   \n",
       "353201    5  26970722  26970743       C2C2dof_tnt.OBP3_col_a  13.156200   \n",
       "353202    5  26970723  26970744       C2C2dof_tnt.OBP3_col_a  13.312500   \n",
       "353203    5  26970724  26970745        BBRBPC_tnt.BPC6_col_a   0.219178   \n",
       "353204    5  26970730  26970745     BBRBPC_tnt.BPC1_colamp_a   5.875000   \n",
       "\n",
       "       strand promoter_AGI   p-value  q-value               matched_sequence  \\\n",
       "0           +    AT1G01010  0.000093   0.0389          ATTAAGAAAATAAAAATAAAA   \n",
       "1           -    AT1G01010  0.000094   0.0301  TTTATTCCTTTTATTTTTATTTTCTTAAT   \n",
       "2           -    AT1G01010  0.000079   0.0276  ATTTATTCCTTTTATTTTTATTTTCTTAA   \n",
       "3           -    AT1G01010  0.000013   0.0429    TTATTCCTTTTATTTTTATTTTCTTAA   \n",
       "4           -    AT1G01010  0.000059   0.0235  GACAATTTATTCCTTTTATTTTTATTTTC   \n",
       "...       ...          ...       ...      ...                            ...   \n",
       "353200      -    AT5G67640  0.000010   0.0123                GAAGGAAAAAAAAAG   \n",
       "353201      +    AT5G67640  0.000015   0.0367          CTTTTTTTTTCCTTCTTTCTT   \n",
       "353202      +    AT5G67640  0.000013   0.0351          TTTTTTTTTCCTTCTTTCTTT   \n",
       "353203      +    AT5G67640  0.000034   0.0284          TTTTTTTTCCTTCTTTCTTTA   \n",
       "353204      +    AT5G67640  0.000076   0.0491                TTCCTTCTTTCTTTA   \n",
       "\n",
       "        ... TF_family     TF_AGI    rank   probe_id expression_mean  \\\n",
       "0       ...       REM  AT1G49480  3890.0  262400_at      671.552167   \n",
       "1       ...   ABI3VP1  AT3G18990  4219.0  256944_at      336.280254   \n",
       "2       ...   ABI3VP1  AT3G18990  4219.0  256944_at      336.280254   \n",
       "3       ...   C2C2DOF  AT1G69570     NaN        NaN             NaN   \n",
       "4       ...   ABI3VP1  AT3G18990  4219.0  256944_at      336.280254   \n",
       "...     ...       ...        ...     ...        ...             ...   \n",
       "353200  ...       REM  AT1G49480  3890.0  262400_at      671.552167   \n",
       "353201  ...   C2C2DOF  AT3G55370     NaN        NaN             NaN   \n",
       "353202  ...   C2C2DOF  AT3G55370     NaN        NaN             NaN   \n",
       "353203  ...    BBRBPC  AT5G42520  1524.0  249199_at      493.182683   \n",
       "353204  ...    BBRBPC  AT2G01930  5762.0  263305_at      181.275661   \n",
       "\n",
       "        expression_SD  expression_CV  proportion_of_values_present_in_mas5  \\\n",
       "0          273.709079       0.407577                                  98.0   \n",
       "1          142.874959       0.424869                                  98.0   \n",
       "2          142.874959       0.424869                                  98.0   \n",
       "3                 NaN            NaN                                   NaN   \n",
       "4          142.874959       0.424869                                  98.0   \n",
       "...               ...            ...                                   ...   \n",
       "353200     273.709079       0.407577                                  98.0   \n",
       "353201            NaN            NaN                                   NaN   \n",
       "353202            NaN            NaN                                   NaN   \n",
       "353203     149.269860       0.302666                                  98.0   \n",
       "353204      92.322959       0.509296                                 100.0   \n",
       "\n",
       "        presence_in_araport11  constitutive_in_araport11  \n",
       "0                         1.0                        0.0  \n",
       "1                         1.0                        0.0  \n",
       "2                         1.0                        0.0  \n",
       "3                         NaN                        NaN  \n",
       "4                         1.0                        0.0  \n",
       "...                       ...                        ...  \n",
       "353200                    1.0                        0.0  \n",
       "353201                    NaN                        NaN  \n",
       "353202                    NaN                        NaN  \n",
       "353203                    1.0                        0.0  \n",
       "353204                    1.0                        0.0  \n",
       "\n",
       "[353205 rows x 21 columns]"
      ]
     },
     "execution_count": 17,
     "metadata": {},
     "output_type": "execute_result"
    }
   ],
   "source": [
    "Czechowski_mergedrootshootintersect"
   ]
  },
  {
   "cell_type": "code",
   "execution_count": 26,
   "metadata": {},
   "outputs": [],
   "source": [
    "#add gene_types for the promoters (constitutive, variable or control)\n",
    "#change to whichver open chrom you want\n",
    "Czechowski_genetypes = merge_genetype(Czechowski_merged_uniquerootshootintersect, Czechowski_gene_categories)"
   ]
  },
  {
   "cell_type": "code",
   "execution_count": 27,
   "metadata": {},
   "outputs": [],
   "source": [
    "#calculate CV means per promoter\n",
    "Czechowski_means_sd = calculate_mean_SD_CV(Czechowski_genetypes)"
   ]
  },
  {
   "cell_type": "code",
   "execution_count": 28,
   "metadata": {},
   "outputs": [],
   "source": [
    "Czechowski_means_sd_genetype = merge_genetype(Czechowski_means_sd, Czechowski_gene_categories)"
   ]
  },
  {
   "cell_type": "code",
   "execution_count": 29,
   "metadata": {},
   "outputs": [],
   "source": [
    "#remove promoters with no mean_cv\n",
    "Czechowski_means_sd_genetype = Czechowski_means_sd_genetype[Czechowski_means_sd_genetype.mean_cv.notnull()]"
   ]
  },
  {
   "cell_type": "code",
   "execution_count": 30,
   "metadata": {},
   "outputs": [
    {
     "data": {
      "text/plain": [
       "71"
      ]
     },
     "execution_count": 30,
     "metadata": {},
     "output_type": "execute_result"
    }
   ],
   "source": [
    "#check how many of each promoter type have mean_cv values\n",
    "#constitutive\n",
    "len(Czechowski_means_sd_genetype[Czechowski_means_sd_genetype.gene_type == 'constitutive'])"
   ]
  },
  {
   "cell_type": "code",
   "execution_count": 31,
   "metadata": {},
   "outputs": [
    {
     "data": {
      "text/plain": [
       "45"
      ]
     },
     "execution_count": 31,
     "metadata": {},
     "output_type": "execute_result"
    }
   ],
   "source": [
    "#variable\n",
    "len(Czechowski_means_sd_genetype[Czechowski_means_sd_genetype.gene_type == 'variable'])"
   ]
  },
  {
   "cell_type": "code",
   "execution_count": 32,
   "metadata": {},
   "outputs": [
    {
     "data": {
      "text/plain": [
       "79"
      ]
     },
     "execution_count": 32,
     "metadata": {},
     "output_type": "execute_result"
    }
   ],
   "source": [
    "#control\n",
    "len(Czechowski_means_sd_genetype[Czechowski_means_sd_genetype.gene_type == 'control'])"
   ]
  },
  {
   "cell_type": "code",
   "execution_count": 33,
   "metadata": {},
   "outputs": [
    {
     "data": {
      "image/png": "[encoded data removed]",
      "text/plain": [
       "<Figure size 432x288 with 1 Axes>"
      ]
     },
     "metadata": {
      "needs_background": "light"
     },
     "output_type": "display_data"
    }
   ],
   "source": [
    "#plot all promoter distribution of TF CV values\n",
    "all_prom_distribution(Czechowski_genetypes, 'expression_CV', 'expression CV', 'Czechowski_openchrom_expressionCV')"
   ]
  },
  {
   "cell_type": "markdown",
   "metadata": {},
   "source": [
    "## the CV values seem to mainly have low CVs so tend towards constitutive as in Czechowski et al 2005"
   ]
  },
  {
   "cell_type": "code",
   "execution_count": 34,
   "metadata": {},
   "outputs": [
    {
     "data": {
      "image/png": "[encoded data removed]",
      "text/plain": [
       "<Figure size 360x360 with 1 Axes>"
      ]
     },
     "metadata": {},
     "output_type": "display_data"
    }
   ],
   "source": [
    "#plot the CV for each promoter gene_type - 400bp rootshootintersect open chromatin individual TF CVs\n",
    "make_plot(Czechowski_genetypes,'gene_type', 'expression_CV','gene type', 'cognate TF expression CV', 'Czechowski_openchrom_CV', 'box')"
   ]
  },
  {
   "cell_type": "code",
   "execution_count": 36,
   "metadata": {},
   "outputs": [
    {
     "data": {
      "image/png": "[encoded data removed]",
      "text/plain": [
       "<Figure size 360x360 with 1 Axes>"
      ]
     },
     "metadata": {},
     "output_type": "display_data"
    }
   ],
   "source": [
    "#plot the mean CV for each promoter gene_type - 400bp rootshootintersect open chromatin\n",
    "make_plot(Czechowski_means_sd_genetype,'gene_type', 'mean_cv','gene type', 'mean cognate TF expression CV', 'Czechowski_openchrom_CV_mean', 'box')"
   ]
  },
  {
   "cell_type": "code",
   "execution_count": 179,
   "metadata": {},
   "outputs": [
    {
     "data": {
      "image/png": "[encoded data removed]",
      "text/plain": [
       "<Figure size 360x360 with 1 Axes>"
      ]
     },
     "metadata": {},
     "output_type": "display_data"
    }
   ],
   "source": [
    "#plot the standard deviation of the CVs of the TFs binding each promoter split into gene_type\n",
    "make_plot(Czechowski_means_sd_genetype,'gene_type', 'sd','gene type', 'sd', 'Czechowski_openchrom_CV_sd', 'box')"
   ]
  },
  {
   "cell_type": "markdown",
   "metadata": {},
   "source": [
    "## variable genes seem to have more variation in CV values of TFs that bind them. This makes sense since variable genes seem to have more diverse TFs binding them"
   ]
  },
  {
   "cell_type": "code",
   "execution_count": 180,
   "metadata": {},
   "outputs": [],
   "source": [
    "# #now plot CV distribution for constitutive genes vs variable genes\n",
    "#this took too long so commenting out for now\n",
    "# make_plot(Czechowski_genetypes,'gene_type', 'expression_CV','gene type', 'expression CV', 'Czechowski_CV', 'box')"
   ]
  },
  {
   "cell_type": "code",
   "execution_count": 181,
   "metadata": {},
   "outputs": [],
   "source": [
    "def test_normality(df,dependent_variable, between):\n",
    "    \"\"\"test normality of data categories\"\"\"\n",
    "    #find gene_type categories\n",
    "    pd.Categorical(df[between])\n",
    "    names = df[between].unique()\n",
    "    #Test normality\n",
    "    #returns test statistic, p-value\n",
    "    for name in names:\n",
    "        print('{}: {}'.format(name, stats.shapiro(df[dependent_variable][df[between] == name])))"
   ]
  },
  {
   "cell_type": "code",
   "execution_count": 182,
   "metadata": {},
   "outputs": [],
   "source": [
    "def describe_stats(df,dependent_variable, between):\n",
    "    \"\"\"return descriptve statistics\"\"\"\n",
    "    return df.groupby([between])[dependent_variable].describe()"
   ]
  },
  {
   "cell_type": "code",
   "execution_count": 183,
   "metadata": {},
   "outputs": [],
   "source": [
    "def variance(df, dependent_variable, between):\n",
    "    \"\"\"test variance of data categories\"\"\"\n",
    "    #find gene_type categories\n",
    "    pd.Categorical(df[between])\n",
    "    names = df[between].unique()\n",
    "    #test variance    \n",
    "    return stats.levene(df[dependent_variable][df[between] == names[0]], \n",
    "               df[dependent_variable][df[between] == names[1]], \n",
    "               df[dependent_variable][df[between] == names[2]])"
   ]
  },
  {
   "cell_type": "code",
   "execution_count": 184,
   "metadata": {},
   "outputs": [],
   "source": [
    "def kruskal_test(df,dependent_variable,between):\n",
    "    \"\"\"Do Kruskal-Wallis analysis\"\"\"\n",
    "    #Kruskal-Wallis one way analysis of variance\n",
    "    return kruskal(data=df, dv=dependent_variable, between=between)\n",
    "    "
   ]
  },
  {
   "cell_type": "code",
   "execution_count": 185,
   "metadata": {},
   "outputs": [],
   "source": [
    "def dunn_posthoc_test(df,dependent_variable, between):\n",
    "    \"\"\"dunn_posthoc tests with bonferroni multiple correction\"\"\"\n",
    "    return sp.posthoc_dunn(df, val_col=dependent_variable, group_col=between, p_adjust='bonferroni')"
   ]
  },
  {
   "cell_type": "code",
   "execution_count": 186,
   "metadata": {},
   "outputs": [
    {
     "data": {
      "text/html": [
       "<div>\n",
       "<style scoped>\n",
       "    .dataframe tbody tr th:only-of-type {\n",
       "        vertical-align: middle;\n",
       "    }\n",
       "\n",
       "    .dataframe tbody tr th {\n",
       "        vertical-align: top;\n",
       "    }\n",
       "\n",
       "    .dataframe thead th {\n",
       "        text-align: right;\n",
       "    }\n",
       "</style>\n",
       "<table border=\"1\" class=\"dataframe\">\n",
       "  <thead>\n",
       "    <tr style=\"text-align: right;\">\n",
       "      <th></th>\n",
       "      <th>promoter_AGI</th>\n",
       "      <th>gene_type</th>\n",
       "      <th>chr</th>\n",
       "      <th>start</th>\n",
       "      <th>stop</th>\n",
       "      <th>name_rep</th>\n",
       "      <th>score</th>\n",
       "      <th>strand</th>\n",
       "      <th>p-value</th>\n",
       "      <th>q-value</th>\n",
       "      <th>...</th>\n",
       "      <th>TF_family</th>\n",
       "      <th>TF_AGI</th>\n",
       "      <th>rank</th>\n",
       "      <th>probe_id</th>\n",
       "      <th>expression_mean</th>\n",
       "      <th>expression_SD</th>\n",
       "      <th>expression_CV</th>\n",
       "      <th>proportion_of_values_present_in_mas5</th>\n",
       "      <th>presence_in_araport11</th>\n",
       "      <th>constitutive_in_araport11</th>\n",
       "    </tr>\n",
       "  </thead>\n",
       "  <tbody>\n",
       "    <tr>\n",
       "      <th>0</th>\n",
       "      <td>AT4G34270</td>\n",
       "      <td>constitutive</td>\n",
       "      <td>4.0</td>\n",
       "      <td>16406492.0</td>\n",
       "      <td>16406522.0</td>\n",
       "      <td>BBRBPC_tnt.BPC5_col_a</td>\n",
       "      <td>-48.57690</td>\n",
       "      <td>-</td>\n",
       "      <td>7.390000e-05</td>\n",
       "      <td>0.0386</td>\n",
       "      <td>...</td>\n",
       "      <td>BBRBPC</td>\n",
       "      <td>AT4G38910</td>\n",
       "      <td>NaN</td>\n",
       "      <td>NaN</td>\n",
       "      <td>NaN</td>\n",
       "      <td>NaN</td>\n",
       "      <td>NaN</td>\n",
       "      <td>NaN</td>\n",
       "      <td>NaN</td>\n",
       "      <td>NaN</td>\n",
       "    </tr>\n",
       "    <tr>\n",
       "      <th>1</th>\n",
       "      <td>AT4G34270</td>\n",
       "      <td>constitutive</td>\n",
       "      <td>4.0</td>\n",
       "      <td>16406500.0</td>\n",
       "      <td>16406521.0</td>\n",
       "      <td>ND_tnt.FRS9_col_a</td>\n",
       "      <td>5.68254</td>\n",
       "      <td>+</td>\n",
       "      <td>2.530000e-05</td>\n",
       "      <td>0.0203</td>\n",
       "      <td>...</td>\n",
       "      <td>ND</td>\n",
       "      <td>AT4G38170</td>\n",
       "      <td>4890.0</td>\n",
       "      <td>253029_at</td>\n",
       "      <td>69.694512</td>\n",
       "      <td>32.136091</td>\n",
       "      <td>0.461099</td>\n",
       "      <td>83.0</td>\n",
       "      <td>1.0</td>\n",
       "      <td>0.0</td>\n",
       "    </tr>\n",
       "    <tr>\n",
       "      <th>2</th>\n",
       "      <td>AT4G34270</td>\n",
       "      <td>constitutive</td>\n",
       "      <td>4.0</td>\n",
       "      <td>16406500.0</td>\n",
       "      <td>16406521.0</td>\n",
       "      <td>BBRBPC_tnt.BPC6_col_a</td>\n",
       "      <td>-2.58904</td>\n",
       "      <td>+</td>\n",
       "      <td>7.530000e-05</td>\n",
       "      <td>0.0478</td>\n",
       "      <td>...</td>\n",
       "      <td>BBRBPC</td>\n",
       "      <td>AT5G42520</td>\n",
       "      <td>1524.0</td>\n",
       "      <td>249199_at</td>\n",
       "      <td>493.182683</td>\n",
       "      <td>149.269860</td>\n",
       "      <td>0.302666</td>\n",
       "      <td>98.0</td>\n",
       "      <td>1.0</td>\n",
       "      <td>0.0</td>\n",
       "    </tr>\n",
       "    <tr>\n",
       "      <th>3</th>\n",
       "      <td>AT4G33380</td>\n",
       "      <td>constitutive</td>\n",
       "      <td>4.0</td>\n",
       "      <td>16071850.0</td>\n",
       "      <td>16071871.0</td>\n",
       "      <td>BBRBPC_tnt.BPC6_col_a</td>\n",
       "      <td>1.84932</td>\n",
       "      <td>+</td>\n",
       "      <td>2.060000e-05</td>\n",
       "      <td>0.0203</td>\n",
       "      <td>...</td>\n",
       "      <td>BBRBPC</td>\n",
       "      <td>AT5G42520</td>\n",
       "      <td>1524.0</td>\n",
       "      <td>249199_at</td>\n",
       "      <td>493.182683</td>\n",
       "      <td>149.269860</td>\n",
       "      <td>0.302666</td>\n",
       "      <td>98.0</td>\n",
       "      <td>1.0</td>\n",
       "      <td>0.0</td>\n",
       "    </tr>\n",
       "    <tr>\n",
       "      <th>4</th>\n",
       "      <td>AT4G33380</td>\n",
       "      <td>constitutive</td>\n",
       "      <td>4.0</td>\n",
       "      <td>16071850.0</td>\n",
       "      <td>16071865.0</td>\n",
       "      <td>BBRBPC_tnt.BPC1_colamp_a</td>\n",
       "      <td>7.65625</td>\n",
       "      <td>+</td>\n",
       "      <td>3.950000e-05</td>\n",
       "      <td>0.0331</td>\n",
       "      <td>...</td>\n",
       "      <td>BBRBPC</td>\n",
       "      <td>AT2G01930</td>\n",
       "      <td>5762.0</td>\n",
       "      <td>263305_at</td>\n",
       "      <td>181.275661</td>\n",
       "      <td>92.322959</td>\n",
       "      <td>0.509296</td>\n",
       "      <td>100.0</td>\n",
       "      <td>1.0</td>\n",
       "      <td>0.0</td>\n",
       "    </tr>\n",
       "    <tr>\n",
       "      <th>...</th>\n",
       "      <td>...</td>\n",
       "      <td>...</td>\n",
       "      <td>...</td>\n",
       "      <td>...</td>\n",
       "      <td>...</td>\n",
       "      <td>...</td>\n",
       "      <td>...</td>\n",
       "      <td>...</td>\n",
       "      <td>...</td>\n",
       "      <td>...</td>\n",
       "      <td>...</td>\n",
       "      <td>...</td>\n",
       "      <td>...</td>\n",
       "      <td>...</td>\n",
       "      <td>...</td>\n",
       "      <td>...</td>\n",
       "      <td>...</td>\n",
       "      <td>...</td>\n",
       "      <td>...</td>\n",
       "      <td>...</td>\n",
       "      <td>...</td>\n",
       "    </tr>\n",
       "    <tr>\n",
       "      <th>1841</th>\n",
       "      <td>AT4G27652</td>\n",
       "      <td>control</td>\n",
       "      <td>4.0</td>\n",
       "      <td>13809831.0</td>\n",
       "      <td>13809853.0</td>\n",
       "      <td>MYBrelated_tnt.AT1G18960_col_a</td>\n",
       "      <td>17.20550</td>\n",
       "      <td>+</td>\n",
       "      <td>4.090000e-07</td>\n",
       "      <td>0.0425</td>\n",
       "      <td>...</td>\n",
       "      <td>MYBRELATED</td>\n",
       "      <td>AT1G18960</td>\n",
       "      <td>NaN</td>\n",
       "      <td>NaN</td>\n",
       "      <td>NaN</td>\n",
       "      <td>NaN</td>\n",
       "      <td>NaN</td>\n",
       "      <td>NaN</td>\n",
       "      <td>NaN</td>\n",
       "      <td>NaN</td>\n",
       "    </tr>\n",
       "    <tr>\n",
       "      <th>1842</th>\n",
       "      <td>AT4G27652</td>\n",
       "      <td>control</td>\n",
       "      <td>4.0</td>\n",
       "      <td>13809887.0</td>\n",
       "      <td>13809906.0</td>\n",
       "      <td>C2H2_tnt.TF3A_col_a</td>\n",
       "      <td>11.11280</td>\n",
       "      <td>+</td>\n",
       "      <td>1.740000e-05</td>\n",
       "      <td>0.0320</td>\n",
       "      <td>...</td>\n",
       "      <td>C2H2</td>\n",
       "      <td>AT1G72050</td>\n",
       "      <td>3917.0</td>\n",
       "      <td>256344_at</td>\n",
       "      <td>432.292941</td>\n",
       "      <td>176.708645</td>\n",
       "      <td>0.408771</td>\n",
       "      <td>98.0</td>\n",
       "      <td>1.0</td>\n",
       "      <td>0.0</td>\n",
       "    </tr>\n",
       "    <tr>\n",
       "      <th>1843</th>\n",
       "      <td>AT4G27652</td>\n",
       "      <td>control</td>\n",
       "      <td>4.0</td>\n",
       "      <td>13809887.0</td>\n",
       "      <td>13809902.0</td>\n",
       "      <td>C2C2dof_tnt.AT1G47655_colamp_a</td>\n",
       "      <td>13.09380</td>\n",
       "      <td>+</td>\n",
       "      <td>1.120000e-05</td>\n",
       "      <td>0.0471</td>\n",
       "      <td>...</td>\n",
       "      <td>C2C2DOF</td>\n",
       "      <td>AT1G47655</td>\n",
       "      <td>NaN</td>\n",
       "      <td>NaN</td>\n",
       "      <td>NaN</td>\n",
       "      <td>NaN</td>\n",
       "      <td>NaN</td>\n",
       "      <td>NaN</td>\n",
       "      <td>NaN</td>\n",
       "      <td>NaN</td>\n",
       "    </tr>\n",
       "    <tr>\n",
       "      <th>1844</th>\n",
       "      <td>AT5G65710</td>\n",
       "      <td>control</td>\n",
       "      <td>NaN</td>\n",
       "      <td>NaN</td>\n",
       "      <td>NaN</td>\n",
       "      <td>NaN</td>\n",
       "      <td>NaN</td>\n",
       "      <td>NaN</td>\n",
       "      <td>NaN</td>\n",
       "      <td>NaN</td>\n",
       "      <td>...</td>\n",
       "      <td>NaN</td>\n",
       "      <td>NaN</td>\n",
       "      <td>NaN</td>\n",
       "      <td>NaN</td>\n",
       "      <td>NaN</td>\n",
       "      <td>NaN</td>\n",
       "      <td>NaN</td>\n",
       "      <td>NaN</td>\n",
       "      <td>NaN</td>\n",
       "      <td>NaN</td>\n",
       "    </tr>\n",
       "    <tr>\n",
       "      <th>1845</th>\n",
       "      <td>AT4G39950</td>\n",
       "      <td>control</td>\n",
       "      <td>NaN</td>\n",
       "      <td>NaN</td>\n",
       "      <td>NaN</td>\n",
       "      <td>NaN</td>\n",
       "      <td>NaN</td>\n",
       "      <td>NaN</td>\n",
       "      <td>NaN</td>\n",
       "      <td>NaN</td>\n",
       "      <td>...</td>\n",
       "      <td>NaN</td>\n",
       "      <td>NaN</td>\n",
       "      <td>NaN</td>\n",
       "      <td>NaN</td>\n",
       "      <td>NaN</td>\n",
       "      <td>NaN</td>\n",
       "      <td>NaN</td>\n",
       "      <td>NaN</td>\n",
       "      <td>NaN</td>\n",
       "      <td>NaN</td>\n",
       "    </tr>\n",
       "  </tbody>\n",
       "</table>\n",
       "<p>1846 rows × 22 columns</p>\n",
       "</div>"
      ],
      "text/plain": [
       "     promoter_AGI     gene_type  chr       start        stop  \\\n",
       "0       AT4G34270  constitutive  4.0  16406492.0  16406522.0   \n",
       "1       AT4G34270  constitutive  4.0  16406500.0  16406521.0   \n",
       "2       AT4G34270  constitutive  4.0  16406500.0  16406521.0   \n",
       "3       AT4G33380  constitutive  4.0  16071850.0  16071871.0   \n",
       "4       AT4G33380  constitutive  4.0  16071850.0  16071865.0   \n",
       "...           ...           ...  ...         ...         ...   \n",
       "1841    AT4G27652       control  4.0  13809831.0  13809853.0   \n",
       "1842    AT4G27652       control  4.0  13809887.0  13809906.0   \n",
       "1843    AT4G27652       control  4.0  13809887.0  13809902.0   \n",
       "1844    AT5G65710       control  NaN         NaN         NaN   \n",
       "1845    AT4G39950       control  NaN         NaN         NaN   \n",
       "\n",
       "                            name_rep     score strand       p-value  q-value  \\\n",
       "0              BBRBPC_tnt.BPC5_col_a -48.57690      -  7.390000e-05   0.0386   \n",
       "1                  ND_tnt.FRS9_col_a   5.68254      +  2.530000e-05   0.0203   \n",
       "2              BBRBPC_tnt.BPC6_col_a  -2.58904      +  7.530000e-05   0.0478   \n",
       "3              BBRBPC_tnt.BPC6_col_a   1.84932      +  2.060000e-05   0.0203   \n",
       "4           BBRBPC_tnt.BPC1_colamp_a   7.65625      +  3.950000e-05   0.0331   \n",
       "...                              ...       ...    ...           ...      ...   \n",
       "1841  MYBrelated_tnt.AT1G18960_col_a  17.20550      +  4.090000e-07   0.0425   \n",
       "1842             C2H2_tnt.TF3A_col_a  11.11280      +  1.740000e-05   0.0320   \n",
       "1843  C2C2dof_tnt.AT1G47655_colamp_a  13.09380      +  1.120000e-05   0.0471   \n",
       "1844                             NaN       NaN    NaN           NaN      NaN   \n",
       "1845                             NaN       NaN    NaN           NaN      NaN   \n",
       "\n",
       "      ...   TF_family     TF_AGI    rank   probe_id  expression_mean  \\\n",
       "0     ...      BBRBPC  AT4G38910     NaN        NaN              NaN   \n",
       "1     ...          ND  AT4G38170  4890.0  253029_at        69.694512   \n",
       "2     ...      BBRBPC  AT5G42520  1524.0  249199_at       493.182683   \n",
       "3     ...      BBRBPC  AT5G42520  1524.0  249199_at       493.182683   \n",
       "4     ...      BBRBPC  AT2G01930  5762.0  263305_at       181.275661   \n",
       "...   ...         ...        ...     ...        ...              ...   \n",
       "1841  ...  MYBRELATED  AT1G18960     NaN        NaN              NaN   \n",
       "1842  ...        C2H2  AT1G72050  3917.0  256344_at       432.292941   \n",
       "1843  ...     C2C2DOF  AT1G47655     NaN        NaN              NaN   \n",
       "1844  ...         NaN        NaN     NaN        NaN              NaN   \n",
       "1845  ...         NaN        NaN     NaN        NaN              NaN   \n",
       "\n",
       "     expression_SD  expression_CV  proportion_of_values_present_in_mas5  \\\n",
       "0              NaN            NaN                                   NaN   \n",
       "1        32.136091       0.461099                                  83.0   \n",
       "2       149.269860       0.302666                                  98.0   \n",
       "3       149.269860       0.302666                                  98.0   \n",
       "4        92.322959       0.509296                                 100.0   \n",
       "...            ...            ...                                   ...   \n",
       "1841           NaN            NaN                                   NaN   \n",
       "1842    176.708645       0.408771                                  98.0   \n",
       "1843           NaN            NaN                                   NaN   \n",
       "1844           NaN            NaN                                   NaN   \n",
       "1845           NaN            NaN                                   NaN   \n",
       "\n",
       "      presence_in_araport11  constitutive_in_araport11  \n",
       "0                       NaN                        NaN  \n",
       "1                       1.0                        0.0  \n",
       "2                       1.0                        0.0  \n",
       "3                       1.0                        0.0  \n",
       "4                       1.0                        0.0  \n",
       "...                     ...                        ...  \n",
       "1841                    NaN                        NaN  \n",
       "1842                    1.0                        0.0  \n",
       "1843                    NaN                        NaN  \n",
       "1844                    NaN                        NaN  \n",
       "1845                    NaN                        NaN  \n",
       "\n",
       "[1846 rows x 22 columns]"
      ]
     },
     "execution_count": 186,
     "metadata": {},
     "output_type": "execute_result"
    }
   ],
   "source": [
    "Czechowski_genetypes"
   ]
  },
  {
   "cell_type": "code",
   "execution_count": 187,
   "metadata": {},
   "outputs": [],
   "source": [
    "#rename df for easier analysis\n",
    "df = Czechowski_means_sd_genetype\n",
    "between_variable = 'gene_type'\n",
    "dependent_variable = 'mean_cv'"
   ]
  },
  {
   "cell_type": "code",
   "execution_count": 188,
   "metadata": {},
   "outputs": [
    {
     "name": "stdout",
     "output_type": "stream",
     "text": [
      "constitutive: ShapiroResult(statistic=0.7457193732261658, pvalue=9.199740413912139e-10)\n",
      "variable: ShapiroResult(statistic=0.6534824371337891, pvalue=4.731568470361935e-09)\n",
      "control: ShapiroResult(statistic=0.8179774284362793, pvalue=1.8294986858791162e-08)\n"
     ]
    }
   ],
   "source": [
    "test_normality(df,dependent_variable,between_variable)"
   ]
  },
  {
   "cell_type": "markdown",
   "metadata": {},
   "source": [
    "## not normal"
   ]
  },
  {
   "cell_type": "code",
   "execution_count": 189,
   "metadata": {},
   "outputs": [
    {
     "data": {
      "text/plain": [
       "LeveneResult(statistic=0.7527349903791213, pvalue=0.47246139788494923)"
      ]
     },
     "execution_count": 189,
     "metadata": {},
     "output_type": "execute_result"
    }
   ],
   "source": [
    "variance(df, dependent_variable,between_variable)"
   ]
  },
  {
   "cell_type": "markdown",
   "metadata": {},
   "source": [
    "### fail to reject null hypothesis that variances are equal"
   ]
  },
  {
   "cell_type": "code",
   "execution_count": 190,
   "metadata": {},
   "outputs": [
    {
     "data": {
      "text/html": [
       "<div>\n",
       "<style scoped>\n",
       "    .dataframe tbody tr th:only-of-type {\n",
       "        vertical-align: middle;\n",
       "    }\n",
       "\n",
       "    .dataframe tbody tr th {\n",
       "        vertical-align: top;\n",
       "    }\n",
       "\n",
       "    .dataframe thead th {\n",
       "        text-align: right;\n",
       "    }\n",
       "</style>\n",
       "<table border=\"1\" class=\"dataframe\">\n",
       "  <thead>\n",
       "    <tr style=\"text-align: right;\">\n",
       "      <th></th>\n",
       "      <th>count</th>\n",
       "      <th>mean</th>\n",
       "      <th>std</th>\n",
       "      <th>min</th>\n",
       "      <th>25%</th>\n",
       "      <th>50%</th>\n",
       "      <th>75%</th>\n",
       "      <th>max</th>\n",
       "    </tr>\n",
       "    <tr>\n",
       "      <th>gene_type</th>\n",
       "      <th></th>\n",
       "      <th></th>\n",
       "      <th></th>\n",
       "      <th></th>\n",
       "      <th></th>\n",
       "      <th></th>\n",
       "      <th></th>\n",
       "      <th></th>\n",
       "    </tr>\n",
       "  </thead>\n",
       "  <tbody>\n",
       "    <tr>\n",
       "      <th>constitutive</th>\n",
       "      <td>71.0</td>\n",
       "      <td>0.508341</td>\n",
       "      <td>0.164360</td>\n",
       "      <td>0.349675</td>\n",
       "      <td>0.416521</td>\n",
       "      <td>0.424354</td>\n",
       "      <td>0.535319</td>\n",
       "      <td>1.107077</td>\n",
       "    </tr>\n",
       "    <tr>\n",
       "      <th>control</th>\n",
       "      <td>79.0</td>\n",
       "      <td>0.545128</td>\n",
       "      <td>0.168783</td>\n",
       "      <td>0.367514</td>\n",
       "      <td>0.417933</td>\n",
       "      <td>0.458436</td>\n",
       "      <td>0.683107</td>\n",
       "      <td>1.167887</td>\n",
       "    </tr>\n",
       "    <tr>\n",
       "      <th>variable</th>\n",
       "      <td>45.0</td>\n",
       "      <td>0.550403</td>\n",
       "      <td>0.238413</td>\n",
       "      <td>0.302666</td>\n",
       "      <td>0.419046</td>\n",
       "      <td>0.444540</td>\n",
       "      <td>0.640880</td>\n",
       "      <td>1.739770</td>\n",
       "    </tr>\n",
       "  </tbody>\n",
       "</table>\n",
       "</div>"
      ],
      "text/plain": [
       "              count      mean       std       min       25%       50%  \\\n",
       "gene_type                                                               \n",
       "constitutive   71.0  0.508341  0.164360  0.349675  0.416521  0.424354   \n",
       "control        79.0  0.545128  0.168783  0.367514  0.417933  0.458436   \n",
       "variable       45.0  0.550403  0.238413  0.302666  0.419046  0.444540   \n",
       "\n",
       "                   75%       max  \n",
       "gene_type                         \n",
       "constitutive  0.535319  1.107077  \n",
       "control       0.683107  1.167887  \n",
       "variable      0.640880  1.739770  "
      ]
     },
     "execution_count": 190,
     "metadata": {},
     "output_type": "execute_result"
    }
   ],
   "source": [
    "#descriptive stats\n",
    "describe_stats(df, dependent_variable,between_variable)"
   ]
  },
  {
   "cell_type": "code",
   "execution_count": 191,
   "metadata": {},
   "outputs": [
    {
     "data": {
      "text/html": [
       "<div>\n",
       "<style scoped>\n",
       "    .dataframe tbody tr th:only-of-type {\n",
       "        vertical-align: middle;\n",
       "    }\n",
       "\n",
       "    .dataframe tbody tr th {\n",
       "        vertical-align: top;\n",
       "    }\n",
       "\n",
       "    .dataframe thead th {\n",
       "        text-align: right;\n",
       "    }\n",
       "</style>\n",
       "<table border=\"1\" class=\"dataframe\">\n",
       "  <thead>\n",
       "    <tr style=\"text-align: right;\">\n",
       "      <th></th>\n",
       "      <th>Source</th>\n",
       "      <th>ddof1</th>\n",
       "      <th>H</th>\n",
       "      <th>p-unc</th>\n",
       "    </tr>\n",
       "  </thead>\n",
       "  <tbody>\n",
       "    <tr>\n",
       "      <th>Kruskal</th>\n",
       "      <td>gene_type</td>\n",
       "      <td>2</td>\n",
       "      <td>2.166725</td>\n",
       "      <td>0.338455</td>\n",
       "    </tr>\n",
       "  </tbody>\n",
       "</table>\n",
       "</div>"
      ],
      "text/plain": [
       "            Source  ddof1         H     p-unc\n",
       "Kruskal  gene_type      2  2.166725  0.338455"
      ]
     },
     "execution_count": 191,
     "metadata": {},
     "output_type": "execute_result"
    }
   ],
   "source": [
    "kruskal_test(df, dependent_variable,between_variable)"
   ]
  },
  {
   "cell_type": "code",
   "execution_count": 192,
   "metadata": {},
   "outputs": [],
   "source": [
    "# no significant difference in CV values between constitutive and variable or control 400bp promoters"
   ]
  },
  {
   "cell_type": "code",
   "execution_count": 193,
   "metadata": {},
   "outputs": [
    {
     "data": {
      "text/html": [
       "<div>\n",
       "<style scoped>\n",
       "    .dataframe tbody tr th:only-of-type {\n",
       "        vertical-align: middle;\n",
       "    }\n",
       "\n",
       "    .dataframe tbody tr th {\n",
       "        vertical-align: top;\n",
       "    }\n",
       "\n",
       "    .dataframe thead th {\n",
       "        text-align: right;\n",
       "    }\n",
       "</style>\n",
       "<table border=\"1\" class=\"dataframe\">\n",
       "  <thead>\n",
       "    <tr style=\"text-align: right;\">\n",
       "      <th></th>\n",
       "      <th>constitutive</th>\n",
       "      <th>control</th>\n",
       "      <th>variable</th>\n",
       "    </tr>\n",
       "  </thead>\n",
       "  <tbody>\n",
       "    <tr>\n",
       "      <th>constitutive</th>\n",
       "      <td>-1.000000</td>\n",
       "      <td>0.502242</td>\n",
       "      <td>0.841038</td>\n",
       "    </tr>\n",
       "    <tr>\n",
       "      <th>control</th>\n",
       "      <td>0.502242</td>\n",
       "      <td>-1.000000</td>\n",
       "      <td>1.000000</td>\n",
       "    </tr>\n",
       "    <tr>\n",
       "      <th>variable</th>\n",
       "      <td>0.841038</td>\n",
       "      <td>1.000000</td>\n",
       "      <td>-1.000000</td>\n",
       "    </tr>\n",
       "  </tbody>\n",
       "</table>\n",
       "</div>"
      ],
      "text/plain": [
       "              constitutive   control  variable\n",
       "constitutive     -1.000000  0.502242  0.841038\n",
       "control           0.502242 -1.000000  1.000000\n",
       "variable          0.841038  1.000000 -1.000000"
      ]
     },
     "execution_count": 193,
     "metadata": {},
     "output_type": "execute_result"
    }
   ],
   "source": [
    "dunn_posthoc_test(df, dependent_variable,between_variable)"
   ]
  },
  {
   "cell_type": "markdown",
   "metadata": {},
   "source": []
  },
  {
   "cell_type": "code",
   "execution_count": null,
   "metadata": {},
   "outputs": [],
   "source": [
    "## test to see if difference in standard_deviation between CV values of TFs binding each promoter for each promoter gene type"
   ]
  },
  {
   "cell_type": "code",
   "execution_count": 83,
   "metadata": {},
   "outputs": [],
   "source": [
    "#rename df for easier analysis\n",
    "df = Czechowski_means_sd_genetype\n",
    "between_variable = 'gene_type'\n",
    "dependent_variable = 'sd'"
   ]
  },
  {
   "cell_type": "code",
   "execution_count": 84,
   "metadata": {},
   "outputs": [
    {
     "name": "stdout",
     "output_type": "stream",
     "text": [
      "constitutive: ShapiroResult(statistic=nan, pvalue=1.0)\n",
      "variable: ShapiroResult(statistic=nan, pvalue=1.0)\n",
      "control: ShapiroResult(statistic=nan, pvalue=1.0)\n"
     ]
    }
   ],
   "source": [
    "test_normality(df,dependent_variable,between_variable)"
   ]
  },
  {
   "cell_type": "code",
   "execution_count": 85,
   "metadata": {},
   "outputs": [
    {
     "data": {
      "text/html": [
       "<div>\n",
       "<style scoped>\n",
       "    .dataframe tbody tr th:only-of-type {\n",
       "        vertical-align: middle;\n",
       "    }\n",
       "\n",
       "    .dataframe tbody tr th {\n",
       "        vertical-align: top;\n",
       "    }\n",
       "\n",
       "    .dataframe thead th {\n",
       "        text-align: right;\n",
       "    }\n",
       "</style>\n",
       "<table border=\"1\" class=\"dataframe\">\n",
       "  <thead>\n",
       "    <tr style=\"text-align: right;\">\n",
       "      <th></th>\n",
       "      <th>count</th>\n",
       "      <th>mean</th>\n",
       "      <th>std</th>\n",
       "      <th>min</th>\n",
       "      <th>25%</th>\n",
       "      <th>50%</th>\n",
       "      <th>75%</th>\n",
       "      <th>max</th>\n",
       "    </tr>\n",
       "    <tr>\n",
       "      <th>gene_type</th>\n",
       "      <th></th>\n",
       "      <th></th>\n",
       "      <th></th>\n",
       "      <th></th>\n",
       "      <th></th>\n",
       "      <th></th>\n",
       "      <th></th>\n",
       "      <th></th>\n",
       "    </tr>\n",
       "  </thead>\n",
       "  <tbody>\n",
       "    <tr>\n",
       "      <th>constitutive</th>\n",
       "      <td>66.0</td>\n",
       "      <td>0.203989</td>\n",
       "      <td>0.222001</td>\n",
       "      <td>0.011383</td>\n",
       "      <td>0.055376</td>\n",
       "      <td>0.108105</td>\n",
       "      <td>0.336858</td>\n",
       "      <td>1.024733</td>\n",
       "    </tr>\n",
       "    <tr>\n",
       "      <th>control</th>\n",
       "      <td>73.0</td>\n",
       "      <td>0.249383</td>\n",
       "      <td>0.219825</td>\n",
       "      <td>0.009657</td>\n",
       "      <td>0.071926</td>\n",
       "      <td>0.129320</td>\n",
       "      <td>0.481477</td>\n",
       "      <td>0.764199</td>\n",
       "    </tr>\n",
       "    <tr>\n",
       "      <th>variable</th>\n",
       "      <td>40.0</td>\n",
       "      <td>0.224175</td>\n",
       "      <td>0.213663</td>\n",
       "      <td>0.009657</td>\n",
       "      <td>0.068889</td>\n",
       "      <td>0.099161</td>\n",
       "      <td>0.465330</td>\n",
       "      <td>0.587700</td>\n",
       "    </tr>\n",
       "  </tbody>\n",
       "</table>\n",
       "</div>"
      ],
      "text/plain": [
       "              count      mean       std       min       25%       50%  \\\n",
       "gene_type                                                               \n",
       "constitutive   66.0  0.203989  0.222001  0.011383  0.055376  0.108105   \n",
       "control        73.0  0.249383  0.219825  0.009657  0.071926  0.129320   \n",
       "variable       40.0  0.224175  0.213663  0.009657  0.068889  0.099161   \n",
       "\n",
       "                   75%       max  \n",
       "gene_type                         \n",
       "constitutive  0.336858  1.024733  \n",
       "control       0.481477  0.764199  \n",
       "variable      0.465330  0.587700  "
      ]
     },
     "execution_count": 85,
     "metadata": {},
     "output_type": "execute_result"
    }
   ],
   "source": [
    "#descriptive stats\n",
    "describe_stats(df, dependent_variable,between_variable)"
   ]
  },
  {
   "cell_type": "code",
   "execution_count": 86,
   "metadata": {},
   "outputs": [
    {
     "data": {
      "text/html": [
       "<div>\n",
       "<style scoped>\n",
       "    .dataframe tbody tr th:only-of-type {\n",
       "        vertical-align: middle;\n",
       "    }\n",
       "\n",
       "    .dataframe tbody tr th {\n",
       "        vertical-align: top;\n",
       "    }\n",
       "\n",
       "    .dataframe thead th {\n",
       "        text-align: right;\n",
       "    }\n",
       "</style>\n",
       "<table border=\"1\" class=\"dataframe\">\n",
       "  <thead>\n",
       "    <tr style=\"text-align: right;\">\n",
       "      <th></th>\n",
       "      <th>Source</th>\n",
       "      <th>ddof1</th>\n",
       "      <th>H</th>\n",
       "      <th>p-unc</th>\n",
       "    </tr>\n",
       "  </thead>\n",
       "  <tbody>\n",
       "    <tr>\n",
       "      <th>Kruskal</th>\n",
       "      <td>gene_type</td>\n",
       "      <td>2</td>\n",
       "      <td>1.38439</td>\n",
       "      <td>0.500476</td>\n",
       "    </tr>\n",
       "  </tbody>\n",
       "</table>\n",
       "</div>"
      ],
      "text/plain": [
       "            Source  ddof1        H     p-unc\n",
       "Kruskal  gene_type      2  1.38439  0.500476"
      ]
     },
     "execution_count": 86,
     "metadata": {},
     "output_type": "execute_result"
    }
   ],
   "source": [
    "kruskal_test(df, dependent_variable,between_variable)"
   ]
  },
  {
   "cell_type": "code",
   "execution_count": 87,
   "metadata": {},
   "outputs": [],
   "source": [
    "## no significant difference in TFBS CV sd between the promoter types"
   ]
  },
  {
   "cell_type": "code",
   "execution_count": null,
   "metadata": {},
   "outputs": [],
   "source": []
  },
  {
   "cell_type": "code",
   "execution_count": null,
   "metadata": {},
   "outputs": [],
   "source": []
  }
 ],
 "metadata": {
  "kernelspec": {
   "display_name": "Python [conda env:PromoterArchitecturePipeline] *",
   "language": "python",
   "name": "conda-env-PromoterArchitecturePipeline-py"
  },
  "language_info": {
   "codemirror_mode": {
    "name": "ipython",
    "version": 3
   },
   "file_extension": ".py",
   "mimetype": "text/x-python",
   "name": "python",
   "nbconvert_exporter": "python",
   "pygments_lexer": "ipython3",
   "version": "3.7.6"
  }
 },
 "nbformat": 4,
 "nbformat_minor": 4
}
