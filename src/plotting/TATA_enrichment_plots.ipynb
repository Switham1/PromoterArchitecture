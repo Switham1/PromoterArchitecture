{
 "cells": [
  {
   "cell_type": "code",
   "execution_count": 3,
   "metadata": {},
   "outputs": [],
   "source": [
    "import pandas as pd\n",
    "import seaborn as sns\n",
    "import matplotlib.pyplot as plt\n",
    "#import argparse"
   ]
  },
  {
   "cell_type": "code",
   "execution_count": 4,
   "metadata": {},
   "outputs": [],
   "source": [
    "# parser = argparse.ArgumentParser(description='TATA_enrichment_plots')\n",
    "# parser.add_argument('file_names', type=str, help='Name of folder and filenames for the promoters extracted')\n",
    "# parser.add_argument('gat_TATA_constitutive_output', type=str, help='Location of constitutive promoter gat analysis output')\n",
    "# parser.add_argument('gat_TATA_variable_output', type=str, help='Location of variable promoter gat analysis output')\n",
    "# parser.add_argument('output_prefix', type=str, help='Output prefix to add to plot file name')\n",
    "\n",
    "# args = parser.parse_args()"
   ]
  },
  {
   "cell_type": "code",
   "execution_count": 5,
   "metadata": {},
   "outputs": [],
   "source": [
    "file_names = 'non-overlapping_includingbidirectional_all_genes_newannotation'\n",
    "gat_TATA_constitutive_output = f'../../data/output/{file_names}/TATA/gat_analysis/gat_promoters_5UTR_Czechowski_TATA_constitutive.out'\n",
    "gat_TATA_variable_output = f'../../data/output/{file_names}/TATA/gat_analysis/gat_promoters_5UTR_Czechowski_TATA_variable.out'\n",
    "output_prefix = 'Czechowski_promoters_5UTR'"
   ]
  },
  {
   "cell_type": "code",
   "execution_count": 8,
   "metadata": {},
   "outputs": [],
   "source": [
    "def create_plot(gat_TATA_constitutive_output,gat_TATA_variable_output):\n",
    "    \"\"\"import and process the raw outputs after running gat (Genomic association tester). Then create barplot of constitutive and variable gene TATA enrichment\"\"\"\n",
    "    #import gat output files as dfs\n",
    "    constitutive = pd.read_table(gat_TATA_constitutive_output, sep='\\t', header=0)\n",
    "    variable = pd.read_table(gat_TATA_variable_output, sep='\\t', header=0)\n",
    "    #merge dfs\n",
    "    merged = pd.concat([constitutive,variable], ignore_index=True)\n",
    "    print(merged)\n",
    "    #set style to ticks\n",
    "    sns.set(style=\"ticks\", color_codes=True)\n",
    "    #bar chart, 95% confidence intervals\n",
    "    plot = sns.barplot(x=\"annotation\", y=\"l2fold\", data=merged)\n",
    "    plot.axhline(0, color='black')\n",
    "    plt.xlabel(\"Gene type\")\n",
    "    plt.ylabel(\"Log2-fold enrichment over background\").get_figure().savefig(f'../../data/output/{file_names}/TATA/plots/{output_prefix}_log2fold.pdf', format='pdf')"
   ]
  },
  {
   "cell_type": "code",
   "execution_count": 9,
   "metadata": {},
   "outputs": [
    {
     "name": "stdout",
     "output_type": "stream",
     "text": [
      "    track    annotation  observed  expected  CI95low  CI95high   stddev  \\\n",
      "0  merged  constitutive       969  1082.713    943.0    1224.0  86.9772   \n",
      "1  merged      variable      1167  1053.562    907.0    1196.0  86.5382   \n",
      "\n",
      "     fold  l2fold  pvalue  ...  annotation_nsegments  annotation_size  \\\n",
      "0  0.8951 -0.1599   0.095  ...                   100           110793   \n",
      "1  1.1076  0.1474   0.095  ...                   100           106948   \n",
      "\n",
      "   annotation_density  overlap_nsegments  overlap_size  overlap_density  \\\n",
      "0              50.883                 65           969          0.44502   \n",
      "1              49.117                 78          1167          0.53596   \n",
      "\n",
      "   percent_overlap_nsegments_track  percent_overlap_size_track  \\\n",
      "0                          45.4545                     45.1748   \n",
      "1                          54.5455                     54.4056   \n",
      "\n",
      "   percent_overlap_nsegments_annotation  percent_overlap_size_annotation  \n",
      "0                                  65.0                           0.8746  \n",
      "1                                  78.0                           1.0912  \n",
      "\n",
      "[2 rows x 24 columns]\n"
     ]
    },
    {
     "data": {
      "image/png": "[encoded data removed]",
      "text/plain": [
       "<Figure size 432x288 with 1 Axes>"
      ]
     },
     "metadata": {},
     "output_type": "display_data"
    }
   ],
   "source": [
    "#Create barplot\n",
    "create_plot(gat_TATA_constitutive_output,gat_TATA_variable_output)"
   ]
  },
  {
   "cell_type": "code",
   "execution_count": null,
   "metadata": {},
   "outputs": [],
   "source": []
  }
 ],
 "metadata": {
  "kernelspec": {
   "display_name": "Python [conda env:PromoterArchitecturePipeline] *",
   "language": "python",
   "name": "conda-env-PromoterArchitecturePipeline-py"
  },
  "language_info": {
   "codemirror_mode": {
    "name": "ipython",
    "version": 3
   },
   "file_extension": ".py",
   "mimetype": "text/x-python",
   "name": "python",
   "nbconvert_exporter": "python",
   "pygments_lexer": "ipython3",
   "version": "3.7.8"
  }
 },
 "nbformat": 4,
 "nbformat_minor": 4
}
