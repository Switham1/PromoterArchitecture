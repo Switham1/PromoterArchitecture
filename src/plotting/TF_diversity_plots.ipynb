{
 "cells": [
  {
   "cell_type": "code",
   "execution_count": 129,
   "metadata": {},
   "outputs": [],
   "source": [
    "import pandas as pd\n",
    "import numpy as np\n",
    "import skbio\n",
    "from collections import Counter\n",
    "import seaborn as sns\n",
    "import matplotlib.pyplot as plt\n",
    "from scipy import stats\n",
    "from statsmodels.formula.api import ols\n",
    "import researchpy as rp\n",
    "import plotly.express as px\n",
    "import plotly.offline"
   ]
  },
  {
   "cell_type": "code",
   "execution_count": 44,
   "metadata": {},
   "outputs": [],
   "source": [
    "#need to calculate shannon's index"
   ]
  },
  {
   "cell_type": "code",
   "execution_count": 45,
   "metadata": {},
   "outputs": [],
   "source": [
    "mapped_motif_bed = \"../../data/FIMO/responsivepromoters_motifs_mapped.bed\""
   ]
  },
  {
   "cell_type": "code",
   "execution_count": 46,
   "metadata": {},
   "outputs": [],
   "source": [
    "df = pd.read_table(mapped_motif_bed, sep='\\t', header=None)\n",
    "cols = ['chr', 'start', 'stop', 'name_rep', 'score', 'strand', 'promoter_AGI', 'p-value', 'q-value', 'matched_sequence', 'TF_name', 'TF_family', 'TF_AGI']\n",
    "df.columns = cols"
   ]
  },
  {
   "cell_type": "code",
   "execution_count": 47,
   "metadata": {},
   "outputs": [
    {
     "data": {
      "text/html": [
       "<div>\n",
       "<style scoped>\n",
       "    .dataframe tbody tr th:only-of-type {\n",
       "        vertical-align: middle;\n",
       "    }\n",
       "\n",
       "    .dataframe tbody tr th {\n",
       "        vertical-align: top;\n",
       "    }\n",
       "\n",
       "    .dataframe thead th {\n",
       "        text-align: right;\n",
       "    }\n",
       "</style>\n",
       "<table border=\"1\" class=\"dataframe\">\n",
       "  <thead>\n",
       "    <tr style=\"text-align: right;\">\n",
       "      <th></th>\n",
       "      <th>chr</th>\n",
       "      <th>start</th>\n",
       "      <th>stop</th>\n",
       "      <th>name_rep</th>\n",
       "      <th>score</th>\n",
       "      <th>strand</th>\n",
       "      <th>promoter_AGI</th>\n",
       "      <th>p-value</th>\n",
       "      <th>q-value</th>\n",
       "      <th>matched_sequence</th>\n",
       "      <th>TF_name</th>\n",
       "      <th>TF_family</th>\n",
       "      <th>TF_AGI</th>\n",
       "    </tr>\n",
       "  </thead>\n",
       "  <tbody>\n",
       "    <tr>\n",
       "      <th>0</th>\n",
       "      <td>1</td>\n",
       "      <td>33629</td>\n",
       "      <td>33647</td>\n",
       "      <td>ABI3VP1_tnt.VRN1_colamp_a</td>\n",
       "      <td>7.86301</td>\n",
       "      <td>-</td>\n",
       "      <td>AT1G01050</td>\n",
       "      <td>0.000080</td>\n",
       "      <td>0.04650</td>\n",
       "      <td>AAGTTTTGTCTTTTGGTGT</td>\n",
       "      <td>VRN1</td>\n",
       "      <td>ABI3VP1</td>\n",
       "      <td>AT3G18990</td>\n",
       "    </tr>\n",
       "    <tr>\n",
       "      <th>1</th>\n",
       "      <td>1</td>\n",
       "      <td>33961</td>\n",
       "      <td>33979</td>\n",
       "      <td>ABI3VP1_tnt.VRN1_colamp_a</td>\n",
       "      <td>10.71230</td>\n",
       "      <td>+</td>\n",
       "      <td>AT1G01050</td>\n",
       "      <td>0.000030</td>\n",
       "      <td>0.02870</td>\n",
       "      <td>GTGGATGTTTTTTTTTTAC</td>\n",
       "      <td>VRN1</td>\n",
       "      <td>ABI3VP1</td>\n",
       "      <td>AT3G18990</td>\n",
       "    </tr>\n",
       "    <tr>\n",
       "      <th>2</th>\n",
       "      <td>1</td>\n",
       "      <td>33962</td>\n",
       "      <td>33982</td>\n",
       "      <td>REM_tnt.REM19_colamp_a</td>\n",
       "      <td>11.16180</td>\n",
       "      <td>-</td>\n",
       "      <td>AT1G01050</td>\n",
       "      <td>0.000034</td>\n",
       "      <td>0.02860</td>\n",
       "      <td>GAGGTAAAAAAAAAACATCCA</td>\n",
       "      <td>REM19</td>\n",
       "      <td>REM</td>\n",
       "      <td>AT1G49480</td>\n",
       "    </tr>\n",
       "    <tr>\n",
       "      <th>3</th>\n",
       "      <td>1</td>\n",
       "      <td>33964</td>\n",
       "      <td>33982</td>\n",
       "      <td>ABI3VP1_tnt.VRN1_colamp_a</td>\n",
       "      <td>10.35620</td>\n",
       "      <td>+</td>\n",
       "      <td>AT1G01050</td>\n",
       "      <td>0.000034</td>\n",
       "      <td>0.03080</td>\n",
       "      <td>GATGTTTTTTTTTTACCTC</td>\n",
       "      <td>VRN1</td>\n",
       "      <td>ABI3VP1</td>\n",
       "      <td>AT3G18990</td>\n",
       "    </tr>\n",
       "    <tr>\n",
       "      <th>4</th>\n",
       "      <td>1</td>\n",
       "      <td>34064</td>\n",
       "      <td>34084</td>\n",
       "      <td>ND_tnt.FRS9_col_a</td>\n",
       "      <td>7.51562</td>\n",
       "      <td>+</td>\n",
       "      <td>AT1G01050</td>\n",
       "      <td>0.000014</td>\n",
       "      <td>0.03250</td>\n",
       "      <td>ACTTGGCTCTCTTTCACTTCC</td>\n",
       "      <td>FRS9</td>\n",
       "      <td>ND</td>\n",
       "      <td>AT4G38170</td>\n",
       "    </tr>\n",
       "    <tr>\n",
       "      <th>...</th>\n",
       "      <td>...</td>\n",
       "      <td>...</td>\n",
       "      <td>...</td>\n",
       "      <td>...</td>\n",
       "      <td>...</td>\n",
       "      <td>...</td>\n",
       "      <td>...</td>\n",
       "      <td>...</td>\n",
       "      <td>...</td>\n",
       "      <td>...</td>\n",
       "      <td>...</td>\n",
       "      <td>...</td>\n",
       "      <td>...</td>\n",
       "    </tr>\n",
       "    <tr>\n",
       "      <th>16242</th>\n",
       "      <td>5</td>\n",
       "      <td>26957500</td>\n",
       "      <td>26957518</td>\n",
       "      <td>C2H2_tnt.TF3A_col_a</td>\n",
       "      <td>11.18640</td>\n",
       "      <td>-</td>\n",
       "      <td>AT5G67590</td>\n",
       "      <td>0.000018</td>\n",
       "      <td>0.04110</td>\n",
       "      <td>GCTTCTTCTCCTCCTTCCT</td>\n",
       "      <td>TF3A</td>\n",
       "      <td>C2H2</td>\n",
       "      <td>AT1G72050</td>\n",
       "    </tr>\n",
       "    <tr>\n",
       "      <th>16243</th>\n",
       "      <td>5</td>\n",
       "      <td>26957503</td>\n",
       "      <td>26957521</td>\n",
       "      <td>C2H2_tnt.TF3A_col_a</td>\n",
       "      <td>12.82200</td>\n",
       "      <td>-</td>\n",
       "      <td>AT5G67590</td>\n",
       "      <td>0.000008</td>\n",
       "      <td>0.02690</td>\n",
       "      <td>CATGCTTCTTCTCCTCCTT</td>\n",
       "      <td>TF3A</td>\n",
       "      <td>C2H2</td>\n",
       "      <td>AT1G72050</td>\n",
       "    </tr>\n",
       "    <tr>\n",
       "      <th>16244</th>\n",
       "      <td>5</td>\n",
       "      <td>26957535</td>\n",
       "      <td>26957563</td>\n",
       "      <td>BBRBPC_tnt.BPC5_colamp_a</td>\n",
       "      <td>3.36047</td>\n",
       "      <td>+</td>\n",
       "      <td>AT5G67590</td>\n",
       "      <td>0.000009</td>\n",
       "      <td>0.01770</td>\n",
       "      <td>AACCAAAGGAGAGTTTTCGAGAGAGAGAC</td>\n",
       "      <td>BPC5</td>\n",
       "      <td>BBRBPC</td>\n",
       "      <td>AT4G38910</td>\n",
       "    </tr>\n",
       "    <tr>\n",
       "      <th>16245</th>\n",
       "      <td>5</td>\n",
       "      <td>26957541</td>\n",
       "      <td>26957564</td>\n",
       "      <td>BBRBPC_tnt.BPC1_col_a</td>\n",
       "      <td>1.12500</td>\n",
       "      <td>+</td>\n",
       "      <td>AT5G67590</td>\n",
       "      <td>0.000034</td>\n",
       "      <td>0.04670</td>\n",
       "      <td>AGGAGAGTTTTCGAGAGAGAGACT</td>\n",
       "      <td>BPC1</td>\n",
       "      <td>BBRBPC</td>\n",
       "      <td>AT2G01930</td>\n",
       "    </tr>\n",
       "    <tr>\n",
       "      <th>16246</th>\n",
       "      <td>5</td>\n",
       "      <td>26957542</td>\n",
       "      <td>26957571</td>\n",
       "      <td>BBRBPC_tnt.BPC5_col_a</td>\n",
       "      <td>-26.69620</td>\n",
       "      <td>+</td>\n",
       "      <td>AT5G67590</td>\n",
       "      <td>0.000002</td>\n",
       "      <td>0.00738</td>\n",
       "      <td>GGAGAGTTTTCGAGAGAGAGACTTGATGAT</td>\n",
       "      <td>BPC5</td>\n",
       "      <td>BBRBPC</td>\n",
       "      <td>AT4G38910</td>\n",
       "    </tr>\n",
       "  </tbody>\n",
       "</table>\n",
       "<p>16247 rows × 13 columns</p>\n",
       "</div>"
      ],
      "text/plain": [
       "       chr     start      stop                   name_rep     score strand  \\\n",
       "0        1     33629     33647  ABI3VP1_tnt.VRN1_colamp_a   7.86301      -   \n",
       "1        1     33961     33979  ABI3VP1_tnt.VRN1_colamp_a  10.71230      +   \n",
       "2        1     33962     33982     REM_tnt.REM19_colamp_a  11.16180      -   \n",
       "3        1     33964     33982  ABI3VP1_tnt.VRN1_colamp_a  10.35620      +   \n",
       "4        1     34064     34084          ND_tnt.FRS9_col_a   7.51562      +   \n",
       "...    ...       ...       ...                        ...       ...    ...   \n",
       "16242    5  26957500  26957518        C2H2_tnt.TF3A_col_a  11.18640      -   \n",
       "16243    5  26957503  26957521        C2H2_tnt.TF3A_col_a  12.82200      -   \n",
       "16244    5  26957535  26957563   BBRBPC_tnt.BPC5_colamp_a   3.36047      +   \n",
       "16245    5  26957541  26957564      BBRBPC_tnt.BPC1_col_a   1.12500      +   \n",
       "16246    5  26957542  26957571      BBRBPC_tnt.BPC5_col_a -26.69620      +   \n",
       "\n",
       "      promoter_AGI   p-value  q-value                matched_sequence TF_name  \\\n",
       "0        AT1G01050  0.000080  0.04650             AAGTTTTGTCTTTTGGTGT    VRN1   \n",
       "1        AT1G01050  0.000030  0.02870             GTGGATGTTTTTTTTTTAC    VRN1   \n",
       "2        AT1G01050  0.000034  0.02860           GAGGTAAAAAAAAAACATCCA   REM19   \n",
       "3        AT1G01050  0.000034  0.03080             GATGTTTTTTTTTTACCTC    VRN1   \n",
       "4        AT1G01050  0.000014  0.03250           ACTTGGCTCTCTTTCACTTCC    FRS9   \n",
       "...            ...       ...      ...                             ...     ...   \n",
       "16242    AT5G67590  0.000018  0.04110             GCTTCTTCTCCTCCTTCCT    TF3A   \n",
       "16243    AT5G67590  0.000008  0.02690             CATGCTTCTTCTCCTCCTT    TF3A   \n",
       "16244    AT5G67590  0.000009  0.01770   AACCAAAGGAGAGTTTTCGAGAGAGAGAC    BPC5   \n",
       "16245    AT5G67590  0.000034  0.04670        AGGAGAGTTTTCGAGAGAGAGACT    BPC1   \n",
       "16246    AT5G67590  0.000002  0.00738  GGAGAGTTTTCGAGAGAGAGACTTGATGAT    BPC5   \n",
       "\n",
       "      TF_family     TF_AGI  \n",
       "0       ABI3VP1  AT3G18990  \n",
       "1       ABI3VP1  AT3G18990  \n",
       "2           REM  AT1G49480  \n",
       "3       ABI3VP1  AT3G18990  \n",
       "4            ND  AT4G38170  \n",
       "...         ...        ...  \n",
       "16242      C2H2  AT1G72050  \n",
       "16243      C2H2  AT1G72050  \n",
       "16244    BBRBPC  AT4G38910  \n",
       "16245    BBRBPC  AT2G01930  \n",
       "16246    BBRBPC  AT4G38910  \n",
       "\n",
       "[16247 rows x 13 columns]"
      ]
     },
     "execution_count": 47,
     "metadata": {},
     "output_type": "execute_result"
    }
   ],
   "source": [
    "df"
   ]
  },
  {
   "cell_type": "markdown",
   "metadata": {},
   "source": [
    "##### The Shannon index is an information statistic index, which means it assumes all species are represented in a sample and that they are randomly sampled. \n",
    "##### In the Shannon index, p is the proportion (n/N) of individuals of one particular species found (n) divided by the total number of individuals found (N), ln is the natural log, Σ is the sum of the calculations, and s is the number of species.  \n",
    "##### The Simpson index is a dominance index because it gives more weight to common or dominant species.  In this case, a few rare species with only a few representatives will not affect the diversity. \n",
    "##### In the Simpson index, p is the proportion (n/N) of individuals of one particular species found (n) divided by the total number of individuals found (N), Σ is still the sum of the calculations, and s is the number of species."
   ]
  },
  {
   "cell_type": "markdown",
   "metadata": {},
   "source": [
    "### calculate shannon's index"
   ]
  },
  {
   "cell_type": "markdown",
   "metadata": {},
   "source": [
    "#### variables:\n",
    "#### H = Shannon's diversity index\n",
    "#### S = total no. of TFs binding a promoter (species in a community)\n",
    "#### Pi = proportion of S made up of the ith species\n",
    "#### E_H = equitability (eveness)"
   ]
  },
  {
   "cell_type": "markdown",
   "metadata": {},
   "source": [
    "### first split df by promoter"
   ]
  },
  {
   "cell_type": "markdown",
   "metadata": {},
   "source": [
    "#### get names of each promoter"
   ]
  },
  {
   "cell_type": "code",
   "execution_count": 48,
   "metadata": {},
   "outputs": [
    {
     "name": "stdout",
     "output_type": "stream",
     "text": [
      "chr                   int64\n",
      "start                 int64\n",
      "stop                  int64\n",
      "name_rep             object\n",
      "score               float64\n",
      "strand               object\n",
      "promoter_AGI         object\n",
      "p-value             float64\n",
      "q-value             float64\n",
      "matched_sequence     object\n",
      "TF_name              object\n",
      "TF_family            object\n",
      "TF_AGI               object\n",
      "dtype: object\n"
     ]
    }
   ],
   "source": [
    "print(df.dtypes)"
   ]
  },
  {
   "cell_type": "code",
   "execution_count": 49,
   "metadata": {},
   "outputs": [],
   "source": [
    "promoters = df.promoter_AGI.unique()"
   ]
  },
  {
   "cell_type": "markdown",
   "metadata": {},
   "source": [
    "#### turn into a df"
   ]
  },
  {
   "cell_type": "code",
   "execution_count": 50,
   "metadata": {},
   "outputs": [],
   "source": [
    "shannon_df = pd.DataFrame(promoters)"
   ]
  },
  {
   "cell_type": "code",
   "execution_count": 51,
   "metadata": {},
   "outputs": [
    {
     "data": {
      "text/html": [
       "<div>\n",
       "<style scoped>\n",
       "    .dataframe tbody tr th:only-of-type {\n",
       "        vertical-align: middle;\n",
       "    }\n",
       "\n",
       "    .dataframe tbody tr th {\n",
       "        vertical-align: top;\n",
       "    }\n",
       "\n",
       "    .dataframe thead th {\n",
       "        text-align: right;\n",
       "    }\n",
       "</style>\n",
       "<table border=\"1\" class=\"dataframe\">\n",
       "  <thead>\n",
       "    <tr style=\"text-align: right;\">\n",
       "      <th></th>\n",
       "      <th>0</th>\n",
       "    </tr>\n",
       "  </thead>\n",
       "  <tbody>\n",
       "    <tr>\n",
       "      <th>0</th>\n",
       "      <td>AT1G01050</td>\n",
       "    </tr>\n",
       "    <tr>\n",
       "      <th>1</th>\n",
       "      <td>AT1G01780</td>\n",
       "    </tr>\n",
       "    <tr>\n",
       "      <th>2</th>\n",
       "      <td>AT1G01910</td>\n",
       "    </tr>\n",
       "    <tr>\n",
       "      <th>3</th>\n",
       "      <td>AT1G02000</td>\n",
       "    </tr>\n",
       "    <tr>\n",
       "      <th>4</th>\n",
       "      <td>AT1G03070</td>\n",
       "    </tr>\n",
       "    <tr>\n",
       "      <th>...</th>\n",
       "      <td>...</td>\n",
       "    </tr>\n",
       "    <tr>\n",
       "      <th>394</th>\n",
       "      <td>AT5G65360</td>\n",
       "    </tr>\n",
       "    <tr>\n",
       "      <th>395</th>\n",
       "      <td>AT5G65470</td>\n",
       "    </tr>\n",
       "    <tr>\n",
       "      <th>396</th>\n",
       "      <td>AT5G66250</td>\n",
       "    </tr>\n",
       "    <tr>\n",
       "      <th>397</th>\n",
       "      <td>AT5G67210</td>\n",
       "    </tr>\n",
       "    <tr>\n",
       "      <th>398</th>\n",
       "      <td>AT5G67590</td>\n",
       "    </tr>\n",
       "  </tbody>\n",
       "</table>\n",
       "<p>399 rows × 1 columns</p>\n",
       "</div>"
      ],
      "text/plain": [
       "             0\n",
       "0    AT1G01050\n",
       "1    AT1G01780\n",
       "2    AT1G01910\n",
       "3    AT1G02000\n",
       "4    AT1G03070\n",
       "..         ...\n",
       "394  AT5G65360\n",
       "395  AT5G65470\n",
       "396  AT5G66250\n",
       "397  AT5G67210\n",
       "398  AT5G67590\n",
       "\n",
       "[399 rows x 1 columns]"
      ]
     },
     "execution_count": 51,
     "metadata": {},
     "output_type": "execute_result"
    }
   ],
   "source": [
    "shannon_df"
   ]
  },
  {
   "cell_type": "markdown",
   "metadata": {},
   "source": [
    "### calculate S"
   ]
  },
  {
   "cell_type": "markdown",
   "metadata": {},
   "source": [
    "#### groupby promoter, and include only unique TFs within each promoter group. Preserve column names."
   ]
  },
  {
   "cell_type": "code",
   "execution_count": 52,
   "metadata": {},
   "outputs": [],
   "source": [
    "groupby_promoter = df.groupby(by='promoter_AGI', as_index=False).agg({'TF_AGI': pd.Series.nunique})"
   ]
  },
  {
   "cell_type": "code",
   "execution_count": 53,
   "metadata": {},
   "outputs": [
    {
     "name": "stdout",
     "output_type": "stream",
     "text": [
      "    promoter_AGI  TF_AGI\n",
      "0      AT1G01050       4\n",
      "1      AT1G01780      19\n",
      "2      AT1G01910      16\n",
      "3      AT1G02000       7\n",
      "4      AT1G03070      43\n",
      "..           ...     ...\n",
      "394    AT5G65360       5\n",
      "395    AT5G65470       3\n",
      "396    AT5G66250       1\n",
      "397    AT5G67210       9\n",
      "398    AT5G67590       7\n",
      "\n",
      "[399 rows x 2 columns]\n"
     ]
    }
   ],
   "source": [
    "print(groupby_promoter)"
   ]
  },
  {
   "cell_type": "markdown",
   "metadata": {},
   "source": [
    "##### rename cols"
   ]
  },
  {
   "cell_type": "code",
   "execution_count": 54,
   "metadata": {},
   "outputs": [],
   "source": [
    "groupby_promoter.rename(columns = {'TF_AGI':'S_unique_TF_count'}, inplace = True)"
   ]
  },
  {
   "cell_type": "code",
   "execution_count": 55,
   "metadata": {},
   "outputs": [
    {
     "name": "stdout",
     "output_type": "stream",
     "text": [
      "    promoter_AGI  S_unique_TF_count\n",
      "0      AT1G01050                  4\n",
      "1      AT1G01780                 19\n",
      "2      AT1G01910                 16\n",
      "3      AT1G02000                  7\n",
      "4      AT1G03070                 43\n",
      "..           ...                ...\n",
      "394    AT5G65360                  5\n",
      "395    AT5G65470                  3\n",
      "396    AT5G66250                  1\n",
      "397    AT5G67210                  9\n",
      "398    AT5G67590                  7\n",
      "\n",
      "[399 rows x 2 columns]\n"
     ]
    }
   ],
   "source": [
    "print(groupby_promoter)"
   ]
  },
  {
   "cell_type": "code",
   "execution_count": 56,
   "metadata": {},
   "outputs": [],
   "source": [
    "total_TF_count = df.groupby(by='promoter_AGI', as_index=False).agg({'TF_AGI': pd.Series.count})"
   ]
  },
  {
   "cell_type": "code",
   "execution_count": 57,
   "metadata": {},
   "outputs": [
    {
     "data": {
      "text/html": [
       "<div>\n",
       "<style scoped>\n",
       "    .dataframe tbody tr th:only-of-type {\n",
       "        vertical-align: middle;\n",
       "    }\n",
       "\n",
       "    .dataframe tbody tr th {\n",
       "        vertical-align: top;\n",
       "    }\n",
       "\n",
       "    .dataframe thead th {\n",
       "        text-align: right;\n",
       "    }\n",
       "</style>\n",
       "<table border=\"1\" class=\"dataframe\">\n",
       "  <thead>\n",
       "    <tr style=\"text-align: right;\">\n",
       "      <th></th>\n",
       "      <th>promoter_AGI</th>\n",
       "      <th>TF_AGI</th>\n",
       "    </tr>\n",
       "  </thead>\n",
       "  <tbody>\n",
       "    <tr>\n",
       "      <th>0</th>\n",
       "      <td>AT1G01050</td>\n",
       "      <td>7</td>\n",
       "    </tr>\n",
       "    <tr>\n",
       "      <th>1</th>\n",
       "      <td>AT1G01780</td>\n",
       "      <td>119</td>\n",
       "    </tr>\n",
       "    <tr>\n",
       "      <th>2</th>\n",
       "      <td>AT1G01910</td>\n",
       "      <td>25</td>\n",
       "    </tr>\n",
       "    <tr>\n",
       "      <th>3</th>\n",
       "      <td>AT1G02000</td>\n",
       "      <td>8</td>\n",
       "    </tr>\n",
       "    <tr>\n",
       "      <th>4</th>\n",
       "      <td>AT1G03070</td>\n",
       "      <td>101</td>\n",
       "    </tr>\n",
       "    <tr>\n",
       "      <th>...</th>\n",
       "      <td>...</td>\n",
       "      <td>...</td>\n",
       "    </tr>\n",
       "    <tr>\n",
       "      <th>394</th>\n",
       "      <td>AT5G65360</td>\n",
       "      <td>8</td>\n",
       "    </tr>\n",
       "    <tr>\n",
       "      <th>395</th>\n",
       "      <td>AT5G65470</td>\n",
       "      <td>6</td>\n",
       "    </tr>\n",
       "    <tr>\n",
       "      <th>396</th>\n",
       "      <td>AT5G66250</td>\n",
       "      <td>1</td>\n",
       "    </tr>\n",
       "    <tr>\n",
       "      <th>397</th>\n",
       "      <td>AT5G67210</td>\n",
       "      <td>20</td>\n",
       "    </tr>\n",
       "    <tr>\n",
       "      <th>398</th>\n",
       "      <td>AT5G67590</td>\n",
       "      <td>24</td>\n",
       "    </tr>\n",
       "  </tbody>\n",
       "</table>\n",
       "<p>399 rows × 2 columns</p>\n",
       "</div>"
      ],
      "text/plain": [
       "    promoter_AGI  TF_AGI\n",
       "0      AT1G01050       7\n",
       "1      AT1G01780     119\n",
       "2      AT1G01910      25\n",
       "3      AT1G02000       8\n",
       "4      AT1G03070     101\n",
       "..           ...     ...\n",
       "394    AT5G65360       8\n",
       "395    AT5G65470       6\n",
       "396    AT5G66250       1\n",
       "397    AT5G67210      20\n",
       "398    AT5G67590      24\n",
       "\n",
       "[399 rows x 2 columns]"
      ]
     },
     "execution_count": 57,
     "metadata": {},
     "output_type": "execute_result"
    }
   ],
   "source": [
    "total_TF_count"
   ]
  },
  {
   "cell_type": "markdown",
   "metadata": {},
   "source": [
    "## Pi = proportion of S made up of the ith species"
   ]
  },
  {
   "cell_type": "code",
   "execution_count": 58,
   "metadata": {},
   "outputs": [],
   "source": [
    "#groupby_promoter_counts = df.groupby(['promoter_AGI', 'TF_AGI'], as_index=False).size()"
   ]
  },
  {
   "cell_type": "code",
   "execution_count": 59,
   "metadata": {},
   "outputs": [],
   "source": [
    "#groupby_promoter_counts"
   ]
  },
  {
   "cell_type": "code",
   "execution_count": 60,
   "metadata": {},
   "outputs": [],
   "source": [
    "#counts = pd.DataFrame(groupby_promoter_counts)"
   ]
  },
  {
   "cell_type": "code",
   "execution_count": 61,
   "metadata": {},
   "outputs": [],
   "source": [
    "#count no. of each TF binding in each promoter\n",
    "groupby_promoter_counts = df.groupby('promoter_AGI')['TF_AGI'].value_counts().unstack(fill_value=0)"
   ]
  },
  {
   "cell_type": "code",
   "execution_count": 62,
   "metadata": {},
   "outputs": [],
   "source": [
    "#count no. of TF families binding in each promoter\n",
    "groupby_promoter_counts_family = df.groupby('promoter_AGI')['TF_family'].value_counts().unstack(fill_value=0)"
   ]
  },
  {
   "cell_type": "code",
   "execution_count": 63,
   "metadata": {},
   "outputs": [],
   "source": [
    "#groupby_promoter_counts = df.pivot_table(index='TF_AGI', columns='promoter_AGI', aggfunc = 'size', fill_value=0)"
   ]
  },
  {
   "cell_type": "code",
   "execution_count": 64,
   "metadata": {},
   "outputs": [
    {
     "data": {
      "text/html": [
       "<div>\n",
       "<style scoped>\n",
       "    .dataframe tbody tr th:only-of-type {\n",
       "        vertical-align: middle;\n",
       "    }\n",
       "\n",
       "    .dataframe tbody tr th {\n",
       "        vertical-align: top;\n",
       "    }\n",
       "\n",
       "    .dataframe thead th {\n",
       "        text-align: right;\n",
       "    }\n",
       "</style>\n",
       "<table border=\"1\" class=\"dataframe\">\n",
       "  <thead>\n",
       "    <tr style=\"text-align: right;\">\n",
       "      <th>TF_AGI</th>\n",
       "      <th>AT1G01250</th>\n",
       "      <th>AT1G02230</th>\n",
       "      <th>AT1G03800</th>\n",
       "      <th>AT1G06180</th>\n",
       "      <th>AT1G09540</th>\n",
       "      <th>AT1G12630</th>\n",
       "      <th>AT1G18570</th>\n",
       "      <th>AT1G18960</th>\n",
       "      <th>AT1G19040</th>\n",
       "      <th>AT1G19210</th>\n",
       "      <th>...</th>\n",
       "      <th>AT5G62470</th>\n",
       "      <th>AT5G62940</th>\n",
       "      <th>AT5G63090</th>\n",
       "      <th>AT5G64750</th>\n",
       "      <th>AT5G65130</th>\n",
       "      <th>AT5G65210</th>\n",
       "      <th>AT5G66940</th>\n",
       "      <th>AT5G67000</th>\n",
       "      <th>AT5G67190</th>\n",
       "      <th>AT5G67580</th>\n",
       "    </tr>\n",
       "    <tr>\n",
       "      <th>promoter_AGI</th>\n",
       "      <th></th>\n",
       "      <th></th>\n",
       "      <th></th>\n",
       "      <th></th>\n",
       "      <th></th>\n",
       "      <th></th>\n",
       "      <th></th>\n",
       "      <th></th>\n",
       "      <th></th>\n",
       "      <th></th>\n",
       "      <th></th>\n",
       "      <th></th>\n",
       "      <th></th>\n",
       "      <th></th>\n",
       "      <th></th>\n",
       "      <th></th>\n",
       "      <th></th>\n",
       "      <th></th>\n",
       "      <th></th>\n",
       "      <th></th>\n",
       "      <th></th>\n",
       "    </tr>\n",
       "  </thead>\n",
       "  <tbody>\n",
       "    <tr>\n",
       "      <th>AT1G01050</th>\n",
       "      <td>0</td>\n",
       "      <td>0</td>\n",
       "      <td>0</td>\n",
       "      <td>0</td>\n",
       "      <td>0</td>\n",
       "      <td>0</td>\n",
       "      <td>0</td>\n",
       "      <td>0</td>\n",
       "      <td>0</td>\n",
       "      <td>0</td>\n",
       "      <td>...</td>\n",
       "      <td>0</td>\n",
       "      <td>0</td>\n",
       "      <td>0</td>\n",
       "      <td>0</td>\n",
       "      <td>0</td>\n",
       "      <td>0</td>\n",
       "      <td>0</td>\n",
       "      <td>0</td>\n",
       "      <td>0</td>\n",
       "      <td>0</td>\n",
       "    </tr>\n",
       "    <tr>\n",
       "      <th>AT1G01780</th>\n",
       "      <td>0</td>\n",
       "      <td>0</td>\n",
       "      <td>0</td>\n",
       "      <td>0</td>\n",
       "      <td>0</td>\n",
       "      <td>0</td>\n",
       "      <td>0</td>\n",
       "      <td>0</td>\n",
       "      <td>0</td>\n",
       "      <td>0</td>\n",
       "      <td>...</td>\n",
       "      <td>0</td>\n",
       "      <td>1</td>\n",
       "      <td>0</td>\n",
       "      <td>0</td>\n",
       "      <td>0</td>\n",
       "      <td>0</td>\n",
       "      <td>1</td>\n",
       "      <td>0</td>\n",
       "      <td>0</td>\n",
       "      <td>0</td>\n",
       "    </tr>\n",
       "    <tr>\n",
       "      <th>AT1G01910</th>\n",
       "      <td>0</td>\n",
       "      <td>0</td>\n",
       "      <td>0</td>\n",
       "      <td>0</td>\n",
       "      <td>0</td>\n",
       "      <td>0</td>\n",
       "      <td>0</td>\n",
       "      <td>0</td>\n",
       "      <td>0</td>\n",
       "      <td>0</td>\n",
       "      <td>...</td>\n",
       "      <td>0</td>\n",
       "      <td>0</td>\n",
       "      <td>1</td>\n",
       "      <td>1</td>\n",
       "      <td>0</td>\n",
       "      <td>0</td>\n",
       "      <td>0</td>\n",
       "      <td>0</td>\n",
       "      <td>0</td>\n",
       "      <td>0</td>\n",
       "    </tr>\n",
       "    <tr>\n",
       "      <th>AT1G02000</th>\n",
       "      <td>0</td>\n",
       "      <td>0</td>\n",
       "      <td>0</td>\n",
       "      <td>0</td>\n",
       "      <td>0</td>\n",
       "      <td>0</td>\n",
       "      <td>0</td>\n",
       "      <td>0</td>\n",
       "      <td>1</td>\n",
       "      <td>0</td>\n",
       "      <td>...</td>\n",
       "      <td>0</td>\n",
       "      <td>0</td>\n",
       "      <td>0</td>\n",
       "      <td>0</td>\n",
       "      <td>1</td>\n",
       "      <td>0</td>\n",
       "      <td>0</td>\n",
       "      <td>0</td>\n",
       "      <td>0</td>\n",
       "      <td>0</td>\n",
       "    </tr>\n",
       "    <tr>\n",
       "      <th>AT1G03070</th>\n",
       "      <td>0</td>\n",
       "      <td>0</td>\n",
       "      <td>1</td>\n",
       "      <td>0</td>\n",
       "      <td>0</td>\n",
       "      <td>0</td>\n",
       "      <td>0</td>\n",
       "      <td>0</td>\n",
       "      <td>0</td>\n",
       "      <td>0</td>\n",
       "      <td>...</td>\n",
       "      <td>0</td>\n",
       "      <td>0</td>\n",
       "      <td>2</td>\n",
       "      <td>1</td>\n",
       "      <td>1</td>\n",
       "      <td>0</td>\n",
       "      <td>0</td>\n",
       "      <td>0</td>\n",
       "      <td>0</td>\n",
       "      <td>0</td>\n",
       "    </tr>\n",
       "    <tr>\n",
       "      <th>...</th>\n",
       "      <td>...</td>\n",
       "      <td>...</td>\n",
       "      <td>...</td>\n",
       "      <td>...</td>\n",
       "      <td>...</td>\n",
       "      <td>...</td>\n",
       "      <td>...</td>\n",
       "      <td>...</td>\n",
       "      <td>...</td>\n",
       "      <td>...</td>\n",
       "      <td>...</td>\n",
       "      <td>...</td>\n",
       "      <td>...</td>\n",
       "      <td>...</td>\n",
       "      <td>...</td>\n",
       "      <td>...</td>\n",
       "      <td>...</td>\n",
       "      <td>...</td>\n",
       "      <td>...</td>\n",
       "      <td>...</td>\n",
       "      <td>...</td>\n",
       "    </tr>\n",
       "    <tr>\n",
       "      <th>AT5G65360</th>\n",
       "      <td>0</td>\n",
       "      <td>0</td>\n",
       "      <td>0</td>\n",
       "      <td>0</td>\n",
       "      <td>0</td>\n",
       "      <td>0</td>\n",
       "      <td>0</td>\n",
       "      <td>0</td>\n",
       "      <td>0</td>\n",
       "      <td>0</td>\n",
       "      <td>...</td>\n",
       "      <td>0</td>\n",
       "      <td>0</td>\n",
       "      <td>0</td>\n",
       "      <td>0</td>\n",
       "      <td>0</td>\n",
       "      <td>0</td>\n",
       "      <td>0</td>\n",
       "      <td>0</td>\n",
       "      <td>0</td>\n",
       "      <td>0</td>\n",
       "    </tr>\n",
       "    <tr>\n",
       "      <th>AT5G65470</th>\n",
       "      <td>0</td>\n",
       "      <td>0</td>\n",
       "      <td>0</td>\n",
       "      <td>0</td>\n",
       "      <td>0</td>\n",
       "      <td>0</td>\n",
       "      <td>0</td>\n",
       "      <td>0</td>\n",
       "      <td>0</td>\n",
       "      <td>0</td>\n",
       "      <td>...</td>\n",
       "      <td>0</td>\n",
       "      <td>0</td>\n",
       "      <td>0</td>\n",
       "      <td>0</td>\n",
       "      <td>0</td>\n",
       "      <td>0</td>\n",
       "      <td>0</td>\n",
       "      <td>0</td>\n",
       "      <td>0</td>\n",
       "      <td>0</td>\n",
       "    </tr>\n",
       "    <tr>\n",
       "      <th>AT5G66250</th>\n",
       "      <td>0</td>\n",
       "      <td>0</td>\n",
       "      <td>0</td>\n",
       "      <td>0</td>\n",
       "      <td>0</td>\n",
       "      <td>0</td>\n",
       "      <td>0</td>\n",
       "      <td>0</td>\n",
       "      <td>0</td>\n",
       "      <td>0</td>\n",
       "      <td>...</td>\n",
       "      <td>0</td>\n",
       "      <td>0</td>\n",
       "      <td>0</td>\n",
       "      <td>0</td>\n",
       "      <td>0</td>\n",
       "      <td>0</td>\n",
       "      <td>0</td>\n",
       "      <td>0</td>\n",
       "      <td>0</td>\n",
       "      <td>0</td>\n",
       "    </tr>\n",
       "    <tr>\n",
       "      <th>AT5G67210</th>\n",
       "      <td>0</td>\n",
       "      <td>0</td>\n",
       "      <td>0</td>\n",
       "      <td>0</td>\n",
       "      <td>0</td>\n",
       "      <td>0</td>\n",
       "      <td>0</td>\n",
       "      <td>0</td>\n",
       "      <td>0</td>\n",
       "      <td>0</td>\n",
       "      <td>...</td>\n",
       "      <td>0</td>\n",
       "      <td>0</td>\n",
       "      <td>0</td>\n",
       "      <td>0</td>\n",
       "      <td>0</td>\n",
       "      <td>0</td>\n",
       "      <td>1</td>\n",
       "      <td>0</td>\n",
       "      <td>0</td>\n",
       "      <td>0</td>\n",
       "    </tr>\n",
       "    <tr>\n",
       "      <th>AT5G67590</th>\n",
       "      <td>0</td>\n",
       "      <td>0</td>\n",
       "      <td>0</td>\n",
       "      <td>0</td>\n",
       "      <td>0</td>\n",
       "      <td>0</td>\n",
       "      <td>0</td>\n",
       "      <td>0</td>\n",
       "      <td>0</td>\n",
       "      <td>0</td>\n",
       "      <td>...</td>\n",
       "      <td>0</td>\n",
       "      <td>0</td>\n",
       "      <td>0</td>\n",
       "      <td>0</td>\n",
       "      <td>0</td>\n",
       "      <td>0</td>\n",
       "      <td>1</td>\n",
       "      <td>0</td>\n",
       "      <td>0</td>\n",
       "      <td>0</td>\n",
       "    </tr>\n",
       "  </tbody>\n",
       "</table>\n",
       "<p>399 rows × 194 columns</p>\n",
       "</div>"
      ],
      "text/plain": [
       "TF_AGI        AT1G01250  AT1G02230  AT1G03800  AT1G06180  AT1G09540  \\\n",
       "promoter_AGI                                                          \n",
       "AT1G01050             0          0          0          0          0   \n",
       "AT1G01780             0          0          0          0          0   \n",
       "AT1G01910             0          0          0          0          0   \n",
       "AT1G02000             0          0          0          0          0   \n",
       "AT1G03070             0          0          1          0          0   \n",
       "...                 ...        ...        ...        ...        ...   \n",
       "AT5G65360             0          0          0          0          0   \n",
       "AT5G65470             0          0          0          0          0   \n",
       "AT5G66250             0          0          0          0          0   \n",
       "AT5G67210             0          0          0          0          0   \n",
       "AT5G67590             0          0          0          0          0   \n",
       "\n",
       "TF_AGI        AT1G12630  AT1G18570  AT1G18960  AT1G19040  AT1G19210  ...  \\\n",
       "promoter_AGI                                                         ...   \n",
       "AT1G01050             0          0          0          0          0  ...   \n",
       "AT1G01780             0          0          0          0          0  ...   \n",
       "AT1G01910             0          0          0          0          0  ...   \n",
       "AT1G02000             0          0          0          1          0  ...   \n",
       "AT1G03070             0          0          0          0          0  ...   \n",
       "...                 ...        ...        ...        ...        ...  ...   \n",
       "AT5G65360             0          0          0          0          0  ...   \n",
       "AT5G65470             0          0          0          0          0  ...   \n",
       "AT5G66250             0          0          0          0          0  ...   \n",
       "AT5G67210             0          0          0          0          0  ...   \n",
       "AT5G67590             0          0          0          0          0  ...   \n",
       "\n",
       "TF_AGI        AT5G62470  AT5G62940  AT5G63090  AT5G64750  AT5G65130  \\\n",
       "promoter_AGI                                                          \n",
       "AT1G01050             0          0          0          0          0   \n",
       "AT1G01780             0          1          0          0          0   \n",
       "AT1G01910             0          0          1          1          0   \n",
       "AT1G02000             0          0          0          0          1   \n",
       "AT1G03070             0          0          2          1          1   \n",
       "...                 ...        ...        ...        ...        ...   \n",
       "AT5G65360             0          0          0          0          0   \n",
       "AT5G65470             0          0          0          0          0   \n",
       "AT5G66250             0          0          0          0          0   \n",
       "AT5G67210             0          0          0          0          0   \n",
       "AT5G67590             0          0          0          0          0   \n",
       "\n",
       "TF_AGI        AT5G65210  AT5G66940  AT5G67000  AT5G67190  AT5G67580  \n",
       "promoter_AGI                                                         \n",
       "AT1G01050             0          0          0          0          0  \n",
       "AT1G01780             0          1          0          0          0  \n",
       "AT1G01910             0          0          0          0          0  \n",
       "AT1G02000             0          0          0          0          0  \n",
       "AT1G03070             0          0          0          0          0  \n",
       "...                 ...        ...        ...        ...        ...  \n",
       "AT5G65360             0          0          0          0          0  \n",
       "AT5G65470             0          0          0          0          0  \n",
       "AT5G66250             0          0          0          0          0  \n",
       "AT5G67210             0          1          0          0          0  \n",
       "AT5G67590             0          1          0          0          0  \n",
       "\n",
       "[399 rows x 194 columns]"
      ]
     },
     "execution_count": 64,
     "metadata": {},
     "output_type": "execute_result"
    }
   ],
   "source": [
    "groupby_promoter_counts"
   ]
  },
  {
   "cell_type": "code",
   "execution_count": 65,
   "metadata": {},
   "outputs": [
    {
     "data": {
      "text/html": [
       "<div>\n",
       "<style scoped>\n",
       "    .dataframe tbody tr th:only-of-type {\n",
       "        vertical-align: middle;\n",
       "    }\n",
       "\n",
       "    .dataframe tbody tr th {\n",
       "        vertical-align: top;\n",
       "    }\n",
       "\n",
       "    .dataframe thead th {\n",
       "        text-align: right;\n",
       "    }\n",
       "</style>\n",
       "<table border=\"1\" class=\"dataframe\">\n",
       "  <thead>\n",
       "    <tr style=\"text-align: right;\">\n",
       "      <th>TF_family</th>\n",
       "      <th>ABI3VP1</th>\n",
       "      <th>AP2EREBP</th>\n",
       "      <th>ARF</th>\n",
       "      <th>ARID</th>\n",
       "      <th>BBRBPC</th>\n",
       "      <th>BES1</th>\n",
       "      <th>BHLH</th>\n",
       "      <th>BZIP</th>\n",
       "      <th>BZR</th>\n",
       "      <th>C2C2COLIKE</th>\n",
       "      <th>...</th>\n",
       "      <th>MTERF</th>\n",
       "      <th>MYB</th>\n",
       "      <th>MYBRELATED</th>\n",
       "      <th>NAC</th>\n",
       "      <th>ND</th>\n",
       "      <th>REM</th>\n",
       "      <th>SRS</th>\n",
       "      <th>TCP</th>\n",
       "      <th>TRIHELIX</th>\n",
       "      <th>WRKY</th>\n",
       "    </tr>\n",
       "    <tr>\n",
       "      <th>promoter_AGI</th>\n",
       "      <th></th>\n",
       "      <th></th>\n",
       "      <th></th>\n",
       "      <th></th>\n",
       "      <th></th>\n",
       "      <th></th>\n",
       "      <th></th>\n",
       "      <th></th>\n",
       "      <th></th>\n",
       "      <th></th>\n",
       "      <th></th>\n",
       "      <th></th>\n",
       "      <th></th>\n",
       "      <th></th>\n",
       "      <th></th>\n",
       "      <th></th>\n",
       "      <th></th>\n",
       "      <th></th>\n",
       "      <th></th>\n",
       "      <th></th>\n",
       "      <th></th>\n",
       "    </tr>\n",
       "  </thead>\n",
       "  <tbody>\n",
       "    <tr>\n",
       "      <th>AT1G01050</th>\n",
       "      <td>3</td>\n",
       "      <td>0</td>\n",
       "      <td>0</td>\n",
       "      <td>0</td>\n",
       "      <td>2</td>\n",
       "      <td>0</td>\n",
       "      <td>0</td>\n",
       "      <td>0</td>\n",
       "      <td>0</td>\n",
       "      <td>0</td>\n",
       "      <td>...</td>\n",
       "      <td>0</td>\n",
       "      <td>0</td>\n",
       "      <td>0</td>\n",
       "      <td>0</td>\n",
       "      <td>1</td>\n",
       "      <td>1</td>\n",
       "      <td>0</td>\n",
       "      <td>0</td>\n",
       "      <td>0</td>\n",
       "      <td>0</td>\n",
       "    </tr>\n",
       "    <tr>\n",
       "      <th>AT1G01780</th>\n",
       "      <td>3</td>\n",
       "      <td>1</td>\n",
       "      <td>0</td>\n",
       "      <td>0</td>\n",
       "      <td>75</td>\n",
       "      <td>0</td>\n",
       "      <td>0</td>\n",
       "      <td>0</td>\n",
       "      <td>0</td>\n",
       "      <td>0</td>\n",
       "      <td>...</td>\n",
       "      <td>0</td>\n",
       "      <td>0</td>\n",
       "      <td>0</td>\n",
       "      <td>0</td>\n",
       "      <td>15</td>\n",
       "      <td>4</td>\n",
       "      <td>0</td>\n",
       "      <td>0</td>\n",
       "      <td>0</td>\n",
       "      <td>0</td>\n",
       "    </tr>\n",
       "    <tr>\n",
       "      <th>AT1G01910</th>\n",
       "      <td>1</td>\n",
       "      <td>8</td>\n",
       "      <td>0</td>\n",
       "      <td>0</td>\n",
       "      <td>0</td>\n",
       "      <td>0</td>\n",
       "      <td>0</td>\n",
       "      <td>0</td>\n",
       "      <td>0</td>\n",
       "      <td>0</td>\n",
       "      <td>...</td>\n",
       "      <td>1</td>\n",
       "      <td>0</td>\n",
       "      <td>0</td>\n",
       "      <td>0</td>\n",
       "      <td>0</td>\n",
       "      <td>0</td>\n",
       "      <td>0</td>\n",
       "      <td>0</td>\n",
       "      <td>8</td>\n",
       "      <td>0</td>\n",
       "    </tr>\n",
       "    <tr>\n",
       "      <th>AT1G02000</th>\n",
       "      <td>0</td>\n",
       "      <td>4</td>\n",
       "      <td>0</td>\n",
       "      <td>0</td>\n",
       "      <td>0</td>\n",
       "      <td>0</td>\n",
       "      <td>0</td>\n",
       "      <td>0</td>\n",
       "      <td>0</td>\n",
       "      <td>0</td>\n",
       "      <td>...</td>\n",
       "      <td>0</td>\n",
       "      <td>0</td>\n",
       "      <td>0</td>\n",
       "      <td>1</td>\n",
       "      <td>1</td>\n",
       "      <td>1</td>\n",
       "      <td>0</td>\n",
       "      <td>0</td>\n",
       "      <td>0</td>\n",
       "      <td>0</td>\n",
       "    </tr>\n",
       "    <tr>\n",
       "      <th>AT1G03070</th>\n",
       "      <td>13</td>\n",
       "      <td>49</td>\n",
       "      <td>0</td>\n",
       "      <td>0</td>\n",
       "      <td>4</td>\n",
       "      <td>0</td>\n",
       "      <td>0</td>\n",
       "      <td>0</td>\n",
       "      <td>0</td>\n",
       "      <td>0</td>\n",
       "      <td>...</td>\n",
       "      <td>1</td>\n",
       "      <td>0</td>\n",
       "      <td>0</td>\n",
       "      <td>0</td>\n",
       "      <td>0</td>\n",
       "      <td>9</td>\n",
       "      <td>0</td>\n",
       "      <td>0</td>\n",
       "      <td>0</td>\n",
       "      <td>0</td>\n",
       "    </tr>\n",
       "    <tr>\n",
       "      <th>...</th>\n",
       "      <td>...</td>\n",
       "      <td>...</td>\n",
       "      <td>...</td>\n",
       "      <td>...</td>\n",
       "      <td>...</td>\n",
       "      <td>...</td>\n",
       "      <td>...</td>\n",
       "      <td>...</td>\n",
       "      <td>...</td>\n",
       "      <td>...</td>\n",
       "      <td>...</td>\n",
       "      <td>...</td>\n",
       "      <td>...</td>\n",
       "      <td>...</td>\n",
       "      <td>...</td>\n",
       "      <td>...</td>\n",
       "      <td>...</td>\n",
       "      <td>...</td>\n",
       "      <td>...</td>\n",
       "      <td>...</td>\n",
       "      <td>...</td>\n",
       "    </tr>\n",
       "    <tr>\n",
       "      <th>AT5G65360</th>\n",
       "      <td>3</td>\n",
       "      <td>0</td>\n",
       "      <td>0</td>\n",
       "      <td>0</td>\n",
       "      <td>0</td>\n",
       "      <td>0</td>\n",
       "      <td>0</td>\n",
       "      <td>0</td>\n",
       "      <td>0</td>\n",
       "      <td>3</td>\n",
       "      <td>...</td>\n",
       "      <td>0</td>\n",
       "      <td>0</td>\n",
       "      <td>0</td>\n",
       "      <td>0</td>\n",
       "      <td>0</td>\n",
       "      <td>0</td>\n",
       "      <td>0</td>\n",
       "      <td>0</td>\n",
       "      <td>0</td>\n",
       "      <td>0</td>\n",
       "    </tr>\n",
       "    <tr>\n",
       "      <th>AT5G65470</th>\n",
       "      <td>1</td>\n",
       "      <td>0</td>\n",
       "      <td>0</td>\n",
       "      <td>0</td>\n",
       "      <td>0</td>\n",
       "      <td>0</td>\n",
       "      <td>0</td>\n",
       "      <td>0</td>\n",
       "      <td>0</td>\n",
       "      <td>0</td>\n",
       "      <td>...</td>\n",
       "      <td>0</td>\n",
       "      <td>0</td>\n",
       "      <td>0</td>\n",
       "      <td>0</td>\n",
       "      <td>0</td>\n",
       "      <td>4</td>\n",
       "      <td>0</td>\n",
       "      <td>1</td>\n",
       "      <td>0</td>\n",
       "      <td>0</td>\n",
       "    </tr>\n",
       "    <tr>\n",
       "      <th>AT5G66250</th>\n",
       "      <td>0</td>\n",
       "      <td>0</td>\n",
       "      <td>0</td>\n",
       "      <td>0</td>\n",
       "      <td>0</td>\n",
       "      <td>0</td>\n",
       "      <td>0</td>\n",
       "      <td>0</td>\n",
       "      <td>0</td>\n",
       "      <td>0</td>\n",
       "      <td>...</td>\n",
       "      <td>0</td>\n",
       "      <td>0</td>\n",
       "      <td>0</td>\n",
       "      <td>0</td>\n",
       "      <td>0</td>\n",
       "      <td>1</td>\n",
       "      <td>0</td>\n",
       "      <td>0</td>\n",
       "      <td>0</td>\n",
       "      <td>0</td>\n",
       "    </tr>\n",
       "    <tr>\n",
       "      <th>AT5G67210</th>\n",
       "      <td>5</td>\n",
       "      <td>0</td>\n",
       "      <td>0</td>\n",
       "      <td>0</td>\n",
       "      <td>3</td>\n",
       "      <td>0</td>\n",
       "      <td>0</td>\n",
       "      <td>0</td>\n",
       "      <td>0</td>\n",
       "      <td>0</td>\n",
       "      <td>...</td>\n",
       "      <td>0</td>\n",
       "      <td>1</td>\n",
       "      <td>0</td>\n",
       "      <td>0</td>\n",
       "      <td>2</td>\n",
       "      <td>3</td>\n",
       "      <td>0</td>\n",
       "      <td>0</td>\n",
       "      <td>0</td>\n",
       "      <td>0</td>\n",
       "    </tr>\n",
       "    <tr>\n",
       "      <th>AT5G67590</th>\n",
       "      <td>2</td>\n",
       "      <td>0</td>\n",
       "      <td>0</td>\n",
       "      <td>0</td>\n",
       "      <td>13</td>\n",
       "      <td>0</td>\n",
       "      <td>0</td>\n",
       "      <td>0</td>\n",
       "      <td>0</td>\n",
       "      <td>0</td>\n",
       "      <td>...</td>\n",
       "      <td>0</td>\n",
       "      <td>0</td>\n",
       "      <td>0</td>\n",
       "      <td>0</td>\n",
       "      <td>1</td>\n",
       "      <td>2</td>\n",
       "      <td>0</td>\n",
       "      <td>0</td>\n",
       "      <td>0</td>\n",
       "      <td>0</td>\n",
       "    </tr>\n",
       "  </tbody>\n",
       "</table>\n",
       "<p>399 rows × 34 columns</p>\n",
       "</div>"
      ],
      "text/plain": [
       "TF_family     ABI3VP1  AP2EREBP  ARF  ARID  BBRBPC  BES1  BHLH  BZIP  BZR  \\\n",
       "promoter_AGI                                                                \n",
       "AT1G01050           3         0    0     0       2     0     0     0    0   \n",
       "AT1G01780           3         1    0     0      75     0     0     0    0   \n",
       "AT1G01910           1         8    0     0       0     0     0     0    0   \n",
       "AT1G02000           0         4    0     0       0     0     0     0    0   \n",
       "AT1G03070          13        49    0     0       4     0     0     0    0   \n",
       "...               ...       ...  ...   ...     ...   ...   ...   ...  ...   \n",
       "AT5G65360           3         0    0     0       0     0     0     0    0   \n",
       "AT5G65470           1         0    0     0       0     0     0     0    0   \n",
       "AT5G66250           0         0    0     0       0     0     0     0    0   \n",
       "AT5G67210           5         0    0     0       3     0     0     0    0   \n",
       "AT5G67590           2         0    0     0      13     0     0     0    0   \n",
       "\n",
       "TF_family     C2C2COLIKE  ...  MTERF  MYB  MYBRELATED  NAC  ND  REM  SRS  TCP  \\\n",
       "promoter_AGI              ...                                                   \n",
       "AT1G01050              0  ...      0    0           0    0   1    1    0    0   \n",
       "AT1G01780              0  ...      0    0           0    0  15    4    0    0   \n",
       "AT1G01910              0  ...      1    0           0    0   0    0    0    0   \n",
       "AT1G02000              0  ...      0    0           0    1   1    1    0    0   \n",
       "AT1G03070              0  ...      1    0           0    0   0    9    0    0   \n",
       "...                  ...  ...    ...  ...         ...  ...  ..  ...  ...  ...   \n",
       "AT5G65360              3  ...      0    0           0    0   0    0    0    0   \n",
       "AT5G65470              0  ...      0    0           0    0   0    4    0    1   \n",
       "AT5G66250              0  ...      0    0           0    0   0    1    0    0   \n",
       "AT5G67210              0  ...      0    1           0    0   2    3    0    0   \n",
       "AT5G67590              0  ...      0    0           0    0   1    2    0    0   \n",
       "\n",
       "TF_family     TRIHELIX  WRKY  \n",
       "promoter_AGI                  \n",
       "AT1G01050            0     0  \n",
       "AT1G01780            0     0  \n",
       "AT1G01910            8     0  \n",
       "AT1G02000            0     0  \n",
       "AT1G03070            0     0  \n",
       "...                ...   ...  \n",
       "AT5G65360            0     0  \n",
       "AT5G65470            0     0  \n",
       "AT5G66250            0     0  \n",
       "AT5G67210            0     0  \n",
       "AT5G67590            0     0  \n",
       "\n",
       "[399 rows x 34 columns]"
      ]
     },
     "execution_count": 65,
     "metadata": {},
     "output_type": "execute_result"
    }
   ],
   "source": [
    "groupby_promoter_counts_family"
   ]
  },
  {
   "cell_type": "code",
   "execution_count": 66,
   "metadata": {},
   "outputs": [
    {
     "ename": "FileNotFoundError",
     "evalue": "[Errno 2] File b'../../data/test.csv' does not exist: b'../../data/test.csv'",
     "output_type": "error",
     "traceback": [
      "\u001b[0;31m---------------------------------------------------------------------------\u001b[0m",
      "\u001b[0;31mFileNotFoundError\u001b[0m                         Traceback (most recent call last)",
      "\u001b[0;32m<ipython-input-66-492cf04d1c88>\u001b[0m in \u001b[0;36m<module>\u001b[0;34m\u001b[0m\n\u001b[1;32m      1\u001b[0m \u001b[0;31m#test run, known shannon's diversity H is 1.372 with base e\u001b[0m\u001b[0;34m\u001b[0m\u001b[0;34m\u001b[0m\u001b[0;34m\u001b[0m\u001b[0m\n\u001b[0;32m----> 2\u001b[0;31m \u001b[0mtest\u001b[0m \u001b[0;34m=\u001b[0m \u001b[0mpd\u001b[0m\u001b[0;34m.\u001b[0m\u001b[0mread_csv\u001b[0m\u001b[0;34m(\u001b[0m\u001b[0;34m'../../data/test.csv'\u001b[0m\u001b[0;34m)\u001b[0m\u001b[0;34m\u001b[0m\u001b[0;34m\u001b[0m\u001b[0m\n\u001b[0m\u001b[1;32m      3\u001b[0m \u001b[0mtest\u001b[0m\u001b[0;34m\u001b[0m\u001b[0;34m\u001b[0m\u001b[0m\n",
      "\u001b[0;32m~/opt/anaconda3/envs/PromoterArchitecturePipeline/lib/python3.6/site-packages/pandas/io/parsers.py\u001b[0m in \u001b[0;36mparser_f\u001b[0;34m(filepath_or_buffer, sep, delimiter, header, names, index_col, usecols, squeeze, prefix, mangle_dupe_cols, dtype, engine, converters, true_values, false_values, skipinitialspace, skiprows, skipfooter, nrows, na_values, keep_default_na, na_filter, verbose, skip_blank_lines, parse_dates, infer_datetime_format, keep_date_col, date_parser, dayfirst, cache_dates, iterator, chunksize, compression, thousands, decimal, lineterminator, quotechar, quoting, doublequote, escapechar, comment, encoding, dialect, error_bad_lines, warn_bad_lines, delim_whitespace, low_memory, memory_map, float_precision)\u001b[0m\n\u001b[1;32m    683\u001b[0m         )\n\u001b[1;32m    684\u001b[0m \u001b[0;34m\u001b[0m\u001b[0m\n\u001b[0;32m--> 685\u001b[0;31m         \u001b[0;32mreturn\u001b[0m \u001b[0m_read\u001b[0m\u001b[0;34m(\u001b[0m\u001b[0mfilepath_or_buffer\u001b[0m\u001b[0;34m,\u001b[0m \u001b[0mkwds\u001b[0m\u001b[0;34m)\u001b[0m\u001b[0;34m\u001b[0m\u001b[0;34m\u001b[0m\u001b[0m\n\u001b[0m\u001b[1;32m    686\u001b[0m \u001b[0;34m\u001b[0m\u001b[0m\n\u001b[1;32m    687\u001b[0m     \u001b[0mparser_f\u001b[0m\u001b[0;34m.\u001b[0m\u001b[0m__name__\u001b[0m \u001b[0;34m=\u001b[0m \u001b[0mname\u001b[0m\u001b[0;34m\u001b[0m\u001b[0;34m\u001b[0m\u001b[0m\n",
      "\u001b[0;32m~/opt/anaconda3/envs/PromoterArchitecturePipeline/lib/python3.6/site-packages/pandas/io/parsers.py\u001b[0m in \u001b[0;36m_read\u001b[0;34m(filepath_or_buffer, kwds)\u001b[0m\n\u001b[1;32m    455\u001b[0m \u001b[0;34m\u001b[0m\u001b[0m\n\u001b[1;32m    456\u001b[0m     \u001b[0;31m# Create the parser.\u001b[0m\u001b[0;34m\u001b[0m\u001b[0;34m\u001b[0m\u001b[0;34m\u001b[0m\u001b[0m\n\u001b[0;32m--> 457\u001b[0;31m     \u001b[0mparser\u001b[0m \u001b[0;34m=\u001b[0m \u001b[0mTextFileReader\u001b[0m\u001b[0;34m(\u001b[0m\u001b[0mfp_or_buf\u001b[0m\u001b[0;34m,\u001b[0m \u001b[0;34m**\u001b[0m\u001b[0mkwds\u001b[0m\u001b[0;34m)\u001b[0m\u001b[0;34m\u001b[0m\u001b[0;34m\u001b[0m\u001b[0m\n\u001b[0m\u001b[1;32m    458\u001b[0m \u001b[0;34m\u001b[0m\u001b[0m\n\u001b[1;32m    459\u001b[0m     \u001b[0;32mif\u001b[0m \u001b[0mchunksize\u001b[0m \u001b[0;32mor\u001b[0m \u001b[0miterator\u001b[0m\u001b[0;34m:\u001b[0m\u001b[0;34m\u001b[0m\u001b[0;34m\u001b[0m\u001b[0m\n",
      "\u001b[0;32m~/opt/anaconda3/envs/PromoterArchitecturePipeline/lib/python3.6/site-packages/pandas/io/parsers.py\u001b[0m in \u001b[0;36m__init__\u001b[0;34m(self, f, engine, **kwds)\u001b[0m\n\u001b[1;32m    893\u001b[0m             \u001b[0mself\u001b[0m\u001b[0;34m.\u001b[0m\u001b[0moptions\u001b[0m\u001b[0;34m[\u001b[0m\u001b[0;34m\"has_index_names\"\u001b[0m\u001b[0;34m]\u001b[0m \u001b[0;34m=\u001b[0m \u001b[0mkwds\u001b[0m\u001b[0;34m[\u001b[0m\u001b[0;34m\"has_index_names\"\u001b[0m\u001b[0;34m]\u001b[0m\u001b[0;34m\u001b[0m\u001b[0;34m\u001b[0m\u001b[0m\n\u001b[1;32m    894\u001b[0m \u001b[0;34m\u001b[0m\u001b[0m\n\u001b[0;32m--> 895\u001b[0;31m         \u001b[0mself\u001b[0m\u001b[0;34m.\u001b[0m\u001b[0m_make_engine\u001b[0m\u001b[0;34m(\u001b[0m\u001b[0mself\u001b[0m\u001b[0;34m.\u001b[0m\u001b[0mengine\u001b[0m\u001b[0;34m)\u001b[0m\u001b[0;34m\u001b[0m\u001b[0;34m\u001b[0m\u001b[0m\n\u001b[0m\u001b[1;32m    896\u001b[0m \u001b[0;34m\u001b[0m\u001b[0m\n\u001b[1;32m    897\u001b[0m     \u001b[0;32mdef\u001b[0m \u001b[0mclose\u001b[0m\u001b[0;34m(\u001b[0m\u001b[0mself\u001b[0m\u001b[0;34m)\u001b[0m\u001b[0;34m:\u001b[0m\u001b[0;34m\u001b[0m\u001b[0;34m\u001b[0m\u001b[0m\n",
      "\u001b[0;32m~/opt/anaconda3/envs/PromoterArchitecturePipeline/lib/python3.6/site-packages/pandas/io/parsers.py\u001b[0m in \u001b[0;36m_make_engine\u001b[0;34m(self, engine)\u001b[0m\n\u001b[1;32m   1133\u001b[0m     \u001b[0;32mdef\u001b[0m \u001b[0m_make_engine\u001b[0m\u001b[0;34m(\u001b[0m\u001b[0mself\u001b[0m\u001b[0;34m,\u001b[0m \u001b[0mengine\u001b[0m\u001b[0;34m=\u001b[0m\u001b[0;34m\"c\"\u001b[0m\u001b[0;34m)\u001b[0m\u001b[0;34m:\u001b[0m\u001b[0;34m\u001b[0m\u001b[0;34m\u001b[0m\u001b[0m\n\u001b[1;32m   1134\u001b[0m         \u001b[0;32mif\u001b[0m \u001b[0mengine\u001b[0m \u001b[0;34m==\u001b[0m \u001b[0;34m\"c\"\u001b[0m\u001b[0;34m:\u001b[0m\u001b[0;34m\u001b[0m\u001b[0;34m\u001b[0m\u001b[0m\n\u001b[0;32m-> 1135\u001b[0;31m             \u001b[0mself\u001b[0m\u001b[0;34m.\u001b[0m\u001b[0m_engine\u001b[0m \u001b[0;34m=\u001b[0m \u001b[0mCParserWrapper\u001b[0m\u001b[0;34m(\u001b[0m\u001b[0mself\u001b[0m\u001b[0;34m.\u001b[0m\u001b[0mf\u001b[0m\u001b[0;34m,\u001b[0m \u001b[0;34m**\u001b[0m\u001b[0mself\u001b[0m\u001b[0;34m.\u001b[0m\u001b[0moptions\u001b[0m\u001b[0;34m)\u001b[0m\u001b[0;34m\u001b[0m\u001b[0;34m\u001b[0m\u001b[0m\n\u001b[0m\u001b[1;32m   1136\u001b[0m         \u001b[0;32melse\u001b[0m\u001b[0;34m:\u001b[0m\u001b[0;34m\u001b[0m\u001b[0;34m\u001b[0m\u001b[0m\n\u001b[1;32m   1137\u001b[0m             \u001b[0;32mif\u001b[0m \u001b[0mengine\u001b[0m \u001b[0;34m==\u001b[0m \u001b[0;34m\"python\"\u001b[0m\u001b[0;34m:\u001b[0m\u001b[0;34m\u001b[0m\u001b[0;34m\u001b[0m\u001b[0m\n",
      "\u001b[0;32m~/opt/anaconda3/envs/PromoterArchitecturePipeline/lib/python3.6/site-packages/pandas/io/parsers.py\u001b[0m in \u001b[0;36m__init__\u001b[0;34m(self, src, **kwds)\u001b[0m\n\u001b[1;32m   1915\u001b[0m         \u001b[0mkwds\u001b[0m\u001b[0;34m[\u001b[0m\u001b[0;34m\"usecols\"\u001b[0m\u001b[0;34m]\u001b[0m \u001b[0;34m=\u001b[0m \u001b[0mself\u001b[0m\u001b[0;34m.\u001b[0m\u001b[0musecols\u001b[0m\u001b[0;34m\u001b[0m\u001b[0;34m\u001b[0m\u001b[0m\n\u001b[1;32m   1916\u001b[0m \u001b[0;34m\u001b[0m\u001b[0m\n\u001b[0;32m-> 1917\u001b[0;31m         \u001b[0mself\u001b[0m\u001b[0;34m.\u001b[0m\u001b[0m_reader\u001b[0m \u001b[0;34m=\u001b[0m \u001b[0mparsers\u001b[0m\u001b[0;34m.\u001b[0m\u001b[0mTextReader\u001b[0m\u001b[0;34m(\u001b[0m\u001b[0msrc\u001b[0m\u001b[0;34m,\u001b[0m \u001b[0;34m**\u001b[0m\u001b[0mkwds\u001b[0m\u001b[0;34m)\u001b[0m\u001b[0;34m\u001b[0m\u001b[0;34m\u001b[0m\u001b[0m\n\u001b[0m\u001b[1;32m   1918\u001b[0m         \u001b[0mself\u001b[0m\u001b[0;34m.\u001b[0m\u001b[0munnamed_cols\u001b[0m \u001b[0;34m=\u001b[0m \u001b[0mself\u001b[0m\u001b[0;34m.\u001b[0m\u001b[0m_reader\u001b[0m\u001b[0;34m.\u001b[0m\u001b[0munnamed_cols\u001b[0m\u001b[0;34m\u001b[0m\u001b[0;34m\u001b[0m\u001b[0m\n\u001b[1;32m   1919\u001b[0m \u001b[0;34m\u001b[0m\u001b[0m\n",
      "\u001b[0;32mpandas/_libs/parsers.pyx\u001b[0m in \u001b[0;36mpandas._libs.parsers.TextReader.__cinit__\u001b[0;34m()\u001b[0m\n",
      "\u001b[0;32mpandas/_libs/parsers.pyx\u001b[0m in \u001b[0;36mpandas._libs.parsers.TextReader._setup_parser_source\u001b[0;34m()\u001b[0m\n",
      "\u001b[0;31mFileNotFoundError\u001b[0m: [Errno 2] File b'../../data/test.csv' does not exist: b'../../data/test.csv'"
     ]
    }
   ],
   "source": [
    "#test run, known shannon's diversity H is 1.372 with base e\n",
    "#test = pd.read_csv('../../data/test.csv')\n",
    "#test"
   ]
  },
  {
   "cell_type": "code",
   "execution_count": 67,
   "metadata": {},
   "outputs": [
    {
     "ename": "NameError",
     "evalue": "name 'test' is not defined",
     "output_type": "error",
     "traceback": [
      "\u001b[0;31m---------------------------------------------------------------------------\u001b[0m",
      "\u001b[0;31mNameError\u001b[0m                                 Traceback (most recent call last)",
      "\u001b[0;32m<ipython-input-67-6920ce50b973>\u001b[0m in \u001b[0;36m<module>\u001b[0;34m\u001b[0m\n\u001b[0;32m----> 1\u001b[0;31m \u001b[0mskbio\u001b[0m\u001b[0;34m.\u001b[0m\u001b[0mdiversity\u001b[0m\u001b[0;34m.\u001b[0m\u001b[0malpha\u001b[0m\u001b[0;34m.\u001b[0m\u001b[0mshannon\u001b[0m\u001b[0;34m(\u001b[0m\u001b[0mtest\u001b[0m\u001b[0;34m.\u001b[0m\u001b[0mn\u001b[0m\u001b[0;34m,\u001b[0m \u001b[0mbase\u001b[0m\u001b[0;34m=\u001b[0m\u001b[0mnp\u001b[0m\u001b[0;34m.\u001b[0m\u001b[0me\u001b[0m\u001b[0;34m)\u001b[0m\u001b[0;34m\u001b[0m\u001b[0;34m\u001b[0m\u001b[0m\n\u001b[0m",
      "\u001b[0;31mNameError\u001b[0m: name 'test' is not defined"
     ]
    }
   ],
   "source": [
    "skbio.diversity.alpha.shannon(test.n, base=np.e)"
   ]
  },
  {
   "cell_type": "markdown",
   "metadata": {},
   "source": [
    "### this is correct"
   ]
  },
  {
   "cell_type": "code",
   "execution_count": null,
   "metadata": {},
   "outputs": [],
   "source": [
    "#I will use base 2 for my calculations (The choice of logarithm base is arbitrary and can be chosen freely)\n",
    "\n",
    "#skbio.diversity.alpha.shannon(groupby_promoter_counts.AT1G01050, base=2)"
   ]
  },
  {
   "cell_type": "code",
   "execution_count": null,
   "metadata": {},
   "outputs": [],
   "source": [
    "#calc shannan diversity on eachcolumn. Add results to new column in groupby_promoter df"
   ]
  },
  {
   "cell_type": "code",
   "execution_count": 87,
   "metadata": {},
   "outputs": [],
   "source": [
    "shannon_div_df = groupby_promoter_counts.apply(pd.Series(lambda x: skbio.diversity.alpha.shannon(x, base=2)),axis=1)\n"
   ]
  },
  {
   "cell_type": "code",
   "execution_count": 88,
   "metadata": {},
   "outputs": [],
   "source": [
    "#shannon diversity for TF family\n",
    "shannon_div_TF_family_df = groupby_promoter_counts_family.apply(pd.Series(lambda x: skbio.diversity.alpha.shannon(x, base=2)),axis=1)"
   ]
  },
  {
   "cell_type": "code",
   "execution_count": 89,
   "metadata": {},
   "outputs": [
    {
     "data": {
      "text/html": [
       "<div>\n",
       "<style scoped>\n",
       "    .dataframe tbody tr th:only-of-type {\n",
       "        vertical-align: middle;\n",
       "    }\n",
       "\n",
       "    .dataframe tbody tr th {\n",
       "        vertical-align: top;\n",
       "    }\n",
       "\n",
       "    .dataframe thead th {\n",
       "        text-align: right;\n",
       "    }\n",
       "</style>\n",
       "<table border=\"1\" class=\"dataframe\">\n",
       "  <thead>\n",
       "    <tr style=\"text-align: right;\">\n",
       "      <th></th>\n",
       "      <th>&lt;lambda&gt;</th>\n",
       "    </tr>\n",
       "  </thead>\n",
       "  <tbody>\n",
       "    <tr>\n",
       "      <th>AT1G01050</th>\n",
       "      <td>1.842371</td>\n",
       "    </tr>\n",
       "    <tr>\n",
       "      <th>AT1G01780</th>\n",
       "      <td>3.147482</td>\n",
       "    </tr>\n",
       "    <tr>\n",
       "      <th>AT1G01910</th>\n",
       "      <td>3.763856</td>\n",
       "    </tr>\n",
       "    <tr>\n",
       "      <th>AT1G02000</th>\n",
       "      <td>2.750000</td>\n",
       "    </tr>\n",
       "    <tr>\n",
       "      <th>AT1G03070</th>\n",
       "      <td>4.931641</td>\n",
       "    </tr>\n",
       "    <tr>\n",
       "      <th>...</th>\n",
       "      <td>...</td>\n",
       "    </tr>\n",
       "    <tr>\n",
       "      <th>AT5G65360</th>\n",
       "      <td>2.155639</td>\n",
       "    </tr>\n",
       "    <tr>\n",
       "      <th>AT5G65470</th>\n",
       "      <td>1.251629</td>\n",
       "    </tr>\n",
       "    <tr>\n",
       "      <th>AT5G66250</th>\n",
       "      <td>-0.000000</td>\n",
       "    </tr>\n",
       "    <tr>\n",
       "      <th>AT5G67210</th>\n",
       "      <td>2.928213</td>\n",
       "    </tr>\n",
       "    <tr>\n",
       "      <th>AT5G67590</th>\n",
       "      <td>2.412506</td>\n",
       "    </tr>\n",
       "  </tbody>\n",
       "</table>\n",
       "<p>399 rows × 1 columns</p>\n",
       "</div>"
      ],
      "text/plain": [
       "           <lambda>\n",
       "AT1G01050  1.842371\n",
       "AT1G01780  3.147482\n",
       "AT1G01910  3.763856\n",
       "AT1G02000  2.750000\n",
       "AT1G03070  4.931641\n",
       "...             ...\n",
       "AT5G65360  2.155639\n",
       "AT5G65470  1.251629\n",
       "AT5G66250 -0.000000\n",
       "AT5G67210  2.928213\n",
       "AT5G67590  2.412506\n",
       "\n",
       "[399 rows x 1 columns]"
      ]
     },
     "execution_count": 89,
     "metadata": {},
     "output_type": "execute_result"
    }
   ],
   "source": [
    "shannon_div_df"
   ]
  },
  {
   "cell_type": "code",
   "execution_count": 90,
   "metadata": {},
   "outputs": [
    {
     "data": {
      "text/html": [
       "<div>\n",
       "<style scoped>\n",
       "    .dataframe tbody tr th:only-of-type {\n",
       "        vertical-align: middle;\n",
       "    }\n",
       "\n",
       "    .dataframe tbody tr th {\n",
       "        vertical-align: top;\n",
       "    }\n",
       "\n",
       "    .dataframe thead th {\n",
       "        text-align: right;\n",
       "    }\n",
       "</style>\n",
       "<table border=\"1\" class=\"dataframe\">\n",
       "  <thead>\n",
       "    <tr style=\"text-align: right;\">\n",
       "      <th></th>\n",
       "      <th>&lt;lambda&gt;</th>\n",
       "    </tr>\n",
       "  </thead>\n",
       "  <tbody>\n",
       "    <tr>\n",
       "      <th>AT1G01050</th>\n",
       "      <td>1.842371</td>\n",
       "    </tr>\n",
       "    <tr>\n",
       "      <th>AT1G01780</th>\n",
       "      <td>1.718292</td>\n",
       "    </tr>\n",
       "    <tr>\n",
       "      <th>AT1G01910</th>\n",
       "      <td>2.323856</td>\n",
       "    </tr>\n",
       "    <tr>\n",
       "      <th>AT1G02000</th>\n",
       "      <td>2.000000</td>\n",
       "    </tr>\n",
       "    <tr>\n",
       "      <th>AT1G03070</th>\n",
       "      <td>2.403916</td>\n",
       "    </tr>\n",
       "    <tr>\n",
       "      <th>...</th>\n",
       "      <td>...</td>\n",
       "    </tr>\n",
       "    <tr>\n",
       "      <th>AT5G65360</th>\n",
       "      <td>1.561278</td>\n",
       "    </tr>\n",
       "    <tr>\n",
       "      <th>AT5G65470</th>\n",
       "      <td>1.251629</td>\n",
       "    </tr>\n",
       "    <tr>\n",
       "      <th>AT5G66250</th>\n",
       "      <td>-0.000000</td>\n",
       "    </tr>\n",
       "    <tr>\n",
       "      <th>AT5G67210</th>\n",
       "      <td>2.690469</td>\n",
       "    </tr>\n",
       "    <tr>\n",
       "      <th>AT5G67590</th>\n",
       "      <td>1.930156</td>\n",
       "    </tr>\n",
       "  </tbody>\n",
       "</table>\n",
       "<p>399 rows × 1 columns</p>\n",
       "</div>"
      ],
      "text/plain": [
       "           <lambda>\n",
       "AT1G01050  1.842371\n",
       "AT1G01780  1.718292\n",
       "AT1G01910  2.323856\n",
       "AT1G02000  2.000000\n",
       "AT1G03070  2.403916\n",
       "...             ...\n",
       "AT5G65360  1.561278\n",
       "AT5G65470  1.251629\n",
       "AT5G66250 -0.000000\n",
       "AT5G67210  2.690469\n",
       "AT5G67590  1.930156\n",
       "\n",
       "[399 rows x 1 columns]"
      ]
     },
     "execution_count": 90,
     "metadata": {},
     "output_type": "execute_result"
    }
   ],
   "source": [
    "shannon_div_TF_family_df"
   ]
  },
  {
   "cell_type": "code",
   "execution_count": 91,
   "metadata": {},
   "outputs": [],
   "source": [
    "#convert rownames into column\n",
    "cols = ['promoter_AGI', 'shannon']\n",
    "shannon_div_df.index.name ='promoter_AGI'\n",
    "shannon_div_df.reset_index(inplace=True)"
   ]
  },
  {
   "cell_type": "code",
   "execution_count": 92,
   "metadata": {},
   "outputs": [],
   "source": [
    "#convert rownames into column\n",
    "cols = ['promoter_AGI', 'shannon']\n",
    "shannon_div_TF_family_df.index.name ='promoter_AGI'\n",
    "shannon_div_TF_family_df.reset_index(inplace=True)"
   ]
  },
  {
   "cell_type": "code",
   "execution_count": 93,
   "metadata": {},
   "outputs": [
    {
     "data": {
      "text/html": [
       "<div>\n",
       "<style scoped>\n",
       "    .dataframe tbody tr th:only-of-type {\n",
       "        vertical-align: middle;\n",
       "    }\n",
       "\n",
       "    .dataframe tbody tr th {\n",
       "        vertical-align: top;\n",
       "    }\n",
       "\n",
       "    .dataframe thead th {\n",
       "        text-align: right;\n",
       "    }\n",
       "</style>\n",
       "<table border=\"1\" class=\"dataframe\">\n",
       "  <thead>\n",
       "    <tr style=\"text-align: right;\">\n",
       "      <th></th>\n",
       "      <th>promoter_AGI</th>\n",
       "      <th>&lt;lambda&gt;</th>\n",
       "    </tr>\n",
       "  </thead>\n",
       "  <tbody>\n",
       "    <tr>\n",
       "      <th>0</th>\n",
       "      <td>AT1G01050</td>\n",
       "      <td>1.842371</td>\n",
       "    </tr>\n",
       "    <tr>\n",
       "      <th>1</th>\n",
       "      <td>AT1G01780</td>\n",
       "      <td>3.147482</td>\n",
       "    </tr>\n",
       "    <tr>\n",
       "      <th>2</th>\n",
       "      <td>AT1G01910</td>\n",
       "      <td>3.763856</td>\n",
       "    </tr>\n",
       "    <tr>\n",
       "      <th>3</th>\n",
       "      <td>AT1G02000</td>\n",
       "      <td>2.750000</td>\n",
       "    </tr>\n",
       "    <tr>\n",
       "      <th>4</th>\n",
       "      <td>AT1G03070</td>\n",
       "      <td>4.931641</td>\n",
       "    </tr>\n",
       "    <tr>\n",
       "      <th>...</th>\n",
       "      <td>...</td>\n",
       "      <td>...</td>\n",
       "    </tr>\n",
       "    <tr>\n",
       "      <th>394</th>\n",
       "      <td>AT5G65360</td>\n",
       "      <td>2.155639</td>\n",
       "    </tr>\n",
       "    <tr>\n",
       "      <th>395</th>\n",
       "      <td>AT5G65470</td>\n",
       "      <td>1.251629</td>\n",
       "    </tr>\n",
       "    <tr>\n",
       "      <th>396</th>\n",
       "      <td>AT5G66250</td>\n",
       "      <td>-0.000000</td>\n",
       "    </tr>\n",
       "    <tr>\n",
       "      <th>397</th>\n",
       "      <td>AT5G67210</td>\n",
       "      <td>2.928213</td>\n",
       "    </tr>\n",
       "    <tr>\n",
       "      <th>398</th>\n",
       "      <td>AT5G67590</td>\n",
       "      <td>2.412506</td>\n",
       "    </tr>\n",
       "  </tbody>\n",
       "</table>\n",
       "<p>399 rows × 2 columns</p>\n",
       "</div>"
      ],
      "text/plain": [
       "    promoter_AGI  <lambda>\n",
       "0      AT1G01050  1.842371\n",
       "1      AT1G01780  3.147482\n",
       "2      AT1G01910  3.763856\n",
       "3      AT1G02000  2.750000\n",
       "4      AT1G03070  4.931641\n",
       "..           ...       ...\n",
       "394    AT5G65360  2.155639\n",
       "395    AT5G65470  1.251629\n",
       "396    AT5G66250 -0.000000\n",
       "397    AT5G67210  2.928213\n",
       "398    AT5G67590  2.412506\n",
       "\n",
       "[399 rows x 2 columns]"
      ]
     },
     "execution_count": 93,
     "metadata": {},
     "output_type": "execute_result"
    }
   ],
   "source": [
    "shannon_div_df"
   ]
  },
  {
   "cell_type": "code",
   "execution_count": 94,
   "metadata": {},
   "outputs": [
    {
     "data": {
      "text/html": [
       "<div>\n",
       "<style scoped>\n",
       "    .dataframe tbody tr th:only-of-type {\n",
       "        vertical-align: middle;\n",
       "    }\n",
       "\n",
       "    .dataframe tbody tr th {\n",
       "        vertical-align: top;\n",
       "    }\n",
       "\n",
       "    .dataframe thead th {\n",
       "        text-align: right;\n",
       "    }\n",
       "</style>\n",
       "<table border=\"1\" class=\"dataframe\">\n",
       "  <thead>\n",
       "    <tr style=\"text-align: right;\">\n",
       "      <th></th>\n",
       "      <th>promoter_AGI</th>\n",
       "      <th>&lt;lambda&gt;</th>\n",
       "    </tr>\n",
       "  </thead>\n",
       "  <tbody>\n",
       "    <tr>\n",
       "      <th>0</th>\n",
       "      <td>AT1G01050</td>\n",
       "      <td>1.842371</td>\n",
       "    </tr>\n",
       "    <tr>\n",
       "      <th>1</th>\n",
       "      <td>AT1G01780</td>\n",
       "      <td>1.718292</td>\n",
       "    </tr>\n",
       "    <tr>\n",
       "      <th>2</th>\n",
       "      <td>AT1G01910</td>\n",
       "      <td>2.323856</td>\n",
       "    </tr>\n",
       "    <tr>\n",
       "      <th>3</th>\n",
       "      <td>AT1G02000</td>\n",
       "      <td>2.000000</td>\n",
       "    </tr>\n",
       "    <tr>\n",
       "      <th>4</th>\n",
       "      <td>AT1G03070</td>\n",
       "      <td>2.403916</td>\n",
       "    </tr>\n",
       "    <tr>\n",
       "      <th>...</th>\n",
       "      <td>...</td>\n",
       "      <td>...</td>\n",
       "    </tr>\n",
       "    <tr>\n",
       "      <th>394</th>\n",
       "      <td>AT5G65360</td>\n",
       "      <td>1.561278</td>\n",
       "    </tr>\n",
       "    <tr>\n",
       "      <th>395</th>\n",
       "      <td>AT5G65470</td>\n",
       "      <td>1.251629</td>\n",
       "    </tr>\n",
       "    <tr>\n",
       "      <th>396</th>\n",
       "      <td>AT5G66250</td>\n",
       "      <td>-0.000000</td>\n",
       "    </tr>\n",
       "    <tr>\n",
       "      <th>397</th>\n",
       "      <td>AT5G67210</td>\n",
       "      <td>2.690469</td>\n",
       "    </tr>\n",
       "    <tr>\n",
       "      <th>398</th>\n",
       "      <td>AT5G67590</td>\n",
       "      <td>1.930156</td>\n",
       "    </tr>\n",
       "  </tbody>\n",
       "</table>\n",
       "<p>399 rows × 2 columns</p>\n",
       "</div>"
      ],
      "text/plain": [
       "    promoter_AGI  <lambda>\n",
       "0      AT1G01050  1.842371\n",
       "1      AT1G01780  1.718292\n",
       "2      AT1G01910  2.323856\n",
       "3      AT1G02000  2.000000\n",
       "4      AT1G03070  2.403916\n",
       "..           ...       ...\n",
       "394    AT5G65360  1.561278\n",
       "395    AT5G65470  1.251629\n",
       "396    AT5G66250 -0.000000\n",
       "397    AT5G67210  2.690469\n",
       "398    AT5G67590  1.930156\n",
       "\n",
       "[399 rows x 2 columns]"
      ]
     },
     "execution_count": 94,
     "metadata": {},
     "output_type": "execute_result"
    }
   ],
   "source": [
    "shannon_div_TF_family_df"
   ]
  },
  {
   "cell_type": "code",
   "execution_count": 95,
   "metadata": {},
   "outputs": [],
   "source": [
    "#rename column\n",
    "shannon_div_df.rename(columns = {'<lambda>':'Shannon_diversity_TF'}, inplace = True)\n",
    "shannon_div_TF_family_df.rename(columns = {'<lambda>':'Shannon_diversity_TF_family'}, inplace = True)"
   ]
  },
  {
   "cell_type": "code",
   "execution_count": 96,
   "metadata": {},
   "outputs": [],
   "source": [
    "#merge dfs\n",
    "groupby_promoter_shannon = pd.merge(shannon_div_df, shannon_div_TF_family_df, on='promoter_AGI')\n",
    "groupby_promoter_shannon = pd.merge(groupby_promoter, groupby_promoter_shannon, on='promoter_AGI' )\n"
   ]
  },
  {
   "cell_type": "code",
   "execution_count": 97,
   "metadata": {},
   "outputs": [
    {
     "data": {
      "text/html": [
       "<div>\n",
       "<style scoped>\n",
       "    .dataframe tbody tr th:only-of-type {\n",
       "        vertical-align: middle;\n",
       "    }\n",
       "\n",
       "    .dataframe tbody tr th {\n",
       "        vertical-align: top;\n",
       "    }\n",
       "\n",
       "    .dataframe thead th {\n",
       "        text-align: right;\n",
       "    }\n",
       "</style>\n",
       "<table border=\"1\" class=\"dataframe\">\n",
       "  <thead>\n",
       "    <tr style=\"text-align: right;\">\n",
       "      <th></th>\n",
       "      <th>promoter_AGI</th>\n",
       "      <th>S_unique_TF_count</th>\n",
       "      <th>Shannon_diversity_TF</th>\n",
       "      <th>Shannon_diversity_TF_family</th>\n",
       "    </tr>\n",
       "  </thead>\n",
       "  <tbody>\n",
       "    <tr>\n",
       "      <th>0</th>\n",
       "      <td>AT1G01050</td>\n",
       "      <td>4</td>\n",
       "      <td>1.842371</td>\n",
       "      <td>1.842371</td>\n",
       "    </tr>\n",
       "    <tr>\n",
       "      <th>1</th>\n",
       "      <td>AT1G01780</td>\n",
       "      <td>19</td>\n",
       "      <td>3.147482</td>\n",
       "      <td>1.718292</td>\n",
       "    </tr>\n",
       "    <tr>\n",
       "      <th>2</th>\n",
       "      <td>AT1G01910</td>\n",
       "      <td>16</td>\n",
       "      <td>3.763856</td>\n",
       "      <td>2.323856</td>\n",
       "    </tr>\n",
       "    <tr>\n",
       "      <th>3</th>\n",
       "      <td>AT1G02000</td>\n",
       "      <td>7</td>\n",
       "      <td>2.750000</td>\n",
       "      <td>2.000000</td>\n",
       "    </tr>\n",
       "    <tr>\n",
       "      <th>4</th>\n",
       "      <td>AT1G03070</td>\n",
       "      <td>43</td>\n",
       "      <td>4.931641</td>\n",
       "      <td>2.403916</td>\n",
       "    </tr>\n",
       "    <tr>\n",
       "      <th>...</th>\n",
       "      <td>...</td>\n",
       "      <td>...</td>\n",
       "      <td>...</td>\n",
       "      <td>...</td>\n",
       "    </tr>\n",
       "    <tr>\n",
       "      <th>394</th>\n",
       "      <td>AT5G65360</td>\n",
       "      <td>5</td>\n",
       "      <td>2.155639</td>\n",
       "      <td>1.561278</td>\n",
       "    </tr>\n",
       "    <tr>\n",
       "      <th>395</th>\n",
       "      <td>AT5G65470</td>\n",
       "      <td>3</td>\n",
       "      <td>1.251629</td>\n",
       "      <td>1.251629</td>\n",
       "    </tr>\n",
       "    <tr>\n",
       "      <th>396</th>\n",
       "      <td>AT5G66250</td>\n",
       "      <td>1</td>\n",
       "      <td>-0.000000</td>\n",
       "      <td>-0.000000</td>\n",
       "    </tr>\n",
       "    <tr>\n",
       "      <th>397</th>\n",
       "      <td>AT5G67210</td>\n",
       "      <td>9</td>\n",
       "      <td>2.928213</td>\n",
       "      <td>2.690469</td>\n",
       "    </tr>\n",
       "    <tr>\n",
       "      <th>398</th>\n",
       "      <td>AT5G67590</td>\n",
       "      <td>7</td>\n",
       "      <td>2.412506</td>\n",
       "      <td>1.930156</td>\n",
       "    </tr>\n",
       "  </tbody>\n",
       "</table>\n",
       "<p>399 rows × 4 columns</p>\n",
       "</div>"
      ],
      "text/plain": [
       "    promoter_AGI  S_unique_TF_count  Shannon_diversity_TF  \\\n",
       "0      AT1G01050                  4              1.842371   \n",
       "1      AT1G01780                 19              3.147482   \n",
       "2      AT1G01910                 16              3.763856   \n",
       "3      AT1G02000                  7              2.750000   \n",
       "4      AT1G03070                 43              4.931641   \n",
       "..           ...                ...                   ...   \n",
       "394    AT5G65360                  5              2.155639   \n",
       "395    AT5G65470                  3              1.251629   \n",
       "396    AT5G66250                  1             -0.000000   \n",
       "397    AT5G67210                  9              2.928213   \n",
       "398    AT5G67590                  7              2.412506   \n",
       "\n",
       "     Shannon_diversity_TF_family  \n",
       "0                       1.842371  \n",
       "1                       1.718292  \n",
       "2                       2.323856  \n",
       "3                       2.000000  \n",
       "4                       2.403916  \n",
       "..                           ...  \n",
       "394                     1.561278  \n",
       "395                     1.251629  \n",
       "396                    -0.000000  \n",
       "397                     2.690469  \n",
       "398                     1.930156  \n",
       "\n",
       "[399 rows x 4 columns]"
      ]
     },
     "execution_count": 97,
     "metadata": {},
     "output_type": "execute_result"
    }
   ],
   "source": [
    "groupby_promoter_shannon"
   ]
  },
  {
   "cell_type": "code",
   "execution_count": 98,
   "metadata": {},
   "outputs": [],
   "source": [
    "#import promoter types"
   ]
  },
  {
   "cell_type": "code",
   "execution_count": 99,
   "metadata": {},
   "outputs": [],
   "source": [
    "select_genes_file = '../../data/genomes/ara_housekeeping_list.out'\n",
    "select_genes = pd.read_table(select_genes_file, sep='\\t', header=None)\n",
    "cols = ['gene','gene_type']\n",
    "select_genes.columns = cols\n",
    "merged = pd.merge(groupby_promoter_shannon, select_genes, left_on='promoter_AGI', right_on='gene')"
   ]
  },
  {
   "cell_type": "code",
   "execution_count": 100,
   "metadata": {},
   "outputs": [],
   "source": [
    "merged = pd.merge(merged, total_TF_count, on='promoter_AGI')\n",
    "merged.rename(columns = {'TF_AGI':'raw_TF_count'}, inplace = True)"
   ]
  },
  {
   "cell_type": "code",
   "execution_count": 101,
   "metadata": {},
   "outputs": [
    {
     "data": {
      "text/html": [
       "<div>\n",
       "<style scoped>\n",
       "    .dataframe tbody tr th:only-of-type {\n",
       "        vertical-align: middle;\n",
       "    }\n",
       "\n",
       "    .dataframe tbody tr th {\n",
       "        vertical-align: top;\n",
       "    }\n",
       "\n",
       "    .dataframe thead th {\n",
       "        text-align: right;\n",
       "    }\n",
       "</style>\n",
       "<table border=\"1\" class=\"dataframe\">\n",
       "  <thead>\n",
       "    <tr style=\"text-align: right;\">\n",
       "      <th></th>\n",
       "      <th>promoter_AGI</th>\n",
       "      <th>S_unique_TF_count</th>\n",
       "      <th>Shannon_diversity_TF</th>\n",
       "      <th>Shannon_diversity_TF_family</th>\n",
       "      <th>gene</th>\n",
       "      <th>gene_type</th>\n",
       "      <th>raw_TF_count</th>\n",
       "    </tr>\n",
       "  </thead>\n",
       "  <tbody>\n",
       "    <tr>\n",
       "      <th>0</th>\n",
       "      <td>AT1G01050</td>\n",
       "      <td>4</td>\n",
       "      <td>1.842371</td>\n",
       "      <td>1.842371</td>\n",
       "      <td>AT1G01050</td>\n",
       "      <td>randCont</td>\n",
       "      <td>7</td>\n",
       "    </tr>\n",
       "    <tr>\n",
       "      <th>1</th>\n",
       "      <td>AT1G01780</td>\n",
       "      <td>19</td>\n",
       "      <td>3.147482</td>\n",
       "      <td>1.718292</td>\n",
       "      <td>AT1G01780</td>\n",
       "      <td>highVar</td>\n",
       "      <td>119</td>\n",
       "    </tr>\n",
       "    <tr>\n",
       "      <th>2</th>\n",
       "      <td>AT1G01910</td>\n",
       "      <td>16</td>\n",
       "      <td>3.763856</td>\n",
       "      <td>2.323856</td>\n",
       "      <td>AT1G01910</td>\n",
       "      <td>housekeeping</td>\n",
       "      <td>25</td>\n",
       "    </tr>\n",
       "    <tr>\n",
       "      <th>3</th>\n",
       "      <td>AT1G02000</td>\n",
       "      <td>7</td>\n",
       "      <td>2.750000</td>\n",
       "      <td>2.000000</td>\n",
       "      <td>AT1G02000</td>\n",
       "      <td>highVar</td>\n",
       "      <td>8</td>\n",
       "    </tr>\n",
       "    <tr>\n",
       "      <th>4</th>\n",
       "      <td>AT1G03070</td>\n",
       "      <td>43</td>\n",
       "      <td>4.931641</td>\n",
       "      <td>2.403916</td>\n",
       "      <td>AT1G03070</td>\n",
       "      <td>highVar</td>\n",
       "      <td>101</td>\n",
       "    </tr>\n",
       "    <tr>\n",
       "      <th>...</th>\n",
       "      <td>...</td>\n",
       "      <td>...</td>\n",
       "      <td>...</td>\n",
       "      <td>...</td>\n",
       "      <td>...</td>\n",
       "      <td>...</td>\n",
       "      <td>...</td>\n",
       "    </tr>\n",
       "    <tr>\n",
       "      <th>394</th>\n",
       "      <td>AT5G65360</td>\n",
       "      <td>5</td>\n",
       "      <td>2.155639</td>\n",
       "      <td>1.561278</td>\n",
       "      <td>AT5G65360</td>\n",
       "      <td>randCont</td>\n",
       "      <td>8</td>\n",
       "    </tr>\n",
       "    <tr>\n",
       "      <th>395</th>\n",
       "      <td>AT5G65470</td>\n",
       "      <td>3</td>\n",
       "      <td>1.251629</td>\n",
       "      <td>1.251629</td>\n",
       "      <td>AT5G65470</td>\n",
       "      <td>randCont</td>\n",
       "      <td>6</td>\n",
       "    </tr>\n",
       "    <tr>\n",
       "      <th>396</th>\n",
       "      <td>AT5G66250</td>\n",
       "      <td>1</td>\n",
       "      <td>-0.000000</td>\n",
       "      <td>-0.000000</td>\n",
       "      <td>AT5G66250</td>\n",
       "      <td>randCont</td>\n",
       "      <td>1</td>\n",
       "    </tr>\n",
       "    <tr>\n",
       "      <th>397</th>\n",
       "      <td>AT5G67210</td>\n",
       "      <td>9</td>\n",
       "      <td>2.928213</td>\n",
       "      <td>2.690469</td>\n",
       "      <td>AT5G67210</td>\n",
       "      <td>highVar</td>\n",
       "      <td>20</td>\n",
       "    </tr>\n",
       "    <tr>\n",
       "      <th>398</th>\n",
       "      <td>AT5G67590</td>\n",
       "      <td>7</td>\n",
       "      <td>2.412506</td>\n",
       "      <td>1.930156</td>\n",
       "      <td>AT5G67590</td>\n",
       "      <td>randCont</td>\n",
       "      <td>24</td>\n",
       "    </tr>\n",
       "  </tbody>\n",
       "</table>\n",
       "<p>399 rows × 7 columns</p>\n",
       "</div>"
      ],
      "text/plain": [
       "    promoter_AGI  S_unique_TF_count  Shannon_diversity_TF  \\\n",
       "0      AT1G01050                  4              1.842371   \n",
       "1      AT1G01780                 19              3.147482   \n",
       "2      AT1G01910                 16              3.763856   \n",
       "3      AT1G02000                  7              2.750000   \n",
       "4      AT1G03070                 43              4.931641   \n",
       "..           ...                ...                   ...   \n",
       "394    AT5G65360                  5              2.155639   \n",
       "395    AT5G65470                  3              1.251629   \n",
       "396    AT5G66250                  1             -0.000000   \n",
       "397    AT5G67210                  9              2.928213   \n",
       "398    AT5G67590                  7              2.412506   \n",
       "\n",
       "     Shannon_diversity_TF_family       gene     gene_type  raw_TF_count  \n",
       "0                       1.842371  AT1G01050      randCont             7  \n",
       "1                       1.718292  AT1G01780       highVar           119  \n",
       "2                       2.323856  AT1G01910  housekeeping            25  \n",
       "3                       2.000000  AT1G02000       highVar             8  \n",
       "4                       2.403916  AT1G03070       highVar           101  \n",
       "..                           ...        ...           ...           ...  \n",
       "394                     1.561278  AT5G65360      randCont             8  \n",
       "395                     1.251629  AT5G65470      randCont             6  \n",
       "396                    -0.000000  AT5G66250      randCont             1  \n",
       "397                     2.690469  AT5G67210       highVar            20  \n",
       "398                     1.930156  AT5G67590      randCont            24  \n",
       "\n",
       "[399 rows x 7 columns]"
      ]
     },
     "execution_count": 101,
     "metadata": {},
     "output_type": "execute_result"
    }
   ],
   "source": [
    "merged"
   ]
  },
  {
   "cell_type": "markdown",
   "metadata": {},
   "source": [
    "## all promoters"
   ]
  },
  {
   "cell_type": "code",
   "execution_count": 102,
   "metadata": {},
   "outputs": [],
   "source": [
    "all_proms_motifs_mapped = '../../data/FIMO/promoters_renamedChr_motifs_mapped.bed'\n"
   ]
  },
  {
   "cell_type": "code",
   "execution_count": 103,
   "metadata": {},
   "outputs": [],
   "source": [
    "all_proms = pd.read_table(all_proms_motifs_mapped, sep='\\t', header=None)\n",
    "cols = ['chr', 'start', 'stop', 'name_rep', 'score', 'strand', 'promoter_AGI', 'p-value', 'q-value', 'matched_sequence', 'TF_name', 'TF_AGI']\n",
    "all_proms.columns = cols"
   ]
  },
  {
   "cell_type": "code",
   "execution_count": 104,
   "metadata": {},
   "outputs": [
    {
     "data": {
      "text/html": [
       "<div>\n",
       "<style scoped>\n",
       "    .dataframe tbody tr th:only-of-type {\n",
       "        vertical-align: middle;\n",
       "    }\n",
       "\n",
       "    .dataframe tbody tr th {\n",
       "        vertical-align: top;\n",
       "    }\n",
       "\n",
       "    .dataframe thead th {\n",
       "        text-align: right;\n",
       "    }\n",
       "</style>\n",
       "<table border=\"1\" class=\"dataframe\">\n",
       "  <thead>\n",
       "    <tr style=\"text-align: right;\">\n",
       "      <th></th>\n",
       "      <th>chr</th>\n",
       "      <th>start</th>\n",
       "      <th>stop</th>\n",
       "      <th>name_rep</th>\n",
       "      <th>score</th>\n",
       "      <th>strand</th>\n",
       "      <th>promoter_AGI</th>\n",
       "      <th>p-value</th>\n",
       "      <th>q-value</th>\n",
       "      <th>matched_sequence</th>\n",
       "      <th>TF_name</th>\n",
       "      <th>TF_AGI</th>\n",
       "    </tr>\n",
       "  </thead>\n",
       "  <tbody>\n",
       "    <tr>\n",
       "      <th>0</th>\n",
       "      <td>1</td>\n",
       "      <td>3131</td>\n",
       "      <td>3149</td>\n",
       "      <td>ABI3VP1_tnt.VRN1_colamp_a</td>\n",
       "      <td>12.82190</td>\n",
       "      <td>+</td>\n",
       "      <td>AT1G01010</td>\n",
       "      <td>1.240000e-05</td>\n",
       "      <td>0.01600</td>\n",
       "      <td>CTCCTTTGTTTTGCTTTGG</td>\n",
       "      <td>VRN1</td>\n",
       "      <td>AT3G18990</td>\n",
       "    </tr>\n",
       "    <tr>\n",
       "      <th>1</th>\n",
       "      <td>1</td>\n",
       "      <td>3560</td>\n",
       "      <td>3580</td>\n",
       "      <td>REM_tnt.REM19_colamp_a</td>\n",
       "      <td>9.95588</td>\n",
       "      <td>+</td>\n",
       "      <td>AT1G01010</td>\n",
       "      <td>6.060000e-05</td>\n",
       "      <td>0.03580</td>\n",
       "      <td>ATTAAGAAAATAAAAATAAAA</td>\n",
       "      <td>REM19</td>\n",
       "      <td>AT1G49480</td>\n",
       "    </tr>\n",
       "    <tr>\n",
       "      <th>2</th>\n",
       "      <td>1</td>\n",
       "      <td>3560</td>\n",
       "      <td>3588</td>\n",
       "      <td>ABI3VP1_tnt.VRN1_col_a</td>\n",
       "      <td>-8.33824</td>\n",
       "      <td>-</td>\n",
       "      <td>AT1G01010</td>\n",
       "      <td>6.470000e-05</td>\n",
       "      <td>0.02820</td>\n",
       "      <td>TTTATTCCTTTTATTTTTATTTTCTTAAT</td>\n",
       "      <td>VRN1</td>\n",
       "      <td>AT3G18990</td>\n",
       "    </tr>\n",
       "    <tr>\n",
       "      <th>3</th>\n",
       "      <td>1</td>\n",
       "      <td>3561</td>\n",
       "      <td>3589</td>\n",
       "      <td>ABI3VP1_tnt.VRN1_col_a</td>\n",
       "      <td>-7.36765</td>\n",
       "      <td>-</td>\n",
       "      <td>AT1G01010</td>\n",
       "      <td>5.270000e-05</td>\n",
       "      <td>0.02530</td>\n",
       "      <td>ATTTATTCCTTTTATTTTTATTTTCTTAA</td>\n",
       "      <td>VRN1</td>\n",
       "      <td>AT3G18990</td>\n",
       "    </tr>\n",
       "    <tr>\n",
       "      <th>4</th>\n",
       "      <td>1</td>\n",
       "      <td>3561</td>\n",
       "      <td>3587</td>\n",
       "      <td>C2C2dof_tnt.AT1G69570_col_a</td>\n",
       "      <td>14.06250</td>\n",
       "      <td>-</td>\n",
       "      <td>AT1G01010</td>\n",
       "      <td>7.560000e-06</td>\n",
       "      <td>0.04510</td>\n",
       "      <td>TTATTCCTTTTATTTTTATTTTCTTAA</td>\n",
       "      <td>AT1G69570</td>\n",
       "      <td>AT1G69570</td>\n",
       "    </tr>\n",
       "    <tr>\n",
       "      <th>...</th>\n",
       "      <td>...</td>\n",
       "      <td>...</td>\n",
       "      <td>...</td>\n",
       "      <td>...</td>\n",
       "      <td>...</td>\n",
       "      <td>...</td>\n",
       "      <td>...</td>\n",
       "      <td>...</td>\n",
       "      <td>...</td>\n",
       "      <td>...</td>\n",
       "      <td>...</td>\n",
       "      <td>...</td>\n",
       "    </tr>\n",
       "    <tr>\n",
       "      <th>1346095</th>\n",
       "      <td>mitochondria</td>\n",
       "      <td>363895</td>\n",
       "      <td>363913</td>\n",
       "      <td>ABI3VP1_tnt.VRN1_colamp_a</td>\n",
       "      <td>13.58900</td>\n",
       "      <td>-</td>\n",
       "      <td>ATmitochondriaG01390</td>\n",
       "      <td>8.670000e-06</td>\n",
       "      <td>0.01320</td>\n",
       "      <td>TAGGTTTTTTTTTCCTGTA</td>\n",
       "      <td>VRN1</td>\n",
       "      <td>AT3G18990</td>\n",
       "    </tr>\n",
       "    <tr>\n",
       "      <th>1346096</th>\n",
       "      <td>mitochondria</td>\n",
       "      <td>363896</td>\n",
       "      <td>363910</td>\n",
       "      <td>REM_tnt.REM19_col_a</td>\n",
       "      <td>12.63240</td>\n",
       "      <td>+</td>\n",
       "      <td>ATmitochondriaG01390</td>\n",
       "      <td>2.560000e-05</td>\n",
       "      <td>0.02500</td>\n",
       "      <td>ACAGGAAAAAAAAAC</td>\n",
       "      <td>REM19</td>\n",
       "      <td>AT1G49480</td>\n",
       "    </tr>\n",
       "    <tr>\n",
       "      <th>1346097</th>\n",
       "      <td>mitochondria</td>\n",
       "      <td>363897</td>\n",
       "      <td>363915</td>\n",
       "      <td>ABI3VP1_tnt.VRN1_colamp_a</td>\n",
       "      <td>8.86301</td>\n",
       "      <td>-</td>\n",
       "      <td>ATmitochondriaG01390</td>\n",
       "      <td>5.750000e-05</td>\n",
       "      <td>0.03700</td>\n",
       "      <td>GTTAGGTTTTTTTTTCCTG</td>\n",
       "      <td>VRN1</td>\n",
       "      <td>AT3G18990</td>\n",
       "    </tr>\n",
       "    <tr>\n",
       "      <th>1346098</th>\n",
       "      <td>mitochondria</td>\n",
       "      <td>363897</td>\n",
       "      <td>363911</td>\n",
       "      <td>REM_tnt.REM19_col_a</td>\n",
       "      <td>11.51470</td>\n",
       "      <td>+</td>\n",
       "      <td>ATmitochondriaG01390</td>\n",
       "      <td>4.990000e-05</td>\n",
       "      <td>0.03680</td>\n",
       "      <td>CAGGAAAAAAAAACC</td>\n",
       "      <td>REM19</td>\n",
       "      <td>AT1G49480</td>\n",
       "    </tr>\n",
       "    <tr>\n",
       "      <th>1346099</th>\n",
       "      <td>mitochondria</td>\n",
       "      <td>366760</td>\n",
       "      <td>366781</td>\n",
       "      <td>MYBrelated_tnt.AT1G18960_col_a</td>\n",
       "      <td>19.53420</td>\n",
       "      <td>+</td>\n",
       "      <td>ATmitochondriaG01410</td>\n",
       "      <td>5.450000e-09</td>\n",
       "      <td>0.00179</td>\n",
       "      <td>CACCTCCCTCAACAACCTGACC</td>\n",
       "      <td>AT1G18960</td>\n",
       "      <td>AT1G18960</td>\n",
       "    </tr>\n",
       "  </tbody>\n",
       "</table>\n",
       "<p>1346100 rows × 12 columns</p>\n",
       "</div>"
      ],
      "text/plain": [
       "                  chr   start    stop                        name_rep  \\\n",
       "0                   1    3131    3149       ABI3VP1_tnt.VRN1_colamp_a   \n",
       "1                   1    3560    3580          REM_tnt.REM19_colamp_a   \n",
       "2                   1    3560    3588          ABI3VP1_tnt.VRN1_col_a   \n",
       "3                   1    3561    3589          ABI3VP1_tnt.VRN1_col_a   \n",
       "4                   1    3561    3587     C2C2dof_tnt.AT1G69570_col_a   \n",
       "...               ...     ...     ...                             ...   \n",
       "1346095  mitochondria  363895  363913       ABI3VP1_tnt.VRN1_colamp_a   \n",
       "1346096  mitochondria  363896  363910             REM_tnt.REM19_col_a   \n",
       "1346097  mitochondria  363897  363915       ABI3VP1_tnt.VRN1_colamp_a   \n",
       "1346098  mitochondria  363897  363911             REM_tnt.REM19_col_a   \n",
       "1346099  mitochondria  366760  366781  MYBrelated_tnt.AT1G18960_col_a   \n",
       "\n",
       "            score strand          promoter_AGI       p-value  q-value  \\\n",
       "0        12.82190      +             AT1G01010  1.240000e-05  0.01600   \n",
       "1         9.95588      +             AT1G01010  6.060000e-05  0.03580   \n",
       "2        -8.33824      -             AT1G01010  6.470000e-05  0.02820   \n",
       "3        -7.36765      -             AT1G01010  5.270000e-05  0.02530   \n",
       "4        14.06250      -             AT1G01010  7.560000e-06  0.04510   \n",
       "...           ...    ...                   ...           ...      ...   \n",
       "1346095  13.58900      -  ATmitochondriaG01390  8.670000e-06  0.01320   \n",
       "1346096  12.63240      +  ATmitochondriaG01390  2.560000e-05  0.02500   \n",
       "1346097   8.86301      -  ATmitochondriaG01390  5.750000e-05  0.03700   \n",
       "1346098  11.51470      +  ATmitochondriaG01390  4.990000e-05  0.03680   \n",
       "1346099  19.53420      +  ATmitochondriaG01410  5.450000e-09  0.00179   \n",
       "\n",
       "                      matched_sequence    TF_name     TF_AGI  \n",
       "0                  CTCCTTTGTTTTGCTTTGG       VRN1  AT3G18990  \n",
       "1                ATTAAGAAAATAAAAATAAAA      REM19  AT1G49480  \n",
       "2        TTTATTCCTTTTATTTTTATTTTCTTAAT       VRN1  AT3G18990  \n",
       "3        ATTTATTCCTTTTATTTTTATTTTCTTAA       VRN1  AT3G18990  \n",
       "4          TTATTCCTTTTATTTTTATTTTCTTAA  AT1G69570  AT1G69570  \n",
       "...                                ...        ...        ...  \n",
       "1346095            TAGGTTTTTTTTTCCTGTA       VRN1  AT3G18990  \n",
       "1346096                ACAGGAAAAAAAAAC      REM19  AT1G49480  \n",
       "1346097            GTTAGGTTTTTTTTTCCTG       VRN1  AT3G18990  \n",
       "1346098                CAGGAAAAAAAAACC      REM19  AT1G49480  \n",
       "1346099         CACCTCCCTCAACAACCTGACC  AT1G18960  AT1G18960  \n",
       "\n",
       "[1346100 rows x 12 columns]"
      ]
     },
     "execution_count": 104,
     "metadata": {},
     "output_type": "execute_result"
    }
   ],
   "source": [
    "all_proms"
   ]
  },
  {
   "cell_type": "code",
   "execution_count": 105,
   "metadata": {},
   "outputs": [],
   "source": [
    "groupby_promoter_all_proms = all_proms.groupby(by='promoter_AGI', as_index=False).agg({'TF_AGI': pd.Series.nunique})"
   ]
  },
  {
   "cell_type": "code",
   "execution_count": 106,
   "metadata": {},
   "outputs": [],
   "source": [
    "groupby_promoter_all_proms.rename(columns = {'TF_AGI':'S_unique_TF_count'}, inplace = True)"
   ]
  },
  {
   "cell_type": "code",
   "execution_count": 107,
   "metadata": {},
   "outputs": [
    {
     "data": {
      "text/html": [
       "<div>\n",
       "<style scoped>\n",
       "    .dataframe tbody tr th:only-of-type {\n",
       "        vertical-align: middle;\n",
       "    }\n",
       "\n",
       "    .dataframe tbody tr th {\n",
       "        vertical-align: top;\n",
       "    }\n",
       "\n",
       "    .dataframe thead th {\n",
       "        text-align: right;\n",
       "    }\n",
       "</style>\n",
       "<table border=\"1\" class=\"dataframe\">\n",
       "  <thead>\n",
       "    <tr style=\"text-align: right;\">\n",
       "      <th></th>\n",
       "      <th>promoter_AGI</th>\n",
       "      <th>S_unique_TF_count</th>\n",
       "    </tr>\n",
       "  </thead>\n",
       "  <tbody>\n",
       "    <tr>\n",
       "      <th>0</th>\n",
       "      <td>AT1G01010</td>\n",
       "      <td>3</td>\n",
       "    </tr>\n",
       "    <tr>\n",
       "      <th>1</th>\n",
       "      <td>AT1G01020</td>\n",
       "      <td>6</td>\n",
       "    </tr>\n",
       "    <tr>\n",
       "      <th>2</th>\n",
       "      <td>AT1G01030</td>\n",
       "      <td>9</td>\n",
       "    </tr>\n",
       "    <tr>\n",
       "      <th>3</th>\n",
       "      <td>AT1G01040</td>\n",
       "      <td>5</td>\n",
       "    </tr>\n",
       "    <tr>\n",
       "      <th>4</th>\n",
       "      <td>AT1G01046</td>\n",
       "      <td>4</td>\n",
       "    </tr>\n",
       "    <tr>\n",
       "      <th>...</th>\n",
       "      <td>...</td>\n",
       "      <td>...</td>\n",
       "    </tr>\n",
       "    <tr>\n",
       "      <th>32726</th>\n",
       "      <td>ATmitochondriaG09450</td>\n",
       "      <td>4</td>\n",
       "    </tr>\n",
       "    <tr>\n",
       "      <th>32727</th>\n",
       "      <td>ATmitochondriaG09730</td>\n",
       "      <td>4</td>\n",
       "    </tr>\n",
       "    <tr>\n",
       "      <th>32728</th>\n",
       "      <td>ATmitochondriaG09740</td>\n",
       "      <td>6</td>\n",
       "    </tr>\n",
       "    <tr>\n",
       "      <th>32729</th>\n",
       "      <td>ATmitochondriaG09950</td>\n",
       "      <td>10</td>\n",
       "    </tr>\n",
       "    <tr>\n",
       "      <th>32730</th>\n",
       "      <td>ATmitochondriaG09960</td>\n",
       "      <td>59</td>\n",
       "    </tr>\n",
       "  </tbody>\n",
       "</table>\n",
       "<p>32731 rows × 2 columns</p>\n",
       "</div>"
      ],
      "text/plain": [
       "               promoter_AGI  S_unique_TF_count\n",
       "0                 AT1G01010                  3\n",
       "1                 AT1G01020                  6\n",
       "2                 AT1G01030                  9\n",
       "3                 AT1G01040                  5\n",
       "4                 AT1G01046                  4\n",
       "...                     ...                ...\n",
       "32726  ATmitochondriaG09450                  4\n",
       "32727  ATmitochondriaG09730                  4\n",
       "32728  ATmitochondriaG09740                  6\n",
       "32729  ATmitochondriaG09950                 10\n",
       "32730  ATmitochondriaG09960                 59\n",
       "\n",
       "[32731 rows x 2 columns]"
      ]
     },
     "execution_count": 107,
     "metadata": {},
     "output_type": "execute_result"
    }
   ],
   "source": [
    "groupby_promoter_all_proms"
   ]
  },
  {
   "cell_type": "code",
   "execution_count": 108,
   "metadata": {},
   "outputs": [],
   "source": [
    "#count no. of each TF binding in each promoter\n",
    "all_promoter_counts = all_proms.groupby('promoter_AGI')['TF_AGI'].value_counts().unstack(fill_value=0)"
   ]
  },
  {
   "cell_type": "code",
   "execution_count": 109,
   "metadata": {},
   "outputs": [
    {
     "data": {
      "text/html": [
       "<div>\n",
       "<style scoped>\n",
       "    .dataframe tbody tr th:only-of-type {\n",
       "        vertical-align: middle;\n",
       "    }\n",
       "\n",
       "    .dataframe tbody tr th {\n",
       "        vertical-align: top;\n",
       "    }\n",
       "\n",
       "    .dataframe thead th {\n",
       "        text-align: right;\n",
       "    }\n",
       "</style>\n",
       "<table border=\"1\" class=\"dataframe\">\n",
       "  <thead>\n",
       "    <tr style=\"text-align: right;\">\n",
       "      <th>TF_AGI</th>\n",
       "      <th>AT1G01250</th>\n",
       "      <th>AT1G02230</th>\n",
       "      <th>AT1G03800</th>\n",
       "      <th>AT1G03840</th>\n",
       "      <th>AT1G06180</th>\n",
       "      <th>AT1G06280</th>\n",
       "      <th>AT1G08810</th>\n",
       "      <th>AT1G09540</th>\n",
       "      <th>AT1G10120</th>\n",
       "      <th>AT1G12260</th>\n",
       "      <th>...</th>\n",
       "      <th>AT5G63090</th>\n",
       "      <th>AT5G64060</th>\n",
       "      <th>AT5G64750</th>\n",
       "      <th>AT5G65130</th>\n",
       "      <th>AT5G66300</th>\n",
       "      <th>AT5G66730</th>\n",
       "      <th>AT5G66940</th>\n",
       "      <th>AT5G67000</th>\n",
       "      <th>AT5G67190</th>\n",
       "      <th>AT5G67580</th>\n",
       "    </tr>\n",
       "    <tr>\n",
       "      <th>promoter_AGI</th>\n",
       "      <th></th>\n",
       "      <th></th>\n",
       "      <th></th>\n",
       "      <th></th>\n",
       "      <th></th>\n",
       "      <th></th>\n",
       "      <th></th>\n",
       "      <th></th>\n",
       "      <th></th>\n",
       "      <th></th>\n",
       "      <th></th>\n",
       "      <th></th>\n",
       "      <th></th>\n",
       "      <th></th>\n",
       "      <th></th>\n",
       "      <th></th>\n",
       "      <th></th>\n",
       "      <th></th>\n",
       "      <th></th>\n",
       "      <th></th>\n",
       "      <th></th>\n",
       "    </tr>\n",
       "  </thead>\n",
       "  <tbody>\n",
       "    <tr>\n",
       "      <th>AT1G01010</th>\n",
       "      <td>0</td>\n",
       "      <td>0</td>\n",
       "      <td>0</td>\n",
       "      <td>0</td>\n",
       "      <td>0</td>\n",
       "      <td>0</td>\n",
       "      <td>0</td>\n",
       "      <td>0</td>\n",
       "      <td>0</td>\n",
       "      <td>0</td>\n",
       "      <td>...</td>\n",
       "      <td>0</td>\n",
       "      <td>0</td>\n",
       "      <td>0</td>\n",
       "      <td>0</td>\n",
       "      <td>0</td>\n",
       "      <td>0</td>\n",
       "      <td>0</td>\n",
       "      <td>0</td>\n",
       "      <td>0</td>\n",
       "      <td>0</td>\n",
       "    </tr>\n",
       "    <tr>\n",
       "      <th>AT1G01020</th>\n",
       "      <td>0</td>\n",
       "      <td>0</td>\n",
       "      <td>0</td>\n",
       "      <td>0</td>\n",
       "      <td>0</td>\n",
       "      <td>0</td>\n",
       "      <td>0</td>\n",
       "      <td>0</td>\n",
       "      <td>0</td>\n",
       "      <td>0</td>\n",
       "      <td>...</td>\n",
       "      <td>0</td>\n",
       "      <td>0</td>\n",
       "      <td>0</td>\n",
       "      <td>0</td>\n",
       "      <td>0</td>\n",
       "      <td>0</td>\n",
       "      <td>0</td>\n",
       "      <td>0</td>\n",
       "      <td>0</td>\n",
       "      <td>0</td>\n",
       "    </tr>\n",
       "    <tr>\n",
       "      <th>AT1G01030</th>\n",
       "      <td>0</td>\n",
       "      <td>0</td>\n",
       "      <td>0</td>\n",
       "      <td>0</td>\n",
       "      <td>0</td>\n",
       "      <td>0</td>\n",
       "      <td>0</td>\n",
       "      <td>0</td>\n",
       "      <td>0</td>\n",
       "      <td>0</td>\n",
       "      <td>...</td>\n",
       "      <td>0</td>\n",
       "      <td>0</td>\n",
       "      <td>0</td>\n",
       "      <td>0</td>\n",
       "      <td>0</td>\n",
       "      <td>0</td>\n",
       "      <td>1</td>\n",
       "      <td>0</td>\n",
       "      <td>0</td>\n",
       "      <td>0</td>\n",
       "    </tr>\n",
       "    <tr>\n",
       "      <th>AT1G01040</th>\n",
       "      <td>0</td>\n",
       "      <td>0</td>\n",
       "      <td>0</td>\n",
       "      <td>0</td>\n",
       "      <td>0</td>\n",
       "      <td>0</td>\n",
       "      <td>0</td>\n",
       "      <td>0</td>\n",
       "      <td>0</td>\n",
       "      <td>0</td>\n",
       "      <td>...</td>\n",
       "      <td>0</td>\n",
       "      <td>0</td>\n",
       "      <td>0</td>\n",
       "      <td>0</td>\n",
       "      <td>0</td>\n",
       "      <td>0</td>\n",
       "      <td>0</td>\n",
       "      <td>0</td>\n",
       "      <td>0</td>\n",
       "      <td>0</td>\n",
       "    </tr>\n",
       "    <tr>\n",
       "      <th>AT1G01046</th>\n",
       "      <td>0</td>\n",
       "      <td>0</td>\n",
       "      <td>0</td>\n",
       "      <td>0</td>\n",
       "      <td>0</td>\n",
       "      <td>0</td>\n",
       "      <td>0</td>\n",
       "      <td>0</td>\n",
       "      <td>0</td>\n",
       "      <td>0</td>\n",
       "      <td>...</td>\n",
       "      <td>0</td>\n",
       "      <td>0</td>\n",
       "      <td>0</td>\n",
       "      <td>0</td>\n",
       "      <td>0</td>\n",
       "      <td>0</td>\n",
       "      <td>0</td>\n",
       "      <td>0</td>\n",
       "      <td>0</td>\n",
       "      <td>0</td>\n",
       "    </tr>\n",
       "    <tr>\n",
       "      <th>...</th>\n",
       "      <td>...</td>\n",
       "      <td>...</td>\n",
       "      <td>...</td>\n",
       "      <td>...</td>\n",
       "      <td>...</td>\n",
       "      <td>...</td>\n",
       "      <td>...</td>\n",
       "      <td>...</td>\n",
       "      <td>...</td>\n",
       "      <td>...</td>\n",
       "      <td>...</td>\n",
       "      <td>...</td>\n",
       "      <td>...</td>\n",
       "      <td>...</td>\n",
       "      <td>...</td>\n",
       "      <td>...</td>\n",
       "      <td>...</td>\n",
       "      <td>...</td>\n",
       "      <td>...</td>\n",
       "      <td>...</td>\n",
       "      <td>...</td>\n",
       "    </tr>\n",
       "    <tr>\n",
       "      <th>ATmitochondriaG09450</th>\n",
       "      <td>0</td>\n",
       "      <td>0</td>\n",
       "      <td>0</td>\n",
       "      <td>0</td>\n",
       "      <td>0</td>\n",
       "      <td>0</td>\n",
       "      <td>0</td>\n",
       "      <td>0</td>\n",
       "      <td>0</td>\n",
       "      <td>0</td>\n",
       "      <td>...</td>\n",
       "      <td>1</td>\n",
       "      <td>0</td>\n",
       "      <td>0</td>\n",
       "      <td>0</td>\n",
       "      <td>0</td>\n",
       "      <td>0</td>\n",
       "      <td>0</td>\n",
       "      <td>0</td>\n",
       "      <td>0</td>\n",
       "      <td>0</td>\n",
       "    </tr>\n",
       "    <tr>\n",
       "      <th>ATmitochondriaG09730</th>\n",
       "      <td>0</td>\n",
       "      <td>0</td>\n",
       "      <td>0</td>\n",
       "      <td>0</td>\n",
       "      <td>0</td>\n",
       "      <td>0</td>\n",
       "      <td>0</td>\n",
       "      <td>0</td>\n",
       "      <td>0</td>\n",
       "      <td>0</td>\n",
       "      <td>...</td>\n",
       "      <td>1</td>\n",
       "      <td>0</td>\n",
       "      <td>0</td>\n",
       "      <td>0</td>\n",
       "      <td>0</td>\n",
       "      <td>0</td>\n",
       "      <td>0</td>\n",
       "      <td>0</td>\n",
       "      <td>0</td>\n",
       "      <td>0</td>\n",
       "    </tr>\n",
       "    <tr>\n",
       "      <th>ATmitochondriaG09740</th>\n",
       "      <td>0</td>\n",
       "      <td>0</td>\n",
       "      <td>0</td>\n",
       "      <td>0</td>\n",
       "      <td>0</td>\n",
       "      <td>0</td>\n",
       "      <td>0</td>\n",
       "      <td>0</td>\n",
       "      <td>0</td>\n",
       "      <td>0</td>\n",
       "      <td>...</td>\n",
       "      <td>0</td>\n",
       "      <td>0</td>\n",
       "      <td>0</td>\n",
       "      <td>0</td>\n",
       "      <td>0</td>\n",
       "      <td>0</td>\n",
       "      <td>0</td>\n",
       "      <td>0</td>\n",
       "      <td>0</td>\n",
       "      <td>0</td>\n",
       "    </tr>\n",
       "    <tr>\n",
       "      <th>ATmitochondriaG09950</th>\n",
       "      <td>0</td>\n",
       "      <td>0</td>\n",
       "      <td>0</td>\n",
       "      <td>0</td>\n",
       "      <td>0</td>\n",
       "      <td>0</td>\n",
       "      <td>0</td>\n",
       "      <td>0</td>\n",
       "      <td>0</td>\n",
       "      <td>0</td>\n",
       "      <td>...</td>\n",
       "      <td>0</td>\n",
       "      <td>0</td>\n",
       "      <td>0</td>\n",
       "      <td>0</td>\n",
       "      <td>0</td>\n",
       "      <td>0</td>\n",
       "      <td>0</td>\n",
       "      <td>0</td>\n",
       "      <td>0</td>\n",
       "      <td>0</td>\n",
       "    </tr>\n",
       "    <tr>\n",
       "      <th>ATmitochondriaG09960</th>\n",
       "      <td>0</td>\n",
       "      <td>0</td>\n",
       "      <td>4</td>\n",
       "      <td>0</td>\n",
       "      <td>0</td>\n",
       "      <td>0</td>\n",
       "      <td>0</td>\n",
       "      <td>0</td>\n",
       "      <td>0</td>\n",
       "      <td>0</td>\n",
       "      <td>...</td>\n",
       "      <td>3</td>\n",
       "      <td>0</td>\n",
       "      <td>4</td>\n",
       "      <td>4</td>\n",
       "      <td>0</td>\n",
       "      <td>0</td>\n",
       "      <td>0</td>\n",
       "      <td>2</td>\n",
       "      <td>2</td>\n",
       "      <td>0</td>\n",
       "    </tr>\n",
       "  </tbody>\n",
       "</table>\n",
       "<p>32731 rows × 262 columns</p>\n",
       "</div>"
      ],
      "text/plain": [
       "TF_AGI                AT1G01250  AT1G02230  AT1G03800  AT1G03840  AT1G06180  \\\n",
       "promoter_AGI                                                                  \n",
       "AT1G01010                     0          0          0          0          0   \n",
       "AT1G01020                     0          0          0          0          0   \n",
       "AT1G01030                     0          0          0          0          0   \n",
       "AT1G01040                     0          0          0          0          0   \n",
       "AT1G01046                     0          0          0          0          0   \n",
       "...                         ...        ...        ...        ...        ...   \n",
       "ATmitochondriaG09450          0          0          0          0          0   \n",
       "ATmitochondriaG09730          0          0          0          0          0   \n",
       "ATmitochondriaG09740          0          0          0          0          0   \n",
       "ATmitochondriaG09950          0          0          0          0          0   \n",
       "ATmitochondriaG09960          0          0          4          0          0   \n",
       "\n",
       "TF_AGI                AT1G06280  AT1G08810  AT1G09540  AT1G10120  AT1G12260  \\\n",
       "promoter_AGI                                                                  \n",
       "AT1G01010                     0          0          0          0          0   \n",
       "AT1G01020                     0          0          0          0          0   \n",
       "AT1G01030                     0          0          0          0          0   \n",
       "AT1G01040                     0          0          0          0          0   \n",
       "AT1G01046                     0          0          0          0          0   \n",
       "...                         ...        ...        ...        ...        ...   \n",
       "ATmitochondriaG09450          0          0          0          0          0   \n",
       "ATmitochondriaG09730          0          0          0          0          0   \n",
       "ATmitochondriaG09740          0          0          0          0          0   \n",
       "ATmitochondriaG09950          0          0          0          0          0   \n",
       "ATmitochondriaG09960          0          0          0          0          0   \n",
       "\n",
       "TF_AGI                ...  AT5G63090  AT5G64060  AT5G64750  AT5G65130  \\\n",
       "promoter_AGI          ...                                               \n",
       "AT1G01010             ...          0          0          0          0   \n",
       "AT1G01020             ...          0          0          0          0   \n",
       "AT1G01030             ...          0          0          0          0   \n",
       "AT1G01040             ...          0          0          0          0   \n",
       "AT1G01046             ...          0          0          0          0   \n",
       "...                   ...        ...        ...        ...        ...   \n",
       "ATmitochondriaG09450  ...          1          0          0          0   \n",
       "ATmitochondriaG09730  ...          1          0          0          0   \n",
       "ATmitochondriaG09740  ...          0          0          0          0   \n",
       "ATmitochondriaG09950  ...          0          0          0          0   \n",
       "ATmitochondriaG09960  ...          3          0          4          4   \n",
       "\n",
       "TF_AGI                AT5G66300  AT5G66730  AT5G66940  AT5G67000  AT5G67190  \\\n",
       "promoter_AGI                                                                  \n",
       "AT1G01010                     0          0          0          0          0   \n",
       "AT1G01020                     0          0          0          0          0   \n",
       "AT1G01030                     0          0          1          0          0   \n",
       "AT1G01040                     0          0          0          0          0   \n",
       "AT1G01046                     0          0          0          0          0   \n",
       "...                         ...        ...        ...        ...        ...   \n",
       "ATmitochondriaG09450          0          0          0          0          0   \n",
       "ATmitochondriaG09730          0          0          0          0          0   \n",
       "ATmitochondriaG09740          0          0          0          0          0   \n",
       "ATmitochondriaG09950          0          0          0          0          0   \n",
       "ATmitochondriaG09960          0          0          0          2          2   \n",
       "\n",
       "TF_AGI                AT5G67580  \n",
       "promoter_AGI                     \n",
       "AT1G01010                     0  \n",
       "AT1G01020                     0  \n",
       "AT1G01030                     0  \n",
       "AT1G01040                     0  \n",
       "AT1G01046                     0  \n",
       "...                         ...  \n",
       "ATmitochondriaG09450          0  \n",
       "ATmitochondriaG09730          0  \n",
       "ATmitochondriaG09740          0  \n",
       "ATmitochondriaG09950          0  \n",
       "ATmitochondriaG09960          0  \n",
       "\n",
       "[32731 rows x 262 columns]"
      ]
     },
     "execution_count": 109,
     "metadata": {},
     "output_type": "execute_result"
    }
   ],
   "source": [
    "all_promoter_counts"
   ]
  },
  {
   "cell_type": "code",
   "execution_count": 110,
   "metadata": {},
   "outputs": [],
   "source": [
    "shannon_div_all_proms = all_promoter_counts.apply(pd.Series(lambda x: skbio.diversity.alpha.shannon(x, base=2)),axis=1)"
   ]
  },
  {
   "cell_type": "code",
   "execution_count": 111,
   "metadata": {},
   "outputs": [],
   "source": [
    "#convert rownames into column\n",
    "cols = ['promoter_AGI', 'shannon']\n",
    "shannon_div_all_proms.index.name ='promoter_AGI'\n",
    "shannon_div_all_proms.reset_index(inplace=True)"
   ]
  },
  {
   "cell_type": "code",
   "execution_count": 112,
   "metadata": {},
   "outputs": [],
   "source": [
    "#rename column\n",
    "shannon_div_all_proms.rename(columns = {'<lambda>':'Shannon_diversity'}, inplace = True)"
   ]
  },
  {
   "cell_type": "code",
   "execution_count": 113,
   "metadata": {},
   "outputs": [],
   "source": [
    "#merge dfs\n",
    "shannon_div_all_proms = pd.merge(groupby_promoter_all_proms, shannon_div_all_proms, on='promoter_AGI' )"
   ]
  },
  {
   "cell_type": "code",
   "execution_count": 114,
   "metadata": {},
   "outputs": [
    {
     "data": {
      "text/html": [
       "<div>\n",
       "<style scoped>\n",
       "    .dataframe tbody tr th:only-of-type {\n",
       "        vertical-align: middle;\n",
       "    }\n",
       "\n",
       "    .dataframe tbody tr th {\n",
       "        vertical-align: top;\n",
       "    }\n",
       "\n",
       "    .dataframe thead th {\n",
       "        text-align: right;\n",
       "    }\n",
       "</style>\n",
       "<table border=\"1\" class=\"dataframe\">\n",
       "  <thead>\n",
       "    <tr style=\"text-align: right;\">\n",
       "      <th></th>\n",
       "      <th>promoter_AGI</th>\n",
       "      <th>S_unique_TF_count</th>\n",
       "      <th>Shannon_diversity</th>\n",
       "    </tr>\n",
       "  </thead>\n",
       "  <tbody>\n",
       "    <tr>\n",
       "      <th>0</th>\n",
       "      <td>AT1G01010</td>\n",
       "      <td>3</td>\n",
       "      <td>1.251629</td>\n",
       "    </tr>\n",
       "    <tr>\n",
       "      <th>1</th>\n",
       "      <td>AT1G01020</td>\n",
       "      <td>6</td>\n",
       "      <td>2.192006</td>\n",
       "    </tr>\n",
       "    <tr>\n",
       "      <th>2</th>\n",
       "      <td>AT1G01030</td>\n",
       "      <td>9</td>\n",
       "      <td>2.645061</td>\n",
       "    </tr>\n",
       "    <tr>\n",
       "      <th>3</th>\n",
       "      <td>AT1G01040</td>\n",
       "      <td>5</td>\n",
       "      <td>1.760218</td>\n",
       "    </tr>\n",
       "    <tr>\n",
       "      <th>4</th>\n",
       "      <td>AT1G01046</td>\n",
       "      <td>4</td>\n",
       "      <td>1.921928</td>\n",
       "    </tr>\n",
       "    <tr>\n",
       "      <th>...</th>\n",
       "      <td>...</td>\n",
       "      <td>...</td>\n",
       "      <td>...</td>\n",
       "    </tr>\n",
       "    <tr>\n",
       "      <th>32726</th>\n",
       "      <td>ATmitochondriaG09450</td>\n",
       "      <td>4</td>\n",
       "      <td>2.000000</td>\n",
       "    </tr>\n",
       "    <tr>\n",
       "      <th>32727</th>\n",
       "      <td>ATmitochondriaG09730</td>\n",
       "      <td>4</td>\n",
       "      <td>2.000000</td>\n",
       "    </tr>\n",
       "    <tr>\n",
       "      <th>32728</th>\n",
       "      <td>ATmitochondriaG09740</td>\n",
       "      <td>6</td>\n",
       "      <td>2.441069</td>\n",
       "    </tr>\n",
       "    <tr>\n",
       "      <th>32729</th>\n",
       "      <td>ATmitochondriaG09950</td>\n",
       "      <td>10</td>\n",
       "      <td>2.721316</td>\n",
       "    </tr>\n",
       "    <tr>\n",
       "      <th>32730</th>\n",
       "      <td>ATmitochondriaG09960</td>\n",
       "      <td>59</td>\n",
       "      <td>5.722543</td>\n",
       "    </tr>\n",
       "  </tbody>\n",
       "</table>\n",
       "<p>32731 rows × 3 columns</p>\n",
       "</div>"
      ],
      "text/plain": [
       "               promoter_AGI  S_unique_TF_count  Shannon_diversity\n",
       "0                 AT1G01010                  3           1.251629\n",
       "1                 AT1G01020                  6           2.192006\n",
       "2                 AT1G01030                  9           2.645061\n",
       "3                 AT1G01040                  5           1.760218\n",
       "4                 AT1G01046                  4           1.921928\n",
       "...                     ...                ...                ...\n",
       "32726  ATmitochondriaG09450                  4           2.000000\n",
       "32727  ATmitochondriaG09730                  4           2.000000\n",
       "32728  ATmitochondriaG09740                  6           2.441069\n",
       "32729  ATmitochondriaG09950                 10           2.721316\n",
       "32730  ATmitochondriaG09960                 59           5.722543\n",
       "\n",
       "[32731 rows x 3 columns]"
      ]
     },
     "execution_count": 114,
     "metadata": {},
     "output_type": "execute_result"
    }
   ],
   "source": [
    "shannon_div_all_proms"
   ]
  },
  {
   "cell_type": "markdown",
   "metadata": {},
   "source": [
    "### distribution plot"
   ]
  },
  {
   "cell_type": "code",
   "execution_count": 115,
   "metadata": {},
   "outputs": [],
   "source": [
    "#allow colour codes in seaborn\n",
    "sns.set(color_codes=True)"
   ]
  },
  {
   "cell_type": "code",
   "execution_count": 116,
   "metadata": {},
   "outputs": [
    {
     "ename": "AttributeError",
     "evalue": "'Series' object has no attribute 'axvline'",
     "output_type": "error",
     "traceback": [
      "\u001b[0;31m---------------------------------------------------------------------------\u001b[0m",
      "\u001b[0;31mAttributeError\u001b[0m                            Traceback (most recent call last)",
      "\u001b[0;32m<ipython-input-116-fb94076e72de>\u001b[0m in \u001b[0;36m<module>\u001b[0;34m\u001b[0m\n\u001b[1;32m      1\u001b[0m \u001b[0mdist_plot\u001b[0m \u001b[0;34m=\u001b[0m \u001b[0mshannon_div_all_proms\u001b[0m\u001b[0;34m[\u001b[0m\u001b[0;34m'Shannon_diversity'\u001b[0m\u001b[0;34m]\u001b[0m\u001b[0;34m\u001b[0m\u001b[0;34m\u001b[0m\u001b[0m\n\u001b[0;32m----> 2\u001b[0;31m \u001b[0mdist_plot\u001b[0m\u001b[0;34m.\u001b[0m\u001b[0maxvline\u001b[0m\u001b[0;34m(\u001b[0m\u001b[0;36m2.8\u001b[0m\u001b[0;34m,\u001b[0m \u001b[0;36m0\u001b[0m\u001b[0;34m,\u001b[0m\u001b[0;36m0.17\u001b[0m\u001b[0;34m)\u001b[0m\u001b[0;34m\u001b[0m\u001b[0;34m\u001b[0m\u001b[0m\n\u001b[0m\u001b[1;32m      3\u001b[0m \u001b[0;31m#dist_plot.plot(kind=[2.8, 2.8], ax=[0,0.1])\u001b[0m\u001b[0;34m\u001b[0m\u001b[0;34m\u001b[0m\u001b[0;34m\u001b[0m\u001b[0m\n\u001b[1;32m      4\u001b[0m \u001b[0;31m#dist_plot_fig = sns.distplot(dist_plot).get_figure()\u001b[0m\u001b[0;34m\u001b[0m\u001b[0;34m\u001b[0m\u001b[0;34m\u001b[0m\u001b[0m\n\u001b[1;32m      5\u001b[0m \u001b[0;34m\u001b[0m\u001b[0m\n",
      "\u001b[0;32m~/opt/anaconda3/envs/PromoterArchitecturePipeline/lib/python3.6/site-packages/pandas/core/generic.py\u001b[0m in \u001b[0;36m__getattr__\u001b[0;34m(self, name)\u001b[0m\n\u001b[1;32m   5177\u001b[0m             \u001b[0;32mif\u001b[0m \u001b[0mself\u001b[0m\u001b[0;34m.\u001b[0m\u001b[0m_info_axis\u001b[0m\u001b[0;34m.\u001b[0m\u001b[0m_can_hold_identifiers_and_holds_name\u001b[0m\u001b[0;34m(\u001b[0m\u001b[0mname\u001b[0m\u001b[0;34m)\u001b[0m\u001b[0;34m:\u001b[0m\u001b[0;34m\u001b[0m\u001b[0;34m\u001b[0m\u001b[0m\n\u001b[1;32m   5178\u001b[0m                 \u001b[0;32mreturn\u001b[0m \u001b[0mself\u001b[0m\u001b[0;34m[\u001b[0m\u001b[0mname\u001b[0m\u001b[0;34m]\u001b[0m\u001b[0;34m\u001b[0m\u001b[0;34m\u001b[0m\u001b[0m\n\u001b[0;32m-> 5179\u001b[0;31m             \u001b[0;32mreturn\u001b[0m \u001b[0mobject\u001b[0m\u001b[0;34m.\u001b[0m\u001b[0m__getattribute__\u001b[0m\u001b[0;34m(\u001b[0m\u001b[0mself\u001b[0m\u001b[0;34m,\u001b[0m \u001b[0mname\u001b[0m\u001b[0;34m)\u001b[0m\u001b[0;34m\u001b[0m\u001b[0;34m\u001b[0m\u001b[0m\n\u001b[0m\u001b[1;32m   5180\u001b[0m \u001b[0;34m\u001b[0m\u001b[0m\n\u001b[1;32m   5181\u001b[0m     \u001b[0;32mdef\u001b[0m \u001b[0m__setattr__\u001b[0m\u001b[0;34m(\u001b[0m\u001b[0mself\u001b[0m\u001b[0;34m,\u001b[0m \u001b[0mname\u001b[0m\u001b[0;34m,\u001b[0m \u001b[0mvalue\u001b[0m\u001b[0;34m)\u001b[0m\u001b[0;34m:\u001b[0m\u001b[0;34m\u001b[0m\u001b[0;34m\u001b[0m\u001b[0m\n",
      "\u001b[0;31mAttributeError\u001b[0m: 'Series' object has no attribute 'axvline'"
     ]
    }
   ],
   "source": [
    "dist_plot = shannon_div_all_proms['Shannon_diversity']\n",
    "dist_plot.axvline(2.8, 0,0.17)\n",
    "#dist_plot.plot(kind=[2.8, 2.8], ax=[0,0.1])\n",
    "#dist_plot_fig = sns.distplot(dist_plot).get_figure()\n",
    "\n",
    "#save 2 file\n",
    "#dist_plot_fig.savefig('../../data/plots/TF_diversity/all_genes_TF_diversity.pdf', format='pdf')"
   ]
  },
  {
   "cell_type": "markdown",
   "metadata": {},
   "source": [
    "### scatterplots"
   ]
  },
  {
   "cell_type": "code",
   "execution_count": 117,
   "metadata": {},
   "outputs": [],
   "source": [
    "#set style to ticks\n",
    "sns.set(style=\"ticks\", color_codes=True)"
   ]
  },
  {
   "cell_type": "code",
   "execution_count": 118,
   "metadata": {},
   "outputs": [
    {
     "ename": "FileNotFoundError",
     "evalue": "[Errno 2] No such file or directory: '../../data/plots/TF_diversity/responsive_TF_diversity.pdf'",
     "output_type": "error",
     "traceback": [
      "\u001b[0;31m---------------------------------------------------------------------------\u001b[0m",
      "\u001b[0;31mFileNotFoundError\u001b[0m                         Traceback (most recent call last)",
      "\u001b[0;32m<ipython-input-118-547af5ca85b5>\u001b[0m in \u001b[0;36m<module>\u001b[0;34m\u001b[0m\n\u001b[0;32m----> 1\u001b[0;31m \u001b[0msns\u001b[0m\u001b[0;34m.\u001b[0m\u001b[0mcatplot\u001b[0m\u001b[0;34m(\u001b[0m\u001b[0mx\u001b[0m\u001b[0;34m=\u001b[0m\u001b[0;34m\"gene_type\"\u001b[0m\u001b[0;34m,\u001b[0m \u001b[0my\u001b[0m\u001b[0;34m=\u001b[0m\u001b[0;34m\"Shannon_diversity_TF\"\u001b[0m\u001b[0;34m,\u001b[0m \u001b[0mdata\u001b[0m\u001b[0;34m=\u001b[0m\u001b[0mmerged\u001b[0m\u001b[0;34m)\u001b[0m\u001b[0;34m.\u001b[0m\u001b[0msavefig\u001b[0m\u001b[0;34m(\u001b[0m\u001b[0;34m'../../data/plots/TF_diversity/responsive_TF_diversity.pdf'\u001b[0m\u001b[0;34m,\u001b[0m \u001b[0mformat\u001b[0m\u001b[0;34m=\u001b[0m\u001b[0;34m'pdf'\u001b[0m\u001b[0;34m)\u001b[0m\u001b[0;34m\u001b[0m\u001b[0;34m\u001b[0m\u001b[0m\n\u001b[0m",
      "\u001b[0;32m~/opt/anaconda3/envs/PromoterArchitecturePipeline/lib/python3.6/site-packages/seaborn/axisgrid.py\u001b[0m in \u001b[0;36msavefig\u001b[0;34m(self, *args, **kwargs)\u001b[0m\n\u001b[1;32m     35\u001b[0m         \u001b[0mkwargs\u001b[0m \u001b[0;34m=\u001b[0m \u001b[0mkwargs\u001b[0m\u001b[0;34m.\u001b[0m\u001b[0mcopy\u001b[0m\u001b[0;34m(\u001b[0m\u001b[0;34m)\u001b[0m\u001b[0;34m\u001b[0m\u001b[0;34m\u001b[0m\u001b[0m\n\u001b[1;32m     36\u001b[0m         \u001b[0mkwargs\u001b[0m\u001b[0;34m.\u001b[0m\u001b[0msetdefault\u001b[0m\u001b[0;34m(\u001b[0m\u001b[0;34m\"bbox_inches\"\u001b[0m\u001b[0;34m,\u001b[0m \u001b[0;34m\"tight\"\u001b[0m\u001b[0;34m)\u001b[0m\u001b[0;34m\u001b[0m\u001b[0;34m\u001b[0m\u001b[0m\n\u001b[0;32m---> 37\u001b[0;31m         \u001b[0mself\u001b[0m\u001b[0;34m.\u001b[0m\u001b[0mfig\u001b[0m\u001b[0;34m.\u001b[0m\u001b[0msavefig\u001b[0m\u001b[0;34m(\u001b[0m\u001b[0;34m*\u001b[0m\u001b[0margs\u001b[0m\u001b[0;34m,\u001b[0m \u001b[0;34m**\u001b[0m\u001b[0mkwargs\u001b[0m\u001b[0;34m)\u001b[0m\u001b[0;34m\u001b[0m\u001b[0;34m\u001b[0m\u001b[0m\n\u001b[0m\u001b[1;32m     38\u001b[0m \u001b[0;34m\u001b[0m\u001b[0m\n\u001b[1;32m     39\u001b[0m     def add_legend(self, legend_data=None, title=None, label_order=None,\n",
      "\u001b[0;32m~/opt/anaconda3/envs/PromoterArchitecturePipeline/lib/python3.6/site-packages/matplotlib/figure.py\u001b[0m in \u001b[0;36msavefig\u001b[0;34m(self, fname, transparent, **kwargs)\u001b[0m\n\u001b[1;32m   2178\u001b[0m             \u001b[0mself\u001b[0m\u001b[0;34m.\u001b[0m\u001b[0mpatch\u001b[0m\u001b[0;34m.\u001b[0m\u001b[0mset_visible\u001b[0m\u001b[0;34m(\u001b[0m\u001b[0mframeon\u001b[0m\u001b[0;34m)\u001b[0m\u001b[0;34m\u001b[0m\u001b[0;34m\u001b[0m\u001b[0m\n\u001b[1;32m   2179\u001b[0m \u001b[0;34m\u001b[0m\u001b[0m\n\u001b[0;32m-> 2180\u001b[0;31m         \u001b[0mself\u001b[0m\u001b[0;34m.\u001b[0m\u001b[0mcanvas\u001b[0m\u001b[0;34m.\u001b[0m\u001b[0mprint_figure\u001b[0m\u001b[0;34m(\u001b[0m\u001b[0mfname\u001b[0m\u001b[0;34m,\u001b[0m \u001b[0;34m**\u001b[0m\u001b[0mkwargs\u001b[0m\u001b[0;34m)\u001b[0m\u001b[0;34m\u001b[0m\u001b[0;34m\u001b[0m\u001b[0m\n\u001b[0m\u001b[1;32m   2181\u001b[0m \u001b[0;34m\u001b[0m\u001b[0m\n\u001b[1;32m   2182\u001b[0m         \u001b[0;32mif\u001b[0m \u001b[0mframeon\u001b[0m\u001b[0;34m:\u001b[0m\u001b[0;34m\u001b[0m\u001b[0;34m\u001b[0m\u001b[0m\n",
      "\u001b[0;32m~/opt/anaconda3/envs/PromoterArchitecturePipeline/lib/python3.6/site-packages/matplotlib/backend_bases.py\u001b[0m in \u001b[0;36mprint_figure\u001b[0;34m(self, filename, dpi, facecolor, edgecolor, orientation, format, bbox_inches, **kwargs)\u001b[0m\n\u001b[1;32m   2087\u001b[0m                     \u001b[0morientation\u001b[0m\u001b[0;34m=\u001b[0m\u001b[0morientation\u001b[0m\u001b[0;34m,\u001b[0m\u001b[0;34m\u001b[0m\u001b[0;34m\u001b[0m\u001b[0m\n\u001b[1;32m   2088\u001b[0m                     \u001b[0mbbox_inches_restore\u001b[0m\u001b[0;34m=\u001b[0m\u001b[0m_bbox_inches_restore\u001b[0m\u001b[0;34m,\u001b[0m\u001b[0;34m\u001b[0m\u001b[0;34m\u001b[0m\u001b[0m\n\u001b[0;32m-> 2089\u001b[0;31m                     **kwargs)\n\u001b[0m\u001b[1;32m   2090\u001b[0m             \u001b[0;32mfinally\u001b[0m\u001b[0;34m:\u001b[0m\u001b[0;34m\u001b[0m\u001b[0;34m\u001b[0m\u001b[0m\n\u001b[1;32m   2091\u001b[0m                 \u001b[0;32mif\u001b[0m \u001b[0mbbox_inches\u001b[0m \u001b[0;32mand\u001b[0m \u001b[0mrestore_bbox\u001b[0m\u001b[0;34m:\u001b[0m\u001b[0;34m\u001b[0m\u001b[0;34m\u001b[0m\u001b[0m\n",
      "\u001b[0;32m~/opt/anaconda3/envs/PromoterArchitecturePipeline/lib/python3.6/site-packages/matplotlib/backends/backend_pdf.py\u001b[0m in \u001b[0;36mprint_pdf\u001b[0;34m(self, filename, dpi, bbox_inches_restore, metadata, **kwargs)\u001b[0m\n\u001b[1;32m   2494\u001b[0m             \u001b[0mfile\u001b[0m \u001b[0;34m=\u001b[0m \u001b[0mfilename\u001b[0m\u001b[0;34m.\u001b[0m\u001b[0m_file\u001b[0m\u001b[0;34m\u001b[0m\u001b[0;34m\u001b[0m\u001b[0m\n\u001b[1;32m   2495\u001b[0m         \u001b[0;32melse\u001b[0m\u001b[0;34m:\u001b[0m\u001b[0;34m\u001b[0m\u001b[0;34m\u001b[0m\u001b[0m\n\u001b[0;32m-> 2496\u001b[0;31m             \u001b[0mfile\u001b[0m \u001b[0;34m=\u001b[0m \u001b[0mPdfFile\u001b[0m\u001b[0;34m(\u001b[0m\u001b[0mfilename\u001b[0m\u001b[0;34m,\u001b[0m \u001b[0mmetadata\u001b[0m\u001b[0;34m=\u001b[0m\u001b[0mmetadata\u001b[0m\u001b[0;34m)\u001b[0m\u001b[0;34m\u001b[0m\u001b[0;34m\u001b[0m\u001b[0m\n\u001b[0m\u001b[1;32m   2497\u001b[0m         \u001b[0;32mtry\u001b[0m\u001b[0;34m:\u001b[0m\u001b[0;34m\u001b[0m\u001b[0;34m\u001b[0m\u001b[0m\n\u001b[1;32m   2498\u001b[0m             \u001b[0mfile\u001b[0m\u001b[0;34m.\u001b[0m\u001b[0mnewPage\u001b[0m\u001b[0;34m(\u001b[0m\u001b[0mwidth\u001b[0m\u001b[0;34m,\u001b[0m \u001b[0mheight\u001b[0m\u001b[0;34m)\u001b[0m\u001b[0;34m\u001b[0m\u001b[0;34m\u001b[0m\u001b[0m\n",
      "\u001b[0;32m~/opt/anaconda3/envs/PromoterArchitecturePipeline/lib/python3.6/site-packages/matplotlib/backends/backend_pdf.py\u001b[0m in \u001b[0;36m__init__\u001b[0;34m(self, filename, metadata)\u001b[0m\n\u001b[1;32m    430\u001b[0m         \u001b[0mself\u001b[0m\u001b[0;34m.\u001b[0m\u001b[0moriginal_file_like\u001b[0m \u001b[0;34m=\u001b[0m \u001b[0;32mNone\u001b[0m\u001b[0;34m\u001b[0m\u001b[0;34m\u001b[0m\u001b[0m\n\u001b[1;32m    431\u001b[0m         \u001b[0mself\u001b[0m\u001b[0;34m.\u001b[0m\u001b[0mtell_base\u001b[0m \u001b[0;34m=\u001b[0m \u001b[0;36m0\u001b[0m\u001b[0;34m\u001b[0m\u001b[0;34m\u001b[0m\u001b[0m\n\u001b[0;32m--> 432\u001b[0;31m         \u001b[0mfh\u001b[0m\u001b[0;34m,\u001b[0m \u001b[0mopened\u001b[0m \u001b[0;34m=\u001b[0m \u001b[0mcbook\u001b[0m\u001b[0;34m.\u001b[0m\u001b[0mto_filehandle\u001b[0m\u001b[0;34m(\u001b[0m\u001b[0mfilename\u001b[0m\u001b[0;34m,\u001b[0m \u001b[0;34m\"wb\"\u001b[0m\u001b[0;34m,\u001b[0m \u001b[0mreturn_opened\u001b[0m\u001b[0;34m=\u001b[0m\u001b[0;32mTrue\u001b[0m\u001b[0;34m)\u001b[0m\u001b[0;34m\u001b[0m\u001b[0;34m\u001b[0m\u001b[0m\n\u001b[0m\u001b[1;32m    433\u001b[0m         \u001b[0;32mif\u001b[0m \u001b[0;32mnot\u001b[0m \u001b[0mopened\u001b[0m\u001b[0;34m:\u001b[0m\u001b[0;34m\u001b[0m\u001b[0;34m\u001b[0m\u001b[0m\n\u001b[1;32m    434\u001b[0m             \u001b[0;32mtry\u001b[0m\u001b[0;34m:\u001b[0m\u001b[0;34m\u001b[0m\u001b[0;34m\u001b[0m\u001b[0m\n",
      "\u001b[0;32m~/opt/anaconda3/envs/PromoterArchitecturePipeline/lib/python3.6/site-packages/matplotlib/cbook/__init__.py\u001b[0m in \u001b[0;36mto_filehandle\u001b[0;34m(fname, flag, return_opened, encoding)\u001b[0m\n\u001b[1;32m    430\u001b[0m             \u001b[0mfh\u001b[0m \u001b[0;34m=\u001b[0m \u001b[0mbz2\u001b[0m\u001b[0;34m.\u001b[0m\u001b[0mBZ2File\u001b[0m\u001b[0;34m(\u001b[0m\u001b[0mfname\u001b[0m\u001b[0;34m,\u001b[0m \u001b[0mflag\u001b[0m\u001b[0;34m)\u001b[0m\u001b[0;34m\u001b[0m\u001b[0;34m\u001b[0m\u001b[0m\n\u001b[1;32m    431\u001b[0m         \u001b[0;32melse\u001b[0m\u001b[0;34m:\u001b[0m\u001b[0;34m\u001b[0m\u001b[0;34m\u001b[0m\u001b[0m\n\u001b[0;32m--> 432\u001b[0;31m             \u001b[0mfh\u001b[0m \u001b[0;34m=\u001b[0m \u001b[0mopen\u001b[0m\u001b[0;34m(\u001b[0m\u001b[0mfname\u001b[0m\u001b[0;34m,\u001b[0m \u001b[0mflag\u001b[0m\u001b[0;34m,\u001b[0m \u001b[0mencoding\u001b[0m\u001b[0;34m=\u001b[0m\u001b[0mencoding\u001b[0m\u001b[0;34m)\u001b[0m\u001b[0;34m\u001b[0m\u001b[0;34m\u001b[0m\u001b[0m\n\u001b[0m\u001b[1;32m    433\u001b[0m         \u001b[0mopened\u001b[0m \u001b[0;34m=\u001b[0m \u001b[0;32mTrue\u001b[0m\u001b[0;34m\u001b[0m\u001b[0;34m\u001b[0m\u001b[0m\n\u001b[1;32m    434\u001b[0m     \u001b[0;32melif\u001b[0m \u001b[0mhasattr\u001b[0m\u001b[0;34m(\u001b[0m\u001b[0mfname\u001b[0m\u001b[0;34m,\u001b[0m \u001b[0;34m'seek'\u001b[0m\u001b[0;34m)\u001b[0m\u001b[0;34m:\u001b[0m\u001b[0;34m\u001b[0m\u001b[0;34m\u001b[0m\u001b[0m\n",
      "\u001b[0;31mFileNotFoundError\u001b[0m: [Errno 2] No such file or directory: '../../data/plots/TF_diversity/responsive_TF_diversity.pdf'"
     ]
    },
    {
     "data": {
      "image/png": "[encoded data removed]",
      "text/plain": [
       "<Figure size 360x360 with 1 Axes>"
      ]
     },
     "metadata": {},
     "output_type": "display_data"
    }
   ],
   "source": [
    "sns.catplot(x=\"gene_type\", y=\"Shannon_diversity_TF\", data=merged).savefig('../../data/plots/TF_diversity/responsive_TF_diversity.pdf', format='pdf')"
   ]
  },
  {
   "cell_type": "code",
   "execution_count": null,
   "metadata": {},
   "outputs": [],
   "source": [
    "sns.catplot(x=\"gene_type\", y=\"S_unique_TF_count\", data=merged).savefig('../../data/plots/TF_diversity/responsive_no_of_unique_TFs.pdf', format='pdf')"
   ]
  },
  {
   "cell_type": "markdown",
   "metadata": {},
   "source": [
    "### looks to be no different between promoter types!"
   ]
  },
  {
   "cell_type": "code",
   "execution_count": 124,
   "metadata": {},
   "outputs": [
    {
     "ename": "FileNotFoundError",
     "evalue": "[Errno 2] No such file or directory: '../../data/plots/TF_diversity/responsive_TF_shannondiversity_violin.pdf'",
     "output_type": "error",
     "traceback": [
      "\u001b[0;31m---------------------------------------------------------------------------\u001b[0m",
      "\u001b[0;31mFileNotFoundError\u001b[0m                         Traceback (most recent call last)",
      "\u001b[0;32m<ipython-input-124-7d5d1de8452d>\u001b[0m in \u001b[0;36m<module>\u001b[0;34m\u001b[0m\n\u001b[1;32m      1\u001b[0m \u001b[0mplot\u001b[0m \u001b[0;34m=\u001b[0m \u001b[0msns\u001b[0m\u001b[0;34m.\u001b[0m\u001b[0mcatplot\u001b[0m\u001b[0;34m(\u001b[0m\u001b[0mx\u001b[0m\u001b[0;34m=\u001b[0m\u001b[0;34m\"gene_type\"\u001b[0m\u001b[0;34m,\u001b[0m \u001b[0my\u001b[0m\u001b[0;34m=\u001b[0m\u001b[0;34m\"Shannon_diversity_TF\"\u001b[0m\u001b[0;34m,\u001b[0m \u001b[0mdata\u001b[0m\u001b[0;34m=\u001b[0m\u001b[0mmerged\u001b[0m\u001b[0;34m,\u001b[0m \u001b[0mkind\u001b[0m\u001b[0;34m=\u001b[0m\u001b[0;34m'violin'\u001b[0m\u001b[0;34m)\u001b[0m\u001b[0;34m\u001b[0m\u001b[0;34m\u001b[0m\u001b[0m\n\u001b[1;32m      2\u001b[0m \u001b[0;31m#plot points\u001b[0m\u001b[0;34m\u001b[0m\u001b[0;34m\u001b[0m\u001b[0;34m\u001b[0m\u001b[0m\n\u001b[0;32m----> 3\u001b[0;31m \u001b[0max\u001b[0m \u001b[0;34m=\u001b[0m \u001b[0msns\u001b[0m\u001b[0;34m.\u001b[0m\u001b[0mswarmplot\u001b[0m\u001b[0;34m(\u001b[0m\u001b[0mx\u001b[0m\u001b[0;34m=\u001b[0m\u001b[0;34m\"gene_type\"\u001b[0m\u001b[0;34m,\u001b[0m \u001b[0my\u001b[0m\u001b[0;34m=\u001b[0m\u001b[0;34m\"Shannon_diversity_TF\"\u001b[0m\u001b[0;34m,\u001b[0m \u001b[0mdata\u001b[0m\u001b[0;34m=\u001b[0m\u001b[0mmerged\u001b[0m\u001b[0;34m,\u001b[0m \u001b[0mcolor\u001b[0m\u001b[0;34m=\u001b[0m\u001b[0;34m\".25\"\u001b[0m\u001b[0;34m)\u001b[0m\u001b[0;34m.\u001b[0m\u001b[0mget_figure\u001b[0m\u001b[0;34m(\u001b[0m\u001b[0;34m)\u001b[0m\u001b[0;34m.\u001b[0m\u001b[0msavefig\u001b[0m\u001b[0;34m(\u001b[0m\u001b[0;34m'../../data/plots/TF_diversity/responsive_TF_shannondiversity_violin.pdf'\u001b[0m\u001b[0;34m,\u001b[0m \u001b[0mformat\u001b[0m\u001b[0;34m=\u001b[0m\u001b[0;34m'pdf'\u001b[0m\u001b[0;34m)\u001b[0m\u001b[0;34m\u001b[0m\u001b[0;34m\u001b[0m\u001b[0m\n\u001b[0m",
      "\u001b[0;32m~/opt/anaconda3/envs/PromoterArchitecturePipeline/lib/python3.6/site-packages/matplotlib/figure.py\u001b[0m in \u001b[0;36msavefig\u001b[0;34m(self, fname, transparent, **kwargs)\u001b[0m\n\u001b[1;32m   2178\u001b[0m             \u001b[0mself\u001b[0m\u001b[0;34m.\u001b[0m\u001b[0mpatch\u001b[0m\u001b[0;34m.\u001b[0m\u001b[0mset_visible\u001b[0m\u001b[0;34m(\u001b[0m\u001b[0mframeon\u001b[0m\u001b[0;34m)\u001b[0m\u001b[0;34m\u001b[0m\u001b[0;34m\u001b[0m\u001b[0m\n\u001b[1;32m   2179\u001b[0m \u001b[0;34m\u001b[0m\u001b[0m\n\u001b[0;32m-> 2180\u001b[0;31m         \u001b[0mself\u001b[0m\u001b[0;34m.\u001b[0m\u001b[0mcanvas\u001b[0m\u001b[0;34m.\u001b[0m\u001b[0mprint_figure\u001b[0m\u001b[0;34m(\u001b[0m\u001b[0mfname\u001b[0m\u001b[0;34m,\u001b[0m \u001b[0;34m**\u001b[0m\u001b[0mkwargs\u001b[0m\u001b[0;34m)\u001b[0m\u001b[0;34m\u001b[0m\u001b[0;34m\u001b[0m\u001b[0m\n\u001b[0m\u001b[1;32m   2181\u001b[0m \u001b[0;34m\u001b[0m\u001b[0m\n\u001b[1;32m   2182\u001b[0m         \u001b[0;32mif\u001b[0m \u001b[0mframeon\u001b[0m\u001b[0;34m:\u001b[0m\u001b[0;34m\u001b[0m\u001b[0;34m\u001b[0m\u001b[0m\n",
      "\u001b[0;32m~/opt/anaconda3/envs/PromoterArchitecturePipeline/lib/python3.6/site-packages/matplotlib/backend_bases.py\u001b[0m in \u001b[0;36mprint_figure\u001b[0;34m(self, filename, dpi, facecolor, edgecolor, orientation, format, bbox_inches, **kwargs)\u001b[0m\n\u001b[1;32m   2087\u001b[0m                     \u001b[0morientation\u001b[0m\u001b[0;34m=\u001b[0m\u001b[0morientation\u001b[0m\u001b[0;34m,\u001b[0m\u001b[0;34m\u001b[0m\u001b[0;34m\u001b[0m\u001b[0m\n\u001b[1;32m   2088\u001b[0m                     \u001b[0mbbox_inches_restore\u001b[0m\u001b[0;34m=\u001b[0m\u001b[0m_bbox_inches_restore\u001b[0m\u001b[0;34m,\u001b[0m\u001b[0;34m\u001b[0m\u001b[0;34m\u001b[0m\u001b[0m\n\u001b[0;32m-> 2089\u001b[0;31m                     **kwargs)\n\u001b[0m\u001b[1;32m   2090\u001b[0m             \u001b[0;32mfinally\u001b[0m\u001b[0;34m:\u001b[0m\u001b[0;34m\u001b[0m\u001b[0;34m\u001b[0m\u001b[0m\n\u001b[1;32m   2091\u001b[0m                 \u001b[0;32mif\u001b[0m \u001b[0mbbox_inches\u001b[0m \u001b[0;32mand\u001b[0m \u001b[0mrestore_bbox\u001b[0m\u001b[0;34m:\u001b[0m\u001b[0;34m\u001b[0m\u001b[0;34m\u001b[0m\u001b[0m\n",
      "\u001b[0;32m~/opt/anaconda3/envs/PromoterArchitecturePipeline/lib/python3.6/site-packages/matplotlib/backends/backend_pdf.py\u001b[0m in \u001b[0;36mprint_pdf\u001b[0;34m(self, filename, dpi, bbox_inches_restore, metadata, **kwargs)\u001b[0m\n\u001b[1;32m   2494\u001b[0m             \u001b[0mfile\u001b[0m \u001b[0;34m=\u001b[0m \u001b[0mfilename\u001b[0m\u001b[0;34m.\u001b[0m\u001b[0m_file\u001b[0m\u001b[0;34m\u001b[0m\u001b[0;34m\u001b[0m\u001b[0m\n\u001b[1;32m   2495\u001b[0m         \u001b[0;32melse\u001b[0m\u001b[0;34m:\u001b[0m\u001b[0;34m\u001b[0m\u001b[0;34m\u001b[0m\u001b[0m\n\u001b[0;32m-> 2496\u001b[0;31m             \u001b[0mfile\u001b[0m \u001b[0;34m=\u001b[0m \u001b[0mPdfFile\u001b[0m\u001b[0;34m(\u001b[0m\u001b[0mfilename\u001b[0m\u001b[0;34m,\u001b[0m \u001b[0mmetadata\u001b[0m\u001b[0;34m=\u001b[0m\u001b[0mmetadata\u001b[0m\u001b[0;34m)\u001b[0m\u001b[0;34m\u001b[0m\u001b[0;34m\u001b[0m\u001b[0m\n\u001b[0m\u001b[1;32m   2497\u001b[0m         \u001b[0;32mtry\u001b[0m\u001b[0;34m:\u001b[0m\u001b[0;34m\u001b[0m\u001b[0;34m\u001b[0m\u001b[0m\n\u001b[1;32m   2498\u001b[0m             \u001b[0mfile\u001b[0m\u001b[0;34m.\u001b[0m\u001b[0mnewPage\u001b[0m\u001b[0;34m(\u001b[0m\u001b[0mwidth\u001b[0m\u001b[0;34m,\u001b[0m \u001b[0mheight\u001b[0m\u001b[0;34m)\u001b[0m\u001b[0;34m\u001b[0m\u001b[0;34m\u001b[0m\u001b[0m\n",
      "\u001b[0;32m~/opt/anaconda3/envs/PromoterArchitecturePipeline/lib/python3.6/site-packages/matplotlib/backends/backend_pdf.py\u001b[0m in \u001b[0;36m__init__\u001b[0;34m(self, filename, metadata)\u001b[0m\n\u001b[1;32m    430\u001b[0m         \u001b[0mself\u001b[0m\u001b[0;34m.\u001b[0m\u001b[0moriginal_file_like\u001b[0m \u001b[0;34m=\u001b[0m \u001b[0;32mNone\u001b[0m\u001b[0;34m\u001b[0m\u001b[0;34m\u001b[0m\u001b[0m\n\u001b[1;32m    431\u001b[0m         \u001b[0mself\u001b[0m\u001b[0;34m.\u001b[0m\u001b[0mtell_base\u001b[0m \u001b[0;34m=\u001b[0m \u001b[0;36m0\u001b[0m\u001b[0;34m\u001b[0m\u001b[0;34m\u001b[0m\u001b[0m\n\u001b[0;32m--> 432\u001b[0;31m         \u001b[0mfh\u001b[0m\u001b[0;34m,\u001b[0m \u001b[0mopened\u001b[0m \u001b[0;34m=\u001b[0m \u001b[0mcbook\u001b[0m\u001b[0;34m.\u001b[0m\u001b[0mto_filehandle\u001b[0m\u001b[0;34m(\u001b[0m\u001b[0mfilename\u001b[0m\u001b[0;34m,\u001b[0m \u001b[0;34m\"wb\"\u001b[0m\u001b[0;34m,\u001b[0m \u001b[0mreturn_opened\u001b[0m\u001b[0;34m=\u001b[0m\u001b[0;32mTrue\u001b[0m\u001b[0;34m)\u001b[0m\u001b[0;34m\u001b[0m\u001b[0;34m\u001b[0m\u001b[0m\n\u001b[0m\u001b[1;32m    433\u001b[0m         \u001b[0;32mif\u001b[0m \u001b[0;32mnot\u001b[0m \u001b[0mopened\u001b[0m\u001b[0;34m:\u001b[0m\u001b[0;34m\u001b[0m\u001b[0;34m\u001b[0m\u001b[0m\n\u001b[1;32m    434\u001b[0m             \u001b[0;32mtry\u001b[0m\u001b[0;34m:\u001b[0m\u001b[0;34m\u001b[0m\u001b[0;34m\u001b[0m\u001b[0m\n",
      "\u001b[0;32m~/opt/anaconda3/envs/PromoterArchitecturePipeline/lib/python3.6/site-packages/matplotlib/cbook/__init__.py\u001b[0m in \u001b[0;36mto_filehandle\u001b[0;34m(fname, flag, return_opened, encoding)\u001b[0m\n\u001b[1;32m    430\u001b[0m             \u001b[0mfh\u001b[0m \u001b[0;34m=\u001b[0m \u001b[0mbz2\u001b[0m\u001b[0;34m.\u001b[0m\u001b[0mBZ2File\u001b[0m\u001b[0;34m(\u001b[0m\u001b[0mfname\u001b[0m\u001b[0;34m,\u001b[0m \u001b[0mflag\u001b[0m\u001b[0;34m)\u001b[0m\u001b[0;34m\u001b[0m\u001b[0;34m\u001b[0m\u001b[0m\n\u001b[1;32m    431\u001b[0m         \u001b[0;32melse\u001b[0m\u001b[0;34m:\u001b[0m\u001b[0;34m\u001b[0m\u001b[0;34m\u001b[0m\u001b[0m\n\u001b[0;32m--> 432\u001b[0;31m             \u001b[0mfh\u001b[0m \u001b[0;34m=\u001b[0m \u001b[0mopen\u001b[0m\u001b[0;34m(\u001b[0m\u001b[0mfname\u001b[0m\u001b[0;34m,\u001b[0m \u001b[0mflag\u001b[0m\u001b[0;34m,\u001b[0m \u001b[0mencoding\u001b[0m\u001b[0;34m=\u001b[0m\u001b[0mencoding\u001b[0m\u001b[0;34m)\u001b[0m\u001b[0;34m\u001b[0m\u001b[0;34m\u001b[0m\u001b[0m\n\u001b[0m\u001b[1;32m    433\u001b[0m         \u001b[0mopened\u001b[0m \u001b[0;34m=\u001b[0m \u001b[0;32mTrue\u001b[0m\u001b[0;34m\u001b[0m\u001b[0;34m\u001b[0m\u001b[0m\n\u001b[1;32m    434\u001b[0m     \u001b[0;32melif\u001b[0m \u001b[0mhasattr\u001b[0m\u001b[0;34m(\u001b[0m\u001b[0mfname\u001b[0m\u001b[0;34m,\u001b[0m \u001b[0;34m'seek'\u001b[0m\u001b[0;34m)\u001b[0m\u001b[0;34m:\u001b[0m\u001b[0;34m\u001b[0m\u001b[0;34m\u001b[0m\u001b[0m\n",
      "\u001b[0;31mFileNotFoundError\u001b[0m: [Errno 2] No such file or directory: '../../data/plots/TF_diversity/responsive_TF_shannondiversity_violin.pdf'"
     ]
    },
    {
     "data": {
      "image/png": "[encoded data removed]",
      "text/plain": [
       "<Figure size 360x360 with 1 Axes>"
      ]
     },
     "metadata": {},
     "output_type": "display_data"
    }
   ],
   "source": [
    "plot = sns.catplot(x=\"gene_type\", y=\"Shannon_diversity_TF\", data=merged, kind='violin')\n",
    "#plot points\n",
    "ax = sns.swarmplot(x=\"gene_type\", y=\"Shannon_diversity_TF\", data=merged, color=\".25\").get_figure().savefig('../../data/plots/TF_diversity/responsive_TF_shannondiversity_violin.pdf', format='pdf')"
   ]
  },
  {
   "cell_type": "code",
   "execution_count": 134,
   "metadata": {},
   "outputs": [
    {
     "data": {
      "application/vnd.plotly.v1+json": {
       "config": {
        "plotlyServerURL": "https://plot.ly"
       },
       "data": [
        {
         "alignmentgroup": "True",
         "box": {
          "visible": true
         },
         "hoverlabel": {
          "namelength": 0
         },
         "hovertemplate": "gene_type=%{x}<br>Shannon_diversity_TF=%{y}",
         "legendgroup": "randCont",
         "marker": {
          "color": "#636efa"
         },
         "name": "randCont",
         "offsetgroup": "randCont",
         "orientation": "v",
         "points": "all",
         "scalegroup": "True",
         "showlegend": true,
         "type": "violin",
         "x": [
          "randCont",
          "randCont",
          "randCont",
          "randCont",
          "randCont",
          "randCont",
          "randCont",
          "randCont",
          "randCont",
          "randCont",
          "randCont",
          "randCont",
          "randCont",
          "randCont",
          "randCont",
          "randCont",
          "randCont",
          "randCont",
          "randCont",
          "randCont",
          "randCont",
          "randCont",
          "randCont",
          "randCont",
          "randCont",
          "randCont",
          "randCont",
          "randCont",
          "randCont",
          "randCont",
          "randCont",
          "randCont",
          "randCont",
          "randCont",
          "randCont",
          "randCont",
          "randCont",
          "randCont",
          "randCont",
          "randCont",
          "randCont",
          "randCont",
          "randCont",
          "randCont",
          "randCont",
          "randCont",
          "randCont",
          "randCont",
          "randCont",
          "randCont",
          "randCont",
          "randCont",
          "randCont",
          "randCont",
          "randCont",
          "randCont",
          "randCont",
          "randCont",
          "randCont",
          "randCont",
          "randCont",
          "randCont",
          "randCont",
          "randCont",
          "randCont",
          "randCont",
          "randCont",
          "randCont",
          "randCont",
          "randCont",
          "randCont",
          "randCont",
          "randCont",
          "randCont",
          "randCont",
          "randCont",
          "randCont",
          "randCont",
          "randCont",
          "randCont",
          "randCont",
          "randCont",
          "randCont",
          "randCont",
          "randCont",
          "randCont",
          "randCont",
          "randCont",
          "randCont",
          "randCont",
          "randCont",
          "randCont",
          "randCont",
          "randCont",
          "randCont",
          "randCont",
          "randCont",
          "randCont",
          "randCont",
          "randCont",
          "randCont",
          "randCont",
          "randCont",
          "randCont",
          "randCont",
          "randCont",
          "randCont",
          "randCont",
          "randCont",
          "randCont",
          "randCont",
          "randCont",
          "randCont",
          "randCont",
          "randCont",
          "randCont",
          "randCont",
          "randCont",
          "randCont",
          "randCont",
          "randCont",
          "randCont",
          "randCont",
          "randCont",
          "randCont",
          "randCont",
          "randCont",
          "randCont",
          "randCont",
          "randCont",
          "randCont",
          "randCont",
          "randCont",
          "randCont",
          "randCont",
          "randCont",
          "randCont",
          "randCont",
          "randCont",
          "randCont",
          "randCont",
          "randCont",
          "randCont",
          "randCont",
          "randCont",
          "randCont",
          "randCont",
          "randCont",
          "randCont",
          "randCont",
          "randCont",
          "randCont",
          "randCont",
          "randCont",
          "randCont",
          "randCont",
          "randCont",
          "randCont",
          "randCont",
          "randCont",
          "randCont",
          "randCont",
          "randCont",
          "randCont",
          "randCont",
          "randCont",
          "randCont",
          "randCont",
          "randCont",
          "randCont",
          "randCont",
          "randCont",
          "randCont",
          "randCont",
          "randCont",
          "randCont",
          "randCont",
          "randCont",
          "randCont",
          "randCont",
          "randCont",
          "randCont",
          "randCont",
          "randCont",
          "randCont",
          "randCont",
          "randCont",
          "randCont",
          "randCont",
          "randCont",
          "randCont",
          "randCont",
          "randCont",
          "randCont",
          "randCont",
          "randCont",
          "randCont",
          "randCont",
          "randCont",
          "randCont",
          "randCont",
          "randCont"
         ],
         "x0": " ",
         "xaxis": "x",
         "y": [
          1.8423709931771086,
          1.5,
          5.295822777517306,
          1.5095209611695535,
          1.9219280948873625,
          3.0269868333592873,
          4.344627096127107,
          0.9993375041688846,
          2.368522527728207,
          0,
          1.0942658959797504,
          1.8754585146546388,
          2,
          5.180461543469758,
          3.3571067941182644,
          1.5,
          1.3496536776904124,
          2.4508257945180887,
          1.584962500721156,
          1.1433201021277661,
          0.8112781244591328,
          3.0592446536783617,
          1.7273966735744792,
          2.248573139553867,
          4.391201429374547,
          3.2516291673878235,
          3.12493829935726,
          2.046025083883964,
          2.0680427661601373,
          2.598119004409185,
          1.3520301017579528,
          1,
          3.861725074756387,
          2.3749589477025568,
          1.9877733714879842,
          2.9298034372918815,
          1.584962500721156,
          3.907734270742486,
          2,
          4.884761657503723,
          1.2419515860260362,
          3.384183719779189,
          2.3219280948873626,
          2.7248108792633876,
          2.751629167387823,
          1.503203121818221,
          2.709685696912064,
          2.6384600665861555,
          2.5541522113239505,
          5.173028959714557,
          1.7527152789797051,
          2.6858035486178693,
          5.393604092559176,
          2.161810290737603,
          1.5219280948873626,
          5.639640125385438,
          0,
          2.9327886711110294,
          0.954434002924965,
          2,
          3.277613436819116,
          0,
          3.249543610201726,
          2.471020728616734,
          1,
          0,
          2.6157246054471703,
          3.5389356750493004,
          2.2707464355336384,
          1.096514667324345,
          3.8841837197791893,
          2.0729055953200564,
          2.588522289769089,
          1,
          2.2359263506290326,
          2.1040514998942057,
          0.9980008838722995,
          2.314091669484681,
          0.9182958340544894,
          1.219240704636849,
          2.4508257945180887,
          0,
          3.3962915290459277,
          0.6500224216483541,
          3.562267081122534,
          2.900344052604686,
          2.3219280948873626,
          4.967772172317727,
          2.586348105321544,
          5.063954630313395,
          3.91829583405449,
          2.4193819456463714,
          3.002752554382404,
          2.128085278891394,
          0.9953784388202258,
          5.5622343977205855,
          4.278351811711313,
          1.6321123133379207,
          3.414441303694973,
          1.1035976050262255,
          2.5660753520671133,
          3.0512293463033826,
          2.523231428797621,
          4.237291339955157,
          3.2495385872764535,
          2.016875695766564,
          2.2516291673878226,
          2.683620233022829,
          3.046439344671016,
          1.9399824743635554,
          2.75,
          2.186704345910025,
          1.2309595631140104,
          1.5734024524177672,
          1.5,
          4.758204755699832,
          3.0610860040121963,
          0.9910760598382222,
          2.8073549220576037,
          1.7289794149754032,
          1.7015751242470365,
          2.9056390622295662,
          1.4689955935892813,
          2.4193819456463714,
          2.2463855297176836,
          3.902518266288633,
          3.3800943362833293,
          2.9072684591486446,
          4.209867121904037,
          2.435480092788244,
          1.7405222117546197,
          2.071735027138169,
          1,
          0.9182958340544894,
          5.5053873723549716,
          1.4005013899305592,
          1.5744174271404583,
          3.0594705707972527,
          2.486873908154831,
          2.2516291673878226,
          2.2516291673878226,
          1,
          2.725480556997868,
          1,
          3.6644977792004605,
          4.351823225551765,
          2.413088436425758,
          2.4187812300634026,
          5.28366155929695,
          2.5503407095463886,
          3.3504903797667565,
          0,
          2.641604167868594,
          5.860307426040031,
          1.1183635963342025,
          3.452819531114783,
          1.7794238321465294,
          3.630412660873998,
          5.410229231693701,
          1,
          2.084962500721156,
          2.155870448129082,
          4.77844385460277,
          4.4154581344444095,
          0,
          3.1249999999999996,
          5.1817971907135725,
          2.3227569588973984,
          2.994563753151443,
          1.2344977967946407,
          3.248634979160086,
          3.54980087635729,
          1.0863128407412879,
          1.9573821818101196,
          1,
          1.351376788773441,
          1.2197484934607568,
          0.961236604722876,
          3.3225710891662112,
          1.3970574189813383,
          1.584962500721156,
          2.1733325752088093,
          1.2399234562132122,
          2.391285121070684,
          4.882157826134865,
          1,
          3.055164427003906,
          3.3950849518197797,
          1.4337232462002667,
          2.257606878811597,
          5.191683171481311,
          2.4193819456463714,
          1.9219280948873625,
          3.9583713714750344,
          2.1478057639460157,
          1.9211796919474975,
          1.2954618442383217,
          3.3308107979444377,
          2.1556390622295667,
          1.2516291673878228,
          0,
          2.4125056054120884
         ],
         "y0": " ",
         "yaxis": "y"
        },
        {
         "alignmentgroup": "True",
         "box": {
          "visible": true
         },
         "hoverlabel": {
          "namelength": 0
         },
         "hovertemplate": "gene_type=%{x}<br>Shannon_diversity_TF=%{y}",
         "legendgroup": "highVar",
         "marker": {
          "color": "#EF553B"
         },
         "name": "highVar",
         "offsetgroup": "highVar",
         "orientation": "v",
         "points": "all",
         "scalegroup": "True",
         "showlegend": true,
         "type": "violin",
         "x": [
          "highVar",
          "highVar",
          "highVar",
          "highVar",
          "highVar",
          "highVar",
          "highVar",
          "highVar",
          "highVar",
          "highVar",
          "highVar",
          "highVar",
          "highVar",
          "highVar",
          "highVar",
          "highVar",
          "highVar",
          "highVar",
          "highVar",
          "highVar",
          "highVar",
          "highVar",
          "highVar",
          "highVar",
          "highVar",
          "highVar",
          "highVar",
          "highVar",
          "highVar",
          "highVar",
          "highVar",
          "highVar",
          "highVar",
          "highVar",
          "highVar",
          "highVar",
          "highVar",
          "highVar",
          "highVar",
          "highVar",
          "highVar",
          "highVar",
          "highVar",
          "highVar",
          "highVar",
          "highVar",
          "highVar",
          "highVar",
          "highVar",
          "highVar",
          "highVar",
          "highVar",
          "highVar",
          "highVar",
          "highVar",
          "highVar",
          "highVar",
          "highVar",
          "highVar",
          "highVar",
          "highVar",
          "highVar",
          "highVar",
          "highVar",
          "highVar",
          "highVar",
          "highVar",
          "highVar",
          "highVar",
          "highVar",
          "highVar",
          "highVar",
          "highVar",
          "highVar",
          "highVar",
          "highVar",
          "highVar",
          "highVar",
          "highVar",
          "highVar",
          "highVar",
          "highVar",
          "highVar",
          "highVar",
          "highVar",
          "highVar",
          "highVar",
          "highVar",
          "highVar",
          "highVar",
          "highVar",
          "highVar",
          "highVar",
          "highVar",
          "highVar",
          "highVar",
          "highVar",
          "highVar",
          "highVar"
         ],
         "x0": " ",
         "xaxis": "x",
         "y": [
          3.147482344354677,
          2.75,
          4.931640717299621,
          1.4685381970127551,
          3.0065212271721315,
          2.742796399422629,
          2.7091037602109376,
          1.8219280948873626,
          1.4241051540891925,
          2.521640636343318,
          3.0426990615553264,
          2,
          5.177785309755044,
          0,
          2.939967295107932,
          1.3291408183242786,
          5.0791940283358015,
          0.9182958340544894,
          1.1873868015167897,
          1.4355205042826666,
          1.5219280948873626,
          0.9766349114440102,
          2.3697084420156673,
          0.8812908992306927,
          3.321928094887362,
          2.2212518360044666,
          1.4247346189316261,
          1.4717374334224667,
          0.9182958340544894,
          2.4193819456463714,
          2.7254805569978684,
          1.2516291673878228,
          1.3726608774610893,
          1.584962500721156,
          1.5822359560770867,
          1.9219280948873625,
          4.164735178725505,
          3.1805186273876185,
          3.540198403520841,
          2.91829583405449,
          1.4591479170272446,
          2.197405811425518,
          2.2998963911678914,
          1.2729055953200563,
          3,
          4.895400877726748,
          3.098267981940986,
          1.7893058518068692,
          2.186278124459133,
          1.2210477851797181,
          1.9141828384352135,
          1.3488291459562836,
          3.700439718141093,
          2.197159723424149,
          2.481714572986073,
          1.6094277226008757,
          3.6887218755408675,
          1.584962500721156,
          1.756350214316186,
          2.0989295636909353,
          2.2955030923373503,
          2.2377662347419953,
          3.3598343062841205,
          2.977286229253189,
          3.008152374935751,
          2.3100929289703234,
          0.5916727785823274,
          0.8997437586982626,
          3.588600801012473,
          2.3940647234069226,
          1.2717822215997983,
          1.5487949406953987,
          2,
          2.5287803536230715,
          2.870231960044766,
          2.6337484748273186,
          3.2251878900165245,
          0.940285958670631,
          3.4849052825496694,
          2.4193819456463714,
          1.5,
          2.7873252607875054,
          2,
          2.4676343669794982,
          1.5,
          1,
          2.6688388898504303,
          1.3701409447148043,
          1.459147917027245,
          3.1034259159426667,
          2.4182958340544896,
          1.2448406699719212,
          2.996630848284676,
          2.385858845438489,
          1.6027930388928713,
          1.6143308351592656,
          2.6632592548165896,
          2.5238778376873916,
          2.928212945841002
         ],
         "y0": " ",
         "yaxis": "y"
        },
        {
         "alignmentgroup": "True",
         "box": {
          "visible": true
         },
         "hoverlabel": {
          "namelength": 0
         },
         "hovertemplate": "gene_type=%{x}<br>Shannon_diversity_TF=%{y}",
         "legendgroup": "housekeeping",
         "marker": {
          "color": "#00cc96"
         },
         "name": "housekeeping",
         "offsetgroup": "housekeeping",
         "orientation": "v",
         "points": "all",
         "scalegroup": "True",
         "showlegend": true,
         "type": "violin",
         "x": [
          "housekeeping",
          "housekeeping",
          "housekeeping",
          "housekeeping",
          "housekeeping",
          "housekeeping",
          "housekeeping",
          "housekeeping",
          "housekeeping",
          "housekeeping",
          "housekeeping",
          "housekeeping",
          "housekeeping",
          "housekeeping",
          "housekeeping",
          "housekeeping",
          "housekeeping",
          "housekeeping",
          "housekeeping",
          "housekeeping",
          "housekeeping",
          "housekeeping",
          "housekeeping",
          "housekeeping",
          "housekeeping",
          "housekeeping",
          "housekeeping",
          "housekeeping",
          "housekeeping",
          "housekeeping",
          "housekeeping",
          "housekeeping",
          "housekeeping",
          "housekeeping",
          "housekeeping",
          "housekeeping",
          "housekeeping",
          "housekeeping",
          "housekeeping",
          "housekeeping",
          "housekeeping",
          "housekeeping",
          "housekeeping",
          "housekeeping",
          "housekeeping",
          "housekeeping",
          "housekeeping",
          "housekeeping",
          "housekeeping",
          "housekeeping",
          "housekeeping",
          "housekeeping",
          "housekeeping",
          "housekeeping",
          "housekeeping",
          "housekeeping",
          "housekeeping",
          "housekeeping",
          "housekeeping",
          "housekeeping",
          "housekeeping",
          "housekeeping",
          "housekeeping",
          "housekeeping",
          "housekeeping",
          "housekeeping",
          "housekeeping",
          "housekeeping",
          "housekeeping",
          "housekeeping",
          "housekeeping",
          "housekeeping",
          "housekeeping",
          "housekeeping",
          "housekeeping",
          "housekeeping",
          "housekeeping",
          "housekeeping",
          "housekeeping",
          "housekeeping",
          "housekeeping",
          "housekeeping",
          "housekeeping",
          "housekeeping",
          "housekeeping",
          "housekeeping",
          "housekeeping",
          "housekeeping",
          "housekeeping",
          "housekeeping",
          "housekeeping",
          "housekeeping",
          "housekeeping",
          "housekeeping",
          "housekeeping",
          "housekeeping",
          "housekeeping",
          "housekeeping"
         ],
         "x0": " ",
         "xaxis": "x",
         "y": [
          3.7638561897747245,
          0,
          3.0942269747380484,
          5.000167363234516,
          2.873140679513133,
          3.5225715891363603,
          0,
          2.4388952241791344,
          1.8751852764514267,
          1.8322628970242685,
          1.5,
          2.777776811456786,
          2.4182958340544896,
          2.281036112553424,
          0.9182958340544894,
          1.4373770511116049,
          1,
          1.2022921890824148,
          1.1238561897747248,
          2.321979754968555,
          3.5216406363433177,
          3.7671834678914617,
          2.813209829505895,
          1,
          0,
          2.6887218755408666,
          2.508694969562842,
          5.242856050160461,
          2.880862327095355,
          2.7045348998193433,
          2.0464393446710156,
          3.1353927035829563,
          1.7339015392009278,
          3,
          2.146815404422521,
          0.9182958340544894,
          0,
          3.016875695766564,
          2.5243974703476995,
          2.8352377453121176,
          2.430036532577266,
          2.078959853077088,
          3.0142814387617576,
          4.2898827970371745,
          2.685227204182693,
          2.0152419173638845,
          5.339763829239406,
          3.089889603490046,
          0.8112781244591328,
          4.160798518954285,
          3.238901256602631,
          4.859653500465779,
          1.2516291673878228,
          2.1556390622295667,
          1.8535681581652277,
          1.4466166676282084,
          2.1219280948873624,
          4.852855596281597,
          5.23750539640841,
          1.0916362019205923,
          1.4488156357251847,
          2.494537425343149,
          3.199152053723433,
          2.154223553457345,
          3.1442321419736325,
          2.292071752457788,
          0,
          1.5416892248400096,
          3.0748993196140844,
          1.6998428398862384,
          3.588354347173233,
          1.2958363892911637,
          3.931553932661976,
          1.5249773144676395,
          0.9182958340544894,
          2.2450167455986105,
          2.6366238110793634,
          2.6112761077229263,
          2.199687794731328,
          3.277613436819116,
          2.5882001146105083,
          2,
          1.8062389286533898,
          2.289466273586762,
          3.96422185259764,
          2.399397470347699,
          0.9182958340544894,
          2.1258145836939115,
          2.075869296697727,
          2.5032583347756456,
          1.721928094887362,
          3.0872039447588344,
          1.4138168503036337,
          2.632109012105626,
          0.9886994082884974,
          3.1815804553722447,
          4.088308526646765,
          2.3898980954642877
         ],
         "y0": " ",
         "yaxis": "y"
        }
       ],
       "layout": {
        "autosize": true,
        "legend": {
         "title": {
          "text": "gene_type"
         },
         "tracegroupgap": 0
        },
        "margin": {
         "t": 60
        },
        "template": {
         "data": {
          "bar": [
           {
            "error_x": {
             "color": "#2a3f5f"
            },
            "error_y": {
             "color": "#2a3f5f"
            },
            "marker": {
             "line": {
              "color": "#E5ECF6",
              "width": 0.5
             }
            },
            "type": "bar"
           }
          ],
          "barpolar": [
           {
            "marker": {
             "line": {
              "color": "#E5ECF6",
              "width": 0.5
             }
            },
            "type": "barpolar"
           }
          ],
          "carpet": [
           {
            "aaxis": {
             "endlinecolor": "#2a3f5f",
             "gridcolor": "white",
             "linecolor": "white",
             "minorgridcolor": "white",
             "startlinecolor": "#2a3f5f"
            },
            "baxis": {
             "endlinecolor": "#2a3f5f",
             "gridcolor": "white",
             "linecolor": "white",
             "minorgridcolor": "white",
             "startlinecolor": "#2a3f5f"
            },
            "type": "carpet"
           }
          ],
          "choropleth": [
           {
            "colorbar": {
             "outlinewidth": 0,
             "ticks": ""
            },
            "type": "choropleth"
           }
          ],
          "contour": [
           {
            "colorbar": {
             "outlinewidth": 0,
             "ticks": ""
            },
            "colorscale": [
             [
              0,
              "#0d0887"
             ],
             [
              0.1111111111111111,
              "#46039f"
             ],
             [
              0.2222222222222222,
              "#7201a8"
             ],
             [
              0.3333333333333333,
              "#9c179e"
             ],
             [
              0.4444444444444444,
              "#bd3786"
             ],
             [
              0.5555555555555556,
              "#d8576b"
             ],
             [
              0.6666666666666666,
              "#ed7953"
             ],
             [
              0.7777777777777778,
              "#fb9f3a"
             ],
             [
              0.8888888888888888,
              "#fdca26"
             ],
             [
              1,
              "#f0f921"
             ]
            ],
            "type": "contour"
           }
          ],
          "contourcarpet": [
           {
            "colorbar": {
             "outlinewidth": 0,
             "ticks": ""
            },
            "type": "contourcarpet"
           }
          ],
          "heatmap": [
           {
            "colorbar": {
             "outlinewidth": 0,
             "ticks": ""
            },
            "colorscale": [
             [
              0,
              "#0d0887"
             ],
             [
              0.1111111111111111,
              "#46039f"
             ],
             [
              0.2222222222222222,
              "#7201a8"
             ],
             [
              0.3333333333333333,
              "#9c179e"
             ],
             [
              0.4444444444444444,
              "#bd3786"
             ],
             [
              0.5555555555555556,
              "#d8576b"
             ],
             [
              0.6666666666666666,
              "#ed7953"
             ],
             [
              0.7777777777777778,
              "#fb9f3a"
             ],
             [
              0.8888888888888888,
              "#fdca26"
             ],
             [
              1,
              "#f0f921"
             ]
            ],
            "type": "heatmap"
           }
          ],
          "heatmapgl": [
           {
            "colorbar": {
             "outlinewidth": 0,
             "ticks": ""
            },
            "colorscale": [
             [
              0,
              "#0d0887"
             ],
             [
              0.1111111111111111,
              "#46039f"
             ],
             [
              0.2222222222222222,
              "#7201a8"
             ],
             [
              0.3333333333333333,
              "#9c179e"
             ],
             [
              0.4444444444444444,
              "#bd3786"
             ],
             [
              0.5555555555555556,
              "#d8576b"
             ],
             [
              0.6666666666666666,
              "#ed7953"
             ],
             [
              0.7777777777777778,
              "#fb9f3a"
             ],
             [
              0.8888888888888888,
              "#fdca26"
             ],
             [
              1,
              "#f0f921"
             ]
            ],
            "type": "heatmapgl"
           }
          ],
          "histogram": [
           {
            "marker": {
             "colorbar": {
              "outlinewidth": 0,
              "ticks": ""
             }
            },
            "type": "histogram"
           }
          ],
          "histogram2d": [
           {
            "colorbar": {
             "outlinewidth": 0,
             "ticks": ""
            },
            "colorscale": [
             [
              0,
              "#0d0887"
             ],
             [
              0.1111111111111111,
              "#46039f"
             ],
             [
              0.2222222222222222,
              "#7201a8"
             ],
             [
              0.3333333333333333,
              "#9c179e"
             ],
             [
              0.4444444444444444,
              "#bd3786"
             ],
             [
              0.5555555555555556,
              "#d8576b"
             ],
             [
              0.6666666666666666,
              "#ed7953"
             ],
             [
              0.7777777777777778,
              "#fb9f3a"
             ],
             [
              0.8888888888888888,
              "#fdca26"
             ],
             [
              1,
              "#f0f921"
             ]
            ],
            "type": "histogram2d"
           }
          ],
          "histogram2dcontour": [
           {
            "colorbar": {
             "outlinewidth": 0,
             "ticks": ""
            },
            "colorscale": [
             [
              0,
              "#0d0887"
             ],
             [
              0.1111111111111111,
              "#46039f"
             ],
             [
              0.2222222222222222,
              "#7201a8"
             ],
             [
              0.3333333333333333,
              "#9c179e"
             ],
             [
              0.4444444444444444,
              "#bd3786"
             ],
             [
              0.5555555555555556,
              "#d8576b"
             ],
             [
              0.6666666666666666,
              "#ed7953"
             ],
             [
              0.7777777777777778,
              "#fb9f3a"
             ],
             [
              0.8888888888888888,
              "#fdca26"
             ],
             [
              1,
              "#f0f921"
             ]
            ],
            "type": "histogram2dcontour"
           }
          ],
          "mesh3d": [
           {
            "colorbar": {
             "outlinewidth": 0,
             "ticks": ""
            },
            "type": "mesh3d"
           }
          ],
          "parcoords": [
           {
            "line": {
             "colorbar": {
              "outlinewidth": 0,
              "ticks": ""
             }
            },
            "type": "parcoords"
           }
          ],
          "pie": [
           {
            "automargin": true,
            "type": "pie"
           }
          ],
          "scatter": [
           {
            "marker": {
             "colorbar": {
              "outlinewidth": 0,
              "ticks": ""
             }
            },
            "type": "scatter"
           }
          ],
          "scatter3d": [
           {
            "line": {
             "colorbar": {
              "outlinewidth": 0,
              "ticks": ""
             }
            },
            "marker": {
             "colorbar": {
              "outlinewidth": 0,
              "ticks": ""
             }
            },
            "type": "scatter3d"
           }
          ],
          "scattercarpet": [
           {
            "marker": {
             "colorbar": {
              "outlinewidth": 0,
              "ticks": ""
             }
            },
            "type": "scattercarpet"
           }
          ],
          "scattergeo": [
           {
            "marker": {
             "colorbar": {
              "outlinewidth": 0,
              "ticks": ""
             }
            },
            "type": "scattergeo"
           }
          ],
          "scattergl": [
           {
            "marker": {
             "colorbar": {
              "outlinewidth": 0,
              "ticks": ""
             }
            },
            "type": "scattergl"
           }
          ],
          "scattermapbox": [
           {
            "marker": {
             "colorbar": {
              "outlinewidth": 0,
              "ticks": ""
             }
            },
            "type": "scattermapbox"
           }
          ],
          "scatterpolar": [
           {
            "marker": {
             "colorbar": {
              "outlinewidth": 0,
              "ticks": ""
             }
            },
            "type": "scatterpolar"
           }
          ],
          "scatterpolargl": [
           {
            "marker": {
             "colorbar": {
              "outlinewidth": 0,
              "ticks": ""
             }
            },
            "type": "scatterpolargl"
           }
          ],
          "scatterternary": [
           {
            "marker": {
             "colorbar": {
              "outlinewidth": 0,
              "ticks": ""
             }
            },
            "type": "scatterternary"
           }
          ],
          "surface": [
           {
            "colorbar": {
             "outlinewidth": 0,
             "ticks": ""
            },
            "colorscale": [
             [
              0,
              "#0d0887"
             ],
             [
              0.1111111111111111,
              "#46039f"
             ],
             [
              0.2222222222222222,
              "#7201a8"
             ],
             [
              0.3333333333333333,
              "#9c179e"
             ],
             [
              0.4444444444444444,
              "#bd3786"
             ],
             [
              0.5555555555555556,
              "#d8576b"
             ],
             [
              0.6666666666666666,
              "#ed7953"
             ],
             [
              0.7777777777777778,
              "#fb9f3a"
             ],
             [
              0.8888888888888888,
              "#fdca26"
             ],
             [
              1,
              "#f0f921"
             ]
            ],
            "type": "surface"
           }
          ],
          "table": [
           {
            "cells": {
             "fill": {
              "color": "#EBF0F8"
             },
             "line": {
              "color": "white"
             }
            },
            "header": {
             "fill": {
              "color": "#C8D4E3"
             },
             "line": {
              "color": "white"
             }
            },
            "type": "table"
           }
          ]
         },
         "layout": {
          "annotationdefaults": {
           "arrowcolor": "#2a3f5f",
           "arrowhead": 0,
           "arrowwidth": 1
          },
          "coloraxis": {
           "colorbar": {
            "outlinewidth": 0,
            "ticks": ""
           }
          },
          "colorscale": {
           "diverging": [
            [
             0,
             "#8e0152"
            ],
            [
             0.1,
             "#c51b7d"
            ],
            [
             0.2,
             "#de77ae"
            ],
            [
             0.3,
             "#f1b6da"
            ],
            [
             0.4,
             "#fde0ef"
            ],
            [
             0.5,
             "#f7f7f7"
            ],
            [
             0.6,
             "#e6f5d0"
            ],
            [
             0.7,
             "#b8e186"
            ],
            [
             0.8,
             "#7fbc41"
            ],
            [
             0.9,
             "#4d9221"
            ],
            [
             1,
             "#276419"
            ]
           ],
           "sequential": [
            [
             0,
             "#0d0887"
            ],
            [
             0.1111111111111111,
             "#46039f"
            ],
            [
             0.2222222222222222,
             "#7201a8"
            ],
            [
             0.3333333333333333,
             "#9c179e"
            ],
            [
             0.4444444444444444,
             "#bd3786"
            ],
            [
             0.5555555555555556,
             "#d8576b"
            ],
            [
             0.6666666666666666,
             "#ed7953"
            ],
            [
             0.7777777777777778,
             "#fb9f3a"
            ],
            [
             0.8888888888888888,
             "#fdca26"
            ],
            [
             1,
             "#f0f921"
            ]
           ],
           "sequentialminus": [
            [
             0,
             "#0d0887"
            ],
            [
             0.1111111111111111,
             "#46039f"
            ],
            [
             0.2222222222222222,
             "#7201a8"
            ],
            [
             0.3333333333333333,
             "#9c179e"
            ],
            [
             0.4444444444444444,
             "#bd3786"
            ],
            [
             0.5555555555555556,
             "#d8576b"
            ],
            [
             0.6666666666666666,
             "#ed7953"
            ],
            [
             0.7777777777777778,
             "#fb9f3a"
            ],
            [
             0.8888888888888888,
             "#fdca26"
            ],
            [
             1,
             "#f0f921"
            ]
           ]
          },
          "colorway": [
           "#636efa",
           "#EF553B",
           "#00cc96",
           "#ab63fa",
           "#FFA15A",
           "#19d3f3",
           "#FF6692",
           "#B6E880",
           "#FF97FF",
           "#FECB52"
          ],
          "font": {
           "color": "#2a3f5f"
          },
          "geo": {
           "bgcolor": "white",
           "lakecolor": "white",
           "landcolor": "#E5ECF6",
           "showlakes": true,
           "showland": true,
           "subunitcolor": "white"
          },
          "hoverlabel": {
           "align": "left"
          },
          "hovermode": "closest",
          "mapbox": {
           "style": "light"
          },
          "paper_bgcolor": "white",
          "plot_bgcolor": "#E5ECF6",
          "polar": {
           "angularaxis": {
            "gridcolor": "white",
            "linecolor": "white",
            "ticks": ""
           },
           "bgcolor": "#E5ECF6",
           "radialaxis": {
            "gridcolor": "white",
            "linecolor": "white",
            "ticks": ""
           }
          },
          "scene": {
           "xaxis": {
            "backgroundcolor": "#E5ECF6",
            "gridcolor": "white",
            "gridwidth": 2,
            "linecolor": "white",
            "showbackground": true,
            "ticks": "",
            "zerolinecolor": "white"
           },
           "yaxis": {
            "backgroundcolor": "#E5ECF6",
            "gridcolor": "white",
            "gridwidth": 2,
            "linecolor": "white",
            "showbackground": true,
            "ticks": "",
            "zerolinecolor": "white"
           },
           "zaxis": {
            "backgroundcolor": "#E5ECF6",
            "gridcolor": "white",
            "gridwidth": 2,
            "linecolor": "white",
            "showbackground": true,
            "ticks": "",
            "zerolinecolor": "white"
           }
          },
          "shapedefaults": {
           "line": {
            "color": "#2a3f5f"
           }
          },
          "ternary": {
           "aaxis": {
            "gridcolor": "white",
            "linecolor": "white",
            "ticks": ""
           },
           "baxis": {
            "gridcolor": "white",
            "linecolor": "white",
            "ticks": ""
           },
           "bgcolor": "#E5ECF6",
           "caxis": {
            "gridcolor": "white",
            "linecolor": "white",
            "ticks": ""
           }
          },
          "title": {
           "x": 0.05
          },
          "xaxis": {
           "automargin": true,
           "gridcolor": "white",
           "linecolor": "white",
           "ticks": "",
           "title": {
            "standoff": 15
           },
           "zerolinecolor": "white",
           "zerolinewidth": 2
          },
          "yaxis": {
           "automargin": true,
           "gridcolor": "white",
           "linecolor": "white",
           "ticks": "",
           "title": {
            "standoff": 15
           },
           "zerolinecolor": "white",
           "zerolinewidth": 2
          }
         }
        },
        "violinmode": "group",
        "xaxis": {
         "anchor": "y",
         "autorange": true,
         "categoryarray": [
          "randCont",
          "highVar",
          "housekeeping"
         ],
         "categoryorder": "array",
         "domain": [
          0,
          1
         ],
         "range": [
          -0.5,
          2.6578947368421053
         ],
         "title": {
          "text": "gene_type"
         },
         "type": "category"
        },
        "yaxis": {
         "anchor": "x",
         "autorange": true,
         "domain": [
          0,
          1
         ],
         "range": [
          -1.4021470969805219,
          7.242125857699341
         ],
         "title": {
          "text": "Shannon_diversity_TF"
         },
         "type": "linear"
        }
       }
      },
      "image/png": "[encoded data removed]",
      "text/html": [
       "<div>\n",
       "        \n",
       "        \n",
       "            <div id=\"9dea48ad-bad5-4868-91cc-a67e0ca0c5d5\" class=\"plotly-graph-div\" style=\"height:525px; width:100%;\"></div>\n",
       "            <script type=\"text/javascript\">\n",
       "                require([\"plotly\"], function(Plotly) {\n",
       "                    window.PLOTLYENV=window.PLOTLYENV || {};\n",
       "                    \n",
       "                if (document.getElementById(\"9dea48ad-bad5-4868-91cc-a67e0ca0c5d5\")) {\n",
       "                    Plotly.newPlot(\n",
       "                        '9dea48ad-bad5-4868-91cc-a67e0ca0c5d5',\n",
       "                        [{\"alignmentgroup\": \"True\", \"box\": {\"visible\": true}, \"hoverlabel\": {\"namelength\": 0}, \"hovertemplate\": \"gene_type=%{x}<br>Shannon_diversity_TF=%{y}\", \"legendgroup\": \"randCont\", \"marker\": {\"color\": \"#636efa\"}, \"name\": \"randCont\", \"offsetgroup\": \"randCont\", \"orientation\": \"v\", \"points\": \"all\", \"scalegroup\": \"True\", \"showlegend\": true, \"type\": \"violin\", \"x\": [\"randCont\", \"randCont\", \"randCont\", \"randCont\", \"randCont\", \"randCont\", \"randCont\", \"randCont\", \"randCont\", \"randCont\", \"randCont\", \"randCont\", \"randCont\", \"randCont\", \"randCont\", \"randCont\", \"randCont\", \"randCont\", \"randCont\", \"randCont\", \"randCont\", \"randCont\", \"randCont\", \"randCont\", \"randCont\", \"randCont\", \"randCont\", \"randCont\", \"randCont\", \"randCont\", \"randCont\", \"randCont\", \"randCont\", \"randCont\", \"randCont\", \"randCont\", \"randCont\", \"randCont\", \"randCont\", \"randCont\", \"randCont\", \"randCont\", \"randCont\", \"randCont\", \"randCont\", \"randCont\", \"randCont\", \"randCont\", \"randCont\", \"randCont\", \"randCont\", \"randCont\", \"randCont\", \"randCont\", \"randCont\", \"randCont\", \"randCont\", \"randCont\", \"randCont\", \"randCont\", \"randCont\", \"randCont\", \"randCont\", \"randCont\", \"randCont\", \"randCont\", \"randCont\", \"randCont\", \"randCont\", \"randCont\", \"randCont\", \"randCont\", \"randCont\", \"randCont\", \"randCont\", \"randCont\", \"randCont\", \"randCont\", \"randCont\", \"randCont\", \"randCont\", \"randCont\", \"randCont\", \"randCont\", \"randCont\", \"randCont\", \"randCont\", \"randCont\", \"randCont\", \"randCont\", \"randCont\", \"randCont\", \"randCont\", \"randCont\", \"randCont\", \"randCont\", \"randCont\", \"randCont\", \"randCont\", \"randCont\", \"randCont\", \"randCont\", \"randCont\", \"randCont\", \"randCont\", \"randCont\", \"randCont\", \"randCont\", \"randCont\", \"randCont\", \"randCont\", \"randCont\", \"randCont\", \"randCont\", \"randCont\", \"randCont\", \"randCont\", \"randCont\", \"randCont\", \"randCont\", \"randCont\", \"randCont\", \"randCont\", \"randCont\", \"randCont\", \"randCont\", \"randCont\", \"randCont\", \"randCont\", \"randCont\", \"randCont\", \"randCont\", \"randCont\", \"randCont\", \"randCont\", \"randCont\", \"randCont\", \"randCont\", \"randCont\", \"randCont\", \"randCont\", \"randCont\", \"randCont\", \"randCont\", \"randCont\", \"randCont\", \"randCont\", \"randCont\", \"randCont\", \"randCont\", \"randCont\", \"randCont\", \"randCont\", \"randCont\", \"randCont\", \"randCont\", \"randCont\", \"randCont\", \"randCont\", \"randCont\", \"randCont\", \"randCont\", \"randCont\", \"randCont\", \"randCont\", \"randCont\", \"randCont\", \"randCont\", \"randCont\", \"randCont\", \"randCont\", \"randCont\", \"randCont\", \"randCont\", \"randCont\", \"randCont\", \"randCont\", \"randCont\", \"randCont\", \"randCont\", \"randCont\", \"randCont\", \"randCont\", \"randCont\", \"randCont\", \"randCont\", \"randCont\", \"randCont\", \"randCont\", \"randCont\", \"randCont\", \"randCont\", \"randCont\", \"randCont\", \"randCont\", \"randCont\", \"randCont\", \"randCont\", \"randCont\", \"randCont\", \"randCont\", \"randCont\"], \"x0\": \" \", \"xaxis\": \"x\", \"y\": [1.8423709931771086, 1.5, 5.295822777517306, 1.5095209611695535, 1.9219280948873625, 3.0269868333592873, 4.344627096127107, 0.9993375041688846, 2.368522527728207, -0.0, 1.0942658959797504, 1.8754585146546388, 2.0, 5.180461543469758, 3.3571067941182644, 1.5, 1.3496536776904124, 2.4508257945180887, 1.584962500721156, 1.1433201021277661, 0.8112781244591328, 3.0592446536783617, 1.7273966735744792, 2.248573139553867, 4.391201429374547, 3.2516291673878235, 3.12493829935726, 2.046025083883964, 2.0680427661601373, 2.598119004409185, 1.3520301017579528, 1.0, 3.861725074756387, 2.3749589477025568, 1.9877733714879842, 2.9298034372918815, 1.584962500721156, 3.907734270742486, 2.0, 4.884761657503723, 1.2419515860260362, 3.384183719779189, 2.3219280948873626, 2.7248108792633876, 2.751629167387823, 1.503203121818221, 2.709685696912064, 2.6384600665861555, 2.5541522113239505, 5.173028959714557, 1.7527152789797051, 2.6858035486178693, 5.393604092559176, 2.161810290737603, 1.5219280948873626, 5.639640125385438, -0.0, 2.9327886711110294, 0.954434002924965, 2.0, 3.277613436819116, -0.0, 3.249543610201726, 2.471020728616734, 1.0, -0.0, 2.6157246054471703, 3.5389356750493004, 2.2707464355336384, 1.096514667324345, 3.8841837197791893, 2.0729055953200564, 2.588522289769089, 1.0, 2.2359263506290326, 2.1040514998942057, 0.9980008838722995, 2.314091669484681, 0.9182958340544894, 1.219240704636849, 2.4508257945180887, -0.0, 3.3962915290459277, 0.6500224216483541, 3.562267081122534, 2.900344052604686, 2.3219280948873626, 4.967772172317727, 2.586348105321544, 5.063954630313395, 3.91829583405449, 2.4193819456463714, 3.002752554382404, 2.128085278891394, 0.9953784388202258, 5.5622343977205855, 4.278351811711313, 1.6321123133379207, 3.414441303694973, 1.1035976050262255, 2.5660753520671133, 3.0512293463033826, 2.523231428797621, 4.237291339955157, 3.2495385872764535, 2.016875695766564, 2.2516291673878226, 2.683620233022829, 3.046439344671016, 1.9399824743635554, 2.75, 2.186704345910025, 1.2309595631140104, 1.5734024524177672, 1.5, 4.758204755699832, 3.0610860040121963, 0.9910760598382222, 2.8073549220576037, 1.7289794149754032, 1.7015751242470365, 2.9056390622295662, 1.4689955935892813, 2.4193819456463714, 2.2463855297176836, 3.902518266288633, 3.3800943362833293, 2.9072684591486446, 4.209867121904037, 2.435480092788244, 1.7405222117546197, 2.071735027138169, 1.0, 0.9182958340544894, 5.5053873723549716, 1.4005013899305592, 1.5744174271404583, 3.0594705707972527, 2.486873908154831, 2.2516291673878226, 2.2516291673878226, 1.0, 2.725480556997868, 1.0, 3.6644977792004605, 4.351823225551765, 2.413088436425758, 2.4187812300634026, 5.28366155929695, 2.5503407095463886, 3.3504903797667565, -0.0, 2.641604167868594, 5.860307426040031, 1.1183635963342025, 3.452819531114783, 1.7794238321465294, 3.630412660873998, 5.410229231693701, 1.0, 2.084962500721156, 2.155870448129082, 4.77844385460277, 4.4154581344444095, -0.0, 3.1249999999999996, 5.1817971907135725, 2.3227569588973984, 2.994563753151443, 1.2344977967946407, 3.248634979160086, 3.54980087635729, 1.0863128407412879, 1.9573821818101196, 1.0, 1.351376788773441, 1.2197484934607568, 0.961236604722876, 3.3225710891662112, 1.3970574189813383, 1.584962500721156, 2.1733325752088093, 1.2399234562132122, 2.391285121070684, 4.882157826134865, 1.0, 3.055164427003906, 3.3950849518197797, 1.4337232462002667, 2.257606878811597, 5.191683171481311, 2.4193819456463714, 1.9219280948873625, 3.9583713714750344, 2.1478057639460157, 1.9211796919474975, 1.2954618442383217, 3.3308107979444377, 2.1556390622295667, 1.2516291673878228, -0.0, 2.4125056054120884], \"y0\": \" \", \"yaxis\": \"y\"}, {\"alignmentgroup\": \"True\", \"box\": {\"visible\": true}, \"hoverlabel\": {\"namelength\": 0}, \"hovertemplate\": \"gene_type=%{x}<br>Shannon_diversity_TF=%{y}\", \"legendgroup\": \"highVar\", \"marker\": {\"color\": \"#EF553B\"}, \"name\": \"highVar\", \"offsetgroup\": \"highVar\", \"orientation\": \"v\", \"points\": \"all\", \"scalegroup\": \"True\", \"showlegend\": true, \"type\": \"violin\", \"x\": [\"highVar\", \"highVar\", \"highVar\", \"highVar\", \"highVar\", \"highVar\", \"highVar\", \"highVar\", \"highVar\", \"highVar\", \"highVar\", \"highVar\", \"highVar\", \"highVar\", \"highVar\", \"highVar\", \"highVar\", \"highVar\", \"highVar\", \"highVar\", \"highVar\", \"highVar\", \"highVar\", \"highVar\", \"highVar\", \"highVar\", \"highVar\", \"highVar\", \"highVar\", \"highVar\", \"highVar\", \"highVar\", \"highVar\", \"highVar\", \"highVar\", \"highVar\", \"highVar\", \"highVar\", \"highVar\", \"highVar\", \"highVar\", \"highVar\", \"highVar\", \"highVar\", \"highVar\", \"highVar\", \"highVar\", \"highVar\", \"highVar\", \"highVar\", \"highVar\", \"highVar\", \"highVar\", \"highVar\", \"highVar\", \"highVar\", \"highVar\", \"highVar\", \"highVar\", \"highVar\", \"highVar\", \"highVar\", \"highVar\", \"highVar\", \"highVar\", \"highVar\", \"highVar\", \"highVar\", \"highVar\", \"highVar\", \"highVar\", \"highVar\", \"highVar\", \"highVar\", \"highVar\", \"highVar\", \"highVar\", \"highVar\", \"highVar\", \"highVar\", \"highVar\", \"highVar\", \"highVar\", \"highVar\", \"highVar\", \"highVar\", \"highVar\", \"highVar\", \"highVar\", \"highVar\", \"highVar\", \"highVar\", \"highVar\", \"highVar\", \"highVar\", \"highVar\", \"highVar\", \"highVar\", \"highVar\"], \"x0\": \" \", \"xaxis\": \"x\", \"y\": [3.147482344354677, 2.75, 4.931640717299621, 1.4685381970127551, 3.0065212271721315, 2.742796399422629, 2.7091037602109376, 1.8219280948873626, 1.4241051540891925, 2.521640636343318, 3.0426990615553264, 2.0, 5.177785309755044, -0.0, 2.939967295107932, 1.3291408183242786, 5.0791940283358015, 0.9182958340544894, 1.1873868015167897, 1.4355205042826666, 1.5219280948873626, 0.9766349114440102, 2.3697084420156673, 0.8812908992306927, 3.321928094887362, 2.2212518360044666, 1.4247346189316261, 1.4717374334224667, 0.9182958340544894, 2.4193819456463714, 2.7254805569978684, 1.2516291673878228, 1.3726608774610893, 1.584962500721156, 1.5822359560770867, 1.9219280948873625, 4.164735178725505, 3.1805186273876185, 3.540198403520841, 2.91829583405449, 1.4591479170272446, 2.197405811425518, 2.2998963911678914, 1.2729055953200563, 3.0, 4.895400877726748, 3.098267981940986, 1.7893058518068692, 2.186278124459133, 1.2210477851797181, 1.9141828384352135, 1.3488291459562836, 3.700439718141093, 2.197159723424149, 2.481714572986073, 1.6094277226008757, 3.6887218755408675, 1.584962500721156, 1.756350214316186, 2.0989295636909353, 2.2955030923373503, 2.2377662347419953, 3.3598343062841205, 2.977286229253189, 3.008152374935751, 2.3100929289703234, 0.5916727785823274, 0.8997437586982626, 3.588600801012473, 2.3940647234069226, 1.2717822215997983, 1.5487949406953987, 2.0, 2.5287803536230715, 2.870231960044766, 2.6337484748273186, 3.2251878900165245, 0.940285958670631, 3.4849052825496694, 2.4193819456463714, 1.5, 2.7873252607875054, 2.0, 2.4676343669794982, 1.5, 1.0, 2.6688388898504303, 1.3701409447148043, 1.459147917027245, 3.1034259159426667, 2.4182958340544896, 1.2448406699719212, 2.996630848284676, 2.385858845438489, 1.6027930388928713, 1.6143308351592656, 2.6632592548165896, 2.5238778376873916, 2.928212945841002], \"y0\": \" \", \"yaxis\": \"y\"}, {\"alignmentgroup\": \"True\", \"box\": {\"visible\": true}, \"hoverlabel\": {\"namelength\": 0}, \"hovertemplate\": \"gene_type=%{x}<br>Shannon_diversity_TF=%{y}\", \"legendgroup\": \"housekeeping\", \"marker\": {\"color\": \"#00cc96\"}, \"name\": \"housekeeping\", \"offsetgroup\": \"housekeeping\", \"orientation\": \"v\", \"points\": \"all\", \"scalegroup\": \"True\", \"showlegend\": true, \"type\": \"violin\", \"x\": [\"housekeeping\", \"housekeeping\", \"housekeeping\", \"housekeeping\", \"housekeeping\", \"housekeeping\", \"housekeeping\", \"housekeeping\", \"housekeeping\", \"housekeeping\", \"housekeeping\", \"housekeeping\", \"housekeeping\", \"housekeeping\", \"housekeeping\", \"housekeeping\", \"housekeeping\", \"housekeeping\", \"housekeeping\", \"housekeeping\", \"housekeeping\", \"housekeeping\", \"housekeeping\", \"housekeeping\", \"housekeeping\", \"housekeeping\", \"housekeeping\", \"housekeeping\", \"housekeeping\", \"housekeeping\", \"housekeeping\", \"housekeeping\", \"housekeeping\", \"housekeeping\", \"housekeeping\", \"housekeeping\", \"housekeeping\", \"housekeeping\", \"housekeeping\", \"housekeeping\", \"housekeeping\", \"housekeeping\", \"housekeeping\", \"housekeeping\", \"housekeeping\", \"housekeeping\", \"housekeeping\", \"housekeeping\", \"housekeeping\", \"housekeeping\", \"housekeeping\", \"housekeeping\", \"housekeeping\", \"housekeeping\", \"housekeeping\", \"housekeeping\", \"housekeeping\", \"housekeeping\", \"housekeeping\", \"housekeeping\", \"housekeeping\", \"housekeeping\", \"housekeeping\", \"housekeeping\", \"housekeeping\", \"housekeeping\", \"housekeeping\", \"housekeeping\", \"housekeeping\", \"housekeeping\", \"housekeeping\", \"housekeeping\", \"housekeeping\", \"housekeeping\", \"housekeeping\", \"housekeeping\", \"housekeeping\", \"housekeeping\", \"housekeeping\", \"housekeeping\", \"housekeeping\", \"housekeeping\", \"housekeeping\", \"housekeeping\", \"housekeeping\", \"housekeeping\", \"housekeeping\", \"housekeeping\", \"housekeeping\", \"housekeeping\", \"housekeeping\", \"housekeeping\", \"housekeeping\", \"housekeeping\", \"housekeeping\", \"housekeeping\", \"housekeeping\", \"housekeeping\"], \"x0\": \" \", \"xaxis\": \"x\", \"y\": [3.7638561897747245, -0.0, 3.0942269747380484, 5.000167363234516, 2.873140679513133, 3.5225715891363603, -0.0, 2.4388952241791344, 1.8751852764514267, 1.8322628970242685, 1.5, 2.777776811456786, 2.4182958340544896, 2.281036112553424, 0.9182958340544894, 1.4373770511116049, 1.0, 1.2022921890824148, 1.1238561897747248, 2.321979754968555, 3.5216406363433177, 3.7671834678914617, 2.813209829505895, 1.0, -0.0, 2.6887218755408666, 2.508694969562842, 5.242856050160461, 2.880862327095355, 2.7045348998193433, 2.0464393446710156, 3.1353927035829563, 1.7339015392009278, 3.0, 2.146815404422521, 0.9182958340544894, -0.0, 3.016875695766564, 2.5243974703476995, 2.8352377453121176, 2.430036532577266, 2.078959853077088, 3.0142814387617576, 4.2898827970371745, 2.685227204182693, 2.0152419173638845, 5.339763829239406, 3.089889603490046, 0.8112781244591328, 4.160798518954285, 3.238901256602631, 4.859653500465779, 1.2516291673878228, 2.1556390622295667, 1.8535681581652277, 1.4466166676282084, 2.1219280948873624, 4.852855596281597, 5.23750539640841, 1.0916362019205923, 1.4488156357251847, 2.494537425343149, 3.199152053723433, 2.154223553457345, 3.1442321419736325, 2.292071752457788, -0.0, 1.5416892248400096, 3.0748993196140844, 1.6998428398862384, 3.588354347173233, 1.2958363892911637, 3.931553932661976, 1.5249773144676395, 0.9182958340544894, 2.2450167455986105, 2.6366238110793634, 2.6112761077229263, 2.199687794731328, 3.277613436819116, 2.5882001146105083, 2.0, 1.8062389286533898, 2.289466273586762, 3.96422185259764, 2.399397470347699, 0.9182958340544894, 2.1258145836939115, 2.075869296697727, 2.5032583347756456, 1.721928094887362, 3.0872039447588344, 1.4138168503036337, 2.632109012105626, 0.9886994082884974, 3.1815804553722447, 4.088308526646765, 2.3898980954642877], \"y0\": \" \", \"yaxis\": \"y\"}],\n",
       "                        {\"legend\": {\"title\": {\"text\": \"gene_type\"}, \"tracegroupgap\": 0}, \"margin\": {\"t\": 60}, \"template\": {\"data\": {\"bar\": [{\"error_x\": {\"color\": \"#2a3f5f\"}, \"error_y\": {\"color\": \"#2a3f5f\"}, \"marker\": {\"line\": {\"color\": \"#E5ECF6\", \"width\": 0.5}}, \"type\": \"bar\"}], \"barpolar\": [{\"marker\": {\"line\": {\"color\": \"#E5ECF6\", \"width\": 0.5}}, \"type\": \"barpolar\"}], \"carpet\": [{\"aaxis\": {\"endlinecolor\": \"#2a3f5f\", \"gridcolor\": \"white\", \"linecolor\": \"white\", \"minorgridcolor\": \"white\", \"startlinecolor\": \"#2a3f5f\"}, \"baxis\": {\"endlinecolor\": \"#2a3f5f\", \"gridcolor\": \"white\", \"linecolor\": \"white\", \"minorgridcolor\": \"white\", \"startlinecolor\": \"#2a3f5f\"}, \"type\": \"carpet\"}], \"choropleth\": [{\"colorbar\": {\"outlinewidth\": 0, \"ticks\": \"\"}, \"type\": \"choropleth\"}], \"contour\": [{\"colorbar\": {\"outlinewidth\": 0, \"ticks\": \"\"}, \"colorscale\": [[0.0, \"#0d0887\"], [0.1111111111111111, \"#46039f\"], [0.2222222222222222, \"#7201a8\"], [0.3333333333333333, \"#9c179e\"], [0.4444444444444444, \"#bd3786\"], [0.5555555555555556, \"#d8576b\"], [0.6666666666666666, \"#ed7953\"], [0.7777777777777778, \"#fb9f3a\"], [0.8888888888888888, \"#fdca26\"], [1.0, \"#f0f921\"]], \"type\": \"contour\"}], \"contourcarpet\": [{\"colorbar\": {\"outlinewidth\": 0, \"ticks\": \"\"}, \"type\": \"contourcarpet\"}], \"heatmap\": [{\"colorbar\": {\"outlinewidth\": 0, \"ticks\": \"\"}, \"colorscale\": [[0.0, \"#0d0887\"], [0.1111111111111111, \"#46039f\"], [0.2222222222222222, \"#7201a8\"], [0.3333333333333333, \"#9c179e\"], [0.4444444444444444, \"#bd3786\"], [0.5555555555555556, \"#d8576b\"], [0.6666666666666666, \"#ed7953\"], [0.7777777777777778, \"#fb9f3a\"], [0.8888888888888888, \"#fdca26\"], [1.0, \"#f0f921\"]], \"type\": \"heatmap\"}], \"heatmapgl\": [{\"colorbar\": {\"outlinewidth\": 0, \"ticks\": \"\"}, \"colorscale\": [[0.0, \"#0d0887\"], [0.1111111111111111, \"#46039f\"], [0.2222222222222222, \"#7201a8\"], [0.3333333333333333, \"#9c179e\"], [0.4444444444444444, \"#bd3786\"], [0.5555555555555556, \"#d8576b\"], [0.6666666666666666, \"#ed7953\"], [0.7777777777777778, \"#fb9f3a\"], [0.8888888888888888, \"#fdca26\"], [1.0, \"#f0f921\"]], \"type\": \"heatmapgl\"}], \"histogram\": [{\"marker\": {\"colorbar\": {\"outlinewidth\": 0, \"ticks\": \"\"}}, \"type\": \"histogram\"}], \"histogram2d\": [{\"colorbar\": {\"outlinewidth\": 0, \"ticks\": \"\"}, \"colorscale\": [[0.0, \"#0d0887\"], [0.1111111111111111, \"#46039f\"], [0.2222222222222222, \"#7201a8\"], [0.3333333333333333, \"#9c179e\"], [0.4444444444444444, \"#bd3786\"], [0.5555555555555556, \"#d8576b\"], [0.6666666666666666, \"#ed7953\"], [0.7777777777777778, \"#fb9f3a\"], [0.8888888888888888, \"#fdca26\"], [1.0, \"#f0f921\"]], \"type\": \"histogram2d\"}], \"histogram2dcontour\": [{\"colorbar\": {\"outlinewidth\": 0, \"ticks\": \"\"}, \"colorscale\": [[0.0, \"#0d0887\"], [0.1111111111111111, \"#46039f\"], [0.2222222222222222, \"#7201a8\"], [0.3333333333333333, \"#9c179e\"], [0.4444444444444444, \"#bd3786\"], [0.5555555555555556, \"#d8576b\"], [0.6666666666666666, \"#ed7953\"], [0.7777777777777778, \"#fb9f3a\"], [0.8888888888888888, \"#fdca26\"], [1.0, \"#f0f921\"]], \"type\": \"histogram2dcontour\"}], \"mesh3d\": [{\"colorbar\": {\"outlinewidth\": 0, \"ticks\": \"\"}, \"type\": \"mesh3d\"}], \"parcoords\": [{\"line\": {\"colorbar\": {\"outlinewidth\": 0, \"ticks\": \"\"}}, \"type\": \"parcoords\"}], \"pie\": [{\"automargin\": true, \"type\": \"pie\"}], \"scatter\": [{\"marker\": {\"colorbar\": {\"outlinewidth\": 0, \"ticks\": \"\"}}, \"type\": \"scatter\"}], \"scatter3d\": [{\"line\": {\"colorbar\": {\"outlinewidth\": 0, \"ticks\": \"\"}}, \"marker\": {\"colorbar\": {\"outlinewidth\": 0, \"ticks\": \"\"}}, \"type\": \"scatter3d\"}], \"scattercarpet\": [{\"marker\": {\"colorbar\": {\"outlinewidth\": 0, \"ticks\": \"\"}}, \"type\": \"scattercarpet\"}], \"scattergeo\": [{\"marker\": {\"colorbar\": {\"outlinewidth\": 0, \"ticks\": \"\"}}, \"type\": \"scattergeo\"}], \"scattergl\": [{\"marker\": {\"colorbar\": {\"outlinewidth\": 0, \"ticks\": \"\"}}, \"type\": \"scattergl\"}], \"scattermapbox\": [{\"marker\": {\"colorbar\": {\"outlinewidth\": 0, \"ticks\": \"\"}}, \"type\": \"scattermapbox\"}], \"scatterpolar\": [{\"marker\": {\"colorbar\": {\"outlinewidth\": 0, \"ticks\": \"\"}}, \"type\": \"scatterpolar\"}], \"scatterpolargl\": [{\"marker\": {\"colorbar\": {\"outlinewidth\": 0, \"ticks\": \"\"}}, \"type\": \"scatterpolargl\"}], \"scatterternary\": [{\"marker\": {\"colorbar\": {\"outlinewidth\": 0, \"ticks\": \"\"}}, \"type\": \"scatterternary\"}], \"surface\": [{\"colorbar\": {\"outlinewidth\": 0, \"ticks\": \"\"}, \"colorscale\": [[0.0, \"#0d0887\"], [0.1111111111111111, \"#46039f\"], [0.2222222222222222, \"#7201a8\"], [0.3333333333333333, \"#9c179e\"], [0.4444444444444444, \"#bd3786\"], [0.5555555555555556, \"#d8576b\"], [0.6666666666666666, \"#ed7953\"], [0.7777777777777778, \"#fb9f3a\"], [0.8888888888888888, \"#fdca26\"], [1.0, \"#f0f921\"]], \"type\": \"surface\"}], \"table\": [{\"cells\": {\"fill\": {\"color\": \"#EBF0F8\"}, \"line\": {\"color\": \"white\"}}, \"header\": {\"fill\": {\"color\": \"#C8D4E3\"}, \"line\": {\"color\": \"white\"}}, \"type\": \"table\"}]}, \"layout\": {\"annotationdefaults\": {\"arrowcolor\": \"#2a3f5f\", \"arrowhead\": 0, \"arrowwidth\": 1}, \"coloraxis\": {\"colorbar\": {\"outlinewidth\": 0, \"ticks\": \"\"}}, \"colorscale\": {\"diverging\": [[0, \"#8e0152\"], [0.1, \"#c51b7d\"], [0.2, \"#de77ae\"], [0.3, \"#f1b6da\"], [0.4, \"#fde0ef\"], [0.5, \"#f7f7f7\"], [0.6, \"#e6f5d0\"], [0.7, \"#b8e186\"], [0.8, \"#7fbc41\"], [0.9, \"#4d9221\"], [1, \"#276419\"]], \"sequential\": [[0.0, \"#0d0887\"], [0.1111111111111111, \"#46039f\"], [0.2222222222222222, \"#7201a8\"], [0.3333333333333333, \"#9c179e\"], [0.4444444444444444, \"#bd3786\"], [0.5555555555555556, \"#d8576b\"], [0.6666666666666666, \"#ed7953\"], [0.7777777777777778, \"#fb9f3a\"], [0.8888888888888888, \"#fdca26\"], [1.0, \"#f0f921\"]], \"sequentialminus\": [[0.0, \"#0d0887\"], [0.1111111111111111, \"#46039f\"], [0.2222222222222222, \"#7201a8\"], [0.3333333333333333, \"#9c179e\"], [0.4444444444444444, \"#bd3786\"], [0.5555555555555556, \"#d8576b\"], [0.6666666666666666, \"#ed7953\"], [0.7777777777777778, \"#fb9f3a\"], [0.8888888888888888, \"#fdca26\"], [1.0, \"#f0f921\"]]}, \"colorway\": [\"#636efa\", \"#EF553B\", \"#00cc96\", \"#ab63fa\", \"#FFA15A\", \"#19d3f3\", \"#FF6692\", \"#B6E880\", \"#FF97FF\", \"#FECB52\"], \"font\": {\"color\": \"#2a3f5f\"}, \"geo\": {\"bgcolor\": \"white\", \"lakecolor\": \"white\", \"landcolor\": \"#E5ECF6\", \"showlakes\": true, \"showland\": true, \"subunitcolor\": \"white\"}, \"hoverlabel\": {\"align\": \"left\"}, \"hovermode\": \"closest\", \"mapbox\": {\"style\": \"light\"}, \"paper_bgcolor\": \"white\", \"plot_bgcolor\": \"#E5ECF6\", \"polar\": {\"angularaxis\": {\"gridcolor\": \"white\", \"linecolor\": \"white\", \"ticks\": \"\"}, \"bgcolor\": \"#E5ECF6\", \"radialaxis\": {\"gridcolor\": \"white\", \"linecolor\": \"white\", \"ticks\": \"\"}}, \"scene\": {\"xaxis\": {\"backgroundcolor\": \"#E5ECF6\", \"gridcolor\": \"white\", \"gridwidth\": 2, \"linecolor\": \"white\", \"showbackground\": true, \"ticks\": \"\", \"zerolinecolor\": \"white\"}, \"yaxis\": {\"backgroundcolor\": \"#E5ECF6\", \"gridcolor\": \"white\", \"gridwidth\": 2, \"linecolor\": \"white\", \"showbackground\": true, \"ticks\": \"\", \"zerolinecolor\": \"white\"}, \"zaxis\": {\"backgroundcolor\": \"#E5ECF6\", \"gridcolor\": \"white\", \"gridwidth\": 2, \"linecolor\": \"white\", \"showbackground\": true, \"ticks\": \"\", \"zerolinecolor\": \"white\"}}, \"shapedefaults\": {\"line\": {\"color\": \"#2a3f5f\"}}, \"ternary\": {\"aaxis\": {\"gridcolor\": \"white\", \"linecolor\": \"white\", \"ticks\": \"\"}, \"baxis\": {\"gridcolor\": \"white\", \"linecolor\": \"white\", \"ticks\": \"\"}, \"bgcolor\": \"#E5ECF6\", \"caxis\": {\"gridcolor\": \"white\", \"linecolor\": \"white\", \"ticks\": \"\"}}, \"title\": {\"x\": 0.05}, \"xaxis\": {\"automargin\": true, \"gridcolor\": \"white\", \"linecolor\": \"white\", \"ticks\": \"\", \"title\": {\"standoff\": 15}, \"zerolinecolor\": \"white\", \"zerolinewidth\": 2}, \"yaxis\": {\"automargin\": true, \"gridcolor\": \"white\", \"linecolor\": \"white\", \"ticks\": \"\", \"title\": {\"standoff\": 15}, \"zerolinecolor\": \"white\", \"zerolinewidth\": 2}}}, \"violinmode\": \"group\", \"xaxis\": {\"anchor\": \"y\", \"categoryarray\": [\"randCont\", \"highVar\", \"housekeeping\"], \"categoryorder\": \"array\", \"domain\": [0.0, 1.0], \"title\": {\"text\": \"gene_type\"}}, \"yaxis\": {\"anchor\": \"x\", \"domain\": [0.0, 1.0], \"title\": {\"text\": \"Shannon_diversity_TF\"}}},\n",
       "                        {\"responsive\": true}\n",
       "                    ).then(function(){\n",
       "                            \n",
       "var gd = document.getElementById('9dea48ad-bad5-4868-91cc-a67e0ca0c5d5');\n",
       "var x = new MutationObserver(function (mutations, observer) {{\n",
       "        var display = window.getComputedStyle(gd).display;\n",
       "        if (!display || display === 'none') {{\n",
       "            console.log([gd, 'removed!']);\n",
       "            Plotly.purge(gd);\n",
       "            observer.disconnect();\n",
       "        }}\n",
       "}});\n",
       "\n",
       "// Listen for the removal of the full notebook cells\n",
       "var notebookContainer = gd.closest('#notebook-container');\n",
       "if (notebookContainer) {{\n",
       "    x.observe(notebookContainer, {childList: true});\n",
       "}}\n",
       "\n",
       "// Listen for the clearing of the current output cell\n",
       "var outputEl = gd.closest('.output');\n",
       "if (outputEl) {{\n",
       "    x.observe(outputEl, {childList: true});\n",
       "}}\n",
       "\n",
       "                        })\n",
       "                };\n",
       "                });\n",
       "            </script>\n",
       "        </div>"
      ]
     },
     "metadata": {},
     "output_type": "display_data"
    }
   ],
   "source": [
    "\n",
    "fig = px.violin(merged, x=\"gene_type\", y=\"Shannon_diversity_TF\", box=True, color=\"gene_type\", # draw box plot inside the violin\n",
    "                points='all', # can be 'outliers', or False\n",
    "               )\n",
    "plotly.offline.plot(fig, filename='../../example_figure.html', auto_open=False)\n",
    "fig.show()"
   ]
  },
  {
   "cell_type": "markdown",
   "metadata": {},
   "source": [
    "#### get names of each promoter type for later"
   ]
  },
  {
   "cell_type": "code",
   "execution_count": 120,
   "metadata": {},
   "outputs": [
    {
     "name": "stdout",
     "output_type": "stream",
     "text": [
      "randCont\n",
      "highVar\n",
      "housekeeping\n"
     ]
    }
   ],
   "source": [
    "pd.Categorical(merged.gene_type)\n",
    "names = merged.gene_type.unique()\n",
    "for name in names:\n",
    "    print(name)"
   ]
  },
  {
   "cell_type": "markdown",
   "metadata": {},
   "source": [
    "### test normaliity"
   ]
  },
  {
   "cell_type": "code",
   "execution_count": 121,
   "metadata": {},
   "outputs": [
    {
     "name": "stdout",
     "output_type": "stream",
     "text": [
      "randCont: (0.963759183883667, 4.713857561000623e-05)\n",
      "highVar: (0.9589629769325256, 0.0036050041671842337)\n",
      "housekeeping: (0.9770366549491882, 0.08375871926546097)\n"
     ]
    }
   ],
   "source": [
    "#returns test statistic, p-value\n",
    "for name in names:\n",
    "    print('{}: {}'.format(name, stats.shapiro(merged.Shannon_diversity_TF[merged.gene_type == name])))"
   ]
  },
  {
   "cell_type": "markdown",
   "metadata": {},
   "source": [
    "### reject normality"
   ]
  },
  {
   "cell_type": "markdown",
   "metadata": {},
   "source": [
    "### make separate dfs based on gene_type"
   ]
  },
  {
   "cell_type": "code",
   "execution_count": 122,
   "metadata": {},
   "outputs": [],
   "source": [
    "constitutive = merged[merged.gene_type == 'highVar']\n",
    "#reset indexes so residuals can be calculated later\n",
    "constitutive.reset_index(inplace=True)\n",
    "\n",
    "responsive = merged[merged.gene_type == 'housekeeping']\n",
    "responsive.reset_index(inplace=True)\n",
    "\n",
    "control = merged[merged.gene_type == 'randCont']\n",
    "control.reset_index(inplace=True)"
   ]
  },
  {
   "cell_type": "markdown",
   "metadata": {},
   "source": [
    "### q-plot - constitutive"
   ]
  },
  {
   "cell_type": "code",
   "execution_count": null,
   "metadata": {},
   "outputs": [],
   "source": [
    "stats.probplot(constitutive.Shannon_diversity_TF, plot= plt);"
   ]
  },
  {
   "cell_type": "markdown",
   "metadata": {},
   "source": [
    "### q-plots - responsive"
   ]
  },
  {
   "cell_type": "code",
   "execution_count": null,
   "metadata": {},
   "outputs": [],
   "source": [
    "stats.probplot(responsive.Shannon_diversity_TF, plot= plt);"
   ]
  },
  {
   "cell_type": "markdown",
   "metadata": {},
   "source": [
    "### q-plots - random control"
   ]
  },
  {
   "cell_type": "code",
   "execution_count": null,
   "metadata": {},
   "outputs": [],
   "source": [
    "stats.probplot(control.Shannon_diversity_TF, plot= plt);"
   ]
  },
  {
   "cell_type": "markdown",
   "metadata": {},
   "source": [
    "## test homoscedasticity (Homogeneity of Variance)"
   ]
  },
  {
   "cell_type": "code",
   "execution_count": null,
   "metadata": {},
   "outputs": [],
   "source": [
    "stats.levene(merged.Shannon_diversity_TF[merged.gene_type == names[0]], \n",
    "               merged.Shannon_diversity_TF[merged.gene_type == names[1]], \n",
    "               merged.Shannon_diversity_TF[merged.gene_type == names[2]])"
   ]
  },
  {
   "cell_type": "markdown",
   "metadata": {},
   "source": [
    "#### fail to reject null hypothesis that variances are equal"
   ]
  },
  {
   "cell_type": "markdown",
   "metadata": {},
   "source": [
    "# Kruskal-Wallis one way anlysis of variance: scipy.stats.kruskal"
   ]
  },
  {
   "cell_type": "code",
   "execution_count": null,
   "metadata": {},
   "outputs": [],
   "source": [
    "stats.kruskal(merged.Shannon_diversity_TF[merged.gene_type == names[0]], \n",
    "               merged.Shannon_diversity_TF[merged.gene_type == names[1]], \n",
    "               merged.Shannon_diversity_TF[merged.gene_type == names[2]])"
   ]
  },
  {
   "cell_type": "code",
   "execution_count": null,
   "metadata": {},
   "outputs": [],
   "source": [
    "#variable vs housekeeping\n",
    "stats.mannwhitneyu(merged.Shannon_diversity_TF[merged.gene_type == names[1]], \n",
    "               merged.Shannon_diversity_TF[merged.gene_type == names[2]])"
   ]
  },
  {
   "cell_type": "markdown",
   "metadata": {},
   "source": [
    "### not significantly different"
   ]
  },
  {
   "cell_type": "markdown",
   "metadata": {},
   "source": [
    "## TF_family shannon diversity"
   ]
  },
  {
   "cell_type": "code",
   "execution_count": null,
   "metadata": {},
   "outputs": [],
   "source": [
    "plot = sns.catplot(x=\"gene_type\", y=\"Shannon_diversity_TF_family\", data=merged, kind='violin')\n",
    "#plot points\n",
    "#ax = sns.swarmplot(x=\"gene_type\", y=\"Shannon_diversity_TF_family\", data=merged, color=\".25\").get_figure().savefig('../../data/plots/TF_diversity/responsive_TF_shannondiversity_family_violin.pdf', format='pdf')"
   ]
  },
  {
   "cell_type": "code",
   "execution_count": null,
   "metadata": {},
   "outputs": [],
   "source": [
    "fig = px.violin(merged, x=\"gene_type\", y=\"Shannon_diversity_TF_family\", box=True, # draw box plot inside the violin\n",
    "                points='all', # can be 'outliers', or False\n",
    "               )\n"
   ]
  },
  {
   "cell_type": "code",
   "execution_count": null,
   "metadata": {},
   "outputs": [],
   "source": [
    "fig.show()"
   ]
  },
  {
   "cell_type": "code",
   "execution_count": null,
   "metadata": {},
   "outputs": [],
   "source": [
    "#test normality\n",
    "#returns test statistic, p-value\n",
    "for name in names:\n",
    "    print('{}: {}'.format(name, stats.shapiro(merged.Shannon_diversity_TF_family[merged.gene_type == name])))"
   ]
  },
  {
   "cell_type": "code",
   "execution_count": null,
   "metadata": {},
   "outputs": [],
   "source": [
    "#not normal"
   ]
  },
  {
   "cell_type": "code",
   "execution_count": null,
   "metadata": {},
   "outputs": [],
   "source": [
    "#test variance\n",
    "stats.levene(merged.Shannon_diversity_TF_family[merged.gene_type == names[1]], \n",
    "               merged.Shannon_diversity_TF_family[merged.gene_type == names[2]])"
   ]
  },
  {
   "cell_type": "code",
   "execution_count": null,
   "metadata": {},
   "outputs": [],
   "source": [
    "#mann whitney\n",
    "#variable vs housekeeping\n",
    "stats.mannwhitneyu(merged.Shannon_diversity_TF_family[merged.gene_type == names[1]], \n",
    "               merged.Shannon_diversity_TF_family[merged.gene_type == names[2]])"
   ]
  },
  {
   "cell_type": "markdown",
   "metadata": {},
   "source": [
    "## Analyse unique TFBS counts within promoters"
   ]
  },
  {
   "cell_type": "code",
   "execution_count": null,
   "metadata": {},
   "outputs": [],
   "source": [
    "plot = sns.catplot(x=\"gene_type\", y=\"S_unique_TF_count\", data=merged, kind='violin')\n",
    "#plot points\n",
    "ax = sns.swarmplot(x=\"gene_type\", y=\"S_unique_TF_count\", data=merged, color=\".25\").get_figure().savefig('../../data/plots/TF_diversity/responsive_TF_unique_count.pdf', format='pdf')"
   ]
  },
  {
   "cell_type": "code",
   "execution_count": null,
   "metadata": {},
   "outputs": [],
   "source": [
    "#normality test\n",
    "#returns test statistic, p-value\n",
    "for name in names:\n",
    "    print('{}: {}'.format(name, stats.shapiro(merged.S_unique_TF_count[merged.gene_type == name])))"
   ]
  },
  {
   "cell_type": "markdown",
   "metadata": {},
   "source": [
    "test homoscedasticity (Homogeneity of Variance)"
   ]
  },
  {
   "cell_type": "code",
   "execution_count": null,
   "metadata": {},
   "outputs": [],
   "source": [
    "stats.levene(merged.S_unique_TF_count[merged.gene_type == names[0]], \n",
    "               merged.S_unique_TF_count[merged.gene_type == names[1]], \n",
    "               merged.S_unique_TF_count[merged.gene_type == names[2]])"
   ]
  },
  {
   "cell_type": "code",
   "execution_count": null,
   "metadata": {},
   "outputs": [],
   "source": [
    "#fail to reject null hypothesis that variances are equal"
   ]
  },
  {
   "cell_type": "code",
   "execution_count": null,
   "metadata": {},
   "outputs": [],
   "source": [
    "#mann-whitney test"
   ]
  },
  {
   "cell_type": "code",
   "execution_count": null,
   "metadata": {},
   "outputs": [],
   "source": [
    "#variable vs housekeeping\n",
    "stats.mannwhitneyu(merged.S_unique_TF_count[merged.gene_type == names[1]], \n",
    "               merged.S_unique_TF_count[merged.gene_type == names[2]])"
   ]
  },
  {
   "cell_type": "markdown",
   "metadata": {},
   "source": [
    "## Analyse raw TFBS counts within promoters"
   ]
  },
  {
   "cell_type": "code",
   "execution_count": null,
   "metadata": {},
   "outputs": [],
   "source": [
    "plot = sns.catplot(x=\"gene_type\", y=\"raw_TF_count\", data=merged, kind='violin')\n",
    "#plot points\n",
    "ax = sns.swarmplot(x=\"gene_type\", y=\"raw_TF_count\", data=merged, color=\".25\").get_figure().savefig('../../data/plots/TF_diversity/responsive_TF_raw_count.pdf', format='pdf')"
   ]
  },
  {
   "cell_type": "code",
   "execution_count": null,
   "metadata": {},
   "outputs": [],
   "source": [
    "#variable vs housekeeping\n",
    "stats.mannwhitneyu(merged.raw_TF_count[merged.gene_type == names[1]], \n",
    "               merged.raw_TF_count[merged.gene_type == names[2]])"
   ]
  }
 ],
 "metadata": {
  "kernelspec": {
   "display_name": "Python [conda env:PromoterArchitecturePipeline] *",
   "language": "python",
   "name": "conda-env-PromoterArchitecturePipeline-py"
  },
  "language_info": {
   "codemirror_mode": {
    "name": "ipython",
    "version": 3
   },
   "file_extension": ".py",
   "mimetype": "text/x-python",
   "name": "python",
   "nbconvert_exporter": "python",
   "pygments_lexer": "ipython3",
   "version": "3.6.7"
  }
 },
 "nbformat": 4,
 "nbformat_minor": 4
}
