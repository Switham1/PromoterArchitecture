{
 "cells": [
  {
   "cell_type": "code",
   "execution_count": 15,
   "metadata": {},
   "outputs": [],
   "source": [
    "import pandas as pd\n",
    "import numpy as np\n",
    "import seaborn as sns\n",
    "import matplotlib.pyplot as plt\n",
    "from scipy import stats\n",
    "from statsmodels.formula.api import ols\n",
    "import researchpy as rp\n",
    "import os"
   ]
  },
  {
   "cell_type": "markdown",
   "metadata": {},
   "source": [
    "#### read in TFBS_bp_covered file"
   ]
  },
  {
   "cell_type": "code",
   "execution_count": 16,
   "metadata": {},
   "outputs": [],
   "source": [
    "location = '../../data/output/non-overlapping_includingbidirectional_all_genes_newannotation'"
   ]
  },
  {
   "cell_type": "code",
   "execution_count": 17,
   "metadata": {},
   "outputs": [
    {
     "name": "stdout",
     "output_type": "stream",
     "text": [
      "Directory  ../../data/output/non-overlapping_includingbidirectional_all_genes_newannotation/TFBS_coverage/plots  created\n"
     ]
    }
   ],
   "source": [
    "#make directory for the plots to be exported to\n",
    "dirName = f'{location}/TFBS_coverage/plots'\n",
    "try:\n",
    "    # Create target Directory\n",
    "    os.mkdir(dirName)\n",
    "    print(\"Directory \" , dirName ,  \" created\") \n",
    "except FileExistsError:\n",
    "    print(\"Directory \" , dirName ,  \" already exists\")"
   ]
  },
  {
   "cell_type": "code",
   "execution_count": 18,
   "metadata": {},
   "outputs": [],
   "source": [
    "#bp_covered = '../../data/promoter_analysis/promoters.bp_covered.txt'\n",
    "bp_covered = f'{location}/TFBS_coverage/promoters_5UTR.bp_covered.txt'"
   ]
  },
  {
   "cell_type": "code",
   "execution_count": 19,
   "metadata": {},
   "outputs": [],
   "source": [
    "coverage_df = pd.read_table(bp_covered, sep='\\t', header=None)\n",
    "col = ['chr','start','stop','gene','dot','strand','source', 'type', 'dot2', 'details', 'no._of_overlaps', 'no._of_bases_covered','promoter_length','fraction_bases_covered']\n",
    "coverage_df.columns = col\n",
    "#add % bases covered column\n",
    "coverage_df['percentage_bases_covered'] = coverage_df.fraction_bases_covered * 100\n",
    "\n",
    "#remove unnecessary columns\n",
    "coverage_df_reduced_columns = coverage_df[['chr','start','stop','gene','strand', 'no._of_overlaps', 'no._of_bases_covered','promoter_length','fraction_bases_covered','percentage_bases_covered']]\n"
   ]
  },
  {
   "cell_type": "code",
   "execution_count": 20,
   "metadata": {},
   "outputs": [
    {
     "data": {
      "text/html": [
       "<div>\n",
       "<style scoped>\n",
       "    .dataframe tbody tr th:only-of-type {\n",
       "        vertical-align: middle;\n",
       "    }\n",
       "\n",
       "    .dataframe tbody tr th {\n",
       "        vertical-align: top;\n",
       "    }\n",
       "\n",
       "    .dataframe thead th {\n",
       "        text-align: right;\n",
       "    }\n",
       "</style>\n",
       "<table border=\"1\" class=\"dataframe\">\n",
       "  <thead>\n",
       "    <tr style=\"text-align: right;\">\n",
       "      <th></th>\n",
       "      <th>chr</th>\n",
       "      <th>start</th>\n",
       "      <th>stop</th>\n",
       "      <th>gene</th>\n",
       "      <th>strand</th>\n",
       "      <th>no._of_overlaps</th>\n",
       "      <th>no._of_bases_covered</th>\n",
       "      <th>promoter_length</th>\n",
       "      <th>fraction_bases_covered</th>\n",
       "      <th>percentage_bases_covered</th>\n",
       "    </tr>\n",
       "  </thead>\n",
       "  <tbody>\n",
       "    <tr>\n",
       "      <th>0</th>\n",
       "      <td>1</td>\n",
       "      <td>22120</td>\n",
       "      <td>23518</td>\n",
       "      <td>AT1G01040</td>\n",
       "      <td>+</td>\n",
       "      <td>121</td>\n",
       "      <td>305</td>\n",
       "      <td>1398</td>\n",
       "      <td>0.218169</td>\n",
       "      <td>21.81688</td>\n",
       "    </tr>\n",
       "    <tr>\n",
       "      <th>1</th>\n",
       "      <td>1</td>\n",
       "      <td>32670</td>\n",
       "      <td>34171</td>\n",
       "      <td>AT1G01050</td>\n",
       "      <td>-</td>\n",
       "      <td>32</td>\n",
       "      <td>205</td>\n",
       "      <td>1501</td>\n",
       "      <td>0.136576</td>\n",
       "      <td>13.65756</td>\n",
       "    </tr>\n",
       "    <tr>\n",
       "      <th>2</th>\n",
       "      <td>1</td>\n",
       "      <td>37061</td>\n",
       "      <td>38443</td>\n",
       "      <td>AT1G01060</td>\n",
       "      <td>-</td>\n",
       "      <td>121</td>\n",
       "      <td>227</td>\n",
       "      <td>1382</td>\n",
       "      <td>0.164255</td>\n",
       "      <td>16.42547</td>\n",
       "    </tr>\n",
       "    <tr>\n",
       "      <th>3</th>\n",
       "      <td>1</td>\n",
       "      <td>40877</td>\n",
       "      <td>42017</td>\n",
       "      <td>AT1G01070</td>\n",
       "      <td>-</td>\n",
       "      <td>55</td>\n",
       "      <td>169</td>\n",
       "      <td>1140</td>\n",
       "      <td>0.148246</td>\n",
       "      <td>14.82456</td>\n",
       "    </tr>\n",
       "    <tr>\n",
       "      <th>4</th>\n",
       "      <td>1</td>\n",
       "      <td>46789</td>\n",
       "      <td>47233</td>\n",
       "      <td>AT1G01080</td>\n",
       "      <td>-</td>\n",
       "      <td>18</td>\n",
       "      <td>107</td>\n",
       "      <td>444</td>\n",
       "      <td>0.240991</td>\n",
       "      <td>24.09910</td>\n",
       "    </tr>\n",
       "    <tr>\n",
       "      <th>...</th>\n",
       "      <td>...</td>\n",
       "      <td>...</td>\n",
       "      <td>...</td>\n",
       "      <td>...</td>\n",
       "      <td>...</td>\n",
       "      <td>...</td>\n",
       "      <td>...</td>\n",
       "      <td>...</td>\n",
       "      <td>...</td>\n",
       "      <td>...</td>\n",
       "    </tr>\n",
       "    <tr>\n",
       "      <th>26885</th>\n",
       "      <td>5</td>\n",
       "      <td>26957774</td>\n",
       "      <td>26958072</td>\n",
       "      <td>AT5G67590</td>\n",
       "      <td>+</td>\n",
       "      <td>19</td>\n",
       "      <td>32</td>\n",
       "      <td>298</td>\n",
       "      <td>0.107383</td>\n",
       "      <td>10.73826</td>\n",
       "    </tr>\n",
       "    <tr>\n",
       "      <th>26886</th>\n",
       "      <td>5</td>\n",
       "      <td>26960226</td>\n",
       "      <td>26960903</td>\n",
       "      <td>AT5G67600</td>\n",
       "      <td>-</td>\n",
       "      <td>43</td>\n",
       "      <td>97</td>\n",
       "      <td>677</td>\n",
       "      <td>0.143279</td>\n",
       "      <td>14.32792</td>\n",
       "    </tr>\n",
       "    <tr>\n",
       "      <th>26887</th>\n",
       "      <td>5</td>\n",
       "      <td>26963614</td>\n",
       "      <td>26964550</td>\n",
       "      <td>AT5G67610</td>\n",
       "      <td>-</td>\n",
       "      <td>6</td>\n",
       "      <td>52</td>\n",
       "      <td>936</td>\n",
       "      <td>0.055556</td>\n",
       "      <td>5.55556</td>\n",
       "    </tr>\n",
       "    <tr>\n",
       "      <th>26888</th>\n",
       "      <td>5</td>\n",
       "      <td>26965720</td>\n",
       "      <td>26967010</td>\n",
       "      <td>AT5G67620</td>\n",
       "      <td>-</td>\n",
       "      <td>172</td>\n",
       "      <td>244</td>\n",
       "      <td>1290</td>\n",
       "      <td>0.189147</td>\n",
       "      <td>18.91473</td>\n",
       "    </tr>\n",
       "    <tr>\n",
       "      <th>26889</th>\n",
       "      <td>5</td>\n",
       "      <td>26969306</td>\n",
       "      <td>26969515</td>\n",
       "      <td>AT5G67630</td>\n",
       "      <td>-</td>\n",
       "      <td>36</td>\n",
       "      <td>80</td>\n",
       "      <td>209</td>\n",
       "      <td>0.382775</td>\n",
       "      <td>38.27751</td>\n",
       "    </tr>\n",
       "  </tbody>\n",
       "</table>\n",
       "<p>26890 rows × 10 columns</p>\n",
       "</div>"
      ],
      "text/plain": [
       "       chr     start      stop       gene strand  no._of_overlaps  \\\n",
       "0        1     22120     23518  AT1G01040      +              121   \n",
       "1        1     32670     34171  AT1G01050      -               32   \n",
       "2        1     37061     38443  AT1G01060      -              121   \n",
       "3        1     40877     42017  AT1G01070      -               55   \n",
       "4        1     46789     47233  AT1G01080      -               18   \n",
       "...    ...       ...       ...        ...    ...              ...   \n",
       "26885    5  26957774  26958072  AT5G67590      +               19   \n",
       "26886    5  26960226  26960903  AT5G67600      -               43   \n",
       "26887    5  26963614  26964550  AT5G67610      -                6   \n",
       "26888    5  26965720  26967010  AT5G67620      -              172   \n",
       "26889    5  26969306  26969515  AT5G67630      -               36   \n",
       "\n",
       "       no._of_bases_covered  promoter_length  fraction_bases_covered  \\\n",
       "0                       305             1398                0.218169   \n",
       "1                       205             1501                0.136576   \n",
       "2                       227             1382                0.164255   \n",
       "3                       169             1140                0.148246   \n",
       "4                       107              444                0.240991   \n",
       "...                     ...              ...                     ...   \n",
       "26885                    32              298                0.107383   \n",
       "26886                    97              677                0.143279   \n",
       "26887                    52              936                0.055556   \n",
       "26888                   244             1290                0.189147   \n",
       "26889                    80              209                0.382775   \n",
       "\n",
       "       percentage_bases_covered  \n",
       "0                      21.81688  \n",
       "1                      13.65756  \n",
       "2                      16.42547  \n",
       "3                      14.82456  \n",
       "4                      24.09910  \n",
       "...                         ...  \n",
       "26885                  10.73826  \n",
       "26886                  14.32792  \n",
       "26887                   5.55556  \n",
       "26888                  18.91473  \n",
       "26889                  38.27751  \n",
       "\n",
       "[26890 rows x 10 columns]"
      ]
     },
     "execution_count": 20,
     "metadata": {},
     "output_type": "execute_result"
    }
   ],
   "source": [
    "coverage_df_reduced_columns"
   ]
  },
  {
   "cell_type": "code",
   "execution_count": 21,
   "metadata": {},
   "outputs": [],
   "source": [
    "#allow colour codes in seaborn\n",
    "sns.set(color_codes=True)\n",
    "sns.set_style(\"whitegrid\")"
   ]
  },
  {
   "cell_type": "markdown",
   "metadata": {},
   "source": [
    "#### Make distribution plot of all gene promoters"
   ]
  },
  {
   "cell_type": "code",
   "execution_count": 22,
   "metadata": {},
   "outputs": [
    {
     "data": {
      "image/png": "[encoded data removed]",
      "text/plain": [
       "<Figure size 432x288 with 1 Axes>"
      ]
     },
     "metadata": {},
     "output_type": "display_data"
    }
   ],
   "source": [
    "dist_plot = coverage_df_reduced_columns['percentage_bases_covered']\n",
    "#create figure with no transparency\n",
    "dist_plot_fig = sns.distplot(dist_plot).get_figure()\n",
    "\n",
    "#save to file\n",
    "dist_plot_fig.savefig(f'{location}/TFBS_coverage/plots/bp_covered_dist.pdf', format='pdf')\n"
   ]
  },
  {
   "cell_type": "markdown",
   "metadata": {},
   "source": [
    "### constitutive vs responsive genes"
   ]
  },
  {
   "cell_type": "code",
   "execution_count": 7,
   "metadata": {},
   "outputs": [],
   "source": [
    "responsive_bp_covered = '../../data/promoter_analysis/responsivepromoters.bp_covered.txt'"
   ]
  },
  {
   "cell_type": "code",
   "execution_count": 8,
   "metadata": {},
   "outputs": [],
   "source": [
    "coverage_df2 = pd.read_table(responsive_bp_covered, sep='\\t', header=None)\n",
    "col = ['chr','start','stop','gene','dot','strand','source', 'type', 'dot2', 'details', 'no._of_overlaps', 'no._of_bases_covered','promoter_length','fraction_bases_covered']\n",
    "coverage_df2.columns = col\n",
    "#add % bases covered column\n",
    "coverage_df2['percentage_bases_covered'] = coverage_df2.fraction_bases_covered * 100\n",
    "\n",
    "#remove unnecessary columns\n",
    "coverage_df2_reduced_columns = coverage_df2[['chr','start','stop','gene','strand', 'no._of_overlaps', 'no._of_bases_covered','promoter_length','fraction_bases_covered','percentage_bases_covered']]"
   ]
  },
  {
   "cell_type": "markdown",
   "metadata": {},
   "source": [
    "#### add promoter type column"
   ]
  },
  {
   "cell_type": "code",
   "execution_count": 9,
   "metadata": {},
   "outputs": [],
   "source": [
    "select_genes_file = '../../data/genomes/ara_housekeeping_list.out'\n",
    "select_genes = pd.read_table(select_genes_file, sep='\\t', header=None)\n",
    "cols = ['gene','gene_type']\n",
    "select_genes.columns = cols\n",
    "merged = pd.merge(coverage_df2_reduced_columns, select_genes, on='gene' )"
   ]
  },
  {
   "cell_type": "code",
   "execution_count": 10,
   "metadata": {},
   "outputs": [
    {
     "data": {
      "text/html": [
       "<div>\n",
       "<style scoped>\n",
       "    .dataframe tbody tr th:only-of-type {\n",
       "        vertical-align: middle;\n",
       "    }\n",
       "\n",
       "    .dataframe tbody tr th {\n",
       "        vertical-align: top;\n",
       "    }\n",
       "\n",
       "    .dataframe thead th {\n",
       "        text-align: right;\n",
       "    }\n",
       "</style>\n",
       "<table border=\"1\" class=\"dataframe\">\n",
       "  <thead>\n",
       "    <tr style=\"text-align: right;\">\n",
       "      <th></th>\n",
       "      <th>chr</th>\n",
       "      <th>start</th>\n",
       "      <th>stop</th>\n",
       "      <th>gene</th>\n",
       "      <th>strand</th>\n",
       "      <th>no._of_overlaps</th>\n",
       "      <th>no._of_bases_covered</th>\n",
       "      <th>promoter_length</th>\n",
       "      <th>fraction_bases_covered</th>\n",
       "      <th>percentage_bases_covered</th>\n",
       "      <th>gene_type</th>\n",
       "    </tr>\n",
       "  </thead>\n",
       "  <tbody>\n",
       "    <tr>\n",
       "      <th>0</th>\n",
       "      <td>1</td>\n",
       "      <td>33171</td>\n",
       "      <td>34171</td>\n",
       "      <td>AT1G01050</td>\n",
       "      <td>-</td>\n",
       "      <td>7</td>\n",
       "      <td>73</td>\n",
       "      <td>1000</td>\n",
       "      <td>0.073</td>\n",
       "      <td>7.3</td>\n",
       "      <td>randCont</td>\n",
       "    </tr>\n",
       "    <tr>\n",
       "      <th>1</th>\n",
       "      <td>1</td>\n",
       "      <td>281760</td>\n",
       "      <td>282760</td>\n",
       "      <td>AT1G01780</td>\n",
       "      <td>+</td>\n",
       "      <td>119</td>\n",
       "      <td>154</td>\n",
       "      <td>1000</td>\n",
       "      <td>0.154</td>\n",
       "      <td>15.4</td>\n",
       "      <td>highVar</td>\n",
       "    </tr>\n",
       "    <tr>\n",
       "      <th>2</th>\n",
       "      <td>1</td>\n",
       "      <td>316090</td>\n",
       "      <td>317090</td>\n",
       "      <td>AT1G01910</td>\n",
       "      <td>-</td>\n",
       "      <td>25</td>\n",
       "      <td>122</td>\n",
       "      <td>1000</td>\n",
       "      <td>0.122</td>\n",
       "      <td>12.2</td>\n",
       "      <td>housekeeping</td>\n",
       "    </tr>\n",
       "    <tr>\n",
       "      <th>3</th>\n",
       "      <td>1</td>\n",
       "      <td>344515</td>\n",
       "      <td>345515</td>\n",
       "      <td>AT1G02000</td>\n",
       "      <td>+</td>\n",
       "      <td>8</td>\n",
       "      <td>90</td>\n",
       "      <td>1000</td>\n",
       "      <td>0.090</td>\n",
       "      <td>9.0</td>\n",
       "      <td>highVar</td>\n",
       "    </tr>\n",
       "    <tr>\n",
       "      <th>4</th>\n",
       "      <td>1</td>\n",
       "      <td>728829</td>\n",
       "      <td>729829</td>\n",
       "      <td>AT1G03070</td>\n",
       "      <td>+</td>\n",
       "      <td>101</td>\n",
       "      <td>121</td>\n",
       "      <td>1000</td>\n",
       "      <td>0.121</td>\n",
       "      <td>12.1</td>\n",
       "      <td>highVar</td>\n",
       "    </tr>\n",
       "    <tr>\n",
       "      <th>...</th>\n",
       "      <td>...</td>\n",
       "      <td>...</td>\n",
       "      <td>...</td>\n",
       "      <td>...</td>\n",
       "      <td>...</td>\n",
       "      <td>...</td>\n",
       "      <td>...</td>\n",
       "      <td>...</td>\n",
       "      <td>...</td>\n",
       "      <td>...</td>\n",
       "      <td>...</td>\n",
       "    </tr>\n",
       "    <tr>\n",
       "      <th>401</th>\n",
       "      <td>5</td>\n",
       "      <td>26120581</td>\n",
       "      <td>26121581</td>\n",
       "      <td>AT5G65360</td>\n",
       "      <td>-</td>\n",
       "      <td>8</td>\n",
       "      <td>82</td>\n",
       "      <td>1000</td>\n",
       "      <td>0.082</td>\n",
       "      <td>8.2</td>\n",
       "      <td>randCont</td>\n",
       "    </tr>\n",
       "    <tr>\n",
       "      <th>402</th>\n",
       "      <td>5</td>\n",
       "      <td>26171008</td>\n",
       "      <td>26172008</td>\n",
       "      <td>AT5G65470</td>\n",
       "      <td>+</td>\n",
       "      <td>6</td>\n",
       "      <td>71</td>\n",
       "      <td>1000</td>\n",
       "      <td>0.071</td>\n",
       "      <td>7.1</td>\n",
       "      <td>randCont</td>\n",
       "    </tr>\n",
       "    <tr>\n",
       "      <th>403</th>\n",
       "      <td>5</td>\n",
       "      <td>26467531</td>\n",
       "      <td>26468531</td>\n",
       "      <td>AT5G66250</td>\n",
       "      <td>+</td>\n",
       "      <td>1</td>\n",
       "      <td>14</td>\n",
       "      <td>1000</td>\n",
       "      <td>0.014</td>\n",
       "      <td>1.4</td>\n",
       "      <td>randCont</td>\n",
       "    </tr>\n",
       "    <tr>\n",
       "      <th>404</th>\n",
       "      <td>5</td>\n",
       "      <td>26817948</td>\n",
       "      <td>26818948</td>\n",
       "      <td>AT5G67210</td>\n",
       "      <td>+</td>\n",
       "      <td>20</td>\n",
       "      <td>161</td>\n",
       "      <td>1000</td>\n",
       "      <td>0.161</td>\n",
       "      <td>16.1</td>\n",
       "      <td>highVar</td>\n",
       "    </tr>\n",
       "    <tr>\n",
       "      <th>405</th>\n",
       "      <td>5</td>\n",
       "      <td>26956914</td>\n",
       "      <td>26957914</td>\n",
       "      <td>AT5G67590</td>\n",
       "      <td>+</td>\n",
       "      <td>24</td>\n",
       "      <td>127</td>\n",
       "      <td>1000</td>\n",
       "      <td>0.127</td>\n",
       "      <td>12.7</td>\n",
       "      <td>randCont</td>\n",
       "    </tr>\n",
       "  </tbody>\n",
       "</table>\n",
       "<p>406 rows × 11 columns</p>\n",
       "</div>"
      ],
      "text/plain": [
       "     chr     start      stop       gene strand  no._of_overlaps  \\\n",
       "0      1     33171     34171  AT1G01050      -                7   \n",
       "1      1    281760    282760  AT1G01780      +              119   \n",
       "2      1    316090    317090  AT1G01910      -               25   \n",
       "3      1    344515    345515  AT1G02000      +                8   \n",
       "4      1    728829    729829  AT1G03070      +              101   \n",
       "..   ...       ...       ...        ...    ...              ...   \n",
       "401    5  26120581  26121581  AT5G65360      -                8   \n",
       "402    5  26171008  26172008  AT5G65470      +                6   \n",
       "403    5  26467531  26468531  AT5G66250      +                1   \n",
       "404    5  26817948  26818948  AT5G67210      +               20   \n",
       "405    5  26956914  26957914  AT5G67590      +               24   \n",
       "\n",
       "     no._of_bases_covered  promoter_length  fraction_bases_covered  \\\n",
       "0                      73             1000                   0.073   \n",
       "1                     154             1000                   0.154   \n",
       "2                     122             1000                   0.122   \n",
       "3                      90             1000                   0.090   \n",
       "4                     121             1000                   0.121   \n",
       "..                    ...              ...                     ...   \n",
       "401                    82             1000                   0.082   \n",
       "402                    71             1000                   0.071   \n",
       "403                    14             1000                   0.014   \n",
       "404                   161             1000                   0.161   \n",
       "405                   127             1000                   0.127   \n",
       "\n",
       "     percentage_bases_covered     gene_type  \n",
       "0                         7.3      randCont  \n",
       "1                        15.4       highVar  \n",
       "2                        12.2  housekeeping  \n",
       "3                         9.0       highVar  \n",
       "4                        12.1       highVar  \n",
       "..                        ...           ...  \n",
       "401                       8.2      randCont  \n",
       "402                       7.1      randCont  \n",
       "403                       1.4      randCont  \n",
       "404                      16.1       highVar  \n",
       "405                      12.7      randCont  \n",
       "\n",
       "[406 rows x 11 columns]"
      ]
     },
     "execution_count": 10,
     "metadata": {},
     "output_type": "execute_result"
    }
   ],
   "source": [
    "merged"
   ]
  },
  {
   "cell_type": "markdown",
   "metadata": {},
   "source": [
    "#### scatterplots"
   ]
  },
  {
   "cell_type": "code",
   "execution_count": 14,
   "metadata": {},
   "outputs": [],
   "source": [
    "merged_renamed = merged.copy()\n",
    "merged_renamed.gene_type.replace('housekeeping','constitutive', inplace=True)\n",
    "merged_renamed.gene_type.replace('highVar','variable', inplace=True)\n",
    "merged_renamed.gene_type.replace('randCont','random', inplace=True)\n",
    "no_random = merged_renamed[merged_renamed.gene_type != 'random']"
   ]
  },
  {
   "cell_type": "code",
   "execution_count": 15,
   "metadata": {},
   "outputs": [],
   "source": [
    "#set style to ticks\n",
    "sns.set(style=\"ticks\", color_codes=True)"
   ]
  },
  {
   "cell_type": "code",
   "execution_count": 16,
   "metadata": {},
   "outputs": [
    {
     "data": {
      "image/png": "[encoded data removed]",
      "text/plain": [
       "<Figure size 360x360 with 1 Axes>"
      ]
     },
     "metadata": {},
     "output_type": "display_data"
    }
   ],
   "source": [
    "sns.catplot(x=\"gene_type\", y=\"percentage_bases_covered\", data=merged_renamed).savefig('../../data/plots/TFBS_coverage/responsive_bp_covered.pdf', format='pdf')\n"
   ]
  },
  {
   "cell_type": "markdown",
   "metadata": {},
   "source": [
    "##### it looks like there is no difference!"
   ]
  },
  {
   "cell_type": "markdown",
   "metadata": {},
   "source": [
    "#### boxplot"
   ]
  },
  {
   "cell_type": "code",
   "execution_count": 22,
   "metadata": {},
   "outputs": [
    {
     "data": {
      "image/png": "[encoded data removed]",
      "text/plain": [
       "<Figure size 360x360 with 1 Axes>"
      ]
     },
     "metadata": {},
     "output_type": "display_data"
    }
   ],
   "source": [
    "plot = sns.catplot(x=\"gene_type\", y=\"percentage_bases_covered\", kind='box', data=no_random)\n",
    "#plot points\n",
    "ax = sns.swarmplot(x=\"gene_type\", y=\"percentage_bases_covered\", data=no_random, color=\".25\")\n",
    "plt.ylabel('Percentage bases covered')\n",
    "plt.xlabel('Gene type')\n",
    "ax.get_figure().savefig('../../data/plots/TFBS_coverage/responsive_bp_covered_boxplot.pdf', format='pdf')"
   ]
  },
  {
   "cell_type": "markdown",
   "metadata": {},
   "source": [
    "#### violin plot"
   ]
  },
  {
   "cell_type": "code",
   "execution_count": 20,
   "metadata": {},
   "outputs": [
    {
     "data": {
      "image/png": "[encoded data removed]",
      "text/plain": [
       "<Figure size 360x360 with 1 Axes>"
      ]
     },
     "metadata": {},
     "output_type": "display_data"
    }
   ],
   "source": [
    "sns.catplot(x=\"gene_type\", y=\"percentage_bases_covered\", kind='violin', data=merged_renamed).savefig('../../data/plots/TFBS_coverage/responsive_bp_covered_violinplot.pdf', format='pdf')\n"
   ]
  },
  {
   "cell_type": "markdown",
   "metadata": {},
   "source": [
    "### stats"
   ]
  },
  {
   "cell_type": "markdown",
   "metadata": {},
   "source": [
    "###group_by gene type"
   ]
  },
  {
   "cell_type": "code",
   "execution_count": 16,
   "metadata": {},
   "outputs": [
    {
     "name": "stdout",
     "output_type": "stream",
     "text": [
      "('highVar', 11.82)\n",
      "('housekeeping', 12.235999999999999)\n",
      "('randCont', 11.683980582524272)\n"
     ]
    }
   ],
   "source": [
    "groupby_genetype = merged.groupby('gene_type')\n",
    "for type, value in groupby_genetype['percentage_bases_covered']:\n",
    "    print((type, value.mean()))"
   ]
  },
  {
   "cell_type": "code",
   "execution_count": 17,
   "metadata": {},
   "outputs": [
    {
     "data": {
      "text/html": [
       "<div>\n",
       "<style scoped>\n",
       "    .dataframe tbody tr th:only-of-type {\n",
       "        vertical-align: middle;\n",
       "    }\n",
       "\n",
       "    .dataframe tbody tr th {\n",
       "        vertical-align: top;\n",
       "    }\n",
       "\n",
       "    .dataframe thead th {\n",
       "        text-align: right;\n",
       "    }\n",
       "</style>\n",
       "<table border=\"1\" class=\"dataframe\">\n",
       "  <thead>\n",
       "    <tr style=\"text-align: right;\">\n",
       "      <th></th>\n",
       "      <th>chr</th>\n",
       "      <th>start</th>\n",
       "      <th>stop</th>\n",
       "      <th>no._of_overlaps</th>\n",
       "      <th>no._of_bases_covered</th>\n",
       "      <th>promoter_length</th>\n",
       "      <th>fraction_bases_covered</th>\n",
       "      <th>percentage_bases_covered</th>\n",
       "    </tr>\n",
       "    <tr>\n",
       "      <th>gene_type</th>\n",
       "      <th></th>\n",
       "      <th></th>\n",
       "      <th></th>\n",
       "      <th></th>\n",
       "      <th></th>\n",
       "      <th></th>\n",
       "      <th></th>\n",
       "      <th></th>\n",
       "    </tr>\n",
       "  </thead>\n",
       "  <tbody>\n",
       "    <tr>\n",
       "      <th>highVar</th>\n",
       "      <td>3.000000</td>\n",
       "      <td>1.133520e+07</td>\n",
       "      <td>1.133620e+07</td>\n",
       "      <td>37.710000</td>\n",
       "      <td>118.200000</td>\n",
       "      <td>1000.0</td>\n",
       "      <td>0.11820</td>\n",
       "      <td>11.820000</td>\n",
       "    </tr>\n",
       "    <tr>\n",
       "      <th>housekeeping</th>\n",
       "      <td>2.790000</td>\n",
       "      <td>1.278677e+07</td>\n",
       "      <td>1.278777e+07</td>\n",
       "      <td>35.900000</td>\n",
       "      <td>122.360000</td>\n",
       "      <td>1000.0</td>\n",
       "      <td>0.12236</td>\n",
       "      <td>12.236000</td>\n",
       "    </tr>\n",
       "    <tr>\n",
       "      <th>randCont</th>\n",
       "      <td>2.907767</td>\n",
       "      <td>1.255818e+07</td>\n",
       "      <td>1.255918e+07</td>\n",
       "      <td>43.184466</td>\n",
       "      <td>116.839806</td>\n",
       "      <td>1000.0</td>\n",
       "      <td>0.11684</td>\n",
       "      <td>11.683981</td>\n",
       "    </tr>\n",
       "  </tbody>\n",
       "</table>\n",
       "</div>"
      ],
      "text/plain": [
       "                   chr         start          stop  no._of_overlaps  \\\n",
       "gene_type                                                             \n",
       "highVar       3.000000  1.133520e+07  1.133620e+07        37.710000   \n",
       "housekeeping  2.790000  1.278677e+07  1.278777e+07        35.900000   \n",
       "randCont      2.907767  1.255818e+07  1.255918e+07        43.184466   \n",
       "\n",
       "              no._of_bases_covered  promoter_length  fraction_bases_covered  \\\n",
       "gene_type                                                                     \n",
       "highVar                 118.200000           1000.0                 0.11820   \n",
       "housekeeping            122.360000           1000.0                 0.12236   \n",
       "randCont                116.839806           1000.0                 0.11684   \n",
       "\n",
       "              percentage_bases_covered  \n",
       "gene_type                               \n",
       "highVar                      11.820000  \n",
       "housekeeping                 12.236000  \n",
       "randCont                     11.683981  "
      ]
     },
     "execution_count": 17,
     "metadata": {},
     "output_type": "execute_result"
    }
   ],
   "source": [
    "groupby_genetype.mean()"
   ]
  },
  {
   "cell_type": "markdown",
   "metadata": {},
   "source": [
    "#### normality test (based on D’Agostino and Pearson’s test)"
   ]
  },
  {
   "cell_type": "code",
   "execution_count": 18,
   "metadata": {},
   "outputs": [],
   "source": [
    "#stat, p = stats.normaltest(merged['percentage_bases_covered'])\n",
    "#print('Statistics%.3f, p=%.3f' % (stat, p))"
   ]
  },
  {
   "cell_type": "code",
   "execution_count": 19,
   "metadata": {},
   "outputs": [],
   "source": [
    "#alpha = 0.05\n",
    "# null hypothesis: x comes from a normal distributionprint\n",
    "#if p < alpha:\n",
    "   # print(\"The null hypothesis can be rejected\")\n",
    "#else:\n",
    "   # print(\"The null hypothesis cannot be rejected\")"
   ]
  },
  {
   "cell_type": "markdown",
   "metadata": {},
   "source": [
    "#### data is not normal"
   ]
  },
  {
   "cell_type": "markdown",
   "metadata": {},
   "source": [
    "Shapiro test on each promoter type:"
   ]
  },
  {
   "cell_type": "code",
   "execution_count": 20,
   "metadata": {},
   "outputs": [
    {
     "name": "stdout",
     "output_type": "stream",
     "text": [
      "randCont\n",
      "highVar\n",
      "housekeeping\n"
     ]
    }
   ],
   "source": [
    "#Get names of each promoter\n",
    "pd.Categorical(merged.gene_type)\n",
    "names = merged.gene_type.unique()\n",
    "for name in names:\n",
    "    print(name)"
   ]
  },
  {
   "cell_type": "code",
   "execution_count": 21,
   "metadata": {},
   "outputs": [
    {
     "name": "stdout",
     "output_type": "stream",
     "text": [
      "randCont: (0.9072531461715698, 4.875971293394343e-10)\n",
      "highVar: (0.9494914412498474, 0.0007681143470108509)\n",
      "housekeeping: (0.9271503686904907, 3.442267552600242e-05)\n"
     ]
    }
   ],
   "source": [
    "#Test normality\n",
    "#returns test statistic, p-value\n",
    "for name in names:\n",
    "    print('{}: {}'.format(name, stats.shapiro(merged.percentage_bases_covered[merged.gene_type == name])))"
   ]
  },
  {
   "cell_type": "markdown",
   "metadata": {},
   "source": [
    "### test variance"
   ]
  },
  {
   "cell_type": "code",
   "execution_count": 22,
   "metadata": {},
   "outputs": [],
   "source": [
    "#create linear model of gene type by %bases_covered\n",
    "model = ols('percentage_bases_covered ~ gene_type', merged).fit()"
   ]
  },
  {
   "cell_type": "code",
   "execution_count": 23,
   "metadata": {},
   "outputs": [
    {
     "name": "stdout",
     "output_type": "stream",
     "text": [
      "                               OLS Regression Results                               \n",
      "====================================================================================\n",
      "Dep. Variable:     percentage_bases_covered   R-squared:                       0.001\n",
      "Model:                                  OLS   Adj. R-squared:                 -0.004\n",
      "Method:                       Least Squares   F-statistic:                    0.2192\n",
      "Date:                      Wed, 11 Mar 2020   Prob (F-statistic):              0.803\n",
      "Time:                              10:40:00   Log-Likelihood:                -1356.8\n",
      "No. Observations:                       406   AIC:                             2720.\n",
      "Df Residuals:                           403   BIC:                             2732.\n",
      "Df Model:                                 2                                         \n",
      "Covariance Type:                  nonrobust                                         \n",
      "=============================================================================================\n",
      "                                coef    std err          t      P>|t|      [0.025      0.975]\n",
      "---------------------------------------------------------------------------------------------\n",
      "Intercept                    11.8200      0.687     17.216      0.000      10.470      13.170\n",
      "gene_type[T.housekeeping]     0.4160      0.971      0.428      0.669      -1.493       2.325\n",
      "gene_type[T.randCont]        -0.1360      0.837     -0.163      0.871      -1.781       1.509\n",
      "==============================================================================\n",
      "Omnibus:                      112.195   Durbin-Watson:                   1.922\n",
      "Prob(Omnibus):                  0.000   Jarque-Bera (JB):              321.469\n",
      "Skew:                           1.294   Prob(JB):                     1.56e-70\n",
      "Kurtosis:                       6.508   Cond. No.                         4.42\n",
      "==============================================================================\n",
      "\n",
      "Warnings:\n",
      "[1] Standard Errors assume that the covariance matrix of the errors is correctly specified.\n"
     ]
    }
   ],
   "source": [
    "#summary\n",
    "print(model.summary())"
   ]
  },
  {
   "cell_type": "code",
   "execution_count": null,
   "metadata": {},
   "outputs": [],
   "source": []
  },
  {
   "cell_type": "markdown",
   "metadata": {},
   "source": [
    "### descriptive stats"
   ]
  },
  {
   "cell_type": "code",
   "execution_count": 24,
   "metadata": {},
   "outputs": [
    {
     "data": {
      "text/html": [
       "<div>\n",
       "<style scoped>\n",
       "    .dataframe tbody tr th:only-of-type {\n",
       "        vertical-align: middle;\n",
       "    }\n",
       "\n",
       "    .dataframe tbody tr th {\n",
       "        vertical-align: top;\n",
       "    }\n",
       "\n",
       "    .dataframe thead th {\n",
       "        text-align: right;\n",
       "    }\n",
       "</style>\n",
       "<table border=\"1\" class=\"dataframe\">\n",
       "  <thead>\n",
       "    <tr style=\"text-align: right;\">\n",
       "      <th></th>\n",
       "      <th>count</th>\n",
       "      <th>mean</th>\n",
       "      <th>std</th>\n",
       "      <th>min</th>\n",
       "      <th>25%</th>\n",
       "      <th>50%</th>\n",
       "      <th>75%</th>\n",
       "      <th>max</th>\n",
       "    </tr>\n",
       "    <tr>\n",
       "      <th>gene_type</th>\n",
       "      <th></th>\n",
       "      <th></th>\n",
       "      <th></th>\n",
       "      <th></th>\n",
       "      <th></th>\n",
       "      <th></th>\n",
       "      <th></th>\n",
       "      <th></th>\n",
       "    </tr>\n",
       "  </thead>\n",
       "  <tbody>\n",
       "    <tr>\n",
       "      <th>highVar</th>\n",
       "      <td>100.0</td>\n",
       "      <td>11.820000</td>\n",
       "      <td>6.248766</td>\n",
       "      <td>0.0</td>\n",
       "      <td>6.575</td>\n",
       "      <td>9.7</td>\n",
       "      <td>16.35</td>\n",
       "      <td>32.6</td>\n",
       "    </tr>\n",
       "    <tr>\n",
       "      <th>housekeeping</th>\n",
       "      <td>100.0</td>\n",
       "      <td>12.236000</td>\n",
       "      <td>7.202153</td>\n",
       "      <td>0.0</td>\n",
       "      <td>7.200</td>\n",
       "      <td>11.5</td>\n",
       "      <td>15.15</td>\n",
       "      <td>40.9</td>\n",
       "    </tr>\n",
       "    <tr>\n",
       "      <th>randCont</th>\n",
       "      <td>206.0</td>\n",
       "      <td>11.683981</td>\n",
       "      <td>6.982905</td>\n",
       "      <td>0.0</td>\n",
       "      <td>7.100</td>\n",
       "      <td>10.6</td>\n",
       "      <td>15.15</td>\n",
       "      <td>47.9</td>\n",
       "    </tr>\n",
       "  </tbody>\n",
       "</table>\n",
       "</div>"
      ],
      "text/plain": [
       "              count       mean       std  min    25%   50%    75%   max\n",
       "gene_type                                                              \n",
       "highVar       100.0  11.820000  6.248766  0.0  6.575   9.7  16.35  32.6\n",
       "housekeeping  100.0  12.236000  7.202153  0.0  7.200  11.5  15.15  40.9\n",
       "randCont      206.0  11.683981  6.982905  0.0  7.100  10.6  15.15  47.9"
      ]
     },
     "execution_count": 24,
     "metadata": {},
     "output_type": "execute_result"
    }
   ],
   "source": [
    "merged.groupby(['gene_type'])['percentage_bases_covered'].describe()"
   ]
  },
  {
   "cell_type": "markdown",
   "metadata": {},
   "source": [
    "### make separate dfs based on gene_type"
   ]
  },
  {
   "cell_type": "code",
   "execution_count": 25,
   "metadata": {},
   "outputs": [],
   "source": [
    "constitutive = merged[merged.gene_type == 'housekeeping']\n",
    "#reset indexes so residuals can be calculated later\n",
    "constitutive.reset_index(inplace=True)\n",
    "\n",
    "responsive = merged[merged.gene_type == 'highVar']\n",
    "responsive.reset_index(inplace=True)\n",
    "\n",
    "control = merged[merged.gene_type == 'randCont']\n",
    "control.reset_index(inplace=True)"
   ]
  },
  {
   "cell_type": "code",
   "execution_count": 26,
   "metadata": {},
   "outputs": [],
   "source": [
    "#### test Homogeneity of variances"
   ]
  },
  {
   "cell_type": "code",
   "execution_count": 27,
   "metadata": {},
   "outputs": [
    {
     "name": "stdout",
     "output_type": "stream",
     "text": [
      "LeveneResult(statistic=0.10045933531478, pvalue=0.751613050777689)\n"
     ]
    }
   ],
   "source": [
    "print(stats.levene(constitutive.percentage_bases_covered, responsive.percentage_bases_covered))"
   ]
  },
  {
   "cell_type": "markdown",
   "metadata": {},
   "source": [
    "#### not significant meaning there is homogeneity of variances and we can proceed"
   ]
  },
  {
   "cell_type": "markdown",
   "metadata": {},
   "source": [
    "### Normal distribution of residuals"
   ]
  },
  {
   "cell_type": "markdown",
   "metadata": {},
   "source": [
    "##### The residuals needs to be normally distributed. To calculate the residuals between the groups, subtract the values of one group from the values of the other group."
   ]
  },
  {
   "cell_type": "code",
   "execution_count": 28,
   "metadata": {},
   "outputs": [],
   "source": [
    "diff = constitutive.percentage_bases_covered - responsive.percentage_bases_covered"
   ]
  },
  {
   "cell_type": "markdown",
   "metadata": {},
   "source": [
    "#### pplot"
   ]
  },
  {
   "cell_type": "code",
   "execution_count": 29,
   "metadata": {},
   "outputs": [
    {
     "data": {
      "image/png": "[encoded data removed]",
      "text/plain": [
       "<Figure size 432x288 with 1 Axes>"
      ]
     },
     "metadata": {},
     "output_type": "display_data"
    }
   ],
   "source": [
    "stats.probplot(diff, plot= plt);"
   ]
  },
  {
   "cell_type": "markdown",
   "metadata": {},
   "source": [
    "### histogram"
   ]
  },
  {
   "cell_type": "markdown",
   "metadata": {},
   "source": [
    "## normality of residuals"
   ]
  },
  {
   "cell_type": "code",
   "execution_count": 30,
   "metadata": {},
   "outputs": [],
   "source": [
    "W_test_stat, p_value = stats.shapiro(diff)"
   ]
  },
  {
   "cell_type": "code",
   "execution_count": 31,
   "metadata": {},
   "outputs": [
    {
     "data": {
      "text/plain": [
       "(0.992019772529602, 0.8226550221443176)"
      ]
     },
     "execution_count": 31,
     "metadata": {},
     "output_type": "execute_result"
    }
   ],
   "source": [
    "W_test_stat, p_value"
   ]
  },
  {
   "cell_type": "code",
   "execution_count": 32,
   "metadata": {},
   "outputs": [],
   "source": [
    "### not significant p_value so data is normally distributed"
   ]
  },
  {
   "cell_type": "code",
   "execution_count": 33,
   "metadata": {},
   "outputs": [
    {
     "name": "stdout",
     "output_type": "stream",
     "text": [
      "Statistics0.900, p=0.638\n"
     ]
    }
   ],
   "source": [
    "stat, p = stats.normaltest(diff)\n",
    "print('Statistics%.3f, p=%.3f' % (stat, p))"
   ]
  },
  {
   "cell_type": "code",
   "execution_count": 34,
   "metadata": {},
   "outputs": [
    {
     "name": "stdout",
     "output_type": "stream",
     "text": [
      "The null hypothesis cannot be rejected\n"
     ]
    }
   ],
   "source": [
    "alpha = 0.05\n",
    "# null hypothesis: x comes from a normal distributionprint\n",
    "if p < alpha:\n",
    "    print(\"The null hypothesis can be rejected\")\n",
    "else:\n",
    "    print(\"The null hypothesis cannot be rejected\")"
   ]
  },
  {
   "cell_type": "markdown",
   "metadata": {},
   "source": [
    "### not significant p_value so residuals are normally distributed"
   ]
  },
  {
   "cell_type": "markdown",
   "metadata": {},
   "source": [
    "## independent samples T-test - needs redoing with non-parametric test"
   ]
  },
  {
   "cell_type": "code",
   "execution_count": 35,
   "metadata": {},
   "outputs": [],
   "source": [
    "#stats.ttest_ind(constitutive.percentage_bases_covered, responsive.percentage_bases_covered)"
   ]
  },
  {
   "cell_type": "markdown",
   "metadata": {},
   "source": [
    "#### use researchpy to get degrees of freedom, the difference between the groups mean, and a measure of effect size"
   ]
  },
  {
   "cell_type": "code",
   "execution_count": 36,
   "metadata": {},
   "outputs": [],
   "source": [
    "#descriptives, results = rp.ttest(constitutive.percentage_bases_covered, responsive.percentage_bases_covered)\n",
    "#descriptives"
   ]
  },
  {
   "cell_type": "code",
   "execution_count": 37,
   "metadata": {},
   "outputs": [],
   "source": [
    "#results"
   ]
  },
  {
   "cell_type": "code",
   "execution_count": 38,
   "metadata": {},
   "outputs": [
    {
     "data": {
      "text/plain": [
       "LeveneResult(statistic=0.05549966805194884, pvalue=0.9460195669673873)"
      ]
     },
     "execution_count": 38,
     "metadata": {},
     "output_type": "execute_result"
    }
   ],
   "source": [
    "#Test Homogeneity of Variance \n",
    "stats.levene(merged.percentage_bases_covered[merged.gene_type == names[0]], \n",
    "               merged.percentage_bases_covered[merged.gene_type == names[1]], \n",
    "               merged.percentage_bases_covered[merged.gene_type == names[2]])"
   ]
  },
  {
   "cell_type": "code",
   "execution_count": 39,
   "metadata": {},
   "outputs": [
    {
     "data": {
      "text/plain": [
       "KruskalResult(statistic=0.3717078442574983, pvalue=0.8303948884401728)"
      ]
     },
     "execution_count": 39,
     "metadata": {},
     "output_type": "execute_result"
    }
   ],
   "source": [
    "#Kruskal-Wallis one way analysis of variance: scipy.stats.kruskal including random samples\n",
    "stats.kruskal(merged.percentage_bases_covered[merged.gene_type == names[0]], \n",
    "               merged.percentage_bases_covered[merged.gene_type == names[1]], \n",
    "               merged.percentage_bases_covered[merged.gene_type == names[2]])"
   ]
  },
  {
   "cell_type": "code",
   "execution_count": 40,
   "metadata": {},
   "outputs": [
    {
     "data": {
      "text/plain": [
       "MannwhitneyuResult(statistic=4895.0, pvalue=0.3992279691550435)"
      ]
     },
     "execution_count": 40,
     "metadata": {},
     "output_type": "execute_result"
    }
   ],
   "source": [
    "#variable vs housekeeping mannwhitney\n",
    "stats.mannwhitneyu(merged.percentage_bases_covered[merged.gene_type == names[1]], \n",
    "               merged.percentage_bases_covered[merged.gene_type == names[2]])"
   ]
  },
  {
   "cell_type": "markdown",
   "metadata": {},
   "source": [
    "## not significantly different"
   ]
  },
  {
   "cell_type": "markdown",
   "metadata": {},
   "source": [
    "# <b> include random sample"
   ]
  },
  {
   "cell_type": "markdown",
   "metadata": {},
   "source": [
    "#### get names of each promoter type for later"
   ]
  },
  {
   "cell_type": "code",
   "execution_count": 41,
   "metadata": {},
   "outputs": [
    {
     "data": {
      "text/plain": [
       "[randCont, highVar, housekeeping, highVar, highVar, ..., randCont, randCont, randCont, highVar, randCont]\n",
       "Length: 406\n",
       "Categories (3, object): [highVar, housekeeping, randCont]"
      ]
     },
     "execution_count": 41,
     "metadata": {},
     "output_type": "execute_result"
    }
   ],
   "source": [
    "pd.Categorical(merged.gene_type)"
   ]
  },
  {
   "cell_type": "code",
   "execution_count": 42,
   "metadata": {},
   "outputs": [],
   "source": [
    "names = merged.gene_type.unique()"
   ]
  },
  {
   "cell_type": "code",
   "execution_count": 43,
   "metadata": {},
   "outputs": [
    {
     "name": "stdout",
     "output_type": "stream",
     "text": [
      "chr                           int64\n",
      "start                         int64\n",
      "stop                          int64\n",
      "gene                         object\n",
      "strand                       object\n",
      "no._of_overlaps               int64\n",
      "no._of_bases_covered          int64\n",
      "promoter_length               int64\n",
      "fraction_bases_covered      float64\n",
      "percentage_bases_covered    float64\n",
      "gene_type                    object\n",
      "dtype: object\n"
     ]
    }
   ],
   "source": [
    "print(merged.dtypes)"
   ]
  },
  {
   "cell_type": "code",
   "execution_count": 44,
   "metadata": {},
   "outputs": [
    {
     "name": "stdout",
     "output_type": "stream",
     "text": [
      "randCont\n",
      "highVar\n",
      "housekeeping\n"
     ]
    }
   ],
   "source": [
    "for name in names:\n",
    "    print(name)"
   ]
  },
  {
   "cell_type": "markdown",
   "metadata": {},
   "source": [
    "#### tet normality"
   ]
  },
  {
   "cell_type": "code",
   "execution_count": 45,
   "metadata": {},
   "outputs": [
    {
     "name": "stdout",
     "output_type": "stream",
     "text": [
      "randCont: (0.9072531461715698, 4.875971293394343e-10)\n",
      "highVar: (0.9494914412498474, 0.0007681143470108509)\n",
      "housekeeping: (0.9271503686904907, 3.442267552600242e-05)\n"
     ]
    }
   ],
   "source": [
    "#returns test statistic, p-value\n",
    "for name in names:\n",
    "    print('{}: {}'.format(name, stats.shapiro(merged.percentage_bases_covered[merged.gene_type == name])))"
   ]
  },
  {
   "cell_type": "markdown",
   "metadata": {},
   "source": [
    "### normality rejected for highvar category\n",
    "\n"
   ]
  },
  {
   "cell_type": "markdown",
   "metadata": {},
   "source": [
    "### q-plots - constitutive"
   ]
  },
  {
   "cell_type": "code",
   "execution_count": 46,
   "metadata": {},
   "outputs": [
    {
     "data": {
      "image/png": "[encoded data removed]",
      "text/plain": [
       "<Figure size 432x288 with 1 Axes>"
      ]
     },
     "metadata": {},
     "output_type": "display_data"
    }
   ],
   "source": [
    "stats.probplot(constitutive.percentage_bases_covered, plot= plt);"
   ]
  },
  {
   "cell_type": "markdown",
   "metadata": {},
   "source": [
    "### q-plots - responsive"
   ]
  },
  {
   "cell_type": "code",
   "execution_count": 47,
   "metadata": {},
   "outputs": [
    {
     "data": {
      "image/png": "[encoded data removed]",
      "text/plain": [
       "<Figure size 432x288 with 1 Axes>"
      ]
     },
     "metadata": {},
     "output_type": "display_data"
    }
   ],
   "source": [
    "stats.probplot(responsive.percentage_bases_covered, plot= plt);"
   ]
  },
  {
   "cell_type": "markdown",
   "metadata": {},
   "source": [
    "### q-plots - random control"
   ]
  },
  {
   "cell_type": "code",
   "execution_count": 48,
   "metadata": {},
   "outputs": [
    {
     "data": {
      "image/png": "[encoded data removed]",
      "text/plain": [
       "<Figure size 432x288 with 1 Axes>"
      ]
     },
     "metadata": {},
     "output_type": "display_data"
    }
   ],
   "source": [
    "stats.probplot(control.percentage_bases_covered, plot= plt);"
   ]
  },
  {
   "cell_type": "markdown",
   "metadata": {},
   "source": [
    "## test homoscedasticity (Homogeneity of Variance)"
   ]
  },
  {
   "cell_type": "code",
   "execution_count": 49,
   "metadata": {},
   "outputs": [
    {
     "data": {
      "text/plain": [
       "LeveneResult(statistic=0.05549966805194884, pvalue=0.9460195669673873)"
      ]
     },
     "execution_count": 49,
     "metadata": {},
     "output_type": "execute_result"
    }
   ],
   "source": [
    "stats.levene(merged.percentage_bases_covered[merged.gene_type == names[0]], \n",
    "               merged.percentage_bases_covered[merged.gene_type == names[1]], \n",
    "               merged.percentage_bases_covered[merged.gene_type == names[2]])"
   ]
  },
  {
   "cell_type": "markdown",
   "metadata": {},
   "source": [
    "#### fail to reject null hypothesis that variances are equal"
   ]
  },
  {
   "cell_type": "markdown",
   "metadata": {},
   "source": []
  },
  {
   "cell_type": "code",
   "execution_count": null,
   "metadata": {},
   "outputs": [],
   "source": []
  }
 ],
 "metadata": {
  "kernelspec": {
   "display_name": "Python 3",
   "language": "python",
   "name": "python3"
  },
  "language_info": {
   "codemirror_mode": {
    "name": "ipython",
    "version": 3
   },
   "file_extension": ".py",
   "mimetype": "text/x-python",
   "name": "python",
   "nbconvert_exporter": "python",
   "pygments_lexer": "ipython3",
   "version": "3.7.6"
  }
 },
 "nbformat": 4,
 "nbformat_minor": 4
}
