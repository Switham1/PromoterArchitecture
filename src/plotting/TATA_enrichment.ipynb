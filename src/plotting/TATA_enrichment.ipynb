{
 "cells": [
  {
   "cell_type": "code",
   "execution_count": 203,
   "metadata": {},
   "outputs": [],
   "source": [
    "import pandas as pd\n",
    "import numpy as np"
   ]
  },
  {
   "cell_type": "code",
   "execution_count": 204,
   "metadata": {},
   "outputs": [],
   "source": [
    "#use only 100 random genes\n",
    "random_100 = '../../data/genes/random_100.csv'\n",
    "constitutive_variable = '../../data/genomes/ara_housekeeping_list.out'"
   ]
  },
  {
   "cell_type": "code",
   "execution_count": 205,
   "metadata": {},
   "outputs": [],
   "source": [
    "random_genes = pd.read_csv(random_100, header=0)\n",
    "promoters = pd.read_table(constitutive_variable, sep='\\t', header=None)\n",
    "cols2 = ['promoter_AGI', 'gene_type']\n",
    "promoters.columns = cols2"
   ]
  },
  {
   "cell_type": "code",
   "execution_count": 206,
   "metadata": {},
   "outputs": [],
   "source": [
    "random_genes = random_genes[['promoter_AGI','gene_type']]"
   ]
  },
  {
   "cell_type": "code",
   "execution_count": 207,
   "metadata": {},
   "outputs": [
    {
     "data": {
      "text/html": [
       "<div>\n",
       "<style scoped>\n",
       "    .dataframe tbody tr th:only-of-type {\n",
       "        vertical-align: middle;\n",
       "    }\n",
       "\n",
       "    .dataframe tbody tr th {\n",
       "        vertical-align: top;\n",
       "    }\n",
       "\n",
       "    .dataframe thead th {\n",
       "        text-align: right;\n",
       "    }\n",
       "</style>\n",
       "<table border=\"1\" class=\"dataframe\">\n",
       "  <thead>\n",
       "    <tr style=\"text-align: right;\">\n",
       "      <th></th>\n",
       "      <th>promoter_AGI</th>\n",
       "      <th>gene_type</th>\n",
       "    </tr>\n",
       "  </thead>\n",
       "  <tbody>\n",
       "    <tr>\n",
       "      <th>0</th>\n",
       "      <td>AT4G34270</td>\n",
       "      <td>housekeeping</td>\n",
       "    </tr>\n",
       "    <tr>\n",
       "      <th>1</th>\n",
       "      <td>AT3G32260</td>\n",
       "      <td>housekeeping</td>\n",
       "    </tr>\n",
       "    <tr>\n",
       "      <th>2</th>\n",
       "      <td>AT1G59830</td>\n",
       "      <td>housekeeping</td>\n",
       "    </tr>\n",
       "    <tr>\n",
       "      <th>3</th>\n",
       "      <td>AT4G33380</td>\n",
       "      <td>housekeeping</td>\n",
       "    </tr>\n",
       "    <tr>\n",
       "      <th>4</th>\n",
       "      <td>AT2G28390</td>\n",
       "      <td>housekeeping</td>\n",
       "    </tr>\n",
       "    <tr>\n",
       "      <th>...</th>\n",
       "      <td>...</td>\n",
       "      <td>...</td>\n",
       "    </tr>\n",
       "    <tr>\n",
       "      <th>195</th>\n",
       "      <td>AT3G44070</td>\n",
       "      <td>highVar</td>\n",
       "    </tr>\n",
       "    <tr>\n",
       "      <th>196</th>\n",
       "      <td>AT5G61360</td>\n",
       "      <td>highVar</td>\n",
       "    </tr>\n",
       "    <tr>\n",
       "      <th>197</th>\n",
       "      <td>AT5G16100</td>\n",
       "      <td>highVar</td>\n",
       "    </tr>\n",
       "    <tr>\n",
       "      <th>198</th>\n",
       "      <td>AT3G60570</td>\n",
       "      <td>highVar</td>\n",
       "    </tr>\n",
       "    <tr>\n",
       "      <th>199</th>\n",
       "      <td>AT3G18810</td>\n",
       "      <td>highVar</td>\n",
       "    </tr>\n",
       "  </tbody>\n",
       "</table>\n",
       "<p>200 rows × 2 columns</p>\n",
       "</div>"
      ],
      "text/plain": [
       "    promoter_AGI     gene_type\n",
       "0      AT4G34270  housekeeping\n",
       "1      AT3G32260  housekeeping\n",
       "2      AT1G59830  housekeeping\n",
       "3      AT4G33380  housekeeping\n",
       "4      AT2G28390  housekeeping\n",
       "..           ...           ...\n",
       "195    AT3G44070       highVar\n",
       "196    AT5G61360       highVar\n",
       "197    AT5G16100       highVar\n",
       "198    AT3G60570       highVar\n",
       "199    AT3G18810       highVar\n",
       "\n",
       "[200 rows x 2 columns]"
      ]
     },
     "execution_count": 207,
     "metadata": {},
     "output_type": "execute_result"
    }
   ],
   "source": [
    "promoters_filtered = promoters.copy()\n",
    "#drop randCont rows\n",
    "promoters_filtered = promoters_filtered[~(promoters.gene_type == 'randCont')]\n",
    "promoters_filtered"
   ]
  },
  {
   "cell_type": "code",
   "execution_count": 208,
   "metadata": {},
   "outputs": [],
   "source": [
    "#concat the dfs, and drop rows if present in groupby_promoter\n",
    "\n",
    "promoters_filtered = pd.concat([promoters_filtered, random_genes], axis=0, join='outer', ignore_index=True, keys=None,\n",
    "          levels=None, names=None, verify_integrity=False, copy=True, sort=False)\n",
    "promoters_filtered\n",
    "#write to file for future\n",
    "promoters_filtered.to_csv('../../data/genes/constitutive-variable-random_100_each.csv')"
   ]
  },
  {
   "cell_type": "code",
   "execution_count": 209,
   "metadata": {},
   "outputs": [],
   "source": [
    "TATA_presence = '../../data/EPD_promoter_analysis/responsive_housekeeping_TATA_box_positive.bed'\n",
    "TFs = '../../data/genes/housekeeping_variable_TFs_only.txt'\n",
    "GC_box_file = '../../data/EPD_promoter_analysis/responsive_housekeeping_GCbox_positive.bed'\n",
    "Inr_file = '../../data/EPD_promoter_analysis/responsive_housekeeping_Inr_positive.bed'\n",
    "CCAAT_box_file = '../../data/EPD_promoter_analysis/responsive_housekeeping_CCAAT_box_positive.bed'"
   ]
  },
  {
   "cell_type": "code",
   "execution_count": 210,
   "metadata": {},
   "outputs": [],
   "source": [
    "TATA = pd.read_table(TATA_presence, sep='\\t', header=None, skiprows=2)\n",
    "TF_promoters = pd.read_csv(TFs, header=0)\n",
    "GC_box = pd.read_table(GC_box_file, sep='\\t', header=None, skiprows=2)\n",
    "Inr = pd.read_table(Inr_file, sep='\\t', header=None, skiprows=2)\n",
    "CCAAT_box = pd.read_table(CCAAT_box_file, sep='\\t', header=None, skiprows=2)"
   ]
  },
  {
   "cell_type": "code",
   "execution_count": 211,
   "metadata": {},
   "outputs": [],
   "source": [
    "#remove duplicates from TF_Promoters\n",
    "TF_promoters = TF_promoters.drop_duplicates(subset='Gene_ID')"
   ]
  },
  {
   "cell_type": "code",
   "execution_count": 212,
   "metadata": {},
   "outputs": [],
   "source": [
    "#columns\n",
    "cols = ['chr', 'start', 'stop', 'gene_ID', 'number', 'strand']\n",
    "TATA.columns = cols\n",
    "GC_box.columns = cols\n",
    "Inr.columns = cols\n",
    "CCAAT_box.columns = cols\n",
    "TATA['TATA_present'] = 'yes'\n",
    "GC_box['GC_box_present'] = 'yes'\n",
    "Inr['Inr_present']  = 'yes'\n",
    "CCAAT_box['CCAAT_box_present'] = 'yes'\n",
    "\n",
    "TF_promoters.rename(columns = {'Gene_ID':'promoter_AGI'}, inplace = True)\n",
    "TF_promoters['is_TF'] = 'yes'"
   ]
  },
  {
   "cell_type": "code",
   "execution_count": 213,
   "metadata": {},
   "outputs": [],
   "source": [
    "#remove last 2 characters of promoter_AGI in TATA dataframe\n",
    "TATA['promoter_AGI'] = TATA.gene_ID.str.slice(0, -2)\n",
    "GC_box['promoter_AGI'] = GC_box.gene_ID.str.slice(0, -2)\n",
    "Inr['promoter_AGI'] = Inr.gene_ID.str.slice(0, -2)\n",
    "CCAAT_box['promoter_AGI'] = CCAAT_box.gene_ID.str.slice(0, -2)"
   ]
  },
  {
   "cell_type": "code",
   "execution_count": 214,
   "metadata": {},
   "outputs": [],
   "source": [
    "merged = pd.merge(promoters_filtered,TATA[['promoter_AGI', 'TATA_present']], how='left', on='promoter_AGI')"
   ]
  },
  {
   "cell_type": "code",
   "execution_count": 215,
   "metadata": {},
   "outputs": [],
   "source": [
    "merged = pd.merge(merged,GC_box[['promoter_AGI', 'GC_box_present']], how='left', on='promoter_AGI')"
   ]
  },
  {
   "cell_type": "code",
   "execution_count": 216,
   "metadata": {},
   "outputs": [],
   "source": [
    "merged = pd.merge(merged,Inr[['promoter_AGI', 'Inr_present']], how='left', on='promoter_AGI')"
   ]
  },
  {
   "cell_type": "code",
   "execution_count": 217,
   "metadata": {},
   "outputs": [],
   "source": [
    "merged = pd.merge(merged,CCAAT_box[['promoter_AGI', 'CCAAT_box_present']], how='left', on='promoter_AGI')"
   ]
  },
  {
   "cell_type": "code",
   "execution_count": 218,
   "metadata": {},
   "outputs": [],
   "source": [
    "merged = pd.merge(merged, TF_promoters, how='left', on='promoter_AGI')"
   ]
  },
  {
   "cell_type": "code",
   "execution_count": 219,
   "metadata": {},
   "outputs": [
    {
     "data": {
      "text/html": [
       "<div>\n",
       "<style scoped>\n",
       "    .dataframe tbody tr th:only-of-type {\n",
       "        vertical-align: middle;\n",
       "    }\n",
       "\n",
       "    .dataframe tbody tr th {\n",
       "        vertical-align: top;\n",
       "    }\n",
       "\n",
       "    .dataframe thead th {\n",
       "        text-align: right;\n",
       "    }\n",
       "</style>\n",
       "<table border=\"1\" class=\"dataframe\">\n",
       "  <thead>\n",
       "    <tr style=\"text-align: right;\">\n",
       "      <th></th>\n",
       "      <th>promoter_AGI</th>\n",
       "      <th>gene_type</th>\n",
       "      <th>TATA_present</th>\n",
       "      <th>GC_box_present</th>\n",
       "      <th>Inr_present</th>\n",
       "      <th>CCAAT_box_present</th>\n",
       "      <th>TF_ID</th>\n",
       "      <th>Family</th>\n",
       "      <th>is_TF</th>\n",
       "    </tr>\n",
       "  </thead>\n",
       "  <tbody>\n",
       "    <tr>\n",
       "      <th>0</th>\n",
       "      <td>AT4G34270</td>\n",
       "      <td>housekeeping</td>\n",
       "      <td>NaN</td>\n",
       "      <td>NaN</td>\n",
       "      <td>NaN</td>\n",
       "      <td>NaN</td>\n",
       "      <td>NaN</td>\n",
       "      <td>NaN</td>\n",
       "      <td>NaN</td>\n",
       "    </tr>\n",
       "    <tr>\n",
       "      <th>1</th>\n",
       "      <td>AT3G32260</td>\n",
       "      <td>housekeeping</td>\n",
       "      <td>NaN</td>\n",
       "      <td>NaN</td>\n",
       "      <td>NaN</td>\n",
       "      <td>NaN</td>\n",
       "      <td>NaN</td>\n",
       "      <td>NaN</td>\n",
       "      <td>NaN</td>\n",
       "    </tr>\n",
       "    <tr>\n",
       "      <th>2</th>\n",
       "      <td>AT1G59830</td>\n",
       "      <td>housekeeping</td>\n",
       "      <td>NaN</td>\n",
       "      <td>NaN</td>\n",
       "      <td>NaN</td>\n",
       "      <td>NaN</td>\n",
       "      <td>NaN</td>\n",
       "      <td>NaN</td>\n",
       "      <td>NaN</td>\n",
       "    </tr>\n",
       "    <tr>\n",
       "      <th>3</th>\n",
       "      <td>AT4G33380</td>\n",
       "      <td>housekeeping</td>\n",
       "      <td>NaN</td>\n",
       "      <td>NaN</td>\n",
       "      <td>NaN</td>\n",
       "      <td>NaN</td>\n",
       "      <td>NaN</td>\n",
       "      <td>NaN</td>\n",
       "      <td>NaN</td>\n",
       "    </tr>\n",
       "    <tr>\n",
       "      <th>4</th>\n",
       "      <td>AT2G28390</td>\n",
       "      <td>housekeeping</td>\n",
       "      <td>NaN</td>\n",
       "      <td>NaN</td>\n",
       "      <td>NaN</td>\n",
       "      <td>NaN</td>\n",
       "      <td>NaN</td>\n",
       "      <td>NaN</td>\n",
       "      <td>NaN</td>\n",
       "    </tr>\n",
       "    <tr>\n",
       "      <th>...</th>\n",
       "      <td>...</td>\n",
       "      <td>...</td>\n",
       "      <td>...</td>\n",
       "      <td>...</td>\n",
       "      <td>...</td>\n",
       "      <td>...</td>\n",
       "      <td>...</td>\n",
       "      <td>...</td>\n",
       "      <td>...</td>\n",
       "    </tr>\n",
       "    <tr>\n",
       "      <th>295</th>\n",
       "      <td>AT5G13410</td>\n",
       "      <td>randCont</td>\n",
       "      <td>NaN</td>\n",
       "      <td>NaN</td>\n",
       "      <td>NaN</td>\n",
       "      <td>NaN</td>\n",
       "      <td>NaN</td>\n",
       "      <td>NaN</td>\n",
       "      <td>NaN</td>\n",
       "    </tr>\n",
       "    <tr>\n",
       "      <th>296</th>\n",
       "      <td>AT5G56090</td>\n",
       "      <td>randCont</td>\n",
       "      <td>yes</td>\n",
       "      <td>NaN</td>\n",
       "      <td>NaN</td>\n",
       "      <td>NaN</td>\n",
       "      <td>NaN</td>\n",
       "      <td>NaN</td>\n",
       "      <td>NaN</td>\n",
       "    </tr>\n",
       "    <tr>\n",
       "      <th>297</th>\n",
       "      <td>AT5G05170</td>\n",
       "      <td>randCont</td>\n",
       "      <td>NaN</td>\n",
       "      <td>NaN</td>\n",
       "      <td>NaN</td>\n",
       "      <td>yes</td>\n",
       "      <td>NaN</td>\n",
       "      <td>NaN</td>\n",
       "      <td>NaN</td>\n",
       "    </tr>\n",
       "    <tr>\n",
       "      <th>298</th>\n",
       "      <td>AT3G18110</td>\n",
       "      <td>randCont</td>\n",
       "      <td>NaN</td>\n",
       "      <td>NaN</td>\n",
       "      <td>yes</td>\n",
       "      <td>NaN</td>\n",
       "      <td>NaN</td>\n",
       "      <td>NaN</td>\n",
       "      <td>NaN</td>\n",
       "    </tr>\n",
       "    <tr>\n",
       "      <th>299</th>\n",
       "      <td>AT3G13445</td>\n",
       "      <td>randCont</td>\n",
       "      <td>NaN</td>\n",
       "      <td>NaN</td>\n",
       "      <td>NaN</td>\n",
       "      <td>NaN</td>\n",
       "      <td>NaN</td>\n",
       "      <td>NaN</td>\n",
       "      <td>NaN</td>\n",
       "    </tr>\n",
       "  </tbody>\n",
       "</table>\n",
       "<p>300 rows × 9 columns</p>\n",
       "</div>"
      ],
      "text/plain": [
       "    promoter_AGI     gene_type TATA_present GC_box_present Inr_present  \\\n",
       "0      AT4G34270  housekeeping          NaN            NaN         NaN   \n",
       "1      AT3G32260  housekeeping          NaN            NaN         NaN   \n",
       "2      AT1G59830  housekeeping          NaN            NaN         NaN   \n",
       "3      AT4G33380  housekeeping          NaN            NaN         NaN   \n",
       "4      AT2G28390  housekeeping          NaN            NaN         NaN   \n",
       "..           ...           ...          ...            ...         ...   \n",
       "295    AT5G13410      randCont          NaN            NaN         NaN   \n",
       "296    AT5G56090      randCont          yes            NaN         NaN   \n",
       "297    AT5G05170      randCont          NaN            NaN         NaN   \n",
       "298    AT3G18110      randCont          NaN            NaN         yes   \n",
       "299    AT3G13445      randCont          NaN            NaN         NaN   \n",
       "\n",
       "    CCAAT_box_present TF_ID Family is_TF  \n",
       "0                 NaN   NaN    NaN   NaN  \n",
       "1                 NaN   NaN    NaN   NaN  \n",
       "2                 NaN   NaN    NaN   NaN  \n",
       "3                 NaN   NaN    NaN   NaN  \n",
       "4                 NaN   NaN    NaN   NaN  \n",
       "..                ...   ...    ...   ...  \n",
       "295               NaN   NaN    NaN   NaN  \n",
       "296               NaN   NaN    NaN   NaN  \n",
       "297               yes   NaN    NaN   NaN  \n",
       "298               NaN   NaN    NaN   NaN  \n",
       "299               NaN   NaN    NaN   NaN  \n",
       "\n",
       "[300 rows x 9 columns]"
      ]
     },
     "execution_count": 219,
     "metadata": {},
     "output_type": "execute_result"
    }
   ],
   "source": [
    "merged"
   ]
  },
  {
   "cell_type": "code",
   "execution_count": null,
   "metadata": {},
   "outputs": [],
   "source": []
  },
  {
   "cell_type": "code",
   "execution_count": 221,
   "metadata": {},
   "outputs": [
    {
     "data": {
      "text/plain": [
       "gene_type     TATA_present\n",
       "highVar       yes             26\n",
       "housekeeping  yes             11\n",
       "randCont      yes             25\n",
       "Name: TATA_present, dtype: int64"
      ]
     },
     "execution_count": 221,
     "metadata": {},
     "output_type": "execute_result"
    }
   ],
   "source": [
    "## how many TATA\n",
    "merged_TATA = merged.groupby('gene_type')['TATA_present'].value_counts()\n",
    "merged_TATA"
   ]
  },
  {
   "cell_type": "code",
   "execution_count": 222,
   "metadata": {},
   "outputs": [
    {
     "data": {
      "text/plain": [
       "gene_type     Inr_present\n",
       "highVar       yes            25\n",
       "housekeeping  yes            29\n",
       "randCont      yes            37\n",
       "Name: Inr_present, dtype: int64"
      ]
     },
     "execution_count": 222,
     "metadata": {},
     "output_type": "execute_result"
    }
   ],
   "source": [
    "## how many Inr\n",
    "merged_Inr = merged.groupby('gene_type')['Inr_present'].value_counts()\n",
    "merged_Inr"
   ]
  },
  {
   "cell_type": "code",
   "execution_count": 223,
   "metadata": {},
   "outputs": [
    {
     "data": {
      "text/plain": [
       "gene_type     GC_box_present\n",
       "highVar       yes               4\n",
       "housekeeping  yes               6\n",
       "randCont      yes               1\n",
       "Name: GC_box_present, dtype: int64"
      ]
     },
     "execution_count": 223,
     "metadata": {},
     "output_type": "execute_result"
    }
   ],
   "source": [
    "## how many GC_box\n",
    "merged_GC_box = merged.groupby('gene_type')['GC_box_present'].value_counts()\n",
    "merged_GC_box"
   ]
  },
  {
   "cell_type": "code",
   "execution_count": 224,
   "metadata": {},
   "outputs": [
    {
     "data": {
      "text/plain": [
       "gene_type     CCAAT_box_present\n",
       "highVar       yes                  18\n",
       "housekeeping  yes                  20\n",
       "randCont      yes                  16\n",
       "Name: CCAAT_box_present, dtype: int64"
      ]
     },
     "execution_count": 224,
     "metadata": {},
     "output_type": "execute_result"
    }
   ],
   "source": [
    "## how many CCAAT_box\n",
    "merged_CCAAT_box = merged.groupby('gene_type')['CCAAT_box_present'].value_counts()\n",
    "merged_CCAAT_box"
   ]
  },
  {
   "cell_type": "code",
   "execution_count": 225,
   "metadata": {},
   "outputs": [
    {
     "data": {
      "text/plain": [
       "gene_type     is_TF\n",
       "highVar       yes      5\n",
       "housekeeping  yes      1\n",
       "randCont      yes      5\n",
       "Name: is_TF, dtype: int64"
      ]
     },
     "execution_count": 225,
     "metadata": {},
     "output_type": "execute_result"
    }
   ],
   "source": [
    "## how many TFs\n",
    "merged_TF = merged.groupby('gene_type')['is_TF'].value_counts()\n",
    "merged_TF"
   ]
  },
  {
   "cell_type": "code",
   "execution_count": null,
   "metadata": {},
   "outputs": [],
   "source": []
  }
 ],
 "metadata": {
  "kernelspec": {
   "display_name": "Python [conda env:PromoterArchitecturePipeline] *",
   "language": "python",
   "name": "conda-env-PromoterArchitecturePipeline-py"
  },
  "language_info": {
   "codemirror_mode": {
    "name": "ipython",
    "version": 3
   },
   "file_extension": ".py",
   "mimetype": "text/x-python",
   "name": "python",
   "nbconvert_exporter": "python",
   "pygments_lexer": "ipython3",
   "version": "3.6.7"
  }
 },
 "nbformat": 4,
 "nbformat_minor": 4
}
