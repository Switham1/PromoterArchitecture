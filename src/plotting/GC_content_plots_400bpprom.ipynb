{
 "cells": [
  {
   "cell_type": "code",
   "execution_count": 1,
   "metadata": {},
   "outputs": [],
   "source": [
    "import pandas as pd\n",
    "import seaborn as sns\n",
    "import matplotlib.pyplot as plt\n",
    "from scipy import stats\n",
    "from pingouin import kruskal\n",
    "import scikit_posthocs as sp\n",
    "import os\n",
    "from statannot import add_stat_annotation\n"
   ]
  },
  {
   "cell_type": "code",
   "execution_count": 2,
   "metadata": {},
   "outputs": [],
   "source": [
    "# parser = argparse.ArgumentParser(description='GC_content_plots')\n",
    "# parser.add_argument('file_names', type=str, help='Name of folder and filenames for the promoters extracted')\n",
    "# parser.add_argument('Czechowski_gene_categories', type=str, help='Input location of Czechowski gene categories text file')\n",
    "# parser.add_argument('GC_content_tsv', type=str, help='Input location of promoters GC_content tsv file')\n",
    "# parser.add_argument('output_folder_name', type=str, help='Optional output folder name ending in a forward slash',default = '')\n"
   ]
  },
  {
   "cell_type": "code",
   "execution_count": 3,
   "metadata": {},
   "outputs": [
    {
     "name": "stderr",
     "output_type": "stream",
     "text": [
      "/home/witham/opt/anaconda3/envs/PromoterArchitecturePipeline/lib/python3.7/site-packages/outdated/utils.py:18: OutdatedPackageWarning: The package pingouin is out of date. Your version is 0.3.7, the latest is 0.3.8.\n",
      "Set the environment variable OUTDATED_IGNORE=1 to disable these warnings.\n",
      "  **kwargs\n"
     ]
    }
   ],
   "source": [
    "file_names = 'non-overlapping_includingbidirectional_all_genes_newannotation'\n",
    "Czechowski_gene_categories = f'../../data/output/{file_names}/genes/promoters_5UTR_czechowski_constitutive_variable_random.txt'\n",
    "GC_content_tsv = f'../../data/output/{file_names}/GC_content/promoters_5UTR_400bp_GC_content.tsv'\n",
    "dependent_variable = 'GC_content'\n",
    "output_folder_name = 'promoters_5UTR_400bp/'"
   ]
  },
  {
   "cell_type": "code",
   "execution_count": 4,
   "metadata": {},
   "outputs": [
    {
     "name": "stdout",
     "output_type": "stream",
     "text": [
      "Directory  ../../data/output/non-overlapping_includingbidirectional_all_genes_newannotation/GC_content/promoters_5UTR_400bp/plots  already exists\n"
     ]
    }
   ],
   "source": [
    "#make directory for the plots to be exported to\n",
    "dirName = f'../../data/output/{file_names}/{dependent_variable}/{output_folder_name}plots'\n",
    "try:\n",
    "    # Create target Directory\n",
    "    os.mkdir(dirName)\n",
    "    print(\"Directory \" , dirName ,  \" created\") \n",
    "except FileExistsError:\n",
    "    print(\"Directory \" , dirName ,  \" already exists\")"
   ]
  },
  {
   "cell_type": "code",
   "execution_count": 5,
   "metadata": {},
   "outputs": [
    {
     "name": "stdout",
     "output_type": "stream",
     "text": [
      "Directory  ../../data/output/non-overlapping_includingbidirectional_all_genes_newannotation/GC_content/promoters_5UTR_400bp/plots  already exists\n"
     ]
    }
   ],
   "source": [
    "#make directory for the plots to be exported to\n",
    "dirName = f'../../data/output/{file_names}/{dependent_variable}/{output_folder_name}plots'\n",
    "try:\n",
    "    # Create target Directory\n",
    "    os.mkdir(dirName)\n",
    "    print(\"Directory \" , dirName ,  \" created\") \n",
    "except FileExistsError:\n",
    "    print(\"Directory \" , dirName ,  \" already exists\")"
   ]
  },
  {
   "cell_type": "code",
   "execution_count": 6,
   "metadata": {},
   "outputs": [],
   "source": [
    "def read_GC_file(GC_content_tsv):\n",
    "    \"\"\"read in GC file and make extra columns\"\"\"\n",
    "     #read in GC content tsv\n",
    "    GC_content = pd.read_table(GC_content_tsv, sep='\\t', header=None)\n",
    "    cols2 = ['name', 'percentage_GC_content']\n",
    "    GC_content.columns = cols2\n",
    "\n",
    "    #Make AGI column\n",
    "    GC_content['AGI'] = GC_content.name.str.split(':',expand=True)[0]\n",
    "    #make window number column\n",
    "    #GC_content = GC_content.assign(window_number=GC_content.name.str.extract(r'_(.*?)\\:'))\n",
    "    #make chr column\n",
    "    GC_content = GC_content.assign(chr=GC_content.name.str.split(':',n=3,expand=True)[2])\n",
    "    #make start column\n",
    "    GC_content = GC_content.assign(start=GC_content.name.str.split(':',n=3,expand=True)[3].str.split('-',expand=True)[0])\n",
    "    #make stop column\n",
    "    GC_content = GC_content.assign(stop=GC_content.name.str.split(':',n=3,expand=True)[3].str.split('-',expand=True)[1])\n",
    "    return GC_content\n",
    "    "
   ]
  },
  {
   "cell_type": "code",
   "execution_count": 7,
   "metadata": {},
   "outputs": [],
   "source": [
    "def mergeGC_genecategories(GC_content_df, gene_categories):\n",
    "    \"\"\"merged GC content df with gene categories\"\"\"\n",
    "    #read in gene categories\n",
    "    gene_cats = pd.read_csv(gene_categories,sep='\\t', header=None)\n",
    "    gene_cats.columns = ['AGI','gene_type']\n",
    "    #merge to limit to genes of interest\n",
    "    GC_content_categories = pd.merge(gene_cats, GC_content_df, how='left', on='AGI')\n",
    "    return GC_content_categories"
   ]
  },
  {
   "cell_type": "code",
   "execution_count": 8,
   "metadata": {},
   "outputs": [],
   "source": [
    "def make_plot(df,x_variable, y_variable,x_label, y_label, output_prefix, plot_kind):\n",
    "    \"\"\"function to make and save plot\"\"\"\n",
    "    #allow colour codes in seaborn\n",
    "    sns.set(color_codes=True)\n",
    "    sns.set_style(\"whitegrid\")\n",
    "    #plot\n",
    "    x=x_variable\n",
    "    y=y_variable\n",
    "    order=[\"constitutive\", \"variable\", \"control\"]\n",
    "    plot = sns.catplot(x=x, y=y, data=df, kind=plot_kind,order=order)\n",
    "    #plot points\n",
    "    ax = sns.swarmplot(x=x, y=y, data=df, color=\".25\",order=order)\n",
    "    #add significance if necessary - dunn's posthocs with multiple Bonferroni correction\n",
    "    stat = dunn_posthoc_test(df,y_variable,x_variable)\n",
    "    #label box pairs\n",
    "    box_pairs=[(\"constitutive\", \"variable\"),(\"constitutive\", \"control\"),(\"variable\", \"control\")]\n",
    "    #make empty list of p_values\n",
    "    p_values = []\n",
    "    #populate the list of p_values according to the box_pairs\n",
    "    for pair in box_pairs:\n",
    "        print(pair)\n",
    "        #select p value for each pair\n",
    "        p = stat.loc[pair[0],pair[1]]\n",
    "        p_values.append(p)\n",
    "\n",
    "\n",
    "    \n",
    "    #add stats annotation to the plot\n",
    "    test_results = add_stat_annotation(ax, data=df, x=x, y=y, order=order,\n",
    "                                      box_pairs=box_pairs,\n",
    "                                      text_format='star',\n",
    "                                      loc='outside',verbose=2,\n",
    "                                      perform_stat_test=False,\n",
    "                                       pvalues=p_values, test_short_name='Dunn')\n",
    "    \n",
    "    #change axes labels\n",
    "    plt.ylabel(y_label)\n",
    "    plt.xlabel(x_label)\n",
    "    #tight layout\n",
    "    plt.tight_layout()\n",
    "    #save figure\n",
    "    ax.get_figure().savefig(f'../../data/output/{file_names}/{dependent_variable}/{output_folder_name}plots/{output_prefix}_{plot_kind}.pdf', format='pdf')   "
   ]
  },
  {
   "cell_type": "code",
   "execution_count": 9,
   "metadata": {},
   "outputs": [],
   "source": [
    "# def box_plot(GC_content_categories, x_variable, y_variable,x_label, y_label,output_prefix):\n",
    "#     \"\"\"function to make and save box plot of GC_content split by gene_categories\"\"\"\n",
    "#     #allow colour codes in seaborn\n",
    "#     sns.set(color_codes=True)\n",
    "#     sns.set_style(\"whitegrid\")\n",
    "#     #plot\n",
    "#     plot = sns.catplot(x=x_variable, y=y_variable, data=GC_content_categories,kind='box')\n",
    "#     #plot points\n",
    "#     ax = sns.swarmplot(x=x_variable, y=y_variable, data=GC_content_categories, color=\".25\")\n",
    "#     plt.ylabel('Percentage GC content')\n",
    "#     plt.xlabel('Gene type')\n",
    "#     #save figure\n",
    "#     ax.get_figure().savefig(f'../../data/output/{file_names}/{dependent_variable}/plots/{output_prefix}_box.pdf', format='pdf')\n",
    "    \n"
   ]
  },
  {
   "cell_type": "code",
   "execution_count": 10,
   "metadata": {},
   "outputs": [],
   "source": [
    "def all_prom_distribution(df, x_variable, x_label, output_prefix):\n",
    "    \"\"\"function to return distribution plot of all promoters GC content\"\"\"    \n",
    "    \n",
    "    dist_plot = df[x_variable]\n",
    "    #create figure with no transparency\n",
    "    dist_plot_fig = sns.distplot(dist_plot).get_figure()\n",
    "    plt.xlabel(x_label)\n",
    "\n",
    "    #save to file\n",
    "    dist_plot_fig.savefig(f'../../data/output/{file_names}/{dependent_variable}/{output_folder_name}plots/{output_prefix}_distribution.pdf', format='pdf')    "
   ]
  },
  {
   "cell_type": "code",
   "execution_count": 11,
   "metadata": {},
   "outputs": [],
   "source": [
    "def test_normality(df,dependent_variable, between):\n",
    "    \"\"\"test normality of data categories\"\"\"\n",
    "    #find gene_type categories\n",
    "    pd.Categorical(df[between])\n",
    "    names = df[between].unique()\n",
    "    #Test normality\n",
    "    #returns test statistic, p-value\n",
    "    for name in names:\n",
    "        print('{}: {}'.format(name, stats.shapiro(df[dependent_variable][df[between] == name])))"
   ]
  },
  {
   "cell_type": "code",
   "execution_count": 12,
   "metadata": {},
   "outputs": [],
   "source": [
    "def describe_stats(df,dependent_variable, between):\n",
    "    \"\"\"return descriptve statistics\"\"\"\n",
    "    return df.groupby([between])[dependent_variable].describe()"
   ]
  },
  {
   "cell_type": "code",
   "execution_count": 13,
   "metadata": {},
   "outputs": [],
   "source": [
    "def variance(df, dependent_variable, between):\n",
    "    \"\"\"test variance of data categories\"\"\"\n",
    "    #find gene_type categories\n",
    "    pd.Categorical(df[between])\n",
    "    names = df[between].unique()\n",
    "    #test variance    \n",
    "    return stats.levene(df[dependent_variable][df[between] == names[0]], \n",
    "               df[dependent_variable][df[between] == names[1]], \n",
    "               df[dependent_variable][df[between] == names[2]])"
   ]
  },
  {
   "cell_type": "code",
   "execution_count": 14,
   "metadata": {},
   "outputs": [],
   "source": [
    "def kruskal_test(df,dependent_variable,between):\n",
    "    \"\"\"Do Kruskal-Wallis analysis\"\"\"\n",
    "    #Kruskal-Wallis one way analysis of variance\n",
    "    return kruskal(data=df, dv=dependent_variable, between=between)\n",
    "    "
   ]
  },
  {
   "cell_type": "code",
   "execution_count": 15,
   "metadata": {},
   "outputs": [],
   "source": [
    "def dunn_posthoc_test(df,dependent_variable, between):\n",
    "    \"\"\"dunn_posthoc tests with bonferroni multiple correction\"\"\"\n",
    "    return sp.posthoc_dunn(df, val_col=dependent_variable, group_col=between, p_adjust='bonferroni')"
   ]
  },
  {
   "cell_type": "code",
   "execution_count": 16,
   "metadata": {},
   "outputs": [],
   "source": [
    "#read GC file\n",
    "GC_content_df = read_GC_file(GC_content_tsv)\n",
    "#merge with promoter categories\n",
    "GC_content_Czechowski_gene_categories = mergeGC_genecategories(GC_content_df, Czechowski_gene_categories)"
   ]
  },
  {
   "cell_type": "code",
   "execution_count": 17,
   "metadata": {},
   "outputs": [
    {
     "data": {
      "image/png": "[encoded data removed]",
      "text/plain": [
       "<Figure size 432x288 with 1 Axes>"
      ]
     },
     "metadata": {
      "needs_background": "light"
     },
     "output_type": "display_data"
    }
   ],
   "source": [
    "#all promoter distribution plot\n",
    "all_prom_distribution(GC_content_df,'percentage_GC_content', '% GC content', f'{dependent_variable}_allproms')"
   ]
  },
  {
   "cell_type": "code",
   "execution_count": 21,
   "metadata": {},
   "outputs": [
    {
     "name": "stdout",
     "output_type": "stream",
     "text": [
      "('constitutive', 'variable')\n",
      "('constitutive', 'control')\n",
      "('variable', 'control')\n",
      "p-value annotation legend:\n",
      "ns: 5.00e-02 < p <= 1.00e+00\n",
      "*: 1.00e-02 < p <= 5.00e-02\n",
      "**: 1.00e-03 < p <= 1.00e-02\n",
      "***: 1.00e-04 < p <= 1.00e-03\n",
      "****: p <= 1.00e-04\n",
      "\n",
      "constitutive v.s. variable: Custom statistical test, P_val:1.165e-03\n",
      "variable v.s. control: Custom statistical test, P_val:1.711e-01\n",
      "constitutive v.s. control: Custom statistical test, P_val:2.999e-01\n"
     ]
    },
    {
     "data": {
      "image/png": "[encoded data removed]",
      "text/plain": [
       "<Figure size 360x360 with 1 Axes>"
      ]
     },
     "metadata": {},
     "output_type": "display_data"
    }
   ],
   "source": [
    "#Czechowski_gene_categories violin plot\n",
    "make_plot(GC_content_Czechowski_gene_categories,'gene_type','percentage_GC_content','Gene type','% GC content', f'Czechowski_{dependent_variable}', 'violin')"
   ]
  },
  {
   "cell_type": "code",
   "execution_count": 22,
   "metadata": {},
   "outputs": [
    {
     "name": "stdout",
     "output_type": "stream",
     "text": [
      "('constitutive', 'variable')\n",
      "('constitutive', 'control')\n",
      "('variable', 'control')\n",
      "p-value annotation legend:\n",
      "ns: 5.00e-02 < p <= 1.00e+00\n",
      "*: 1.00e-02 < p <= 5.00e-02\n",
      "**: 1.00e-03 < p <= 1.00e-02\n",
      "***: 1.00e-04 < p <= 1.00e-03\n",
      "****: p <= 1.00e-04\n",
      "\n",
      "constitutive v.s. variable: Custom statistical test, P_val:1.165e-03\n",
      "variable v.s. control: Custom statistical test, P_val:1.711e-01\n",
      "constitutive v.s. control: Custom statistical test, P_val:2.999e-01\n"
     ]
    },
    {
     "data": {
      "image/png": "[encoded data removed]",
      "text/plain": [
       "<Figure size 360x360 with 1 Axes>"
      ]
     },
     "metadata": {},
     "output_type": "display_data"
    }
   ],
   "source": [
    "#Czechowski_gene_categories box plot\n",
    "make_plot(GC_content_Czechowski_gene_categories,'gene_type','percentage_GC_content','Gene type','% GC content', f'Czechowski_{dependent_variable}', 'box')"
   ]
  },
  {
   "cell_type": "code",
   "execution_count": 23,
   "metadata": {},
   "outputs": [],
   "source": [
    "df = GC_content_Czechowski_gene_categories\n",
    "dependent_variable = 'percentage_GC_content'\n",
    "between_variable = 'gene_type'"
   ]
  },
  {
   "cell_type": "code",
   "execution_count": 24,
   "metadata": {},
   "outputs": [
    {
     "name": "stdout",
     "output_type": "stream",
     "text": [
      "constitutive: ShapiroResult(statistic=0.953767716884613, pvalue=0.001481729792430997)\n",
      "variable: ShapiroResult(statistic=0.9648813009262085, pvalue=0.00909875426441431)\n",
      "control: ShapiroResult(statistic=0.99346524477005, pvalue=0.9144743084907532)\n"
     ]
    }
   ],
   "source": [
    "test_normality(df,dependent_variable,between_variable)"
   ]
  },
  {
   "cell_type": "markdown",
   "metadata": {},
   "source": [
    "### not normal"
   ]
  },
  {
   "cell_type": "code",
   "execution_count": 25,
   "metadata": {},
   "outputs": [
    {
     "data": {
      "text/plain": [
       "LeveneResult(statistic=0.02400749376192765, pvalue=0.9762802881012798)"
      ]
     },
     "execution_count": 25,
     "metadata": {},
     "output_type": "execute_result"
    }
   ],
   "source": [
    "variance(df,dependent_variable,between_variable)"
   ]
  },
  {
   "cell_type": "markdown",
   "metadata": {},
   "source": [
    "### fail to reject null hypothesis that variances are equal"
   ]
  },
  {
   "cell_type": "code",
   "execution_count": 26,
   "metadata": {},
   "outputs": [
    {
     "data": {
      "text/html": [
       "<div>\n",
       "<style scoped>\n",
       "    .dataframe tbody tr th:only-of-type {\n",
       "        vertical-align: middle;\n",
       "    }\n",
       "\n",
       "    .dataframe tbody tr th {\n",
       "        vertical-align: top;\n",
       "    }\n",
       "\n",
       "    .dataframe thead th {\n",
       "        text-align: right;\n",
       "    }\n",
       "</style>\n",
       "<table border=\"1\" class=\"dataframe\">\n",
       "  <thead>\n",
       "    <tr style=\"text-align: right;\">\n",
       "      <th></th>\n",
       "      <th>count</th>\n",
       "      <th>mean</th>\n",
       "      <th>std</th>\n",
       "      <th>min</th>\n",
       "      <th>25%</th>\n",
       "      <th>50%</th>\n",
       "      <th>75%</th>\n",
       "      <th>max</th>\n",
       "    </tr>\n",
       "    <tr>\n",
       "      <th>gene_type</th>\n",
       "      <th></th>\n",
       "      <th></th>\n",
       "      <th></th>\n",
       "      <th></th>\n",
       "      <th></th>\n",
       "      <th></th>\n",
       "      <th></th>\n",
       "      <th></th>\n",
       "    </tr>\n",
       "  </thead>\n",
       "  <tbody>\n",
       "    <tr>\n",
       "      <th>constitutive</th>\n",
       "      <td>100.0</td>\n",
       "      <td>35.0925</td>\n",
       "      <td>4.957605</td>\n",
       "      <td>19.5</td>\n",
       "      <td>33.4375</td>\n",
       "      <td>35.25</td>\n",
       "      <td>38.3125</td>\n",
       "      <td>45.00</td>\n",
       "    </tr>\n",
       "    <tr>\n",
       "      <th>control</th>\n",
       "      <td>100.0</td>\n",
       "      <td>34.2350</td>\n",
       "      <td>4.563638</td>\n",
       "      <td>23.5</td>\n",
       "      <td>30.5000</td>\n",
       "      <td>34.50</td>\n",
       "      <td>37.5000</td>\n",
       "      <td>46.25</td>\n",
       "    </tr>\n",
       "    <tr>\n",
       "      <th>variable</th>\n",
       "      <td>100.0</td>\n",
       "      <td>33.1100</td>\n",
       "      <td>4.664410</td>\n",
       "      <td>23.5</td>\n",
       "      <td>29.9375</td>\n",
       "      <td>33.00</td>\n",
       "      <td>36.0625</td>\n",
       "      <td>48.00</td>\n",
       "    </tr>\n",
       "  </tbody>\n",
       "</table>\n",
       "</div>"
      ],
      "text/plain": [
       "              count     mean       std   min      25%    50%      75%    max\n",
       "gene_type                                                                   \n",
       "constitutive  100.0  35.0925  4.957605  19.5  33.4375  35.25  38.3125  45.00\n",
       "control       100.0  34.2350  4.563638  23.5  30.5000  34.50  37.5000  46.25\n",
       "variable      100.0  33.1100  4.664410  23.5  29.9375  33.00  36.0625  48.00"
      ]
     },
     "execution_count": 26,
     "metadata": {},
     "output_type": "execute_result"
    }
   ],
   "source": [
    "#descriptive stats\n",
    "describe_stats(df,dependent_variable,between_variable)"
   ]
  },
  {
   "cell_type": "code",
   "execution_count": 27,
   "metadata": {},
   "outputs": [
    {
     "data": {
      "text/html": [
       "<div>\n",
       "<style scoped>\n",
       "    .dataframe tbody tr th:only-of-type {\n",
       "        vertical-align: middle;\n",
       "    }\n",
       "\n",
       "    .dataframe tbody tr th {\n",
       "        vertical-align: top;\n",
       "    }\n",
       "\n",
       "    .dataframe thead th {\n",
       "        text-align: right;\n",
       "    }\n",
       "</style>\n",
       "<table border=\"1\" class=\"dataframe\">\n",
       "  <thead>\n",
       "    <tr style=\"text-align: right;\">\n",
       "      <th></th>\n",
       "      <th>Source</th>\n",
       "      <th>ddof1</th>\n",
       "      <th>H</th>\n",
       "      <th>p-unc</th>\n",
       "    </tr>\n",
       "  </thead>\n",
       "  <tbody>\n",
       "    <tr>\n",
       "      <th>Kruskal</th>\n",
       "      <td>gene_type</td>\n",
       "      <td>2</td>\n",
       "      <td>12.610013</td>\n",
       "      <td>0.001827</td>\n",
       "    </tr>\n",
       "  </tbody>\n",
       "</table>\n",
       "</div>"
      ],
      "text/plain": [
       "            Source  ddof1          H     p-unc\n",
       "Kruskal  gene_type      2  12.610013  0.001827"
      ]
     },
     "execution_count": 27,
     "metadata": {},
     "output_type": "execute_result"
    }
   ],
   "source": [
    "kruskal_test(df,dependent_variable,between_variable)"
   ]
  },
  {
   "cell_type": "markdown",
   "metadata": {},
   "source": [
    "### significant difference, do post hoc tests"
   ]
  },
  {
   "cell_type": "code",
   "execution_count": 28,
   "metadata": {},
   "outputs": [
    {
     "data": {
      "text/html": [
       "<div>\n",
       "<style scoped>\n",
       "    .dataframe tbody tr th:only-of-type {\n",
       "        vertical-align: middle;\n",
       "    }\n",
       "\n",
       "    .dataframe tbody tr th {\n",
       "        vertical-align: top;\n",
       "    }\n",
       "\n",
       "    .dataframe thead th {\n",
       "        text-align: right;\n",
       "    }\n",
       "</style>\n",
       "<table border=\"1\" class=\"dataframe\">\n",
       "  <thead>\n",
       "    <tr style=\"text-align: right;\">\n",
       "      <th></th>\n",
       "      <th>constitutive</th>\n",
       "      <th>control</th>\n",
       "      <th>variable</th>\n",
       "    </tr>\n",
       "  </thead>\n",
       "  <tbody>\n",
       "    <tr>\n",
       "      <th>constitutive</th>\n",
       "      <td>-1.000000</td>\n",
       "      <td>0.299947</td>\n",
       "      <td>0.001165</td>\n",
       "    </tr>\n",
       "    <tr>\n",
       "      <th>control</th>\n",
       "      <td>0.299947</td>\n",
       "      <td>-1.000000</td>\n",
       "      <td>0.171125</td>\n",
       "    </tr>\n",
       "    <tr>\n",
       "      <th>variable</th>\n",
       "      <td>0.001165</td>\n",
       "      <td>0.171125</td>\n",
       "      <td>-1.000000</td>\n",
       "    </tr>\n",
       "  </tbody>\n",
       "</table>\n",
       "</div>"
      ],
      "text/plain": [
       "              constitutive   control  variable\n",
       "constitutive     -1.000000  0.299947  0.001165\n",
       "control           0.299947 -1.000000  0.171125\n",
       "variable          0.001165  0.171125 -1.000000"
      ]
     },
     "execution_count": 28,
     "metadata": {},
     "output_type": "execute_result"
    }
   ],
   "source": [
    "#run Dunn's post-hoc test\n",
    "dunn_posthoc_test(df,dependent_variable,between_variable)"
   ]
  },
  {
   "cell_type": "markdown",
   "metadata": {},
   "source": [
    "### constitutive significantly higher GC content than variable genes\n",
    "### variable significantly lower GC than control"
   ]
  }
 ],
 "metadata": {
  "kernelspec": {
   "display_name": "Python 3",
   "language": "python",
   "name": "python3"
  },
  "language_info": {
   "codemirror_mode": {
    "name": "ipython",
    "version": 3
   },
   "file_extension": ".py",
   "mimetype": "text/x-python",
   "name": "python",
   "nbconvert_exporter": "python",
   "pygments_lexer": "ipython3",
   "version": "3.7.8"
  }
 },
 "nbformat": 4,
 "nbformat_minor": 4
}
