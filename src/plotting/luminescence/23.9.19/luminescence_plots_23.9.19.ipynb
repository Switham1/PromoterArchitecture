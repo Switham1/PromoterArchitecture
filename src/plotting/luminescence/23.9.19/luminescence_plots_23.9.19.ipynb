{
 "cells": [
  {
   "cell_type": "code",
   "execution_count": 1,
   "metadata": {},
   "outputs": [],
   "source": [
    "import pandas as pd\n",
    "import numpy as np\n",
    "import skbio\n",
    "from collections import Counter\n",
    "import seaborn as sns\n",
    "import matplotlib.pyplot as plt\n",
    "from scipy import stats\n",
    "from statsmodels.formula.api import ols\n",
    "import researchpy as rp\n",
    "from matplotlib import rcParams\n",
    "#from statsmodels.stats.multicomp import pairwise_tukeyhsd\n",
    "#from statsmodels.stats.multicomp import MultiComparison\n",
    "#dunns\n",
    "from itertools import combinations\n",
    "from statsmodels.stats.multitest import multipletests\n",
    "from statsmodels.stats.libqsturng import psturng\n",
    "import warnings\n",
    "\n",
    "import plotly.express as px\n",
    "import plotly.graph_objects as go\n",
    "import os\n",
    "\n",
    "\n",
    "rcParams.update({'figure.autolayout': True})"
   ]
  },
  {
   "cell_type": "code",
   "execution_count": 2,
   "metadata": {},
   "outputs": [],
   "source": [
    "date = '23.9.19'"
   ]
  },
  {
   "cell_type": "code",
   "execution_count": 3,
   "metadata": {},
   "outputs": [],
   "source": [
    "if not os.path.exists(f'../../../../data/plots/luminescence/{date}'):\n",
    "    os.mkdir(f'../../../../data/plots/luminescence/{date}')"
   ]
  },
  {
   "cell_type": "code",
   "execution_count": 4,
   "metadata": {},
   "outputs": [],
   "source": [
    "luminescence_means = f'../../../../data/luminescence/to_be_sorted/{date}/output_means.csv'\n",
    "luminescence_raw = f'../../../../data/luminescence/to_be_sorted/{date}/output_raw.csv'"
   ]
  },
  {
   "cell_type": "code",
   "execution_count": 5,
   "metadata": {},
   "outputs": [],
   "source": [
    "luminescence_means_df = pd.read_csv(luminescence_means, header=0)\n",
    "luminescence_raw_df = pd.read_csv(luminescence_raw, header=0)"
   ]
  },
  {
   "cell_type": "code",
   "execution_count": 6,
   "metadata": {},
   "outputs": [
    {
     "data": {
      "text/html": [
       "<div>\n",
       "<style scoped>\n",
       "    .dataframe tbody tr th:only-of-type {\n",
       "        vertical-align: middle;\n",
       "    }\n",
       "\n",
       "    .dataframe tbody tr th {\n",
       "        vertical-align: top;\n",
       "    }\n",
       "\n",
       "    .dataframe thead th {\n",
       "        text-align: right;\n",
       "    }\n",
       "</style>\n",
       "<table border=\"1\" class=\"dataframe\">\n",
       "  <thead>\n",
       "    <tr style=\"text-align: right;\">\n",
       "      <th></th>\n",
       "      <th>name</th>\n",
       "      <th>condition</th>\n",
       "      <th>mean_luminescence</th>\n",
       "      <th>standard_error</th>\n",
       "      <th>date</th>\n",
       "    </tr>\n",
       "  </thead>\n",
       "  <tbody>\n",
       "    <tr>\n",
       "      <th>0</th>\n",
       "      <td>13 + 34</td>\n",
       "      <td>10 mM KNO3 in W5</td>\n",
       "      <td>13.075795</td>\n",
       "      <td>NaN</td>\n",
       "      <td>23.9.19</td>\n",
       "    </tr>\n",
       "    <tr>\n",
       "      <th>1</th>\n",
       "      <td>14 + 34</td>\n",
       "      <td>10 mM KNO3 in W5</td>\n",
       "      <td>21.671293</td>\n",
       "      <td>3.382465</td>\n",
       "      <td>23.9.19</td>\n",
       "    </tr>\n",
       "    <tr>\n",
       "      <th>2</th>\n",
       "      <td>14 + 34</td>\n",
       "      <td>W5</td>\n",
       "      <td>16.959906</td>\n",
       "      <td>3.777065</td>\n",
       "      <td>23.9.19</td>\n",
       "    </tr>\n",
       "    <tr>\n",
       "      <th>3</th>\n",
       "      <td>15 + 34</td>\n",
       "      <td>10 mM KNO3 in W5</td>\n",
       "      <td>6.883883</td>\n",
       "      <td>0.759541</td>\n",
       "      <td>23.9.19</td>\n",
       "    </tr>\n",
       "    <tr>\n",
       "      <th>4</th>\n",
       "      <td>15 + 34</td>\n",
       "      <td>W5</td>\n",
       "      <td>8.738052</td>\n",
       "      <td>0.932603</td>\n",
       "      <td>23.9.19</td>\n",
       "    </tr>\n",
       "    <tr>\n",
       "      <th>5</th>\n",
       "      <td>16 + 34</td>\n",
       "      <td>10 mM KNO3 in W5</td>\n",
       "      <td>7.130038</td>\n",
       "      <td>0.248288</td>\n",
       "      <td>23.9.19</td>\n",
       "    </tr>\n",
       "    <tr>\n",
       "      <th>6</th>\n",
       "      <td>16 + 34</td>\n",
       "      <td>W5</td>\n",
       "      <td>9.243610</td>\n",
       "      <td>2.112628</td>\n",
       "      <td>23.9.19</td>\n",
       "    </tr>\n",
       "    <tr>\n",
       "      <th>7</th>\n",
       "      <td>17 + 34</td>\n",
       "      <td>10 mM KNO3 in W5</td>\n",
       "      <td>4.020863</td>\n",
       "      <td>0.216422</td>\n",
       "      <td>23.9.19</td>\n",
       "    </tr>\n",
       "    <tr>\n",
       "      <th>8</th>\n",
       "      <td>17 + 34</td>\n",
       "      <td>W5</td>\n",
       "      <td>3.941669</td>\n",
       "      <td>1.128703</td>\n",
       "      <td>23.9.19</td>\n",
       "    </tr>\n",
       "    <tr>\n",
       "      <th>9</th>\n",
       "      <td>18 + 34</td>\n",
       "      <td>10 mM KNO3 in W5</td>\n",
       "      <td>4.411550</td>\n",
       "      <td>0.814237</td>\n",
       "      <td>23.9.19</td>\n",
       "    </tr>\n",
       "    <tr>\n",
       "      <th>10</th>\n",
       "      <td>18 + 34</td>\n",
       "      <td>W5</td>\n",
       "      <td>5.104757</td>\n",
       "      <td>0.469404</td>\n",
       "      <td>23.9.19</td>\n",
       "    </tr>\n",
       "    <tr>\n",
       "      <th>11</th>\n",
       "      <td>21 + 34</td>\n",
       "      <td>10 mM KNO3 in W5</td>\n",
       "      <td>4.324680</td>\n",
       "      <td>0.787318</td>\n",
       "      <td>23.9.19</td>\n",
       "    </tr>\n",
       "    <tr>\n",
       "      <th>12</th>\n",
       "      <td>21 + 34</td>\n",
       "      <td>W5</td>\n",
       "      <td>6.016749</td>\n",
       "      <td>1.036255</td>\n",
       "      <td>23.9.19</td>\n",
       "    </tr>\n",
       "    <tr>\n",
       "      <th>13</th>\n",
       "      <td>22 + 34</td>\n",
       "      <td>10 mM KNO3 in W5</td>\n",
       "      <td>7.991578</td>\n",
       "      <td>2.262110</td>\n",
       "      <td>23.9.19</td>\n",
       "    </tr>\n",
       "    <tr>\n",
       "      <th>14</th>\n",
       "      <td>22 + 34</td>\n",
       "      <td>W5</td>\n",
       "      <td>7.332977</td>\n",
       "      <td>2.021104</td>\n",
       "      <td>23.9.19</td>\n",
       "    </tr>\n",
       "    <tr>\n",
       "      <th>15</th>\n",
       "      <td>23 + 34</td>\n",
       "      <td>10 mM KNO3 in W5</td>\n",
       "      <td>4.726483</td>\n",
       "      <td>0.481744</td>\n",
       "      <td>23.9.19</td>\n",
       "    </tr>\n",
       "    <tr>\n",
       "      <th>16</th>\n",
       "      <td>23 + 34</td>\n",
       "      <td>W5</td>\n",
       "      <td>4.386135</td>\n",
       "      <td>0.956243</td>\n",
       "      <td>23.9.19</td>\n",
       "    </tr>\n",
       "    <tr>\n",
       "      <th>17</th>\n",
       "      <td>24 + 34</td>\n",
       "      <td>10 mM KNO3 in W5</td>\n",
       "      <td>5.350668</td>\n",
       "      <td>1.391090</td>\n",
       "      <td>23.9.19</td>\n",
       "    </tr>\n",
       "    <tr>\n",
       "      <th>18</th>\n",
       "      <td>24 + 34</td>\n",
       "      <td>W5</td>\n",
       "      <td>4.091549</td>\n",
       "      <td>0.167439</td>\n",
       "      <td>23.9.19</td>\n",
       "    </tr>\n",
       "    <tr>\n",
       "      <th>19</th>\n",
       "      <td>25 + 34</td>\n",
       "      <td>10 mM KNO3 in W5</td>\n",
       "      <td>0.847936</td>\n",
       "      <td>NaN</td>\n",
       "      <td>23.9.19</td>\n",
       "    </tr>\n",
       "    <tr>\n",
       "      <th>20</th>\n",
       "      <td>25 + 34</td>\n",
       "      <td>W5</td>\n",
       "      <td>0.621024</td>\n",
       "      <td>0.192051</td>\n",
       "      <td>23.9.19</td>\n",
       "    </tr>\n",
       "    <tr>\n",
       "      <th>21</th>\n",
       "      <td>35 + 34</td>\n",
       "      <td>10 mM KNO3 in W5</td>\n",
       "      <td>92.054917</td>\n",
       "      <td>19.102508</td>\n",
       "      <td>23.9.19</td>\n",
       "    </tr>\n",
       "    <tr>\n",
       "      <th>22</th>\n",
       "      <td>35 + 34</td>\n",
       "      <td>W5</td>\n",
       "      <td>58.578660</td>\n",
       "      <td>9.197015</td>\n",
       "      <td>23.9.19</td>\n",
       "    </tr>\n",
       "    <tr>\n",
       "      <th>23</th>\n",
       "      <td>36 + 34</td>\n",
       "      <td>10 mM KNO3 in W5</td>\n",
       "      <td>2.666876</td>\n",
       "      <td>0.521233</td>\n",
       "      <td>23.9.19</td>\n",
       "    </tr>\n",
       "    <tr>\n",
       "      <th>24</th>\n",
       "      <td>36 + 34</td>\n",
       "      <td>W5</td>\n",
       "      <td>2.081002</td>\n",
       "      <td>0.238455</td>\n",
       "      <td>23.9.19</td>\n",
       "    </tr>\n",
       "  </tbody>\n",
       "</table>\n",
       "</div>"
      ],
      "text/plain": [
       "        name         condition  mean_luminescence  standard_error     date\n",
       "0    13 + 34  10 mM KNO3 in W5          13.075795             NaN  23.9.19\n",
       "1   14 + 34   10 mM KNO3 in W5          21.671293        3.382465  23.9.19\n",
       "2   14 + 34                 W5          16.959906        3.777065  23.9.19\n",
       "3    15 + 34  10 mM KNO3 in W5           6.883883        0.759541  23.9.19\n",
       "4    15 + 34                W5           8.738052        0.932603  23.9.19\n",
       "5    16 + 34  10 mM KNO3 in W5           7.130038        0.248288  23.9.19\n",
       "6    16 + 34                W5           9.243610        2.112628  23.9.19\n",
       "7    17 + 34  10 mM KNO3 in W5           4.020863        0.216422  23.9.19\n",
       "8    17 + 34                W5           3.941669        1.128703  23.9.19\n",
       "9    18 + 34  10 mM KNO3 in W5           4.411550        0.814237  23.9.19\n",
       "10   18 + 34                W5           5.104757        0.469404  23.9.19\n",
       "11   21 + 34  10 mM KNO3 in W5           4.324680        0.787318  23.9.19\n",
       "12   21 + 34                W5           6.016749        1.036255  23.9.19\n",
       "13   22 + 34  10 mM KNO3 in W5           7.991578        2.262110  23.9.19\n",
       "14   22 + 34                W5           7.332977        2.021104  23.9.19\n",
       "15   23 + 34  10 mM KNO3 in W5           4.726483        0.481744  23.9.19\n",
       "16   23 + 34                W5           4.386135        0.956243  23.9.19\n",
       "17   24 + 34  10 mM KNO3 in W5           5.350668        1.391090  23.9.19\n",
       "18   24 + 34                W5           4.091549        0.167439  23.9.19\n",
       "19   25 + 34  10 mM KNO3 in W5           0.847936             NaN  23.9.19\n",
       "20   25 + 34                W5           0.621024        0.192051  23.9.19\n",
       "21   35 + 34  10 mM KNO3 in W5          92.054917       19.102508  23.9.19\n",
       "22   35 + 34                W5          58.578660        9.197015  23.9.19\n",
       "23   36 + 34  10 mM KNO3 in W5           2.666876        0.521233  23.9.19\n",
       "24   36 + 34                W5           2.081002        0.238455  23.9.19"
      ]
     },
     "execution_count": 6,
     "metadata": {},
     "output_type": "execute_result"
    }
   ],
   "source": [
    "luminescence_means_df"
   ]
  },
  {
   "cell_type": "code",
   "execution_count": 7,
   "metadata": {},
   "outputs": [
    {
     "data": {
      "text/html": [
       "<div>\n",
       "<style scoped>\n",
       "    .dataframe tbody tr th:only-of-type {\n",
       "        vertical-align: middle;\n",
       "    }\n",
       "\n",
       "    .dataframe tbody tr th {\n",
       "        vertical-align: top;\n",
       "    }\n",
       "\n",
       "    .dataframe thead th {\n",
       "        text-align: right;\n",
       "    }\n",
       "</style>\n",
       "<table border=\"1\" class=\"dataframe\">\n",
       "  <thead>\n",
       "    <tr style=\"text-align: right;\">\n",
       "      <th></th>\n",
       "      <th>well_row</th>\n",
       "      <th>well_col</th>\n",
       "      <th>content</th>\n",
       "      <th>fluc_luminescence</th>\n",
       "      <th>nluc_luminescence</th>\n",
       "      <th>name</th>\n",
       "      <th>condition</th>\n",
       "      <th>nluc/fluc</th>\n",
       "      <th>date</th>\n",
       "    </tr>\n",
       "  </thead>\n",
       "  <tbody>\n",
       "    <tr>\n",
       "      <th>0</th>\n",
       "      <td>C</td>\n",
       "      <td>1</td>\n",
       "      <td>Sample X3</td>\n",
       "      <td>2625.0</td>\n",
       "      <td>12182.0</td>\n",
       "      <td>21 + 34</td>\n",
       "      <td>W5</td>\n",
       "      <td>4.640762</td>\n",
       "      <td>23.9.19</td>\n",
       "    </tr>\n",
       "    <tr>\n",
       "      <th>1</th>\n",
       "      <td>D</td>\n",
       "      <td>1</td>\n",
       "      <td>Sample X4</td>\n",
       "      <td>938.0</td>\n",
       "      <td>4026.0</td>\n",
       "      <td>22 + 34</td>\n",
       "      <td>W5</td>\n",
       "      <td>4.292111</td>\n",
       "      <td>23.9.19</td>\n",
       "    </tr>\n",
       "    <tr>\n",
       "      <th>2</th>\n",
       "      <td>E</td>\n",
       "      <td>1</td>\n",
       "      <td>Sample X5</td>\n",
       "      <td>17688.0</td>\n",
       "      <td>66136.0</td>\n",
       "      <td>23 + 34</td>\n",
       "      <td>W5</td>\n",
       "      <td>3.739032</td>\n",
       "      <td>23.9.19</td>\n",
       "    </tr>\n",
       "    <tr>\n",
       "      <th>3</th>\n",
       "      <td>F</td>\n",
       "      <td>1</td>\n",
       "      <td>Sample X6</td>\n",
       "      <td>8782.0</td>\n",
       "      <td>33715.0</td>\n",
       "      <td>24 + 34</td>\n",
       "      <td>W5</td>\n",
       "      <td>3.839103</td>\n",
       "      <td>23.9.19</td>\n",
       "    </tr>\n",
       "    <tr>\n",
       "      <th>4</th>\n",
       "      <td>G</td>\n",
       "      <td>1</td>\n",
       "      <td>Sample X7</td>\n",
       "      <td>4743.0</td>\n",
       "      <td>191684.0</td>\n",
       "      <td>35 + 34</td>\n",
       "      <td>W5</td>\n",
       "      <td>40.414084</td>\n",
       "      <td>23.9.19</td>\n",
       "    </tr>\n",
       "    <tr>\n",
       "      <th>...</th>\n",
       "      <td>...</td>\n",
       "      <td>...</td>\n",
       "      <td>...</td>\n",
       "      <td>...</td>\n",
       "      <td>...</td>\n",
       "      <td>...</td>\n",
       "      <td>...</td>\n",
       "      <td>...</td>\n",
       "      <td>...</td>\n",
       "    </tr>\n",
       "    <tr>\n",
       "      <th>65</th>\n",
       "      <td>C</td>\n",
       "      <td>12</td>\n",
       "      <td>Sample X86</td>\n",
       "      <td>2145.0</td>\n",
       "      <td>16243.0</td>\n",
       "      <td>15 + 34</td>\n",
       "      <td>10 mM KNO3 in W5</td>\n",
       "      <td>7.572494</td>\n",
       "      <td>23.9.19</td>\n",
       "    </tr>\n",
       "    <tr>\n",
       "      <th>66</th>\n",
       "      <td>D</td>\n",
       "      <td>12</td>\n",
       "      <td>Sample X87</td>\n",
       "      <td>3975.0</td>\n",
       "      <td>28520.0</td>\n",
       "      <td>16 + 34</td>\n",
       "      <td>10 mM KNO3 in W5</td>\n",
       "      <td>7.174843</td>\n",
       "      <td>23.9.19</td>\n",
       "    </tr>\n",
       "    <tr>\n",
       "      <th>67</th>\n",
       "      <td>E</td>\n",
       "      <td>12</td>\n",
       "      <td>Sample X88</td>\n",
       "      <td>1492.0</td>\n",
       "      <td>5436.0</td>\n",
       "      <td>17 + 34</td>\n",
       "      <td>10 mM KNO3 in W5</td>\n",
       "      <td>3.643432</td>\n",
       "      <td>23.9.19</td>\n",
       "    </tr>\n",
       "    <tr>\n",
       "      <th>68</th>\n",
       "      <td>F</td>\n",
       "      <td>12</td>\n",
       "      <td>Sample X89</td>\n",
       "      <td>1888.0</td>\n",
       "      <td>10320.0</td>\n",
       "      <td>18 + 34</td>\n",
       "      <td>10 mM KNO3 in W5</td>\n",
       "      <td>5.466102</td>\n",
       "      <td>23.9.19</td>\n",
       "    </tr>\n",
       "    <tr>\n",
       "      <th>69</th>\n",
       "      <td>G</td>\n",
       "      <td>12</td>\n",
       "      <td>Sample X90</td>\n",
       "      <td>993.0</td>\n",
       "      <td>842.0</td>\n",
       "      <td>25 + 34</td>\n",
       "      <td>10 mM KNO3 in W5</td>\n",
       "      <td>0.847936</td>\n",
       "      <td>23.9.19</td>\n",
       "    </tr>\n",
       "  </tbody>\n",
       "</table>\n",
       "<p>70 rows × 9 columns</p>\n",
       "</div>"
      ],
      "text/plain": [
       "   well_row  well_col     content  fluc_luminescence  nluc_luminescence  \\\n",
       "0         C         1   Sample X3             2625.0            12182.0   \n",
       "1         D         1   Sample X4              938.0             4026.0   \n",
       "2         E         1   Sample X5            17688.0            66136.0   \n",
       "3         F         1   Sample X6             8782.0            33715.0   \n",
       "4         G         1   Sample X7             4743.0           191684.0   \n",
       "..      ...       ...         ...                ...                ...   \n",
       "65        C        12  Sample X86             2145.0            16243.0   \n",
       "66        D        12  Sample X87             3975.0            28520.0   \n",
       "67        E        12  Sample X88             1492.0             5436.0   \n",
       "68        F        12  Sample X89             1888.0            10320.0   \n",
       "69        G        12  Sample X90              993.0              842.0   \n",
       "\n",
       "       name         condition  nluc/fluc     date  \n",
       "0   21 + 34                W5   4.640762  23.9.19  \n",
       "1   22 + 34                W5   4.292111  23.9.19  \n",
       "2   23 + 34                W5   3.739032  23.9.19  \n",
       "3   24 + 34                W5   3.839103  23.9.19  \n",
       "4   35 + 34                W5  40.414084  23.9.19  \n",
       "..      ...               ...        ...      ...  \n",
       "65  15 + 34  10 mM KNO3 in W5   7.572494  23.9.19  \n",
       "66  16 + 34  10 mM KNO3 in W5   7.174843  23.9.19  \n",
       "67  17 + 34  10 mM KNO3 in W5   3.643432  23.9.19  \n",
       "68  18 + 34  10 mM KNO3 in W5   5.466102  23.9.19  \n",
       "69  25 + 34  10 mM KNO3 in W5   0.847936  23.9.19  \n",
       "\n",
       "[70 rows x 9 columns]"
      ]
     },
     "execution_count": 7,
     "metadata": {},
     "output_type": "execute_result"
    }
   ],
   "source": [
    "luminescence_raw_df"
   ]
  },
  {
   "cell_type": "code",
   "execution_count": 8,
   "metadata": {},
   "outputs": [],
   "source": [
    "#remove column 12"
   ]
  },
  {
   "cell_type": "code",
   "execution_count": 9,
   "metadata": {},
   "outputs": [],
   "source": [
    "#add promoter names column\n",
    "luminescence_raw_df['Promoter'] = luminescence_raw_df.name "
   ]
  },
  {
   "cell_type": "code",
   "execution_count": 10,
   "metadata": {},
   "outputs": [],
   "source": [
    "# luminescence_raw_df.loc[luminescence_raw_df.name == '71 + 72', 'Promoter'] = 'UBQ10'\n",
    "# luminescence_raw_df.loc[luminescence_raw_df.name == '71+72', 'Promoter'] = 'UBQ10'\n",
    "# luminescence_raw_df.loc[luminescence_raw_df.name == '25+72', 'Promoter'] = 'NIR1'\n",
    "# luminescence_raw_df.loc[luminescence_raw_df.name == '35+72', 'Promoter'] = 'NOS'\n",
    "# luminescence_raw_df.loc[luminescence_raw_df.name == '36+72', 'Promoter'] = 'STAP4'\n",
    "# luminescence_raw_df.loc[luminescence_raw_df.name == '92+72', 'Promoter'] = 'NRP'\n",
    "# luminescence_raw_df.loc[luminescence_raw_df.name == '92+29+72', 'Promoter'] = 'NRP+NLP7_TF'\n",
    "luminescence_raw_df.loc[luminescence_raw_df.name == '25 + 34', 'Promoter'] = 'NIR1(1000bp)'\n",
    "luminescence_raw_df.loc[luminescence_raw_df.name == '35 + 34', 'Promoter'] = 'NOS'\n",
    "luminescence_raw_df.loc[luminescence_raw_df.name == '36 + 34', 'Promoter'] = 'STAP4'\n",
    "luminescence_raw_df.loc[luminescence_raw_df.name == '70 + 34', 'Promoter'] = '35S'\n",
    "luminescence_raw_df.loc[luminescence_raw_df.name == '14 + 34', 'Promoter'] = 'ANAC032(1000bp)'\n",
    "luminescence_raw_df.loc[luminescence_raw_df.name == '13 + 34', 'Promoter'] = 'ANAC032(500bp)'\n",
    "luminescence_raw_df.loc[luminescence_raw_df.name == '15 + 34', 'Promoter'] = 'ANR1(500bp)'\n",
    "luminescence_raw_df.loc[luminescence_raw_df.name == '16 + 34', 'Promoter'] = 'ANR1(1000bp)'\n",
    "luminescence_raw_df.loc[luminescence_raw_df.name == '17 + 34', 'Promoter'] = 'ARF18(500bp)'\n",
    "luminescence_raw_df.loc[luminescence_raw_df.name == '18 + 34', 'Promoter'] = 'ARF18(1000bp)'\n",
    "luminescence_raw_df.loc[luminescence_raw_df.name == '21 + 34', 'Promoter'] = 'DREB26(500bp)'\n",
    "luminescence_raw_df.loc[luminescence_raw_df.name == '22 + 34', 'Promoter'] = 'DREB26(1000bp)'\n",
    "luminescence_raw_df.loc[luminescence_raw_df.name == '23 + 34', 'Promoter'] = 'NLP7(500bp)'\n",
    "luminescence_raw_df.loc[luminescence_raw_df.name == '24 + 34', 'Promoter'] = 'NLP7(1000bp)'\n",
    "#luminescence_raw_df.loc[luminescence_raw_df.name == '71 + 34', 'Promoter'] = 'UBQ10:LucN/35S:LucF'"
   ]
  },
  {
   "cell_type": "code",
   "execution_count": 11,
   "metadata": {},
   "outputs": [
    {
     "data": {
      "text/html": [
       "<div>\n",
       "<style scoped>\n",
       "    .dataframe tbody tr th:only-of-type {\n",
       "        vertical-align: middle;\n",
       "    }\n",
       "\n",
       "    .dataframe tbody tr th {\n",
       "        vertical-align: top;\n",
       "    }\n",
       "\n",
       "    .dataframe thead th {\n",
       "        text-align: right;\n",
       "    }\n",
       "</style>\n",
       "<table border=\"1\" class=\"dataframe\">\n",
       "  <thead>\n",
       "    <tr style=\"text-align: right;\">\n",
       "      <th></th>\n",
       "      <th>well_row</th>\n",
       "      <th>well_col</th>\n",
       "      <th>content</th>\n",
       "      <th>fluc_luminescence</th>\n",
       "      <th>nluc_luminescence</th>\n",
       "      <th>name</th>\n",
       "      <th>condition</th>\n",
       "      <th>nluc/fluc</th>\n",
       "      <th>date</th>\n",
       "      <th>Promoter</th>\n",
       "    </tr>\n",
       "  </thead>\n",
       "  <tbody>\n",
       "    <tr>\n",
       "      <th>0</th>\n",
       "      <td>C</td>\n",
       "      <td>1</td>\n",
       "      <td>Sample X3</td>\n",
       "      <td>2625.0</td>\n",
       "      <td>12182.0</td>\n",
       "      <td>21 + 34</td>\n",
       "      <td>W5</td>\n",
       "      <td>4.640762</td>\n",
       "      <td>23.9.19</td>\n",
       "      <td>DREB26(500bp)</td>\n",
       "    </tr>\n",
       "    <tr>\n",
       "      <th>1</th>\n",
       "      <td>D</td>\n",
       "      <td>1</td>\n",
       "      <td>Sample X4</td>\n",
       "      <td>938.0</td>\n",
       "      <td>4026.0</td>\n",
       "      <td>22 + 34</td>\n",
       "      <td>W5</td>\n",
       "      <td>4.292111</td>\n",
       "      <td>23.9.19</td>\n",
       "      <td>DREB26(1000bp)</td>\n",
       "    </tr>\n",
       "    <tr>\n",
       "      <th>2</th>\n",
       "      <td>E</td>\n",
       "      <td>1</td>\n",
       "      <td>Sample X5</td>\n",
       "      <td>17688.0</td>\n",
       "      <td>66136.0</td>\n",
       "      <td>23 + 34</td>\n",
       "      <td>W5</td>\n",
       "      <td>3.739032</td>\n",
       "      <td>23.9.19</td>\n",
       "      <td>NLP7(500bp)</td>\n",
       "    </tr>\n",
       "    <tr>\n",
       "      <th>3</th>\n",
       "      <td>F</td>\n",
       "      <td>1</td>\n",
       "      <td>Sample X6</td>\n",
       "      <td>8782.0</td>\n",
       "      <td>33715.0</td>\n",
       "      <td>24 + 34</td>\n",
       "      <td>W5</td>\n",
       "      <td>3.839103</td>\n",
       "      <td>23.9.19</td>\n",
       "      <td>NLP7(1000bp)</td>\n",
       "    </tr>\n",
       "    <tr>\n",
       "      <th>4</th>\n",
       "      <td>G</td>\n",
       "      <td>1</td>\n",
       "      <td>Sample X7</td>\n",
       "      <td>4743.0</td>\n",
       "      <td>191684.0</td>\n",
       "      <td>35 + 34</td>\n",
       "      <td>W5</td>\n",
       "      <td>40.414084</td>\n",
       "      <td>23.9.19</td>\n",
       "      <td>NOS</td>\n",
       "    </tr>\n",
       "    <tr>\n",
       "      <th>...</th>\n",
       "      <td>...</td>\n",
       "      <td>...</td>\n",
       "      <td>...</td>\n",
       "      <td>...</td>\n",
       "      <td>...</td>\n",
       "      <td>...</td>\n",
       "      <td>...</td>\n",
       "      <td>...</td>\n",
       "      <td>...</td>\n",
       "      <td>...</td>\n",
       "    </tr>\n",
       "    <tr>\n",
       "      <th>65</th>\n",
       "      <td>C</td>\n",
       "      <td>12</td>\n",
       "      <td>Sample X86</td>\n",
       "      <td>2145.0</td>\n",
       "      <td>16243.0</td>\n",
       "      <td>15 + 34</td>\n",
       "      <td>10 mM KNO3 in W5</td>\n",
       "      <td>7.572494</td>\n",
       "      <td>23.9.19</td>\n",
       "      <td>ANR1(500bp)</td>\n",
       "    </tr>\n",
       "    <tr>\n",
       "      <th>66</th>\n",
       "      <td>D</td>\n",
       "      <td>12</td>\n",
       "      <td>Sample X87</td>\n",
       "      <td>3975.0</td>\n",
       "      <td>28520.0</td>\n",
       "      <td>16 + 34</td>\n",
       "      <td>10 mM KNO3 in W5</td>\n",
       "      <td>7.174843</td>\n",
       "      <td>23.9.19</td>\n",
       "      <td>ANR1(1000bp)</td>\n",
       "    </tr>\n",
       "    <tr>\n",
       "      <th>67</th>\n",
       "      <td>E</td>\n",
       "      <td>12</td>\n",
       "      <td>Sample X88</td>\n",
       "      <td>1492.0</td>\n",
       "      <td>5436.0</td>\n",
       "      <td>17 + 34</td>\n",
       "      <td>10 mM KNO3 in W5</td>\n",
       "      <td>3.643432</td>\n",
       "      <td>23.9.19</td>\n",
       "      <td>ARF18(500bp)</td>\n",
       "    </tr>\n",
       "    <tr>\n",
       "      <th>68</th>\n",
       "      <td>F</td>\n",
       "      <td>12</td>\n",
       "      <td>Sample X89</td>\n",
       "      <td>1888.0</td>\n",
       "      <td>10320.0</td>\n",
       "      <td>18 + 34</td>\n",
       "      <td>10 mM KNO3 in W5</td>\n",
       "      <td>5.466102</td>\n",
       "      <td>23.9.19</td>\n",
       "      <td>ARF18(1000bp)</td>\n",
       "    </tr>\n",
       "    <tr>\n",
       "      <th>69</th>\n",
       "      <td>G</td>\n",
       "      <td>12</td>\n",
       "      <td>Sample X90</td>\n",
       "      <td>993.0</td>\n",
       "      <td>842.0</td>\n",
       "      <td>25 + 34</td>\n",
       "      <td>10 mM KNO3 in W5</td>\n",
       "      <td>0.847936</td>\n",
       "      <td>23.9.19</td>\n",
       "      <td>NIR1(1000bp)</td>\n",
       "    </tr>\n",
       "  </tbody>\n",
       "</table>\n",
       "<p>70 rows × 10 columns</p>\n",
       "</div>"
      ],
      "text/plain": [
       "   well_row  well_col     content  fluc_luminescence  nluc_luminescence  \\\n",
       "0         C         1   Sample X3             2625.0            12182.0   \n",
       "1         D         1   Sample X4              938.0             4026.0   \n",
       "2         E         1   Sample X5            17688.0            66136.0   \n",
       "3         F         1   Sample X6             8782.0            33715.0   \n",
       "4         G         1   Sample X7             4743.0           191684.0   \n",
       "..      ...       ...         ...                ...                ...   \n",
       "65        C        12  Sample X86             2145.0            16243.0   \n",
       "66        D        12  Sample X87             3975.0            28520.0   \n",
       "67        E        12  Sample X88             1492.0             5436.0   \n",
       "68        F        12  Sample X89             1888.0            10320.0   \n",
       "69        G        12  Sample X90              993.0              842.0   \n",
       "\n",
       "       name         condition  nluc/fluc     date        Promoter  \n",
       "0   21 + 34                W5   4.640762  23.9.19   DREB26(500bp)  \n",
       "1   22 + 34                W5   4.292111  23.9.19  DREB26(1000bp)  \n",
       "2   23 + 34                W5   3.739032  23.9.19     NLP7(500bp)  \n",
       "3   24 + 34                W5   3.839103  23.9.19    NLP7(1000bp)  \n",
       "4   35 + 34                W5  40.414084  23.9.19             NOS  \n",
       "..      ...               ...        ...      ...             ...  \n",
       "65  15 + 34  10 mM KNO3 in W5   7.572494  23.9.19     ANR1(500bp)  \n",
       "66  16 + 34  10 mM KNO3 in W5   7.174843  23.9.19    ANR1(1000bp)  \n",
       "67  17 + 34  10 mM KNO3 in W5   3.643432  23.9.19    ARF18(500bp)  \n",
       "68  18 + 34  10 mM KNO3 in W5   5.466102  23.9.19   ARF18(1000bp)  \n",
       "69  25 + 34  10 mM KNO3 in W5   0.847936  23.9.19    NIR1(1000bp)  \n",
       "\n",
       "[70 rows x 10 columns]"
      ]
     },
     "execution_count": 11,
     "metadata": {},
     "output_type": "execute_result"
    }
   ],
   "source": [
    "luminescence_raw_df"
   ]
  },
  {
   "cell_type": "code",
   "execution_count": 12,
   "metadata": {},
   "outputs": [
    {
     "data": {
      "text/plain": [
       "array(['W5', '10 mM KNO3 in W5'], dtype=object)"
      ]
     },
     "execution_count": 12,
     "metadata": {},
     "output_type": "execute_result"
    }
   ],
   "source": [
    "luminescence_raw_df.condition.unique()"
   ]
  },
  {
   "cell_type": "code",
   "execution_count": 13,
   "metadata": {},
   "outputs": [
    {
     "data": {
      "text/html": [
       "<div>\n",
       "<style scoped>\n",
       "    .dataframe tbody tr th:only-of-type {\n",
       "        vertical-align: middle;\n",
       "    }\n",
       "\n",
       "    .dataframe tbody tr th {\n",
       "        vertical-align: top;\n",
       "    }\n",
       "\n",
       "    .dataframe thead th {\n",
       "        text-align: right;\n",
       "    }\n",
       "</style>\n",
       "<table border=\"1\" class=\"dataframe\">\n",
       "  <thead>\n",
       "    <tr style=\"text-align: right;\">\n",
       "      <th></th>\n",
       "      <th>well_row</th>\n",
       "      <th>well_col</th>\n",
       "      <th>content</th>\n",
       "      <th>fluc_luminescence</th>\n",
       "      <th>nluc_luminescence</th>\n",
       "      <th>name</th>\n",
       "      <th>condition</th>\n",
       "      <th>nluc/fluc</th>\n",
       "      <th>date</th>\n",
       "      <th>Promoter</th>\n",
       "    </tr>\n",
       "  </thead>\n",
       "  <tbody>\n",
       "    <tr>\n",
       "      <th>22</th>\n",
       "      <td>G</td>\n",
       "      <td>4</td>\n",
       "      <td>Sample X31</td>\n",
       "      <td>2143.0</td>\n",
       "      <td>131904.0</td>\n",
       "      <td>35 + 34</td>\n",
       "      <td>10 mM KNO3 in W5</td>\n",
       "      <td>61.551097</td>\n",
       "      <td>23.9.19</td>\n",
       "      <td>NOS</td>\n",
       "    </tr>\n",
       "    <tr>\n",
       "      <th>4</th>\n",
       "      <td>G</td>\n",
       "      <td>1</td>\n",
       "      <td>Sample X7</td>\n",
       "      <td>4743.0</td>\n",
       "      <td>191684.0</td>\n",
       "      <td>35 + 34</td>\n",
       "      <td>W5</td>\n",
       "      <td>40.414084</td>\n",
       "      <td>23.9.19</td>\n",
       "      <td>NOS</td>\n",
       "    </tr>\n",
       "    <tr>\n",
       "      <th>34</th>\n",
       "      <td>G</td>\n",
       "      <td>6</td>\n",
       "      <td>Sample X47</td>\n",
       "      <td>3508.0</td>\n",
       "      <td>446316.0</td>\n",
       "      <td>35 + 34</td>\n",
       "      <td>10 mM KNO3 in W5</td>\n",
       "      <td>127.228050</td>\n",
       "      <td>23.9.19</td>\n",
       "      <td>NOS</td>\n",
       "    </tr>\n",
       "    <tr>\n",
       "      <th>10</th>\n",
       "      <td>G</td>\n",
       "      <td>2</td>\n",
       "      <td>Sample X15</td>\n",
       "      <td>10868.0</td>\n",
       "      <td>762599.0</td>\n",
       "      <td>35 + 34</td>\n",
       "      <td>W5</td>\n",
       "      <td>70.169212</td>\n",
       "      <td>23.9.19</td>\n",
       "      <td>NOS</td>\n",
       "    </tr>\n",
       "    <tr>\n",
       "      <th>28</th>\n",
       "      <td>G</td>\n",
       "      <td>5</td>\n",
       "      <td>Sample X39</td>\n",
       "      <td>5682.0</td>\n",
       "      <td>496525.0</td>\n",
       "      <td>35 + 34</td>\n",
       "      <td>10 mM KNO3 in W5</td>\n",
       "      <td>87.385604</td>\n",
       "      <td>23.9.19</td>\n",
       "      <td>NOS</td>\n",
       "    </tr>\n",
       "    <tr>\n",
       "      <th>...</th>\n",
       "      <td>...</td>\n",
       "      <td>...</td>\n",
       "      <td>...</td>\n",
       "      <td>...</td>\n",
       "      <td>...</td>\n",
       "      <td>...</td>\n",
       "      <td>...</td>\n",
       "      <td>...</td>\n",
       "      <td>...</td>\n",
       "      <td>...</td>\n",
       "    </tr>\n",
       "    <tr>\n",
       "      <th>47</th>\n",
       "      <td>B</td>\n",
       "      <td>9</td>\n",
       "      <td>Sample X64</td>\n",
       "      <td>832.0</td>\n",
       "      <td>8349.0</td>\n",
       "      <td>14 + 34</td>\n",
       "      <td>W5</td>\n",
       "      <td>10.034856</td>\n",
       "      <td>23.9.19</td>\n",
       "      <td>NaN</td>\n",
       "    </tr>\n",
       "    <tr>\n",
       "      <th>53</th>\n",
       "      <td>A</td>\n",
       "      <td>10</td>\n",
       "      <td>Sample X70</td>\n",
       "      <td>3272.0</td>\n",
       "      <td>42784.0</td>\n",
       "      <td>13 + 34</td>\n",
       "      <td>10 mM KNO3 in W5</td>\n",
       "      <td>13.075795</td>\n",
       "      <td>23.9.19</td>\n",
       "      <td>NaN</td>\n",
       "    </tr>\n",
       "    <tr>\n",
       "      <th>54</th>\n",
       "      <td>B</td>\n",
       "      <td>10</td>\n",
       "      <td>Sample X71</td>\n",
       "      <td>6726.0</td>\n",
       "      <td>150619.0</td>\n",
       "      <td>14 + 34</td>\n",
       "      <td>10 mM KNO3 in W5</td>\n",
       "      <td>22.393547</td>\n",
       "      <td>23.9.19</td>\n",
       "      <td>NaN</td>\n",
       "    </tr>\n",
       "    <tr>\n",
       "      <th>59</th>\n",
       "      <td>B</td>\n",
       "      <td>11</td>\n",
       "      <td>Sample X78</td>\n",
       "      <td>4620.0</td>\n",
       "      <td>125365.0</td>\n",
       "      <td>14 + 34</td>\n",
       "      <td>10 mM KNO3 in W5</td>\n",
       "      <td>27.135281</td>\n",
       "      <td>23.9.19</td>\n",
       "      <td>NaN</td>\n",
       "    </tr>\n",
       "    <tr>\n",
       "      <th>64</th>\n",
       "      <td>B</td>\n",
       "      <td>12</td>\n",
       "      <td>Sample X85</td>\n",
       "      <td>602.0</td>\n",
       "      <td>9322.0</td>\n",
       "      <td>14 + 34</td>\n",
       "      <td>10 mM KNO3 in W5</td>\n",
       "      <td>15.485050</td>\n",
       "      <td>23.9.19</td>\n",
       "      <td>NaN</td>\n",
       "    </tr>\n",
       "  </tbody>\n",
       "</table>\n",
       "<p>70 rows × 10 columns</p>\n",
       "</div>"
      ],
      "text/plain": [
       "   well_row  well_col     content  fluc_luminescence  nluc_luminescence  \\\n",
       "22        G         4  Sample X31             2143.0           131904.0   \n",
       "4         G         1   Sample X7             4743.0           191684.0   \n",
       "34        G         6  Sample X47             3508.0           446316.0   \n",
       "10        G         2  Sample X15            10868.0           762599.0   \n",
       "28        G         5  Sample X39             5682.0           496525.0   \n",
       "..      ...       ...         ...                ...                ...   \n",
       "47        B         9  Sample X64              832.0             8349.0   \n",
       "53        A        10  Sample X70             3272.0            42784.0   \n",
       "54        B        10  Sample X71             6726.0           150619.0   \n",
       "59        B        11  Sample X78             4620.0           125365.0   \n",
       "64        B        12  Sample X85              602.0             9322.0   \n",
       "\n",
       "        name         condition   nluc/fluc     date Promoter  \n",
       "22   35 + 34  10 mM KNO3 in W5   61.551097  23.9.19      NOS  \n",
       "4    35 + 34                W5   40.414084  23.9.19      NOS  \n",
       "34   35 + 34  10 mM KNO3 in W5  127.228050  23.9.19      NOS  \n",
       "10   35 + 34                W5   70.169212  23.9.19      NOS  \n",
       "28   35 + 34  10 mM KNO3 in W5   87.385604  23.9.19      NOS  \n",
       "..       ...               ...         ...      ...      ...  \n",
       "47  14 + 34                 W5   10.034856  23.9.19      NaN  \n",
       "53   13 + 34  10 mM KNO3 in W5   13.075795  23.9.19      NaN  \n",
       "54  14 + 34   10 mM KNO3 in W5   22.393547  23.9.19      NaN  \n",
       "59  14 + 34   10 mM KNO3 in W5   27.135281  23.9.19      NaN  \n",
       "64  14 + 34   10 mM KNO3 in W5   15.485050  23.9.19      NaN  \n",
       "\n",
       "[70 rows x 10 columns]"
      ]
     },
     "execution_count": 13,
     "metadata": {},
     "output_type": "execute_result"
    }
   ],
   "source": [
    "#sort rows by the custom promoter order I want so plots are in the correct order\n",
    "luminescence_raw_df.Promoter = pd.Categorical(luminescence_raw_df.Promoter,\n",
    "                                              ['NOS','STAP4','NIR1(1000bp)','ANAC032(1000bp)','ANR1(500bp)','ANR1(1000bp)', 'ARF18(500bp)','ARF18(1000bp)', 'DREB26(500bp)', 'DREB26(1000bp)','NLP7(500bp)', 'NLP7(1000bp)'])\n",
    "luminescence_raw_df.sort_values(\"Promoter\")"
   ]
  },
  {
   "cell_type": "code",
   "execution_count": 14,
   "metadata": {},
   "outputs": [],
   "source": [
    "#set style to ticks\n",
    "sns.set(style=\"ticks\", color_codes=True)"
   ]
  },
  {
   "cell_type": "code",
   "execution_count": 23,
   "metadata": {},
   "outputs": [
    {
     "data": {
      "application/vnd.plotly.v1+json": {
       "config": {
        "plotlyServerURL": "https://plot.ly"
       },
       "data": [
        {
         "alignmentgroup": "True",
         "box": {
          "visible": true
         },
         "customdata": [
          [
           "G",
           4,
           "Sample X31",
           2143,
           131904,
           "35 + 34",
           "10 mM KNO3 in W5",
           61.55109659356043,
           "23.9.19",
           0
          ],
          [
           "G",
           6,
           "Sample X47",
           3508,
           446316,
           "35 + 34",
           "10 mM KNO3 in W5",
           127.22805017103762,
           "23.9.19",
           0
          ],
          [
           "G",
           5,
           "Sample X39",
           5682,
           496525,
           "35 + 34",
           "10 mM KNO3 in W5",
           87.38560366068285,
           "23.9.19",
           0
          ],
          [
           "H",
           4,
           "Sample X32",
           6407,
           16755,
           "36 + 34",
           "10 mM KNO3 in W5",
           2.615108475105353,
           "23.9.19",
           1
          ],
          [
           "H",
           6,
           "Sample X48",
           3293,
           5898,
           "36 + 34",
           "10 mM KNO3 in W5",
           1.7910719708472518,
           "23.9.19",
           1
          ],
          [
           "H",
           5,
           "Sample X40",
           1297,
           4662,
           "36 + 34",
           "10 mM KNO3 in W5",
           3.594448727833462,
           "23.9.19",
           1
          ],
          [
           "G",
           12,
           "Sample X90",
           993,
           842,
           "25 + 34",
           "10 mM KNO3 in W5",
           0.8479355488418933,
           "23.9.19",
           2
          ],
          [
           "C",
           11,
           "Sample X79",
           4062,
           31327,
           "15 + 34",
           "10 mM KNO3 in W5",
           7.712210733628753,
           "23.9.19",
           4
          ],
          [
           "C",
           12,
           "Sample X86",
           2145,
           16243,
           "15 + 34",
           "10 mM KNO3 in W5",
           7.5724941724941734,
           "23.9.19",
           4
          ],
          [
           "C",
           10,
           "Sample X72",
           3957,
           21237,
           "15 + 34",
           "10 mM KNO3 in W5",
           5.366944655041698,
           "23.9.19",
           4
          ],
          [
           "D",
           10,
           "Sample X73",
           7988,
           60197,
           "16 + 34",
           "10 mM KNO3 in W5",
           7.535928893340009,
           "23.9.19",
           5
          ],
          [
           "D",
           11,
           "Sample X80",
           8626,
           57616,
           "16 + 34",
           "10 mM KNO3 in W5",
           6.6793415256202175,
           "23.9.19",
           5
          ],
          [
           "D",
           12,
           "Sample X87",
           3975,
           28520,
           "16 + 34",
           "10 mM KNO3 in W5",
           7.174842767295598,
           "23.9.19",
           5
          ],
          [
           "E",
           10,
           "Sample X74",
           2263,
           9111,
           "17 + 34",
           "10 mM KNO3 in W5",
           4.026071586389748,
           "23.9.19",
           6
          ],
          [
           "E",
           11,
           "Sample X81",
           1880,
           8259,
           "17 + 34",
           "10 mM KNO3 in W5",
           4.393085106382979,
           "23.9.19",
           6
          ],
          [
           "E",
           12,
           "Sample X88",
           1492,
           5436,
           "17 + 34",
           "10 mM KNO3 in W5",
           3.6434316353887404,
           "23.9.19",
           6
          ],
          [
           "F",
           12,
           "Sample X89",
           1888,
           10320,
           "18 + 34",
           "10 mM KNO3 in W5",
           5.466101694915254,
           "23.9.19",
           7
          ],
          [
           "F",
           10,
           "Sample X75",
           1019,
           2863,
           "18 + 34",
           "10 mM KNO3 in W5",
           2.8096172718351324,
           "23.9.19",
           7
          ],
          [
           "F",
           11,
           "Sample X82",
           974,
           4830,
           "18 + 34",
           "10 mM KNO3 in W5",
           4.958932238193018,
           "23.9.19",
           7
          ],
          [
           "C",
           6,
           "Sample X43",
           4400,
           25165,
           "21 + 34",
           "10 mM KNO3 in W5",
           5.719318181818182,
           "23.9.19",
           8
          ],
          [
           "C",
           5,
           "Sample X35",
           14711,
           62676,
           "21 + 34",
           "10 mM KNO3 in W5",
           4.2604853510978185,
           "23.9.19",
           8
          ],
          [
           "C",
           4,
           "Sample X27",
           7981,
           23897,
           "21 + 34",
           "10 mM KNO3 in W5",
           2.994236311239193,
           "23.9.19",
           8
          ],
          [
           "D",
           6,
           "Sample X44",
           3481,
           43232,
           "22 + 34",
           "10 mM KNO3 in W5",
           12.419419706980753,
           "23.9.19",
           9
          ],
          [
           "D",
           5,
           "Sample X36",
           6240,
           31033,
           "22 + 34",
           "10 mM KNO3 in W5",
           4.97323717948718,
           "23.9.19",
           9
          ],
          [
           "D",
           4,
           "Sample X28",
           6573,
           43264,
           "22 + 34",
           "10 mM KNO3 in W5",
           6.582078198691617,
           "23.9.19",
           9
          ],
          [
           "E",
           6,
           "Sample X45",
           3241,
           16246,
           "23 + 34",
           "10 mM KNO3 in W5",
           5.012650416538105,
           "23.9.19",
           10
          ],
          [
           "E",
           4,
           "Sample X29",
           3445,
           13045,
           "23 + 34",
           "10 mM KNO3 in W5",
           3.7866473149492017,
           "23.9.19",
           10
          ],
          [
           "E",
           5,
           "Sample X37",
           8081,
           43477,
           "23 + 34",
           "10 mM KNO3 in W5",
           5.380150971414429,
           "23.9.19",
           10
          ],
          [
           "F",
           4,
           "Sample X30",
           2698,
           21941,
           "24 + 34",
           "10 mM KNO3 in W5",
           8.132320237212749,
           "23.9.19",
           11
          ],
          [
           "F",
           5,
           "Sample X38",
           6969,
           27923,
           "24 + 34",
           "10 mM KNO3 in W5",
           4.006744152676137,
           "23.9.19",
           11
          ],
          [
           "F",
           6,
           "Sample X46",
           1654,
           6472,
           "24 + 34",
           "10 mM KNO3 in W5",
           3.912938331318017,
           "23.9.19",
           11
          ],
          [
           "A",
           10,
           "Sample X70",
           3272,
           42784,
           "13 + 34",
           "10 mM KNO3 in W5",
           13.075794621026896,
           "23.9.19",
           -1
          ],
          [
           "B",
           10,
           "Sample X71",
           6726,
           150619,
           "14 + 34 ",
           "10 mM KNO3 in W5",
           22.393547427891765,
           "23.9.19",
           -1
          ],
          [
           "B",
           11,
           "Sample X78",
           4620,
           125365,
           "14 + 34 ",
           "10 mM KNO3 in W5",
           27.135281385281388,
           "23.9.19",
           -1
          ],
          [
           "B",
           12,
           "Sample X85",
           602,
           9322,
           "14 + 34 ",
           "10 mM KNO3 in W5",
           15.485049833887045,
           "23.9.19",
           -1
          ]
         ],
         "hovertemplate": "condition=%{customdata[6]}<br>Promoter=%{customdata[9]}<br>nluc/fluc=%{customdata[7]}<br>well_row=%{customdata[0]}<br>well_col=%{customdata[1]}<br>content=%{customdata[2]}<br>fluc_luminescence=%{customdata[3]}<br>nluc_luminescence=%{customdata[4]}<br>name=%{customdata[5]}<br>date=%{customdata[8]}<extra></extra>",
         "legendgroup": "10 mM KNO3 in W5",
         "marker": {
          "color": "#636efa"
         },
         "name": "10 mM KNO3 in W5",
         "offsetgroup": "10 mM KNO3 in W5",
         "orientation": "v",
         "scalegroup": "True",
         "showlegend": true,
         "type": "violin",
         "x": [
          "NOS",
          "NOS",
          "NOS",
          "STAP4",
          "STAP4",
          "STAP4",
          "NIR1(1000bp)",
          "ANR1(500bp)",
          "ANR1(500bp)",
          "ANR1(500bp)",
          "ANR1(1000bp)",
          "ANR1(1000bp)",
          "ANR1(1000bp)",
          "ARF18(500bp)",
          "ARF18(500bp)",
          "ARF18(500bp)",
          "ARF18(1000bp)",
          "ARF18(1000bp)",
          "ARF18(1000bp)",
          "DREB26(500bp)",
          "DREB26(500bp)",
          "DREB26(500bp)",
          "DREB26(1000bp)",
          "DREB26(1000bp)",
          "DREB26(1000bp)",
          "NLP7(500bp)",
          "NLP7(500bp)",
          "NLP7(500bp)",
          "NLP7(1000bp)",
          "NLP7(1000bp)",
          "NLP7(1000bp)",
          null,
          null,
          null,
          null
         ],
         "x0": " ",
         "xaxis": "x",
         "y": [
          61.55109659356043,
          127.22805017103762,
          87.38560366068285,
          2.615108475105353,
          1.7910719708472518,
          3.594448727833462,
          0.8479355488418933,
          7.712210733628753,
          7.5724941724941734,
          5.366944655041698,
          7.535928893340009,
          6.6793415256202175,
          7.174842767295598,
          4.026071586389748,
          4.393085106382979,
          3.6434316353887404,
          5.466101694915254,
          2.8096172718351324,
          4.958932238193018,
          5.719318181818182,
          4.2604853510978185,
          2.994236311239193,
          12.419419706980753,
          4.97323717948718,
          6.582078198691617,
          5.012650416538105,
          3.7866473149492017,
          5.380150971414429,
          8.132320237212749,
          4.006744152676137,
          3.912938331318017,
          13.075794621026896,
          22.393547427891765,
          27.135281385281388,
          15.485049833887045
         ],
         "y0": " ",
         "yaxis": "y"
        },
        {
         "alignmentgroup": "True",
         "box": {
          "visible": true
         },
         "customdata": [
          [
           "G",
           1,
           "Sample X7",
           4743,
           191684,
           "35 + 34",
           "W5",
           40.41408391313513,
           "23.9.19",
           0
          ],
          [
           "G",
           2,
           "Sample X15",
           10868,
           762599,
           "35 + 34",
           "W5",
           70.1692123665808,
           "23.9.19",
           0
          ],
          [
           "G",
           3,
           "Sample X23",
           11121,
           724563,
           "35 + 34",
           "W5",
           65.15268411114108,
           "23.9.19",
           0
          ],
          [
           "H",
           1,
           "Sample X8",
           7058,
           13430,
           "36 + 34",
           "W5",
           1.9028053272881835,
           "23.9.19",
           1
          ],
          [
           "H",
           2,
           "Sample X16",
           7399,
           13222,
           "36 + 34",
           "W5",
           1.7869982430058116,
           "23.9.19",
           1
          ],
          [
           "H",
           3,
           "Sample X24",
           7556,
           19292,
           "36 + 34",
           "W5",
           2.5532027527792485,
           "23.9.19",
           1
          ],
          [
           "G",
           9,
           "Sample X69",
           7709,
           6268,
           "25 + 34",
           "W5",
           0.8130756258918148,
           "23.9.19",
           2
          ],
          [
           "G",
           7,
           "Sample X55",
           6047,
           2594,
           "25 + 34",
           "W5",
           0.4289730444848685,
           "23.9.19",
           2
          ],
          [
           "C",
           9,
           "Sample X65",
           835,
           7773,
           "15 + 34",
           "W5",
           9.308982035928144,
           "23.9.19",
           4
          ],
          [
           "C",
           8,
           "Sample X58",
           4880,
           48753,
           "15 + 34",
           "W5",
           9.990368852459016,
           "23.9.19",
           4
          ],
          [
           "C",
           7,
           "Sample X51",
           13557,
           93744,
           "15 + 34",
           "W5",
           6.914804160212437,
           "23.9.19",
           4
          ],
          [
           "D",
           7,
           "Sample X52",
           6530,
           57720,
           "16 + 34",
           "W5",
           8.839203675344566,
           "23.9.19",
           5
          ],
          [
           "D",
           9,
           "Sample X66",
           5011,
           29081,
           "16 + 34",
           "W5",
           5.803432448613052,
           "23.9.19",
           5
          ],
          [
           "D",
           8,
           "Sample X59",
           2075,
           27158,
           "16 + 34",
           "W5",
           13.088192771084335,
           "23.9.19",
           5
          ],
          [
           "E",
           7,
           "Sample X53",
           6141,
           37365,
           "17 + 34",
           "W5",
           6.0845139228138745,
           "23.9.19",
           6
          ],
          [
           "E",
           9,
           "Sample X67",
           773,
           2694,
           "17 + 34",
           "W5",
           3.4851228978007764,
           "23.9.19",
           6
          ],
          [
           "E",
           8,
           "Sample X60",
           1676,
           3780,
           "17 + 34",
           "W5",
           2.2553699284009547,
           "23.9.19",
           6
          ],
          [
           "F",
           8,
           "Sample X61",
           7403,
           37764,
           "18 + 34",
           "W5",
           5.10117519924355,
           "23.9.19",
           7
          ],
          [
           "F",
           7,
           "Sample X54",
           5048,
           29882,
           "18 + 34",
           "W5",
           5.919572107765451,
           "23.9.19",
           7
          ],
          [
           "F",
           9,
           "Sample X68",
           9386,
           40299,
           "18 + 34",
           "W5",
           4.293522267206479,
           "23.9.19",
           7
          ],
          [
           "C",
           1,
           "Sample X3",
           2625,
           12182,
           "21 + 34",
           "W5",
           4.640761904761905,
           "23.9.19",
           8
          ],
          [
           "C",
           2,
           "Sample X11",
           10677,
           57256,
           "21 + 34",
           "W5",
           5.362555024819706,
           "23.9.19",
           8
          ],
          [
           "C",
           3,
           "Sample X19",
           8076,
           64987,
           "21 + 34",
           "W5",
           8.046929172857851,
           "23.9.19",
           8
          ],
          [
           "D",
           1,
           "Sample X4",
           938,
           4026,
           "22 + 34",
           "W5",
           4.292110874200427,
           "23.9.19",
           9
          ],
          [
           "D",
           2,
           "Sample X12",
           5338,
           34948,
           "22 + 34",
           "W5",
           6.547021356313226,
           "23.9.19",
           9
          ],
          [
           "D",
           3,
           "Sample X20",
           5776,
           64459,
           "22 + 34",
           "W5",
           11.15979916897507,
           "23.9.19",
           9
          ],
          [
           "E",
           1,
           "Sample X5",
           17688,
           66136,
           "23 + 34",
           "W5",
           3.739032112166441,
           "23.9.19",
           10
          ],
          [
           "E",
           2,
           "Sample X13",
           12024,
           37889,
           "23 + 34",
           "W5",
           3.1511144377910845,
           "23.9.19",
           10
          ],
          [
           "E",
           3,
           "Sample X21",
           13036,
           81713,
           "23 + 34",
           "W5",
           6.268257134090213,
           "23.9.19",
           10
          ],
          [
           "F",
           2,
           "Sample X14",
           15997,
           70520,
           "24 + 34",
           "W5",
           4.408326561230232,
           "23.9.19",
           11
          ],
          [
           "F",
           3,
           "Sample X22",
           11316,
           45572,
           "24 + 34",
           "W5",
           4.027218098267939,
           "23.9.19",
           11
          ],
          [
           "F",
           1,
           "Sample X6",
           8782,
           33715,
           "24 + 34",
           "W5",
           3.839102710088818,
           "23.9.19",
           11
          ],
          [
           "B",
           7,
           "Sample X50",
           962,
           17132,
           "14 + 34 ",
           "W5",
           17.80873180873181,
           "23.9.19",
           -1
          ],
          [
           "B",
           8,
           "Sample X57",
           775,
           17853,
           "14 + 34 ",
           "W5",
           23.036129032258067,
           "23.9.19",
           -1
          ],
          [
           "B",
           9,
           "Sample X64",
           832,
           8349,
           "14 + 34 ",
           "W5",
           10.03485576923077,
           "23.9.19",
           -1
          ]
         ],
         "hovertemplate": "condition=%{customdata[6]}<br>Promoter=%{customdata[9]}<br>nluc/fluc=%{customdata[7]}<br>well_row=%{customdata[0]}<br>well_col=%{customdata[1]}<br>content=%{customdata[2]}<br>fluc_luminescence=%{customdata[3]}<br>nluc_luminescence=%{customdata[4]}<br>name=%{customdata[5]}<br>date=%{customdata[8]}<extra></extra>",
         "legendgroup": "W5",
         "marker": {
          "color": "#EF553B"
         },
         "name": "W5",
         "offsetgroup": "W5",
         "orientation": "v",
         "scalegroup": "True",
         "showlegend": true,
         "type": "violin",
         "x": [
          "NOS",
          "NOS",
          "NOS",
          "STAP4",
          "STAP4",
          "STAP4",
          "NIR1(1000bp)",
          "NIR1(1000bp)",
          "ANR1(500bp)",
          "ANR1(500bp)",
          "ANR1(500bp)",
          "ANR1(1000bp)",
          "ANR1(1000bp)",
          "ANR1(1000bp)",
          "ARF18(500bp)",
          "ARF18(500bp)",
          "ARF18(500bp)",
          "ARF18(1000bp)",
          "ARF18(1000bp)",
          "ARF18(1000bp)",
          "DREB26(500bp)",
          "DREB26(500bp)",
          "DREB26(500bp)",
          "DREB26(1000bp)",
          "DREB26(1000bp)",
          "DREB26(1000bp)",
          "NLP7(500bp)",
          "NLP7(500bp)",
          "NLP7(500bp)",
          "NLP7(1000bp)",
          "NLP7(1000bp)",
          "NLP7(1000bp)",
          null,
          null,
          null
         ],
         "x0": " ",
         "xaxis": "x",
         "y": [
          40.41408391313513,
          70.1692123665808,
          65.15268411114108,
          1.9028053272881835,
          1.7869982430058116,
          2.5532027527792485,
          0.8130756258918148,
          0.4289730444848685,
          9.308982035928144,
          9.990368852459016,
          6.914804160212437,
          8.839203675344566,
          5.803432448613052,
          13.088192771084335,
          6.0845139228138745,
          3.4851228978007764,
          2.2553699284009547,
          5.10117519924355,
          5.919572107765451,
          4.293522267206479,
          4.640761904761905,
          5.362555024819706,
          8.046929172857851,
          4.292110874200427,
          6.547021356313226,
          11.15979916897507,
          3.739032112166441,
          3.1511144377910845,
          6.268257134090213,
          4.408326561230232,
          4.027218098267939,
          3.839102710088818,
          17.80873180873181,
          23.036129032258067,
          10.03485576923077
         ],
         "y0": " ",
         "yaxis": "y"
        }
       ],
       "layout": {
        "autosize": true,
        "legend": {
         "title": {
          "text": "condition"
         },
         "tracegroupgap": 0
        },
        "margin": {
         "t": 60
        },
        "paper_bgcolor": "rgba(0, 0, 0, 0)",
        "plot_bgcolor": "rgba(0, 0, 0, 0)",
        "template": {
         "data": {
          "bar": [
           {
            "error_x": {
             "color": "#2a3f5f"
            },
            "error_y": {
             "color": "#2a3f5f"
            },
            "marker": {
             "line": {
              "color": "#E5ECF6",
              "width": 0.5
             }
            },
            "type": "bar"
           }
          ],
          "barpolar": [
           {
            "marker": {
             "line": {
              "color": "#E5ECF6",
              "width": 0.5
             }
            },
            "type": "barpolar"
           }
          ],
          "carpet": [
           {
            "aaxis": {
             "endlinecolor": "#2a3f5f",
             "gridcolor": "white",
             "linecolor": "white",
             "minorgridcolor": "white",
             "startlinecolor": "#2a3f5f"
            },
            "baxis": {
             "endlinecolor": "#2a3f5f",
             "gridcolor": "white",
             "linecolor": "white",
             "minorgridcolor": "white",
             "startlinecolor": "#2a3f5f"
            },
            "type": "carpet"
           }
          ],
          "choropleth": [
           {
            "colorbar": {
             "outlinewidth": 0,
             "ticks": ""
            },
            "type": "choropleth"
           }
          ],
          "contour": [
           {
            "colorbar": {
             "outlinewidth": 0,
             "ticks": ""
            },
            "colorscale": [
             [
              0,
              "#0d0887"
             ],
             [
              0.1111111111111111,
              "#46039f"
             ],
             [
              0.2222222222222222,
              "#7201a8"
             ],
             [
              0.3333333333333333,
              "#9c179e"
             ],
             [
              0.4444444444444444,
              "#bd3786"
             ],
             [
              0.5555555555555556,
              "#d8576b"
             ],
             [
              0.6666666666666666,
              "#ed7953"
             ],
             [
              0.7777777777777778,
              "#fb9f3a"
             ],
             [
              0.8888888888888888,
              "#fdca26"
             ],
             [
              1,
              "#f0f921"
             ]
            ],
            "type": "contour"
           }
          ],
          "contourcarpet": [
           {
            "colorbar": {
             "outlinewidth": 0,
             "ticks": ""
            },
            "type": "contourcarpet"
           }
          ],
          "heatmap": [
           {
            "colorbar": {
             "outlinewidth": 0,
             "ticks": ""
            },
            "colorscale": [
             [
              0,
              "#0d0887"
             ],
             [
              0.1111111111111111,
              "#46039f"
             ],
             [
              0.2222222222222222,
              "#7201a8"
             ],
             [
              0.3333333333333333,
              "#9c179e"
             ],
             [
              0.4444444444444444,
              "#bd3786"
             ],
             [
              0.5555555555555556,
              "#d8576b"
             ],
             [
              0.6666666666666666,
              "#ed7953"
             ],
             [
              0.7777777777777778,
              "#fb9f3a"
             ],
             [
              0.8888888888888888,
              "#fdca26"
             ],
             [
              1,
              "#f0f921"
             ]
            ],
            "type": "heatmap"
           }
          ],
          "heatmapgl": [
           {
            "colorbar": {
             "outlinewidth": 0,
             "ticks": ""
            },
            "colorscale": [
             [
              0,
              "#0d0887"
             ],
             [
              0.1111111111111111,
              "#46039f"
             ],
             [
              0.2222222222222222,
              "#7201a8"
             ],
             [
              0.3333333333333333,
              "#9c179e"
             ],
             [
              0.4444444444444444,
              "#bd3786"
             ],
             [
              0.5555555555555556,
              "#d8576b"
             ],
             [
              0.6666666666666666,
              "#ed7953"
             ],
             [
              0.7777777777777778,
              "#fb9f3a"
             ],
             [
              0.8888888888888888,
              "#fdca26"
             ],
             [
              1,
              "#f0f921"
             ]
            ],
            "type": "heatmapgl"
           }
          ],
          "histogram": [
           {
            "marker": {
             "colorbar": {
              "outlinewidth": 0,
              "ticks": ""
             }
            },
            "type": "histogram"
           }
          ],
          "histogram2d": [
           {
            "colorbar": {
             "outlinewidth": 0,
             "ticks": ""
            },
            "colorscale": [
             [
              0,
              "#0d0887"
             ],
             [
              0.1111111111111111,
              "#46039f"
             ],
             [
              0.2222222222222222,
              "#7201a8"
             ],
             [
              0.3333333333333333,
              "#9c179e"
             ],
             [
              0.4444444444444444,
              "#bd3786"
             ],
             [
              0.5555555555555556,
              "#d8576b"
             ],
             [
              0.6666666666666666,
              "#ed7953"
             ],
             [
              0.7777777777777778,
              "#fb9f3a"
             ],
             [
              0.8888888888888888,
              "#fdca26"
             ],
             [
              1,
              "#f0f921"
             ]
            ],
            "type": "histogram2d"
           }
          ],
          "histogram2dcontour": [
           {
            "colorbar": {
             "outlinewidth": 0,
             "ticks": ""
            },
            "colorscale": [
             [
              0,
              "#0d0887"
             ],
             [
              0.1111111111111111,
              "#46039f"
             ],
             [
              0.2222222222222222,
              "#7201a8"
             ],
             [
              0.3333333333333333,
              "#9c179e"
             ],
             [
              0.4444444444444444,
              "#bd3786"
             ],
             [
              0.5555555555555556,
              "#d8576b"
             ],
             [
              0.6666666666666666,
              "#ed7953"
             ],
             [
              0.7777777777777778,
              "#fb9f3a"
             ],
             [
              0.8888888888888888,
              "#fdca26"
             ],
             [
              1,
              "#f0f921"
             ]
            ],
            "type": "histogram2dcontour"
           }
          ],
          "mesh3d": [
           {
            "colorbar": {
             "outlinewidth": 0,
             "ticks": ""
            },
            "type": "mesh3d"
           }
          ],
          "parcoords": [
           {
            "line": {
             "colorbar": {
              "outlinewidth": 0,
              "ticks": ""
             }
            },
            "type": "parcoords"
           }
          ],
          "pie": [
           {
            "automargin": true,
            "type": "pie"
           }
          ],
          "scatter": [
           {
            "marker": {
             "colorbar": {
              "outlinewidth": 0,
              "ticks": ""
             }
            },
            "type": "scatter"
           }
          ],
          "scatter3d": [
           {
            "line": {
             "colorbar": {
              "outlinewidth": 0,
              "ticks": ""
             }
            },
            "marker": {
             "colorbar": {
              "outlinewidth": 0,
              "ticks": ""
             }
            },
            "type": "scatter3d"
           }
          ],
          "scattercarpet": [
           {
            "marker": {
             "colorbar": {
              "outlinewidth": 0,
              "ticks": ""
             }
            },
            "type": "scattercarpet"
           }
          ],
          "scattergeo": [
           {
            "marker": {
             "colorbar": {
              "outlinewidth": 0,
              "ticks": ""
             }
            },
            "type": "scattergeo"
           }
          ],
          "scattergl": [
           {
            "marker": {
             "colorbar": {
              "outlinewidth": 0,
              "ticks": ""
             }
            },
            "type": "scattergl"
           }
          ],
          "scattermapbox": [
           {
            "marker": {
             "colorbar": {
              "outlinewidth": 0,
              "ticks": ""
             }
            },
            "type": "scattermapbox"
           }
          ],
          "scatterpolar": [
           {
            "marker": {
             "colorbar": {
              "outlinewidth": 0,
              "ticks": ""
             }
            },
            "type": "scatterpolar"
           }
          ],
          "scatterpolargl": [
           {
            "marker": {
             "colorbar": {
              "outlinewidth": 0,
              "ticks": ""
             }
            },
            "type": "scatterpolargl"
           }
          ],
          "scatterternary": [
           {
            "marker": {
             "colorbar": {
              "outlinewidth": 0,
              "ticks": ""
             }
            },
            "type": "scatterternary"
           }
          ],
          "surface": [
           {
            "colorbar": {
             "outlinewidth": 0,
             "ticks": ""
            },
            "colorscale": [
             [
              0,
              "#0d0887"
             ],
             [
              0.1111111111111111,
              "#46039f"
             ],
             [
              0.2222222222222222,
              "#7201a8"
             ],
             [
              0.3333333333333333,
              "#9c179e"
             ],
             [
              0.4444444444444444,
              "#bd3786"
             ],
             [
              0.5555555555555556,
              "#d8576b"
             ],
             [
              0.6666666666666666,
              "#ed7953"
             ],
             [
              0.7777777777777778,
              "#fb9f3a"
             ],
             [
              0.8888888888888888,
              "#fdca26"
             ],
             [
              1,
              "#f0f921"
             ]
            ],
            "type": "surface"
           }
          ],
          "table": [
           {
            "cells": {
             "fill": {
              "color": "#EBF0F8"
             },
             "line": {
              "color": "white"
             }
            },
            "header": {
             "fill": {
              "color": "#C8D4E3"
             },
             "line": {
              "color": "white"
             }
            },
            "type": "table"
           }
          ]
         },
         "layout": {
          "annotationdefaults": {
           "arrowcolor": "#2a3f5f",
           "arrowhead": 0,
           "arrowwidth": 1
          },
          "coloraxis": {
           "colorbar": {
            "outlinewidth": 0,
            "ticks": ""
           }
          },
          "colorscale": {
           "diverging": [
            [
             0,
             "#8e0152"
            ],
            [
             0.1,
             "#c51b7d"
            ],
            [
             0.2,
             "#de77ae"
            ],
            [
             0.3,
             "#f1b6da"
            ],
            [
             0.4,
             "#fde0ef"
            ],
            [
             0.5,
             "#f7f7f7"
            ],
            [
             0.6,
             "#e6f5d0"
            ],
            [
             0.7,
             "#b8e186"
            ],
            [
             0.8,
             "#7fbc41"
            ],
            [
             0.9,
             "#4d9221"
            ],
            [
             1,
             "#276419"
            ]
           ],
           "sequential": [
            [
             0,
             "#0d0887"
            ],
            [
             0.1111111111111111,
             "#46039f"
            ],
            [
             0.2222222222222222,
             "#7201a8"
            ],
            [
             0.3333333333333333,
             "#9c179e"
            ],
            [
             0.4444444444444444,
             "#bd3786"
            ],
            [
             0.5555555555555556,
             "#d8576b"
            ],
            [
             0.6666666666666666,
             "#ed7953"
            ],
            [
             0.7777777777777778,
             "#fb9f3a"
            ],
            [
             0.8888888888888888,
             "#fdca26"
            ],
            [
             1,
             "#f0f921"
            ]
           ],
           "sequentialminus": [
            [
             0,
             "#0d0887"
            ],
            [
             0.1111111111111111,
             "#46039f"
            ],
            [
             0.2222222222222222,
             "#7201a8"
            ],
            [
             0.3333333333333333,
             "#9c179e"
            ],
            [
             0.4444444444444444,
             "#bd3786"
            ],
            [
             0.5555555555555556,
             "#d8576b"
            ],
            [
             0.6666666666666666,
             "#ed7953"
            ],
            [
             0.7777777777777778,
             "#fb9f3a"
            ],
            [
             0.8888888888888888,
             "#fdca26"
            ],
            [
             1,
             "#f0f921"
            ]
           ]
          },
          "colorway": [
           "#636efa",
           "#EF553B",
           "#00cc96",
           "#ab63fa",
           "#FFA15A",
           "#19d3f3",
           "#FF6692",
           "#B6E880",
           "#FF97FF",
           "#FECB52"
          ],
          "font": {
           "color": "#2a3f5f"
          },
          "geo": {
           "bgcolor": "white",
           "lakecolor": "white",
           "landcolor": "#E5ECF6",
           "showlakes": true,
           "showland": true,
           "subunitcolor": "white"
          },
          "hoverlabel": {
           "align": "left"
          },
          "hovermode": "closest",
          "mapbox": {
           "style": "light"
          },
          "paper_bgcolor": "white",
          "plot_bgcolor": "#E5ECF6",
          "polar": {
           "angularaxis": {
            "gridcolor": "white",
            "linecolor": "white",
            "ticks": ""
           },
           "bgcolor": "#E5ECF6",
           "radialaxis": {
            "gridcolor": "white",
            "linecolor": "white",
            "ticks": ""
           }
          },
          "scene": {
           "xaxis": {
            "backgroundcolor": "#E5ECF6",
            "gridcolor": "white",
            "gridwidth": 2,
            "linecolor": "white",
            "showbackground": true,
            "ticks": "",
            "zerolinecolor": "white"
           },
           "yaxis": {
            "backgroundcolor": "#E5ECF6",
            "gridcolor": "white",
            "gridwidth": 2,
            "linecolor": "white",
            "showbackground": true,
            "ticks": "",
            "zerolinecolor": "white"
           },
           "zaxis": {
            "backgroundcolor": "#E5ECF6",
            "gridcolor": "white",
            "gridwidth": 2,
            "linecolor": "white",
            "showbackground": true,
            "ticks": "",
            "zerolinecolor": "white"
           }
          },
          "shapedefaults": {
           "line": {
            "color": "#2a3f5f"
           }
          },
          "ternary": {
           "aaxis": {
            "gridcolor": "white",
            "linecolor": "white",
            "ticks": ""
           },
           "baxis": {
            "gridcolor": "white",
            "linecolor": "white",
            "ticks": ""
           },
           "bgcolor": "#E5ECF6",
           "caxis": {
            "gridcolor": "white",
            "linecolor": "white",
            "ticks": ""
           }
          },
          "title": {
           "x": 0.05
          },
          "xaxis": {
           "automargin": true,
           "gridcolor": "white",
           "linecolor": "white",
           "ticks": "",
           "title": {
            "standoff": 15
           },
           "zerolinecolor": "white",
           "zerolinewidth": 2
          },
          "yaxis": {
           "automargin": true,
           "gridcolor": "white",
           "linecolor": "white",
           "ticks": "",
           "title": {
            "standoff": 15
           },
           "zerolinecolor": "white",
           "zerolinewidth": 2
          }
         }
        },
        "violinmode": "group",
        "xaxis": {
         "anchor": "y",
         "autorange": true,
         "domain": [
          0,
          1
         ],
         "linecolor": "black",
         "linewidth": 1,
         "range": [
          -0.5,
          10.5
         ],
         "showline": true,
         "ticks": "outside",
         "title": {
          "text": "Promoter"
         },
         "type": "category"
        },
        "yaxis": {
         "anchor": "x",
         "autorange": true,
         "domain": [
          0,
          1
         ],
         "linecolor": "black",
         "linewidth": 1,
         "range": [
          -11.975562926403235,
          193.76919899731712
         ],
         "showline": true,
         "ticks": "outside",
         "title": {
          "text": "Mean_luminescence"
         },
         "type": "linear"
        }
       }
      },
      "image/png": "[encoded data removed]",
      "text/html": [
       "<div>\n",
       "        \n",
       "        \n",
       "            <div id=\"c9dd9d7e-24a7-4782-be6a-88674d6a89c6\" class=\"plotly-graph-div\" style=\"height:525px; width:100%;\"></div>\n",
       "            <script type=\"text/javascript\">\n",
       "                require([\"plotly\"], function(Plotly) {\n",
       "                    window.PLOTLYENV=window.PLOTLYENV || {};\n",
       "                    \n",
       "                if (document.getElementById(\"c9dd9d7e-24a7-4782-be6a-88674d6a89c6\")) {\n",
       "                    Plotly.newPlot(\n",
       "                        'c9dd9d7e-24a7-4782-be6a-88674d6a89c6',\n",
       "                        [{\"alignmentgroup\": \"True\", \"box\": {\"visible\": true}, \"customdata\": [[\"G\", 4, \"Sample X31\", 2143.0, 131904.0, \"35 + 34\", \"10 mM KNO3 in W5\", 61.55109659356043, \"23.9.19\", 0], [\"G\", 6, \"Sample X47\", 3508.0, 446316.0, \"35 + 34\", \"10 mM KNO3 in W5\", 127.22805017103762, \"23.9.19\", 0], [\"G\", 5, \"Sample X39\", 5682.0, 496525.0, \"35 + 34\", \"10 mM KNO3 in W5\", 87.38560366068285, \"23.9.19\", 0], [\"H\", 4, \"Sample X32\", 6407.0, 16755.0, \"36 + 34\", \"10 mM KNO3 in W5\", 2.615108475105353, \"23.9.19\", 1], [\"H\", 6, \"Sample X48\", 3293.0, 5898.0, \"36 + 34\", \"10 mM KNO3 in W5\", 1.7910719708472518, \"23.9.19\", 1], [\"H\", 5, \"Sample X40\", 1297.0, 4662.0, \"36 + 34\", \"10 mM KNO3 in W5\", 3.594448727833462, \"23.9.19\", 1], [\"G\", 12, \"Sample X90\", 993.0, 842.0, \"25 + 34\", \"10 mM KNO3 in W5\", 0.8479355488418933, \"23.9.19\", 2], [\"C\", 11, \"Sample X79\", 4062.0, 31327.0, \"15 + 34\", \"10 mM KNO3 in W5\", 7.712210733628753, \"23.9.19\", 4], [\"C\", 12, \"Sample X86\", 2145.0, 16243.0, \"15 + 34\", \"10 mM KNO3 in W5\", 7.5724941724941734, \"23.9.19\", 4], [\"C\", 10, \"Sample X72\", 3957.0, 21237.0, \"15 + 34\", \"10 mM KNO3 in W5\", 5.366944655041698, \"23.9.19\", 4], [\"D\", 10, \"Sample X73\", 7988.0, 60197.0, \"16 + 34\", \"10 mM KNO3 in W5\", 7.535928893340009, \"23.9.19\", 5], [\"D\", 11, \"Sample X80\", 8626.0, 57616.0, \"16 + 34\", \"10 mM KNO3 in W5\", 6.6793415256202175, \"23.9.19\", 5], [\"D\", 12, \"Sample X87\", 3975.0, 28520.0, \"16 + 34\", \"10 mM KNO3 in W5\", 7.174842767295598, \"23.9.19\", 5], [\"E\", 10, \"Sample X74\", 2263.0, 9111.0, \"17 + 34\", \"10 mM KNO3 in W5\", 4.026071586389748, \"23.9.19\", 6], [\"E\", 11, \"Sample X81\", 1880.0, 8259.0, \"17 + 34\", \"10 mM KNO3 in W5\", 4.393085106382979, \"23.9.19\", 6], [\"E\", 12, \"Sample X88\", 1492.0, 5436.0, \"17 + 34\", \"10 mM KNO3 in W5\", 3.6434316353887404, \"23.9.19\", 6], [\"F\", 12, \"Sample X89\", 1888.0, 10320.0, \"18 + 34\", \"10 mM KNO3 in W5\", 5.466101694915254, \"23.9.19\", 7], [\"F\", 10, \"Sample X75\", 1019.0, 2863.0, \"18 + 34\", \"10 mM KNO3 in W5\", 2.8096172718351324, \"23.9.19\", 7], [\"F\", 11, \"Sample X82\", 974.0, 4830.0, \"18 + 34\", \"10 mM KNO3 in W5\", 4.958932238193018, \"23.9.19\", 7], [\"C\", 6, \"Sample X43\", 4400.0, 25165.0, \"21 + 34\", \"10 mM KNO3 in W5\", 5.719318181818182, \"23.9.19\", 8], [\"C\", 5, \"Sample X35\", 14711.0, 62676.0, \"21 + 34\", \"10 mM KNO3 in W5\", 4.2604853510978185, \"23.9.19\", 8], [\"C\", 4, \"Sample X27\", 7981.0, 23897.0, \"21 + 34\", \"10 mM KNO3 in W5\", 2.994236311239193, \"23.9.19\", 8], [\"D\", 6, \"Sample X44\", 3481.0, 43232.0, \"22 + 34\", \"10 mM KNO3 in W5\", 12.419419706980753, \"23.9.19\", 9], [\"D\", 5, \"Sample X36\", 6240.0, 31033.0, \"22 + 34\", \"10 mM KNO3 in W5\", 4.97323717948718, \"23.9.19\", 9], [\"D\", 4, \"Sample X28\", 6573.0, 43264.0, \"22 + 34\", \"10 mM KNO3 in W5\", 6.582078198691617, \"23.9.19\", 9], [\"E\", 6, \"Sample X45\", 3241.0, 16246.0, \"23 + 34\", \"10 mM KNO3 in W5\", 5.012650416538105, \"23.9.19\", 10], [\"E\", 4, \"Sample X29\", 3445.0, 13045.0, \"23 + 34\", \"10 mM KNO3 in W5\", 3.7866473149492017, \"23.9.19\", 10], [\"E\", 5, \"Sample X37\", 8081.0, 43477.0, \"23 + 34\", \"10 mM KNO3 in W5\", 5.380150971414429, \"23.9.19\", 10], [\"F\", 4, \"Sample X30\", 2698.0, 21941.0, \"24 + 34\", \"10 mM KNO3 in W5\", 8.132320237212749, \"23.9.19\", 11], [\"F\", 5, \"Sample X38\", 6969.0, 27923.0, \"24 + 34\", \"10 mM KNO3 in W5\", 4.006744152676137, \"23.9.19\", 11], [\"F\", 6, \"Sample X46\", 1654.0, 6472.0, \"24 + 34\", \"10 mM KNO3 in W5\", 3.912938331318017, \"23.9.19\", 11], [\"A\", 10, \"Sample X70\", 3272.0, 42784.0, \"13 + 34\", \"10 mM KNO3 in W5\", 13.075794621026896, \"23.9.19\", -1], [\"B\", 10, \"Sample X71\", 6726.0, 150619.0, \"14 + 34 \", \"10 mM KNO3 in W5\", 22.393547427891765, \"23.9.19\", -1], [\"B\", 11, \"Sample X78\", 4620.0, 125365.0, \"14 + 34 \", \"10 mM KNO3 in W5\", 27.135281385281388, \"23.9.19\", -1], [\"B\", 12, \"Sample X85\", 602.0, 9322.0, \"14 + 34 \", \"10 mM KNO3 in W5\", 15.485049833887045, \"23.9.19\", -1]], \"hovertemplate\": \"condition=%{customdata[6]}<br>Promoter=%{customdata[9]}<br>nluc/fluc=%{customdata[7]}<br>well_row=%{customdata[0]}<br>well_col=%{customdata[1]}<br>content=%{customdata[2]}<br>fluc_luminescence=%{customdata[3]}<br>nluc_luminescence=%{customdata[4]}<br>name=%{customdata[5]}<br>date=%{customdata[8]}<extra></extra>\", \"legendgroup\": \"10 mM KNO3 in W5\", \"marker\": {\"color\": \"#636efa\"}, \"name\": \"10 mM KNO3 in W5\", \"offsetgroup\": \"10 mM KNO3 in W5\", \"orientation\": \"v\", \"scalegroup\": \"True\", \"showlegend\": true, \"type\": \"violin\", \"x\": [\"NOS\", \"NOS\", \"NOS\", \"STAP4\", \"STAP4\", \"STAP4\", \"NIR1(1000bp)\", \"ANR1(500bp)\", \"ANR1(500bp)\", \"ANR1(500bp)\", \"ANR1(1000bp)\", \"ANR1(1000bp)\", \"ANR1(1000bp)\", \"ARF18(500bp)\", \"ARF18(500bp)\", \"ARF18(500bp)\", \"ARF18(1000bp)\", \"ARF18(1000bp)\", \"ARF18(1000bp)\", \"DREB26(500bp)\", \"DREB26(500bp)\", \"DREB26(500bp)\", \"DREB26(1000bp)\", \"DREB26(1000bp)\", \"DREB26(1000bp)\", \"NLP7(500bp)\", \"NLP7(500bp)\", \"NLP7(500bp)\", \"NLP7(1000bp)\", \"NLP7(1000bp)\", \"NLP7(1000bp)\", null, null, null, null], \"x0\": \" \", \"xaxis\": \"x\", \"y\": [61.55109659356043, 127.22805017103762, 87.38560366068285, 2.615108475105353, 1.7910719708472518, 3.594448727833462, 0.8479355488418933, 7.712210733628753, 7.5724941724941734, 5.366944655041698, 7.535928893340009, 6.6793415256202175, 7.174842767295598, 4.026071586389748, 4.393085106382979, 3.6434316353887404, 5.466101694915254, 2.8096172718351324, 4.958932238193018, 5.719318181818182, 4.2604853510978185, 2.994236311239193, 12.419419706980753, 4.97323717948718, 6.582078198691617, 5.012650416538105, 3.7866473149492017, 5.380150971414429, 8.132320237212749, 4.006744152676137, 3.912938331318017, 13.075794621026896, 22.393547427891765, 27.135281385281388, 15.485049833887045], \"y0\": \" \", \"yaxis\": \"y\"}, {\"alignmentgroup\": \"True\", \"box\": {\"visible\": true}, \"customdata\": [[\"G\", 1, \"Sample X7\", 4743.0, 191684.0, \"35 + 34\", \"W5\", 40.41408391313513, \"23.9.19\", 0], [\"G\", 2, \"Sample X15\", 10868.0, 762599.0, \"35 + 34\", \"W5\", 70.1692123665808, \"23.9.19\", 0], [\"G\", 3, \"Sample X23\", 11121.0, 724563.0, \"35 + 34\", \"W5\", 65.15268411114108, \"23.9.19\", 0], [\"H\", 1, \"Sample X8\", 7058.0, 13430.0, \"36 + 34\", \"W5\", 1.9028053272881835, \"23.9.19\", 1], [\"H\", 2, \"Sample X16\", 7399.0, 13222.0, \"36 + 34\", \"W5\", 1.7869982430058116, \"23.9.19\", 1], [\"H\", 3, \"Sample X24\", 7556.0, 19292.0, \"36 + 34\", \"W5\", 2.5532027527792485, \"23.9.19\", 1], [\"G\", 9, \"Sample X69\", 7709.0, 6268.0, \"25 + 34\", \"W5\", 0.8130756258918148, \"23.9.19\", 2], [\"G\", 7, \"Sample X55\", 6047.0, 2594.0, \"25 + 34\", \"W5\", 0.4289730444848685, \"23.9.19\", 2], [\"C\", 9, \"Sample X65\", 835.0, 7773.0, \"15 + 34\", \"W5\", 9.308982035928144, \"23.9.19\", 4], [\"C\", 8, \"Sample X58\", 4880.0, 48753.0, \"15 + 34\", \"W5\", 9.990368852459016, \"23.9.19\", 4], [\"C\", 7, \"Sample X51\", 13557.0, 93744.0, \"15 + 34\", \"W5\", 6.914804160212437, \"23.9.19\", 4], [\"D\", 7, \"Sample X52\", 6530.0, 57720.0, \"16 + 34\", \"W5\", 8.839203675344566, \"23.9.19\", 5], [\"D\", 9, \"Sample X66\", 5011.0, 29081.0, \"16 + 34\", \"W5\", 5.803432448613052, \"23.9.19\", 5], [\"D\", 8, \"Sample X59\", 2075.0, 27158.0, \"16 + 34\", \"W5\", 13.088192771084335, \"23.9.19\", 5], [\"E\", 7, \"Sample X53\", 6141.0, 37365.0, \"17 + 34\", \"W5\", 6.0845139228138745, \"23.9.19\", 6], [\"E\", 9, \"Sample X67\", 773.0, 2694.0, \"17 + 34\", \"W5\", 3.4851228978007764, \"23.9.19\", 6], [\"E\", 8, \"Sample X60\", 1676.0, 3780.0, \"17 + 34\", \"W5\", 2.2553699284009547, \"23.9.19\", 6], [\"F\", 8, \"Sample X61\", 7403.0, 37764.0, \"18 + 34\", \"W5\", 5.10117519924355, \"23.9.19\", 7], [\"F\", 7, \"Sample X54\", 5048.0, 29882.0, \"18 + 34\", \"W5\", 5.919572107765451, \"23.9.19\", 7], [\"F\", 9, \"Sample X68\", 9386.0, 40299.0, \"18 + 34\", \"W5\", 4.293522267206479, \"23.9.19\", 7], [\"C\", 1, \"Sample X3\", 2625.0, 12182.0, \"21 + 34\", \"W5\", 4.640761904761905, \"23.9.19\", 8], [\"C\", 2, \"Sample X11\", 10677.0, 57256.0, \"21 + 34\", \"W5\", 5.362555024819706, \"23.9.19\", 8], [\"C\", 3, \"Sample X19\", 8076.0, 64987.0, \"21 + 34\", \"W5\", 8.046929172857851, \"23.9.19\", 8], [\"D\", 1, \"Sample X4\", 938.0, 4026.0, \"22 + 34\", \"W5\", 4.292110874200427, \"23.9.19\", 9], [\"D\", 2, \"Sample X12\", 5338.0, 34948.0, \"22 + 34\", \"W5\", 6.547021356313226, \"23.9.19\", 9], [\"D\", 3, \"Sample X20\", 5776.0, 64459.0, \"22 + 34\", \"W5\", 11.15979916897507, \"23.9.19\", 9], [\"E\", 1, \"Sample X5\", 17688.0, 66136.0, \"23 + 34\", \"W5\", 3.739032112166441, \"23.9.19\", 10], [\"E\", 2, \"Sample X13\", 12024.0, 37889.0, \"23 + 34\", \"W5\", 3.1511144377910845, \"23.9.19\", 10], [\"E\", 3, \"Sample X21\", 13036.0, 81713.0, \"23 + 34\", \"W5\", 6.268257134090213, \"23.9.19\", 10], [\"F\", 2, \"Sample X14\", 15997.0, 70520.0, \"24 + 34\", \"W5\", 4.408326561230232, \"23.9.19\", 11], [\"F\", 3, \"Sample X22\", 11316.0, 45572.0, \"24 + 34\", \"W5\", 4.027218098267939, \"23.9.19\", 11], [\"F\", 1, \"Sample X6\", 8782.0, 33715.0, \"24 + 34\", \"W5\", 3.839102710088818, \"23.9.19\", 11], [\"B\", 7, \"Sample X50\", 962.0, 17132.0, \"14 + 34 \", \"W5\", 17.80873180873181, \"23.9.19\", -1], [\"B\", 8, \"Sample X57\", 775.0, 17853.0, \"14 + 34 \", \"W5\", 23.036129032258067, \"23.9.19\", -1], [\"B\", 9, \"Sample X64\", 832.0, 8349.0, \"14 + 34 \", \"W5\", 10.03485576923077, \"23.9.19\", -1]], \"hovertemplate\": \"condition=%{customdata[6]}<br>Promoter=%{customdata[9]}<br>nluc/fluc=%{customdata[7]}<br>well_row=%{customdata[0]}<br>well_col=%{customdata[1]}<br>content=%{customdata[2]}<br>fluc_luminescence=%{customdata[3]}<br>nluc_luminescence=%{customdata[4]}<br>name=%{customdata[5]}<br>date=%{customdata[8]}<extra></extra>\", \"legendgroup\": \"W5\", \"marker\": {\"color\": \"#EF553B\"}, \"name\": \"W5\", \"offsetgroup\": \"W5\", \"orientation\": \"v\", \"scalegroup\": \"True\", \"showlegend\": true, \"type\": \"violin\", \"x\": [\"NOS\", \"NOS\", \"NOS\", \"STAP4\", \"STAP4\", \"STAP4\", \"NIR1(1000bp)\", \"NIR1(1000bp)\", \"ANR1(500bp)\", \"ANR1(500bp)\", \"ANR1(500bp)\", \"ANR1(1000bp)\", \"ANR1(1000bp)\", \"ANR1(1000bp)\", \"ARF18(500bp)\", \"ARF18(500bp)\", \"ARF18(500bp)\", \"ARF18(1000bp)\", \"ARF18(1000bp)\", \"ARF18(1000bp)\", \"DREB26(500bp)\", \"DREB26(500bp)\", \"DREB26(500bp)\", \"DREB26(1000bp)\", \"DREB26(1000bp)\", \"DREB26(1000bp)\", \"NLP7(500bp)\", \"NLP7(500bp)\", \"NLP7(500bp)\", \"NLP7(1000bp)\", \"NLP7(1000bp)\", \"NLP7(1000bp)\", null, null, null], \"x0\": \" \", \"xaxis\": \"x\", \"y\": [40.41408391313513, 70.1692123665808, 65.15268411114108, 1.9028053272881835, 1.7869982430058116, 2.5532027527792485, 0.8130756258918148, 0.4289730444848685, 9.308982035928144, 9.990368852459016, 6.914804160212437, 8.839203675344566, 5.803432448613052, 13.088192771084335, 6.0845139228138745, 3.4851228978007764, 2.2553699284009547, 5.10117519924355, 5.919572107765451, 4.293522267206479, 4.640761904761905, 5.362555024819706, 8.046929172857851, 4.292110874200427, 6.547021356313226, 11.15979916897507, 3.739032112166441, 3.1511144377910845, 6.268257134090213, 4.408326561230232, 4.027218098267939, 3.839102710088818, 17.80873180873181, 23.036129032258067, 10.03485576923077], \"y0\": \" \", \"yaxis\": \"y\"}],\n",
       "                        {\"legend\": {\"title\": {\"text\": \"condition\"}, \"tracegroupgap\": 0}, \"margin\": {\"t\": 60}, \"paper_bgcolor\": \"rgba(0,0,0,0)\", \"plot_bgcolor\": \"rgba(0,0,0,0)\", \"template\": {\"data\": {\"bar\": [{\"error_x\": {\"color\": \"#2a3f5f\"}, \"error_y\": {\"color\": \"#2a3f5f\"}, \"marker\": {\"line\": {\"color\": \"#E5ECF6\", \"width\": 0.5}}, \"type\": \"bar\"}], \"barpolar\": [{\"marker\": {\"line\": {\"color\": \"#E5ECF6\", \"width\": 0.5}}, \"type\": \"barpolar\"}], \"carpet\": [{\"aaxis\": {\"endlinecolor\": \"#2a3f5f\", \"gridcolor\": \"white\", \"linecolor\": \"white\", \"minorgridcolor\": \"white\", \"startlinecolor\": \"#2a3f5f\"}, \"baxis\": {\"endlinecolor\": \"#2a3f5f\", \"gridcolor\": \"white\", \"linecolor\": \"white\", \"minorgridcolor\": \"white\", \"startlinecolor\": \"#2a3f5f\"}, \"type\": \"carpet\"}], \"choropleth\": [{\"colorbar\": {\"outlinewidth\": 0, \"ticks\": \"\"}, \"type\": \"choropleth\"}], \"contour\": [{\"colorbar\": {\"outlinewidth\": 0, \"ticks\": \"\"}, \"colorscale\": [[0.0, \"#0d0887\"], [0.1111111111111111, \"#46039f\"], [0.2222222222222222, \"#7201a8\"], [0.3333333333333333, \"#9c179e\"], [0.4444444444444444, \"#bd3786\"], [0.5555555555555556, \"#d8576b\"], [0.6666666666666666, \"#ed7953\"], [0.7777777777777778, \"#fb9f3a\"], [0.8888888888888888, \"#fdca26\"], [1.0, \"#f0f921\"]], \"type\": \"contour\"}], \"contourcarpet\": [{\"colorbar\": {\"outlinewidth\": 0, \"ticks\": \"\"}, \"type\": \"contourcarpet\"}], \"heatmap\": [{\"colorbar\": {\"outlinewidth\": 0, \"ticks\": \"\"}, \"colorscale\": [[0.0, \"#0d0887\"], [0.1111111111111111, \"#46039f\"], [0.2222222222222222, \"#7201a8\"], [0.3333333333333333, \"#9c179e\"], [0.4444444444444444, \"#bd3786\"], [0.5555555555555556, \"#d8576b\"], [0.6666666666666666, \"#ed7953\"], [0.7777777777777778, \"#fb9f3a\"], [0.8888888888888888, \"#fdca26\"], [1.0, \"#f0f921\"]], \"type\": \"heatmap\"}], \"heatmapgl\": [{\"colorbar\": {\"outlinewidth\": 0, \"ticks\": \"\"}, \"colorscale\": [[0.0, \"#0d0887\"], [0.1111111111111111, \"#46039f\"], [0.2222222222222222, \"#7201a8\"], [0.3333333333333333, \"#9c179e\"], [0.4444444444444444, \"#bd3786\"], [0.5555555555555556, \"#d8576b\"], [0.6666666666666666, \"#ed7953\"], [0.7777777777777778, \"#fb9f3a\"], [0.8888888888888888, \"#fdca26\"], [1.0, \"#f0f921\"]], \"type\": \"heatmapgl\"}], \"histogram\": [{\"marker\": {\"colorbar\": {\"outlinewidth\": 0, \"ticks\": \"\"}}, \"type\": \"histogram\"}], \"histogram2d\": [{\"colorbar\": {\"outlinewidth\": 0, \"ticks\": \"\"}, \"colorscale\": [[0.0, \"#0d0887\"], [0.1111111111111111, \"#46039f\"], [0.2222222222222222, \"#7201a8\"], [0.3333333333333333, \"#9c179e\"], [0.4444444444444444, \"#bd3786\"], [0.5555555555555556, \"#d8576b\"], [0.6666666666666666, \"#ed7953\"], [0.7777777777777778, \"#fb9f3a\"], [0.8888888888888888, \"#fdca26\"], [1.0, \"#f0f921\"]], \"type\": \"histogram2d\"}], \"histogram2dcontour\": [{\"colorbar\": {\"outlinewidth\": 0, \"ticks\": \"\"}, \"colorscale\": [[0.0, \"#0d0887\"], [0.1111111111111111, \"#46039f\"], [0.2222222222222222, \"#7201a8\"], [0.3333333333333333, \"#9c179e\"], [0.4444444444444444, \"#bd3786\"], [0.5555555555555556, \"#d8576b\"], [0.6666666666666666, \"#ed7953\"], [0.7777777777777778, \"#fb9f3a\"], [0.8888888888888888, \"#fdca26\"], [1.0, \"#f0f921\"]], \"type\": \"histogram2dcontour\"}], \"mesh3d\": [{\"colorbar\": {\"outlinewidth\": 0, \"ticks\": \"\"}, \"type\": \"mesh3d\"}], \"parcoords\": [{\"line\": {\"colorbar\": {\"outlinewidth\": 0, \"ticks\": \"\"}}, \"type\": \"parcoords\"}], \"pie\": [{\"automargin\": true, \"type\": \"pie\"}], \"scatter\": [{\"marker\": {\"colorbar\": {\"outlinewidth\": 0, \"ticks\": \"\"}}, \"type\": \"scatter\"}], \"scatter3d\": [{\"line\": {\"colorbar\": {\"outlinewidth\": 0, \"ticks\": \"\"}}, \"marker\": {\"colorbar\": {\"outlinewidth\": 0, \"ticks\": \"\"}}, \"type\": \"scatter3d\"}], \"scattercarpet\": [{\"marker\": {\"colorbar\": {\"outlinewidth\": 0, \"ticks\": \"\"}}, \"type\": \"scattercarpet\"}], \"scattergeo\": [{\"marker\": {\"colorbar\": {\"outlinewidth\": 0, \"ticks\": \"\"}}, \"type\": \"scattergeo\"}], \"scattergl\": [{\"marker\": {\"colorbar\": {\"outlinewidth\": 0, \"ticks\": \"\"}}, \"type\": \"scattergl\"}], \"scattermapbox\": [{\"marker\": {\"colorbar\": {\"outlinewidth\": 0, \"ticks\": \"\"}}, \"type\": \"scattermapbox\"}], \"scatterpolar\": [{\"marker\": {\"colorbar\": {\"outlinewidth\": 0, \"ticks\": \"\"}}, \"type\": \"scatterpolar\"}], \"scatterpolargl\": [{\"marker\": {\"colorbar\": {\"outlinewidth\": 0, \"ticks\": \"\"}}, \"type\": \"scatterpolargl\"}], \"scatterternary\": [{\"marker\": {\"colorbar\": {\"outlinewidth\": 0, \"ticks\": \"\"}}, \"type\": \"scatterternary\"}], \"surface\": [{\"colorbar\": {\"outlinewidth\": 0, \"ticks\": \"\"}, \"colorscale\": [[0.0, \"#0d0887\"], [0.1111111111111111, \"#46039f\"], [0.2222222222222222, \"#7201a8\"], [0.3333333333333333, \"#9c179e\"], [0.4444444444444444, \"#bd3786\"], [0.5555555555555556, \"#d8576b\"], [0.6666666666666666, \"#ed7953\"], [0.7777777777777778, \"#fb9f3a\"], [0.8888888888888888, \"#fdca26\"], [1.0, \"#f0f921\"]], \"type\": \"surface\"}], \"table\": [{\"cells\": {\"fill\": {\"color\": \"#EBF0F8\"}, \"line\": {\"color\": \"white\"}}, \"header\": {\"fill\": {\"color\": \"#C8D4E3\"}, \"line\": {\"color\": \"white\"}}, \"type\": \"table\"}]}, \"layout\": {\"annotationdefaults\": {\"arrowcolor\": \"#2a3f5f\", \"arrowhead\": 0, \"arrowwidth\": 1}, \"coloraxis\": {\"colorbar\": {\"outlinewidth\": 0, \"ticks\": \"\"}}, \"colorscale\": {\"diverging\": [[0, \"#8e0152\"], [0.1, \"#c51b7d\"], [0.2, \"#de77ae\"], [0.3, \"#f1b6da\"], [0.4, \"#fde0ef\"], [0.5, \"#f7f7f7\"], [0.6, \"#e6f5d0\"], [0.7, \"#b8e186\"], [0.8, \"#7fbc41\"], [0.9, \"#4d9221\"], [1, \"#276419\"]], \"sequential\": [[0.0, \"#0d0887\"], [0.1111111111111111, \"#46039f\"], [0.2222222222222222, \"#7201a8\"], [0.3333333333333333, \"#9c179e\"], [0.4444444444444444, \"#bd3786\"], [0.5555555555555556, \"#d8576b\"], [0.6666666666666666, \"#ed7953\"], [0.7777777777777778, \"#fb9f3a\"], [0.8888888888888888, \"#fdca26\"], [1.0, \"#f0f921\"]], \"sequentialminus\": [[0.0, \"#0d0887\"], [0.1111111111111111, \"#46039f\"], [0.2222222222222222, \"#7201a8\"], [0.3333333333333333, \"#9c179e\"], [0.4444444444444444, \"#bd3786\"], [0.5555555555555556, \"#d8576b\"], [0.6666666666666666, \"#ed7953\"], [0.7777777777777778, \"#fb9f3a\"], [0.8888888888888888, \"#fdca26\"], [1.0, \"#f0f921\"]]}, \"colorway\": [\"#636efa\", \"#EF553B\", \"#00cc96\", \"#ab63fa\", \"#FFA15A\", \"#19d3f3\", \"#FF6692\", \"#B6E880\", \"#FF97FF\", \"#FECB52\"], \"font\": {\"color\": \"#2a3f5f\"}, \"geo\": {\"bgcolor\": \"white\", \"lakecolor\": \"white\", \"landcolor\": \"#E5ECF6\", \"showlakes\": true, \"showland\": true, \"subunitcolor\": \"white\"}, \"hoverlabel\": {\"align\": \"left\"}, \"hovermode\": \"closest\", \"mapbox\": {\"style\": \"light\"}, \"paper_bgcolor\": \"white\", \"plot_bgcolor\": \"#E5ECF6\", \"polar\": {\"angularaxis\": {\"gridcolor\": \"white\", \"linecolor\": \"white\", \"ticks\": \"\"}, \"bgcolor\": \"#E5ECF6\", \"radialaxis\": {\"gridcolor\": \"white\", \"linecolor\": \"white\", \"ticks\": \"\"}}, \"scene\": {\"xaxis\": {\"backgroundcolor\": \"#E5ECF6\", \"gridcolor\": \"white\", \"gridwidth\": 2, \"linecolor\": \"white\", \"showbackground\": true, \"ticks\": \"\", \"zerolinecolor\": \"white\"}, \"yaxis\": {\"backgroundcolor\": \"#E5ECF6\", \"gridcolor\": \"white\", \"gridwidth\": 2, \"linecolor\": \"white\", \"showbackground\": true, \"ticks\": \"\", \"zerolinecolor\": \"white\"}, \"zaxis\": {\"backgroundcolor\": \"#E5ECF6\", \"gridcolor\": \"white\", \"gridwidth\": 2, \"linecolor\": \"white\", \"showbackground\": true, \"ticks\": \"\", \"zerolinecolor\": \"white\"}}, \"shapedefaults\": {\"line\": {\"color\": \"#2a3f5f\"}}, \"ternary\": {\"aaxis\": {\"gridcolor\": \"white\", \"linecolor\": \"white\", \"ticks\": \"\"}, \"baxis\": {\"gridcolor\": \"white\", \"linecolor\": \"white\", \"ticks\": \"\"}, \"bgcolor\": \"#E5ECF6\", \"caxis\": {\"gridcolor\": \"white\", \"linecolor\": \"white\", \"ticks\": \"\"}}, \"title\": {\"x\": 0.05}, \"xaxis\": {\"automargin\": true, \"gridcolor\": \"white\", \"linecolor\": \"white\", \"ticks\": \"\", \"title\": {\"standoff\": 15}, \"zerolinecolor\": \"white\", \"zerolinewidth\": 2}, \"yaxis\": {\"automargin\": true, \"gridcolor\": \"white\", \"linecolor\": \"white\", \"ticks\": \"\", \"title\": {\"standoff\": 15}, \"zerolinecolor\": \"white\", \"zerolinewidth\": 2}}}, \"violinmode\": \"group\", \"xaxis\": {\"anchor\": \"y\", \"domain\": [0.0, 1.0], \"linecolor\": \"black\", \"linewidth\": 1, \"showline\": true, \"ticks\": \"outside\", \"title\": {\"text\": \"Promoter\"}}, \"yaxis\": {\"anchor\": \"x\", \"domain\": [0.0, 1.0], \"linecolor\": \"black\", \"linewidth\": 1, \"showline\": true, \"ticks\": \"outside\", \"title\": {\"text\": \"Mean_luminescence\"}}},\n",
       "                        {\"responsive\": true}\n",
       "                    ).then(function(){\n",
       "                            \n",
       "var gd = document.getElementById('c9dd9d7e-24a7-4782-be6a-88674d6a89c6');\n",
       "var x = new MutationObserver(function (mutations, observer) {{\n",
       "        var display = window.getComputedStyle(gd).display;\n",
       "        if (!display || display === 'none') {{\n",
       "            console.log([gd, 'removed!']);\n",
       "            Plotly.purge(gd);\n",
       "            observer.disconnect();\n",
       "        }}\n",
       "}});\n",
       "\n",
       "// Listen for the removal of the full notebook cells\n",
       "var notebookContainer = gd.closest('#notebook-container');\n",
       "if (notebookContainer) {{\n",
       "    x.observe(notebookContainer, {childList: true});\n",
       "}}\n",
       "\n",
       "// Listen for the clearing of the current output cell\n",
       "var outputEl = gd.closest('.output');\n",
       "if (outputEl) {{\n",
       "    x.observe(outputEl, {childList: true});\n",
       "}}\n",
       "\n",
       "                        })\n",
       "                };\n",
       "                });\n",
       "            </script>\n",
       "        </div>"
      ]
     },
     "metadata": {},
     "output_type": "display_data"
    }
   ],
   "source": [
    "#layout = go.Layout(plot_bgcolor='rgba(0,0,0,0)', paper_bgcolor='rgba(0,0,0,0)' )\n",
    "fig = px.violin(luminescence_raw_df.sort_values(\"Promoter\"), y=\"nluc/fluc\", x=\"Promoter\", color=\"condition\", box=True, hover_data=luminescence_raw_df.columns) #points=\"all\"\n",
    "\n",
    "fig.update_layout(plot_bgcolor='rgba(0,0,0,0)', paper_bgcolor='rgba(0,0,0,0)')\n",
    "fig.update_xaxes(showline=True, linewidth=1, linecolor='black',ticks=\"outside\")\n",
    "fig.update_yaxes(showline=True, linewidth=1, linecolor='black',ticks=\"outside\", title_text='Mean_luminescence')\n",
    "#write to file static image and interactive one\n",
    "#fig.write_image(f'../../../../data/plots/luminescence/{date}/violin23.9.19.pdf')\n",
    "#fig.write_html(f'../../../../data/plots/luminescence/{date}/violin23.9.19.html')\n",
    "\n",
    "fig.show()"
   ]
  },
  {
   "cell_type": "code",
   "execution_count": 44,
   "metadata": {},
   "outputs": [
    {
     "data": {
      "application/vnd.plotly.v1+json": {
       "config": {
        "plotlyServerURL": "https://plot.ly"
       },
       "data": [
        {
         "box": {
          "visible": true
         },
         "legendgroup": "10 mM KNO3 in W5",
         "line": {
          "color": "blue"
         },
         "meanline": {
          "visible": true
         },
         "name": "10 mM KNO3 in W5",
         "scalegroup": "10 mM KNO3 in W5",
         "type": "violin",
         "x": [
          "NOS",
          "NOS",
          "NOS",
          "STAP4",
          "STAP4",
          "STAP4",
          "NIR1(1000bp)",
          "ANR1(500bp)",
          "ANR1(500bp)",
          "ANR1(500bp)",
          "ANR1(1000bp)",
          "ANR1(1000bp)",
          "ANR1(1000bp)",
          "ARF18(500bp)",
          "ARF18(500bp)",
          "ARF18(500bp)",
          "ARF18(1000bp)",
          "ARF18(1000bp)",
          "ARF18(1000bp)",
          "DREB26(500bp)",
          "DREB26(500bp)",
          "DREB26(500bp)",
          "DREB26(1000bp)",
          "DREB26(1000bp)",
          "DREB26(1000bp)",
          "NLP7(500bp)",
          "NLP7(500bp)",
          "NLP7(500bp)",
          "NLP7(1000bp)",
          "NLP7(1000bp)",
          "NLP7(1000bp)",
          null,
          null,
          null,
          null
         ],
         "y": [
          61.55109659356043,
          127.22805017103762,
          87.38560366068285,
          2.615108475105353,
          1.7910719708472518,
          3.594448727833462,
          0.8479355488418933,
          7.712210733628753,
          7.5724941724941734,
          5.366944655041698,
          7.535928893340009,
          6.6793415256202175,
          7.174842767295598,
          4.026071586389748,
          4.393085106382979,
          3.6434316353887404,
          5.466101694915254,
          2.8096172718351324,
          4.958932238193018,
          5.719318181818182,
          4.2604853510978185,
          2.994236311239193,
          12.419419706980753,
          4.97323717948718,
          6.582078198691617,
          5.012650416538105,
          3.7866473149492017,
          5.380150971414429,
          8.132320237212749,
          4.006744152676137,
          3.912938331318017,
          13.075794621026896,
          22.393547427891765,
          27.135281385281388,
          15.485049833887045
         ]
        },
        {
         "box": {
          "visible": true
         },
         "legendgroup": "W5",
         "line": {
          "color": "orange"
         },
         "meanline": {
          "visible": true
         },
         "name": "W5",
         "scalegroup": "W5",
         "type": "violin",
         "x": [
          "NOS",
          "NOS",
          "NOS",
          "STAP4",
          "STAP4",
          "STAP4",
          "NIR1(1000bp)",
          "NIR1(1000bp)",
          "ANR1(500bp)",
          "ANR1(500bp)",
          "ANR1(500bp)",
          "ANR1(1000bp)",
          "ANR1(1000bp)",
          "ANR1(1000bp)",
          "ARF18(500bp)",
          "ARF18(500bp)",
          "ARF18(500bp)",
          "ARF18(1000bp)",
          "ARF18(1000bp)",
          "ARF18(1000bp)",
          "DREB26(500bp)",
          "DREB26(500bp)",
          "DREB26(500bp)",
          "DREB26(1000bp)",
          "DREB26(1000bp)",
          "DREB26(1000bp)",
          "NLP7(500bp)",
          "NLP7(500bp)",
          "NLP7(500bp)",
          "NLP7(1000bp)",
          "NLP7(1000bp)",
          "NLP7(1000bp)",
          null,
          null,
          null
         ],
         "y": [
          40.41408391313513,
          70.1692123665808,
          65.15268411114108,
          1.9028053272881835,
          1.7869982430058116,
          2.5532027527792485,
          0.8130756258918148,
          0.4289730444848685,
          9.308982035928144,
          9.990368852459016,
          6.914804160212437,
          8.839203675344566,
          5.803432448613052,
          13.088192771084335,
          6.0845139228138745,
          3.4851228978007764,
          2.2553699284009547,
          5.10117519924355,
          5.919572107765451,
          4.293522267206479,
          4.640761904761905,
          5.362555024819706,
          8.046929172857851,
          4.292110874200427,
          6.547021356313226,
          11.15979916897507,
          3.739032112166441,
          3.1511144377910845,
          6.268257134090213,
          4.408326561230232,
          4.027218098267939,
          3.839102710088818,
          17.80873180873181,
          23.036129032258067,
          10.03485576923077
         ]
        }
       ],
       "layout": {
        "autosize": true,
        "template": {
         "data": {
          "bar": [
           {
            "error_x": {
             "color": "#2a3f5f"
            },
            "error_y": {
             "color": "#2a3f5f"
            },
            "marker": {
             "line": {
              "color": "#E5ECF6",
              "width": 0.5
             }
            },
            "type": "bar"
           }
          ],
          "barpolar": [
           {
            "marker": {
             "line": {
              "color": "#E5ECF6",
              "width": 0.5
             }
            },
            "type": "barpolar"
           }
          ],
          "carpet": [
           {
            "aaxis": {
             "endlinecolor": "#2a3f5f",
             "gridcolor": "white",
             "linecolor": "white",
             "minorgridcolor": "white",
             "startlinecolor": "#2a3f5f"
            },
            "baxis": {
             "endlinecolor": "#2a3f5f",
             "gridcolor": "white",
             "linecolor": "white",
             "minorgridcolor": "white",
             "startlinecolor": "#2a3f5f"
            },
            "type": "carpet"
           }
          ],
          "choropleth": [
           {
            "colorbar": {
             "outlinewidth": 0,
             "ticks": ""
            },
            "type": "choropleth"
           }
          ],
          "contour": [
           {
            "colorbar": {
             "outlinewidth": 0,
             "ticks": ""
            },
            "colorscale": [
             [
              0,
              "#0d0887"
             ],
             [
              0.1111111111111111,
              "#46039f"
             ],
             [
              0.2222222222222222,
              "#7201a8"
             ],
             [
              0.3333333333333333,
              "#9c179e"
             ],
             [
              0.4444444444444444,
              "#bd3786"
             ],
             [
              0.5555555555555556,
              "#d8576b"
             ],
             [
              0.6666666666666666,
              "#ed7953"
             ],
             [
              0.7777777777777778,
              "#fb9f3a"
             ],
             [
              0.8888888888888888,
              "#fdca26"
             ],
             [
              1,
              "#f0f921"
             ]
            ],
            "type": "contour"
           }
          ],
          "contourcarpet": [
           {
            "colorbar": {
             "outlinewidth": 0,
             "ticks": ""
            },
            "type": "contourcarpet"
           }
          ],
          "heatmap": [
           {
            "colorbar": {
             "outlinewidth": 0,
             "ticks": ""
            },
            "colorscale": [
             [
              0,
              "#0d0887"
             ],
             [
              0.1111111111111111,
              "#46039f"
             ],
             [
              0.2222222222222222,
              "#7201a8"
             ],
             [
              0.3333333333333333,
              "#9c179e"
             ],
             [
              0.4444444444444444,
              "#bd3786"
             ],
             [
              0.5555555555555556,
              "#d8576b"
             ],
             [
              0.6666666666666666,
              "#ed7953"
             ],
             [
              0.7777777777777778,
              "#fb9f3a"
             ],
             [
              0.8888888888888888,
              "#fdca26"
             ],
             [
              1,
              "#f0f921"
             ]
            ],
            "type": "heatmap"
           }
          ],
          "heatmapgl": [
           {
            "colorbar": {
             "outlinewidth": 0,
             "ticks": ""
            },
            "colorscale": [
             [
              0,
              "#0d0887"
             ],
             [
              0.1111111111111111,
              "#46039f"
             ],
             [
              0.2222222222222222,
              "#7201a8"
             ],
             [
              0.3333333333333333,
              "#9c179e"
             ],
             [
              0.4444444444444444,
              "#bd3786"
             ],
             [
              0.5555555555555556,
              "#d8576b"
             ],
             [
              0.6666666666666666,
              "#ed7953"
             ],
             [
              0.7777777777777778,
              "#fb9f3a"
             ],
             [
              0.8888888888888888,
              "#fdca26"
             ],
             [
              1,
              "#f0f921"
             ]
            ],
            "type": "heatmapgl"
           }
          ],
          "histogram": [
           {
            "marker": {
             "colorbar": {
              "outlinewidth": 0,
              "ticks": ""
             }
            },
            "type": "histogram"
           }
          ],
          "histogram2d": [
           {
            "colorbar": {
             "outlinewidth": 0,
             "ticks": ""
            },
            "colorscale": [
             [
              0,
              "#0d0887"
             ],
             [
              0.1111111111111111,
              "#46039f"
             ],
             [
              0.2222222222222222,
              "#7201a8"
             ],
             [
              0.3333333333333333,
              "#9c179e"
             ],
             [
              0.4444444444444444,
              "#bd3786"
             ],
             [
              0.5555555555555556,
              "#d8576b"
             ],
             [
              0.6666666666666666,
              "#ed7953"
             ],
             [
              0.7777777777777778,
              "#fb9f3a"
             ],
             [
              0.8888888888888888,
              "#fdca26"
             ],
             [
              1,
              "#f0f921"
             ]
            ],
            "type": "histogram2d"
           }
          ],
          "histogram2dcontour": [
           {
            "colorbar": {
             "outlinewidth": 0,
             "ticks": ""
            },
            "colorscale": [
             [
              0,
              "#0d0887"
             ],
             [
              0.1111111111111111,
              "#46039f"
             ],
             [
              0.2222222222222222,
              "#7201a8"
             ],
             [
              0.3333333333333333,
              "#9c179e"
             ],
             [
              0.4444444444444444,
              "#bd3786"
             ],
             [
              0.5555555555555556,
              "#d8576b"
             ],
             [
              0.6666666666666666,
              "#ed7953"
             ],
             [
              0.7777777777777778,
              "#fb9f3a"
             ],
             [
              0.8888888888888888,
              "#fdca26"
             ],
             [
              1,
              "#f0f921"
             ]
            ],
            "type": "histogram2dcontour"
           }
          ],
          "mesh3d": [
           {
            "colorbar": {
             "outlinewidth": 0,
             "ticks": ""
            },
            "type": "mesh3d"
           }
          ],
          "parcoords": [
           {
            "line": {
             "colorbar": {
              "outlinewidth": 0,
              "ticks": ""
             }
            },
            "type": "parcoords"
           }
          ],
          "pie": [
           {
            "automargin": true,
            "type": "pie"
           }
          ],
          "scatter": [
           {
            "marker": {
             "colorbar": {
              "outlinewidth": 0,
              "ticks": ""
             }
            },
            "type": "scatter"
           }
          ],
          "scatter3d": [
           {
            "line": {
             "colorbar": {
              "outlinewidth": 0,
              "ticks": ""
             }
            },
            "marker": {
             "colorbar": {
              "outlinewidth": 0,
              "ticks": ""
             }
            },
            "type": "scatter3d"
           }
          ],
          "scattercarpet": [
           {
            "marker": {
             "colorbar": {
              "outlinewidth": 0,
              "ticks": ""
             }
            },
            "type": "scattercarpet"
           }
          ],
          "scattergeo": [
           {
            "marker": {
             "colorbar": {
              "outlinewidth": 0,
              "ticks": ""
             }
            },
            "type": "scattergeo"
           }
          ],
          "scattergl": [
           {
            "marker": {
             "colorbar": {
              "outlinewidth": 0,
              "ticks": ""
             }
            },
            "type": "scattergl"
           }
          ],
          "scattermapbox": [
           {
            "marker": {
             "colorbar": {
              "outlinewidth": 0,
              "ticks": ""
             }
            },
            "type": "scattermapbox"
           }
          ],
          "scatterpolar": [
           {
            "marker": {
             "colorbar": {
              "outlinewidth": 0,
              "ticks": ""
             }
            },
            "type": "scatterpolar"
           }
          ],
          "scatterpolargl": [
           {
            "marker": {
             "colorbar": {
              "outlinewidth": 0,
              "ticks": ""
             }
            },
            "type": "scatterpolargl"
           }
          ],
          "scatterternary": [
           {
            "marker": {
             "colorbar": {
              "outlinewidth": 0,
              "ticks": ""
             }
            },
            "type": "scatterternary"
           }
          ],
          "surface": [
           {
            "colorbar": {
             "outlinewidth": 0,
             "ticks": ""
            },
            "colorscale": [
             [
              0,
              "#0d0887"
             ],
             [
              0.1111111111111111,
              "#46039f"
             ],
             [
              0.2222222222222222,
              "#7201a8"
             ],
             [
              0.3333333333333333,
              "#9c179e"
             ],
             [
              0.4444444444444444,
              "#bd3786"
             ],
             [
              0.5555555555555556,
              "#d8576b"
             ],
             [
              0.6666666666666666,
              "#ed7953"
             ],
             [
              0.7777777777777778,
              "#fb9f3a"
             ],
             [
              0.8888888888888888,
              "#fdca26"
             ],
             [
              1,
              "#f0f921"
             ]
            ],
            "type": "surface"
           }
          ],
          "table": [
           {
            "cells": {
             "fill": {
              "color": "#EBF0F8"
             },
             "line": {
              "color": "white"
             }
            },
            "header": {
             "fill": {
              "color": "#C8D4E3"
             },
             "line": {
              "color": "white"
             }
            },
            "type": "table"
           }
          ]
         },
         "layout": {
          "annotationdefaults": {
           "arrowcolor": "#2a3f5f",
           "arrowhead": 0,
           "arrowwidth": 1
          },
          "coloraxis": {
           "colorbar": {
            "outlinewidth": 0,
            "ticks": ""
           }
          },
          "colorscale": {
           "diverging": [
            [
             0,
             "#8e0152"
            ],
            [
             0.1,
             "#c51b7d"
            ],
            [
             0.2,
             "#de77ae"
            ],
            [
             0.3,
             "#f1b6da"
            ],
            [
             0.4,
             "#fde0ef"
            ],
            [
             0.5,
             "#f7f7f7"
            ],
            [
             0.6,
             "#e6f5d0"
            ],
            [
             0.7,
             "#b8e186"
            ],
            [
             0.8,
             "#7fbc41"
            ],
            [
             0.9,
             "#4d9221"
            ],
            [
             1,
             "#276419"
            ]
           ],
           "sequential": [
            [
             0,
             "#0d0887"
            ],
            [
             0.1111111111111111,
             "#46039f"
            ],
            [
             0.2222222222222222,
             "#7201a8"
            ],
            [
             0.3333333333333333,
             "#9c179e"
            ],
            [
             0.4444444444444444,
             "#bd3786"
            ],
            [
             0.5555555555555556,
             "#d8576b"
            ],
            [
             0.6666666666666666,
             "#ed7953"
            ],
            [
             0.7777777777777778,
             "#fb9f3a"
            ],
            [
             0.8888888888888888,
             "#fdca26"
            ],
            [
             1,
             "#f0f921"
            ]
           ],
           "sequentialminus": [
            [
             0,
             "#0d0887"
            ],
            [
             0.1111111111111111,
             "#46039f"
            ],
            [
             0.2222222222222222,
             "#7201a8"
            ],
            [
             0.3333333333333333,
             "#9c179e"
            ],
            [
             0.4444444444444444,
             "#bd3786"
            ],
            [
             0.5555555555555556,
             "#d8576b"
            ],
            [
             0.6666666666666666,
             "#ed7953"
            ],
            [
             0.7777777777777778,
             "#fb9f3a"
            ],
            [
             0.8888888888888888,
             "#fdca26"
            ],
            [
             1,
             "#f0f921"
            ]
           ]
          },
          "colorway": [
           "#636efa",
           "#EF553B",
           "#00cc96",
           "#ab63fa",
           "#FFA15A",
           "#19d3f3",
           "#FF6692",
           "#B6E880",
           "#FF97FF",
           "#FECB52"
          ],
          "font": {
           "color": "#2a3f5f"
          },
          "geo": {
           "bgcolor": "white",
           "lakecolor": "white",
           "landcolor": "#E5ECF6",
           "showlakes": true,
           "showland": true,
           "subunitcolor": "white"
          },
          "hoverlabel": {
           "align": "left"
          },
          "hovermode": "closest",
          "mapbox": {
           "style": "light"
          },
          "paper_bgcolor": "white",
          "plot_bgcolor": "#E5ECF6",
          "polar": {
           "angularaxis": {
            "gridcolor": "white",
            "linecolor": "white",
            "ticks": ""
           },
           "bgcolor": "#E5ECF6",
           "radialaxis": {
            "gridcolor": "white",
            "linecolor": "white",
            "ticks": ""
           }
          },
          "scene": {
           "xaxis": {
            "backgroundcolor": "#E5ECF6",
            "gridcolor": "white",
            "gridwidth": 2,
            "linecolor": "white",
            "showbackground": true,
            "ticks": "",
            "zerolinecolor": "white"
           },
           "yaxis": {
            "backgroundcolor": "#E5ECF6",
            "gridcolor": "white",
            "gridwidth": 2,
            "linecolor": "white",
            "showbackground": true,
            "ticks": "",
            "zerolinecolor": "white"
           },
           "zaxis": {
            "backgroundcolor": "#E5ECF6",
            "gridcolor": "white",
            "gridwidth": 2,
            "linecolor": "white",
            "showbackground": true,
            "ticks": "",
            "zerolinecolor": "white"
           }
          },
          "shapedefaults": {
           "line": {
            "color": "#2a3f5f"
           }
          },
          "ternary": {
           "aaxis": {
            "gridcolor": "white",
            "linecolor": "white",
            "ticks": ""
           },
           "baxis": {
            "gridcolor": "white",
            "linecolor": "white",
            "ticks": ""
           },
           "bgcolor": "#E5ECF6",
           "caxis": {
            "gridcolor": "white",
            "linecolor": "white",
            "ticks": ""
           }
          },
          "title": {
           "x": 0.05
          },
          "xaxis": {
           "automargin": true,
           "gridcolor": "white",
           "linecolor": "white",
           "ticks": "",
           "title": {
            "standoff": 15
           },
           "zerolinecolor": "white",
           "zerolinewidth": 2
          },
          "yaxis": {
           "automargin": true,
           "gridcolor": "white",
           "linecolor": "white",
           "ticks": "",
           "title": {
            "standoff": 15
           },
           "zerolinecolor": "white",
           "zerolinewidth": 2
          }
         }
        },
        "violinmode": "group",
        "xaxis": {
         "autorange": true,
         "range": [
          -0.5,
          10.5
         ],
         "type": "category"
        },
        "yaxis": {
         "autorange": true,
         "range": [
          -11.975562926403235,
          193.76919899731712
         ],
         "type": "linear"
        }
       }
      },
      "image/png": "[encoded data removed]",
      "text/html": [
       "<div>\n",
       "        \n",
       "        \n",
       "            <div id=\"32e6b0ac-8c04-4f4f-acea-6e89a8289b14\" class=\"plotly-graph-div\" style=\"height:525px; width:100%;\"></div>\n",
       "            <script type=\"text/javascript\">\n",
       "                require([\"plotly\"], function(Plotly) {\n",
       "                    window.PLOTLYENV=window.PLOTLYENV || {};\n",
       "                    \n",
       "                if (document.getElementById(\"32e6b0ac-8c04-4f4f-acea-6e89a8289b14\")) {\n",
       "                    Plotly.newPlot(\n",
       "                        '32e6b0ac-8c04-4f4f-acea-6e89a8289b14',\n",
       "                        [{\"box\": {\"visible\": true}, \"legendgroup\": \"10 mM KNO3 in W5\", \"line\": {\"color\": \"blue\"}, \"meanline\": {\"visible\": true}, \"name\": \"10 mM KNO3 in W5\", \"scalegroup\": \"10 mM KNO3 in W5\", \"type\": \"violin\", \"x\": [\"NOS\", \"NOS\", \"NOS\", \"STAP4\", \"STAP4\", \"STAP4\", \"NIR1(1000bp)\", \"ANR1(500bp)\", \"ANR1(500bp)\", \"ANR1(500bp)\", \"ANR1(1000bp)\", \"ANR1(1000bp)\", \"ANR1(1000bp)\", \"ARF18(500bp)\", \"ARF18(500bp)\", \"ARF18(500bp)\", \"ARF18(1000bp)\", \"ARF18(1000bp)\", \"ARF18(1000bp)\", \"DREB26(500bp)\", \"DREB26(500bp)\", \"DREB26(500bp)\", \"DREB26(1000bp)\", \"DREB26(1000bp)\", \"DREB26(1000bp)\", \"NLP7(500bp)\", \"NLP7(500bp)\", \"NLP7(500bp)\", \"NLP7(1000bp)\", \"NLP7(1000bp)\", \"NLP7(1000bp)\", null, null, null, null], \"y\": [61.55109659356043, 127.22805017103762, 87.38560366068285, 2.615108475105353, 1.7910719708472518, 3.594448727833462, 0.8479355488418933, 7.712210733628753, 7.5724941724941734, 5.366944655041698, 7.535928893340009, 6.6793415256202175, 7.174842767295598, 4.026071586389748, 4.393085106382979, 3.6434316353887404, 5.466101694915254, 2.8096172718351324, 4.958932238193018, 5.719318181818182, 4.2604853510978185, 2.994236311239193, 12.419419706980753, 4.97323717948718, 6.582078198691617, 5.012650416538105, 3.7866473149492017, 5.380150971414429, 8.132320237212749, 4.006744152676137, 3.912938331318017, 13.075794621026896, 22.393547427891765, 27.135281385281388, 15.485049833887045]}, {\"box\": {\"visible\": true}, \"legendgroup\": \"W5\", \"line\": {\"color\": \"orange\"}, \"meanline\": {\"visible\": true}, \"name\": \"W5\", \"scalegroup\": \"W5\", \"type\": \"violin\", \"x\": [\"NOS\", \"NOS\", \"NOS\", \"STAP4\", \"STAP4\", \"STAP4\", \"NIR1(1000bp)\", \"NIR1(1000bp)\", \"ANR1(500bp)\", \"ANR1(500bp)\", \"ANR1(500bp)\", \"ANR1(1000bp)\", \"ANR1(1000bp)\", \"ANR1(1000bp)\", \"ARF18(500bp)\", \"ARF18(500bp)\", \"ARF18(500bp)\", \"ARF18(1000bp)\", \"ARF18(1000bp)\", \"ARF18(1000bp)\", \"DREB26(500bp)\", \"DREB26(500bp)\", \"DREB26(500bp)\", \"DREB26(1000bp)\", \"DREB26(1000bp)\", \"DREB26(1000bp)\", \"NLP7(500bp)\", \"NLP7(500bp)\", \"NLP7(500bp)\", \"NLP7(1000bp)\", \"NLP7(1000bp)\", \"NLP7(1000bp)\", null, null, null], \"y\": [40.41408391313513, 70.1692123665808, 65.15268411114108, 1.9028053272881835, 1.7869982430058116, 2.5532027527792485, 0.8130756258918148, 0.4289730444848685, 9.308982035928144, 9.990368852459016, 6.914804160212437, 8.839203675344566, 5.803432448613052, 13.088192771084335, 6.0845139228138745, 3.4851228978007764, 2.2553699284009547, 5.10117519924355, 5.919572107765451, 4.293522267206479, 4.640761904761905, 5.362555024819706, 8.046929172857851, 4.292110874200427, 6.547021356313226, 11.15979916897507, 3.739032112166441, 3.1511144377910845, 6.268257134090213, 4.408326561230232, 4.027218098267939, 3.839102710088818, 17.80873180873181, 23.036129032258067, 10.03485576923077]}],\n",
       "                        {\"template\": {\"data\": {\"bar\": [{\"error_x\": {\"color\": \"#2a3f5f\"}, \"error_y\": {\"color\": \"#2a3f5f\"}, \"marker\": {\"line\": {\"color\": \"#E5ECF6\", \"width\": 0.5}}, \"type\": \"bar\"}], \"barpolar\": [{\"marker\": {\"line\": {\"color\": \"#E5ECF6\", \"width\": 0.5}}, \"type\": \"barpolar\"}], \"carpet\": [{\"aaxis\": {\"endlinecolor\": \"#2a3f5f\", \"gridcolor\": \"white\", \"linecolor\": \"white\", \"minorgridcolor\": \"white\", \"startlinecolor\": \"#2a3f5f\"}, \"baxis\": {\"endlinecolor\": \"#2a3f5f\", \"gridcolor\": \"white\", \"linecolor\": \"white\", \"minorgridcolor\": \"white\", \"startlinecolor\": \"#2a3f5f\"}, \"type\": \"carpet\"}], \"choropleth\": [{\"colorbar\": {\"outlinewidth\": 0, \"ticks\": \"\"}, \"type\": \"choropleth\"}], \"contour\": [{\"colorbar\": {\"outlinewidth\": 0, \"ticks\": \"\"}, \"colorscale\": [[0.0, \"#0d0887\"], [0.1111111111111111, \"#46039f\"], [0.2222222222222222, \"#7201a8\"], [0.3333333333333333, \"#9c179e\"], [0.4444444444444444, \"#bd3786\"], [0.5555555555555556, \"#d8576b\"], [0.6666666666666666, \"#ed7953\"], [0.7777777777777778, \"#fb9f3a\"], [0.8888888888888888, \"#fdca26\"], [1.0, \"#f0f921\"]], \"type\": \"contour\"}], \"contourcarpet\": [{\"colorbar\": {\"outlinewidth\": 0, \"ticks\": \"\"}, \"type\": \"contourcarpet\"}], \"heatmap\": [{\"colorbar\": {\"outlinewidth\": 0, \"ticks\": \"\"}, \"colorscale\": [[0.0, \"#0d0887\"], [0.1111111111111111, \"#46039f\"], [0.2222222222222222, \"#7201a8\"], [0.3333333333333333, \"#9c179e\"], [0.4444444444444444, \"#bd3786\"], [0.5555555555555556, \"#d8576b\"], [0.6666666666666666, \"#ed7953\"], [0.7777777777777778, \"#fb9f3a\"], [0.8888888888888888, \"#fdca26\"], [1.0, \"#f0f921\"]], \"type\": \"heatmap\"}], \"heatmapgl\": [{\"colorbar\": {\"outlinewidth\": 0, \"ticks\": \"\"}, \"colorscale\": [[0.0, \"#0d0887\"], [0.1111111111111111, \"#46039f\"], [0.2222222222222222, \"#7201a8\"], [0.3333333333333333, \"#9c179e\"], [0.4444444444444444, \"#bd3786\"], [0.5555555555555556, \"#d8576b\"], [0.6666666666666666, \"#ed7953\"], [0.7777777777777778, \"#fb9f3a\"], [0.8888888888888888, \"#fdca26\"], [1.0, \"#f0f921\"]], \"type\": \"heatmapgl\"}], \"histogram\": [{\"marker\": {\"colorbar\": {\"outlinewidth\": 0, \"ticks\": \"\"}}, \"type\": \"histogram\"}], \"histogram2d\": [{\"colorbar\": {\"outlinewidth\": 0, \"ticks\": \"\"}, \"colorscale\": [[0.0, \"#0d0887\"], [0.1111111111111111, \"#46039f\"], [0.2222222222222222, \"#7201a8\"], [0.3333333333333333, \"#9c179e\"], [0.4444444444444444, \"#bd3786\"], [0.5555555555555556, \"#d8576b\"], [0.6666666666666666, \"#ed7953\"], [0.7777777777777778, \"#fb9f3a\"], [0.8888888888888888, \"#fdca26\"], [1.0, \"#f0f921\"]], \"type\": \"histogram2d\"}], \"histogram2dcontour\": [{\"colorbar\": {\"outlinewidth\": 0, \"ticks\": \"\"}, \"colorscale\": [[0.0, \"#0d0887\"], [0.1111111111111111, \"#46039f\"], [0.2222222222222222, \"#7201a8\"], [0.3333333333333333, \"#9c179e\"], [0.4444444444444444, \"#bd3786\"], [0.5555555555555556, \"#d8576b\"], [0.6666666666666666, \"#ed7953\"], [0.7777777777777778, \"#fb9f3a\"], [0.8888888888888888, \"#fdca26\"], [1.0, \"#f0f921\"]], \"type\": \"histogram2dcontour\"}], \"mesh3d\": [{\"colorbar\": {\"outlinewidth\": 0, \"ticks\": \"\"}, \"type\": \"mesh3d\"}], \"parcoords\": [{\"line\": {\"colorbar\": {\"outlinewidth\": 0, \"ticks\": \"\"}}, \"type\": \"parcoords\"}], \"pie\": [{\"automargin\": true, \"type\": \"pie\"}], \"scatter\": [{\"marker\": {\"colorbar\": {\"outlinewidth\": 0, \"ticks\": \"\"}}, \"type\": \"scatter\"}], \"scatter3d\": [{\"line\": {\"colorbar\": {\"outlinewidth\": 0, \"ticks\": \"\"}}, \"marker\": {\"colorbar\": {\"outlinewidth\": 0, \"ticks\": \"\"}}, \"type\": \"scatter3d\"}], \"scattercarpet\": [{\"marker\": {\"colorbar\": {\"outlinewidth\": 0, \"ticks\": \"\"}}, \"type\": \"scattercarpet\"}], \"scattergeo\": [{\"marker\": {\"colorbar\": {\"outlinewidth\": 0, \"ticks\": \"\"}}, \"type\": \"scattergeo\"}], \"scattergl\": [{\"marker\": {\"colorbar\": {\"outlinewidth\": 0, \"ticks\": \"\"}}, \"type\": \"scattergl\"}], \"scattermapbox\": [{\"marker\": {\"colorbar\": {\"outlinewidth\": 0, \"ticks\": \"\"}}, \"type\": \"scattermapbox\"}], \"scatterpolar\": [{\"marker\": {\"colorbar\": {\"outlinewidth\": 0, \"ticks\": \"\"}}, \"type\": \"scatterpolar\"}], \"scatterpolargl\": [{\"marker\": {\"colorbar\": {\"outlinewidth\": 0, \"ticks\": \"\"}}, \"type\": \"scatterpolargl\"}], \"scatterternary\": [{\"marker\": {\"colorbar\": {\"outlinewidth\": 0, \"ticks\": \"\"}}, \"type\": \"scatterternary\"}], \"surface\": [{\"colorbar\": {\"outlinewidth\": 0, \"ticks\": \"\"}, \"colorscale\": [[0.0, \"#0d0887\"], [0.1111111111111111, \"#46039f\"], [0.2222222222222222, \"#7201a8\"], [0.3333333333333333, \"#9c179e\"], [0.4444444444444444, \"#bd3786\"], [0.5555555555555556, \"#d8576b\"], [0.6666666666666666, \"#ed7953\"], [0.7777777777777778, \"#fb9f3a\"], [0.8888888888888888, \"#fdca26\"], [1.0, \"#f0f921\"]], \"type\": \"surface\"}], \"table\": [{\"cells\": {\"fill\": {\"color\": \"#EBF0F8\"}, \"line\": {\"color\": \"white\"}}, \"header\": {\"fill\": {\"color\": \"#C8D4E3\"}, \"line\": {\"color\": \"white\"}}, \"type\": \"table\"}]}, \"layout\": {\"annotationdefaults\": {\"arrowcolor\": \"#2a3f5f\", \"arrowhead\": 0, \"arrowwidth\": 1}, \"coloraxis\": {\"colorbar\": {\"outlinewidth\": 0, \"ticks\": \"\"}}, \"colorscale\": {\"diverging\": [[0, \"#8e0152\"], [0.1, \"#c51b7d\"], [0.2, \"#de77ae\"], [0.3, \"#f1b6da\"], [0.4, \"#fde0ef\"], [0.5, \"#f7f7f7\"], [0.6, \"#e6f5d0\"], [0.7, \"#b8e186\"], [0.8, \"#7fbc41\"], [0.9, \"#4d9221\"], [1, \"#276419\"]], \"sequential\": [[0.0, \"#0d0887\"], [0.1111111111111111, \"#46039f\"], [0.2222222222222222, \"#7201a8\"], [0.3333333333333333, \"#9c179e\"], [0.4444444444444444, \"#bd3786\"], [0.5555555555555556, \"#d8576b\"], [0.6666666666666666, \"#ed7953\"], [0.7777777777777778, \"#fb9f3a\"], [0.8888888888888888, \"#fdca26\"], [1.0, \"#f0f921\"]], \"sequentialminus\": [[0.0, \"#0d0887\"], [0.1111111111111111, \"#46039f\"], [0.2222222222222222, \"#7201a8\"], [0.3333333333333333, \"#9c179e\"], [0.4444444444444444, \"#bd3786\"], [0.5555555555555556, \"#d8576b\"], [0.6666666666666666, \"#ed7953\"], [0.7777777777777778, \"#fb9f3a\"], [0.8888888888888888, \"#fdca26\"], [1.0, \"#f0f921\"]]}, \"colorway\": [\"#636efa\", \"#EF553B\", \"#00cc96\", \"#ab63fa\", \"#FFA15A\", \"#19d3f3\", \"#FF6692\", \"#B6E880\", \"#FF97FF\", \"#FECB52\"], \"font\": {\"color\": \"#2a3f5f\"}, \"geo\": {\"bgcolor\": \"white\", \"lakecolor\": \"white\", \"landcolor\": \"#E5ECF6\", \"showlakes\": true, \"showland\": true, \"subunitcolor\": \"white\"}, \"hoverlabel\": {\"align\": \"left\"}, \"hovermode\": \"closest\", \"mapbox\": {\"style\": \"light\"}, \"paper_bgcolor\": \"white\", \"plot_bgcolor\": \"#E5ECF6\", \"polar\": {\"angularaxis\": {\"gridcolor\": \"white\", \"linecolor\": \"white\", \"ticks\": \"\"}, \"bgcolor\": \"#E5ECF6\", \"radialaxis\": {\"gridcolor\": \"white\", \"linecolor\": \"white\", \"ticks\": \"\"}}, \"scene\": {\"xaxis\": {\"backgroundcolor\": \"#E5ECF6\", \"gridcolor\": \"white\", \"gridwidth\": 2, \"linecolor\": \"white\", \"showbackground\": true, \"ticks\": \"\", \"zerolinecolor\": \"white\"}, \"yaxis\": {\"backgroundcolor\": \"#E5ECF6\", \"gridcolor\": \"white\", \"gridwidth\": 2, \"linecolor\": \"white\", \"showbackground\": true, \"ticks\": \"\", \"zerolinecolor\": \"white\"}, \"zaxis\": {\"backgroundcolor\": \"#E5ECF6\", \"gridcolor\": \"white\", \"gridwidth\": 2, \"linecolor\": \"white\", \"showbackground\": true, \"ticks\": \"\", \"zerolinecolor\": \"white\"}}, \"shapedefaults\": {\"line\": {\"color\": \"#2a3f5f\"}}, \"ternary\": {\"aaxis\": {\"gridcolor\": \"white\", \"linecolor\": \"white\", \"ticks\": \"\"}, \"baxis\": {\"gridcolor\": \"white\", \"linecolor\": \"white\", \"ticks\": \"\"}, \"bgcolor\": \"#E5ECF6\", \"caxis\": {\"gridcolor\": \"white\", \"linecolor\": \"white\", \"ticks\": \"\"}}, \"title\": {\"x\": 0.05}, \"xaxis\": {\"automargin\": true, \"gridcolor\": \"white\", \"linecolor\": \"white\", \"ticks\": \"\", \"title\": {\"standoff\": 15}, \"zerolinecolor\": \"white\", \"zerolinewidth\": 2}, \"yaxis\": {\"automargin\": true, \"gridcolor\": \"white\", \"linecolor\": \"white\", \"ticks\": \"\", \"title\": {\"standoff\": 15}, \"zerolinecolor\": \"white\", \"zerolinewidth\": 2}}}, \"violinmode\": \"group\"},\n",
       "                        {\"responsive\": true}\n",
       "                    ).then(function(){\n",
       "                            \n",
       "var gd = document.getElementById('32e6b0ac-8c04-4f4f-acea-6e89a8289b14');\n",
       "var x = new MutationObserver(function (mutations, observer) {{\n",
       "        var display = window.getComputedStyle(gd).display;\n",
       "        if (!display || display === 'none') {{\n",
       "            console.log([gd, 'removed!']);\n",
       "            Plotly.purge(gd);\n",
       "            observer.disconnect();\n",
       "        }}\n",
       "}});\n",
       "\n",
       "// Listen for the removal of the full notebook cells\n",
       "var notebookContainer = gd.closest('#notebook-container');\n",
       "if (notebookContainer) {{\n",
       "    x.observe(notebookContainer, {childList: true});\n",
       "}}\n",
       "\n",
       "// Listen for the clearing of the current output cell\n",
       "var outputEl = gd.closest('.output');\n",
       "if (outputEl) {{\n",
       "    x.observe(outputEl, {childList: true});\n",
       "}}\n",
       "\n",
       "                        })\n",
       "                };\n",
       "                });\n",
       "            </script>\n",
       "        </div>"
      ]
     },
     "metadata": {},
     "output_type": "display_data"
    }
   ],
   "source": [
    "\n",
    "fig = go.Figure()\n",
    "df = luminescence_raw_df.sort_values(\"Promoter\")import plotly.graph_objects as go\n",
    "fig.add_trace(go.Violin(x=df['Promoter'][ df['condition'] == '10 mM KNO3 in W5' ],\n",
    "                        y=df['nluc/fluc'][ df['condition'] == '10 mM KNO3 in W5' ],\n",
    "                        legendgroup='10 mM KNO3 in W5', scalegroup='10 mM KNO3 in W5', name='10 mM KNO3 in W5',\n",
    "                        line_color='blue')\n",
    "             )\n",
    "fig.add_trace(go.Violin(x=df['Promoter'][ df['condition'] == 'W5' ],\n",
    "                        y=df['nluc/fluc'][ df['condition'] == 'W5' ],\n",
    "                        legendgroup='W5', scalegroup='W5', name='W5',\n",
    "                        line_color='orange')\n",
    "             )\n",
    "\n",
    "fig.update_traces(box_visible=True, meanline_visible=True)\n",
    "fig.update_layout(violinmode='group')\n",
    "fig.show()\n"
   ]
  },
  {
   "cell_type": "code",
   "execution_count": 88,
   "metadata": {},
   "outputs": [
    {
     "data": {
      "text/plain": [
       "[[None,\n",
       "  None,\n",
       "  None,\n",
       "  None,\n",
       "  None,\n",
       "  None,\n",
       "  None,\n",
       "  None,\n",
       "  None,\n",
       "  None,\n",
       "  None,\n",
       "  None,\n",
       "  None,\n",
       "  None,\n",
       "  None,\n",
       "  None,\n",
       "  None,\n",
       "  None,\n",
       "  None,\n",
       "  None,\n",
       "  None,\n",
       "  None,\n",
       "  None,\n",
       "  None]]"
      ]
     },
     "execution_count": 88,
     "metadata": {},
     "output_type": "execute_result"
    },
    {
     "data": {
      "image/png": "[encoded data removed]",
      "text/plain": [
       "<Figure size 506.975x360 with 1 Axes>"
      ]
     },
     "metadata": {},
     "output_type": "display_data"
    }
   ],
   "source": [
    "plot = sns.catplot(x=\"Promoter\", y=\"nluc/fluc\", data=luminescence_raw_df, hue='condition', kind='violin',\n",
    "                   order=['NOS','STAP4','NIR1(1000bp)','ANAC032(1000bp)','ANR1(500bp)','ANR1(1000bp)', 'ARF18(500bp)','ARF18(1000bp)', 'DREB26(500bp)', 'DREB26(1000bp)','NLP7(500bp)', 'NLP7(1000bp)'])\n",
    "#plot points\n",
    "[plt.setp(ax.get_xticklabels(), rotation=45, ha='right') for ax in plot.axes.flat]\n",
    "\n",
    "#ax = sns.swarmplot(x=\"Promoter\", y=\"nluc/fluc\", data=luminescence_raw_df, color=\".25\",\n",
    "             #      order=['NOS','STAP4','NIR1(1000bp)','ANAC032(1000bp)','ANR1(500bp)','ANR1(1000bp)', 'ARF18(500bp)','ARF18(1000bp)', 'DREB26(500bp)', 'DREB26(1000bp)','NLP7(500bp)', 'NLP7(1000bp)']).get_figure().savefig(f'../../../../data/plots/luminescence/{date}/luminescence_violin.pdf', format='pdf')"
   ]
  },
  {
   "cell_type": "code",
   "execution_count": 78,
   "metadata": {},
   "outputs": [
    {
     "data": {
      "image/png": "[encoded data removed]",
      "text/plain": [
       "<Figure size 576x432 with 1 Axes>"
      ]
     },
     "metadata": {},
     "output_type": "display_data"
    }
   ],
   "source": [
    "plot = sns.swarmplot(x=\"Promoter\", y=\"nluc/fluc\", data=luminescence_raw_df, color=\".25\",\n",
    "                   order=['NOS','STAP4','NIR1(1000bp)','ANAC032(1000bp)','ANR1(500bp)','ANR1(1000bp)', 'ARF18(500bp)','ARF18(1000bp)', 'DREB26(500bp)', 'DREB26(1000bp)','NLP7(500bp)', 'NLP7(1000bp)'])"
   ]
  },
  {
   "cell_type": "code",
   "execution_count": 77,
   "metadata": {},
   "outputs": [
    {
     "data": {
      "image/png": "[encoded data removed]",
      "text/plain": [
       "<Figure size 576x432 with 1 Axes>"
      ]
     },
     "metadata": {},
     "output_type": "display_data"
    }
   ],
   "source": [
    "#set figure size\n",
    "#sns.set(rc={'figure.figsize':(8,6)}, style=\"ticks\", color_codes=True)\n",
    "#bar chart, 95% confidence intervals\n",
    "plot = sns.barplot(x=\"Promoter\", y=\"nluc/fluc\", hue=\"condition\", data=luminescence_raw_df, ci=95, capsize=0.1,errwidth=0.7,n_boot=10000,\n",
    "                   order=['NOS','STAP4','NIR1(1000bp)','ANAC032(1000bp)','ANR1(500bp)','ANR1(1000bp)', 'ARF18(500bp)','ARF18(1000bp)', 'DREB26(500bp)', 'DREB26(1000bp)','NLP7(500bp)', 'NLP7(1000bp)'   ])\n",
    "plot.set_xticklabels(plot.get_xticklabels(), rotation=45, ha='right')\n",
    "plt.legend(loc='upper right', borderaxespad=0.)\n",
    "plt.ylabel(\"Mean_luminescence\").get_figure().savefig(f'../../../../data/plots/luminescence/{date}/promoter_luminescence.pdf', format='pdf')"
   ]
  },
  {
   "cell_type": "markdown",
   "metadata": {},
   "source": [
    "### get names of each condition for later"
   ]
  },
  {
   "cell_type": "code",
   "execution_count": 64,
   "metadata": {},
   "outputs": [
    {
     "name": "stdout",
     "output_type": "stream",
     "text": [
      "W5\n",
      "10 mM KNO3 in W5\n"
     ]
    }
   ],
   "source": [
    "pd.Categorical(luminescence_raw_df.condition)\n",
    "names = luminescence_raw_df.condition.unique()\n",
    "for name in names:\n",
    "    print(name)"
   ]
  },
  {
   "cell_type": "code",
   "execution_count": 65,
   "metadata": {},
   "outputs": [
    {
     "name": "stdout",
     "output_type": "stream",
     "text": [
      "DREB26(500bp)\n",
      "DREB26(1000bp)\n",
      "NLP7(500bp)\n",
      "NLP7(1000bp)\n",
      "NOS\n",
      "STAP4\n",
      "ANAC032(1000bp)\n",
      "ANR1(500bp)\n",
      "ANR1(1000bp)\n",
      "ARF18(500bp)\n",
      "ARF18(1000bp)\n",
      "NIR1(1000bp)\n",
      "ANAC032(500bp)\n"
     ]
    }
   ],
   "source": [
    "#get list of promoters\n",
    "pd.Categorical(luminescence_raw_df.Promoter)\n",
    "prom_names = luminescence_raw_df.Promoter.unique()\n",
    "for name in prom_names:\n",
    "    print(name)"
   ]
  },
  {
   "cell_type": "markdown",
   "metadata": {},
   "source": [
    "### test normality"
   ]
  },
  {
   "cell_type": "code",
   "execution_count": 66,
   "metadata": {},
   "outputs": [
    {
     "name": "stdout",
     "output_type": "stream",
     "text": [
      "DREB26(500bp) W5: (0.5567470788955688, 4.104734774301733e-09)\n",
      "DREB26(500bp) 10 mM KNO3 in W5: (0.4752877354621887, 4.789532659366103e-10)\n",
      "DREB26(1000bp) W5: (0.5567470788955688, 4.104734774301733e-09)\n",
      "DREB26(1000bp) 10 mM KNO3 in W5: (0.4752877354621887, 4.789532659366103e-10)\n",
      "NLP7(500bp) W5: (0.5567470788955688, 4.104734774301733e-09)\n",
      "NLP7(500bp) 10 mM KNO3 in W5: (0.4752877354621887, 4.789532659366103e-10)\n",
      "NLP7(1000bp) W5: (0.5567470788955688, 4.104734774301733e-09)\n",
      "NLP7(1000bp) 10 mM KNO3 in W5: (0.4752877354621887, 4.789532659366103e-10)\n",
      "NOS W5: (0.5567470788955688, 4.104734774301733e-09)\n",
      "NOS 10 mM KNO3 in W5: (0.4752877354621887, 4.789532659366103e-10)\n",
      "STAP4 W5: (0.5567470788955688, 4.104734774301733e-09)\n",
      "STAP4 10 mM KNO3 in W5: (0.4752877354621887, 4.789532659366103e-10)\n",
      "ANAC032(1000bp) W5: (0.5567470788955688, 4.104734774301733e-09)\n",
      "ANAC032(1000bp) 10 mM KNO3 in W5: (0.4752877354621887, 4.789532659366103e-10)\n",
      "ANR1(500bp) W5: (0.5567470788955688, 4.104734774301733e-09)\n",
      "ANR1(500bp) 10 mM KNO3 in W5: (0.4752877354621887, 4.789532659366103e-10)\n",
      "ANR1(1000bp) W5: (0.5567470788955688, 4.104734774301733e-09)\n",
      "ANR1(1000bp) 10 mM KNO3 in W5: (0.4752877354621887, 4.789532659366103e-10)\n",
      "ARF18(500bp) W5: (0.5567470788955688, 4.104734774301733e-09)\n",
      "ARF18(500bp) 10 mM KNO3 in W5: (0.4752877354621887, 4.789532659366103e-10)\n",
      "ARF18(1000bp) W5: (0.5567470788955688, 4.104734774301733e-09)\n",
      "ARF18(1000bp) 10 mM KNO3 in W5: (0.4752877354621887, 4.789532659366103e-10)\n",
      "NIR1(1000bp) W5: (0.5567470788955688, 4.104734774301733e-09)\n",
      "NIR1(1000bp) 10 mM KNO3 in W5: (0.4752877354621887, 4.789532659366103e-10)\n",
      "ANAC032(500bp) W5: (0.5567470788955688, 4.104734774301733e-09)\n",
      "ANAC032(500bp) 10 mM KNO3 in W5: (0.4752877354621887, 4.789532659366103e-10)\n"
     ]
    }
   ],
   "source": [
    "#returns test statistic, p-value\n",
    "for name1 in prom_names:\n",
    "    for name in names:\n",
    "        print(name1,'{}: {}'.format(name, stats.shapiro(luminescence_raw_df['nluc/fluc'][luminescence_raw_df.condition == name])))\n"
   ]
  },
  {
   "cell_type": "markdown",
   "metadata": {},
   "source": [
    "#### not normal"
   ]
  },
  {
   "cell_type": "code",
   "execution_count": 67,
   "metadata": {},
   "outputs": [
    {
     "data": {
      "text/plain": [
       "LeveneResult(statistic=0.3520752753459295, pvalue=0.5549092485746359)"
      ]
     },
     "execution_count": 67,
     "metadata": {},
     "output_type": "execute_result"
    }
   ],
   "source": [
    "#test variance\n",
    "stats.levene(luminescence_raw_df['nluc/fluc'][luminescence_raw_df.condition == names[0]], \n",
    "               luminescence_raw_df['nluc/fluc'][luminescence_raw_df.condition == names[1]])"
   ]
  },
  {
   "cell_type": "code",
   "execution_count": 60,
   "metadata": {},
   "outputs": [],
   "source": [
    "test = luminescence_raw_df.groupby('Promoter')"
   ]
  },
  {
   "cell_type": "code",
   "execution_count": 61,
   "metadata": {},
   "outputs": [
    {
     "data": {
      "text/plain": [
       "<pandas.core.groupby.generic.DataFrameGroupBy object at 0x7fbdedba2190>"
      ]
     },
     "execution_count": 61,
     "metadata": {},
     "output_type": "execute_result"
    }
   ],
   "source": [
    "test"
   ]
  },
  {
   "cell_type": "markdown",
   "metadata": {},
   "source": [
    "# Kruskal-Wallis one way analysis of variance: scipy.stats.kruskal"
   ]
  },
  {
   "cell_type": "code",
   "execution_count": 68,
   "metadata": {},
   "outputs": [],
   "source": [
    "# #luminescence kurskal wallis\n",
    "# for promoter, value in test:\n",
    "#     print(promoter)\n",
    "#     print(stats.kruskal(value['nluc/fluc'][value.condition == names[0]], \n",
    "#                value['nluc/fluc'][value.condition == names[1]],\n",
    "#                 value['nluc/fluc'][value.condition == names[2]],\n",
    "#                       value['nluc/fluc'][value.condition == names[3]],\n",
    "#                        value['nluc/fluc'][value.condition == names[4]]))"
   ]
  },
  {
   "cell_type": "code",
   "execution_count": 70,
   "metadata": {},
   "outputs": [
    {
     "name": "stdout",
     "output_type": "stream",
     "text": [
      "ANAC032(1000bp)\n",
      "MannwhitneyuResult(statistic=3.0, pvalue=0.3312602917700287)\n",
      "ANAC032(500bp)\n",
      "MannwhitneyuResult(statistic=0.0, pvalue=0.0)\n",
      "ANR1(1000bp)\n",
      "MannwhitneyuResult(statistic=3.0, pvalue=0.3312602917700287)\n",
      "ANR1(500bp)\n",
      "MannwhitneyuResult(statistic=2.0, pvalue=0.19136654444261297)\n",
      "ARF18(1000bp)\n",
      "MannwhitneyuResult(statistic=3.0, pvalue=0.3312602917700287)\n",
      "ARF18(500bp)\n",
      "MannwhitneyuResult(statistic=3.0, pvalue=0.3312602917700287)\n",
      "DREB26(1000bp)\n",
      "MannwhitneyuResult(statistic=3.0, pvalue=0.3312602917700287)\n",
      "DREB26(500bp)\n",
      "MannwhitneyuResult(statistic=2.0, pvalue=0.19136654444261297)\n",
      "NIR1(1000bp)\n",
      "MannwhitneyuResult(statistic=0.0, pvalue=0.27014568730370997)\n",
      "NLP7(1000bp)\n",
      "MannwhitneyuResult(statistic=4.0, pvalue=0.5)\n",
      "NLP7(500bp)\n",
      "MannwhitneyuResult(statistic=3.0, pvalue=0.3312602917700287)\n",
      "NOS\n",
      "MannwhitneyuResult(statistic=2.0, pvalue=0.19136654444261297)\n",
      "STAP4\n",
      "MannwhitneyuResult(statistic=2.0, pvalue=0.19136654444261297)\n"
     ]
    },
    {
     "name": "stderr",
     "output_type": "stream",
     "text": [
      "/home/witham/opt/anaconda3/envs/PromoterArchitecturePipeline/lib/python3.7/site-packages/scipy/stats/stats.py:6415: RuntimeWarning: divide by zero encountered in double_scalars\n",
      "  z = (bigu - meanrank) / sd\n"
     ]
    }
   ],
   "source": [
    "# #Mann-whitney individual comparisons. Correct using tukey. NO USE DUNN's test! \"You should use Dunn's test∗. If one proceeds by moving from a rejection of Kruskal-Wallis to performing ordinary pair-wise rank sum tests (with or without multiple comparison adjustments), one runs into two problems: (1) the ranks that the pair-wise rank sum tests use are not the ranks used by the Kruskal-Wallis test; and (2) Dunn's test preserves a pooled variance for the tests implied by the Kruskal-Wallis null hypothesis.\"\n",
    "# #https://stats.stackexchange.com/questions/25815/post-hoc-tests-after-kruskal-wallis-dunns-test-or-bonferroni-corrected-mann-wh\n",
    "for promoter, value in test:\n",
    "    print(promoter)\n",
    "    print(stats.mannwhitneyu(value['nluc/fluc'][value.condition == names[0]], \n",
    "               value['nluc/fluc'][value.condition == names[1]]))\n"
   ]
  },
  {
   "cell_type": "code",
   "execution_count": null,
   "metadata": {},
   "outputs": [],
   "source": []
  }
 ],
 "metadata": {
  "kernelspec": {
   "display_name": "Python [conda env:PromoterArchitecturePipeline] *",
   "language": "python",
   "name": "conda-env-PromoterArchitecturePipeline-py"
  },
  "language_info": {
   "codemirror_mode": {
    "name": "ipython",
    "version": 3
   },
   "file_extension": ".py",
   "mimetype": "text/x-python",
   "name": "python",
   "nbconvert_exporter": "python",
   "pygments_lexer": "ipython3",
   "version": "3.7.6"
  }
 },
 "nbformat": 4,
 "nbformat_minor": 4
}
