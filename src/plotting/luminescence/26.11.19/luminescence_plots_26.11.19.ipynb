{
 "cells": [
  {
   "cell_type": "code",
   "execution_count": 1,
   "metadata": {},
   "outputs": [],
   "source": [
    "import pandas as pd\n",
    "import numpy as np\n",
    "import skbio\n",
    "from collections import Counter\n",
    "import seaborn as sns\n",
    "import matplotlib.pyplot as plt\n",
    "from scipy import stats\n",
    "from statsmodels.formula.api import ols\n",
    "import researchpy as rp\n",
    "from matplotlib import rcParams\n",
    "#from statsmodels.stats.multicomp import pairwise_tukeyhsd\n",
    "#from statsmodels.stats.multicomp import MultiComparison\n",
    "#dunns\n",
    "from itertools import combinations\n",
    "from statsmodels.stats.multitest import multipletests\n",
    "from statsmodels.stats.libqsturng import psturng\n",
    "import warnings\n",
    "\n",
    "rcParams.update({'figure.autolayout': True})"
   ]
  },
  {
   "cell_type": "code",
   "execution_count": 2,
   "metadata": {},
   "outputs": [],
   "source": [
    "date = '26.11.19'"
   ]
  },
  {
   "cell_type": "code",
   "execution_count": 3,
   "metadata": {},
   "outputs": [],
   "source": [
    "luminescence_means = f'../../../../data/luminescence/to_be_sorted/{date}/output_means.csv'\n",
    "luminescence_raw = f'../../../../data/luminescence/to_be_sorted/{date}/output_raw.csv'"
   ]
  },
  {
   "cell_type": "code",
   "execution_count": 4,
   "metadata": {},
   "outputs": [],
   "source": [
    "luminescence_means_df = pd.read_csv(luminescence_means, header=0)\n",
    "luminescence_raw_df = pd.read_csv(luminescence_raw, header=0)"
   ]
  },
  {
   "cell_type": "code",
   "execution_count": 5,
   "metadata": {},
   "outputs": [
    {
     "data": {
      "text/html": [
       "<div>\n",
       "<style scoped>\n",
       "    .dataframe tbody tr th:only-of-type {\n",
       "        vertical-align: middle;\n",
       "    }\n",
       "\n",
       "    .dataframe tbody tr th {\n",
       "        vertical-align: top;\n",
       "    }\n",
       "\n",
       "    .dataframe thead th {\n",
       "        text-align: right;\n",
       "    }\n",
       "</style>\n",
       "<table border=\"1\" class=\"dataframe\">\n",
       "  <thead>\n",
       "    <tr style=\"text-align: right;\">\n",
       "      <th></th>\n",
       "      <th>name</th>\n",
       "      <th>condition</th>\n",
       "      <th>mean_luminescence</th>\n",
       "      <th>standard_error</th>\n",
       "      <th>date</th>\n",
       "    </tr>\n",
       "  </thead>\n",
       "  <tbody>\n",
       "    <tr>\n",
       "      <th>0</th>\n",
       "      <td>25+72</td>\n",
       "      <td>N-free K3G1</td>\n",
       "      <td>1.151724</td>\n",
       "      <td>0.315713</td>\n",
       "      <td>26.11.19</td>\n",
       "    </tr>\n",
       "    <tr>\n",
       "      <th>1</th>\n",
       "      <td>25+72</td>\n",
       "      <td>W5 then 10 mM KNO3, 2 hours morning</td>\n",
       "      <td>2.808982</td>\n",
       "      <td>1.128901</td>\n",
       "      <td>26.11.19</td>\n",
       "    </tr>\n",
       "    <tr>\n",
       "      <th>2</th>\n",
       "      <td>25+72</td>\n",
       "      <td>W5 then 10 mM Kcl, 2 hours morning</td>\n",
       "      <td>2.328943</td>\n",
       "      <td>0.416367</td>\n",
       "      <td>26.11.19</td>\n",
       "    </tr>\n",
       "    <tr>\n",
       "      <th>3</th>\n",
       "      <td>25+72</td>\n",
       "      <td>W5, 10 mM KNO3_overnight</td>\n",
       "      <td>3.055662</td>\n",
       "      <td>0.405042</td>\n",
       "      <td>26.11.19</td>\n",
       "    </tr>\n",
       "    <tr>\n",
       "      <th>4</th>\n",
       "      <td>25+72</td>\n",
       "      <td>replete K3G1</td>\n",
       "      <td>1.091513</td>\n",
       "      <td>0.278987</td>\n",
       "      <td>26.11.19</td>\n",
       "    </tr>\n",
       "    <tr>\n",
       "      <th>5</th>\n",
       "      <td>35+72</td>\n",
       "      <td>N-free K3G1</td>\n",
       "      <td>73.431986</td>\n",
       "      <td>5.359028</td>\n",
       "      <td>26.11.19</td>\n",
       "    </tr>\n",
       "    <tr>\n",
       "      <th>6</th>\n",
       "      <td>35+72</td>\n",
       "      <td>W5 then 10 mM KNO3, 2 hours morning</td>\n",
       "      <td>75.081302</td>\n",
       "      <td>9.374357</td>\n",
       "      <td>26.11.19</td>\n",
       "    </tr>\n",
       "    <tr>\n",
       "      <th>7</th>\n",
       "      <td>35+72</td>\n",
       "      <td>W5 then 10 mM Kcl, 2 hours morning</td>\n",
       "      <td>104.291185</td>\n",
       "      <td>26.827104</td>\n",
       "      <td>26.11.19</td>\n",
       "    </tr>\n",
       "    <tr>\n",
       "      <th>8</th>\n",
       "      <td>35+72</td>\n",
       "      <td>W5, 10 mM KNO3_overnight</td>\n",
       "      <td>64.921355</td>\n",
       "      <td>31.885983</td>\n",
       "      <td>26.11.19</td>\n",
       "    </tr>\n",
       "    <tr>\n",
       "      <th>9</th>\n",
       "      <td>35+72</td>\n",
       "      <td>replete K3G1</td>\n",
       "      <td>57.306098</td>\n",
       "      <td>8.298701</td>\n",
       "      <td>26.11.19</td>\n",
       "    </tr>\n",
       "    <tr>\n",
       "      <th>10</th>\n",
       "      <td>36+72</td>\n",
       "      <td>N-free K3G1</td>\n",
       "      <td>1.015915</td>\n",
       "      <td>0.248658</td>\n",
       "      <td>26.11.19</td>\n",
       "    </tr>\n",
       "    <tr>\n",
       "      <th>11</th>\n",
       "      <td>36+72</td>\n",
       "      <td>W5 then 10 mM KNO3, 2 hours morning</td>\n",
       "      <td>1.528903</td>\n",
       "      <td>0.365495</td>\n",
       "      <td>26.11.19</td>\n",
       "    </tr>\n",
       "    <tr>\n",
       "      <th>12</th>\n",
       "      <td>36+72</td>\n",
       "      <td>W5 then 10 mM Kcl, 2 hours morning</td>\n",
       "      <td>1.757285</td>\n",
       "      <td>0.757463</td>\n",
       "      <td>26.11.19</td>\n",
       "    </tr>\n",
       "    <tr>\n",
       "      <th>13</th>\n",
       "      <td>36+72</td>\n",
       "      <td>W5, 10 mM KNO3_overnight</td>\n",
       "      <td>2.308026</td>\n",
       "      <td>0.813882</td>\n",
       "      <td>26.11.19</td>\n",
       "    </tr>\n",
       "    <tr>\n",
       "      <th>14</th>\n",
       "      <td>71 + 72</td>\n",
       "      <td>W5 then 10 mM KNO3, 2 hours morning</td>\n",
       "      <td>165.309175</td>\n",
       "      <td>34.589967</td>\n",
       "      <td>26.11.19</td>\n",
       "    </tr>\n",
       "    <tr>\n",
       "      <th>15</th>\n",
       "      <td>71 + 72</td>\n",
       "      <td>W5 then 10 mM Kcl, 2 hours morning</td>\n",
       "      <td>179.032293</td>\n",
       "      <td>35.243535</td>\n",
       "      <td>26.11.19</td>\n",
       "    </tr>\n",
       "    <tr>\n",
       "      <th>16</th>\n",
       "      <td>71 + 72</td>\n",
       "      <td>W5, 10 mM KNO3_overnight</td>\n",
       "      <td>118.309783</td>\n",
       "      <td>10.958352</td>\n",
       "      <td>26.11.19</td>\n",
       "    </tr>\n",
       "    <tr>\n",
       "      <th>17</th>\n",
       "      <td>71+72</td>\n",
       "      <td>N-free K3G1</td>\n",
       "      <td>107.168545</td>\n",
       "      <td>33.445537</td>\n",
       "      <td>26.11.19</td>\n",
       "    </tr>\n",
       "    <tr>\n",
       "      <th>18</th>\n",
       "      <td>71+72</td>\n",
       "      <td>replete K3G1</td>\n",
       "      <td>127.120250</td>\n",
       "      <td>15.427830</td>\n",
       "      <td>26.11.19</td>\n",
       "    </tr>\n",
       "    <tr>\n",
       "      <th>19</th>\n",
       "      <td>72</td>\n",
       "      <td>W5 then 10 mM KNO3, 2 hours morning</td>\n",
       "      <td>0.555653</td>\n",
       "      <td>0.503784</td>\n",
       "      <td>26.11.19</td>\n",
       "    </tr>\n",
       "    <tr>\n",
       "      <th>20</th>\n",
       "      <td>92+29+72</td>\n",
       "      <td>W5 then 10 mM Kcl, 2 hours morning</td>\n",
       "      <td>9.136787</td>\n",
       "      <td>0.203851</td>\n",
       "      <td>26.11.19</td>\n",
       "    </tr>\n",
       "    <tr>\n",
       "      <th>21</th>\n",
       "      <td>92+72</td>\n",
       "      <td>N-free K3G1</td>\n",
       "      <td>1.988346</td>\n",
       "      <td>0.684240</td>\n",
       "      <td>26.11.19</td>\n",
       "    </tr>\n",
       "    <tr>\n",
       "      <th>22</th>\n",
       "      <td>92+72</td>\n",
       "      <td>W5 then 10 mM KNO3, 2 hours morning</td>\n",
       "      <td>1.822833</td>\n",
       "      <td>0.535758</td>\n",
       "      <td>26.11.19</td>\n",
       "    </tr>\n",
       "    <tr>\n",
       "      <th>23</th>\n",
       "      <td>92+72</td>\n",
       "      <td>W5 then 10 mM Kcl, 2 hours morning</td>\n",
       "      <td>1.814190</td>\n",
       "      <td>0.453307</td>\n",
       "      <td>26.11.19</td>\n",
       "    </tr>\n",
       "    <tr>\n",
       "      <th>24</th>\n",
       "      <td>92+72</td>\n",
       "      <td>W5, 10 mM KNO3_overnight</td>\n",
       "      <td>3.248753</td>\n",
       "      <td>1.384014</td>\n",
       "      <td>26.11.19</td>\n",
       "    </tr>\n",
       "    <tr>\n",
       "      <th>25</th>\n",
       "      <td>92+72</td>\n",
       "      <td>replete K3G1</td>\n",
       "      <td>1.630685</td>\n",
       "      <td>0.663768</td>\n",
       "      <td>26.11.19</td>\n",
       "    </tr>\n",
       "  </tbody>\n",
       "</table>\n",
       "</div>"
      ],
      "text/plain": [
       "        name                            condition  mean_luminescence  \\\n",
       "0      25+72                          N-free K3G1           1.151724   \n",
       "1      25+72  W5 then 10 mM KNO3, 2 hours morning           2.808982   \n",
       "2      25+72   W5 then 10 mM Kcl, 2 hours morning           2.328943   \n",
       "3      25+72             W5, 10 mM KNO3_overnight           3.055662   \n",
       "4      25+72                         replete K3G1           1.091513   \n",
       "5      35+72                          N-free K3G1          73.431986   \n",
       "6      35+72  W5 then 10 mM KNO3, 2 hours morning          75.081302   \n",
       "7      35+72   W5 then 10 mM Kcl, 2 hours morning         104.291185   \n",
       "8      35+72             W5, 10 mM KNO3_overnight          64.921355   \n",
       "9      35+72                         replete K3G1          57.306098   \n",
       "10     36+72                          N-free K3G1           1.015915   \n",
       "11     36+72  W5 then 10 mM KNO3, 2 hours morning           1.528903   \n",
       "12     36+72   W5 then 10 mM Kcl, 2 hours morning           1.757285   \n",
       "13     36+72             W5, 10 mM KNO3_overnight           2.308026   \n",
       "14   71 + 72  W5 then 10 mM KNO3, 2 hours morning         165.309175   \n",
       "15   71 + 72   W5 then 10 mM Kcl, 2 hours morning         179.032293   \n",
       "16   71 + 72             W5, 10 mM KNO3_overnight         118.309783   \n",
       "17     71+72                          N-free K3G1         107.168545   \n",
       "18     71+72                         replete K3G1         127.120250   \n",
       "19        72  W5 then 10 mM KNO3, 2 hours morning           0.555653   \n",
       "20  92+29+72   W5 then 10 mM Kcl, 2 hours morning           9.136787   \n",
       "21     92+72                          N-free K3G1           1.988346   \n",
       "22     92+72  W5 then 10 mM KNO3, 2 hours morning           1.822833   \n",
       "23     92+72   W5 then 10 mM Kcl, 2 hours morning           1.814190   \n",
       "24     92+72             W5, 10 mM KNO3_overnight           3.248753   \n",
       "25     92+72                         replete K3G1           1.630685   \n",
       "\n",
       "    standard_error      date  \n",
       "0         0.315713  26.11.19  \n",
       "1         1.128901  26.11.19  \n",
       "2         0.416367  26.11.19  \n",
       "3         0.405042  26.11.19  \n",
       "4         0.278987  26.11.19  \n",
       "5         5.359028  26.11.19  \n",
       "6         9.374357  26.11.19  \n",
       "7        26.827104  26.11.19  \n",
       "8        31.885983  26.11.19  \n",
       "9         8.298701  26.11.19  \n",
       "10        0.248658  26.11.19  \n",
       "11        0.365495  26.11.19  \n",
       "12        0.757463  26.11.19  \n",
       "13        0.813882  26.11.19  \n",
       "14       34.589967  26.11.19  \n",
       "15       35.243535  26.11.19  \n",
       "16       10.958352  26.11.19  \n",
       "17       33.445537  26.11.19  \n",
       "18       15.427830  26.11.19  \n",
       "19        0.503784  26.11.19  \n",
       "20        0.203851  26.11.19  \n",
       "21        0.684240  26.11.19  \n",
       "22        0.535758  26.11.19  \n",
       "23        0.453307  26.11.19  \n",
       "24        1.384014  26.11.19  \n",
       "25        0.663768  26.11.19  "
      ]
     },
     "execution_count": 5,
     "metadata": {},
     "output_type": "execute_result"
    }
   ],
   "source": [
    "luminescence_means_df"
   ]
  },
  {
   "cell_type": "code",
   "execution_count": 6,
   "metadata": {},
   "outputs": [
    {
     "data": {
      "text/html": [
       "<div>\n",
       "<style scoped>\n",
       "    .dataframe tbody tr th:only-of-type {\n",
       "        vertical-align: middle;\n",
       "    }\n",
       "\n",
       "    .dataframe tbody tr th {\n",
       "        vertical-align: top;\n",
       "    }\n",
       "\n",
       "    .dataframe thead th {\n",
       "        text-align: right;\n",
       "    }\n",
       "</style>\n",
       "<table border=\"1\" class=\"dataframe\">\n",
       "  <thead>\n",
       "    <tr style=\"text-align: right;\">\n",
       "      <th></th>\n",
       "      <th>well_row</th>\n",
       "      <th>well_col</th>\n",
       "      <th>content</th>\n",
       "      <th>fluc_luminescence</th>\n",
       "      <th>nluc_luminescence</th>\n",
       "      <th>name</th>\n",
       "      <th>condition</th>\n",
       "      <th>nluc/fluc</th>\n",
       "      <th>date</th>\n",
       "    </tr>\n",
       "  </thead>\n",
       "  <tbody>\n",
       "    <tr>\n",
       "      <th>0</th>\n",
       "      <td>A</td>\n",
       "      <td>1</td>\n",
       "      <td>Sample X1</td>\n",
       "      <td>194107.0</td>\n",
       "      <td>42776456.0</td>\n",
       "      <td>71 + 72</td>\n",
       "      <td>W5 then 10 mM Kcl, 2 hours morning</td>\n",
       "      <td>220.375648</td>\n",
       "      <td>26.11.19</td>\n",
       "    </tr>\n",
       "    <tr>\n",
       "      <th>1</th>\n",
       "      <td>A</td>\n",
       "      <td>2</td>\n",
       "      <td>Sample X7</td>\n",
       "      <td>179901.0</td>\n",
       "      <td>19594833.0</td>\n",
       "      <td>71 + 72</td>\n",
       "      <td>W5 then 10 mM Kcl, 2 hours morning</td>\n",
       "      <td>108.920089</td>\n",
       "      <td>26.11.19</td>\n",
       "    </tr>\n",
       "    <tr>\n",
       "      <th>2</th>\n",
       "      <td>A</td>\n",
       "      <td>3</td>\n",
       "      <td>Sample X13</td>\n",
       "      <td>98180.0</td>\n",
       "      <td>20401916.0</td>\n",
       "      <td>71 + 72</td>\n",
       "      <td>W5 then 10 mM Kcl, 2 hours morning</td>\n",
       "      <td>207.801141</td>\n",
       "      <td>26.11.19</td>\n",
       "    </tr>\n",
       "    <tr>\n",
       "      <th>3</th>\n",
       "      <td>A</td>\n",
       "      <td>4</td>\n",
       "      <td>Sample X19</td>\n",
       "      <td>641555.0</td>\n",
       "      <td>70528823.0</td>\n",
       "      <td>71 + 72</td>\n",
       "      <td>W5 then 10 mM KNO3, 2 hours morning</td>\n",
       "      <td>109.934180</td>\n",
       "      <td>26.11.19</td>\n",
       "    </tr>\n",
       "    <tr>\n",
       "      <th>4</th>\n",
       "      <td>A</td>\n",
       "      <td>5</td>\n",
       "      <td>Sample X24</td>\n",
       "      <td>184769.0</td>\n",
       "      <td>29024550.0</td>\n",
       "      <td>71 + 72</td>\n",
       "      <td>W5 then 10 mM KNO3, 2 hours morning</td>\n",
       "      <td>157.085604</td>\n",
       "      <td>26.11.19</td>\n",
       "    </tr>\n",
       "    <tr>\n",
       "      <th>...</th>\n",
       "      <td>...</td>\n",
       "      <td>...</td>\n",
       "      <td>...</td>\n",
       "      <td>...</td>\n",
       "      <td>...</td>\n",
       "      <td>...</td>\n",
       "      <td>...</td>\n",
       "      <td>...</td>\n",
       "      <td>...</td>\n",
       "    </tr>\n",
       "    <tr>\n",
       "      <th>75</th>\n",
       "      <td>H</td>\n",
       "      <td>8</td>\n",
       "      <td>Sample X73</td>\n",
       "      <td>26332.0</td>\n",
       "      <td>1800670.0</td>\n",
       "      <td>35+72</td>\n",
       "      <td>replete K3G1</td>\n",
       "      <td>68.383336</td>\n",
       "      <td>26.11.19</td>\n",
       "    </tr>\n",
       "    <tr>\n",
       "      <th>76</th>\n",
       "      <td>H</td>\n",
       "      <td>9</td>\n",
       "      <td>Sample X75</td>\n",
       "      <td>13043.0</td>\n",
       "      <td>814816.0</td>\n",
       "      <td>35+72</td>\n",
       "      <td>replete K3G1</td>\n",
       "      <td>62.471517</td>\n",
       "      <td>26.11.19</td>\n",
       "    </tr>\n",
       "    <tr>\n",
       "      <th>77</th>\n",
       "      <td>H</td>\n",
       "      <td>10</td>\n",
       "      <td>Sample X77</td>\n",
       "      <td>34232.0</td>\n",
       "      <td>53161.0</td>\n",
       "      <td>25+72</td>\n",
       "      <td>replete K3G1</td>\n",
       "      <td>1.552962</td>\n",
       "      <td>26.11.19</td>\n",
       "    </tr>\n",
       "    <tr>\n",
       "      <th>78</th>\n",
       "      <td>H</td>\n",
       "      <td>11</td>\n",
       "      <td>Sample X79</td>\n",
       "      <td>4447.0</td>\n",
       "      <td>5036.0</td>\n",
       "      <td>25+72</td>\n",
       "      <td>replete K3G1</td>\n",
       "      <td>1.132449</td>\n",
       "      <td>26.11.19</td>\n",
       "    </tr>\n",
       "    <tr>\n",
       "      <th>79</th>\n",
       "      <td>H</td>\n",
       "      <td>12</td>\n",
       "      <td>Sample X81</td>\n",
       "      <td>5335.0</td>\n",
       "      <td>3143.0</td>\n",
       "      <td>25+72</td>\n",
       "      <td>replete K3G1</td>\n",
       "      <td>0.589128</td>\n",
       "      <td>26.11.19</td>\n",
       "    </tr>\n",
       "  </tbody>\n",
       "</table>\n",
       "<p>80 rows × 9 columns</p>\n",
       "</div>"
      ],
      "text/plain": [
       "   well_row  well_col     content  fluc_luminescence  nluc_luminescence  \\\n",
       "0         A         1   Sample X1           194107.0         42776456.0   \n",
       "1         A         2   Sample X7           179901.0         19594833.0   \n",
       "2         A         3  Sample X13            98180.0         20401916.0   \n",
       "3         A         4  Sample X19           641555.0         70528823.0   \n",
       "4         A         5  Sample X24           184769.0         29024550.0   \n",
       "..      ...       ...         ...                ...                ...   \n",
       "75        H         8  Sample X73            26332.0          1800670.0   \n",
       "76        H         9  Sample X75            13043.0           814816.0   \n",
       "77        H        10  Sample X77            34232.0            53161.0   \n",
       "78        H        11  Sample X79             4447.0             5036.0   \n",
       "79        H        12  Sample X81             5335.0             3143.0   \n",
       "\n",
       "       name                            condition   nluc/fluc      date  \n",
       "0   71 + 72   W5 then 10 mM Kcl, 2 hours morning  220.375648  26.11.19  \n",
       "1   71 + 72   W5 then 10 mM Kcl, 2 hours morning  108.920089  26.11.19  \n",
       "2   71 + 72   W5 then 10 mM Kcl, 2 hours morning  207.801141  26.11.19  \n",
       "3   71 + 72  W5 then 10 mM KNO3, 2 hours morning  109.934180  26.11.19  \n",
       "4   71 + 72  W5 then 10 mM KNO3, 2 hours morning  157.085604  26.11.19  \n",
       "..      ...                                  ...         ...       ...  \n",
       "75    35+72                         replete K3G1   68.383336  26.11.19  \n",
       "76    35+72                         replete K3G1   62.471517  26.11.19  \n",
       "77    25+72                         replete K3G1    1.552962  26.11.19  \n",
       "78    25+72                         replete K3G1    1.132449  26.11.19  \n",
       "79    25+72                         replete K3G1    0.589128  26.11.19  \n",
       "\n",
       "[80 rows x 9 columns]"
      ]
     },
     "execution_count": 6,
     "metadata": {},
     "output_type": "execute_result"
    }
   ],
   "source": [
    "luminescence_raw_df"
   ]
  },
  {
   "cell_type": "code",
   "execution_count": 7,
   "metadata": {},
   "outputs": [],
   "source": [
    "#remove column 12"
   ]
  },
  {
   "cell_type": "code",
   "execution_count": 8,
   "metadata": {},
   "outputs": [],
   "source": [
    "#add promoter names column\n",
    "luminescence_raw_df['Promoter'] = luminescence_raw_df.name "
   ]
  },
  {
   "cell_type": "code",
   "execution_count": 9,
   "metadata": {},
   "outputs": [],
   "source": [
    "luminescence_raw_df.loc[luminescence_raw_df.name == '71 + 72', 'Promoter'] = 'UBQ10'\n",
    "luminescence_raw_df.loc[luminescence_raw_df.name == '71+72', 'Promoter'] = 'UBQ10'\n",
    "luminescence_raw_df.loc[luminescence_raw_df.name == '25+72', 'Promoter'] = 'NIR1'\n",
    "luminescence_raw_df.loc[luminescence_raw_df.name == '35+72', 'Promoter'] = 'NOS'\n",
    "luminescence_raw_df.loc[luminescence_raw_df.name == '36+72', 'Promoter'] = 'STAP4'\n",
    "luminescence_raw_df.loc[luminescence_raw_df.name == '92+72', 'Promoter'] = 'NRP'\n",
    "luminescence_raw_df.loc[luminescence_raw_df.name == '92+29+72', 'Promoter'] = 'NRP+NLP7_TF'"
   ]
  },
  {
   "cell_type": "code",
   "execution_count": 10,
   "metadata": {},
   "outputs": [
    {
     "data": {
      "text/html": [
       "<div>\n",
       "<style scoped>\n",
       "    .dataframe tbody tr th:only-of-type {\n",
       "        vertical-align: middle;\n",
       "    }\n",
       "\n",
       "    .dataframe tbody tr th {\n",
       "        vertical-align: top;\n",
       "    }\n",
       "\n",
       "    .dataframe thead th {\n",
       "        text-align: right;\n",
       "    }\n",
       "</style>\n",
       "<table border=\"1\" class=\"dataframe\">\n",
       "  <thead>\n",
       "    <tr style=\"text-align: right;\">\n",
       "      <th></th>\n",
       "      <th>name</th>\n",
       "      <th>condition</th>\n",
       "      <th>mean_luminescence</th>\n",
       "      <th>standard_error</th>\n",
       "      <th>date</th>\n",
       "    </tr>\n",
       "  </thead>\n",
       "  <tbody>\n",
       "    <tr>\n",
       "      <th>14</th>\n",
       "      <td>71 + 72</td>\n",
       "      <td>W5 then 10 mM KNO3, 2 hours morning</td>\n",
       "      <td>165.309175</td>\n",
       "      <td>34.589967</td>\n",
       "      <td>26.11.19</td>\n",
       "    </tr>\n",
       "    <tr>\n",
       "      <th>15</th>\n",
       "      <td>71 + 72</td>\n",
       "      <td>W5 then 10 mM Kcl, 2 hours morning</td>\n",
       "      <td>179.032293</td>\n",
       "      <td>35.243535</td>\n",
       "      <td>26.11.19</td>\n",
       "    </tr>\n",
       "    <tr>\n",
       "      <th>16</th>\n",
       "      <td>71 + 72</td>\n",
       "      <td>W5, 10 mM KNO3_overnight</td>\n",
       "      <td>118.309783</td>\n",
       "      <td>10.958352</td>\n",
       "      <td>26.11.19</td>\n",
       "    </tr>\n",
       "    <tr>\n",
       "      <th>17</th>\n",
       "      <td>71+72</td>\n",
       "      <td>N-free K3G1</td>\n",
       "      <td>107.168545</td>\n",
       "      <td>33.445537</td>\n",
       "      <td>26.11.19</td>\n",
       "    </tr>\n",
       "    <tr>\n",
       "      <th>18</th>\n",
       "      <td>71+72</td>\n",
       "      <td>replete K3G1</td>\n",
       "      <td>127.120250</td>\n",
       "      <td>15.427830</td>\n",
       "      <td>26.11.19</td>\n",
       "    </tr>\n",
       "  </tbody>\n",
       "</table>\n",
       "</div>"
      ],
      "text/plain": [
       "       name                            condition  mean_luminescence  \\\n",
       "14  71 + 72  W5 then 10 mM KNO3, 2 hours morning         165.309175   \n",
       "15  71 + 72   W5 then 10 mM Kcl, 2 hours morning         179.032293   \n",
       "16  71 + 72             W5, 10 mM KNO3_overnight         118.309783   \n",
       "17    71+72                          N-free K3G1         107.168545   \n",
       "18    71+72                         replete K3G1         127.120250   \n",
       "\n",
       "    standard_error      date  \n",
       "14       34.589967  26.11.19  \n",
       "15       35.243535  26.11.19  \n",
       "16       10.958352  26.11.19  \n",
       "17       33.445537  26.11.19  \n",
       "18       15.427830  26.11.19  "
      ]
     },
     "execution_count": 10,
     "metadata": {},
     "output_type": "execute_result"
    }
   ],
   "source": [
    "#select UBQ10 promoter means\n",
    "UBQ10_means_old = luminescence_means_df[(luminescence_means_df.name == '71 + 72') | (luminescence_means_df.name == '71+72')].copy()\n",
    "UBQ10_means_old"
   ]
  },
  {
   "cell_type": "code",
   "execution_count": 11,
   "metadata": {},
   "outputs": [],
   "source": [
    "#Create correction factor of 179.03/meanluminescence of differing condition for each condition\n",
    "UBQ10_means_old['correction_factor'] = UBQ10_means_old.iloc[1][2] / UBQ10_means_old['mean_luminescence']"
   ]
  },
  {
   "cell_type": "code",
   "execution_count": 12,
   "metadata": {},
   "outputs": [
    {
     "data": {
      "text/plain": [
       "179.03229287563258"
      ]
     },
     "execution_count": 12,
     "metadata": {},
     "output_type": "execute_result"
    }
   ],
   "source": [
    "UBQ10_means_old.iloc[1][2]"
   ]
  },
  {
   "cell_type": "code",
   "execution_count": 13,
   "metadata": {},
   "outputs": [
    {
     "data": {
      "text/html": [
       "<div>\n",
       "<style scoped>\n",
       "    .dataframe tbody tr th:only-of-type {\n",
       "        vertical-align: middle;\n",
       "    }\n",
       "\n",
       "    .dataframe tbody tr th {\n",
       "        vertical-align: top;\n",
       "    }\n",
       "\n",
       "    .dataframe thead th {\n",
       "        text-align: right;\n",
       "    }\n",
       "</style>\n",
       "<table border=\"1\" class=\"dataframe\">\n",
       "  <thead>\n",
       "    <tr style=\"text-align: right;\">\n",
       "      <th></th>\n",
       "      <th>name</th>\n",
       "      <th>condition</th>\n",
       "      <th>mean_luminescence</th>\n",
       "      <th>standard_error</th>\n",
       "      <th>date</th>\n",
       "      <th>correction_factor</th>\n",
       "    </tr>\n",
       "  </thead>\n",
       "  <tbody>\n",
       "    <tr>\n",
       "      <th>14</th>\n",
       "      <td>71 + 72</td>\n",
       "      <td>W5 then 10 mM KNO3, 2 hours morning</td>\n",
       "      <td>165.309175</td>\n",
       "      <td>34.589967</td>\n",
       "      <td>26.11.19</td>\n",
       "      <td>1.083015</td>\n",
       "    </tr>\n",
       "    <tr>\n",
       "      <th>15</th>\n",
       "      <td>71 + 72</td>\n",
       "      <td>W5 then 10 mM Kcl, 2 hours morning</td>\n",
       "      <td>179.032293</td>\n",
       "      <td>35.243535</td>\n",
       "      <td>26.11.19</td>\n",
       "      <td>1.000000</td>\n",
       "    </tr>\n",
       "    <tr>\n",
       "      <th>16</th>\n",
       "      <td>71 + 72</td>\n",
       "      <td>W5, 10 mM KNO3_overnight</td>\n",
       "      <td>118.309783</td>\n",
       "      <td>10.958352</td>\n",
       "      <td>26.11.19</td>\n",
       "      <td>1.513250</td>\n",
       "    </tr>\n",
       "    <tr>\n",
       "      <th>17</th>\n",
       "      <td>71+72</td>\n",
       "      <td>N-free K3G1</td>\n",
       "      <td>107.168545</td>\n",
       "      <td>33.445537</td>\n",
       "      <td>26.11.19</td>\n",
       "      <td>1.670568</td>\n",
       "    </tr>\n",
       "    <tr>\n",
       "      <th>18</th>\n",
       "      <td>71+72</td>\n",
       "      <td>replete K3G1</td>\n",
       "      <td>127.120250</td>\n",
       "      <td>15.427830</td>\n",
       "      <td>26.11.19</td>\n",
       "      <td>1.408370</td>\n",
       "    </tr>\n",
       "  </tbody>\n",
       "</table>\n",
       "</div>"
      ],
      "text/plain": [
       "       name                            condition  mean_luminescence  \\\n",
       "14  71 + 72  W5 then 10 mM KNO3, 2 hours morning         165.309175   \n",
       "15  71 + 72   W5 then 10 mM Kcl, 2 hours morning         179.032293   \n",
       "16  71 + 72             W5, 10 mM KNO3_overnight         118.309783   \n",
       "17    71+72                          N-free K3G1         107.168545   \n",
       "18    71+72                         replete K3G1         127.120250   \n",
       "\n",
       "    standard_error      date  correction_factor  \n",
       "14       34.589967  26.11.19           1.083015  \n",
       "15       35.243535  26.11.19           1.000000  \n",
       "16       10.958352  26.11.19           1.513250  \n",
       "17       33.445537  26.11.19           1.670568  \n",
       "18       15.427830  26.11.19           1.408370  "
      ]
     },
     "execution_count": 13,
     "metadata": {},
     "output_type": "execute_result"
    }
   ],
   "source": [
    "UBQ10_means_old"
   ]
  },
  {
   "cell_type": "code",
   "execution_count": 14,
   "metadata": {},
   "outputs": [
    {
     "data": {
      "text/html": [
       "<div>\n",
       "<style scoped>\n",
       "    .dataframe tbody tr th:only-of-type {\n",
       "        vertical-align: middle;\n",
       "    }\n",
       "\n",
       "    .dataframe tbody tr th {\n",
       "        vertical-align: top;\n",
       "    }\n",
       "\n",
       "    .dataframe thead th {\n",
       "        text-align: right;\n",
       "    }\n",
       "</style>\n",
       "<table border=\"1\" class=\"dataframe\">\n",
       "  <thead>\n",
       "    <tr style=\"text-align: right;\">\n",
       "      <th></th>\n",
       "      <th>condition</th>\n",
       "      <th>fluc_luminescence</th>\n",
       "    </tr>\n",
       "  </thead>\n",
       "  <tbody>\n",
       "    <tr>\n",
       "      <th>0</th>\n",
       "      <td>N-free K3G1</td>\n",
       "      <td>146609.933333</td>\n",
       "    </tr>\n",
       "    <tr>\n",
       "      <th>1</th>\n",
       "      <td>W5 then 10 mM KNO3, 2 hours morning</td>\n",
       "      <td>88288.904762</td>\n",
       "    </tr>\n",
       "    <tr>\n",
       "      <th>2</th>\n",
       "      <td>W5 then 10 mM Kcl, 2 hours morning</td>\n",
       "      <td>62408.117647</td>\n",
       "    </tr>\n",
       "    <tr>\n",
       "      <th>3</th>\n",
       "      <td>W5, 10 mM KNO3_overnight</td>\n",
       "      <td>150213.333333</td>\n",
       "    </tr>\n",
       "    <tr>\n",
       "      <th>4</th>\n",
       "      <td>replete K3G1</td>\n",
       "      <td>72379.916667</td>\n",
       "    </tr>\n",
       "  </tbody>\n",
       "</table>\n",
       "</div>"
      ],
      "text/plain": [
       "                             condition  fluc_luminescence\n",
       "0                          N-free K3G1      146609.933333\n",
       "1  W5 then 10 mM KNO3, 2 hours morning       88288.904762\n",
       "2   W5 then 10 mM Kcl, 2 hours morning       62408.117647\n",
       "3             W5, 10 mM KNO3_overnight      150213.333333\n",
       "4                         replete K3G1       72379.916667"
      ]
     },
     "execution_count": 14,
     "metadata": {},
     "output_type": "execute_result"
    }
   ],
   "source": [
    "#select UBQ10:fluc condition means\n",
    "luminescence_raw_df_means = luminescence_raw_df[['condition', 'fluc_luminescence']].groupby('condition').mean().reset_index()\n",
    "luminescence_raw_df_means"
   ]
  },
  {
   "cell_type": "code",
   "execution_count": 15,
   "metadata": {},
   "outputs": [],
   "source": [
    "#Create correction factor of W5, KCl mean/fluc_luminescence of differing condition for each condition\n",
    "luminescence_raw_df_means['correction_factor'] = luminescence_raw_df_means.iloc[2][1] / luminescence_raw_df_means['fluc_luminescence']"
   ]
  },
  {
   "cell_type": "code",
   "execution_count": 16,
   "metadata": {},
   "outputs": [
    {
     "data": {
      "text/plain": [
       "62408.117647058825"
      ]
     },
     "execution_count": 16,
     "metadata": {},
     "output_type": "execute_result"
    }
   ],
   "source": [
    "luminescence_raw_df_means.iloc[2][1]"
   ]
  },
  {
   "cell_type": "code",
   "execution_count": 17,
   "metadata": {},
   "outputs": [
    {
     "data": {
      "text/html": [
       "<div>\n",
       "<style scoped>\n",
       "    .dataframe tbody tr th:only-of-type {\n",
       "        vertical-align: middle;\n",
       "    }\n",
       "\n",
       "    .dataframe tbody tr th {\n",
       "        vertical-align: top;\n",
       "    }\n",
       "\n",
       "    .dataframe thead th {\n",
       "        text-align: right;\n",
       "    }\n",
       "</style>\n",
       "<table border=\"1\" class=\"dataframe\">\n",
       "  <thead>\n",
       "    <tr style=\"text-align: right;\">\n",
       "      <th></th>\n",
       "      <th>condition</th>\n",
       "      <th>fluc_luminescence</th>\n",
       "      <th>correction_factor</th>\n",
       "    </tr>\n",
       "  </thead>\n",
       "  <tbody>\n",
       "    <tr>\n",
       "      <th>0</th>\n",
       "      <td>N-free K3G1</td>\n",
       "      <td>146609.933333</td>\n",
       "      <td>0.425675</td>\n",
       "    </tr>\n",
       "    <tr>\n",
       "      <th>1</th>\n",
       "      <td>W5 then 10 mM KNO3, 2 hours morning</td>\n",
       "      <td>88288.904762</td>\n",
       "      <td>0.706863</td>\n",
       "    </tr>\n",
       "    <tr>\n",
       "      <th>2</th>\n",
       "      <td>W5 then 10 mM Kcl, 2 hours morning</td>\n",
       "      <td>62408.117647</td>\n",
       "      <td>1.000000</td>\n",
       "    </tr>\n",
       "    <tr>\n",
       "      <th>3</th>\n",
       "      <td>W5, 10 mM KNO3_overnight</td>\n",
       "      <td>150213.333333</td>\n",
       "      <td>0.415463</td>\n",
       "    </tr>\n",
       "    <tr>\n",
       "      <th>4</th>\n",
       "      <td>replete K3G1</td>\n",
       "      <td>72379.916667</td>\n",
       "      <td>0.862230</td>\n",
       "    </tr>\n",
       "  </tbody>\n",
       "</table>\n",
       "</div>"
      ],
      "text/plain": [
       "                             condition  fluc_luminescence  correction_factor\n",
       "0                          N-free K3G1      146609.933333           0.425675\n",
       "1  W5 then 10 mM KNO3, 2 hours morning       88288.904762           0.706863\n",
       "2   W5 then 10 mM Kcl, 2 hours morning       62408.117647           1.000000\n",
       "3             W5, 10 mM KNO3_overnight      150213.333333           0.415463\n",
       "4                         replete K3G1       72379.916667           0.862230"
      ]
     },
     "execution_count": 17,
     "metadata": {},
     "output_type": "execute_result"
    }
   ],
   "source": [
    "luminescence_raw_df_means"
   ]
  },
  {
   "cell_type": "code",
   "execution_count": 18,
   "metadata": {},
   "outputs": [],
   "source": [
    "#create new corrected UBQ10:fluc column\n",
    "#first merge dfs, only adding the correction factor column\n",
    "luminescence_raw_corrected_fluc = pd.merge(luminescence_raw_df, luminescence_raw_df_means[['condition', 'correction_factor']], on='condition')\n",
    "#then create corrected_fluc column, fluc multiplied by correction factor\n",
    "luminescence_raw_corrected_fluc['corrected_fluc'] = luminescence_raw_corrected_fluc['fluc_luminescence'] * luminescence_raw_corrected_fluc['correction_factor']\n",
    "#correct nluc/fluc:\n",
    "luminescence_raw_corrected_fluc['corrected_nluc/fluc'] = luminescence_raw_corrected_fluc['nluc_luminescence']/luminescence_raw_corrected_fluc['corrected_fluc']"
   ]
  },
  {
   "cell_type": "code",
   "execution_count": 19,
   "metadata": {},
   "outputs": [
    {
     "data": {
      "text/plain": [
       "array(['W5 then 10 mM Kcl, 2 hours morning',\n",
       "       'W5 then 10 mM KNO3, 2 hours morning', 'W5, 10 mM KNO3_overnight',\n",
       "       'N-free K3G1', 'replete K3G1'], dtype=object)"
      ]
     },
     "execution_count": 19,
     "metadata": {},
     "output_type": "execute_result"
    }
   ],
   "source": [
    "luminescence_raw_df.condition.unique()"
   ]
  },
  {
   "cell_type": "code",
   "execution_count": 20,
   "metadata": {},
   "outputs": [
    {
     "data": {
      "text/html": [
       "<div>\n",
       "<style scoped>\n",
       "    .dataframe tbody tr th:only-of-type {\n",
       "        vertical-align: middle;\n",
       "    }\n",
       "\n",
       "    .dataframe tbody tr th {\n",
       "        vertical-align: top;\n",
       "    }\n",
       "\n",
       "    .dataframe thead th {\n",
       "        text-align: right;\n",
       "    }\n",
       "</style>\n",
       "<table border=\"1\" class=\"dataframe\">\n",
       "  <thead>\n",
       "    <tr style=\"text-align: right;\">\n",
       "      <th></th>\n",
       "      <th>well_row</th>\n",
       "      <th>well_col</th>\n",
       "      <th>content</th>\n",
       "      <th>fluc_luminescence</th>\n",
       "      <th>nluc_luminescence</th>\n",
       "      <th>name</th>\n",
       "      <th>condition</th>\n",
       "      <th>nluc/fluc</th>\n",
       "      <th>date</th>\n",
       "      <th>Promoter</th>\n",
       "    </tr>\n",
       "  </thead>\n",
       "  <tbody>\n",
       "    <tr>\n",
       "      <th>60</th>\n",
       "      <td>F</td>\n",
       "      <td>1</td>\n",
       "      <td>Sample X6</td>\n",
       "      <td>40929.0</td>\n",
       "      <td>382303.0</td>\n",
       "      <td>92+29+72</td>\n",
       "      <td>W5 then 10 mM Kcl, 2 hours morning</td>\n",
       "      <td>9.340639</td>\n",
       "      <td>26.11.19</td>\n",
       "      <td>NRP+NLP7_TF</td>\n",
       "    </tr>\n",
       "    <tr>\n",
       "      <th>61</th>\n",
       "      <td>F</td>\n",
       "      <td>3</td>\n",
       "      <td>Sample X18</td>\n",
       "      <td>2013.0</td>\n",
       "      <td>17982.0</td>\n",
       "      <td>92+29+72</td>\n",
       "      <td>W5 then 10 mM Kcl, 2 hours morning</td>\n",
       "      <td>8.932936</td>\n",
       "      <td>26.11.19</td>\n",
       "      <td>NRP+NLP7_TF</td>\n",
       "    </tr>\n",
       "  </tbody>\n",
       "</table>\n",
       "</div>"
      ],
      "text/plain": [
       "   well_row  well_col     content  fluc_luminescence  nluc_luminescence  \\\n",
       "60        F         1   Sample X6            40929.0           382303.0   \n",
       "61        F         3  Sample X18             2013.0            17982.0   \n",
       "\n",
       "        name                           condition  nluc/fluc      date  \\\n",
       "60  92+29+72  W5 then 10 mM Kcl, 2 hours morning   9.340639  26.11.19   \n",
       "61  92+29+72  W5 then 10 mM Kcl, 2 hours morning   8.932936  26.11.19   \n",
       "\n",
       "       Promoter  \n",
       "60  NRP+NLP7_TF  \n",
       "61  NRP+NLP7_TF  "
      ]
     },
     "execution_count": 20,
     "metadata": {},
     "output_type": "execute_result"
    }
   ],
   "source": [
    "luminescence_raw_df[luminescence_raw_df.Promoter == 'NRP+NLP7_TF']"
   ]
  },
  {
   "cell_type": "code",
   "execution_count": 21,
   "metadata": {},
   "outputs": [],
   "source": [
    "#set style to ticks\n",
    "sns.set(style=\"ticks\", color_codes=True)"
   ]
  },
  {
   "cell_type": "code",
   "execution_count": 22,
   "metadata": {},
   "outputs": [
    {
     "data": {
      "image/png": "[encoded data removed]",
      "text/plain": [
       "<Figure size 620.1x360 with 1 Axes>"
      ]
     },
     "metadata": {},
     "output_type": "display_data"
    }
   ],
   "source": [
    "plot = sns.catplot(x=\"Promoter\", y=\"nluc/fluc\", data=luminescence_raw_df, hue='condition', kind='violin')\n",
    "#plot points\n",
    "ax = sns.swarmplot(x=\"Promoter\", y=\"nluc/fluc\", data=luminescence_raw_df, color=\".25\").get_figure().savefig(f'../../../../data/plots/luminescence/{date}/luminescence_violin.pdf', format='pdf')"
   ]
  },
  {
   "cell_type": "code",
   "execution_count": 23,
   "metadata": {},
   "outputs": [],
   "source": [
    "#remove promoter 72\n",
    "luminescence_raw_df_no_72 = luminescence_raw_corrected_fluc.copy()\n",
    "luminescence_raw_df_no_72.Promoter = luminescence_raw_df_no_72.Promoter.mask(luminescence_raw_df_no_72.Promoter == '72')"
   ]
  },
  {
   "cell_type": "code",
   "execution_count": 25,
   "metadata": {},
   "outputs": [
    {
     "data": {
      "image/png": "[encoded data removed]",
      "text/plain": [
       "<Figure size 576x432 with 1 Axes>"
      ]
     },
     "metadata": {},
     "output_type": "display_data"
    }
   ],
   "source": [
    "#set figure size\n",
    "sns.set(rc={'figure.figsize':(8,6)}, style=\"ticks\", color_codes=True)\n",
    "#bar chart, 68% confidence intervals (1 Standard error)\n",
    "plot = sns.barplot(x=\"Promoter\", y=\"nluc/fluc\", hue=\"condition\", data=luminescence_raw_df_no_72, ci=68, capsize=0.1,errwidth=0.7,n_boot=10000)\n",
    "plot.set_xticklabels(plot.get_xticklabels(), rotation=45)\n",
    "plt.legend(loc='upper right', borderaxespad=0.)\n",
    "plt.ylabel(\"Mean luminescence (a.u.)\").get_figure().savefig(f'../../../../data/plots/luminescence/{date}/promoter_luminescence.pdf', format='pdf')"
   ]
  },
  {
   "cell_type": "code",
   "execution_count": 57,
   "metadata": {},
   "outputs": [
    {
     "data": {
      "image/png": "[encoded data removed]",
      "text/plain": [
       "<Figure size 576x432 with 1 Axes>"
      ]
     },
     "metadata": {},
     "output_type": "display_data"
    }
   ],
   "source": [
    "#set figure size\n",
    "sns.set(rc={'figure.figsize':(8,6)}, style=\"ticks\", color_codes=True)\n",
    "\n",
    "#UBQ10 reacts to each conditions, so use applied correction factor\n",
    "#bar chart, 68% confidence intervals (1 Standard error)\n",
    "plot = sns.barplot(x=\"Promoter\", y=\"corrected_nluc/fluc\", hue=\"condition\", data=luminescence_raw_df_no_72, ci=68, capsize=0.1,errwidth=0.7,n_boot=10000)\n",
    "plot.set_xticklabels(plot.get_xticklabels(), rotation=45)\n",
    "plt.legend(loc='upper right', borderaxespad=0.)\n",
    "plt.ylabel(\"Mean_corrected_luminescence\").get_figure().savefig(f'../../../../data/plots/luminescence/{date}/promoter_luminescence_corrected.pdf', format='pdf')"
   ]
  },
  {
   "cell_type": "code",
   "execution_count": 214,
   "metadata": {},
   "outputs": [
    {
     "data": {
      "image/png": "[encoded data removed]",
      "text/plain": [
       "<Figure size 432x288 with 1 Axes>"
      ]
     },
     "metadata": {},
     "output_type": "display_data"
    }
   ],
   "source": [
    "#remove UBQ10 from this\n",
    "luminescence_raw_df_no_UBQ10 = luminescence_raw_df_no_72.copy()\n",
    "luminescence_raw_df_no_UBQ10.Promoter = luminescence_raw_df_no_UBQ10.Promoter.mask(luminescence_raw_df_no_UBQ10.Promoter == 'UBQ10')\n",
    "#plot again\n",
    "plot = sns.barplot(x=\"Promoter\", y=\"corrected_nluc/fluc\", hue=\"condition\", data=luminescence_raw_df_no_UBQ10, ci=68, capsize=0.1,errwidth=0.7,n_boot=10000)\n",
    "plot.set_xticklabels(plot.get_xticklabels(), rotation=45)\n",
    "plt.ylabel(\"Mean_corrected_luminescence\").get_figure().savefig(f'../../../../data/plots/luminescence/{date}/promoter_luminescence_corrected_no_UBQ10.pdf', format='pdf')"
   ]
  },
  {
   "cell_type": "code",
   "execution_count": 215,
   "metadata": {},
   "outputs": [
    {
     "data": {
      "image/png": "[encoded data removed]",
      "text/plain": [
       "<Figure size 432x288 with 1 Axes>"
      ]
     },
     "metadata": {},
     "output_type": "display_data"
    }
   ],
   "source": [
    "#plot raw UBQ10\n",
    "plot = sns.barplot(x='condition', hue=\"condition\", y=\"fluc_luminescence\", data=luminescence_raw_df,ci=68,capsize=0.1,errwidth=0.7,n_boot=10000)\n",
    "#plt.tight_layout(pad=1.0)\n",
    "#plot.set_xticklabels(plot.get_xticklabels(), rotation=70)\n",
    "plot.set_xticklabels('12345')\n",
    "plt.legend(loc='upper left')\n",
    "plt.ylabel(\"UBQ10:fluc_luminescence\").get_figure().savefig(f'../../../../data/plots/luminescence/{date}/UBQ10fluc_raw.pdf', format='pdf')\n"
   ]
  },
  {
   "cell_type": "code",
   "execution_count": 217,
   "metadata": {},
   "outputs": [
    {
     "data": {
      "image/png": "[encoded data removed]",
      "text/plain": [
       "<Figure size 432x288 with 1 Axes>"
      ]
     },
     "metadata": {},
     "output_type": "display_data"
    }
   ],
   "source": [
    "#plot graph with mean nluc on its own\n",
    "plot = sns.barplot(x=\"Promoter\", y=\"nluc_luminescence\", hue=\"condition\", data=luminescence_raw_df_no_72, ci=68, capsize=0.1,errwidth=0.7,n_boot=10000)\n",
    "plot.set_xticklabels(plot.get_xticklabels(), rotation=45)\n",
    "plt.ylabel(\"Mean_luminescence\").get_figure().savefig(f'../../../../data/plots/luminescence/{date}/promoter_luminescence_nluc_mean.pdf', format='pdf')"
   ]
  },
  {
   "cell_type": "code",
   "execution_count": 218,
   "metadata": {},
   "outputs": [
    {
     "data": {
      "image/png": "[encoded data removed]",
      "text/plain": [
       "<Figure size 432x288 with 1 Axes>"
      ]
     },
     "metadata": {},
     "output_type": "display_data"
    }
   ],
   "source": [
    "#plot graph with mean nluc on its own - no UBQ10\n",
    "plot = sns.barplot(x=\"Promoter\", y=\"nluc_luminescence\", hue=\"condition\", data=luminescence_raw_df_no_UBQ10, ci=68, capsize=0.1,errwidth=0.7,n_boot=10000)\n",
    "plot.set_xticklabels(plot.get_xticklabels(), rotation=45)\n",
    "plt.ylabel(\"Mean_luminescence\").get_figure().savefig(f'../../../../data/plots/luminescence/{date}/promoter_luminescence_nluc_mean_no_UBQ10.pdf', format='pdf')"
   ]
  },
  {
   "cell_type": "markdown",
   "metadata": {},
   "source": [
    "### get names of each condition for later"
   ]
  },
  {
   "cell_type": "code",
   "execution_count": 60,
   "metadata": {},
   "outputs": [
    {
     "name": "stdout",
     "output_type": "stream",
     "text": [
      "W5 then 10 mM Kcl, 2 hours morning\n",
      "W5 then 10 mM KNO3, 2 hours morning\n",
      "W5, 10 mM KNO3_overnight\n",
      "N-free K3G1\n",
      "replete K3G1\n"
     ]
    }
   ],
   "source": [
    "pd.Categorical(luminescence_raw_df_no_72.condition)\n",
    "names = luminescence_raw_df_no_72.condition.unique()\n",
    "for name in names:\n",
    "    print(name)"
   ]
  },
  {
   "cell_type": "code",
   "execution_count": 61,
   "metadata": {},
   "outputs": [
    {
     "name": "stdout",
     "output_type": "stream",
     "text": [
      "UBQ10\n",
      "NIR1\n",
      "NOS\n",
      "STAP4\n",
      "NRP\n",
      "NRP+NLP7_TF\n",
      "nan\n"
     ]
    }
   ],
   "source": [
    "#get list of promoters\n",
    "pd.Categorical(luminescence_raw_df_no_72.Promoter)\n",
    "prom_names = luminescence_raw_df_no_72.Promoter.unique()\n",
    "for name in prom_names:\n",
    "    print(name)"
   ]
  },
  {
   "cell_type": "markdown",
   "metadata": {},
   "source": [
    "### test normality"
   ]
  },
  {
   "cell_type": "code",
   "execution_count": 75,
   "metadata": {},
   "outputs": [
    {
     "name": "stdout",
     "output_type": "stream",
     "text": [
      "W5 then 10 mM Kcl, 2 hours morning: (0.7076970338821411, 0.0001414914586348459)\n",
      "W5 then 10 mM KNO3, 2 hours morning: (0.6323460340499878, 4.411865120346192e-06)\n",
      "W5, 10 mM KNO3_overnight: (0.7006860971450806, 0.0002527477336116135)\n",
      "N-free K3G1: (0.7482393980026245, 0.0008573827217333019)\n",
      "replete K3G1: (0.8192567229270935, 0.01564178615808487)\n",
      "W5 then 10 mM Kcl, 2 hours morning: (0.7076970338821411, 0.0001414914586348459)\n",
      "W5 then 10 mM KNO3, 2 hours morning: (0.6323460340499878, 4.411865120346192e-06)\n",
      "W5, 10 mM KNO3_overnight: (0.7006860971450806, 0.0002527477336116135)\n",
      "N-free K3G1: (0.7482393980026245, 0.0008573827217333019)\n",
      "replete K3G1: (0.8192567229270935, 0.01564178615808487)\n",
      "W5 then 10 mM Kcl, 2 hours morning: (0.7076970338821411, 0.0001414914586348459)\n",
      "W5 then 10 mM KNO3, 2 hours morning: (0.6323460340499878, 4.411865120346192e-06)\n",
      "W5, 10 mM KNO3_overnight: (0.7006860971450806, 0.0002527477336116135)\n",
      "N-free K3G1: (0.7482393980026245, 0.0008573827217333019)\n",
      "replete K3G1: (0.8192567229270935, 0.01564178615808487)\n",
      "W5 then 10 mM Kcl, 2 hours morning: (0.7076970338821411, 0.0001414914586348459)\n",
      "W5 then 10 mM KNO3, 2 hours morning: (0.6323460340499878, 4.411865120346192e-06)\n",
      "W5, 10 mM KNO3_overnight: (0.7006860971450806, 0.0002527477336116135)\n",
      "N-free K3G1: (0.7482393980026245, 0.0008573827217333019)\n",
      "replete K3G1: (0.8192567229270935, 0.01564178615808487)\n",
      "W5 then 10 mM Kcl, 2 hours morning: (0.7076970338821411, 0.0001414914586348459)\n",
      "W5 then 10 mM KNO3, 2 hours morning: (0.6323460340499878, 4.411865120346192e-06)\n",
      "W5, 10 mM KNO3_overnight: (0.7006860971450806, 0.0002527477336116135)\n",
      "N-free K3G1: (0.7482393980026245, 0.0008573827217333019)\n",
      "replete K3G1: (0.8192567229270935, 0.01564178615808487)\n",
      "W5 then 10 mM Kcl, 2 hours morning: (0.7076970338821411, 0.0001414914586348459)\n",
      "W5 then 10 mM KNO3, 2 hours morning: (0.6323460340499878, 4.411865120346192e-06)\n",
      "W5, 10 mM KNO3_overnight: (0.7006860971450806, 0.0002527477336116135)\n",
      "N-free K3G1: (0.7482393980026245, 0.0008573827217333019)\n",
      "replete K3G1: (0.8192567229270935, 0.01564178615808487)\n",
      "W5 then 10 mM Kcl, 2 hours morning: (0.7076970338821411, 0.0001414914586348459)\n",
      "W5 then 10 mM KNO3, 2 hours morning: (0.6323460340499878, 4.411865120346192e-06)\n",
      "W5, 10 mM KNO3_overnight: (0.7006860971450806, 0.0002527477336116135)\n",
      "N-free K3G1: (0.7482393980026245, 0.0008573827217333019)\n",
      "replete K3G1: (0.8192567229270935, 0.01564178615808487)\n"
     ]
    }
   ],
   "source": [
    "#returns test statistic, p-value\n",
    "for name1 in prom_names:\n",
    "    for name in names:\n",
    "        print('{}: {}'.format(name, stats.shapiro(luminescence_raw_df_no_72['corrected_nluc/fluc'][luminescence_raw_df_no_72.condition == name])))\n"
   ]
  },
  {
   "cell_type": "markdown",
   "metadata": {},
   "source": [
    "#### not normal"
   ]
  },
  {
   "cell_type": "code",
   "execution_count": 98,
   "metadata": {},
   "outputs": [
    {
     "data": {
      "text/plain": [
       "LeveneResult(statistic=0.6345376968467111, pvalue=0.639429384987563)"
      ]
     },
     "execution_count": 98,
     "metadata": {},
     "output_type": "execute_result"
    }
   ],
   "source": [
    "#test variance\n",
    "stats.levene(luminescence_raw_df_no_72['corrected_nluc/fluc'][luminescence_raw_df_no_72.condition == names[0]], \n",
    "               luminescence_raw_df_no_72['corrected_nluc/fluc'][luminescence_raw_df_no_72.condition == names[1]], \n",
    "               luminescence_raw_df_no_72['corrected_nluc/fluc'][luminescence_raw_df_no_72.condition == names[2]],\n",
    "            luminescence_raw_df_no_72['corrected_nluc/fluc'][luminescence_raw_df_no_72.condition == names[3]],\n",
    "            luminescence_raw_df_no_72['corrected_nluc/fluc'][luminescence_raw_df_no_72.condition == names[4]])"
   ]
  },
  {
   "cell_type": "code",
   "execution_count": 64,
   "metadata": {},
   "outputs": [],
   "source": [
    "test = luminescence_raw_df_no_72.groupby('Promoter')"
   ]
  },
  {
   "cell_type": "code",
   "execution_count": 65,
   "metadata": {},
   "outputs": [
    {
     "data": {
      "text/plain": [
       "<pandas.core.groupby.generic.DataFrameGroupBy object at 0x7fb5e9962e90>"
      ]
     },
     "execution_count": 65,
     "metadata": {},
     "output_type": "execute_result"
    }
   ],
   "source": [
    "test"
   ]
  },
  {
   "cell_type": "markdown",
   "metadata": {},
   "source": [
    "# Kruskal-Wallis one way analysis of variance: scipy.stats.kruskal"
   ]
  },
  {
   "cell_type": "code",
   "execution_count": 99,
   "metadata": {},
   "outputs": [
    {
     "name": "stdout",
     "output_type": "stream",
     "text": [
      "NIR1\n",
      "KruskalResult(statistic=9.266666666666666, pvalue=0.05476894186007044)\n",
      "NOS\n",
      "KruskalResult(statistic=4.066666666666663, pvalue=0.3970586768928915)\n",
      "NRP\n",
      "KruskalResult(statistic=0.8333333333333428, pvalue=0.933924226117294)\n",
      "NRP+NLP7_TF\n",
      "KruskalResult(statistic=nan, pvalue=nan)\n",
      "STAP4\n",
      "KruskalResult(statistic=nan, pvalue=nan)\n",
      "UBQ10\n",
      "KruskalResult(statistic=2.9000000000000057, pvalue=0.5746972058298034)\n"
     ]
    }
   ],
   "source": [
    "#luminescence kurskal wallis\n",
    "for promoter, value in test:\n",
    "    print(promoter)\n",
    "    print(stats.kruskal(value['nluc/fluc'][value.condition == names[0]], \n",
    "               value['nluc/fluc'][value.condition == names[1]],\n",
    "                value['nluc/fluc'][value.condition == names[2]],\n",
    "                      value['nluc/fluc'][value.condition == names[3]],\n",
    "                       value['nluc/fluc'][value.condition == names[4]]))"
   ]
  },
  {
   "cell_type": "code",
   "execution_count": 100,
   "metadata": {},
   "outputs": [
    {
     "name": "stdout",
     "output_type": "stream",
     "text": [
      "NIR1\n",
      "KruskalResult(statistic=8.566666666666663, pvalue=0.07289201922017796)\n",
      "NOS\n",
      "KruskalResult(statistic=7.166666666666664, pvalue=0.12733844728973628)\n",
      "NRP\n",
      "KruskalResult(statistic=7.233333333333327, pvalue=0.12405953313031426)\n",
      "NRP+NLP7_TF\n",
      "KruskalResult(statistic=nan, pvalue=nan)\n",
      "STAP4\n",
      "KruskalResult(statistic=nan, pvalue=nan)\n",
      "UBQ10\n",
      "KruskalResult(statistic=5.8999999999999915, pvalue=0.20674183849630864)\n"
     ]
    }
   ],
   "source": [
    "#corrected luminescence kurskal wallis\n",
    "for promoter, value in test:\n",
    "    print(promoter)\n",
    "    print(stats.kruskal(value['corrected_nluc/fluc'][value.condition == names[0]], \n",
    "               value['corrected_nluc/fluc'][value.condition == names[1]],\n",
    "                        value['corrected_nluc/fluc'][value.condition == names[2]],\n",
    "                       value['corrected_nluc/fluc'][value.condition == names[3]],\n",
    "                       value['corrected_nluc/fluc'][value.condition == names[4]]))"
   ]
  },
  {
   "cell_type": "code",
   "execution_count": 95,
   "metadata": {},
   "outputs": [
    {
     "name": "stdout",
     "output_type": "stream",
     "text": [
      "NIR1\n",
      "MannwhitneyuResult(statistic=3.0, pvalue=array([0.42719584, 0.45576797, 0.48565022]))\n",
      "NOS\n",
      "MannwhitneyuResult(statistic=4.0, pvalue=array([4.47362438e-012, 4.02638969e-013, 3.68542641e-171]))\n",
      "NRP\n",
      "MannwhitneyuResult(statistic=2.0, pvalue=array([0.41527309, 0.27558189, 0.22230118]))\n",
      "NRP+NLP7_TF\n",
      "MannwhitneyuResult(statistic=0.0, pvalue=array([], dtype=float64))\n",
      "STAP4\n",
      "MannwhitneyuResult(statistic=8.0, pvalue=array([0.40420697, 0.49457425, 0.45637365]))\n",
      "UBQ10\n",
      "MannwhitneyuResult(statistic=2.0, pvalue=array([7.08152229e-183, 2.04323366e-136, 5.49852293e-094]))\n"
     ]
    }
   ],
   "source": [
    "# #Mann-whitney individual comparisons. Correct using tukey. NO USE DUNN's test! \"You should use Dunn's test∗. If one proceeds by moving from a rejection of Kruskal-Wallis to performing ordinary pair-wise rank sum tests (with or without multiple comparison adjustments), one runs into two problems: (1) the ranks that the pair-wise rank sum tests use are not the ranks used by the Kruskal-Wallis test; and (2) Dunn's test preserves a pooled variance for the tests implied by the Kruskal-Wallis null hypothesis.\"\n",
    "# #https://stats.stackexchange.com/questions/25815/post-hoc-tests-after-kruskal-wallis-dunns-test-or-bonferroni-corrected-mann-wh\n",
    "# for promoter, value in test:\n",
    "#     print(promoter)\n",
    "#     print(stats.mannwhitneyu(value['corrected_nluc/fluc'][value.condition == names[0]], \n",
    "#                value['corrected_nluc/fluc'][value.condition == names[1]], value['nluc/fluc'][value.condition == names[2]]))"
   ]
  },
  {
   "cell_type": "code",
   "execution_count": 78,
   "metadata": {},
   "outputs": [],
   "source": [
    "#code from here: https://gist.github.com/alimuldal/fbb19b73fa25423f02e8\n",
    "def kw_dunn(groups, to_compare=None, alpha=0.05, method='bonf'):\n",
    "    \"\"\"\n",
    "    Kruskal-Wallis 1-way ANOVA with Dunn's multiple comparison test\n",
    "    Arguments:\n",
    "    ---------------\n",
    "    groups: sequence\n",
    "        arrays corresponding to k mutually independent samples from\n",
    "        continuous populations\n",
    "    to_compare: sequence\n",
    "        tuples specifying the indices of pairs of groups to compare, e.g.\n",
    "        [(0, 1), (0, 2)] would compare group 0 with 1 & 2. by default, all\n",
    "        possible pairwise comparisons between groups are performed.\n",
    "    alpha: float\n",
    "        family-wise error rate used for correcting for multiple comparisons\n",
    "        (see statsmodels.stats.multitest.multipletests for details)\n",
    "    method: string\n",
    "        method used to adjust p-values to account for multiple corrections (see\n",
    "        statsmodels.stats.multitest.multipletests for options)\n",
    "    Returns:\n",
    "    ---------------\n",
    "    H: float\n",
    "        Kruskal-Wallis H-statistic\n",
    "    p_omnibus: float\n",
    "        p-value corresponding to the global null hypothesis that the medians of\n",
    "        the groups are all equal\n",
    "    Z_pairs: float array\n",
    "        Z-scores computed for the absolute difference in mean ranks for each\n",
    "        pairwise comparison\n",
    "    p_corrected: float array\n",
    "        corrected p-values for each pairwise comparison, corresponding to the\n",
    "        null hypothesis that the pair of groups has equal medians. note that\n",
    "        these are only meaningful if the global null hypothesis is rejected.\n",
    "    reject: bool array\n",
    "        True for pairs where the null hypothesis can be rejected for the given\n",
    "        alpha\n",
    "    Reference:\n",
    "    ---------------\n",
    "    Gibbons, J. D., & Chakraborti, S. (2011). Nonparametric Statistical\n",
    "    Inference (5th ed., pp. 353-357). Boca Raton, FL: Chapman & Hall.\n",
    "    \"\"\"\n",
    "\n",
    "    # omnibus test (K-W ANOVA)\n",
    "    # -------------------------------------------------------------------------\n",
    "\n",
    "    groups = [np.array(gg) for gg in groups]\n",
    "\n",
    "    k = len(groups)\n",
    "\n",
    "    n = np.array([len(gg) for gg in groups])\n",
    "    if np.any(n < 5):\n",
    "        warnings.warn(\"Sample sizes < 5 are not recommended (K-W test assumes \"\n",
    "                      \"a chi square distribution)\")\n",
    "\n",
    "    allgroups = np.concatenate(groups)\n",
    "    N = len(allgroups)\n",
    "    ranked = stats.rankdata(allgroups)\n",
    "\n",
    "    # correction factor for ties\n",
    "    T = stats.tiecorrect(ranked)\n",
    "    if T == 0:\n",
    "        raise ValueError('All numbers are identical in kruskal')\n",
    "\n",
    "    # sum of ranks for each group\n",
    "    j = np.insert(np.cumsum(n), 0, 0)\n",
    "    R = np.empty(k, dtype=np.float)\n",
    "    for ii in range(k):\n",
    "        R[ii] = ranked[j[ii]:j[ii + 1]].sum()\n",
    "\n",
    "    # the Kruskal-Wallis H-statistic\n",
    "    H = (12. / (N * (N + 1.))) * ((R ** 2.) / n).sum() - 3 * (N + 1)\n",
    "\n",
    "    # apply correction factor for ties\n",
    "    H /= T\n",
    "\n",
    "    df_omnibus = k - 1\n",
    "    p_omnibus = stats.chisqprob(H, df_omnibus)\n",
    "\n",
    "    # multiple comparisons\n",
    "    # -------------------------------------------------------------------------\n",
    "\n",
    "    # by default we compare every possible pair of groups\n",
    "    if to_compare is None:\n",
    "        to_compare = tuple(combinations(range(k), 2))\n",
    "\n",
    "    ncomp = len(to_compare)\n",
    "\n",
    "    Z_pairs = np.empty(ncomp, dtype=np.float)\n",
    "    p_uncorrected = np.empty(ncomp, dtype=np.float)\n",
    "    Rmean = R / n\n",
    "\n",
    "    for pp, (ii, jj) in enumerate(to_compare):\n",
    "\n",
    "        # standardized score\n",
    "        Zij = (np.abs(Rmean[ii] - Rmean[jj]) /\n",
    "               np.sqrt((1. / 12.) * N * (N + 1) * (1. / n[ii] + 1. / n[jj])))\n",
    "        Z_pairs[pp] = Zij\n",
    "\n",
    "    # corresponding p-values obtained from upper quantiles of the standard\n",
    "    # normal distribution\n",
    "    p_uncorrected = stats.norm.sf(Z_pairs) * 2.\n",
    "\n",
    "    # correction for multiple comparisons\n",
    "    reject, p_corrected, alphac_sidak, alphac_bonf = multipletests(\n",
    "        p_uncorrected, method=method\n",
    "    )\n",
    "\n",
    "    return H, p_omnibus, Z_pairs, p_corrected, reject"
   ]
  },
  {
   "cell_type": "code",
   "execution_count": 81,
   "metadata": {},
   "outputs": [
    {
     "name": "stdout",
     "output_type": "stream",
     "text": [
      "NIR1\n",
      "MannwhitneyuResult(statistic=3.0, pvalue=array([0.3639267 , 0.32791625, 0.41186797]))\n",
      "NOS\n",
      "MannwhitneyuResult(statistic=4.0, pvalue=array([7.11254383e-34, 5.15539552e-75, 8.58068180e-74]))\n",
      "NRP\n",
      "MannwhitneyuResult(statistic=2.0, pvalue=array([0.25676994, 0.18066868, 0.30369987]))\n",
      "NRP+NLP7_TF\n",
      "MannwhitneyuResult(statistic=0.0, pvalue=array([], dtype=float64))\n",
      "STAP4\n",
      "MannwhitneyuResult(statistic=8.0, pvalue=array([0.477289  , 0.47509307, 0.44458021, 0.44410133, 0.42014179,\n",
      "       0.48198999]))\n",
      "UBQ10\n",
      "MannwhitneyuResult(statistic=2.0, pvalue=array([2.40357620e-116, 8.07313557e-242, 0.00000000e+000]))\n"
     ]
    }
   ],
   "source": [
    "# for promoter, value in test:\n",
    "#     print(promoter)\n",
    "#      print(stats.mannwhitneyu(value['corrected_nluc/fluc'][value.condition == names[0]], \n",
    "#                value['corrected_nluc/fluc'][value.condition == names[1]], value['nluc/fluc'][value.condition == names[1]]))"
   ]
  },
  {
   "cell_type": "code",
   "execution_count": 101,
   "metadata": {},
   "outputs": [
    {
     "name": "stdout",
     "output_type": "stream",
     "text": [
      "NIR1\n",
      "(8.566666666666663, 0.07289201922017796, array([0.73029674, 1.82574186, 0.27386128, 1.00415802, 1.09544512,\n",
      "       0.45643546, 1.73445477, 1.55188058, 2.82989988, 1.2780193 ]), array([1.        , 0.67889155, 1.        , 1.        , 1.        ,\n",
      "       1.        , 0.82837425, 1.        , 0.04656257, 1.        ]), array([False, False, False, False, False, False, False, False,  True,\n",
      "       False]))\n",
      "NOS\n",
      "(7.166666666666664, 0.12733844728973628, array([0.27386128, 0.36514837, 1.46059349, 1.18673221, 0.09128709,\n",
      "       1.18673221, 1.46059349, 1.09544512, 1.55188058, 2.64732569]), array([1.        , 1.        , 1.        , 1.        , 1.        ,\n",
      "       1.        , 1.        , 1.        , 1.        , 0.08113117]), array([False, False, False, False, False, False, False, False, False,\n",
      "       False]))\n",
      "NRP\n",
      "(7.233333333333327, 0.12405953313031426, array([0.82158384, 2.28217732, 1.64316767, 0.27386128, 1.46059349,\n",
      "       0.82158384, 0.54772256, 0.63900965, 2.00831604, 1.36930639]), array([1.        , 0.22478873, 1.        , 1.        , 1.        ,\n",
      "       1.        , 1.        , 1.        , 0.44609718, 1.        ]), array([False, False, False, False, False, False, False, False, False,\n",
      "       False]))\n",
      "STAP4\n",
      "(nan, nan, array([0.10540926, 1.91702895, 0.63900965,        nan, 2.10818511,\n",
      "       0.63245553,        nan, 1.2780193 ,        nan,        nan]), array([1.        , 0.55234254, 1.        ,        nan, 0.35014981,\n",
      "       1.        ,        nan, 1.        ,        nan,        nan]), array([False, False, False, False, False, False, False, False, False,\n",
      "       False]))\n",
      "UBQ10\n",
      "(5.8999999999999915, 0.20674183849630864, array([1.00415802, 1.82574186, 1.09544512, 0.27386128, 0.82158384,\n",
      "       0.09128709, 1.2780193 , 0.73029674, 2.09960314, 1.36930639]), array([1.        , 0.67889155, 1.        , 1.        , 1.        ,\n",
      "       1.        , 1.        , 1.        , 0.35763767, 1.        ]), array([False, False, False, False, False, False, False, False, False,\n",
      "       False]))\n"
     ]
    },
    {
     "name": "stderr",
     "output_type": "stream",
     "text": [
      "/home/witham/opt/anaconda3/envs/PromoterArchitecturePipeline/lib/python3.7/site-packages/ipykernel_launcher.py:52: UserWarning: Sample sizes < 5 are not recommended (K-W test assumes a chi square distribution)\n",
      "/home/witham/opt/anaconda3/envs/PromoterArchitecturePipeline/lib/python3.7/site-packages/ipykernel_launcher.py:71: RuntimeWarning: invalid value encountered in true_divide\n",
      "/home/witham/opt/anaconda3/envs/PromoterArchitecturePipeline/lib/python3.7/site-packages/ipykernel_launcher.py:90: RuntimeWarning: invalid value encountered in true_divide\n",
      "/home/witham/opt/anaconda3/envs/PromoterArchitecturePipeline/lib/python3.7/site-packages/ipykernel_launcher.py:96: RuntimeWarning: divide by zero encountered in true_divide\n"
     ]
    }
   ],
   "source": [
    "#fix error with chisqprob as in https://github.com/statsmodels/statsmodels/issues/3931\n",
    "stats.chisqprob = lambda chisq, df: stats.chi2.sf(chisq, df)\n",
    "#run kruskal wallis with multiple bonferonni corrections\n",
    "for promoter, value in test:\n",
    "    if promoter !='NRP+NLP7_TF':\n",
    "        print(promoter)\n",
    "        print(kw_dunn([value['corrected_nluc/fluc'][value.condition == names[0]].to_list(),\n",
    "               value['corrected_nluc/fluc'][value.condition == names[1]].to_list(),\n",
    "               value['corrected_nluc/fluc'][value.condition == names[2]].to_list(),\n",
    "                       value['corrected_nluc/fluc'][value.condition == names[3]].to_list(),\n",
    "                       value['corrected_nluc/fluc'][value.condition == names[4]].to_list()]))"
   ]
  },
  {
   "cell_type": "code",
   "execution_count": null,
   "metadata": {},
   "outputs": [],
   "source": []
  }
 ],
 "metadata": {
  "kernelspec": {
   "display_name": "Python 3",
   "language": "python",
   "name": "python3"
  },
  "language_info": {
   "codemirror_mode": {
    "name": "ipython",
    "version": 3
   },
   "file_extension": ".py",
   "mimetype": "text/x-python",
   "name": "python",
   "nbconvert_exporter": "python",
   "pygments_lexer": "ipython3",
   "version": "3.7.6"
  }
 },
 "nbformat": 4,
 "nbformat_minor": 4
}
