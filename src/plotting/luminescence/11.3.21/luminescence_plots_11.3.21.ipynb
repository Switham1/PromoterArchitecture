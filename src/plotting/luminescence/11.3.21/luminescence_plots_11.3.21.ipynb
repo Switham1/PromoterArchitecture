{
 "cells": [
  {
   "cell_type": "code",
   "execution_count": 65,
   "metadata": {},
   "outputs": [],
   "source": [
    "import pandas as pd\n",
    "import numpy as np\n",
    "import skbio\n",
    "from collections import Counter\n",
    "import seaborn as sns\n",
    "import matplotlib.pyplot as plt\n",
    "from scipy import stats\n",
    "from statsmodels.formula.api import ols\n",
    "import researchpy as rp\n",
    "from matplotlib import rcParams\n",
    "#from statsmodels.stats.multicomp import pairwise_tukeyhsd\n",
    "#from statsmodels.stats.multicomp import MultiComparison\n",
    "#dunns\n",
    "from itertools import combinations\n",
    "from statsmodels.stats.multitest import multipletests\n",
    "from statsmodels.stats.libqsturng import psturng\n",
    "import warnings\n",
    "\n",
    "import plotly.express as px\n",
    "import plotly.graph_objects as go\n",
    "import os\n",
    "import re\n",
    "from plotly.subplots import make_subplots\n",
    "\n",
    "from statsmodels.stats.multicomp import pairwise_tukeyhsd\n",
    "from statsmodels.stats.multicomp import MultiComparison\n",
    "import statsmodels.api as sm\n",
    "\n",
    "import statsmodels.api as sa\n",
    "import scikit_posthocs as sp\n",
    "\n",
    "from statannot import add_stat_annotation\n",
    "\n",
    "from pingouin import kruskal\n",
    "\n",
    "rcParams.update({'figure.autolayout': True})"
   ]
  },
  {
   "cell_type": "code",
   "execution_count": 66,
   "metadata": {},
   "outputs": [],
   "source": [
    "finaldate = '11.3.21'"
   ]
  },
  {
   "cell_type": "code",
   "execution_count": 67,
   "metadata": {},
   "outputs": [],
   "source": [
    "if not os.path.exists(f'../../../../data/plots/luminescence/{finaldate}'):\n",
    "    os.mkdir(f'../../../../data/plots/luminescence/{finaldate}')"
   ]
  },
  {
   "cell_type": "code",
   "execution_count": 68,
   "metadata": {},
   "outputs": [],
   "source": [
    "luminescence_raw_date = f'../../../../data/luminescence/to_be_sorted/{finaldate}/output_raw.csv'\n",
    "#luminescence_raw_date2 = f'../../../../data/luminescence/to_be_sorted/{finaldate}/output_raw_{date2}.csv'"
   ]
  },
  {
   "cell_type": "code",
   "execution_count": 69,
   "metadata": {},
   "outputs": [],
   "source": [
    "luminescence_raw_df_date = pd.read_csv(luminescence_raw_date, header=0)\n"
   ]
  },
  {
   "cell_type": "code",
   "execution_count": 70,
   "metadata": {},
   "outputs": [
    {
     "data": {
      "text/html": "<div>\n<style scoped>\n    .dataframe tbody tr th:only-of-type {\n        vertical-align: middle;\n    }\n\n    .dataframe tbody tr th {\n        vertical-align: top;\n    }\n\n    .dataframe thead th {\n        text-align: right;\n    }\n</style>\n<table border=\"1\" class=\"dataframe\">\n  <thead>\n    <tr style=\"text-align: right;\">\n      <th></th>\n      <th>well_row</th>\n      <th>well_col</th>\n      <th>content</th>\n      <th>fluc_luminescence</th>\n      <th>nluc_luminescence</th>\n      <th>name</th>\n      <th>condition</th>\n      <th>nluc/fluc</th>\n      <th>date</th>\n    </tr>\n  </thead>\n  <tbody>\n    <tr>\n      <th>0</th>\n      <td>A</td>\n      <td>1</td>\n      <td>Sample X1</td>\n      <td>419.0</td>\n      <td>36332.666667</td>\n      <td>35+34</td>\n      <td>Co-expression</td>\n      <td>86.712808</td>\n      <td>11.3.21</td>\n    </tr>\n    <tr>\n      <th>1</th>\n      <td>A</td>\n      <td>4</td>\n      <td>Sample X25</td>\n      <td>913.0</td>\n      <td>17858.666667</td>\n      <td>378+34</td>\n      <td>Co-expression</td>\n      <td>19.560424</td>\n      <td>11.3.21</td>\n    </tr>\n    <tr>\n      <th>2</th>\n      <td>A</td>\n      <td>5</td>\n      <td>Sample X33</td>\n      <td>423.0</td>\n      <td>8718.666667</td>\n      <td>378+34</td>\n      <td>Co-expression</td>\n      <td>20.611505</td>\n      <td>11.3.21</td>\n    </tr>\n    <tr>\n      <th>3</th>\n      <td>B</td>\n      <td>1</td>\n      <td>Sample X2</td>\n      <td>18666.0</td>\n      <td>85141.666667</td>\n      <td>102+34</td>\n      <td>Co-expression</td>\n      <td>4.561324</td>\n      <td>11.3.21</td>\n    </tr>\n    <tr>\n      <th>4</th>\n      <td>B</td>\n      <td>2</td>\n      <td>Sample X10</td>\n      <td>4666.0</td>\n      <td>29528.666667</td>\n      <td>102+34</td>\n      <td>Co-expression</td>\n      <td>6.328475</td>\n      <td>11.3.21</td>\n    </tr>\n    <tr>\n      <th>...</th>\n      <td>...</td>\n      <td>...</td>\n      <td>...</td>\n      <td>...</td>\n      <td>...</td>\n      <td>...</td>\n      <td>...</td>\n      <td>...</td>\n      <td>...</td>\n    </tr>\n    <tr>\n      <th>57</th>\n      <td>H</td>\n      <td>2</td>\n      <td>Sample X16</td>\n      <td>1024.0</td>\n      <td>65314.666667</td>\n      <td>377+34</td>\n      <td>Co-expression</td>\n      <td>63.783854</td>\n      <td>11.3.21</td>\n    </tr>\n    <tr>\n      <th>58</th>\n      <td>H</td>\n      <td>3</td>\n      <td>Sample X24</td>\n      <td>832.0</td>\n      <td>44252.666667</td>\n      <td>377+34</td>\n      <td>Co-expression</td>\n      <td>53.188301</td>\n      <td>11.3.21</td>\n    </tr>\n    <tr>\n      <th>59</th>\n      <td>H</td>\n      <td>4</td>\n      <td>Sample X32</td>\n      <td>1431.0</td>\n      <td>708243.666667</td>\n      <td>375+29+34</td>\n      <td>Co-expression</td>\n      <td>494.929187</td>\n      <td>11.3.21</td>\n    </tr>\n    <tr>\n      <th>60</th>\n      <td>H</td>\n      <td>6</td>\n      <td>Sample X48</td>\n      <td>891.0</td>\n      <td>522154.666667</td>\n      <td>375+29+34</td>\n      <td>Co-expression</td>\n      <td>586.032174</td>\n      <td>11.3.21</td>\n    </tr>\n    <tr>\n      <th>61</th>\n      <td>H</td>\n      <td>7</td>\n      <td>Sample X56</td>\n      <td>1929.0</td>\n      <td>549544.666667</td>\n      <td>381+351+34</td>\n      <td>Co-expression</td>\n      <td>284.885778</td>\n      <td>11.3.21</td>\n    </tr>\n  </tbody>\n</table>\n<p>62 rows × 9 columns</p>\n</div>",
      "text/plain": "   well_row  well_col     content  fluc_luminescence  nluc_luminescence  \\\n0         A         1   Sample X1              419.0       36332.666667   \n1         A         4  Sample X25              913.0       17858.666667   \n2         A         5  Sample X33              423.0        8718.666667   \n3         B         1   Sample X2            18666.0       85141.666667   \n4         B         2  Sample X10             4666.0       29528.666667   \n..      ...       ...         ...                ...                ...   \n57        H         2  Sample X16             1024.0       65314.666667   \n58        H         3  Sample X24              832.0       44252.666667   \n59        H         4  Sample X32             1431.0      708243.666667   \n60        H         6  Sample X48              891.0      522154.666667   \n61        H         7  Sample X56             1929.0      549544.666667   \n\n          name      condition   nluc/fluc     date  \n0        35+34  Co-expression   86.712808  11.3.21  \n1       378+34  Co-expression   19.560424  11.3.21  \n2       378+34  Co-expression   20.611505  11.3.21  \n3       102+34  Co-expression    4.561324  11.3.21  \n4       102+34  Co-expression    6.328475  11.3.21  \n..         ...            ...         ...      ...  \n57      377+34  Co-expression   63.783854  11.3.21  \n58      377+34  Co-expression   53.188301  11.3.21  \n59   375+29+34  Co-expression  494.929187  11.3.21  \n60   375+29+34  Co-expression  586.032174  11.3.21  \n61  381+351+34  Co-expression  284.885778  11.3.21  \n\n[62 rows x 9 columns]"
     },
     "execution_count": 70,
     "metadata": {},
     "output_type": "execute_result"
    }
   ],
   "source": [
    "luminescence_raw_df_date"
   ]
  },
  {
   "cell_type": "code",
   "execution_count": 71,
   "metadata": {},
   "outputs": [],
   "source": [
    "#add promoter names column\n",
    "luminescence_raw_df_date['Promoter'] = luminescence_raw_df_date.name "
   ]
  },
  {
   "cell_type": "code",
   "execution_count": 72,
   "metadata": {},
   "outputs": [],
   "source": [
    "# #OPTIONAL - CAN ADD LATER\n",
    "# # luminescence_raw_df.loc[luminescence_raw_df.name == '71 + 72', 'Promoter'] = 'UBQ10'\n",
    "# # luminescence_raw_df.loc[luminescence_raw_df.name == '71+72', 'Promoter'] = 'UBQ10'\n",
    "# # luminescence_raw_df.loc[luminescence_raw_df.name == '25+72', 'Promoter'] = 'NIR1'\n",
    "# # luminescence_raw_df.loc[luminescence_raw_df.name == '35+72', 'Promoter'] = 'NOS'\n",
    "# # luminescence_raw_df.loc[luminescence_raw_df.name == '36+72', 'Promoter'] = 'STAP4'\n",
    "# # luminescence_raw_df.loc[luminescence_raw_df.name == '92+72', 'Promoter'] = 'NRP'\n",
    "# # luminescence_raw_df.loc[luminescence_raw_df.name == '92+29+72', 'Promoter'] = 'NRP+NLP7_TF'\n",
    "# # luminescence_raw_df_date1.loc[luminescence_raw_df_date1.name == '25 + 34', 'Promoter'] = 'NIR1(1000bp)'\n",
    "# # luminescence_raw_df_date1.loc[luminescence_raw_df_date1.name == '35 + 34', 'Promoter'] = 'NOS'\n",
    "# # luminescence_raw_df_date1.loc[luminescence_raw_df_date1.name == '36 + 34', 'Promoter'] = 'STAP4'\n",
    "# # luminescence_raw_df_date1.loc[luminescence_raw_df_date1.name == '70 + 34', 'Promoter'] = '35S'\n",
    "# # luminescence_raw_df_date1.loc[luminescence_raw_df_date1.name == '14 + 34', 'Promoter'] = 'ANAC032(1000bp)'\n",
    "# # luminescence_raw_df_date1.loc[luminescence_raw_df_date1.name == '13 + 34', 'Promoter'] = 'ANAC032(500bp)'\n",
    "# # luminescence_raw_df_date1.loc[luminescence_raw_df_date1.name == '15 + 34', 'Promoter'] = 'ANR1(500bp)'\n",
    "# # luminescence_raw_df_date1.loc[luminescence_raw_df_date1.name == '16 + 34', 'Promoter'] = 'ANR1(1000bp)'\n",
    "# # luminescence_raw_df_date1.loc[luminescence_raw_df_date1.name == '17 + 34', 'Promoter'] = 'ARF18(500bp)'\n",
    "# # luminescence_raw_df_date1.loc[luminescence_raw_df_date1.name == '18 + 34', 'Promoter'] = 'ARF18(1000bp)'\n",
    "# # luminescence_raw_df_date1.loc[luminescence_raw_df_date1.name == '21 + 34', 'Promoter'] = 'DREB26(500bp)'\n",
    "# # luminescence_raw_df_date1.loc[luminescence_raw_df_date1.name == '22 + 34', 'Promoter'] = 'DREB26(1000bp)'\n",
    "# # luminescence_raw_df_date1.loc[luminescence_raw_df_date1.name == '23 + 34', 'Promoter'] = 'NLP7(500bp)'\n",
    "# # luminescence_raw_df_date1.loc[luminescence_raw_df_date1.name == '24 + 34', 'Promoter'] = 'NLP7(1000bp)'\n",
    "# # luminescence_raw_df_date1.loc[luminescence_raw_df_date1.name == '14+30+34', 'Promoter'] = 'ANAC032)'\n",
    "\n",
    "# luminescence_raw_df_date.loc[luminescence_raw_df_date.name.str.match(r'(^14.*)')==True, 'Promoter'] = 'ANAC032'\n",
    "# luminescence_raw_df_date.loc[luminescence_raw_df_date.name.str.match(r'(^16.*)')==True, 'Promoter'] = 'ANR1'\n",
    "# luminescence_raw_df_date.loc[luminescence_raw_df_date.name.str.match(r'(^18.*)')==True, 'Promoter'] = 'ARF18'\n",
    "# luminescence_raw_df_date.loc[luminescence_raw_df_date.name.str.match(r'(^20.*)')==True, 'Promoter'] = 'NLP6'\n",
    "# luminescence_raw_df_date.loc[luminescence_raw_df_date.name.str.match(r'(^22.*)')==True, 'Promoter'] = 'DREB26'\n",
    "# luminescence_raw_df_date.loc[luminescence_raw_df_date.name.str.match(r'(^24.*)')==True, 'Promoter'] = 'NLP7'\n",
    "# luminescence_raw_df_date.loc[luminescence_raw_df_date.name.str.match(r'(^25.*)')==True, 'Promoter'] = 'NIR1(1000bp)'\n",
    "# luminescence_raw_df_date.loc[luminescence_raw_df_date.name.str.match(r'(^35.*)')==True, 'Promoter'] = 'NOS'\n",
    "# luminescence_raw_df_date.loc[luminescence_raw_df_date.name.str.match(r'(^36.*)')==True, 'Promoter'] = 'STAP4'\n",
    "# luminescence_raw_df_date.loc[luminescence_raw_df_date.name.str.match(r'(^70.*)')==True, 'Promoter'] = '35S'\n",
    "# luminescence_raw_df_date.loc[luminescence_raw_df_date.name.str.match(r'(^102.*)')==True, 'Promoter'] = 'minimal_STAP4'\n",
    "# luminescence_raw_df_date.loc[luminescence_raw_df_date.name.str.match(r'(^103.*)')==True, 'Promoter'] = '1xANR1'\n",
    "# luminescence_raw_df_date.loc[luminescence_raw_df_date.name.str.match(r'(^104.*)')==True, 'Promoter'] = '1xNLP7'\n",
    "# luminescence_raw_df_date.loc[luminescence_raw_df_date.name.str.match(r'(^105.*)')==True, 'Promoter'] = '1xTCP20+NLP7'\n",
    "# luminescence_raw_df_date.loc[luminescence_raw_df_date.name.str.match(r'(^106.*)')==True, 'Promoter'] = '4xANR1'\n",
    "# luminescence_raw_df_date.loc[luminescence_raw_df_date.name.str.match(r'(^107.*)')==True, 'Promoter'] = '4xNLP7'\n",
    "# luminescence_raw_df_date.loc[luminescence_raw_df_date.name.str.match(r'(^108.*)')==True, 'Promoter'] = '4xTCP20+NLP7'\n",
    "# luminescence_raw_df_date.loc[luminescence_raw_df_date.name.str.match(r'(^109.*)')==True, 'Promoter'] = '4xNRE'\n",
    "# luminescence_raw_df_date.loc[luminescence_raw_df_date.name.str.match(r'(^71.*)')==True, 'Promoter'] = 'UBQ10'\n",
    "# luminescence_raw_df_date.loc[luminescence_raw_df_date.name.str.match(r'(^372.*)')==True, 'Promoter'] = '4x[NRE-TATA]'\n",
    "# luminescence_raw_df_date.loc[luminescence_raw_df_date.name.str.match(r'(^373.*)')==True, 'Promoter'] = '4x[NRE-TATA]+spacing'\n",
    "# luminescence_raw_df_date.loc[luminescence_raw_df_date.name.str.match(r'(^374.*)')==True, 'Promoter'] = '4x[NRE-random]'\n",
    "# luminescence_raw_df_date.loc[luminescence_raw_df_date.name.str.match(r'(^375.*)')==True, 'Promoter'] = '4x[NRE-random]+spacing'\n",
    "# luminescence_raw_df_date.loc[luminescence_raw_df_date.name.str.match(r'(^376.*)')==True, 'Promoter'] = '3xHHO2-minsyn_105'\n",
    "# luminescence_raw_df_date.loc[luminescence_raw_df_date.name.str.match(r'(^377.*)')==True, 'Promoter'] = 'minsyn_105-3xHHO2'\n",
    "# luminescence_raw_df_date.loc[luminescence_raw_df_date.name.str.match(r'(^378.*)')==True, 'Promoter'] = '4x[bZIP-random]'\n",
    "# luminescence_raw_df_date.loc[luminescence_raw_df_date.name.str.match(r'(^379.*)')==True, 'Promoter'] = '4x[TGA1-random]'\n",
    "# luminescence_raw_df_date.loc[luminescence_raw_df_date.name.str.match(r'(^380.*)')==True, 'Promoter'] = '2x[bZIP-random-NRE-random]'\n",
    "# luminescence_raw_df_date.loc[luminescence_raw_df_date.name.str.match(r'(^381.*)')==True, 'Promoter'] = '2x[TGA1-random-NRE-random]'\n",
    "\n",
    "\n",
    "# #luminescence_raw_df.locluminescence_raw_df.name == '71 + 34', 'Promoter'] = 'UBQ10:LucN/35S:LucF'"
   ]
  },
  {
   "cell_type": "code",
   "execution_count": 73,
   "metadata": {},
   "outputs": [],
   "source": [
    "def add_promoter_column(df,promoter_number,promoter):\n",
    "    df.loc[df.name.str.match(fr'(^{promoter_number}.*)')==True, 'Promoter'] = promoter\n",
    "    "
   ]
  },
  {
   "cell_type": "code",
   "execution_count": 74,
   "metadata": {},
   "outputs": [],
   "source": [
    "#add TF coexpression column\n",
    "def add_tf_column(df, TF_number, TF):\n",
    "    \"\"\"function to add TF added column based on an input df, a TF_number and a TF name\"\"\"\n",
    "    df.loc[df.name.str.contains(fr'.*{TF_number}.*')&df.TF_added.isnull()==True, 'TF_added'] = TF\n",
    "    for index, value in df.loc[df.name.str.contains(fr'.*{TF_number}.*')&df.TF_added.notnull()].TF_added.items():\n",
    "        if re.match(fr'.*{TF}.*', value):\n",
    "            pass\n",
    "        else:\n",
    "            df.iloc[index, df.columns.get_loc('TF_added')] = f'{value}+{TF}'\n"
   ]
  },
  {
   "cell_type": "code",
   "execution_count": 75,
   "metadata": {},
   "outputs": [],
   "source": [
    "#divide by NOS calibrator (mean nos-LucN/35SLucF luminescence)\n",
    "def batch_correction(df,calibrator_promoter_name):\n",
    "   #print(df[df.Promoter==calibrator_promoter_name])\n",
    "    calibrator = df[df.Promoter==calibrator_promoter_name]\n",
    "    calibrator_mean = calibrator['nluc/fluc'].mean(axis=0)\n",
    "    df['corrected_luminescence'] = df['nluc/fluc']/calibrator_mean*100 "
   ]
  },
  {
   "cell_type": "code",
   "execution_count": 76,
   "metadata": {},
   "outputs": [],
   "source": [
    "#add promoters to df\n",
    "add_promoter_column(luminescence_raw_df_date, '14', 'ANAC032')\n",
    "add_promoter_column(luminescence_raw_df_date, '16', 'ANR1')\n",
    "add_promoter_column(luminescence_raw_df_date, '18', 'ARF18')\n",
    "add_promoter_column(luminescence_raw_df_date, '20', 'NLP6')\n",
    "add_promoter_column(luminescence_raw_df_date, '22', 'DREB26')\n",
    "add_promoter_column(luminescence_raw_df_date, '24', 'NLP7')\n",
    "add_promoter_column(luminescence_raw_df_date, '25', 'NIR1')\n",
    "add_promoter_column(luminescence_raw_df_date, '35', 'NOS')\n",
    "add_promoter_column(luminescence_raw_df_date, '36', 'STAP4')\n",
    "add_promoter_column(luminescence_raw_df_date, '102', 'minimal_STAP4')\n",
    "add_promoter_column(luminescence_raw_df_date, '103', '1xANR1')\n",
    "add_promoter_column(luminescence_raw_df_date, '104', '1xNLP7')\n",
    "add_promoter_column(luminescence_raw_df_date, '105', '1xTCP20+NLP7')\n",
    "add_promoter_column(luminescence_raw_df_date, '106', '4xANR1')\n",
    "add_promoter_column(luminescence_raw_df_date, '107', '4xNLP7')\n",
    "add_promoter_column(luminescence_raw_df_date, '108', '4xTCP20+NLP7')\n",
    "add_promoter_column(luminescence_raw_df_date, '109', '4xNRE')\n",
    "add_promoter_column(luminescence_raw_df_date, '71', 'UBQ10')\n",
    "add_promoter_column(luminescence_raw_df_date, '372', '4x[NRE-TATA]')\n",
    "add_promoter_column(luminescence_raw_df_date, '373', '4x[NRE-TATA]+spacing')\n",
    "add_promoter_column(luminescence_raw_df_date, '374', '4x[NRE-random]')\n",
    "add_promoter_column(luminescence_raw_df_date, '375', '4x[NRE-random]+spacing')\n",
    "add_promoter_column(luminescence_raw_df_date, '376', '3xHHO2-minsyn_105')\n",
    "add_promoter_column(luminescence_raw_df_date, '377', 'minsyn_105-3xHHO2')\n",
    "add_promoter_column(luminescence_raw_df_date, '378', '4x[bZIP3-random]')\n",
    "add_promoter_column(luminescence_raw_df_date, '379', '4x[TGA1-random]')\n",
    "add_promoter_column(luminescence_raw_df_date, '380', '2x[bZIP3-random-NRE-random]')\n",
    "add_promoter_column(luminescence_raw_df_date, '381', '2x[TGA1-random-NRE-random]')\n"
   ]
  },
  {
   "cell_type": "code",
   "execution_count": 77,
   "metadata": {},
   "outputs": [],
   "source": [
    "# #add promoters to date2 df\n",
    "# add_promoter_column(luminescence_raw_df_date2, '14', 'ANAC032')\n",
    "# add_promoter_column(luminescence_raw_df_date2, '16', 'ANR1')\n",
    "# add_promoter_column(luminescence_raw_df_date2, '18', 'ARF18')\n",
    "# add_promoter_column(luminescence_raw_df_date2, '20', 'NLP6')\n",
    "# add_promoter_column(luminescence_raw_df_date2, '22', 'DREB26')\n",
    "# add_promoter_column(luminescence_raw_df_date2, '24', 'NLP7')\n",
    "# add_promoter_column(luminescence_raw_df_date2, '25', 'NIR1')\n",
    "# add_promoter_column(luminescence_raw_df_date2, '35', 'NOS')\n",
    "# add_promoter_column(luminescence_raw_df_date2, '36', 'STAP4')\n",
    "# add_promoter_column(luminescence_raw_df_date2, '70', '35S')"
   ]
  },
  {
   "cell_type": "code",
   "execution_count": 78,
   "metadata": {},
   "outputs": [],
   "source": [
    "#add TF column to df\n",
    "luminescence_raw_df_date['TF_added'] = np.nan\n",
    "add_tf_column(luminescence_raw_df_date,'27','NLP6')\n",
    "add_tf_column(luminescence_raw_df_date,'29','NLP7')\n",
    "add_tf_column(luminescence_raw_df_date,'30','DREB26')\n",
    "add_tf_column(luminescence_raw_df_date,'31','ANAC032')\n",
    "add_tf_column(luminescence_raw_df_date,'32','ARF18')\n",
    "add_tf_column(luminescence_raw_df_date,'33','ANR1')\n",
    "add_tf_column(luminescence_raw_df_date,'111','TCP20')\n",
    "add_tf_column(luminescence_raw_df_date,'348','HHO2')\n",
    "add_tf_column(luminescence_raw_df_date,'349','bZIP3')\n",
    "add_tf_column(luminescence_raw_df_date,'351','TGA1')"
   ]
  },
  {
   "cell_type": "code",
   "execution_count": 79,
   "metadata": {},
   "outputs": [],
   "source": [
    "# #add TF column to date2 df\n",
    "# luminescence_raw_df_date2['TF_added'] = np.nan\n",
    "# add_tf_column(luminescence_raw_df_date2,'27','NLP6')\n",
    "# add_tf_column(luminescence_raw_df_date2,'29','NLP7')\n",
    "# add_tf_column(luminescence_raw_df_date2,'30','DREB26')\n",
    "# add_tf_column(luminescence_raw_df_date2,'31','ANAC032')\n",
    "# add_tf_column(luminescence_raw_df_date2,'32','ARF18')\n",
    "# add_tf_column(luminescence_raw_df_date2,'33','ANR1')"
   ]
  },
  {
   "cell_type": "code",
   "execution_count": 80,
   "metadata": {},
   "outputs": [],
   "source": [
    "#divide by NOS calibrator (mean nos-LucN/35SLucF luminescence)\n",
    "batch_correction(luminescence_raw_df_date, 'NOS')\n",
    "# batch_correction(luminescence_raw_df_date2, 'NOS')"
   ]
  },
  {
   "cell_type": "code",
   "execution_count": 81,
   "metadata": {},
   "outputs": [],
   "source": [
    "luminescence_raw_df = luminescence_raw_df_date.copy()"
   ]
  },
  {
   "cell_type": "code",
   "execution_count": 82,
   "metadata": {},
   "outputs": [],
   "source": [
    "# #merge the dfs with different dates\n",
    "# luminescence_raw_df = pd.concat([luminescence_raw_df_date1,luminescence_raw_df_date2],ignore_index=True)\n",
    "# luminescence_raw_df"
   ]
  },
  {
   "cell_type": "code",
   "execution_count": 83,
   "metadata": {},
   "outputs": [],
   "source": [
    "#Change TF_added NaN values to none\n",
    "luminescence_raw_df.loc[luminescence_raw_df.TF_added.isnull()==True, 'TF_added'] = 'No TF'"
   ]
  },
  {
   "cell_type": "code",
   "execution_count": 84,
   "metadata": {},
   "outputs": [],
   "source": [
    "#sort rows by the custom promoter order I want so plots are in the correct order\n",
    "luminescence_raw_df.Promoter = pd.Categorical(luminescence_raw_df.Promoter,\n",
    "                                              ['NOS','minimal_STAP4','UBQ10','4xNRE','4x[NRE-TATA]','4x[NRE-TATA]+spacing','4x[NRE-random]','4x[NRE-random]+spacing','3xHHO2-minsyn_105','minsyn_105-3xHHO2','4x[bZIP3-random]','2x[bZIP3-random-NRE-random]','4x[TGA1-random]','2x[TGA1-random-NRE-random]'])\n",
    "luminescence_raw_df = luminescence_raw_df.sort_values(\"Promoter\")"
   ]
  },
  {
   "cell_type": "code",
   "execution_count": 85,
   "metadata": {},
   "outputs": [],
   "source": [
    "#save as file\n",
    "location = f'../../../../data/luminescence/to_be_sorted/{finaldate}/combined_output.tsv'\n",
    "\n",
    "luminescence_raw_df.to_csv(location,sep='\\t',header=True)"
   ]
  },
  {
   "cell_type": "code",
   "execution_count": 86,
   "metadata": {},
   "outputs": [],
   "source": [
    "# #set style to ticks\n",
    "# sns.set(style=\"ticks\", color_codes=True)"
   ]
  },
  {
   "cell_type": "code",
   "execution_count": 87,
   "metadata": {},
   "outputs": [],
   "source": [
    "# import plotly.plotly as py\n",
    "# import plotly.graph_objs as go\n",
    "# from plotly import tools\n",
    "\n",
    "# trace1 = Bar(\n",
    "#     x=['giraffes', 'orangutans', 'monkeys'],\n",
    "#     y=[20, 14, 23],\n",
    "#     name='SF Zoo'\n",
    "# )\n",
    "# trace2 = Bar(\n",
    "#     x=['giraffes', 'orangutans', 'monkeys'],\n",
    "#     y=[12, 18, 29],\n",
    "#     name='LA Zoo'\n",
    "# )\n",
    "# trace3 = Scatter(\n",
    "#   x=['giraffes', 'orangutans', 'monkeys']\n",
    "#   ,y=[33,20,17]\n",
    "#   ,name='subplots ftw'\n",
    "#   )\n",
    "\n",
    "\n",
    "# fig = tools.make_subplots(rows=2, cols=1, shared_xaxes=True)\n",
    "\n",
    "# fig.append_trace(trace3, 1,1)\n",
    "# fig.append_trace(trace1, 2, 1)\n",
    "# fig.append_trace(trace2,2,1)\n",
    "\n",
    "\n",
    "# fig['layout'].update(height=600, width=600)\n",
    "# iplot(fig)"
   ]
  },
  {
   "cell_type": "code",
   "execution_count": 88,
   "metadata": {},
   "outputs": [],
   "source": [
    "# # df = luminescence_raw_df.sort_values(\"Promoter\")\n",
    "# fig = make_subplots(rows=1, cols=2,shared_xaxes=True)\n",
    "# trace1 = px.bar(df, y=df[df.Promoter=='NOS'].corrected_luminescence, x=df[df.Promoter=='NOS'].Promoter)\n",
    "# fig.append_trace(trace1,1, 1)\n",
    "# fig['layout'].update(height=600, width=600)"
   ]
  },
  {
   "cell_type": "code",
   "execution_count": 89,
   "metadata": {},
   "outputs": [],
   "source": [
    "# df = luminescence_raw_df.sort_values(\"Promoter\")\n",
    "# trace1 = px.bar(df, y=df[df.Promoter=='NOS'].corrected_luminescence, x=df[df.Promoter=='NOS'].Promoter)\n",
    "# fig.add_trace(trace1.data[0])\n",
    "# fig['layout'].update(height=600, width=600)\n",
    "# fig.show()"
   ]
  },
  {
   "cell_type": "code",
   "execution_count": 90,
   "metadata": {},
   "outputs": [],
   "source": [
    "# #layout = go.Layout(plot_bgcolor='rgba(0,0,0,0)', paper_bgcolor='rgba(0,0,0,0)' )\n",
    "\n",
    "# fig = px.bar(luminescence_raw_df.sort_values(\"Promoter\"), y=\"corrected_luminescence\",barmode='group', x=\"Promoter\", color=\"TF_added\",  hover_data=luminescence_raw_df.columns) #points=\"all\"\n",
    "\n",
    "# fig.update_layout(plot_bgcolor='rgba(0,0,0,0)', paper_bgcolor='rgba(0,0,0,0)')\n",
    "# fig.update_xaxes(showline=True, linewidth=1, linecolor='black',ticks=\"outside\")\n",
    "# fig.update_yaxes(showline=True, linewidth=1, linecolor='black',ticks=\"outside\", title_text='Mean_luminescence')\n",
    "# #write to file static image and interactive one\n",
    "# #fig.write_image(f'../../../../data/plots/luminescence/{date}/violin23.9.19.pdf')\n",
    "# #fig.write_html(f'../../../../data/plots/luminescence/{date}/violin23.9.19.html')\n",
    "\n",
    "# fig.show()"
   ]
  },
  {
   "cell_type": "code",
   "execution_count": 91,
   "metadata": {},
   "outputs": [],
   "source": [
    "# #layout = go.Layout(plot_bgcolor='rgba(0,0,0,0)', paper_bgcolor='rgba(0,0,0,0)' )\n",
    "# fig = px.violin(luminescence_raw_df.sort_values(\"Promoter\"), y=\"corrected_luminescence\", x=\"Promoter\", color=\"TF_added\", box=True, hover_data=luminescence_raw_df.columns) #points=\"all\"\n",
    "\n",
    "# fig.update_layout(plot_bgcolor='rgba(0,0,0,0)', paper_bgcolor='rgba(0,0,0,0)')\n",
    "# fig.update_xaxes(showline=True, linewidth=1, linecolor='black',ticks=\"outside\")\n",
    "# fig.update_yaxes(showline=True, linewidth=1, linecolor='black',ticks=\"outside\", title_text='Mean_luminescence')\n",
    "# #write to file static image and interactive one\n",
    "# #fig.write_image(f'../../../../data/plots/luminescence/{date}/violin23.9.19.pdf')\n",
    "# #fig.write_html(f'../../../../data/plots/luminescence/{date}/violin23.9.19.html')\n",
    "\n",
    "# fig.show()"
   ]
  },
  {
   "cell_type": "code",
   "execution_count": 92,
   "metadata": {},
   "outputs": [],
   "source": [
    "\n",
    "# fig = go.Figure()\n",
    "# df = luminescence_raw_df.sort_values(\"Promoter\")\n",
    "# fig.add_trace(go.Violin(x=df['Promoter'][ df['condition'] == '10 mM KNO3 in W5' ],\n",
    "#                         y=df['nluc/fluc'][ df['condition'] == '10 mM KNO3 in W5' ],\n",
    "#                         legendgroup='10 mM KNO3 in W5', scalegroup='10 mM KNO3 in W5', name='10 mM KNO3 in W5',\n",
    "#                         line_color='blue')\n",
    "#              )\n",
    "# fig.add_trace(go.Violin(x=df['Promoter'][ df['condition'] == 'W5' ],\n",
    "#                         y=df['nluc/fluc'][ df['condition'] == 'W5' ],\n",
    "#                         legendgroup='W5', scalegroup='W5', name='W5',\n",
    "#                         line_color='orange')\n",
    "#              )\n",
    "\n",
    "# fig.update_traces(box_visible=True, meanline_visible=True)\n",
    "# fig.update_layout(violinmode='group')\n",
    "# fig.show()\n"
   ]
  },
  {
   "cell_type": "code",
   "execution_count": 93,
   "metadata": {},
   "outputs": [],
   "source": [
    "# df = luminescence_raw_df.sort_values(\"Promoter\")\n",
    "# #set figure size\n",
    "\n",
    "# sns.set(rc={'figure.figsize':(8,6)}, style=\"ticks\", color_codes=True)\n",
    "# #bar chart, 95% confidence intervals\n",
    "# plot = sns.barplot(x=\"TF_added\", y=\"corrected_luminescence\",hue='Promoter',data=df, ci=95, capsize=0.1,errwidth=0.7,n_boot=10000,\n",
    "#                    )\n",
    "# plot.set_xticklabels(plot.get_xticklabels(), rotation=45, ha='right')\n",
    "# #plt.legend(loc='upper right', borderaxespad=0.)\n",
    "# plt.ylabel(\"Mean_luminescence\") #.get_figure().savefig(f'../../../../data/plots/luminescence/{date}/promoter_luminescence.pdf', format='pdf')"
   ]
  },
  {
   "cell_type": "code",
   "execution_count": 111,
   "metadata": {},
   "outputs": [],
   "source": [
    "# plot = sns.catplot(x=\"Promoter\", y=\"nluc/fluc\", data=luminescence_raw_df, hue='condition', kind='violin',\n",
    "#                    order=['NOS','STAP4','NIR1(1000bp)','ANAC032(1000bp)','ANR1(500bp)','ANR1(1000bp)', 'ARF18(500bp)','ARF18(1000bp)', 'DREB26(500bp)', 'DREB26(1000bp)','NLP7(500bp)', 'NLP7(1000bp)'])\n",
    "# #plot points\n",
    "# [plt.setp(ax.get_xticklabels(), rotation=45, ha='right') for ax in plot.axes.flat]\n",
    "\n",
    "# #ax = sns.swarmplot(x=\"Promoter\", y=\"nluc/fluc\", data=luminescence_raw_df, color=\".25\",\n",
    "#              #      order=['NOS','STAP4','NIR1(1000bp)','ANAC032(1000bp)','ANR1(500bp)','ANR1(1000bp)', 'ARF18(500bp)','ARF18(1000bp)', 'DREB26(500bp)', 'DREB26(1000bp)','NLP7(500bp)', 'NLP7(1000bp)']).get_figure().savefig(f'../../../../data/plots/luminescence/{date}/luminescence_violin.pdf', format='pdf')\n"
   ]
  },
  {
   "cell_type": "code",
   "execution_count": 112,
   "metadata": {},
   "outputs": [
    {
     "data": {
      "text/html": "<div>\n<style scoped>\n    .dataframe tbody tr th:only-of-type {\n        vertical-align: middle;\n    }\n\n    .dataframe tbody tr th {\n        vertical-align: top;\n    }\n\n    .dataframe thead th {\n        text-align: right;\n    }\n</style>\n<table border=\"1\" class=\"dataframe\">\n  <thead>\n    <tr style=\"text-align: right;\">\n      <th></th>\n      <th>well_row</th>\n      <th>well_col</th>\n      <th>content</th>\n      <th>fluc_luminescence</th>\n      <th>nluc_luminescence</th>\n      <th>name</th>\n      <th>condition</th>\n      <th>nluc/fluc</th>\n      <th>date</th>\n      <th>Promoter</th>\n      <th>TF_added</th>\n      <th>corrected_luminescence</th>\n    </tr>\n  </thead>\n  <tbody>\n    <tr>\n      <th>0</th>\n      <td>A</td>\n      <td>1</td>\n      <td>Sample X1</td>\n      <td>419.0</td>\n      <td>36332.666667</td>\n      <td>35+34</td>\n      <td>Co-expression</td>\n      <td>86.712808</td>\n      <td>11.3.21</td>\n      <td>NOS</td>\n      <td>No TF</td>\n      <td>100.000000</td>\n    </tr>\n    <tr>\n      <th>3</th>\n      <td>B</td>\n      <td>1</td>\n      <td>Sample X2</td>\n      <td>18666.0</td>\n      <td>85141.666667</td>\n      <td>102+34</td>\n      <td>Co-expression</td>\n      <td>4.561324</td>\n      <td>11.3.21</td>\n      <td>minimal_STAP4</td>\n      <td>No TF</td>\n      <td>5.260265</td>\n    </tr>\n    <tr>\n      <th>4</th>\n      <td>B</td>\n      <td>2</td>\n      <td>Sample X10</td>\n      <td>4666.0</td>\n      <td>29528.666667</td>\n      <td>102+34</td>\n      <td>Co-expression</td>\n      <td>6.328475</td>\n      <td>11.3.21</td>\n      <td>minimal_STAP4</td>\n      <td>No TF</td>\n      <td>7.298202</td>\n    </tr>\n    <tr>\n      <th>5</th>\n      <td>B</td>\n      <td>3</td>\n      <td>Sample X18</td>\n      <td>3021.0</td>\n      <td>11492.666667</td>\n      <td>102+34</td>\n      <td>Co-expression</td>\n      <td>3.804259</td>\n      <td>11.3.21</td>\n      <td>minimal_STAP4</td>\n      <td>No TF</td>\n      <td>4.387194</td>\n    </tr>\n    <tr>\n      <th>55</th>\n      <td>G</td>\n      <td>12</td>\n      <td>Sample X95</td>\n      <td>949.0</td>\n      <td>139530.666667</td>\n      <td>71+34</td>\n      <td>Co-expression</td>\n      <td>147.029153</td>\n      <td>11.3.21</td>\n      <td>UBQ10</td>\n      <td>No TF</td>\n      <td>169.558750</td>\n    </tr>\n    <tr>\n      <th>...</th>\n      <td>...</td>\n      <td>...</td>\n      <td>...</td>\n      <td>...</td>\n      <td>...</td>\n      <td>...</td>\n      <td>...</td>\n      <td>...</td>\n      <td>...</td>\n      <td>...</td>\n      <td>...</td>\n      <td>...</td>\n    </tr>\n    <tr>\n      <th>12</th>\n      <td>B</td>\n      <td>12</td>\n      <td>Sample X90</td>\n      <td>503.0</td>\n      <td>238698.666667</td>\n      <td>381+351+29+34</td>\n      <td>Co-expression</td>\n      <td>474.550033</td>\n      <td>11.3.21</td>\n      <td>2x[TGA1-random-NRE-random]</td>\n      <td>+NLP7+TGA1</td>\n      <td>547.266364</td>\n    </tr>\n    <tr>\n      <th>21</th>\n      <td>D</td>\n      <td>4</td>\n      <td>Sample X28</td>\n      <td>1382.0</td>\n      <td>103692.666667</td>\n      <td>381+34</td>\n      <td>Co-expression</td>\n      <td>75.030873</td>\n      <td>11.3.21</td>\n      <td>2x[TGA1-random-NRE-random]</td>\n      <td>No TF</td>\n      <td>86.528017</td>\n    </tr>\n    <tr>\n      <th>22</th>\n      <td>D</td>\n      <td>5</td>\n      <td>Sample X36</td>\n      <td>1943.0</td>\n      <td>191997.666667</td>\n      <td>381+34</td>\n      <td>Co-expression</td>\n      <td>98.815063</td>\n      <td>11.3.21</td>\n      <td>2x[TGA1-random-NRE-random]</td>\n      <td>No TF</td>\n      <td>113.956709</td>\n    </tr>\n    <tr>\n      <th>23</th>\n      <td>D</td>\n      <td>6</td>\n      <td>Sample X44</td>\n      <td>553.0</td>\n      <td>64149.666667</td>\n      <td>381+34</td>\n      <td>Co-expression</td>\n      <td>116.003014</td>\n      <td>11.3.21</td>\n      <td>2x[TGA1-random-NRE-random]</td>\n      <td>No TF</td>\n      <td>133.778407</td>\n    </tr>\n    <tr>\n      <th>61</th>\n      <td>H</td>\n      <td>7</td>\n      <td>Sample X56</td>\n      <td>1929.0</td>\n      <td>549544.666667</td>\n      <td>381+351+34</td>\n      <td>Co-expression</td>\n      <td>284.885778</td>\n      <td>11.3.21</td>\n      <td>2x[TGA1-random-NRE-random]</td>\n      <td>+TGA1</td>\n      <td>328.539444</td>\n    </tr>\n  </tbody>\n</table>\n<p>62 rows × 12 columns</p>\n</div>",
      "text/plain": "   well_row  well_col     content  fluc_luminescence  nluc_luminescence  \\\n0         A         1   Sample X1              419.0       36332.666667   \n3         B         1   Sample X2            18666.0       85141.666667   \n4         B         2  Sample X10             4666.0       29528.666667   \n5         B         3  Sample X18             3021.0       11492.666667   \n55        G        12  Sample X95              949.0      139530.666667   \n..      ...       ...         ...                ...                ...   \n12        B        12  Sample X90              503.0      238698.666667   \n21        D         4  Sample X28             1382.0      103692.666667   \n22        D         5  Sample X36             1943.0      191997.666667   \n23        D         6  Sample X44              553.0       64149.666667   \n61        H         7  Sample X56             1929.0      549544.666667   \n\n             name      condition   nluc/fluc     date  \\\n0           35+34  Co-expression   86.712808  11.3.21   \n3          102+34  Co-expression    4.561324  11.3.21   \n4          102+34  Co-expression    6.328475  11.3.21   \n5          102+34  Co-expression    3.804259  11.3.21   \n55          71+34  Co-expression  147.029153  11.3.21   \n..            ...            ...         ...      ...   \n12  381+351+29+34  Co-expression  474.550033  11.3.21   \n21         381+34  Co-expression   75.030873  11.3.21   \n22         381+34  Co-expression   98.815063  11.3.21   \n23         381+34  Co-expression  116.003014  11.3.21   \n61     381+351+34  Co-expression  284.885778  11.3.21   \n\n                      Promoter    TF_added  corrected_luminescence  \n0                          NOS       No TF              100.000000  \n3                minimal_STAP4       No TF                5.260265  \n4                minimal_STAP4       No TF                7.298202  \n5                minimal_STAP4       No TF                4.387194  \n55                       UBQ10       No TF              169.558750  \n..                         ...         ...                     ...  \n12  2x[TGA1-random-NRE-random]  +NLP7+TGA1              547.266364  \n21  2x[TGA1-random-NRE-random]       No TF               86.528017  \n22  2x[TGA1-random-NRE-random]       No TF              113.956709  \n23  2x[TGA1-random-NRE-random]       No TF              133.778407  \n61  2x[TGA1-random-NRE-random]       +TGA1              328.539444  \n\n[62 rows x 12 columns]"
     },
     "execution_count": 112,
     "metadata": {},
     "output_type": "execute_result"
    }
   ],
   "source": [
    "luminescence_raw_df"
   ]
  },
  {
   "cell_type": "code",
   "execution_count": 114,
   "metadata": {},
   "outputs": [],
   "source": [
    "#save table\n",
    "luminescence_raw_df.to_csv(f'../../../../data/plots/luminescence/{finaldate}/luminescence_raw_df.csv', header=1)\n",
    "\n"
   ]
  },
  {
   "cell_type": "code",
   "execution_count": 32,
   "metadata": {},
   "outputs": [],
   "source": [
    "# #add plus sign to TF column if not 'No TF)\n",
    "# luminescence_raw_df_renamed = luminescence_raw_df.copy()\n",
    "\n",
    "# filter = luminescence_raw_df_renamed[~luminescence_raw_df_renamed.gene_type.str.contains('No TF')]\n",
    "# filter.gene_type = '+' + filter.gene_type.astype('str')\n",
    "# filter\n",
    "\n"
   ]
  },
  {
   "cell_type": "code",
   "execution_count": 33,
   "metadata": {},
   "outputs": [],
   "source": [
    "# luminescence_raw_df_renamed = luminescence_raw_df.copy()\n",
    "# luminescence_raw_df_renamed.gene_type.replace('NLP7+TCP20','+NLP7+TCP20', inplace=True)\n",
    "# # luminescence_raw_df_renamed.gene_type.replace('ANR1','+ANR1', inplace=True)\n",
    "# luminescence_raw_df_renamed.gene_type.replace('randCont','random', inplace=True)\n"
   ]
  },
  {
   "cell_type": "code",
   "execution_count": 96,
   "metadata": {},
   "outputs": [],
   "source": [
    "#get TF names\n",
    "pd.Categorical(luminescence_raw_df.TF_added)\n",
    "names = luminescence_raw_df.TF_added.unique()\n",
    "#Change TF names to +TF\n",
    "luminescence_raw_df_renamed = luminescence_raw_df.copy()\n",
    "for TF in names:\n",
    "    if TF != 'No TF':\n",
    "        luminescence_raw_df_renamed.TF_added.replace(TF,f'+{TF}', inplace=True)\n",
    "luminescence_raw_df = luminescence_raw_df_renamed"
   ]
  },
  {
   "cell_type": "code",
   "execution_count": null,
   "metadata": {},
   "outputs": [],
   "source": [
    "### get names of each TF_added for later"
   ]
  },
  {
   "cell_type": "code",
   "execution_count": 97,
   "metadata": {},
   "outputs": [
    {
     "name": "stdout",
     "output_type": "stream",
     "text": [
      "No TF\n",
      "+NLP7+TCP20\n",
      "+NLP7\n",
      "+TCP20\n",
      "+HHO2\n",
      "+bZIP3\n",
      "+NLP7+bZIP3\n",
      "+TGA1\n",
      "+NLP7+TGA1\n"
     ]
    }
   ],
   "source": [
    "pd.Categorical(luminescence_raw_df.TF_added)\n",
    "names = luminescence_raw_df.TF_added.unique()\n",
    "for name in names:\n",
    "    print(name)"
   ]
  },
  {
   "cell_type": "code",
   "execution_count": 98,
   "metadata": {},
   "outputs": [
    {
     "name": "stdout",
     "output_type": "stream",
     "text": [
      "NOS\n",
      "minimal_STAP4\n",
      "UBQ10\n",
      "4xNRE\n",
      "4x[NRE-TATA]+spacing\n",
      "4x[NRE-random]\n",
      "4x[NRE-random]+spacing\n",
      "3xHHO2-minsyn_105\n",
      "minsyn_105-3xHHO2\n",
      "4x[bZIP3-random]\n",
      "2x[bZIP3-random-NRE-random]\n",
      "4x[TGA1-random]\n",
      "2x[TGA1-random-NRE-random]\n"
     ]
    }
   ],
   "source": [
    "#get list of promoters\n",
    "pd.Categorical(luminescence_raw_df.Promoter)\n",
    "prom_names = luminescence_raw_df.Promoter.unique()\n",
    "for name in prom_names:\n",
    "    print(name)"
   ]
  },
  {
   "cell_type": "code",
   "execution_count": 99,
   "metadata": {},
   "outputs": [
    {
     "name": "stdout",
     "output_type": "stream",
     "text": [
      "['#365DC5', '#8DAED5', '#33B1C7', '#EF127D', '#818044', '#62168E', '#70AB40', '#5BA1C6', '#AAA3C7']\n"
     ]
    }
   ],
   "source": [
    "#create colours\n",
    "from random import randint\n",
    "color = []\n",
    "n = len(names)\n",
    "for i in range(n):\n",
    "    color.append('#%06X' % randint(0, 0xFFFFFF))\n",
    "print(color)\n"
   ]
  },
  {
   "cell_type": "code",
   "execution_count": 100,
   "metadata": {},
   "outputs": [
    {
     "data": {
      "text/plain": "{'No TF': '#365DC5',\n '+NLP7+TCP20': '#8DAED5',\n '+NLP7': '#33B1C7',\n '+TCP20': '#EF127D',\n '+HHO2': '#818044',\n '+bZIP3': '#62168E',\n '+NLP7+bZIP3': '#70AB40',\n '+TGA1': '#5BA1C6',\n '+NLP7+TGA1': '#AAA3C7'}"
     },
     "execution_count": 100,
     "metadata": {},
     "output_type": "execute_result"
    }
   ],
   "source": [
    "#make dictionary with TF_added names as key and the randomly generated colors as values\n",
    "new_color = dict(zip(names, color))\n",
    "new_color"
   ]
  },
  {
   "cell_type": "code",
   "execution_count": 101,
   "metadata": {},
   "outputs": [],
   "source": [
    "def dunn_posthoc_test(df, dependent_variable, between):\n",
    "    \"\"\"dunn_posthoc tests with bonferroni multiple correction\"\"\"\n",
    "    return sp.posthoc_dunn(\n",
    "        df,\n",
    "        val_col=dependent_variable,\n",
    "    \n",
    "        group_col=between,\n",
    "        p_adjust=\"bonferroni\",\n",
    "    )\n",
    "    \n"
   ]
  },
  {
   "cell_type": "code",
   "execution_count": 102,
   "metadata": {},
   "outputs": [
    {
     "name": "stdout",
     "output_type": "stream",
     "text": [
      "NOS\n",
      "minimal_STAP4\n",
      "UBQ10\n",
      "4xNRE\n",
      "4x[NRE-TATA]+spacing\n",
      "4x[NRE-random]\n",
      "4x[NRE-random]+spacing\n",
      "3xHHO2-minsyn_105\n",
      "minsyn_105-3xHHO2\n",
      "4x[bZIP3-random]\n",
      "2x[bZIP3-random-NRE-random]\n",
      "4x[TGA1-random]\n",
      "2x[TGA1-random-NRE-random]\n"
     ]
    }
   ],
   "source": [
    "for prom in prom_names:\n",
    "    print(prom)"
   ]
  },
  {
   "cell_type": "code",
   "execution_count": 121,
   "metadata": {},
   "outputs": [
    {
     "name": "stdout",
     "output_type": "stream",
     "text": [
      "4x[NRE-TATA]+spacing\n",
      "['No TF' '+NLP7']\n",
      "p-value annotation legend:\n",
      "ns: 5.00e-02 < p <= 1.00e+00\n",
      "*: 1.00e-02 < p <= 5.00e-02\n",
      "**: 1.00e-03 < p <= 1.00e-02\n",
      "***: 1.00e-04 < p <= 1.00e-03\n",
      "****: p <= 1.00e-04\n",
      "\n",
      "No TF v.s. +NLP7: Mann-Whitney-Wilcoxon test two-sided with Bonferroni correction, P_val=8.086e-02 U_stat=0.000e+00\n",
      "4x[NRE-random]\n",
      "['No TF' '+NLP7']\n",
      "p-value annotation legend:\n",
      "ns: 5.00e-02 < p <= 1.00e+00\n",
      "*: 1.00e-02 < p <= 5.00e-02\n",
      "**: 1.00e-03 < p <= 1.00e-02\n",
      "***: 1.00e-04 < p <= 1.00e-03\n",
      "****: p <= 1.00e-04\n",
      "\n",
      "No TF v.s. +NLP7: Mann-Whitney-Wilcoxon test two-sided with Bonferroni correction, P_val=3.865e-01 U_stat=1.000e+00\n",
      "4x[NRE-random]+spacing\n",
      "['No TF' '+NLP7']\n",
      "p-value annotation legend:\n",
      "ns: 5.00e-02 < p <= 1.00e+00\n",
      "*: 1.00e-02 < p <= 5.00e-02\n",
      "**: 1.00e-03 < p <= 1.00e-02\n",
      "***: 1.00e-04 < p <= 1.00e-03\n",
      "****: p <= 1.00e-04\n",
      "\n",
      "No TF v.s. +NLP7: Mann-Whitney-Wilcoxon test two-sided with Bonferroni correction, P_val=2.453e-01 U_stat=0.000e+00\n",
      "3xHHO2-minsyn_105\n",
      "['No TF']\n",
      "minsyn_105-3xHHO2\n",
      "['No TF' '+HHO2']\n",
      "p-value annotation legend:\n",
      "ns: 5.00e-02 < p <= 1.00e+00\n",
      "*: 1.00e-02 < p <= 5.00e-02\n",
      "**: 1.00e-03 < p <= 1.00e-02\n",
      "***: 1.00e-04 < p <= 1.00e-03\n",
      "****: p <= 1.00e-04\n",
      "\n",
      "No TF v.s. +HHO2: Mann-Whitney-Wilcoxon test two-sided with Bonferroni correction, P_val=1.000e+00 U_stat=5.000e+00\n",
      "4x[bZIP3-random]\n",
      "['No TF' '+bZIP3']\n",
      "p-value annotation legend:\n",
      "ns: 5.00e-02 < p <= 1.00e+00\n",
      "*: 1.00e-02 < p <= 5.00e-02\n",
      "**: 1.00e-03 < p <= 1.00e-02\n",
      "***: 1.00e-04 < p <= 1.00e-03\n",
      "****: p <= 1.00e-04\n",
      "\n",
      "No TF v.s. +bZIP3: Mann-Whitney-Wilcoxon test two-sided with Bonferroni correction, P_val=1.489e-01 U_stat=0.000e+00\n",
      "2x[bZIP3-random-NRE-random]\n",
      "['No TF' '+bZIP3' '+NLP7+bZIP3' '+NLP7']\n",
      "4x[TGA1-random]\n",
      "['No TF' '+TGA1']\n",
      "p-value annotation legend:\n",
      "ns: 5.00e-02 < p <= 1.00e+00\n",
      "*: 1.00e-02 < p <= 5.00e-02\n",
      "**: 1.00e-03 < p <= 1.00e-02\n",
      "***: 1.00e-04 < p <= 1.00e-03\n",
      "****: p <= 1.00e-04\n",
      "\n",
      "No TF v.s. +TGA1: Mann-Whitney-Wilcoxon test two-sided with Bonferroni correction, P_val=8.086e-02 U_stat=0.000e+00\n",
      "2x[TGA1-random-NRE-random]\n",
      "['No TF' '+TGA1' '+NLP7+TGA1']\n"
     ]
    },
    {
     "data": {
      "image/png": "[encoded data removed]",
      "text/plain": "<Figure size 360x360 with 1 Axes>"
     },
     "metadata": {
      "needs_background": "light"
     },
     "output_type": "display_data"
    },
    {
     "data": {
      "image/png": "[encoded data removed]",
      "text/plain": "<Figure size 360x360 with 1 Axes>"
     },
     "metadata": {
      "needs_background": "light"
     },
     "output_type": "display_data"
    },
    {
     "data": {
      "image/png": "[encoded data removed]",
      "text/plain": "<Figure size 360x360 with 1 Axes>"
     },
     "metadata": {
      "needs_background": "light"
     },
     "output_type": "display_data"
    },
    {
     "data": {
      "image/png": "[encoded data removed]",
      "text/plain": "<Figure size 360x360 with 1 Axes>"
     },
     "metadata": {
      "needs_background": "light"
     },
     "output_type": "display_data"
    },
    {
     "data": {
      "image/png": "[encoded data removed]",
      "text/plain": "<Figure size 360x360 with 1 Axes>"
     },
     "metadata": {
      "needs_background": "light"
     },
     "output_type": "display_data"
    },
    {
     "data": {
      "image/png": "[encoded data removed]",
      "text/plain": "<Figure size 360x360 with 1 Axes>"
     },
     "metadata": {
      "needs_background": "light"
     },
     "output_type": "display_data"
    }
   ],
   "source": [
    "#layout = go.Layout(plot_bgcolor='rgba(0,0,0,0)', paper_bgcolor='rgba(0,0,0,0)' )\n",
    "#make graphs for each promoter\n",
    "#color_discrete_map = {'red': 'red', 'blue': 'blue', 'orange': 'orange', 'purple':'purple','green':'green','yellow':'yellow','brown':'brown','black':'black'}\n",
    "#plots for promoters 2 Tf categories\n",
    "\n",
    "for prom in prom_names:\n",
    "    if prom == 'NOS' or prom == 'minimal_STAP4' or prom is '2x[bZIP3-random-NRE-random]' or prom is '2x[TGA1-random-NRE-random]' or prom is '4xNRE' or prom is 'UBQ10' or prom is '3xHHO2-minsyn_105':\n",
    "        pass\n",
    "    else:\n",
    "        df = luminescence_raw_df[luminescence_raw_df.Promoter == prom].sort_values(\"TF_added\", ascending=False)\n",
    "        TFs =  df.TF_added.unique()\n",
    "        print(prom)\n",
    "        print(TFs)\n",
    "        if len(TFs) is not 2:\n",
    "            pass\n",
    "        else:\n",
    "\n",
    "            order = [TFs[0],TFs[1]]\n",
    "            fig = sns.catplot(\n",
    "                x='TF_added',\n",
    "                y='corrected_luminescence',\n",
    "                data=df,\n",
    "                kind='violin',\n",
    "                order=order,            \n",
    "                cut=0,\n",
    "                legend=False,\n",
    "                #color=new_color\n",
    "            )\n",
    "            ax = sns.swarmplot(x='TF_added', y='corrected_luminescence', data=df, color=\".25\", order=order)\n",
    "            #fig = px.violin(df, x='TF_added',\n",
    "            #                         y='corrected_luminescence', box=True,                       \n",
    "            #                      color='TF_added', color_discrete_map=new_color,violinmode='overlay',order=order) #points=\"all\"\n",
    "\n",
    "            #fig.update_layout(plot_bgcolor='rgba(0,0,0,0)', paper_bgcolor='rgba(0,0,0,0)', title=prom,autosize=True)\n",
    "            #fig.update_xaxes(showline=True, linewidth=1, linecolor='black',ticks=\"outside\")\n",
    "            #fig.update_yaxes(showline=True, linewidth=1, linecolor='black',ticks=\"outside\", title_text='Mean luminescence (a.u.)')\n",
    "            #hide legend\n",
    "            #fig.layout.update(showlegend=False)\n",
    "            # add significance if necessary - dunn's posthocs with multiple Bonferroni correction\n",
    "            #stat = dunn_posthoc_test(df, 'corrected_luminescence', 'TF_added')\n",
    "            # label box pairs        \n",
    "            box_pairs = [(TFs[0],TFs[1])]\n",
    "            # make empty list of p_values\n",
    "            p_values = []\n",
    "            # populate the list of p_values according to the box_pairs\n",
    "            # for pair in box_pairs:\n",
    "            #     print(pair)\n",
    "            #     # select p value for each pair\n",
    "            #     p = stat.loc[pair[0], pair[1]]\n",
    "            #     p_values.append(p)\n",
    "\n",
    "            # add stats annotation to the plot\n",
    "            add_stat_annotation(\n",
    "                ax,\n",
    "                data=df,\n",
    "                x='TF_added',\n",
    "                y='corrected_luminescence',\n",
    "                order=order,\n",
    "                box_pairs=box_pairs,\n",
    "                text_format=\"star\",\n",
    "                loc=\"outside\",\n",
    "                verbose=2,\n",
    "                #perform_stat_test=False,\n",
    "                #pvalues=p_values,\n",
    "                test='Mann-Whitney',\n",
    "            )\n",
    "            # change axes labels\n",
    "            plt.ylabel('Mean luminescence (a.u.)')\n",
    "            #plt.xlabel(x_label)\n",
    "            # tight layout\n",
    "            plt.tight_layout()\n",
    "            # save figure\n",
    "            ax.get_figure().savefig(\n",
    "                f'../../../../data/plots/luminescence/{finaldate}/violin{prom}.pdf',\n",
    "                format=\"pdf\",\n",
    "        )\n",
    "\n",
    "\n",
    "        #write to file static image and interactive one\n",
    "       # fig.write_image(f'../../../../data/plots/luminescence/{finaldate}/violin{prom}.pdf', width=500, height=350, scale=5)\n",
    "      #  fig.write_html(f'../../../../data/plots/luminescence/{finaldate}/violin{prom}.html')\n",
    "      #  fig.show()"
   ]
  },
  {
   "cell_type": "code",
   "execution_count": 128,
   "metadata": {},
   "outputs": [
    {
     "name": "stdout",
     "output_type": "stream",
     "text": [
      "4xNRE\n",
      "['No TF' '+TCP20' '+NLP7+TCP20' '+NLP7']\n",
      "2x[bZIP3-random-NRE-random]\n",
      "['No TF' '+bZIP3' '+NLP7+bZIP3' '+NLP7']\n",
      "2x[TGA1-random-NRE-random]\n",
      "['No TF' '+TGA1' '+NLP7+TGA1']\n"
     ]
    },
    {
     "data": {
      "image/png": "[encoded data removed]",
      "text/plain": "<Figure size 360x360 with 1 Axes>"
     },
     "metadata": {
      "needs_background": "light"
     },
     "output_type": "display_data"
    },
    {
     "data": {
      "image/png": "[encoded data removed]",
      "text/plain": "<Figure size 360x360 with 1 Axes>"
     },
     "metadata": {
      "needs_background": "light"
     },
     "output_type": "display_data"
    },
    {
     "data": {
      "image/png": "[encoded data removed]",
      "text/plain": "<Figure size 360x360 with 1 Axes>"
     },
     "metadata": {
      "needs_background": "light"
     },
     "output_type": "display_data"
    }
   ],
   "source": [
    "#layout = go.Layout(plot_bgcolor='rgba(0,0,0,0)', paper_bgcolor='rgba(0,0,0,0)' )\n",
    "#make graphs for each promoter\n",
    "#color_discrete_map = {'red': 'red', 'blue': 'blue', 'orange': 'orange', 'purple':'purple','green':'green','yellow':'yellow','brown':'brown','black':'black'}\n",
    "#plots for promoters with more than 2 Tf categories\n",
    "\n",
    "for prom in prom_names:\n",
    "    if prom == 'NOS' or prom == 'minimal_STAP4' or prom is '1xANR1' or prom is '1xNLP7' or prom is '4xANR1':\n",
    "        pass\n",
    "    else:\n",
    "        df = luminescence_raw_df[luminescence_raw_df.Promoter == prom].sort_values(\"TF_added\", ascending=False)\n",
    "        TFs =  df.TF_added.unique()        \n",
    "        if len(TFs) is 3:\n",
    "            order = [TFs[0],TFs[1],TFs[2]]\n",
    "        elif len(TFs) is 4:\n",
    "            order = [TFs[0],TFs[1],TFs[2],TFs[3]]\n",
    "        else:\n",
    "            pass\n",
    "        if len(TFs) < 3 or len(TFs) > 4:\n",
    "            pass\n",
    "        else:\n",
    "            print(prom)\n",
    "            print(TFs)\n",
    "            fig = sns.catplot(\n",
    "                x='TF_added',\n",
    "                y='corrected_luminescence',\n",
    "                data=df,\n",
    "                kind='violin',\n",
    "                order=order,            \n",
    "                cut=0,\n",
    "                legend=False,\n",
    "                #color=new_color\n",
    "            )\n",
    "            ax = sns.swarmplot(x='TF_added', y='corrected_luminescence', data=df, color=\".25\", order=order)\n",
    "            #fig = px.violin(df, x='TF_added',\n",
    "            #                         y='corrected_luminescence', box=True,                       \n",
    "            #                      color='TF_added', color_discrete_map=new_color,violinmode='overlay',order=order) #points=\"all\"\n",
    "\n",
    "            #fig.update_layout(plot_bgcolor='rgba(0,0,0,0)', paper_bgcolor='rgba(0,0,0,0)', title=prom,autosize=True)\n",
    "            #fig.update_xaxes(showline=True, linewidth=1, linecolor='black',ticks=\"outside\")\n",
    "            #fig.update_yaxes(showline=True, linewidth=1, linecolor='black',ticks=\"outside\", title_text='Mean luminescence (a.u.)')\n",
    "            #hide legend\n",
    "            #fig.layout.update(showlegend=False)\n",
    "            # add significance if necessary - dunn's posthocs with multiple Bonferroni correction\n",
    "            #stat = dunn_posthoc_test(df, 'corrected_luminescence', 'TF_added')\n",
    "            # label box pairs        \n",
    "            #box_pairs = [(TFs[0],TFs[1]), (TFs[0],TFs[2]),(TFs[0],TFs[3]), (TFs[1],TFs[2]),(TFs[1],TFs[3]),(TFs[2],TFs[3])]\n",
    "            # make empty list of p_values\n",
    "            #p_values = []\n",
    "            # populate the list of p_values according to the box_pairs\n",
    "            #for pair in box_pairs:\n",
    "            #    print(pair)\n",
    "                # select p value for each pair\n",
    "            #    p = stat.loc[pair[0], pair[1]]\n",
    "            #    p_values.append(p)\n",
    "\n",
    "            # add stats annotation to the plot\n",
    "            # add_stat_annotation(\n",
    "            #     ax,\n",
    "            #     data=df,\n",
    "            #     x='TF_added',\n",
    "            #     y='corrected_luminescence',\n",
    "            #     order=order,\n",
    "            #     box_pairs=box_pairs,\n",
    "            #     text_format=\"star\",\n",
    "            #     loc=\"outside\",\n",
    "            #     verbose=2,\n",
    "            #     perform_stat_test=False,\n",
    "            #     pvalues=p_values,\n",
    "            #     test_short_name=\"Dunn\",\n",
    "            # )\n",
    "            # change axes labels\n",
    "            plt.ylabel('Mean luminescence (a.u.)')\n",
    "            #plt.xlabel(x_label)\n",
    "            # tight layout\n",
    "            plt.tight_layout()\n",
    "            # save figure\n",
    "            ax.get_figure().savefig(\n",
    "                f'../../../../data/plots/luminescence/{finaldate}/violin{prom}.pdf',\n",
    "                format=\"pdf\",\n",
    "        )\n",
    "\n",
    "\n",
    "            #write to file static image and interactive one\n",
    "        # fig.write_image(f'../../../../data/plots/luminescence/{finaldate}/violin{prom}.pdf', width=500, height=350, scale=5)\n",
    "        #  fig.write_html(f'../../../../data/plots/luminescence/{finaldate}/violin{prom}.html')\n",
    "        #  fig.show()"
   ]
  },
  {
   "cell_type": "code",
   "execution_count": 43,
   "metadata": {},
   "outputs": [
    {
     "name": "stdout",
     "output_type": "stream",
     "text": [
      "No TF\n",
      "+TCP20\n",
      "+NLP7+TCP20\n",
      "+NLP7\n",
      "+ANR1\n"
     ]
    }
   ],
   "source": [
    "for TF in names:\n",
    "    print(TF)"
   ]
  },
  {
   "cell_type": "code",
   "execution_count": 71,
   "metadata": {},
   "outputs": [
    {
     "data": {
      "application/vnd.plotly.v1+json": {
       "config": {
        "plotlyServerURL": "https://plot.ly"
       },
       "data": [
        {
         "box": {
          "visible": true
         },
         "fillcolor": "#840122",
         "meanline": {
          "visible": true
         },
         "type": "violin",
         "x": [],
         "y": []
        }
       ],
       "layout": {
        "paper_bgcolor": "rgba(0,0,0,0)",
        "plot_bgcolor": "rgba(0,0,0,0)",
        "template": {
         "data": {
          "bar": [
           {
            "error_x": {
             "color": "#2a3f5f"
            },
            "error_y": {
             "color": "#2a3f5f"
            },
            "marker": {
             "line": {
              "color": "#E5ECF6",
              "width": 0.5
             }
            },
            "type": "bar"
           }
          ],
          "barpolar": [
           {
            "marker": {
             "line": {
              "color": "#E5ECF6",
              "width": 0.5
             }
            },
            "type": "barpolar"
           }
          ],
          "carpet": [
           {
            "aaxis": {
             "endlinecolor": "#2a3f5f",
             "gridcolor": "white",
             "linecolor": "white",
             "minorgridcolor": "white",
             "startlinecolor": "#2a3f5f"
            },
            "baxis": {
             "endlinecolor": "#2a3f5f",
             "gridcolor": "white",
             "linecolor": "white",
             "minorgridcolor": "white",
             "startlinecolor": "#2a3f5f"
            },
            "type": "carpet"
           }
          ],
          "choropleth": [
           {
            "colorbar": {
             "outlinewidth": 0,
             "ticks": ""
            },
            "type": "choropleth"
           }
          ],
          "contour": [
           {
            "colorbar": {
             "outlinewidth": 0,
             "ticks": ""
            },
            "colorscale": [
             [
              0,
              "#0d0887"
             ],
             [
              0.1111111111111111,
              "#46039f"
             ],
             [
              0.2222222222222222,
              "#7201a8"
             ],
             [
              0.3333333333333333,
              "#9c179e"
             ],
             [
              0.4444444444444444,
              "#bd3786"
             ],
             [
              0.5555555555555556,
              "#d8576b"
             ],
             [
              0.6666666666666666,
              "#ed7953"
             ],
             [
              0.7777777777777778,
              "#fb9f3a"
             ],
             [
              0.8888888888888888,
              "#fdca26"
             ],
             [
              1,
              "#f0f921"
             ]
            ],
            "type": "contour"
           }
          ],
          "contourcarpet": [
           {
            "colorbar": {
             "outlinewidth": 0,
             "ticks": ""
            },
            "type": "contourcarpet"
           }
          ],
          "heatmap": [
           {
            "colorbar": {
             "outlinewidth": 0,
             "ticks": ""
            },
            "colorscale": [
             [
              0,
              "#0d0887"
             ],
             [
              0.1111111111111111,
              "#46039f"
             ],
             [
              0.2222222222222222,
              "#7201a8"
             ],
             [
              0.3333333333333333,
              "#9c179e"
             ],
             [
              0.4444444444444444,
              "#bd3786"
             ],
             [
              0.5555555555555556,
              "#d8576b"
             ],
             [
              0.6666666666666666,
              "#ed7953"
             ],
             [
              0.7777777777777778,
              "#fb9f3a"
             ],
             [
              0.8888888888888888,
              "#fdca26"
             ],
             [
              1,
              "#f0f921"
             ]
            ],
            "type": "heatmap"
           }
          ],
          "heatmapgl": [
           {
            "colorbar": {
             "outlinewidth": 0,
             "ticks": ""
            },
            "colorscale": [
             [
              0,
              "#0d0887"
             ],
             [
              0.1111111111111111,
              "#46039f"
             ],
             [
              0.2222222222222222,
              "#7201a8"
             ],
             [
              0.3333333333333333,
              "#9c179e"
             ],
             [
              0.4444444444444444,
              "#bd3786"
             ],
             [
              0.5555555555555556,
              "#d8576b"
             ],
             [
              0.6666666666666666,
              "#ed7953"
             ],
             [
              0.7777777777777778,
              "#fb9f3a"
             ],
             [
              0.8888888888888888,
              "#fdca26"
             ],
             [
              1,
              "#f0f921"
             ]
            ],
            "type": "heatmapgl"
           }
          ],
          "histogram": [
           {
            "marker": {
             "colorbar": {
              "outlinewidth": 0,
              "ticks": ""
             }
            },
            "type": "histogram"
           }
          ],
          "histogram2d": [
           {
            "colorbar": {
             "outlinewidth": 0,
             "ticks": ""
            },
            "colorscale": [
             [
              0,
              "#0d0887"
             ],
             [
              0.1111111111111111,
              "#46039f"
             ],
             [
              0.2222222222222222,
              "#7201a8"
             ],
             [
              0.3333333333333333,
              "#9c179e"
             ],
             [
              0.4444444444444444,
              "#bd3786"
             ],
             [
              0.5555555555555556,
              "#d8576b"
             ],
             [
              0.6666666666666666,
              "#ed7953"
             ],
             [
              0.7777777777777778,
              "#fb9f3a"
             ],
             [
              0.8888888888888888,
              "#fdca26"
             ],
             [
              1,
              "#f0f921"
             ]
            ],
            "type": "histogram2d"
           }
          ],
          "histogram2dcontour": [
           {
            "colorbar": {
             "outlinewidth": 0,
             "ticks": ""
            },
            "colorscale": [
             [
              0,
              "#0d0887"
             ],
             [
              0.1111111111111111,
              "#46039f"
             ],
             [
              0.2222222222222222,
              "#7201a8"
             ],
             [
              0.3333333333333333,
              "#9c179e"
             ],
             [
              0.4444444444444444,
              "#bd3786"
             ],
             [
              0.5555555555555556,
              "#d8576b"
             ],
             [
              0.6666666666666666,
              "#ed7953"
             ],
             [
              0.7777777777777778,
              "#fb9f3a"
             ],
             [
              0.8888888888888888,
              "#fdca26"
             ],
             [
              1,
              "#f0f921"
             ]
            ],
            "type": "histogram2dcontour"
           }
          ],
          "mesh3d": [
           {
            "colorbar": {
             "outlinewidth": 0,
             "ticks": ""
            },
            "type": "mesh3d"
           }
          ],
          "parcoords": [
           {
            "line": {
             "colorbar": {
              "outlinewidth": 0,
              "ticks": ""
             }
            },
            "type": "parcoords"
           }
          ],
          "pie": [
           {
            "automargin": true,
            "type": "pie"
           }
          ],
          "scatter": [
           {
            "marker": {
             "colorbar": {
              "outlinewidth": 0,
              "ticks": ""
             }
            },
            "type": "scatter"
           }
          ],
          "scatter3d": [
           {
            "line": {
             "colorbar": {
              "outlinewidth": 0,
              "ticks": ""
             }
            },
            "marker": {
             "colorbar": {
              "outlinewidth": 0,
              "ticks": ""
             }
            },
            "type": "scatter3d"
           }
          ],
          "scattercarpet": [
           {
            "marker": {
             "colorbar": {
              "outlinewidth": 0,
              "ticks": ""
             }
            },
            "type": "scattercarpet"
           }
          ],
          "scattergeo": [
           {
            "marker": {
             "colorbar": {
              "outlinewidth": 0,
              "ticks": ""
             }
            },
            "type": "scattergeo"
           }
          ],
          "scattergl": [
           {
            "marker": {
             "colorbar": {
              "outlinewidth": 0,
              "ticks": ""
             }
            },
            "type": "scattergl"
           }
          ],
          "scattermapbox": [
           {
            "marker": {
             "colorbar": {
              "outlinewidth": 0,
              "ticks": ""
             }
            },
            "type": "scattermapbox"
           }
          ],
          "scatterpolar": [
           {
            "marker": {
             "colorbar": {
              "outlinewidth": 0,
              "ticks": ""
             }
            },
            "type": "scatterpolar"
           }
          ],
          "scatterpolargl": [
           {
            "marker": {
             "colorbar": {
              "outlinewidth": 0,
              "ticks": ""
             }
            },
            "type": "scatterpolargl"
           }
          ],
          "scatterternary": [
           {
            "marker": {
             "colorbar": {
              "outlinewidth": 0,
              "ticks": ""
             }
            },
            "type": "scatterternary"
           }
          ],
          "surface": [
           {
            "colorbar": {
             "outlinewidth": 0,
             "ticks": ""
            },
            "colorscale": [
             [
              0,
              "#0d0887"
             ],
             [
              0.1111111111111111,
              "#46039f"
             ],
             [
              0.2222222222222222,
              "#7201a8"
             ],
             [
              0.3333333333333333,
              "#9c179e"
             ],
             [
              0.4444444444444444,
              "#bd3786"
             ],
             [
              0.5555555555555556,
              "#d8576b"
             ],
             [
              0.6666666666666666,
              "#ed7953"
             ],
             [
              0.7777777777777778,
              "#fb9f3a"
             ],
             [
              0.8888888888888888,
              "#fdca26"
             ],
             [
              1,
              "#f0f921"
             ]
            ],
            "type": "surface"
           }
          ],
          "table": [
           {
            "cells": {
             "fill": {
              "color": "#EBF0F8"
             },
             "line": {
              "color": "white"
             }
            },
            "header": {
             "fill": {
              "color": "#C8D4E3"
             },
             "line": {
              "color": "white"
             }
            },
            "type": "table"
           }
          ]
         },
         "layout": {
          "annotationdefaults": {
           "arrowcolor": "#2a3f5f",
           "arrowhead": 0,
           "arrowwidth": 1
          },
          "coloraxis": {
           "colorbar": {
            "outlinewidth": 0,
            "ticks": ""
           }
          },
          "colorscale": {
           "diverging": [
            [
             0,
             "#8e0152"
            ],
            [
             0.1,
             "#c51b7d"
            ],
            [
             0.2,
             "#de77ae"
            ],
            [
             0.3,
             "#f1b6da"
            ],
            [
             0.4,
             "#fde0ef"
            ],
            [
             0.5,
             "#f7f7f7"
            ],
            [
             0.6,
             "#e6f5d0"
            ],
            [
             0.7,
             "#b8e186"
            ],
            [
             0.8,
             "#7fbc41"
            ],
            [
             0.9,
             "#4d9221"
            ],
            [
             1,
             "#276419"
            ]
           ],
           "sequential": [
            [
             0,
             "#0d0887"
            ],
            [
             0.1111111111111111,
             "#46039f"
            ],
            [
             0.2222222222222222,
             "#7201a8"
            ],
            [
             0.3333333333333333,
             "#9c179e"
            ],
            [
             0.4444444444444444,
             "#bd3786"
            ],
            [
             0.5555555555555556,
             "#d8576b"
            ],
            [
             0.6666666666666666,
             "#ed7953"
            ],
            [
             0.7777777777777778,
             "#fb9f3a"
            ],
            [
             0.8888888888888888,
             "#fdca26"
            ],
            [
             1,
             "#f0f921"
            ]
           ],
           "sequentialminus": [
            [
             0,
             "#0d0887"
            ],
            [
             0.1111111111111111,
             "#46039f"
            ],
            [
             0.2222222222222222,
             "#7201a8"
            ],
            [
             0.3333333333333333,
             "#9c179e"
            ],
            [
             0.4444444444444444,
             "#bd3786"
            ],
            [
             0.5555555555555556,
             "#d8576b"
            ],
            [
             0.6666666666666666,
             "#ed7953"
            ],
            [
             0.7777777777777778,
             "#fb9f3a"
            ],
            [
             0.8888888888888888,
             "#fdca26"
            ],
            [
             1,
             "#f0f921"
            ]
           ]
          },
          "colorway": [
           "#636efa",
           "#EF553B",
           "#00cc96",
           "#ab63fa",
           "#FFA15A",
           "#19d3f3",
           "#FF6692",
           "#B6E880",
           "#FF97FF",
           "#FECB52"
          ],
          "font": {
           "color": "#2a3f5f"
          },
          "geo": {
           "bgcolor": "white",
           "lakecolor": "white",
           "landcolor": "#E5ECF6",
           "showlakes": true,
           "showland": true,
           "subunitcolor": "white"
          },
          "hoverlabel": {
           "align": "left"
          },
          "hovermode": "closest",
          "mapbox": {
           "style": "light"
          },
          "paper_bgcolor": "white",
          "plot_bgcolor": "#E5ECF6",
          "polar": {
           "angularaxis": {
            "gridcolor": "white",
            "linecolor": "white",
            "ticks": ""
           },
           "bgcolor": "#E5ECF6",
           "radialaxis": {
            "gridcolor": "white",
            "linecolor": "white",
            "ticks": ""
           }
          },
          "scene": {
           "xaxis": {
            "backgroundcolor": "#E5ECF6",
            "gridcolor": "white",
            "gridwidth": 2,
            "linecolor": "white",
            "showbackground": true,
            "ticks": "",
            "zerolinecolor": "white"
           },
           "yaxis": {
            "backgroundcolor": "#E5ECF6",
            "gridcolor": "white",
            "gridwidth": 2,
            "linecolor": "white",
            "showbackground": true,
            "ticks": "",
            "zerolinecolor": "white"
           },
           "zaxis": {
            "backgroundcolor": "#E5ECF6",
            "gridcolor": "white",
            "gridwidth": 2,
            "linecolor": "white",
            "showbackground": true,
            "ticks": "",
            "zerolinecolor": "white"
           }
          },
          "shapedefaults": {
           "line": {
            "color": "#2a3f5f"
           }
          },
          "ternary": {
           "aaxis": {
            "gridcolor": "white",
            "linecolor": "white",
            "ticks": ""
           },
           "baxis": {
            "gridcolor": "white",
            "linecolor": "white",
            "ticks": ""
           },
           "bgcolor": "#E5ECF6",
           "caxis": {
            "gridcolor": "white",
            "linecolor": "white",
            "ticks": ""
           }
          },
          "title": {
           "x": 0.05
          },
          "xaxis": {
           "automargin": true,
           "gridcolor": "white",
           "linecolor": "white",
           "ticks": "",
           "title": {
            "standoff": 15
           },
           "zerolinecolor": "white",
           "zerolinewidth": 2
          },
          "yaxis": {
           "automargin": true,
           "gridcolor": "white",
           "linecolor": "white",
           "ticks": "",
           "title": {
            "standoff": 15
           },
           "zerolinecolor": "white",
           "zerolinewidth": 2
          }
         }
        },
        "xaxis": {
         "linecolor": "black",
         "linewidth": 1,
         "showline": true,
         "ticks": "outside"
        },
        "yaxis": {
         "linecolor": "black",
         "linewidth": 1,
         "showline": true,
         "ticks": "outside",
         "title": {
          "text": "Mean luminescence (a.u.)"
         }
        }
       }
      }
     },
     "metadata": {
      "transient": {}
     },
     "output_type": "display_data"
    }
   ],
   "source": [
    "# #layout = go.Layout(plot_bgcolor='rgba(0,0,0,0)', paper_bgcolor='rgba(0,0,0,0)' )\n",
    "# fig = go.Figure(go.Violin(y=luminescence_raw_df[luminescence_raw_df.Promoter == 'ANR1'].corrected_luminescence, x=luminescence_raw_df[luminescence_raw_df.Promoter == 'ANR1'].TF_added,\n",
    "#                           fillcolor='#840122', box_visible=True, meanline_visible=True))\n",
    "#               #points=\"all\"\n",
    "\n",
    "# fig.update_layout(plot_bgcolor='rgba(0,0,0,0)', paper_bgcolor='rgba(0,0,0,0)')\n",
    "# fig.update_xaxes(showline=True, linewidth=1, linecolor='black',ticks=\"outside\")\n",
    "# fig.update_yaxes(showline=True, linewidth=1, linecolor='black',ticks=\"outside\", title_text='Mean luminescence (a.u.)')\n",
    "# #write to file static image and interactive one\n",
    "# #fig.write_image(f'../../../../data/plots/luminescence/{date}/violin23.9.19.pdf')\n",
    "# #fig.write_html(f'../../../../data/plots/luminescence/{date}/violin23.9.19.html')\n",
    "\n",
    "# fig.show()"
   ]
  },
  {
   "cell_type": "code",
   "execution_count": null,
   "metadata": {},
   "outputs": [],
   "source": [
    "### test normality"
   ]
  },
  {
   "cell_type": "code",
   "execution_count": 72,
   "metadata": {},
   "outputs": [
    {
     "name": "stdout",
     "output_type": "stream",
     "text": [
      "NOS No TF: ShapiroResult(statistic=0.5684894323348999, pvalue=3.075316001854844e-08)\n",
      "NOS +TCP20: ShapiroResult(statistic=0.6559027433395386, pvalue=8.715975127415732e-05)\n",
      "NOS +NLP7+TCP20: ShapiroResult(statistic=0.832866907119751, pvalue=0.010025880299508572)\n",
      "NOS +NLP7: ShapiroResult(statistic=0.7143738865852356, pvalue=0.00011790679127443582)\n",
      "NOS +ANR1: ShapiroResult(statistic=0.8291610479354858, pvalue=0.10574325174093246)\n",
      "minimal_STAP4 No TF: ShapiroResult(statistic=0.5684894323348999, pvalue=3.075316001854844e-08)\n",
      "minimal_STAP4 +TCP20: ShapiroResult(statistic=0.6559027433395386, pvalue=8.715975127415732e-05)\n",
      "minimal_STAP4 +NLP7+TCP20: ShapiroResult(statistic=0.832866907119751, pvalue=0.010025880299508572)\n",
      "minimal_STAP4 +NLP7: ShapiroResult(statistic=0.7143738865852356, pvalue=0.00011790679127443582)\n",
      "minimal_STAP4 +ANR1: ShapiroResult(statistic=0.8291610479354858, pvalue=0.10574325174093246)\n",
      "UBQ10 No TF: ShapiroResult(statistic=0.5684894323348999, pvalue=3.075316001854844e-08)\n",
      "UBQ10 +TCP20: ShapiroResult(statistic=0.6559027433395386, pvalue=8.715975127415732e-05)\n",
      "UBQ10 +NLP7+TCP20: ShapiroResult(statistic=0.832866907119751, pvalue=0.010025880299508572)\n",
      "UBQ10 +NLP7: ShapiroResult(statistic=0.7143738865852356, pvalue=0.00011790679127443582)\n",
      "UBQ10 +ANR1: ShapiroResult(statistic=0.8291610479354858, pvalue=0.10574325174093246)\n",
      "4xNRE No TF: ShapiroResult(statistic=0.5684894323348999, pvalue=3.075316001854844e-08)\n",
      "4xNRE +TCP20: ShapiroResult(statistic=0.6559027433395386, pvalue=8.715975127415732e-05)\n",
      "4xNRE +NLP7+TCP20: ShapiroResult(statistic=0.832866907119751, pvalue=0.010025880299508572)\n",
      "4xNRE +NLP7: ShapiroResult(statistic=0.7143738865852356, pvalue=0.00011790679127443582)\n",
      "4xNRE +ANR1: ShapiroResult(statistic=0.8291610479354858, pvalue=0.10574325174093246)\n",
      "1xANR1 No TF: ShapiroResult(statistic=0.5684894323348999, pvalue=3.075316001854844e-08)\n",
      "1xANR1 +TCP20: ShapiroResult(statistic=0.6559027433395386, pvalue=8.715975127415732e-05)\n",
      "1xANR1 +NLP7+TCP20: ShapiroResult(statistic=0.832866907119751, pvalue=0.010025880299508572)\n",
      "1xANR1 +NLP7: ShapiroResult(statistic=0.7143738865852356, pvalue=0.00011790679127443582)\n",
      "1xANR1 +ANR1: ShapiroResult(statistic=0.8291610479354858, pvalue=0.10574325174093246)\n",
      "4xANR1 No TF: ShapiroResult(statistic=0.5684894323348999, pvalue=3.075316001854844e-08)\n",
      "4xANR1 +TCP20: ShapiroResult(statistic=0.6559027433395386, pvalue=8.715975127415732e-05)\n",
      "4xANR1 +NLP7+TCP20: ShapiroResult(statistic=0.832866907119751, pvalue=0.010025880299508572)\n",
      "4xANR1 +NLP7: ShapiroResult(statistic=0.7143738865852356, pvalue=0.00011790679127443582)\n",
      "4xANR1 +ANR1: ShapiroResult(statistic=0.8291610479354858, pvalue=0.10574325174093246)\n",
      "1xTCP20+NLP7 No TF: ShapiroResult(statistic=0.5684894323348999, pvalue=3.075316001854844e-08)\n",
      "1xTCP20+NLP7 +TCP20: ShapiroResult(statistic=0.6559027433395386, pvalue=8.715975127415732e-05)\n",
      "1xTCP20+NLP7 +NLP7+TCP20: ShapiroResult(statistic=0.832866907119751, pvalue=0.010025880299508572)\n",
      "1xTCP20+NLP7 +NLP7: ShapiroResult(statistic=0.7143738865852356, pvalue=0.00011790679127443582)\n",
      "1xTCP20+NLP7 +ANR1: ShapiroResult(statistic=0.8291610479354858, pvalue=0.10574325174093246)\n",
      "4xTCP20+NLP7 No TF: ShapiroResult(statistic=0.5684894323348999, pvalue=3.075316001854844e-08)\n",
      "4xTCP20+NLP7 +TCP20: ShapiroResult(statistic=0.6559027433395386, pvalue=8.715975127415732e-05)\n",
      "4xTCP20+NLP7 +NLP7+TCP20: ShapiroResult(statistic=0.832866907119751, pvalue=0.010025880299508572)\n",
      "4xTCP20+NLP7 +NLP7: ShapiroResult(statistic=0.7143738865852356, pvalue=0.00011790679127443582)\n",
      "4xTCP20+NLP7 +ANR1: ShapiroResult(statistic=0.8291610479354858, pvalue=0.10574325174093246)\n",
      "1xNLP7 No TF: ShapiroResult(statistic=0.5684894323348999, pvalue=3.075316001854844e-08)\n",
      "1xNLP7 +TCP20: ShapiroResult(statistic=0.6559027433395386, pvalue=8.715975127415732e-05)\n",
      "1xNLP7 +NLP7+TCP20: ShapiroResult(statistic=0.832866907119751, pvalue=0.010025880299508572)\n",
      "1xNLP7 +NLP7: ShapiroResult(statistic=0.7143738865852356, pvalue=0.00011790679127443582)\n",
      "1xNLP7 +ANR1: ShapiroResult(statistic=0.8291610479354858, pvalue=0.10574325174093246)\n",
      "4xNLP7 No TF: ShapiroResult(statistic=0.5684894323348999, pvalue=3.075316001854844e-08)\n",
      "4xNLP7 +TCP20: ShapiroResult(statistic=0.6559027433395386, pvalue=8.715975127415732e-05)\n",
      "4xNLP7 +NLP7+TCP20: ShapiroResult(statistic=0.832866907119751, pvalue=0.010025880299508572)\n",
      "4xNLP7 +NLP7: ShapiroResult(statistic=0.7143738865852356, pvalue=0.00011790679127443582)\n",
      "4xNLP7 +ANR1: ShapiroResult(statistic=0.8291610479354858, pvalue=0.10574325174093246)\n"
     ]
    }
   ],
   "source": [
    "#returns test statistic, p-value\n",
    "for name1 in prom_names:\n",
    "    for name in names:\n",
    "        print(name1,'{}: {}'.format(name, stats.shapiro(luminescence_raw_df['nluc/fluc'][luminescence_raw_df.TF_added == name])))\n"
   ]
  },
  {
   "cell_type": "code",
   "execution_count": null,
   "metadata": {},
   "outputs": [],
   "source": [
    "#### not normal"
   ]
  },
  {
   "cell_type": "code",
   "execution_count": 83,
   "metadata": {},
   "outputs": [
    {
     "data": {
      "text/html": "<div>\n<style scoped>\n    .dataframe tbody tr th:only-of-type {\n        vertical-align: middle;\n    }\n\n    .dataframe tbody tr th {\n        vertical-align: top;\n    }\n\n    .dataframe thead th {\n        text-align: right;\n    }\n</style>\n<table border=\"1\" class=\"dataframe\">\n  <thead>\n    <tr style=\"text-align: right;\">\n      <th></th>\n      <th>well_row</th>\n      <th>well_col</th>\n      <th>content</th>\n      <th>fluc_luminescence</th>\n      <th>nluc_luminescence</th>\n      <th>name</th>\n      <th>condition</th>\n      <th>nluc/fluc</th>\n      <th>date</th>\n      <th>Promoter</th>\n      <th>TF_added</th>\n      <th>corrected_luminescence</th>\n    </tr>\n  </thead>\n  <tbody>\n    <tr>\n      <th>1</th>\n      <td>B</td>\n      <td>1</td>\n      <td>Sample X2</td>\n      <td>52333.0</td>\n      <td>3196937.0</td>\n      <td>35+34</td>\n      <td>Co-expression</td>\n      <td>61.088357</td>\n      <td>27.11.20</td>\n      <td>NOS</td>\n      <td>No TF</td>\n      <td>58.124607</td>\n    </tr>\n    <tr>\n      <th>9</th>\n      <td>B</td>\n      <td>2</td>\n      <td>Sample X10</td>\n      <td>12157.0</td>\n      <td>1963686.0</td>\n      <td>35+34</td>\n      <td>Co-expression</td>\n      <td>161.527186</td>\n      <td>27.11.20</td>\n      <td>NOS</td>\n      <td>No TF</td>\n      <td>153.690567</td>\n    </tr>\n    <tr>\n      <th>17</th>\n      <td>B</td>\n      <td>3</td>\n      <td>Sample X18</td>\n      <td>18386.0</td>\n      <td>1704039.0</td>\n      <td>35+34</td>\n      <td>Co-expression</td>\n      <td>92.681334</td>\n      <td>27.11.20</td>\n      <td>NOS</td>\n      <td>No TF</td>\n      <td>88.184826</td>\n    </tr>\n    <tr>\n      <th>2</th>\n      <td>C</td>\n      <td>1</td>\n      <td>Sample X3</td>\n      <td>180846.0</td>\n      <td>139255.0</td>\n      <td>102+34</td>\n      <td>Co-expression</td>\n      <td>0.770020</td>\n      <td>27.11.20</td>\n      <td>minimal_STAP4</td>\n      <td>No TF</td>\n      <td>0.732662</td>\n    </tr>\n    <tr>\n      <th>10</th>\n      <td>C</td>\n      <td>2</td>\n      <td>Sample X11</td>\n      <td>55755.0</td>\n      <td>24776.0</td>\n      <td>102+34</td>\n      <td>Co-expression</td>\n      <td>0.444373</td>\n      <td>27.11.20</td>\n      <td>minimal_STAP4</td>\n      <td>No TF</td>\n      <td>0.422814</td>\n    </tr>\n    <tr>\n      <th>...</th>\n      <td>...</td>\n      <td>...</td>\n      <td>...</td>\n      <td>...</td>\n      <td>...</td>\n      <td>...</td>\n      <td>...</td>\n      <td>...</td>\n      <td>...</td>\n      <td>...</td>\n      <td>...</td>\n      <td>...</td>\n    </tr>\n    <tr>\n      <th>64</th>\n      <td>A</td>\n      <td>9</td>\n      <td>Sample X65</td>\n      <td>9321.0</td>\n      <td>246446.0</td>\n      <td>107+29+34</td>\n      <td>Co-expression</td>\n      <td>26.439867</td>\n      <td>27.11.20</td>\n      <td>4xNLP7</td>\n      <td>+NLP7</td>\n      <td>25.157116</td>\n    </tr>\n    <tr>\n      <th>56</th>\n      <td>A</td>\n      <td>8</td>\n      <td>Sample X57</td>\n      <td>14505.0</td>\n      <td>461986.0</td>\n      <td>107+29+34</td>\n      <td>Co-expression</td>\n      <td>31.850121</td>\n      <td>27.11.20</td>\n      <td>4xNLP7</td>\n      <td>+NLP7</td>\n      <td>30.304887</td>\n    </tr>\n    <tr>\n      <th>57</th>\n      <td>B</td>\n      <td>8</td>\n      <td>Sample X58</td>\n      <td>19385.0</td>\n      <td>535792.0</td>\n      <td>107+111+29+34</td>\n      <td>Co-expression</td>\n      <td>27.639515</td>\n      <td>27.11.20</td>\n      <td>4xNLP7</td>\n      <td>+NLP7+TCP20</td>\n      <td>26.298562</td>\n    </tr>\n    <tr>\n      <th>23</th>\n      <td>H</td>\n      <td>3</td>\n      <td>Sample X24</td>\n      <td>18249.0</td>\n      <td>146027.0</td>\n      <td>107+34</td>\n      <td>Co-expression</td>\n      <td>8.001918</td>\n      <td>27.11.20</td>\n      <td>4xNLP7</td>\n      <td>No TF</td>\n      <td>7.613699</td>\n    </tr>\n    <tr>\n      <th>50</th>\n      <td>C</td>\n      <td>7</td>\n      <td>Sample X51</td>\n      <td>15118.0</td>\n      <td>86581.0</td>\n      <td>107+111+34</td>\n      <td>Co-expression</td>\n      <td>5.727014</td>\n      <td>27.11.20</td>\n      <td>4xNLP7</td>\n      <td>+TCP20</td>\n      <td>5.449164</td>\n    </tr>\n  </tbody>\n</table>\n<p>84 rows × 12 columns</p>\n</div>",
      "text/plain": "   well_row  well_col     content  fluc_luminescence  nluc_luminescence  \\\n1         B         1   Sample X2            52333.0          3196937.0   \n9         B         2  Sample X10            12157.0          1963686.0   \n17        B         3  Sample X18            18386.0          1704039.0   \n2         C         1   Sample X3           180846.0           139255.0   \n10        C         2  Sample X11            55755.0            24776.0   \n..      ...       ...         ...                ...                ...   \n64        A         9  Sample X65             9321.0           246446.0   \n56        A         8  Sample X57            14505.0           461986.0   \n57        B         8  Sample X58            19385.0           535792.0   \n23        H         3  Sample X24            18249.0           146027.0   \n50        C         7  Sample X51            15118.0            86581.0   \n\n             name      condition   nluc/fluc      date       Promoter  \\\n1           35+34  Co-expression   61.088357  27.11.20            NOS   \n9           35+34  Co-expression  161.527186  27.11.20            NOS   \n17          35+34  Co-expression   92.681334  27.11.20            NOS   \n2          102+34  Co-expression    0.770020  27.11.20  minimal_STAP4   \n10         102+34  Co-expression    0.444373  27.11.20  minimal_STAP4   \n..            ...            ...         ...       ...            ...   \n64      107+29+34  Co-expression   26.439867  27.11.20         4xNLP7   \n56      107+29+34  Co-expression   31.850121  27.11.20         4xNLP7   \n57  107+111+29+34  Co-expression   27.639515  27.11.20         4xNLP7   \n23         107+34  Co-expression    8.001918  27.11.20         4xNLP7   \n50     107+111+34  Co-expression    5.727014  27.11.20         4xNLP7   \n\n       TF_added  corrected_luminescence  \n1         No TF               58.124607  \n9         No TF              153.690567  \n17        No TF               88.184826  \n2         No TF                0.732662  \n10        No TF                0.422814  \n..          ...                     ...  \n64        +NLP7               25.157116  \n56        +NLP7               30.304887  \n57  +NLP7+TCP20               26.298562  \n23        No TF                7.613699  \n50       +TCP20                5.449164  \n\n[84 rows x 12 columns]"
     },
     "execution_count": 83,
     "metadata": {},
     "output_type": "execute_result"
    }
   ],
   "source": [
    "luminescence_raw_df"
   ]
  },
  {
   "cell_type": "code",
   "execution_count": 82,
   "metadata": {},
   "outputs": [
    {
     "data": {
      "text/plain": "LeveneResult(statistic=0.0014254011689854634, pvalue=0.9700581717907406)"
     },
     "execution_count": 82,
     "metadata": {},
     "output_type": "execute_result"
    }
   ],
   "source": [
    "#test variance\n",
    "stats.levene(luminescence_raw_df['nluc/fluc'][luminescence_raw_df.TF_added == names[0]], \n",
    "               luminescence_raw_df['nluc/fluc'][luminescence_raw_df.TF_added == names[1]])"
   ]
  },
  {
   "cell_type": "code",
   "execution_count": 84,
   "metadata": {},
   "outputs": [],
   "source": [
    "test = luminescence_raw_df.groupby('Promoter')"
   ]
  },
  {
   "cell_type": "code",
   "execution_count": 85,
   "metadata": {},
   "outputs": [
    {
     "data": {
      "text/plain": "<pandas.core.groupby.generic.DataFrameGroupBy object at 0x7fdda8abcf50>"
     },
     "execution_count": 85,
     "metadata": {},
     "output_type": "execute_result"
    }
   ],
   "source": [
    "test"
   ]
  },
  {
   "cell_type": "code",
   "execution_count": null,
   "metadata": {},
   "outputs": [],
   "source": [
    "# one-way ANOVA: scipy.stats.kruskal"
   ]
  },
  {
   "cell_type": "code",
   "execution_count": 86,
   "metadata": {},
   "outputs": [
    {
     "name": "stdout",
     "output_type": "stream",
     "text": [
      "No TF\n",
      "+TCP20\n",
      "+NLP7+TCP20\n",
      "+NLP7\n",
      "+ANR1\n"
     ]
    }
   ],
   "source": [
    "for name in names:\n",
    "    print(name)"
   ]
  },
  {
   "cell_type": "code",
   "execution_count": 79,
   "metadata": {},
   "outputs": [
    {
     "ename": "SyntaxError",
     "evalue": "invalid syntax (<ipython-input-79-bbc83ea60bb9>, line 12)",
     "output_type": "error",
     "traceback": [
      "\u001b[0;36m  File \u001b[0;32m\"<ipython-input-79-bbc83ea60bb9>\"\u001b[0;36m, line \u001b[0;32m12\u001b[0m\n\u001b[0;31m    if promoter == '1xTCP20+NLP7':\u001b[0m\n\u001b[0m     ^\u001b[0m\n\u001b[0;31mSyntaxError\u001b[0m\u001b[0;31m:\u001b[0m invalid syntax\n"
     ]
    }
   ],
   "source": [
    "#luminescence anova\n",
    "for promoter, value in test:\n",
    "    if promoter == '1xANR1':\n",
    "        print(promoter)     \n",
    "        print(stats.f_oneway(value['corrected_luminescence'][value.TF_added == 'None'],\n",
    "                value['corrected_luminescence'][value.TF_added == 'ANR1'],\n",
    "                ))\n",
    "    if promoter == '1xNLP7':\n",
    "        print(promoter)     \n",
    "        print(stats.f_oneway(value['corrected_luminescence'][value.TF_added == 'None'],\n",
    "                value['corrected_luminescence'][value.TF_added == 'NLP7'],                \n",
    "    if promoter == '1xTCP20+NLP7':\n",
    "        print(promoter)     \n",
    "        print(stats.f_oneway(value['corrected_luminescence'][value.TF_added == 'None'],\n",
    "                value['corrected_luminescence'][value.TF_added == 'NLP7'],\n",
    "                value['corrected_luminescence'][value.TF_added == 'NLP7+TCP20'],\n",
    "                value['corrected_luminescence'][value.TF_added == 'TCP20']))\n",
    "    if promoter == '4xANR1':\n",
    "        print(promoter)     \n",
    "        print(stats.f_oneway(value['corrected_luminescence'][value.TF_added == 'None'],\n",
    "                value['corrected_luminescence'][value.TF_added == 'ANR1'],                \n",
    "                ))\n",
    "    if promoter == '4xNLP7':\n",
    "        print(promoter)     \n",
    "        print(stats.f_oneway(value['corrected_luminescence'][value.TF_added == 'None'],                \n",
    "                value['corrected_luminescence'][value.TF_added == 'NLP7'],\n",
    "               ))\n",
    "    if promoter == '4xTCP20+NLP7':\n",
    "        print(promoter)     \n",
    "        print(stats.f_oneway(value['corrected_luminescence'][value.TF_added == 'None'],\n",
    "                value['corrected_luminescence'][value.TF_added == 'NLP7'],\n",
    "                value['corrected_luminescence'][value.TF_added == 'NLP7+TCP20'],\n",
    "                value['corrected_luminescence'][value.TF_added == 'TCP20']))\n",
    "    \n",
    "    if promoter == '4xNRE':\n",
    "            \n",
    "            print(promoter)     \n",
    "            print(stats.f_oneway(value['corrected_luminescence'][value.TF_added == 'None'],\n",
    "                value['corrected_luminescence'][value.TF_added == 'NLP7'],\n",
    "                value['corrected_luminescence'][value.TF_added == 'NLP7+TCP20'],\n",
    "                value['corrected_luminescence'][value.TF_added == 'TCP20']))\n",
    "    if promoter == 'UBQ10':\n",
    "            \n",
    "        print(promoter)     \n",
    "        print(stats.f_oneway(value['corrected_luminescence'][value.TF_added == 'None'],\n",
    "            value['corrected_luminescence'][value.TF_added == 'NLP7'],\n",
    "                value['corrected_luminescence'][value.TF_added == 'NLP7+TCP20'],\n",
    "                value['corrected_luminescence'][value.TF_added == 'TCP20']))        \n"
   ]
  },
  {
   "cell_type": "code",
   "execution_count": 88,
   "metadata": {},
   "outputs": [
    {
     "ename": "ValueError",
     "evalue": "negative dimensions are not allowed",
     "output_type": "error",
     "traceback": [
      "\u001b[0;31m---------------------------------------------------------------------------\u001b[0m",
      "\u001b[0;31mValueError\u001b[0m                                Traceback (most recent call last)",
      "\u001b[0;32m<ipython-input-88-efbdfec9f7ff>\u001b[0m in \u001b[0;36m<module>\u001b[0;34m\u001b[0m\n\u001b[1;32m      2\u001b[0m \u001b[0;31m#First rerun NIR1 it as a GLM\u001b[0m\u001b[0;34m\u001b[0m\u001b[0;34m\u001b[0m\u001b[0;34m\u001b[0m\u001b[0m\n\u001b[1;32m      3\u001b[0m \u001b[0mNIR1\u001b[0m \u001b[0;34m=\u001b[0m \u001b[0mdf\u001b[0m\u001b[0;34m[\u001b[0m\u001b[0mdf\u001b[0m\u001b[0;34m.\u001b[0m\u001b[0mPromoter\u001b[0m \u001b[0;34m==\u001b[0m \u001b[0;34m'NIR1'\u001b[0m\u001b[0;34m]\u001b[0m\u001b[0;34m\u001b[0m\u001b[0;34m\u001b[0m\u001b[0m\n\u001b[0;32m----> 4\u001b[0;31m \u001b[0mresults\u001b[0m \u001b[0;34m=\u001b[0m \u001b[0mols\u001b[0m\u001b[0;34m(\u001b[0m\u001b[0;34m'corrected_luminescence ~ C(TF_added)'\u001b[0m\u001b[0;34m,\u001b[0m \u001b[0mdata\u001b[0m\u001b[0;34m=\u001b[0m\u001b[0mNIR1\u001b[0m\u001b[0;34m)\u001b[0m\u001b[0;34m.\u001b[0m\u001b[0mfit\u001b[0m\u001b[0;34m(\u001b[0m\u001b[0;34m)\u001b[0m\u001b[0;34m\u001b[0m\u001b[0;34m\u001b[0m\u001b[0m\n\u001b[0m\u001b[1;32m      5\u001b[0m \u001b[0mresults\u001b[0m\u001b[0;34m.\u001b[0m\u001b[0msummary\u001b[0m\u001b[0;34m(\u001b[0m\u001b[0;34m)\u001b[0m\u001b[0;34m\u001b[0m\u001b[0;34m\u001b[0m\u001b[0m\n\u001b[1;32m      6\u001b[0m \u001b[0;34m\u001b[0m\u001b[0m\n",
      "\u001b[0;32m~/opt/anaconda3/envs/PromoterArchitecturePipeline/lib/python3.7/site-packages/statsmodels/base/model.py\u001b[0m in \u001b[0;36mfrom_formula\u001b[0;34m(cls, formula, data, subset, drop_cols, *args, **kwargs)\u001b[0m\n\u001b[1;32m    168\u001b[0m \u001b[0;34m\u001b[0m\u001b[0m\n\u001b[1;32m    169\u001b[0m         tmp = handle_formula_data(data, None, formula, depth=eval_env,\n\u001b[0;32m--> 170\u001b[0;31m                                   missing=missing)\n\u001b[0m\u001b[1;32m    171\u001b[0m         \u001b[0;34m(\u001b[0m\u001b[0;34m(\u001b[0m\u001b[0mendog\u001b[0m\u001b[0;34m,\u001b[0m \u001b[0mexog\u001b[0m\u001b[0;34m)\u001b[0m\u001b[0;34m,\u001b[0m \u001b[0mmissing_idx\u001b[0m\u001b[0;34m,\u001b[0m \u001b[0mdesign_info\u001b[0m\u001b[0;34m)\u001b[0m \u001b[0;34m=\u001b[0m \u001b[0mtmp\u001b[0m\u001b[0;34m\u001b[0m\u001b[0;34m\u001b[0m\u001b[0m\n\u001b[1;32m    172\u001b[0m         \u001b[0mmax_endog\u001b[0m \u001b[0;34m=\u001b[0m \u001b[0mcls\u001b[0m\u001b[0;34m.\u001b[0m\u001b[0m_formula_max_endog\u001b[0m\u001b[0;34m\u001b[0m\u001b[0;34m\u001b[0m\u001b[0m\n",
      "\u001b[0;32m~/opt/anaconda3/envs/PromoterArchitecturePipeline/lib/python3.7/site-packages/statsmodels/formula/formulatools.py\u001b[0m in \u001b[0;36mhandle_formula_data\u001b[0;34m(Y, X, formula, depth, missing)\u001b[0m\n\u001b[1;32m     62\u001b[0m         \u001b[0;32mif\u001b[0m \u001b[0mdata_util\u001b[0m\u001b[0;34m.\u001b[0m\u001b[0m_is_using_pandas\u001b[0m\u001b[0;34m(\u001b[0m\u001b[0mY\u001b[0m\u001b[0;34m,\u001b[0m \u001b[0;32mNone\u001b[0m\u001b[0;34m)\u001b[0m\u001b[0;34m:\u001b[0m\u001b[0;34m\u001b[0m\u001b[0;34m\u001b[0m\u001b[0m\n\u001b[1;32m     63\u001b[0m             result = dmatrices(formula, Y, depth, return_type='dataframe',\n\u001b[0;32m---> 64\u001b[0;31m                                NA_action=na_action)\n\u001b[0m\u001b[1;32m     65\u001b[0m         \u001b[0;32melse\u001b[0m\u001b[0;34m:\u001b[0m\u001b[0;34m\u001b[0m\u001b[0;34m\u001b[0m\u001b[0m\n\u001b[1;32m     66\u001b[0m             result = dmatrices(formula, Y, depth, return_type='dataframe',\n",
      "\u001b[0;32m~/opt/anaconda3/envs/PromoterArchitecturePipeline/lib/python3.7/site-packages/patsy/highlevel.py\u001b[0m in \u001b[0;36mdmatrices\u001b[0;34m(formula_like, data, eval_env, NA_action, return_type)\u001b[0m\n\u001b[1;32m    308\u001b[0m     \u001b[0meval_env\u001b[0m \u001b[0;34m=\u001b[0m \u001b[0mEvalEnvironment\u001b[0m\u001b[0;34m.\u001b[0m\u001b[0mcapture\u001b[0m\u001b[0;34m(\u001b[0m\u001b[0meval_env\u001b[0m\u001b[0;34m,\u001b[0m \u001b[0mreference\u001b[0m\u001b[0;34m=\u001b[0m\u001b[0;36m1\u001b[0m\u001b[0;34m)\u001b[0m\u001b[0;34m\u001b[0m\u001b[0;34m\u001b[0m\u001b[0m\n\u001b[1;32m    309\u001b[0m     (lhs, rhs) = _do_highlevel_design(formula_like, data, eval_env,\n\u001b[0;32m--> 310\u001b[0;31m                                       NA_action, return_type)\n\u001b[0m\u001b[1;32m    311\u001b[0m     \u001b[0;32mif\u001b[0m \u001b[0mlhs\u001b[0m\u001b[0;34m.\u001b[0m\u001b[0mshape\u001b[0m\u001b[0;34m[\u001b[0m\u001b[0;36m1\u001b[0m\u001b[0;34m]\u001b[0m \u001b[0;34m==\u001b[0m \u001b[0;36m0\u001b[0m\u001b[0;34m:\u001b[0m\u001b[0;34m\u001b[0m\u001b[0;34m\u001b[0m\u001b[0m\n\u001b[1;32m    312\u001b[0m         \u001b[0;32mraise\u001b[0m \u001b[0mPatsyError\u001b[0m\u001b[0;34m(\u001b[0m\u001b[0;34m\"model is missing required outcome variables\"\u001b[0m\u001b[0;34m)\u001b[0m\u001b[0;34m\u001b[0m\u001b[0;34m\u001b[0m\u001b[0m\n",
      "\u001b[0;32m~/opt/anaconda3/envs/PromoterArchitecturePipeline/lib/python3.7/site-packages/patsy/highlevel.py\u001b[0m in \u001b[0;36m_do_highlevel_design\u001b[0;34m(formula_like, data, eval_env, NA_action, return_type)\u001b[0m\n\u001b[1;32m    163\u001b[0m         \u001b[0;32mreturn\u001b[0m \u001b[0miter\u001b[0m\u001b[0;34m(\u001b[0m\u001b[0;34m[\u001b[0m\u001b[0mdata\u001b[0m\u001b[0;34m]\u001b[0m\u001b[0;34m)\u001b[0m\u001b[0;34m\u001b[0m\u001b[0;34m\u001b[0m\u001b[0m\n\u001b[1;32m    164\u001b[0m     design_infos = _try_incr_builders(formula_like, data_iter_maker, eval_env,\n\u001b[0;32m--> 165\u001b[0;31m                                       NA_action)\n\u001b[0m\u001b[1;32m    166\u001b[0m     \u001b[0;32mif\u001b[0m \u001b[0mdesign_infos\u001b[0m \u001b[0;32mis\u001b[0m \u001b[0;32mnot\u001b[0m \u001b[0;32mNone\u001b[0m\u001b[0;34m:\u001b[0m\u001b[0;34m\u001b[0m\u001b[0;34m\u001b[0m\u001b[0m\n\u001b[1;32m    167\u001b[0m         return build_design_matrices(design_infos, data,\n",
      "\u001b[0;32m~/opt/anaconda3/envs/PromoterArchitecturePipeline/lib/python3.7/site-packages/patsy/highlevel.py\u001b[0m in \u001b[0;36m_try_incr_builders\u001b[0;34m(formula_like, data_iter_maker, eval_env, NA_action)\u001b[0m\n\u001b[1;32m     68\u001b[0m                                       \u001b[0mdata_iter_maker\u001b[0m\u001b[0;34m,\u001b[0m\u001b[0;34m\u001b[0m\u001b[0;34m\u001b[0m\u001b[0m\n\u001b[1;32m     69\u001b[0m                                       \u001b[0meval_env\u001b[0m\u001b[0;34m,\u001b[0m\u001b[0;34m\u001b[0m\u001b[0;34m\u001b[0m\u001b[0m\n\u001b[0;32m---> 70\u001b[0;31m                                       NA_action)\n\u001b[0m\u001b[1;32m     71\u001b[0m     \u001b[0;32melse\u001b[0m\u001b[0;34m:\u001b[0m\u001b[0;34m\u001b[0m\u001b[0;34m\u001b[0m\u001b[0m\n\u001b[1;32m     72\u001b[0m         \u001b[0;32mreturn\u001b[0m \u001b[0;32mNone\u001b[0m\u001b[0;34m\u001b[0m\u001b[0;34m\u001b[0m\u001b[0m\n",
      "\u001b[0;32m~/opt/anaconda3/envs/PromoterArchitecturePipeline/lib/python3.7/site-packages/patsy/build.py\u001b[0m in \u001b[0;36mdesign_matrix_builders\u001b[0;34m(termlists, data_iter_maker, eval_env, NA_action)\u001b[0m\n\u001b[1;32m    719\u001b[0m         term_to_subterm_infos = _make_subterm_infos(termlist,\n\u001b[1;32m    720\u001b[0m                                                     \u001b[0mnum_column_counts\u001b[0m\u001b[0;34m,\u001b[0m\u001b[0;34m\u001b[0m\u001b[0;34m\u001b[0m\u001b[0m\n\u001b[0;32m--> 721\u001b[0;31m                                                     cat_levels_contrasts)\n\u001b[0m\u001b[1;32m    722\u001b[0m         \u001b[0;32massert\u001b[0m \u001b[0misinstance\u001b[0m\u001b[0;34m(\u001b[0m\u001b[0mterm_to_subterm_infos\u001b[0m\u001b[0;34m,\u001b[0m \u001b[0mOrderedDict\u001b[0m\u001b[0;34m)\u001b[0m\u001b[0;34m\u001b[0m\u001b[0;34m\u001b[0m\u001b[0m\n\u001b[1;32m    723\u001b[0m         \u001b[0;32massert\u001b[0m \u001b[0mfrozenset\u001b[0m\u001b[0;34m(\u001b[0m\u001b[0mterm_to_subterm_infos\u001b[0m\u001b[0;34m)\u001b[0m \u001b[0;34m==\u001b[0m \u001b[0mfrozenset\u001b[0m\u001b[0;34m(\u001b[0m\u001b[0mtermlist\u001b[0m\u001b[0;34m)\u001b[0m\u001b[0;34m\u001b[0m\u001b[0;34m\u001b[0m\u001b[0m\n",
      "\u001b[0;32m~/opt/anaconda3/envs/PromoterArchitecturePipeline/lib/python3.7/site-packages/patsy/build.py\u001b[0m in \u001b[0;36m_make_subterm_infos\u001b[0;34m(terms, num_column_counts, cat_levels_contrasts)\u001b[0m\n\u001b[1;32m    626\u001b[0m                         coded = code_contrast_matrix(factor_coding[factor],\n\u001b[1;32m    627\u001b[0m                                                      \u001b[0mlevels\u001b[0m\u001b[0;34m,\u001b[0m \u001b[0mcontrast\u001b[0m\u001b[0;34m,\u001b[0m\u001b[0;34m\u001b[0m\u001b[0;34m\u001b[0m\u001b[0m\n\u001b[0;32m--> 628\u001b[0;31m                                                      default=Treatment)\n\u001b[0m\u001b[1;32m    629\u001b[0m                         \u001b[0mcontrast_matrices\u001b[0m\u001b[0;34m[\u001b[0m\u001b[0mfactor\u001b[0m\u001b[0;34m]\u001b[0m \u001b[0;34m=\u001b[0m \u001b[0mcoded\u001b[0m\u001b[0;34m\u001b[0m\u001b[0;34m\u001b[0m\u001b[0m\n\u001b[1;32m    630\u001b[0m                         \u001b[0msubterm_columns\u001b[0m \u001b[0;34m*=\u001b[0m \u001b[0mcoded\u001b[0m\u001b[0;34m.\u001b[0m\u001b[0mmatrix\u001b[0m\u001b[0;34m.\u001b[0m\u001b[0mshape\u001b[0m\u001b[0;34m[\u001b[0m\u001b[0;36m1\u001b[0m\u001b[0;34m]\u001b[0m\u001b[0;34m\u001b[0m\u001b[0;34m\u001b[0m\u001b[0m\n",
      "\u001b[0;32m~/opt/anaconda3/envs/PromoterArchitecturePipeline/lib/python3.7/site-packages/patsy/contrasts.py\u001b[0m in \u001b[0;36mcode_contrast_matrix\u001b[0;34m(intercept, levels, contrast, default)\u001b[0m\n\u001b[1;32m    600\u001b[0m         \u001b[0;32mreturn\u001b[0m \u001b[0mcontrast\u001b[0m\u001b[0;34m.\u001b[0m\u001b[0mcode_with_intercept\u001b[0m\u001b[0;34m(\u001b[0m\u001b[0mlevels\u001b[0m\u001b[0;34m)\u001b[0m\u001b[0;34m\u001b[0m\u001b[0;34m\u001b[0m\u001b[0m\n\u001b[1;32m    601\u001b[0m     \u001b[0;32melse\u001b[0m\u001b[0;34m:\u001b[0m\u001b[0;34m\u001b[0m\u001b[0;34m\u001b[0m\u001b[0m\n\u001b[0;32m--> 602\u001b[0;31m         \u001b[0;32mreturn\u001b[0m \u001b[0mcontrast\u001b[0m\u001b[0;34m.\u001b[0m\u001b[0mcode_without_intercept\u001b[0m\u001b[0;34m(\u001b[0m\u001b[0mlevels\u001b[0m\u001b[0;34m)\u001b[0m\u001b[0;34m\u001b[0m\u001b[0;34m\u001b[0m\u001b[0m\n\u001b[0m\u001b[1;32m    603\u001b[0m \u001b[0;34m\u001b[0m\u001b[0m\n",
      "\u001b[0;32m~/opt/anaconda3/envs/PromoterArchitecturePipeline/lib/python3.7/site-packages/patsy/contrasts.py\u001b[0m in \u001b[0;36mcode_without_intercept\u001b[0;34m(self, levels)\u001b[0m\n\u001b[1;32m    181\u001b[0m         \u001b[0;32melse\u001b[0m\u001b[0;34m:\u001b[0m\u001b[0;34m\u001b[0m\u001b[0;34m\u001b[0m\u001b[0m\n\u001b[1;32m    182\u001b[0m             \u001b[0mreference\u001b[0m \u001b[0;34m=\u001b[0m \u001b[0m_get_level\u001b[0m\u001b[0;34m(\u001b[0m\u001b[0mlevels\u001b[0m\u001b[0;34m,\u001b[0m \u001b[0mself\u001b[0m\u001b[0;34m.\u001b[0m\u001b[0mreference\u001b[0m\u001b[0;34m)\u001b[0m\u001b[0;34m\u001b[0m\u001b[0;34m\u001b[0m\u001b[0m\n\u001b[0;32m--> 183\u001b[0;31m         \u001b[0meye\u001b[0m \u001b[0;34m=\u001b[0m \u001b[0mnp\u001b[0m\u001b[0;34m.\u001b[0m\u001b[0meye\u001b[0m\u001b[0;34m(\u001b[0m\u001b[0mlen\u001b[0m\u001b[0;34m(\u001b[0m\u001b[0mlevels\u001b[0m\u001b[0;34m)\u001b[0m \u001b[0;34m-\u001b[0m \u001b[0;36m1\u001b[0m\u001b[0;34m)\u001b[0m\u001b[0;34m\u001b[0m\u001b[0;34m\u001b[0m\u001b[0m\n\u001b[0m\u001b[1;32m    184\u001b[0m         contrasts = np.vstack((eye[:reference, :],\n\u001b[1;32m    185\u001b[0m                                 \u001b[0mnp\u001b[0m\u001b[0;34m.\u001b[0m\u001b[0mzeros\u001b[0m\u001b[0;34m(\u001b[0m\u001b[0;34m(\u001b[0m\u001b[0;36m1\u001b[0m\u001b[0;34m,\u001b[0m \u001b[0mlen\u001b[0m\u001b[0;34m(\u001b[0m\u001b[0mlevels\u001b[0m\u001b[0;34m)\u001b[0m \u001b[0;34m-\u001b[0m \u001b[0;36m1\u001b[0m\u001b[0;34m)\u001b[0m\u001b[0;34m)\u001b[0m\u001b[0;34m,\u001b[0m\u001b[0;34m\u001b[0m\u001b[0;34m\u001b[0m\u001b[0m\n",
      "\u001b[0;32m~/opt/anaconda3/envs/PromoterArchitecturePipeline/lib/python3.7/site-packages/numpy/lib/twodim_base.py\u001b[0m in \u001b[0;36meye\u001b[0;34m(N, M, k, dtype, order)\u001b[0m\n\u001b[1;32m    197\u001b[0m     \u001b[0;32mif\u001b[0m \u001b[0mM\u001b[0m \u001b[0;32mis\u001b[0m \u001b[0;32mNone\u001b[0m\u001b[0;34m:\u001b[0m\u001b[0;34m\u001b[0m\u001b[0;34m\u001b[0m\u001b[0m\n\u001b[1;32m    198\u001b[0m         \u001b[0mM\u001b[0m \u001b[0;34m=\u001b[0m \u001b[0mN\u001b[0m\u001b[0;34m\u001b[0m\u001b[0;34m\u001b[0m\u001b[0m\n\u001b[0;32m--> 199\u001b[0;31m     \u001b[0mm\u001b[0m \u001b[0;34m=\u001b[0m \u001b[0mzeros\u001b[0m\u001b[0;34m(\u001b[0m\u001b[0;34m(\u001b[0m\u001b[0mN\u001b[0m\u001b[0;34m,\u001b[0m \u001b[0mM\u001b[0m\u001b[0;34m)\u001b[0m\u001b[0;34m,\u001b[0m \u001b[0mdtype\u001b[0m\u001b[0;34m=\u001b[0m\u001b[0mdtype\u001b[0m\u001b[0;34m,\u001b[0m \u001b[0morder\u001b[0m\u001b[0;34m=\u001b[0m\u001b[0morder\u001b[0m\u001b[0;34m)\u001b[0m\u001b[0;34m\u001b[0m\u001b[0;34m\u001b[0m\u001b[0m\n\u001b[0m\u001b[1;32m    200\u001b[0m     \u001b[0;32mif\u001b[0m \u001b[0mk\u001b[0m \u001b[0;34m>=\u001b[0m \u001b[0mM\u001b[0m\u001b[0;34m:\u001b[0m\u001b[0;34m\u001b[0m\u001b[0;34m\u001b[0m\u001b[0m\n\u001b[1;32m    201\u001b[0m         \u001b[0;32mreturn\u001b[0m \u001b[0mm\u001b[0m\u001b[0;34m\u001b[0m\u001b[0;34m\u001b[0m\u001b[0m\n",
      "\u001b[0;31mValueError\u001b[0m: negative dimensions are not allowed"
     ]
    }
   ],
   "source": [
    "df = luminescence_raw_df\n",
    "#First rerun NIR1 it as a GLM\n",
    "NIR1 = df[df.Promoter == 'NIR1']  \n",
    "results = ols('corrected_luminescence ~ C(TF_added)', data=NIR1).fit()\n",
    "results.summary()\n",
    "\n"
   ]
  },
  {
   "cell_type": "code",
   "execution_count": 40,
   "metadata": {},
   "outputs": [],
   "source": [
    "# #make anova table for NIR1\n",
    "# aov_table = sm.stats.anova_lm(results, typ=2)\n",
    "# aov_table"
   ]
  },
  {
   "cell_type": "code",
   "execution_count": 41,
   "metadata": {},
   "outputs": [],
   "source": [
    "# #pairwise tukey posthoc test for NIR1\n",
    "\n",
    "    \n",
    "# mc = MultiComparison(NIR1['corrected_luminescence'], NIR1['TF_added'])\n",
    "# mc_results = mc.tukeyhsd()\n",
    "# print(mc_results)"
   ]
  },
  {
   "cell_type": "code",
   "execution_count": 42,
   "metadata": {},
   "outputs": [
    {
     "name": "stdout",
     "output_type": "stream",
     "text": [
      "\n",
      "\n"
     ]
    },
    {
     "data": {
      "text/html": [
       "<div>\n",
       "<style scoped>\n",
       "    .dataframe tbody tr th:only-of-type {\n",
       "        vertical-align: middle;\n",
       "    }\n",
       "\n",
       "    .dataframe tbody tr th {\n",
       "        vertical-align: top;\n",
       "    }\n",
       "\n",
       "    .dataframe thead th {\n",
       "        text-align: right;\n",
       "    }\n",
       "</style>\n",
       "<table border=\"1\" class=\"dataframe\">\n",
       "  <thead>\n",
       "    <tr style=\"text-align: right;\">\n",
       "      <th></th>\n",
       "      <th>N</th>\n",
       "      <th>Mean</th>\n",
       "      <th>SD</th>\n",
       "      <th>SE</th>\n",
       "      <th>95% Conf.</th>\n",
       "      <th>Interval</th>\n",
       "    </tr>\n",
       "    <tr>\n",
       "      <th>TF_added</th>\n",
       "      <th></th>\n",
       "      <th></th>\n",
       "      <th></th>\n",
       "      <th></th>\n",
       "      <th></th>\n",
       "      <th></th>\n",
       "    </tr>\n",
       "  </thead>\n",
       "  <tbody>\n",
       "    <tr>\n",
       "      <th>DREB26</th>\n",
       "      <td>6</td>\n",
       "      <td>0.786273</td>\n",
       "      <td>0.192252</td>\n",
       "      <td>0.078487</td>\n",
       "      <td>0.617757</td>\n",
       "      <td>0.954790</td>\n",
       "    </tr>\n",
       "    <tr>\n",
       "      <th>NLP6</th>\n",
       "      <td>6</td>\n",
       "      <td>13.565373</td>\n",
       "      <td>5.492719</td>\n",
       "      <td>2.242393</td>\n",
       "      <td>8.750792</td>\n",
       "      <td>18.379953</td>\n",
       "    </tr>\n",
       "    <tr>\n",
       "      <th>NLP6+NLP7</th>\n",
       "      <td>3</td>\n",
       "      <td>30.705230</td>\n",
       "      <td>14.565166</td>\n",
       "      <td>8.409202</td>\n",
       "      <td>10.518940</td>\n",
       "      <td>50.891519</td>\n",
       "    </tr>\n",
       "    <tr>\n",
       "      <th>NLP6+NLP7+DREB26</th>\n",
       "      <td>6</td>\n",
       "      <td>20.125448</td>\n",
       "      <td>10.267389</td>\n",
       "      <td>4.191644</td>\n",
       "      <td>11.125685</td>\n",
       "      <td>29.125212</td>\n",
       "    </tr>\n",
       "    <tr>\n",
       "      <th>NLP7</th>\n",
       "      <td>6</td>\n",
       "      <td>22.538907</td>\n",
       "      <td>10.482721</td>\n",
       "      <td>4.279553</td>\n",
       "      <td>13.350397</td>\n",
       "      <td>31.727418</td>\n",
       "    </tr>\n",
       "    <tr>\n",
       "      <th>None</th>\n",
       "      <td>3</td>\n",
       "      <td>0.964554</td>\n",
       "      <td>0.570550</td>\n",
       "      <td>0.329407</td>\n",
       "      <td>0.173812</td>\n",
       "      <td>1.755295</td>\n",
       "    </tr>\n",
       "  </tbody>\n",
       "</table>\n",
       "</div>"
      ],
      "text/plain": [
       "                  N       Mean         SD        SE  95% Conf.   Interval\n",
       "TF_added                                                                 \n",
       "DREB26            6   0.786273   0.192252  0.078487   0.617757   0.954790\n",
       "NLP6              6  13.565373   5.492719  2.242393   8.750792  18.379953\n",
       "NLP6+NLP7         3  30.705230  14.565166  8.409202  10.518940  50.891519\n",
       "NLP6+NLP7+DREB26  6  20.125448  10.267389  4.191644  11.125685  29.125212\n",
       "NLP7              6  22.538907  10.482721  4.279553  13.350397  31.727418\n",
       "None              3   0.964554   0.570550  0.329407   0.173812   1.755295"
      ]
     },
     "execution_count": 42,
     "metadata": {},
     "output_type": "execute_result"
    }
   ],
   "source": [
    "# rp.summary_cont(NIR1['corrected_luminescence'].groupby(NIR1['TF_added']))"
   ]
  },
  {
   "cell_type": "code",
   "execution_count": 41,
   "metadata": {},
   "outputs": [
    {
     "name": "stdout",
     "output_type": "stream",
     "text": [
      "\n",
      "\n"
     ]
    },
    {
     "data": {
      "text/html": "<div>\n<style scoped>\n    .dataframe tbody tr th:only-of-type {\n        vertical-align: middle;\n    }\n\n    .dataframe tbody tr th {\n        vertical-align: top;\n    }\n\n    .dataframe thead th {\n        text-align: right;\n    }\n</style>\n<table border=\"1\" class=\"dataframe\">\n  <thead>\n    <tr style=\"text-align: right;\">\n      <th></th>\n      <th>N</th>\n      <th>Mean</th>\n      <th>SD</th>\n      <th>SE</th>\n      <th>95% Conf.</th>\n      <th>Interval</th>\n    </tr>\n    <tr>\n      <th>TF_added</th>\n      <th></th>\n      <th></th>\n      <th></th>\n      <th></th>\n      <th></th>\n      <th></th>\n    </tr>\n  </thead>\n  <tbody>\n    <tr>\n      <th>+ANR1</th>\n      <td>3</td>\n      <td>0.707977</td>\n      <td>0.229750</td>\n      <td>0.132646</td>\n      <td>0.389560</td>\n      <td>1.026395</td>\n    </tr>\n    <tr>\n      <th>No TF</th>\n      <td>3</td>\n      <td>0.710774</td>\n      <td>0.335624</td>\n      <td>0.193772</td>\n      <td>0.245624</td>\n      <td>1.175925</td>\n    </tr>\n  </tbody>\n</table>\n</div>",
      "text/plain": "          N      Mean        SD        SE  95% Conf.  Interval\nTF_added                                                      \n+ANR1     3  0.707977  0.229750  0.132646   0.389560  1.026395\nNo TF     3  0.710774  0.335624  0.193772   0.245624  1.175925"
     },
     "execution_count": 41,
     "metadata": {},
     "output_type": "execute_result"
    }
   ],
   "source": [
    "df = luminescence_raw_df.copy()\n",
    "ANR1_1x = df[df.Promoter == '1xANR1']\n",
    "rp.summary_cont(ANR1_1x['corrected_luminescence'].groupby(ANR1_1x['TF_added']))\n"
   ]
  },
  {
   "cell_type": "code",
   "execution_count": 42,
   "metadata": {},
   "outputs": [
    {
     "name": "stdout",
     "output_type": "stream",
     "text": [
      "\n",
      "\n"
     ]
    },
    {
     "data": {
      "text/html": "<div>\n<style scoped>\n    .dataframe tbody tr th:only-of-type {\n        vertical-align: middle;\n    }\n\n    .dataframe tbody tr th {\n        vertical-align: top;\n    }\n\n    .dataframe thead th {\n        text-align: right;\n    }\n</style>\n<table border=\"1\" class=\"dataframe\">\n  <thead>\n    <tr style=\"text-align: right;\">\n      <th></th>\n      <th>N</th>\n      <th>Mean</th>\n      <th>SD</th>\n      <th>SE</th>\n      <th>95% Conf.</th>\n      <th>Interval</th>\n    </tr>\n    <tr>\n      <th>TF_added</th>\n      <th></th>\n      <th></th>\n      <th></th>\n      <th></th>\n      <th></th>\n      <th></th>\n    </tr>\n  </thead>\n  <tbody>\n    <tr>\n      <th>+ANR1</th>\n      <td>3</td>\n      <td>1.928163</td>\n      <td>1.089834</td>\n      <td>0.629216</td>\n      <td>0.417730</td>\n      <td>3.438596</td>\n    </tr>\n    <tr>\n      <th>No TF</th>\n      <td>3</td>\n      <td>0.453610</td>\n      <td>0.159774</td>\n      <td>0.092245</td>\n      <td>0.232175</td>\n      <td>0.675045</td>\n    </tr>\n  </tbody>\n</table>\n</div>",
      "text/plain": "          N      Mean        SD        SE  95% Conf.  Interval\nTF_added                                                      \n+ANR1     3  1.928163  1.089834  0.629216   0.417730  3.438596\nNo TF     3  0.453610  0.159774  0.092245   0.232175  0.675045"
     },
     "execution_count": 42,
     "metadata": {},
     "output_type": "execute_result"
    }
   ],
   "source": [
    "ANR1_4x = df[df.Promoter == '4xANR1']\n",
    "rp.summary_cont(ANR1_4x['corrected_luminescence'].groupby(ANR1_4x['TF_added']))"
   ]
  },
  {
   "cell_type": "code",
   "execution_count": 43,
   "metadata": {},
   "outputs": [
    {
     "name": "stdout",
     "output_type": "stream",
     "text": [
      "\n",
      "\n"
     ]
    },
    {
     "data": {
      "text/html": "<div>\n<style scoped>\n    .dataframe tbody tr th:only-of-type {\n        vertical-align: middle;\n    }\n\n    .dataframe tbody tr th {\n        vertical-align: top;\n    }\n\n    .dataframe thead th {\n        text-align: right;\n    }\n</style>\n<table border=\"1\" class=\"dataframe\">\n  <thead>\n    <tr style=\"text-align: right;\">\n      <th></th>\n      <th>N</th>\n      <th>Mean</th>\n      <th>SD</th>\n      <th>SE</th>\n      <th>95% Conf.</th>\n      <th>Interval</th>\n    </tr>\n    <tr>\n      <th>TF_added</th>\n      <th></th>\n      <th></th>\n      <th></th>\n      <th></th>\n      <th></th>\n      <th></th>\n    </tr>\n  </thead>\n  <tbody>\n    <tr>\n      <th>+NLP7</th>\n      <td>3</td>\n      <td>2.714819</td>\n      <td>0.378665</td>\n      <td>0.218622</td>\n      <td>2.190016</td>\n      <td>3.239622</td>\n    </tr>\n    <tr>\n      <th>No TF</th>\n      <td>3</td>\n      <td>0.817929</td>\n      <td>0.521923</td>\n      <td>0.301332</td>\n      <td>0.094581</td>\n      <td>1.541277</td>\n    </tr>\n  </tbody>\n</table>\n</div>",
      "text/plain": "          N      Mean        SD        SE  95% Conf.  Interval\nTF_added                                                      \n+NLP7     3  2.714819  0.378665  0.218622   2.190016  3.239622\nNo TF     3  0.817929  0.521923  0.301332   0.094581  1.541277"
     },
     "execution_count": 43,
     "metadata": {},
     "output_type": "execute_result"
    }
   ],
   "source": [
    "prom = '1xNLP7'\n",
    "prom_df = df[df.Promoter == prom]\n",
    "rp.summary_cont(prom_df['corrected_luminescence'].groupby(prom_df['TF_added']))"
   ]
  },
  {
   "cell_type": "code",
   "execution_count": 44,
   "metadata": {},
   "outputs": [
    {
     "name": "stdout",
     "output_type": "stream",
     "text": [
      "\n",
      "\n"
     ]
    },
    {
     "data": {
      "text/html": "<div>\n<style scoped>\n    .dataframe tbody tr th:only-of-type {\n        vertical-align: middle;\n    }\n\n    .dataframe tbody tr th {\n        vertical-align: top;\n    }\n\n    .dataframe thead th {\n        text-align: right;\n    }\n</style>\n<table border=\"1\" class=\"dataframe\">\n  <thead>\n    <tr style=\"text-align: right;\">\n      <th></th>\n      <th>N</th>\n      <th>Mean</th>\n      <th>SD</th>\n      <th>SE</th>\n      <th>95% Conf.</th>\n      <th>Interval</th>\n    </tr>\n    <tr>\n      <th>TF_added</th>\n      <th></th>\n      <th></th>\n      <th></th>\n      <th></th>\n      <th></th>\n      <th></th>\n    </tr>\n  </thead>\n  <tbody>\n    <tr>\n      <th>+NLP7</th>\n      <td>3</td>\n      <td>24.617559</td>\n      <td>5.975405</td>\n      <td>3.449902</td>\n      <td>16.336070</td>\n      <td>32.899047</td>\n    </tr>\n    <tr>\n      <th>+NLP7+TCP20</th>\n      <td>3</td>\n      <td>17.508196</td>\n      <td>7.747774</td>\n      <td>4.473179</td>\n      <td>6.770329</td>\n      <td>28.246062</td>\n    </tr>\n    <tr>\n      <th>+TCP20</th>\n      <td>3</td>\n      <td>4.034501</td>\n      <td>1.733660</td>\n      <td>1.000929</td>\n      <td>1.631772</td>\n      <td>6.437231</td>\n    </tr>\n    <tr>\n      <th>No TF</th>\n      <td>3</td>\n      <td>10.586391</td>\n      <td>4.734570</td>\n      <td>2.733505</td>\n      <td>4.024612</td>\n      <td>17.148170</td>\n    </tr>\n  </tbody>\n</table>\n</div>",
      "text/plain": "             N       Mean        SD        SE  95% Conf.   Interval\nTF_added                                                           \n+NLP7        3  24.617559  5.975405  3.449902  16.336070  32.899047\n+NLP7+TCP20  3  17.508196  7.747774  4.473179   6.770329  28.246062\n+TCP20       3   4.034501  1.733660  1.000929   1.631772   6.437231\nNo TF        3  10.586391  4.734570  2.733505   4.024612  17.148170"
     },
     "execution_count": 44,
     "metadata": {},
     "output_type": "execute_result"
    }
   ],
   "source": [
    "prom = '4xNLP7'\n",
    "prom_df = df[df.Promoter == prom]\n",
    "rp.summary_cont(prom_df['corrected_luminescence'].groupby(prom_df['TF_added']))"
   ]
  },
  {
   "cell_type": "code",
   "execution_count": 45,
   "metadata": {},
   "outputs": [
    {
     "name": "stdout",
     "output_type": "stream",
     "text": [
      "\n",
      "\n"
     ]
    },
    {
     "data": {
      "text/html": "<div>\n<style scoped>\n    .dataframe tbody tr th:only-of-type {\n        vertical-align: middle;\n    }\n\n    .dataframe tbody tr th {\n        vertical-align: top;\n    }\n\n    .dataframe thead th {\n        text-align: right;\n    }\n</style>\n<table border=\"1\" class=\"dataframe\">\n  <thead>\n    <tr style=\"text-align: right;\">\n      <th></th>\n      <th>N</th>\n      <th>Mean</th>\n      <th>SD</th>\n      <th>SE</th>\n      <th>95% Conf.</th>\n      <th>Interval</th>\n    </tr>\n    <tr>\n      <th>TF_added</th>\n      <th></th>\n      <th></th>\n      <th></th>\n      <th></th>\n      <th></th>\n      <th></th>\n    </tr>\n  </thead>\n  <tbody>\n    <tr>\n      <th>+NLP7</th>\n      <td>3</td>\n      <td>4.151848</td>\n      <td>0.273752</td>\n      <td>0.158051</td>\n      <td>3.772447</td>\n      <td>4.531249</td>\n    </tr>\n    <tr>\n      <th>+NLP7+TCP20</th>\n      <td>3</td>\n      <td>2.290543</td>\n      <td>1.024754</td>\n      <td>0.591642</td>\n      <td>0.870306</td>\n      <td>3.710779</td>\n    </tr>\n    <tr>\n      <th>+TCP20</th>\n      <td>3</td>\n      <td>2.532445</td>\n      <td>1.383544</td>\n      <td>0.798790</td>\n      <td>0.614950</td>\n      <td>4.449939</td>\n    </tr>\n    <tr>\n      <th>No TF</th>\n      <td>3</td>\n      <td>2.565297</td>\n      <td>0.242209</td>\n      <td>0.139839</td>\n      <td>2.229612</td>\n      <td>2.900981</td>\n    </tr>\n  </tbody>\n</table>\n</div>",
      "text/plain": "             N      Mean        SD        SE  95% Conf.  Interval\nTF_added                                                         \n+NLP7        3  4.151848  0.273752  0.158051   3.772447  4.531249\n+NLP7+TCP20  3  2.290543  1.024754  0.591642   0.870306  3.710779\n+TCP20       3  2.532445  1.383544  0.798790   0.614950  4.449939\nNo TF        3  2.565297  0.242209  0.139839   2.229612  2.900981"
     },
     "execution_count": 45,
     "metadata": {},
     "output_type": "execute_result"
    }
   ],
   "source": [
    "prom = '1xTCP20+NLP7'\n",
    "prom_df = df[df.Promoter == prom]\n",
    "rp.summary_cont(prom_df['corrected_luminescence'].groupby(prom_df['TF_added']))"
   ]
  },
  {
   "cell_type": "code",
   "execution_count": 46,
   "metadata": {},
   "outputs": [
    {
     "name": "stdout",
     "output_type": "stream",
     "text": [
      "\n",
      "\n"
     ]
    },
    {
     "data": {
      "text/html": "<div>\n<style scoped>\n    .dataframe tbody tr th:only-of-type {\n        vertical-align: middle;\n    }\n\n    .dataframe tbody tr th {\n        vertical-align: top;\n    }\n\n    .dataframe thead th {\n        text-align: right;\n    }\n</style>\n<table border=\"1\" class=\"dataframe\">\n  <thead>\n    <tr style=\"text-align: right;\">\n      <th></th>\n      <th>N</th>\n      <th>Mean</th>\n      <th>SD</th>\n      <th>SE</th>\n      <th>95% Conf.</th>\n      <th>Interval</th>\n    </tr>\n    <tr>\n      <th>TF_added</th>\n      <th></th>\n      <th></th>\n      <th></th>\n      <th></th>\n      <th></th>\n      <th></th>\n    </tr>\n  </thead>\n  <tbody>\n    <tr>\n      <th>+NLP7</th>\n      <td>3</td>\n      <td>7.329045</td>\n      <td>2.191713</td>\n      <td>1.265386</td>\n      <td>4.291485</td>\n      <td>10.366605</td>\n    </tr>\n    <tr>\n      <th>+NLP7+TCP20</th>\n      <td>3</td>\n      <td>3.709872</td>\n      <td>0.530721</td>\n      <td>0.306412</td>\n      <td>2.974329</td>\n      <td>4.445414</td>\n    </tr>\n    <tr>\n      <th>+TCP20</th>\n      <td>3</td>\n      <td>2.152670</td>\n      <td>1.020857</td>\n      <td>0.589392</td>\n      <td>0.737835</td>\n      <td>3.567505</td>\n    </tr>\n    <tr>\n      <th>No TF</th>\n      <td>3</td>\n      <td>1.812175</td>\n      <td>0.614407</td>\n      <td>0.354728</td>\n      <td>0.960650</td>\n      <td>2.663700</td>\n    </tr>\n  </tbody>\n</table>\n</div>",
      "text/plain": "             N      Mean        SD        SE  95% Conf.   Interval\nTF_added                                                          \n+NLP7        3  7.329045  2.191713  1.265386   4.291485  10.366605\n+NLP7+TCP20  3  3.709872  0.530721  0.306412   2.974329   4.445414\n+TCP20       3  2.152670  1.020857  0.589392   0.737835   3.567505\nNo TF        3  1.812175  0.614407  0.354728   0.960650   2.663700"
     },
     "execution_count": 46,
     "metadata": {},
     "output_type": "execute_result"
    }
   ],
   "source": [
    "prom = '4xTCP20+NLP7'\n",
    "prom_df = df[df.Promoter == prom]\n",
    "rp.summary_cont(prom_df['corrected_luminescence'].groupby(prom_df['TF_added']))"
   ]
  },
  {
   "cell_type": "code",
   "execution_count": 47,
   "metadata": {},
   "outputs": [
    {
     "name": "stdout",
     "output_type": "stream",
     "text": [
      "\n",
      "\n"
     ]
    },
    {
     "data": {
      "text/html": "<div>\n<style scoped>\n    .dataframe tbody tr th:only-of-type {\n        vertical-align: middle;\n    }\n\n    .dataframe tbody tr th {\n        vertical-align: top;\n    }\n\n    .dataframe thead th {\n        text-align: right;\n    }\n</style>\n<table border=\"1\" class=\"dataframe\">\n  <thead>\n    <tr style=\"text-align: right;\">\n      <th></th>\n      <th>N</th>\n      <th>Mean</th>\n      <th>SD</th>\n      <th>SE</th>\n      <th>95% Conf.</th>\n      <th>Interval</th>\n    </tr>\n    <tr>\n      <th>TF_added</th>\n      <th></th>\n      <th></th>\n      <th></th>\n      <th></th>\n      <th></th>\n      <th></th>\n    </tr>\n  </thead>\n  <tbody>\n    <tr>\n      <th>+NLP7</th>\n      <td>3</td>\n      <td>236.191743</td>\n      <td>60.027672</td>\n      <td>34.656993</td>\n      <td>152.997634</td>\n      <td>319.385852</td>\n    </tr>\n    <tr>\n      <th>+NLP7+TCP20</th>\n      <td>3</td>\n      <td>78.016084</td>\n      <td>13.347123</td>\n      <td>7.705965</td>\n      <td>59.517916</td>\n      <td>96.514253</td>\n    </tr>\n    <tr>\n      <th>+TCP20</th>\n      <td>3</td>\n      <td>37.418887</td>\n      <td>26.638488</td>\n      <td>15.379738</td>\n      <td>0.499826</td>\n      <td>74.337948</td>\n    </tr>\n    <tr>\n      <th>No TF</th>\n      <td>3</td>\n      <td>46.418754</td>\n      <td>12.477062</td>\n      <td>7.203635</td>\n      <td>29.126428</td>\n      <td>63.711080</td>\n    </tr>\n  </tbody>\n</table>\n</div>",
      "text/plain": "             N        Mean         SD         SE   95% Conf.    Interval\nTF_added                                                                \n+NLP7        3  236.191743  60.027672  34.656993  152.997634  319.385852\n+NLP7+TCP20  3   78.016084  13.347123   7.705965   59.517916   96.514253\n+TCP20       3   37.418887  26.638488  15.379738    0.499826   74.337948\nNo TF        3   46.418754  12.477062   7.203635   29.126428   63.711080"
     },
     "execution_count": 47,
     "metadata": {},
     "output_type": "execute_result"
    }
   ],
   "source": [
    "prom = '4xNRE'\n",
    "prom_df = df[df.Promoter == prom]\n",
    "rp.summary_cont(prom_df['corrected_luminescence'].groupby(prom_df['TF_added']))"
   ]
  },
  {
   "cell_type": "code",
   "execution_count": 106,
   "metadata": {},
   "outputs": [
    {
     "name": "stdout",
     "output_type": "stream",
     "text": [
      "\u001b[1mNOS\u001b[0m\n",
      "           Source  ddof1    H  p-unc\n",
      "Kruskal  TF_added      0  0.0    NaN\n",
      "\n",
      "\u001b[1mminimal_STAP4\u001b[0m\n",
      "           Source  ddof1    H  p-unc\n",
      "Kruskal  TF_added      0  0.0    NaN\n",
      "\n",
      "\u001b[1mUBQ10\u001b[0m\n",
      "           Source  ddof1         H    p-unc\n",
      "Kruskal  TF_added      3  6.897436  0.07524\n",
      "\n",
      "\u001b[1m4xNRE\u001b[0m\n",
      "           Source  ddof1        H     p-unc\n",
      "Kruskal  TF_added      3  8.74359  0.032902\n",
      "\n",
      "\u001b[1m1xANR1\u001b[0m\n",
      "           Source  ddof1         H     p-unc\n",
      "Kruskal  TF_added      1  0.047619  0.827259\n",
      "\n",
      "\u001b[1m4xANR1\u001b[0m\n",
      "           Source  ddof1         H     p-unc\n",
      "Kruskal  TF_added      1  3.857143  0.049535\n",
      "\n",
      "\u001b[1m1xTCP20+NLP7\u001b[0m\n",
      "           Source  ddof1         H     p-unc\n",
      "Kruskal  TF_added      3  5.358974  0.147321\n",
      "\n",
      "\u001b[1m4xTCP20+NLP7\u001b[0m\n",
      "           Source  ddof1         H     p-unc\n",
      "Kruskal  TF_added      3  9.461538  0.023744\n",
      "\n",
      "\u001b[1m1xNLP7\u001b[0m\n",
      "           Source  ddof1         H     p-unc\n",
      "Kruskal  TF_added      1  3.857143  0.049535\n",
      "\n",
      "\u001b[1m4xNLP7\u001b[0m\n",
      "           Source  ddof1        H     p-unc\n",
      "Kruskal  TF_added      3  8.74359  0.032902\n",
      "\n",
      "\u001b[1mNIR1\u001b[0m\n"
     ]
    },
    {
     "ename": "ZeroDivisionError",
     "evalue": "division by zero",
     "output_type": "error",
     "traceback": [
      "\u001b[0;31m---------------------------------------------------------------------------\u001b[0m",
      "\u001b[0;31mZeroDivisionError\u001b[0m                         Traceback (most recent call last)",
      "\u001b[0;32m<ipython-input-106-9d096edacee5>\u001b[0m in \u001b[0;36m<module>\u001b[0;34m\u001b[0m\n\u001b[1;32m      1\u001b[0m \u001b[0;32mfor\u001b[0m \u001b[0mpromoter\u001b[0m\u001b[0;34m,\u001b[0m \u001b[0mvalue\u001b[0m \u001b[0;32min\u001b[0m \u001b[0mtest\u001b[0m\u001b[0;34m:\u001b[0m\u001b[0;34m\u001b[0m\u001b[0;34m\u001b[0m\u001b[0m\n\u001b[1;32m      2\u001b[0m     \u001b[0mprint\u001b[0m\u001b[0;34m(\u001b[0m\u001b[0;34m'\\033[1m'\u001b[0m \u001b[0;34m+\u001b[0m\u001b[0mpromoter\u001b[0m \u001b[0;34m+\u001b[0m \u001b[0;34m'\\033[0m'\u001b[0m\u001b[0;34m)\u001b[0m\u001b[0;34m\u001b[0m\u001b[0;34m\u001b[0m\u001b[0m\n\u001b[0;32m----> 3\u001b[0;31m     \u001b[0mprint\u001b[0m\u001b[0;34m(\u001b[0m\u001b[0mkruskal\u001b[0m\u001b[0;34m(\u001b[0m\u001b[0mdata\u001b[0m\u001b[0;34m=\u001b[0m\u001b[0mdf\u001b[0m\u001b[0;34m[\u001b[0m\u001b[0mdf\u001b[0m\u001b[0;34m.\u001b[0m\u001b[0mPromoter\u001b[0m \u001b[0;34m==\u001b[0m \u001b[0mpromoter\u001b[0m\u001b[0;34m]\u001b[0m\u001b[0;34m,\u001b[0m \u001b[0mdv\u001b[0m\u001b[0;34m=\u001b[0m\u001b[0;34m'corrected_luminescence'\u001b[0m\u001b[0;34m,\u001b[0m \u001b[0mbetween\u001b[0m\u001b[0;34m=\u001b[0m\u001b[0;34m'TF_added'\u001b[0m\u001b[0;34m)\u001b[0m\u001b[0;34m)\u001b[0m\u001b[0;34m\u001b[0m\u001b[0;34m\u001b[0m\u001b[0m\n\u001b[0m\u001b[1;32m      4\u001b[0m     \u001b[0mprint\u001b[0m\u001b[0;34m(\u001b[0m\u001b[0;34m''\u001b[0m\u001b[0;34m)\u001b[0m\u001b[0;34m\u001b[0m\u001b[0;34m\u001b[0m\u001b[0m\n",
      "\u001b[0;32m~/opt/anaconda3/envs/PromoterArchitecturePipeline/lib/python3.7/site-packages/pingouin/nonparametric.py\u001b[0m in \u001b[0;36mkruskal\u001b[0;34m(data, dv, between, detailed)\u001b[0m\n\u001b[1;32m    523\u001b[0m \u001b[0;34m\u001b[0m\u001b[0m\n\u001b[1;32m    524\u001b[0m     \u001b[0;31m# Calculate chi-square statistic (H)\u001b[0m\u001b[0;34m\u001b[0m\u001b[0;34m\u001b[0m\u001b[0;34m\u001b[0m\u001b[0m\n\u001b[0;32m--> 525\u001b[0;31m     \u001b[0mH\u001b[0m \u001b[0;34m=\u001b[0m \u001b[0;34m(\u001b[0m\u001b[0;36m12\u001b[0m \u001b[0;34m/\u001b[0m \u001b[0;34m(\u001b[0m\u001b[0mn\u001b[0m \u001b[0;34m*\u001b[0m \u001b[0;34m(\u001b[0m\u001b[0mn\u001b[0m \u001b[0;34m+\u001b[0m \u001b[0;36m1\u001b[0m\u001b[0;34m)\u001b[0m\u001b[0;34m)\u001b[0m \u001b[0;34m*\u001b[0m \u001b[0mnp\u001b[0m\u001b[0;34m.\u001b[0m\u001b[0msum\u001b[0m\u001b[0;34m(\u001b[0m\u001b[0msum_rk_grp\u001b[0m\u001b[0;34m**\u001b[0m\u001b[0;36m2\u001b[0m \u001b[0;34m/\u001b[0m \u001b[0mn_per_grp\u001b[0m\u001b[0;34m)\u001b[0m\u001b[0;34m)\u001b[0m \u001b[0;34m-\u001b[0m \u001b[0;36m3\u001b[0m \u001b[0;34m*\u001b[0m \u001b[0;34m(\u001b[0m\u001b[0mn\u001b[0m \u001b[0;34m+\u001b[0m \u001b[0;36m1\u001b[0m\u001b[0;34m)\u001b[0m\u001b[0;34m\u001b[0m\u001b[0;34m\u001b[0m\u001b[0m\n\u001b[0m\u001b[1;32m    526\u001b[0m \u001b[0;34m\u001b[0m\u001b[0m\n\u001b[1;32m    527\u001b[0m     \u001b[0;31m# Correct for ties\u001b[0m\u001b[0;34m\u001b[0m\u001b[0;34m\u001b[0m\u001b[0;34m\u001b[0m\u001b[0m\n",
      "\u001b[0;31mZeroDivisionError\u001b[0m: division by zero"
     ]
    }
   ],
   "source": [
    "for promoter, value in test:\n",
    "    print(promoter)\n",
    "    print(kruskal(data=df[df.Promoter == promoter], dv='corrected_luminescence', between='TF_added'))\n",
    "    print('')\n",
    "    "
   ]
  },
  {
   "cell_type": "code",
   "execution_count": null,
   "metadata": {},
   "outputs": [],
   "source": []
  },
  {
   "cell_type": "code",
   "execution_count": null,
   "metadata": {},
   "outputs": [],
   "source": []
  },
  {
   "cell_type": "code",
   "execution_count": 45,
   "metadata": {},
   "outputs": [
    {
     "data": {
      "text/html": [
       "<div>\n",
       "<style scoped>\n",
       "    .dataframe tbody tr th:only-of-type {\n",
       "        vertical-align: middle;\n",
       "    }\n",
       "\n",
       "    .dataframe tbody tr th {\n",
       "        vertical-align: top;\n",
       "    }\n",
       "\n",
       "    .dataframe thead th {\n",
       "        text-align: right;\n",
       "    }\n",
       "</style>\n",
       "<table border=\"1\" class=\"dataframe\">\n",
       "  <thead>\n",
       "    <tr style=\"text-align: right;\">\n",
       "      <th></th>\n",
       "      <th>ANR1</th>\n",
       "      <th>ARF18</th>\n",
       "      <th>DREB26</th>\n",
       "      <th>NLP7</th>\n",
       "      <th>None</th>\n",
       "    </tr>\n",
       "  </thead>\n",
       "  <tbody>\n",
       "    <tr>\n",
       "      <th>ANR1</th>\n",
       "      <td>-1.000000</td>\n",
       "      <td>1.000000</td>\n",
       "      <td>0.071163</td>\n",
       "      <td>1.000000</td>\n",
       "      <td>1.000000</td>\n",
       "    </tr>\n",
       "    <tr>\n",
       "      <th>ARF18</th>\n",
       "      <td>1.000000</td>\n",
       "      <td>-1.000000</td>\n",
       "      <td>1.000000</td>\n",
       "      <td>0.454646</td>\n",
       "      <td>1.000000</td>\n",
       "    </tr>\n",
       "    <tr>\n",
       "      <th>DREB26</th>\n",
       "      <td>0.071163</td>\n",
       "      <td>1.000000</td>\n",
       "      <td>-1.000000</td>\n",
       "      <td>0.003175</td>\n",
       "      <td>1.000000</td>\n",
       "    </tr>\n",
       "    <tr>\n",
       "      <th>NLP7</th>\n",
       "      <td>1.000000</td>\n",
       "      <td>0.454646</td>\n",
       "      <td>0.003175</td>\n",
       "      <td>-1.000000</td>\n",
       "      <td>0.535796</td>\n",
       "    </tr>\n",
       "    <tr>\n",
       "      <th>None</th>\n",
       "      <td>1.000000</td>\n",
       "      <td>1.000000</td>\n",
       "      <td>1.000000</td>\n",
       "      <td>0.535796</td>\n",
       "      <td>-1.000000</td>\n",
       "    </tr>\n",
       "  </tbody>\n",
       "</table>\n",
       "</div>"
      ],
      "text/plain": [
       "            ANR1     ARF18    DREB26      NLP7      None\n",
       "ANR1   -1.000000  1.000000  0.071163  1.000000  1.000000\n",
       "ARF18   1.000000 -1.000000  1.000000  0.454646  1.000000\n",
       "DREB26  0.071163  1.000000 -1.000000  0.003175  1.000000\n",
       "NLP7    1.000000  0.454646  0.003175 -1.000000  0.535796\n",
       "None    1.000000  1.000000  1.000000  0.535796 -1.000000"
      ]
     },
     "execution_count": 45,
     "metadata": {},
     "output_type": "execute_result"
    }
   ],
   "source": [
    "#run Dunn's post-hoc test\n",
    "#ANR1\n",
    "sp.posthoc_dunn(df[df.Promoter == '4xANR1'], val_col='corrected_luminescence', group_col='TF_added', p_adjust='bonferroni')"
   ]
  },
  {
   "cell_type": "code",
   "execution_count": 46,
   "metadata": {},
   "outputs": [
    {
     "data": {
      "text/html": [
       "<div>\n",
       "<style scoped>\n",
       "    .dataframe tbody tr th:only-of-type {\n",
       "        vertical-align: middle;\n",
       "    }\n",
       "\n",
       "    .dataframe tbody tr th {\n",
       "        vertical-align: top;\n",
       "    }\n",
       "\n",
       "    .dataframe thead th {\n",
       "        text-align: right;\n",
       "    }\n",
       "</style>\n",
       "<table border=\"1\" class=\"dataframe\">\n",
       "  <thead>\n",
       "    <tr style=\"text-align: right;\">\n",
       "      <th></th>\n",
       "      <th>DREB26</th>\n",
       "      <th>NLP6</th>\n",
       "      <th>NLP6+NLP7</th>\n",
       "      <th>NLP6+NLP7+DREB26</th>\n",
       "      <th>NLP7</th>\n",
       "      <th>None</th>\n",
       "    </tr>\n",
       "  </thead>\n",
       "  <tbody>\n",
       "    <tr>\n",
       "      <th>DREB26</th>\n",
       "      <td>-1.000000</td>\n",
       "      <td>0.537726</td>\n",
       "      <td>0.021630</td>\n",
       "      <td>0.052771</td>\n",
       "      <td>0.017535</td>\n",
       "      <td>1.000000</td>\n",
       "    </tr>\n",
       "    <tr>\n",
       "      <th>NLP6</th>\n",
       "      <td>0.537726</td>\n",
       "      <td>-1.000000</td>\n",
       "      <td>1.000000</td>\n",
       "      <td>1.000000</td>\n",
       "      <td>1.000000</td>\n",
       "      <td>1.000000</td>\n",
       "    </tr>\n",
       "    <tr>\n",
       "      <th>NLP6+NLP7</th>\n",
       "      <td>0.021630</td>\n",
       "      <td>1.000000</td>\n",
       "      <td>-1.000000</td>\n",
       "      <td>1.000000</td>\n",
       "      <td>1.000000</td>\n",
       "      <td>0.070083</td>\n",
       "    </tr>\n",
       "    <tr>\n",
       "      <th>NLP6+NLP7+DREB26</th>\n",
       "      <td>0.052771</td>\n",
       "      <td>1.000000</td>\n",
       "      <td>1.000000</td>\n",
       "      <td>-1.000000</td>\n",
       "      <td>1.000000</td>\n",
       "      <td>0.206551</td>\n",
       "    </tr>\n",
       "    <tr>\n",
       "      <th>NLP7</th>\n",
       "      <td>0.017535</td>\n",
       "      <td>1.000000</td>\n",
       "      <td>1.000000</td>\n",
       "      <td>1.000000</td>\n",
       "      <td>-1.000000</td>\n",
       "      <td>0.094729</td>\n",
       "    </tr>\n",
       "    <tr>\n",
       "      <th>None</th>\n",
       "      <td>1.000000</td>\n",
       "      <td>1.000000</td>\n",
       "      <td>0.070083</td>\n",
       "      <td>0.206551</td>\n",
       "      <td>0.094729</td>\n",
       "      <td>-1.000000</td>\n",
       "    </tr>\n",
       "  </tbody>\n",
       "</table>\n",
       "</div>"
      ],
      "text/plain": [
       "                    DREB26      NLP6  NLP6+NLP7  NLP6+NLP7+DREB26      NLP7  \\\n",
       "DREB26           -1.000000  0.537726   0.021630          0.052771  0.017535   \n",
       "NLP6              0.537726 -1.000000   1.000000          1.000000  1.000000   \n",
       "NLP6+NLP7         0.021630  1.000000  -1.000000          1.000000  1.000000   \n",
       "NLP6+NLP7+DREB26  0.052771  1.000000   1.000000         -1.000000  1.000000   \n",
       "NLP7              0.017535  1.000000   1.000000          1.000000 -1.000000   \n",
       "None              1.000000  1.000000   0.070083          0.206551  0.094729   \n",
       "\n",
       "                      None  \n",
       "DREB26            1.000000  \n",
       "NLP6              1.000000  \n",
       "NLP6+NLP7         0.070083  \n",
       "NLP6+NLP7+DREB26  0.206551  \n",
       "NLP7              0.094729  \n",
       "None             -1.000000  "
      ]
     },
     "execution_count": 46,
     "metadata": {},
     "output_type": "execute_result"
    }
   ],
   "source": [
    "#NIR1 post-hoc test\n",
    "sp.posthoc_dunn(df[df.Promoter == 'NIR1'], val_col='corrected_luminescence', group_col='TF_added', p_adjust='bonferroni')"
   ]
  },
  {
   "cell_type": "code",
   "execution_count": 186,
   "metadata": {},
   "outputs": [
    {
     "data": {
      "text/html": "<div>\n<style scoped>\n    .dataframe tbody tr th:only-of-type {\n        vertical-align: middle;\n    }\n\n    .dataframe tbody tr th {\n        vertical-align: top;\n    }\n\n    .dataframe thead th {\n        text-align: right;\n    }\n</style>\n<table border=\"1\" class=\"dataframe\">\n  <thead>\n    <tr style=\"text-align: right;\">\n      <th></th>\n      <th>well_row</th>\n      <th>well_col</th>\n      <th>content</th>\n      <th>fluc_luminescence</th>\n      <th>nluc_luminescence</th>\n      <th>name</th>\n      <th>condition</th>\n      <th>nluc/fluc</th>\n      <th>date</th>\n      <th>Promoter</th>\n      <th>TF_added</th>\n      <th>corrected_luminescence</th>\n    </tr>\n  </thead>\n  <tbody>\n    <tr>\n      <th>0</th>\n      <td>A</td>\n      <td>1</td>\n      <td>Sample X1</td>\n      <td>174269.0</td>\n      <td>35951920.0</td>\n      <td>71+34</td>\n      <td>Co-expression</td>\n      <td>206.301293</td>\n      <td>27.11.20</td>\n      <td>UBQ10</td>\n      <td>No TF</td>\n      <td>196.292423</td>\n    </tr>\n    <tr>\n      <th>16</th>\n      <td>A</td>\n      <td>3</td>\n      <td>Sample X17</td>\n      <td>34377.0</td>\n      <td>9763093.0</td>\n      <td>71+34</td>\n      <td>Co-expression</td>\n      <td>284.000727</td>\n      <td>27.11.20</td>\n      <td>UBQ10</td>\n      <td>No TF</td>\n      <td>270.222208</td>\n    </tr>\n    <tr>\n      <th>8</th>\n      <td>A</td>\n      <td>2</td>\n      <td>Sample X9</td>\n      <td>76557.0</td>\n      <td>29898348.0</td>\n      <td>71+34</td>\n      <td>Co-expression</td>\n      <td>390.537090</td>\n      <td>27.11.20</td>\n      <td>UBQ10</td>\n      <td>No TF</td>\n      <td>371.589875</td>\n    </tr>\n    <tr>\n      <th>81</th>\n      <td>B</td>\n      <td>12</td>\n      <td>Sample X82</td>\n      <td>30171.0</td>\n      <td>7997612.0</td>\n      <td>71+111+34</td>\n      <td>Co-expression</td>\n      <td>265.076133</td>\n      <td>27.11.20</td>\n      <td>UBQ10</td>\n      <td>+TCP20</td>\n      <td>252.215755</td>\n    </tr>\n    <tr>\n      <th>77</th>\n      <td>B</td>\n      <td>11</td>\n      <td>Sample X78</td>\n      <td>9761.0</td>\n      <td>1202474.0</td>\n      <td>71+111+34</td>\n      <td>Co-expression</td>\n      <td>123.191681</td>\n      <td>27.11.20</td>\n      <td>UBQ10</td>\n      <td>+TCP20</td>\n      <td>117.214940</td>\n    </tr>\n    <tr>\n      <th>73</th>\n      <td>B</td>\n      <td>10</td>\n      <td>Sample X74</td>\n      <td>36212.0</td>\n      <td>6304531.0</td>\n      <td>71+111+34</td>\n      <td>Co-expression</td>\n      <td>174.100602</td>\n      <td>27.11.20</td>\n      <td>UBQ10</td>\n      <td>+TCP20</td>\n      <td>165.653974</td>\n    </tr>\n    <tr>\n      <th>79</th>\n      <td>D</td>\n      <td>11</td>\n      <td>Sample X80</td>\n      <td>16191.0</td>\n      <td>949868.0</td>\n      <td>71+29+111+34</td>\n      <td>Co-expression</td>\n      <td>58.666420</td>\n      <td>27.11.20</td>\n      <td>UBQ10</td>\n      <td>+NLP7+TCP20</td>\n      <td>55.820172</td>\n    </tr>\n    <tr>\n      <th>75</th>\n      <td>D</td>\n      <td>10</td>\n      <td>Sample X76</td>\n      <td>12375.0</td>\n      <td>1664517.0</td>\n      <td>71+29+111+34</td>\n      <td>Co-expression</td>\n      <td>134.506424</td>\n      <td>27.11.20</td>\n      <td>UBQ10</td>\n      <td>+NLP7+TCP20</td>\n      <td>127.980739</td>\n    </tr>\n    <tr>\n      <th>83</th>\n      <td>D</td>\n      <td>12</td>\n      <td>Sample X84</td>\n      <td>16435.0</td>\n      <td>920642.0</td>\n      <td>71+29+111+34</td>\n      <td>Co-expression</td>\n      <td>56.017159</td>\n      <td>27.11.20</td>\n      <td>UBQ10</td>\n      <td>+NLP7+TCP20</td>\n      <td>53.299442</td>\n    </tr>\n    <tr>\n      <th>78</th>\n      <td>C</td>\n      <td>11</td>\n      <td>Sample X79</td>\n      <td>6718.0</td>\n      <td>1401258.0</td>\n      <td>71+29+34</td>\n      <td>Co-expression</td>\n      <td>208.582614</td>\n      <td>27.11.20</td>\n      <td>UBQ10</td>\n      <td>+NLP7</td>\n      <td>198.463064</td>\n    </tr>\n    <tr>\n      <th>74</th>\n      <td>C</td>\n      <td>10</td>\n      <td>Sample X75</td>\n      <td>19114.0</td>\n      <td>4833315.0</td>\n      <td>71+29+34</td>\n      <td>Co-expression</td>\n      <td>252.867793</td>\n      <td>27.11.20</td>\n      <td>UBQ10</td>\n      <td>+NLP7</td>\n      <td>240.599713</td>\n    </tr>\n    <tr>\n      <th>82</th>\n      <td>C</td>\n      <td>12</td>\n      <td>Sample X83</td>\n      <td>6683.0</td>\n      <td>1441505.0</td>\n      <td>71+29+34</td>\n      <td>Co-expression</td>\n      <td>215.697292</td>\n      <td>27.11.20</td>\n      <td>UBQ10</td>\n      <td>+NLP7</td>\n      <td>205.232567</td>\n    </tr>\n  </tbody>\n</table>\n</div>",
      "text/plain": "   well_row  well_col     content  fluc_luminescence  nluc_luminescence  \\\n0         A         1   Sample X1           174269.0         35951920.0   \n16        A         3  Sample X17            34377.0          9763093.0   \n8         A         2   Sample X9            76557.0         29898348.0   \n81        B        12  Sample X82            30171.0          7997612.0   \n77        B        11  Sample X78             9761.0          1202474.0   \n73        B        10  Sample X74            36212.0          6304531.0   \n79        D        11  Sample X80            16191.0           949868.0   \n75        D        10  Sample X76            12375.0          1664517.0   \n83        D        12  Sample X84            16435.0           920642.0   \n78        C        11  Sample X79             6718.0          1401258.0   \n74        C        10  Sample X75            19114.0          4833315.0   \n82        C        12  Sample X83             6683.0          1441505.0   \n\n            name      condition   nluc/fluc      date Promoter     TF_added  \\\n0          71+34  Co-expression  206.301293  27.11.20    UBQ10        No TF   \n16         71+34  Co-expression  284.000727  27.11.20    UBQ10        No TF   \n8          71+34  Co-expression  390.537090  27.11.20    UBQ10        No TF   \n81     71+111+34  Co-expression  265.076133  27.11.20    UBQ10       +TCP20   \n77     71+111+34  Co-expression  123.191681  27.11.20    UBQ10       +TCP20   \n73     71+111+34  Co-expression  174.100602  27.11.20    UBQ10       +TCP20   \n79  71+29+111+34  Co-expression   58.666420  27.11.20    UBQ10  +NLP7+TCP20   \n75  71+29+111+34  Co-expression  134.506424  27.11.20    UBQ10  +NLP7+TCP20   \n83  71+29+111+34  Co-expression   56.017159  27.11.20    UBQ10  +NLP7+TCP20   \n78      71+29+34  Co-expression  208.582614  27.11.20    UBQ10        +NLP7   \n74      71+29+34  Co-expression  252.867793  27.11.20    UBQ10        +NLP7   \n82      71+29+34  Co-expression  215.697292  27.11.20    UBQ10        +NLP7   \n\n    corrected_luminescence  \n0               196.292423  \n16              270.222208  \n8               371.589875  \n81              252.215755  \n77              117.214940  \n73              165.653974  \n79               55.820172  \n75              127.980739  \n83               53.299442  \n78              198.463064  \n74              240.599713  \n82              205.232567  "
     },
     "execution_count": 186,
     "metadata": {},
     "output_type": "execute_result"
    }
   ],
   "source": [
    "df"
   ]
  }
 ],
 "metadata": {
  "kernelspec": {
   "display_name": "Python 3.7.8 64-bit ('PromoterArchitecturePipeline': conda)",
   "name": "python378jvsc74a57bd03c908fdf7eeea7fcc2df758bbbf39904538fbb339b5048681ca2f728a4bf3f81"
  },
  "language_info": {
   "codemirror_mode": {
    "name": "ipython",
    "version": 3
   },
   "file_extension": ".py",
   "mimetype": "text/x-python",
   "name": "python",
   "nbconvert_exporter": "python",
   "pygments_lexer": "ipython3",
   "version": "3.7.8"
  }
 },
 "nbformat": 4,
 "nbformat_minor": 4
}