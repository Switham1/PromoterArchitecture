{
 "cells": [
  {
   "cell_type": "code",
   "execution_count": 28,
   "metadata": {},
   "outputs": [],
   "source": [
    "import os\n",
    "import argparse\n",
    "from pybedtools import BedTool\n",
    "from Bio.SeqUtils import GC\n",
    "from Bio import SeqIO"
   ]
  },
  {
   "cell_type": "code",
   "execution_count": null,
   "metadata": {},
   "outputs": [],
   "source": [
    "parser = argparse.ArgumentParser(description='GC_content_rw')\n",
    "parser.add_argument('file_names', type=str, help='Name of folder and filenames for the promoters extracted')\n",
    "parser.add_argument('GC_content_tsv', type=str, help='Output location of rolling window GC content tsv')\n",
    "parser.add_argument('window_bed', type=str, help='Input location of rolling window bed file')\n",
    "parser.add_argument('genome_fasta', type=str, help='Input location of genome fasta file')\n",
    "parser.add_argument('window_fasta', type=str, help='Output location of rolling window fasta file')\n",
    "args = parser.parse_args()"
   ]
  },
  {
   "cell_type": "code",
   "execution_count": 22,
   "metadata": {},
   "outputs": [],
   "source": [
    "file_names = 'non-overlapping_includingbidirectional_all_genes_newannotation'\n",
    "GC_content_tsv = f'../../data/output/{file_names}/rolling_window/GC_content_rw/promoters_5UTR_GCcontent_rw.tsv'\n",
    "window_bed = f'../../data/output/{file_names}/rolling_window/promoters_5UTR_windows.bed'\n",
    "window_fasta = f'../../data/output/{file_names}/rolling_window/promoters_5UTR_windows.fasta'\n",
    "genome_fasta = '../../data/genomes/TAIR10_chr_all.fas'"
   ]
  },
  {
   "cell_type": "code",
   "execution_count": 16,
   "metadata": {},
   "outputs": [],
   "source": [
    "def make_window_fasta(window_bed,genome_fasta,window_fasta):\n",
    "    \"\"\"Make a fasta file containing all of the promoter windows\"\"\"\n",
    "    #make bedtools object of window_bed\n",
    "    windows = BedTool(window_bed)\n",
    "    #create fasta file of promoters from genome fasta file and from the promoters_renamedChr.bed file\n",
    "    windowfasta = BedTool().sequence(bed=window_bed, fi=genome_fasta,fo=window_fasta,name=True)"
   ]
  },
  {
   "cell_type": "code",
   "execution_count": 26,
   "metadata": {},
   "outputs": [],
   "source": [
    "def GC_content(window_fasta, output_file):\n",
    "    \"\"\"function to calculate GC content % of sequences in a fast file and output a text file\"\"\"\n",
    "\n",
    "    fasta_sequences = SeqIO.parse(open(window_fasta),'fasta')\n",
    "    with open(output_file, 'w') as fout:\n",
    "\n",
    "        for fasta in fasta_sequences:\n",
    "                name, sequence = fasta.id, str(fasta.seq)\n",
    "\n",
    "                fout.write(f'{name}\\t{GC(sequence)}\\n')"
   ]
  },
  {
   "cell_type": "code",
   "execution_count": 4,
   "metadata": {},
   "outputs": [
    {
     "name": "stdout",
     "output_type": "stream",
     "text": [
      "Directory  ../../data/output/non-overlapping_includingbidirectional_all_genes_newannotation/rolling_window/GC_content_rw  created\n"
     ]
    }
   ],
   "source": [
    "#make directory for the output files to be exported to\n",
    "dirName = f'../../data/output/{file_names}/rolling_window/GC_content_rw'\n",
    "try:\n",
    "    # Create target Directory\n",
    "    os.mkdir(dirName)\n",
    "    print(\"Directory \" , dirName ,  \" created\") \n",
    "except FileExistsError:\n",
    "    print(\"Directory \" , dirName ,  \" already exists\")"
   ]
  },
  {
   "cell_type": "code",
   "execution_count": 19,
   "metadata": {},
   "outputs": [],
   "source": [
    "make_window_fasta(window_bed,genome_fasta,window_fasta)"
   ]
  },
  {
   "cell_type": "code",
   "execution_count": 27,
   "metadata": {},
   "outputs": [],
   "source": [
    "GC_content(window_fasta, GC_content_tsv)"
   ]
  },
  {
   "cell_type": "code",
   "execution_count": null,
   "metadata": {},
   "outputs": [],
   "source": []
  }
 ],
 "metadata": {
  "kernelspec": {
   "display_name": "Python [conda env:PromoterArchitecturePipeline] *",
   "language": "python",
   "name": "conda-env-PromoterArchitecturePipeline-py"
  },
  "language_info": {
   "codemirror_mode": {
    "name": "ipython",
    "version": 3
   },
   "file_extension": ".py",
   "mimetype": "text/x-python",
   "name": "python",
   "nbconvert_exporter": "python",
   "pygments_lexer": "ipython3",
   "version": "3.7.6"
  }
 },
 "nbformat": 4,
 "nbformat_minor": 4
}
