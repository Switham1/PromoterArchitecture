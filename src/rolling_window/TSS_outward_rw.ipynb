{
 "cells": [
  {
   "cell_type": "code",
   "execution_count": null,
   "metadata": {},
   "outputs": [],
   "source": [
    "#merge the promoters and 5UTR rolling windows, \n",
    "#with window numbers going head to head around the Araport TSS (so window 1 of promoters becomes -1, while 5UTR window numbers stay the same)"
   ]
  },
  {
   "cell_type": "code",
   "execution_count": 85,
   "metadata": {},
   "outputs": [],
   "source": [
    "import pandas as pd\n",
    "#import argparse"
   ]
  },
  {
   "cell_type": "code",
   "execution_count": 2,
   "metadata": {},
   "outputs": [],
   "source": [
    "#define arguments\n",
    "# parser = argparse.ArgumentParser(description='create_5UTRs')\n",
    "# parser.add_argument('file_names', type=str, help='Name of folder and filenames for the promoters extracted')\n",
    "# parser.add_argument('five_UTR_windows', type=str, help='Input location of 5UTR sliding windows')\n",
    "# parser.add_argument('promoter_5UTR_bed', type=str, help='Input location of promoter 5UTR bed file to get strand information')\n",
    "# parser.add_argument('promoter_windows', type=str, help='Input location of promoter sliding windows')\n",
    "# parser.add_argument('TSS_outward_windows', type=str, help='Output location of the promoter + 5UTR sliding windows number outwards from the TSS')\n",
    "# parser.add_argument('window_size', type=int, help='Size of the rolling window in bp')\n",
    "# parser.add_argument('step_size', type=int, help='Size of the window offset in bp')\n",
    "# args = parser.parse_args()"
   ]
  },
  {
   "cell_type": "code",
   "execution_count": 89,
   "metadata": {},
   "outputs": [],
   "source": [
    "file_names = 'non-overlapping_includingbidirectional_all_genes_newannotation'\n",
    "five_UTR_windows = f'../../data/output/{file_names}/rolling_window/5UTR_windows_swapped_strands.bed'\n",
    "promoter_windows = f'../../data/output/{file_names}/rolling_window/promoters_windows.bed'\n",
    "TSS_outward_windows = f'../../data/output/{file_names}/rolling_window/Araport11_TSS_outward_windows.bed'\n",
    "promoter_5UTR_bed = f'../../data/output/{file_names}/FIMO/promoters_5UTR.bed'\n",
    "step_size = 50\n",
    "window_size=100"
   ]
  },
  {
   "cell_type": "code",
   "execution_count": 90,
   "metadata": {},
   "outputs": [],
   "source": [
    "def merge_window_files(promoter_windows,five_UTR_windows,promoter_5UTR_bed,TSS_outward_windows,window_size,step_size):\n",
    "    \"\"\"function to merge the promoters and 5UTR rolling windows\n",
    "    with window numbers going head to head around the Araport TSS \n",
    "    (so window 1 of promoters becomes -1, while 5UTR window numbers stay the same). Also creates a window 0 across the TSS\"\"\"\n",
    "    #read in the files\n",
    "    fiveUTR=pd.read_table(five_UTR_windows, sep='\\t',header=None)\n",
    "    proms = pd.read_table(promoter_windows, sep='\\t',header=None)\n",
    "    promoters_5UTR = pd.read_table(promoter_5UTR_bed, sep='\\t',header=None)    \n",
    "    cols = ['chr','start','stop','name']\n",
    "    cols2 = ['chr','start','stop','AGI','dot','strand','source','type','dot2','attributes']\n",
    "    #rename columns\n",
    "    fiveUTR.columns = cols\n",
    "    proms.columns = cols\n",
    "    promoters_5UTR.columns = cols2\n",
    "    #split name into AGI and window number\n",
    "    fiveUTR['AGI'] = fiveUTR.name.str.split('_',expand=True)[0]\n",
    "    fiveUTR['window_number'] = fiveUTR.name.str.split('_',expand=True)[1]\n",
    "    proms['AGI'] = proms.name.str.split('_',expand=True)[0]\n",
    "    proms['window_number'] = proms.name.str.split('_',expand=True)[1]\n",
    "    \n",
    "    #first turn window number column into integars\n",
    "    proms = proms.astype({'window_number': 'int'})\n",
    "    fiveUTR = fiveUTR.astype({'window_number': 'int'})\n",
    "    #make proms window numbers negative\n",
    "    proms.window_number = -proms.window_number\n",
    "    #merge fiveUTR and promoter_5UTR_bed on AGI\n",
    "    fiveUTR_merged = pd.merge(fiveUTR,promoters_5UTR,on='AGI', how='left',suffixes=('','_proms'))\n",
    "    #make an extra window upstream of the fiverUTR window 1 called window 0 (using window size and offset variables)\n",
    "    #filter only window 1s\n",
    "    fiveUTR_merged = fiveUTR_merged[fiveUTR_merged.window_number == 1]\n",
    "    #create an empty list\n",
    "    new_rows = []\n",
    "    #iterate through fiveUTR_copy window number ones and append a row to fiveUTR with window 0\n",
    "    for i,data in fiveUTR_merged.iterrows():\n",
    "        #if strand is positive\n",
    "        if fiveUTR_merged.loc[i,'strand'] == '+':\n",
    "            #new window start is the window 1 start minus the step size\n",
    "            start = fiveUTR_merged.loc[i,'start'] - step_size \n",
    "            #new window stop is the start plus the window size\n",
    "            stop = start + window_size\n",
    "            dict1 = {'chr':fiveUTR_merged.loc[i,'chr'],'start':start,'stop':stop, 'window_number':0,'AGI':fiveUTR_merged.loc[i,'AGI']}\n",
    "            #append dict to new_rows list\n",
    "            new_rows.append(dict1)\n",
    "        #else of strand is negative\n",
    "        elif fiveUTR_merged.loc[i,'strand'] == '-':\n",
    "            #new window start is the window 1 stop minus the step size \n",
    "            start = fiveUTR_merged.loc[i,'stop'] - step_size\n",
    "            #new window stop is start plus window size\n",
    "            stop = start + window_size\n",
    "            dict1 = {'chr':fiveUTR_merged.loc[i,'chr'],'start':start,'stop':stop, 'window_number':0,'AGI':fiveUTR_merged.loc[i,'AGI']}\n",
    "            #append dict to new_rows list\n",
    "            new_rows.append(dict1)\n",
    "    #turn new_rows into a df\n",
    "    rows_df = pd.DataFrame(new_rows)\n",
    "    #remove name columns from fiveUTR\n",
    "    fiveUTR = fiveUTR[['chr','start','stop','window_number','AGI']]\n",
    "    #filter name column fromproms\n",
    "    proms = proms[['chr','start','stop','window_number','AGI']]\n",
    "    #concatenate rows_df and fiveUTR and proms\n",
    "    all_windows = pd.concat([fiveUTR,rows_df,proms],ignore_index=True)\n",
    "    #sort by chr and start\n",
    "    all_windows.sort_values(['chr','start'], inplace=True, ignore_index=True)\n",
    "    #merge AGI and window number into single column\n",
    "    #turn window_number into string\n",
    "    all_windows = all_windows.astype({'window_number': 'str'})\n",
    "    all_windows['name'] = all_windows.AGI + '_' + all_windows.window_number\n",
    "    #filter columns\n",
    "    all_windows = all_windows[['chr','start','stop','name']]\n",
    "    #save file\n",
    "    all_windows.to_csv(TSS_outward_windows,sep='\\t',index=None,header=None)"
   ]
  },
  {
   "cell_type": "code",
   "execution_count": 91,
   "metadata": {},
   "outputs": [],
   "source": [
    "merge_window_files(promoter_windows,five_UTR_windows,promoter_5UTR_bed,TSS_outward_windows,window_size,step_size)"
   ]
  },
  {
   "cell_type": "code",
   "execution_count": null,
   "metadata": {},
   "outputs": [],
   "source": []
  }
 ],
 "metadata": {
  "kernelspec": {
   "display_name": "Python [conda env:PromoterArchitecturePipeline] *",
   "language": "python",
   "name": "conda-env-PromoterArchitecturePipeline-py"
  },
  "language_info": {
   "codemirror_mode": {
    "name": "ipython",
    "version": 3
   },
   "file_extension": ".py",
   "mimetype": "text/x-python",
   "name": "python",
   "nbconvert_exporter": "python",
   "pygments_lexer": "ipython3",
   "version": "3.7.6"
  }
 },
 "nbformat": 4,
 "nbformat_minor": 4
}
