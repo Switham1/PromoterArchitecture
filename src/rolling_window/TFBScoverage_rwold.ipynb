{
 "cells": [
  {
   "cell_type": "code",
   "execution_count": 1,
   "metadata": {},
   "outputs": [],
   "source": [
    "import os\n",
    "import argparse\n",
    "import pandas as pd\n",
    "import numpy as np\n",
    "import io\n",
    "from pybedtools import BedTool"
   ]
  },
  {
   "cell_type": "code",
   "execution_count": null,
   "metadata": {},
   "outputs": [],
   "source": [
    "parser = argparse.ArgumentParser(description='TFBScoverage_rw')\n",
    "#parser.add_argument('directory_path', type=str, help='Location of base directory')\n",
    "#better to use relative path\n",
    "parser.add_argument('file_names', type=str, help='Name of folder and filenames for the promoters extracted')\n",
    "#parser.add_argument('promoter_bedfile', type=str, help='Input location of promoter bedfile')\n",
    "parser.add_argument('motifs_bed', type=str, help='Input location of motifs bed file')\n",
    "parser.add_argument('TFBS_coverage_bed', type=str, help='Output location of rolling window % coverage bed file')\n",
    "parser.add_argument('window_bed', type=str, help='Input location of rolling window bed file')\n",
    "\n",
    "args = parser.parse_args()\n"
   ]
  },
  {
   "cell_type": "code",
   "execution_count": 2,
   "metadata": {},
   "outputs": [],
   "source": [
    "file_names = 'non-overlapping_includingbidirectional_all_genes_newannotation'\n",
    "directory_path = '../..'\n",
    "#promoter_bedfile = f'../../data/output/{file_names}/FIMO/promoters_5UTR.bed'\n",
    "motifs_bed = f'../../data/output/{file_names}/FIMO/promoters_5UTR_motifs.bed'\n",
    "TFBS_coverage_bed = f'{directory_path}/data/output/{file_names}/rolling_window/TFBS_coverage_rw/promoters_5UTR_bpcovered_rw.bed'\n",
    "window_bed = f'{directory_path}/data/output/{file_names}/rolling_window/promoters_5UTR_windows.bed'\n",
    "#overlapping_proms = f'{directory_path}/data/output/{file_names}/overlapping_promoters.bed'"
   ]
  },
  {
   "cell_type": "code",
   "execution_count": 7,
   "metadata": {},
   "outputs": [],
   "source": [
    "def coverage_bed(window_bed, motifs_bed, TFBS_coverage_bed):\n",
    "    \"\"\"function to calculate TFBS %coverage on sliding windows\"\"\"\n",
    "    windows = BedTool(window_bed)\n",
    "    motifs = BedTool(motifs_bed)\n",
    "    #calculate TFBS coverage and save the output file\n",
    "    coverage = windows.coverage(motifs, output=TFBS_coverage_bed)\n",
    "   \n"
   ]
  },
  {
   "cell_type": "code",
   "execution_count": null,
   "metadata": {},
   "outputs": [],
   "source": [
    "#make directory for the output files to be exported to\n",
    "#dirName = f'{args.directory_path}/data/output/{args.file_names}'\n",
    "dirName = f'{directory_path}/data/output/{file_names}/rolling_window/TFBS_coverage_rw'\n",
    "try:\n",
    "    # Create target Directory\n",
    "    os.mkdir(dirName)\n",
    "    print(\"Directory \" , dirName ,  \" created\") \n",
    "except FileExistsError:\n",
    "    print(\"Directory \" , dirName ,  \" already exists\")"
   ]
  },
  {
   "cell_type": "code",
   "execution_count": 8,
   "metadata": {},
   "outputs": [],
   "source": [
    "coverage_bed(window_bed, motifs_bed, TFBS_coverage_bed)"
   ]
  },
  {
   "cell_type": "code",
   "execution_count": null,
   "metadata": {},
   "outputs": [],
   "source": []
  }
 ],
 "metadata": {
  "kernelspec": {
   "display_name": "Python [conda env:PromoterArchitecturePipeline] *",
   "language": "python",
   "name": "conda-env-PromoterArchitecturePipeline-py"
  },
  "language_info": {
   "codemirror_mode": {
    "name": "ipython",
    "version": 3
   },
   "file_extension": ".py",
   "mimetype": "text/x-python",
   "name": "python",
   "nbconvert_exporter": "python",
   "pygments_lexer": "ipython3",
   "version": "3.7.6"
  }
 },
 "nbformat": 4,
 "nbformat_minor": 4
}
