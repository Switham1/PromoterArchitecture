{
 "cells": [
  {
   "cell_type": "code",
   "execution_count": 1,
   "metadata": {},
   "outputs": [],
   "source": [
    "import os\n",
    "import argparse\n",
    "import pandas as pd\n",
    "import numpy as np\n",
    "import io\n",
    "import skbio\n",
    "from pybedtools import BedTool"
   ]
  },
  {
   "cell_type": "code",
   "execution_count": null,
   "metadata": {},
   "outputs": [],
   "source": [
    "parser = argparse.ArgumentParser(description='TF_diversity_rw')\n",
    "parser.add_argument('file_names', type=str, help='Name of folder and filenames for the promoters extracted')\n",
    "parser.add_argument('window_bed', type=str, help='Input location of rolling window bed file')\n",
    "parser.add_argument('mapped_motif_bed', type=str, help='Input location of promoters mapped motif bed')\n",
    "parser.add_argument('window_motifs_bed', type=str, help='Output location of the windows_motifs intersect bed')\n",
    "parser.add_argument('TF_diversity_bed', type=str, help='Output location of the window TF_diversity_bed')\n",
    "args = parser.parse_args()"
   ]
  },
  {
   "cell_type": "code",
   "execution_count": null,
   "metadata": {},
   "outputs": [],
   "source": [
    "dependent_variable = 'TF_diversity'"
   ]
  },
  {
   "cell_type": "code",
   "execution_count": 72,
   "metadata": {},
   "outputs": [],
   "source": [
    "promoter_pref = 'promoters_5UTR'\n",
    "\n",
    "file_names = 'non-overlapping_includingbidirectional_all_genes_newannotation'\n",
    "window_bed = f'../../data/output/{file_names}/rolling_window/{promoter_pref}_windows.bed'\n",
    "mapped_motif_bed = f'../../data/output/{file_names}/FIMO/{promoter_pref}_motifs_mapped.bed'\n",
    "window_motifs_bed = f'../../data/output/{file_names}/rolling_window/{promoter_pref}_windows_motifs.bed'\n",
    "TF_diversity_bed = f'../../data/output/{file_names}/rolling_window/{dependent_variable}_rw/{promoter_pref}_TF_diversity.bed'"
   ]
  },
  {
   "cell_type": "code",
   "execution_count": 4,
   "metadata": {},
   "outputs": [
    {
     "name": "stdout",
     "output_type": "stream",
     "text": [
      "Directory  ../../data/output/non-overlapping_includingbidirectional_all_genes_newannotation/rolling_window/TF_diversity_rw  already exists\n"
     ]
    }
   ],
   "source": [
    "#make directory for the output files to be exported to\n",
    "#dirName = f'{args.directory_path}/data/output/{args.file_names}'\n",
    "dirName = f'../../data/output/{file_names}/rolling_window/{dependent_variable}_rw'\n",
    "try:\n",
    "    # Create target Directory\n",
    "    os.mkdir(dirName)\n",
    "    print(\"Directory \" , dirName ,  \" created\") \n",
    "except FileExistsError:\n",
    "    print(\"Directory \" , dirName ,  \" already exists\")"
   ]
  },
  {
   "cell_type": "code",
   "execution_count": 5,
   "metadata": {},
   "outputs": [],
   "source": [
    "def merge_windows_motifs(window_bed,mapped_motif_bed,output_file):\n",
    "    \"\"\"perform bedtools intersect on the two dfs\"\"\"\n",
    "    windows = BedTool(window_bed)\n",
    "    motifs = mapped_motif_bed\n",
    "    #-wao =Write the original A and B entries plus the number of base pairs of overlap between the two features.\n",
    "    #However, A features w/o overlap are also reported with a NULL B feature and overlap = 0\n",
    "    intersect = windows.intersect(motifs, wao=True)\n",
    "    #Write to output_file\n",
    "    with open(output_file, 'w') as output:\n",
    "        #Each line in the file contains bed entry a and bed entry b that it overlaps plus the number of bp in the overlap so 19 columns\n",
    "        output.write(str(intersect))    "
   ]
  },
  {
   "cell_type": "code",
   "execution_count": 69,
   "metadata": {},
   "outputs": [],
   "source": [
    "def calculate_shannon_diversity(window_motifs_bed):\n",
    "    \"\"\"read in mapped motifs_bed, window_bed, merge them and then calculate Shannon diversity-like calculations for each window\"\"\"\n",
    "    window_motifs_df = pd.read_table(window_motifs_bed, sep='\\t', header=None)\n",
    "    cols = ['chr', 'start', 'stop', 'name','motif_chr','motif_start','motif_stop','name_rep', 'score', 'strand',\n",
    "            'promoter_AGI', 'p-value', 'q-value', 'matched_sequence', 'TF_name', 'TF_family', 'TF_AGI','bp_overlap']\n",
    "    window_motifs_df.columns = cols\n",
    "    #filter columns\n",
    "    window_motifs_df = window_motifs_df[['chr', 'start', 'stop', 'name','motif_chr','motif_start','motif_stop',\n",
    "                                         'TF_name', 'TF_family', 'TF_AGI','bp_overlap']]\n",
    "    #add AGI column\n",
    "    window_motifs_df['promoter_AGI'] = window_motifs_df.name.str.split('_',expand=True)[0]\n",
    "    #make window number column\n",
    "    window_motifs_df['window_number'] = window_motifs_df.name.str.split('_',expand=True)[1]\n",
    "    ##add window length column\n",
    "    window_motifs_df = window_motifs_df.assign(window_length=window_motifs_df.stop - window_motifs_df.start)\n",
    "    #add motif length column\n",
    "    window_motifs_df['motif_length'] = 0\n",
    "    window_motifs_df.motif_length = window_motifs_df.motif_stop - window_motifs_df.motif_start\n",
    "    #if bp_covered is greater than 0 but less than half of the motif length, remove line\n",
    "    #This removes some windows for good as they have no other motifs. I could add functionality to make the diversity 0 for these but I will just merge back with\n",
    "    #the window_bed in TF_diversity_rw_plots.ipynb and convert NaN values to 0\n",
    "    df = window_motifs_df[~((window_motifs_df['bp_overlap'] > 0) & (window_motifs_df['bp_overlap'] < 0.5*window_motifs_df.motif_length))].copy()\n",
    "    #replace columns with only dots in them with NaN    \n",
    "    no_motifs = df[df.bp_overlap == 0].copy()\n",
    "    no_motifs['motif_chr'] = np.NaN\n",
    "    no_motifs['motif_start'] = np.NaN\n",
    "    no_motifs['motif_stop'] = np.NaN\n",
    "    no_motifs['TF_name'] = np.NaN\n",
    "    no_motifs['TF_family'] = np.NaN\n",
    "    no_motifs['TF_AGI'] = np.NaN\n",
    "    #make df without the lines with no motifs\n",
    "    df_reduced = df[~(df.bp_overlap == 0)].copy()\n",
    "    #merge the two dfs\n",
    "    df = pd.concat([df_reduced,no_motifs])\n",
    "    #sort on name\n",
    "    df.sort_values('name', inplace=True, ignore_index=True)       \n",
    "    #count no. of each TF binding in each window\n",
    "    groupby_promoter_counts = df.groupby('name')['TF_AGI'].value_counts(dropna=True).unstack(fill_value=0)\n",
    "    #count no. of TF families binding in each promoter\n",
    "    groupby_promoter_counts_family = df.groupby('name')['TF_family'].value_counts(dropna=True).unstack(fill_value=0)\n",
    "    #Individual TF shannon diversity using arbitrary log2 base\n",
    "    shannon_div_df = groupby_promoter_counts.apply(pd.Series(lambda x: skbio.diversity.alpha.shannon(x, base=2)),axis=1)\n",
    "    #shannon diversity for TF family\n",
    "    shannon_div_TF_family_df = groupby_promoter_counts_family.apply(pd.Series(lambda x: skbio.diversity.alpha.shannon(x, base=2)),axis=1)\n",
    "    #convert rownames into column\n",
    "    cols = ['name', 'shannon']\n",
    "    shannon_div_df.index.name ='name'\n",
    "    shannon_div_df.reset_index(inplace=True)\n",
    "    shannon_div_TF_family_df.index.name ='name'\n",
    "    shannon_div_TF_family_df.reset_index(inplace=True)\n",
    "    #rename column\n",
    "    shannon_div_df.rename(columns = {'<lambda>':'Shannon_diversity_TF'}, inplace = True)\n",
    "    shannon_div_TF_family_df.rename(columns = {'<lambda>':'Shannon_diversity_TF_family'}, inplace = True)\n",
    "    #merge individual TF and TF family diversity dfs\n",
    "    diversity_df = pd.merge(shannon_div_df, shannon_div_TF_family_df, on='name')\n",
    "    \n",
    "    ##calculate unique TF counts\n",
    "    #groupby promoter, and include only unique TFs within each promoter group. Preserve column names.\n",
    "    unique_TF_count = df.groupby(by='name', as_index=False).agg({'TF_AGI': pd.Series.nunique})\n",
    "    #rename column\n",
    "    unique_TF_count.rename(columns = {'TF_AGI':'unique_TF_count'}, inplace = True)\n",
    "    \n",
    "    ##calculate total TF counts\n",
    "    total_TF_count = df.groupby(by='name', as_index=False).agg({'TF_AGI': pd.Series.count})\n",
    "    #rename column\n",
    "    total_TF_count.rename(columns = {'TF_AGI':'total_TF_count'}, inplace = True)\n",
    "    \n",
    "    ##calculate total TF family counts\n",
    "    total_TF_family_count = df.groupby(by='name', as_index=False).agg({'TF_family': pd.Series.nunique})\n",
    "    #rename column\n",
    "    total_TF_family_count.rename(columns = {'TF_family':'TF_family_count'}, inplace = True)\n",
    "    \n",
    "    #merge diversity df with unique_TF_count\n",
    "    diversity_df = pd.merge(diversity_df,unique_TF_count, on='name' )\n",
    "    #then merge with total_TF_count\n",
    "    diversity_df = pd.merge(diversity_df,total_TF_count, on='name' )\n",
    "    #then merge with TF_family_count\n",
    "    diversity_df = pd.merge(diversity_df,total_TF_family_count, on='name' )\n",
    "    \n",
    "    #if name isn't in diversity_df, add it and change all other columns to 0\n",
    "    #select all unique names that aren't in diversity_df (will select all values but good to be sure)\n",
    "    missing_names = no_motifs[~no_motifs.name.isin(diversity_df.name)].name.unique()\n",
    "    #turn into df\n",
    "    missing_names_diversity = pd.DataFrame(missing_names)\n",
    "    #make columns\n",
    "    missing_names_diversity.columns = ['name']\n",
    "    missing_names_diversity['Shannon_diversity_TF'] = -0\n",
    "    missing_names_diversity['Shannon_diversity_TF_family'] = -0\n",
    "    missing_names_diversity['unique_TF_count'] = 0\n",
    "    missing_names_diversity['total_TF_count'] = 0\n",
    "    missing_names_diversity['TF_family_count'] = 0\n",
    "    #concatenate missing_names_diversity with missing_names_diversity\n",
    "    diversity_df = pd.concat([diversity_df,missing_names_diversity])        \n",
    "    return diversity_df"
   ]
  },
  {
   "cell_type": "code",
   "execution_count": 33,
   "metadata": {},
   "outputs": [],
   "source": [
    "#merge windows with motifs and create output bed file\n",
    "merge_windows_motifs(window_bed,mapped_motif_bed,window_motifs_bed)"
   ]
  },
  {
   "cell_type": "code",
   "execution_count": 70,
   "metadata": {},
   "outputs": [],
   "source": [
    "#make shannon df\n",
    "shannon_df = calculate_shannon_diversity(window_motifs_bed)"
   ]
  },
  {
   "cell_type": "code",
   "execution_count": 74,
   "metadata": {},
   "outputs": [],
   "source": [
    "#write out df\n",
    "shannon_df.to_csv(TF_diversity_bed,index=False,sep='\\t',header=1)"
   ]
  },
  {
   "cell_type": "code",
   "execution_count": null,
   "metadata": {},
   "outputs": [],
   "source": []
  }
 ],
 "metadata": {
  "kernelspec": {
   "display_name": "Python [conda env:PromoterArchitecturePipeline] *",
   "language": "python",
   "name": "conda-env-PromoterArchitecturePipeline-py"
  },
  "language_info": {
   "codemirror_mode": {
    "name": "ipython",
    "version": 3
   },
   "file_extension": ".py",
   "mimetype": "text/x-python",
   "name": "python",
   "nbconvert_exporter": "python",
   "pygments_lexer": "ipython3",
   "version": "3.7.6"
  }
 },
 "nbformat": 4,
 "nbformat_minor": 4
}
