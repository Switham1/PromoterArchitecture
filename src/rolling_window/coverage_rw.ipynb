{
 "cells": [
  {
   "cell_type": "code",
   "execution_count": 1,
   "metadata": {},
   "outputs": [],
   "source": [
    "import os\n",
    "import argparse\n",
    "import pandas as pd\n",
    "import numpy as np\n",
    "import io\n",
    "from pybedtools import BedTool"
   ]
  },
  {
   "cell_type": "code",
   "execution_count": null,
   "metadata": {},
   "outputs": [],
   "source": [
    "parser = argparse.ArgumentParser(description='coverage_rw')\n",
    "parser.add_argument('file_names', type=str, help='Name of folder and filenames for the promoters extracted')\n",
    "parser.add_argument('output_directory', type=str, help='Name of output directory')\n",
    "parser.add_argument('window_bed', type=str, help='Input location of rolling window bed file')\n",
    "parser.add_argument('input_coverage_bed', type=str, help='Input location of bed file for which % coverage is being calculated for')\n",
    "parser.add_argument('output_coverage_bed', type=str, help='Output location of rolling window % coverage bed file')\n",
    "args = parser.parse_args()\n"
   ]
  },
  {
   "cell_type": "code",
   "execution_count": 2,
   "metadata": {},
   "outputs": [],
   "source": [
    "file_names = 'non-overlapping_includingbidirectional_all_genes_newannotation'\n",
    "directory_path = '../..'\n",
    "#promoter_bedfile = f'../../data/output/{file_names}/FIMO/promoters_5UTR.bed'\n",
    "motifs_bed = f'../../data/output/{file_names}/FIMO/promoters_5UTR_motifs.bed'\n",
    "TFBS_coverage_bed = f'{directory_path}/data/output/{file_names}/rolling_window/TFBS_coverage_rw/promoters_5UTR_bpcovered_rw.bed'\n",
    "window_bed = f'{directory_path}/data/output/{file_names}/rolling_window/promoters_5UTR_windows.bed'\n",
    "#overlapping_proms = f'{directory_path}/data/output/{file_names}/overlapping_promoters.bed'"
   ]
  },
  {
   "cell_type": "code",
   "execution_count": 7,
   "metadata": {},
   "outputs": [],
   "source": [
    "def coverage_bed(window_bed, input_coverage_bed, output_coverage_bed):\n",
    "    \"\"\"function to calculate %coverage on sliding windows\"\"\"\n",
    "    windows = BedTool(window_bed)\n",
    "    motifs = BedTool(input_coverage_bed)\n",
    "    #calculate TFBS coverage and save the output file\n",
    "    coverage = windows.coverage(motifs, output=output_coverage_bed)"
   ]
  },
  {
   "cell_type": "code",
   "execution_count": null,
   "metadata": {},
   "outputs": [],
   "source": [
    "#make directory for the output files to be exported to\n",
    "#dirName = f'{args.directory_path}/data/output/{args.file_names}'\n",
    "dirName = f'../../data/output/{file_names}/rolling_window/{output_directory}'\n",
    "try:\n",
    "    # Create target Directory\n",
    "    os.mkdir(dirName)\n",
    "    print(\"Directory \" , dirName ,  \" created\") \n",
    "except FileExistsError:\n",
    "    print(\"Directory \" , dirName ,  \" already exists\")"
   ]
  },
  {
   "cell_type": "code",
   "execution_count": 8,
   "metadata": {},
   "outputs": [],
   "source": [
    "coverage_bed(window_bed, input_coverage_bed, output_coverage_bed)"
   ]
  },
  {
   "cell_type": "code",
   "execution_count": null,
   "metadata": {},
   "outputs": [],
   "source": []
  }
 ],
 "metadata": {
  "kernelspec": {
   "display_name": "Python [conda env:PromoterArchitecturePipeline] *",
   "language": "python",
   "name": "conda-env-PromoterArchitecturePipeline-py"
  },
  "language_info": {
   "codemirror_mode": {
    "name": "ipython",
    "version": 3
   },
   "file_extension": ".py",
   "mimetype": "text/x-python",
   "name": "python",
   "nbconvert_exporter": "python",
   "pygments_lexer": "ipython3",
   "version": "3.7.6"
  }
 },
 "nbformat": 4,
 "nbformat_minor": 4
}
