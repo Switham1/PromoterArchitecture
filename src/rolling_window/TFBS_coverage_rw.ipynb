{
 "cells": [
  {
   "cell_type": "code",
   "execution_count": null,
   "metadata": {},
   "outputs": [],
   "source": [
    "#try using https://daler.github.io/pybedtools/autodocs/pybedtools.bedtool.BedTool.window_maker.html"
   ]
  },
  {
   "cell_type": "code",
   "execution_count": 87,
   "metadata": {},
   "outputs": [],
   "source": [
    "import os\n",
    "import argparse\n",
    "import pandas as pd\n",
    "from pybedtools import BedTool"
   ]
  },
  {
   "cell_type": "code",
   "execution_count": 79,
   "metadata": {},
   "outputs": [
    {
     "data": {
      "text/plain": [
       "_StoreAction(option_strings=[], dest='window_gap', nargs=None, const=None, default=None, type=<class 'int'>, choices=None, help='Size of the gap between each rolling window in bp', metavar=None)"
      ]
     },
     "execution_count": 79,
     "metadata": {},
     "output_type": "execute_result"
    }
   ],
   "source": [
    "parser = argparse.ArgumentParser(description='TFBS_coverage_rw')\n",
    "parser.add_argument('directory_path', type=str, help='Location of base directory')\n",
    "parser.add_argument('file_names', type=str, help='Name of folder and filenames for the promoters extracted')\n",
    "parser.add_argument('promoter_bedfile', type=str, help='Input location of promoter bedfile')\n",
    "parser.add_argument('motifs_bed', type=str, help='Input location of motifs bed file')\n",
    "parser.add_argument('TFBS_coverage_bed', type=str, help='Output location of rolling window bed file')\n",
    "parser.add_argument('window_bed', type=str, help='Output location of rolling window bed file')\n",
    "parser.add_argument('window_size', type=int, help='Size of the rolling window in bp')\n",
    "parser.add_argument('step_size', type=int, help='Size of the window offset in bp')\n"
   ]
  },
  {
   "cell_type": "code",
   "execution_count": 97,
   "metadata": {},
   "outputs": [],
   "source": [
    "def window_split(promoter_bed, motifs_bed, output_bed, window_size, step_size):\n",
    "    \"\"\"function to split promoters into rolling windows\"\"\"\n",
    "    proms = BedTool(promoter_bed)\n",
    "    #make the sliding windows\n",
    "    #w = window size\n",
    "    #s = step size\n",
    "    #n = no. of windows\n",
    "    #i = srcwinnum (use source interval name with the window number)\n",
    "    windows = BedTool().window_maker(b=proms, w=window_size, s=step_size, i='srcwinnum')\n",
    "    \n",
    "    with open(output_bed, 'w') as output:\n",
    "        output.write(str(windows))\n",
    "    return windows"
   ]
  },
  {
   "cell_type": "code",
   "execution_count": 84,
   "metadata": {},
   "outputs": [],
   "source": [
    "def window_splitold(promoter_bed, motifs_bed, output_bed, window_size, step_size):\n",
    "    \"\"\"function to split promoters into rolling windows\"\"\"\n",
    "    #read promoters and motifs into dfs and add column names\n",
    "    proms = pd.read_table(promoter_bed, sep='\\t')\n",
    "    motifs = pd.read_table(motifs_bed, sep='\\t')\n",
    "    cols = ['chr', 'start', 'stop', 'AGI','dot1','strand','source','type','dot2','attributes']\n",
    "    cols2 = ['chr','correct_start','correct_stop', 'motif_id', 'score', 'strand_x', 'sequence_name', 'p-value', 'q-value', 'matched_sequence']\n",
    "    proms.columns = cols\n",
    "    motifs.columns = cols2\n",
    "    #rolling window\n",
    "\n",
    "    return proms"
   ]
  },
  {
   "cell_type": "code",
   "execution_count": 91,
   "metadata": {},
   "outputs": [],
   "source": [
    "proms = window_split(promoter_bedfile,motifs_bed,window_bed, window_size, step_size)"
   ]
  },
  {
   "cell_type": "code",
   "execution_count": 95,
   "metadata": {},
   "outputs": [],
   "source": [
    "\n"
   ]
  },
  {
   "cell_type": "code",
   "execution_count": 96,
   "metadata": {},
   "outputs": [],
   "source": [
    "file_names = 'non-overlapping_includingbidirectional_all_genes_newannotationold'\n",
    "directory_path = '../..'\n",
    "promoter_bedfile = f'../../data/output/{file_names}/FIMO/promoters_5UTR.bed'\n",
    "motifs_bed = f'../../data/output/{file_names}/FIMO/promoters_5UTR_motifs.bed'\n",
    "TFBS_coverage_bed = f'{directory_path}/data/output/{file_names}/rolling_window/TFBS_coverage_rw/promoters_5UTR_TFBS_coverage_rw.bed'\n",
    "window_bed = f'{directory_path}/data/output/{file_names}/rolling_window/promoters_5UTR_windows.bed'\n",
    "window_size = 100\n",
    "step_size = 50"
   ]
  },
  {
   "cell_type": "code",
   "execution_count": 12,
   "metadata": {},
   "outputs": [
    {
     "name": "stdout",
     "output_type": "stream",
     "text": [
      "Directory  ../../data/output/non-overlapping_includingbidirectional_all_genes_newannotation  already exists\n"
     ]
    }
   ],
   "source": [
    "#make directory for the output files to be exported to\n",
    "#dirName = f'{args.directory_path}/data/output/{args.file_names}'\n",
    "dirName = f'{directory_path}/data/output/{file_names}'\n",
    "try:\n",
    "    # Create target Directory\n",
    "    os.mkdir(dirName)\n",
    "    print(\"Directory \" , dirName ,  \" created\") \n",
    "except FileExistsError:\n",
    "    print(\"Directory \" , dirName ,  \" already exists\")"
   ]
  },
  {
   "cell_type": "code",
   "execution_count": 13,
   "metadata": {},
   "outputs": [
    {
     "name": "stdout",
     "output_type": "stream",
     "text": [
      "Directory  ../../data/output/non-overlapping_includingbidirectional_all_genes_newannotation/rolling_window  created\n"
     ]
    }
   ],
   "source": [
    "#make directory for the output files to be exported to\n",
    "#dirName = f'{args.directory_path}/data/output/{args.file_names}'\n",
    "dirName = f'{directory_path}/data/output/{file_names}/rolling_window'\n",
    "try:\n",
    "    # Create target Directory\n",
    "    os.mkdir(dirName)\n",
    "    print(\"Directory \" , dirName ,  \" created\") \n",
    "except FileExistsError:\n",
    "    print(\"Directory \" , dirName ,  \" already exists\")"
   ]
  },
  {
   "cell_type": "code",
   "execution_count": 14,
   "metadata": {},
   "outputs": [
    {
     "name": "stdout",
     "output_type": "stream",
     "text": [
      "Directory  ../../data/output/non-overlapping_includingbidirectional_all_genes_newannotation/rolling_window/TFBS_coverage_rw  created\n"
     ]
    }
   ],
   "source": [
    "#make directory for the output files to be exported to\n",
    "#dirName = f'{args.directory_path}/data/output/{args.file_names}'\n",
    "dirName = f'{directory_path}/data/output/{file_names}/rolling_window/TFBS_coverage_rw'\n",
    "try:\n",
    "    # Create target Directory\n",
    "    os.mkdir(dirName)\n",
    "    print(\"Directory \" , dirName ,  \" created\") \n",
    "except FileExistsError:\n",
    "    print(\"Directory \" , dirName ,  \" already exists\")"
   ]
  },
  {
   "cell_type": "code",
   "execution_count": null,
   "metadata": {},
   "outputs": [],
   "source": []
  }
 ],
 "metadata": {
  "kernelspec": {
   "display_name": "Python [conda env:PromoterArchitecturePipeline] *",
   "language": "python",
   "name": "conda-env-PromoterArchitecturePipeline-py"
  },
  "language_info": {
   "codemirror_mode": {
    "name": "ipython",
    "version": 3
   },
   "file_extension": ".py",
   "mimetype": "text/x-python",
   "name": "python",
   "nbconvert_exporter": "python",
   "pygments_lexer": "ipython3",
   "version": "3.7.6"
  }
 },
 "nbformat": 4,
 "nbformat_minor": 4
}
