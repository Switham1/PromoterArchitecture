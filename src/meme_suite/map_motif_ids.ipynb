{
 "cells": [
  {
   "cell_type": "markdown",
   "metadata": {},
   "source": [
    "#### this script renames the 4th column of the promoter_motifs.bed to the Arabidopsis gene ID nomenclature (eg. AT4G3800)"
   ]
  },
  {
   "cell_type": "code",
   "execution_count": 1,
   "metadata": {},
   "outputs": [],
   "source": [
    "import pandas as pd\n",
    "#import argparse\n",
    "from pybedtools import BedTool\n",
    "import re\n",
    "import numpy as np"
   ]
  },
  {
   "cell_type": "code",
   "execution_count": null,
   "metadata": {},
   "outputs": [],
   "source": [
    "# parser = argparse.ArgumentParser(description='motif_rename')\n",
    "# parser.add_argument('motifs_bed', type=str, help='Input location of *motifs.bed file')\n",
    "# parser.add_argument('motifs_bed_renamed', type=str, help='Output location of promoter bed file')\n",
    "# parser.add_argument('genome_gff', type=str, help='Input location of genome gff file')\n",
    "# parser.add_argument('genome_db', type=str, help='Output location of genome gff database')"
   ]
  },
  {
   "cell_type": "code",
   "execution_count": 2,
   "metadata": {},
   "outputs": [],
   "source": [
    "def rename_motif(motifs_bed):\n",
    "    \"\"\"function to add a TF name column in the motifs.bed file\"\"\"\n",
    "    #read in motifs_bed_file\n",
    "    motifs = pd.read_table(motifs_bed, sep='\\t', header=None)\n",
    "    cols = ['chr', 'start', 'stop', 'name_rep', 'score', 'strand']\n",
    "    motifs.columns = cols\n",
    "    motifs['TF'] = motifs.name_rep    \n",
    "    capitalise = lambda x: x.upper()\n",
    "    motifs.TF = motifs.TF.apply(capitalise)\n",
    "    #replace characters upto and including the '.' in the TF column\n",
    "    motifs.TF = motifs.TF.replace('^[^\\.]*\\.', '', regex=True)\n",
    "    #replace characters after the '_'\n",
    "    motifs.TF = motifs.TF.replace('_.*$', '', regex=True)\n",
    "    return motifs"
   ]
  },
  {
   "cell_type": "code",
   "execution_count": 127,
   "metadata": {},
   "outputs": [],
   "source": [
    "#depracated\n",
    "# def create_geneID_table(uniprot_dat):\n",
    "#     \"\"\"This function uses the genomic .gff file to replace gene ALIAS names with gene ID's\"\"\"\n",
    "#     uniprot_df = pd.read_table(uniprot_dat, sep='\\t', header=None)\n",
    "#     cols = ['code','category','ID']\n",
    "#     uniprot_df.columns = cols\n",
    "#     #drop duplicates of columns 'code' and 'category'\n",
    "#     uniprot_no_dups = uniprot_df.sort_values('ID').drop_duplicates(subset=['code', 'category'], keep='last')\n",
    "#     #pivot table based on the 'code' column\n",
    "#     pivot = uniprot_no_dups.pivot(index='code', columns='category', values='ID')\n",
    "#     #focus on columns of interest\n",
    "#     geneID_table = pivot[['EnsemblGenome', 'Araport', 'Gene_OrderedLocusName', 'Gene_Name', 'Gene_Synonym']]    \n",
    "#     return geneID_table"
   ]
  },
  {
   "cell_type": "code",
   "execution_count": 149,
   "metadata": {},
   "outputs": [],
   "source": [
    "#depracated\n",
    "# def map_ID(renamed_motifs_df, geneIDtable, output_bed):\n",
    "#     \"\"\"This function uses the geneIDtable to replace gene ALIAS names in a dataframe with gene ID's\"\"\"\n",
    "#     #renamed_motifs_df.TF\n",
    "#     #mapped_IDs = renamed_motifs_df.TF\n",
    "#     #renamed_motifs_df['gene_id'] = renamed_motifs_df.apply(lambda x: (x.TF in geneIDtable.Gene_Name), axis='columns')\n",
    "#     #renamed_motifs_df['gene_id'] = renamed_motifs_df.TF in geneIDtable.Gene_Name\n",
    "#     #change columns to uppercase\n",
    "#     motifs = renamed_motifs_df\n",
    "#     motifs.TF = renamed_motifs_df.TF.apply(lambda x: str(x).upper())\n",
    "# #     geneIDtable.Gene_Name = geneIDtable.Gene_Name.apply(lambda x: str(x).upper())\n",
    "# #     geneIDtable.Gene_OrderedLocusName = geneIDtable.Gene_OrderedLocusName.apply(lambda x: str(x).upper())\n",
    "# #     geneIDtable.Araport = geneIDtable.Araport.apply(lambda x: str(x).upper())\n",
    "# #     geneIDtable.EnsemblGenome = geneIDtable.EnsemblGenome.apply(lambda x: str(x).upper())   \n",
    "# #     geneIDtable.Gene_Synonym = geneIDtable.Gene_Synonym.apply(lambda x: str(x).upper())\n",
    "#     #merged1 = pd.merge(motifs, geneIDtable, how='left', left_on = 'TF', right_on = 'Gene_Name')\n",
    "# #     motifs['gene_id'] = motifs[motifs.TF == geneIDtable.Gene_Name]\n",
    "# #     #motifs['gene_id'] = motifs.apply(lambda x: (str(x.TF) in str(geneIDtable.Gene_Name)), axis='columns')\n",
    "# #     for index, row in renamed_motifs_df.iterrows():\n",
    "# #         if row.TF in (geneIDtable.Gene_Name.upper()):\n",
    "# # #             print(row.TF)    \n",
    "    \n",
    "# #     #elif renamed_motifs_df.TF.isin(geneIDtable.Gene_Synonym):\n",
    "            \n",
    "         \n",
    "#     #mapped_IDs = renamed_motifs_df.apply(lambda x: x[''])\n",
    "#     #return motifs[motifs['gene_id']==True]\n",
    "#     return motifs "
   ]
  },
  {
   "cell_type": "code",
   "execution_count": 13,
   "metadata": {},
   "outputs": [],
   "source": [
    "def json2table(json_file):\n",
    "    \"\"\"function to read in json file and convert it to a table\"\"\"\n",
    "    mmt_df_full = pd.read_json(json_file, orient='record')\n",
    "    return mmt_df_full"
   ]
  },
  {
   "cell_type": "code",
   "execution_count": 3,
   "metadata": {},
   "outputs": [],
   "source": [
    "def map_ID2(motifs, geneIDtable, output_bed):\n",
    "   \n",
    "    \"\"\"function to rename the TF column values in a motifs.bed file to the Arabidopsis gene ID nomenclature\"\"\"\n",
    "    #print(motifs.shape)\n",
    "    #remove '_m' from end of name_rep value in motifs\n",
    "    motifs.name_rep = motifs.name_rep.str.replace('_m1', '')\n",
    "    merged = pd.merge(motifs,geneIDtable, on='name_rep')\n",
    "    #print(merged.shape)\n",
    "    #make bed file\n",
    "    sorted_motifs = merged.sort_values(['chr','start'])\n",
    "    bed = BedTool.from_dataframe(sorted_motifs).saveas(output_bed)\n"
   ]
  },
  {
   "cell_type": "code",
   "execution_count": null,
   "metadata": {},
   "outputs": [],
   "source": [
    "#downloaded table from http://neomorph.salk.edu/dev/pages/shhuang/dap_web/pages/dap-grid-data3.php?_=1573587374712"
   ]
  },
  {
   "cell_type": "markdown",
   "metadata": {},
   "source": [
    "#### I downloaded the mapping table from 'http://neomorph.salk.edu/dev/pages/shhuang/dap_web/pages/browse_table_aj.php'. There was no download for this so to do this, I inspected the element in chrome and found the link 'http://neomorph.salk.edu/dev/pages/shhuang/dap_web/pages/dap-grid-data3.php?_=1573587374712'. Then I downloaded the .html but named it dap-grid-data3.json. To make it into .json format, I removed the first line '<html><head>'. On the second line I removed up until the '[' after data (removed '<meta http-equiv=\"content-type\" content=\"text/html; charset=UTF-8\"></head><body>{\"data\":'. I removed '}</body></html>' from the end making sure the start and end were encapsulated by square brackets []."
   ]
  },
  {
   "cell_type": "markdown",
   "metadata": {},
   "source": [
    "### point to file locations:"
   ]
  },
  {
   "cell_type": "code",
   "execution_count": 10,
   "metadata": {},
   "outputs": [],
   "source": [
    "motif_mapping_table = '../../data/FIMO/motif_data/dap-grid-data3.json'\n",
    "motifs_bed = '../../data/FIMO/promoters_renamedChr_motifs.bed'\n",
    "motifs_bed_mapped = '../../data/FIMO/promoters_renamedChr_motifs_mapped.bed'"
   ]
  },
  {
   "cell_type": "code",
   "execution_count": 203,
   "metadata": {},
   "outputs": [],
   "source": [
    "#mmt_df_full = pd.read_json(motif_mapping_table, orient='record')\n",
    "#mmt_df = mmt_df[['name_rep', 'at_id']]\n",
    "mmt_df.to_csv('../../data/FIMO/motif_data/motif_map_IDs.txt', index=False, sep='\\t')\n"
   ]
  },
  {
   "cell_type": "code",
   "execution_count": 202,
   "metadata": {},
   "outputs": [],
   "source": [
    "mmt_df_full = pd.read_json(motif_mapping_table, orient='record')\n",
    "mmt_df_full.to_csv('../../data/FIMO/motif_data/motif_map.txt', index=False, sep='\\t')"
   ]
  },
  {
   "cell_type": "markdown",
   "metadata": {},
   "source": [
    "### run functions:"
   ]
  },
  {
   "cell_type": "code",
   "execution_count": 223,
   "metadata": {},
   "outputs": [],
   "source": [
    "motifs_renamed = rename_motif(motifs_bed)"
   ]
  },
  {
   "cell_type": "code",
   "execution_count": 14,
   "metadata": {},
   "outputs": [],
   "source": [
    "mmt_df_full = json2table(motif_mapping_table)"
   ]
  },
  {
   "cell_type": "code",
   "execution_count": 15,
   "metadata": {},
   "outputs": [],
   "source": [
    "mmt_df_motif_IDs = mmt_df_full[['name_rep', 'at_id']]"
   ]
  },
  {
   "cell_type": "code",
   "execution_count": 16,
   "metadata": {},
   "outputs": [
    {
     "data": {
      "text/html": [
       "<div>\n",
       "<style scoped>\n",
       "    .dataframe tbody tr th:only-of-type {\n",
       "        vertical-align: middle;\n",
       "    }\n",
       "\n",
       "    .dataframe tbody tr th {\n",
       "        vertical-align: top;\n",
       "    }\n",
       "\n",
       "    .dataframe thead th {\n",
       "        text-align: right;\n",
       "    }\n",
       "</style>\n",
       "<table border=\"1\" class=\"dataframe\">\n",
       "  <thead>\n",
       "    <tr style=\"text-align: right;\">\n",
       "      <th></th>\n",
       "      <th>name_rep</th>\n",
       "      <th>at_id</th>\n",
       "    </tr>\n",
       "  </thead>\n",
       "  <tbody>\n",
       "    <tr>\n",
       "      <th>0</th>\n",
       "      <td>ABI3VP1_tnt.AT5G18090_col_a</td>\n",
       "      <td>AT5G18090</td>\n",
       "    </tr>\n",
       "    <tr>\n",
       "      <th>1</th>\n",
       "      <td>ABI3VP1_tnt.AT5G25475_col_a</td>\n",
       "      <td>AT5G25475</td>\n",
       "    </tr>\n",
       "    <tr>\n",
       "      <th>2</th>\n",
       "      <td>ABI3VP1_tnt.AT5G60130_col_a</td>\n",
       "      <td>AT5G60130</td>\n",
       "    </tr>\n",
       "    <tr>\n",
       "      <th>3</th>\n",
       "      <td>ABI3VP1_tnt.AT5G60130_colamp_a</td>\n",
       "      <td>AT5G60130</td>\n",
       "    </tr>\n",
       "    <tr>\n",
       "      <th>4</th>\n",
       "      <td>ABI3VP1_tnt.FUS3_col_a</td>\n",
       "      <td>AT3G26790</td>\n",
       "    </tr>\n",
       "    <tr>\n",
       "      <th>...</th>\n",
       "      <td>...</td>\n",
       "      <td>...</td>\n",
       "    </tr>\n",
       "    <tr>\n",
       "      <th>867</th>\n",
       "      <td>bZIP_tnt.bZIP68_col_a</td>\n",
       "      <td>AT1G32150</td>\n",
       "    </tr>\n",
       "    <tr>\n",
       "      <th>868</th>\n",
       "      <td>bZIP_tnt.bZIP69_col_a</td>\n",
       "      <td>AT1G06070</td>\n",
       "    </tr>\n",
       "    <tr>\n",
       "      <th>869</th>\n",
       "      <td>bZIP_tnt.bZIP69_colamp_a</td>\n",
       "      <td>AT1G06070</td>\n",
       "    </tr>\n",
       "    <tr>\n",
       "      <th>870</th>\n",
       "      <td>mTERF_tnt.AT5G23930_col_a</td>\n",
       "      <td>AT5G23930</td>\n",
       "    </tr>\n",
       "    <tr>\n",
       "      <th>871</th>\n",
       "      <td>zfGRF_tnt.AT3G42860_col_a</td>\n",
       "      <td>AT3G42860</td>\n",
       "    </tr>\n",
       "  </tbody>\n",
       "</table>\n",
       "<p>872 rows × 2 columns</p>\n",
       "</div>"
      ],
      "text/plain": [
       "                           name_rep      at_id\n",
       "0       ABI3VP1_tnt.AT5G18090_col_a  AT5G18090\n",
       "1       ABI3VP1_tnt.AT5G25475_col_a  AT5G25475\n",
       "2       ABI3VP1_tnt.AT5G60130_col_a  AT5G60130\n",
       "3    ABI3VP1_tnt.AT5G60130_colamp_a  AT5G60130\n",
       "4            ABI3VP1_tnt.FUS3_col_a  AT3G26790\n",
       "..                              ...        ...\n",
       "867           bZIP_tnt.bZIP68_col_a  AT1G32150\n",
       "868           bZIP_tnt.bZIP69_col_a  AT1G06070\n",
       "869        bZIP_tnt.bZIP69_colamp_a  AT1G06070\n",
       "870       mTERF_tnt.AT5G23930_col_a  AT5G23930\n",
       "871       zfGRF_tnt.AT3G42860_col_a  AT3G42860\n",
       "\n",
       "[872 rows x 2 columns]"
      ]
     },
     "execution_count": 16,
     "metadata": {},
     "output_type": "execute_result"
    }
   ],
   "source": [
    "mmt_df_motif_IDs"
   ]
  },
  {
   "cell_type": "code",
   "execution_count": 232,
   "metadata": {},
   "outputs": [],
   "source": [
    "map_ID2(motifs_renamed, mmt_df_motif_IDs, motifs_bed_mapped)"
   ]
  },
  {
   "cell_type": "markdown",
   "metadata": {},
   "source": [
    "#### write out the motif_mapping_table to file (motif_map.txt) and also the one with filtered columns to motif_map_IDs.txt"
   ]
  },
  {
   "cell_type": "code",
   "execution_count": null,
   "metadata": {},
   "outputs": [],
   "source": [
    "mmt_df_motif_IDs.to_csv('../../data/FIMO/motif_data/motif_map_IDs.txt', index=False, sep='\\t')"
   ]
  },
  {
   "cell_type": "code",
   "execution_count": null,
   "metadata": {},
   "outputs": [],
   "source": [
    "mmt_df_full.to_csv('../../data/FIMO/motif_data/motif_map.txt', index=False, sep='\\t')"
   ]
  },
  {
   "cell_type": "code",
   "execution_count": 131,
   "metadata": {},
   "outputs": [],
   "source": [
    "#geneID_table = create_geneID_table(uniprot_database) \n",
    "#not using uniprot database anymore"
   ]
  },
  {
   "cell_type": "code",
   "execution_count": 151,
   "metadata": {},
   "outputs": [
    {
     "name": "stdout",
     "output_type": "stream",
     "text": [
      "category    Gene_Name Gene_Synonym\n",
      "code                              \n",
      "A0A023T4L8        LFY          NAN\n",
      "A0A060D9F2    FRIGIDA          NAN\n",
      "A0A068FHR7        NAN          NAN\n",
      "A0A068FHS2        NAN          NAN\n",
      "A0A068FIL1        NAN          NAN\n",
      "...               ...          ...\n",
      "X5JAD2         SEC10B          NAN\n",
      "X5JAK7      AT5G12350          NAN\n",
      "X5JAK8         ANNAT8    AT5G12380\n",
      "X5JAX7      AT5G12390    FISSION1B\n",
      "X5JB51         SEC10B          NAN\n",
      "\n",
      "[94598 rows x 2 columns]\n"
     ]
    }
   ],
   "source": [
    "print(geneID_table[['Gene_Name', 'Gene_Synonym']])"
   ]
  },
  {
   "cell_type": "code",
   "execution_count": 5,
   "metadata": {},
   "outputs": [],
   "source": [
    "motifs_renamed = rename_motif('../../data/FIMO/responsivepromoters_motifs.bed')"
   ]
  },
  {
   "cell_type": "code",
   "execution_count": 6,
   "metadata": {},
   "outputs": [
    {
     "data": {
      "text/html": [
       "<div>\n",
       "<style scoped>\n",
       "    .dataframe tbody tr th:only-of-type {\n",
       "        vertical-align: middle;\n",
       "    }\n",
       "\n",
       "    .dataframe tbody tr th {\n",
       "        vertical-align: top;\n",
       "    }\n",
       "\n",
       "    .dataframe thead th {\n",
       "        text-align: right;\n",
       "    }\n",
       "</style>\n",
       "<table border=\"1\" class=\"dataframe\">\n",
       "  <thead>\n",
       "    <tr style=\"text-align: right;\">\n",
       "      <th></th>\n",
       "      <th>chr</th>\n",
       "      <th>start</th>\n",
       "      <th>stop</th>\n",
       "      <th>name_rep</th>\n",
       "      <th>score</th>\n",
       "      <th>strand</th>\n",
       "      <th>TF</th>\n",
       "    </tr>\n",
       "  </thead>\n",
       "  <tbody>\n",
       "    <tr>\n",
       "      <th>0</th>\n",
       "      <td>1</td>\n",
       "      <td>33629</td>\n",
       "      <td>33647</td>\n",
       "      <td>ABI3VP1_tnt.VRN1_colamp_a_m1</td>\n",
       "      <td>7.86301</td>\n",
       "      <td>-</td>\n",
       "      <td>VRN1</td>\n",
       "    </tr>\n",
       "    <tr>\n",
       "      <th>1</th>\n",
       "      <td>1</td>\n",
       "      <td>33961</td>\n",
       "      <td>33979</td>\n",
       "      <td>ABI3VP1_tnt.VRN1_colamp_a_m1</td>\n",
       "      <td>10.71230</td>\n",
       "      <td>+</td>\n",
       "      <td>VRN1</td>\n",
       "    </tr>\n",
       "    <tr>\n",
       "      <th>2</th>\n",
       "      <td>1</td>\n",
       "      <td>33962</td>\n",
       "      <td>33982</td>\n",
       "      <td>REM_tnt.REM19_colamp_a_m1</td>\n",
       "      <td>11.16180</td>\n",
       "      <td>-</td>\n",
       "      <td>REM19</td>\n",
       "    </tr>\n",
       "    <tr>\n",
       "      <th>3</th>\n",
       "      <td>1</td>\n",
       "      <td>33964</td>\n",
       "      <td>33982</td>\n",
       "      <td>ABI3VP1_tnt.VRN1_colamp_a_m1</td>\n",
       "      <td>10.35620</td>\n",
       "      <td>+</td>\n",
       "      <td>VRN1</td>\n",
       "    </tr>\n",
       "    <tr>\n",
       "      <th>4</th>\n",
       "      <td>1</td>\n",
       "      <td>34064</td>\n",
       "      <td>34084</td>\n",
       "      <td>ND_tnt.FRS9_col_a_m1</td>\n",
       "      <td>7.51562</td>\n",
       "      <td>+</td>\n",
       "      <td>FRS9</td>\n",
       "    </tr>\n",
       "    <tr>\n",
       "      <th>...</th>\n",
       "      <td>...</td>\n",
       "      <td>...</td>\n",
       "      <td>...</td>\n",
       "      <td>...</td>\n",
       "      <td>...</td>\n",
       "      <td>...</td>\n",
       "      <td>...</td>\n",
       "    </tr>\n",
       "    <tr>\n",
       "      <th>16242</th>\n",
       "      <td>5</td>\n",
       "      <td>26957500</td>\n",
       "      <td>26957518</td>\n",
       "      <td>C2H2_tnt.TF3A_col_a_m1</td>\n",
       "      <td>11.18640</td>\n",
       "      <td>-</td>\n",
       "      <td>TF3A</td>\n",
       "    </tr>\n",
       "    <tr>\n",
       "      <th>16243</th>\n",
       "      <td>5</td>\n",
       "      <td>26957503</td>\n",
       "      <td>26957521</td>\n",
       "      <td>C2H2_tnt.TF3A_col_a_m1</td>\n",
       "      <td>12.82200</td>\n",
       "      <td>-</td>\n",
       "      <td>TF3A</td>\n",
       "    </tr>\n",
       "    <tr>\n",
       "      <th>16244</th>\n",
       "      <td>5</td>\n",
       "      <td>26957535</td>\n",
       "      <td>26957563</td>\n",
       "      <td>BBRBPC_tnt.BPC5_colamp_a_m1</td>\n",
       "      <td>3.36047</td>\n",
       "      <td>+</td>\n",
       "      <td>BPC5</td>\n",
       "    </tr>\n",
       "    <tr>\n",
       "      <th>16245</th>\n",
       "      <td>5</td>\n",
       "      <td>26957541</td>\n",
       "      <td>26957564</td>\n",
       "      <td>BBRBPC_tnt.BPC1_col_a_m1</td>\n",
       "      <td>1.12500</td>\n",
       "      <td>+</td>\n",
       "      <td>BPC1</td>\n",
       "    </tr>\n",
       "    <tr>\n",
       "      <th>16246</th>\n",
       "      <td>5</td>\n",
       "      <td>26957542</td>\n",
       "      <td>26957571</td>\n",
       "      <td>BBRBPC_tnt.BPC5_col_a_m1</td>\n",
       "      <td>-26.69620</td>\n",
       "      <td>+</td>\n",
       "      <td>BPC5</td>\n",
       "    </tr>\n",
       "  </tbody>\n",
       "</table>\n",
       "<p>16247 rows × 7 columns</p>\n",
       "</div>"
      ],
      "text/plain": [
       "       chr     start      stop                      name_rep     score strand  \\\n",
       "0        1     33629     33647  ABI3VP1_tnt.VRN1_colamp_a_m1   7.86301      -   \n",
       "1        1     33961     33979  ABI3VP1_tnt.VRN1_colamp_a_m1  10.71230      +   \n",
       "2        1     33962     33982     REM_tnt.REM19_colamp_a_m1  11.16180      -   \n",
       "3        1     33964     33982  ABI3VP1_tnt.VRN1_colamp_a_m1  10.35620      +   \n",
       "4        1     34064     34084          ND_tnt.FRS9_col_a_m1   7.51562      +   \n",
       "...    ...       ...       ...                           ...       ...    ...   \n",
       "16242    5  26957500  26957518        C2H2_tnt.TF3A_col_a_m1  11.18640      -   \n",
       "16243    5  26957503  26957521        C2H2_tnt.TF3A_col_a_m1  12.82200      -   \n",
       "16244    5  26957535  26957563   BBRBPC_tnt.BPC5_colamp_a_m1   3.36047      +   \n",
       "16245    5  26957541  26957564      BBRBPC_tnt.BPC1_col_a_m1   1.12500      +   \n",
       "16246    5  26957542  26957571      BBRBPC_tnt.BPC5_col_a_m1 -26.69620      +   \n",
       "\n",
       "          TF  \n",
       "0       VRN1  \n",
       "1       VRN1  \n",
       "2      REM19  \n",
       "3       VRN1  \n",
       "4       FRS9  \n",
       "...      ...  \n",
       "16242   TF3A  \n",
       "16243   TF3A  \n",
       "16244   BPC5  \n",
       "16245   BPC1  \n",
       "16246   BPC5  \n",
       "\n",
       "[16247 rows x 7 columns]"
      ]
     },
     "execution_count": 6,
     "metadata": {},
     "output_type": "execute_result"
    }
   ],
   "source": [
    "motifs_renamed"
   ]
  },
  {
   "cell_type": "code",
   "execution_count": 8,
   "metadata": {},
   "outputs": [
    {
     "ename": "TypeError",
     "evalue": "Can only merge Series or DataFrame objects, a <class 'str'> was passed",
     "output_type": "error",
     "traceback": [
      "\u001b[0;31m---------------------------------------------------------------------------\u001b[0m",
      "\u001b[0;31mTypeError\u001b[0m                                 Traceback (most recent call last)",
      "\u001b[0;32m<ipython-input-8-c775e67ddfd5>\u001b[0m in \u001b[0;36m<module>\u001b[0;34m\u001b[0m\n\u001b[0;32m----> 1\u001b[0;31m \u001b[0mmap_ID2\u001b[0m\u001b[0;34m(\u001b[0m\u001b[0mmotifs_renamed\u001b[0m\u001b[0;34m,\u001b[0m \u001b[0;34m'../../data/FIMO/motif_data/motif_map_IDs.txt'\u001b[0m\u001b[0;34m,\u001b[0m \u001b[0;34m'../../data/FIMO/responsivepromoters_motifs_mapped.bed'\u001b[0m\u001b[0;34m)\u001b[0m\u001b[0;34m\u001b[0m\u001b[0;34m\u001b[0m\u001b[0m\n\u001b[0m",
      "\u001b[0;32m<ipython-input-3-4880456fe21b>\u001b[0m in \u001b[0;36mmap_ID2\u001b[0;34m(motifs, geneIDtable, output_bed)\u001b[0m\n\u001b[1;32m      5\u001b[0m     \u001b[0;31m#remove '_m' from end of name_rep value in motifs\u001b[0m\u001b[0;34m\u001b[0m\u001b[0;34m\u001b[0m\u001b[0;34m\u001b[0m\u001b[0m\n\u001b[1;32m      6\u001b[0m     \u001b[0mmotifs\u001b[0m\u001b[0;34m.\u001b[0m\u001b[0mname_rep\u001b[0m \u001b[0;34m=\u001b[0m \u001b[0mmotifs\u001b[0m\u001b[0;34m.\u001b[0m\u001b[0mname_rep\u001b[0m\u001b[0;34m.\u001b[0m\u001b[0mstr\u001b[0m\u001b[0;34m.\u001b[0m\u001b[0mreplace\u001b[0m\u001b[0;34m(\u001b[0m\u001b[0;34m'_m1'\u001b[0m\u001b[0;34m,\u001b[0m \u001b[0;34m''\u001b[0m\u001b[0;34m)\u001b[0m\u001b[0;34m\u001b[0m\u001b[0;34m\u001b[0m\u001b[0m\n\u001b[0;32m----> 7\u001b[0;31m     \u001b[0mmerged\u001b[0m \u001b[0;34m=\u001b[0m \u001b[0mpd\u001b[0m\u001b[0;34m.\u001b[0m\u001b[0mmerge\u001b[0m\u001b[0;34m(\u001b[0m\u001b[0mmotifs\u001b[0m\u001b[0;34m,\u001b[0m\u001b[0mgeneIDtable\u001b[0m\u001b[0;34m,\u001b[0m \u001b[0mon\u001b[0m\u001b[0;34m=\u001b[0m\u001b[0;34m'name_rep'\u001b[0m\u001b[0;34m)\u001b[0m\u001b[0;34m\u001b[0m\u001b[0;34m\u001b[0m\u001b[0m\n\u001b[0m\u001b[1;32m      8\u001b[0m     \u001b[0;31m#print(merged.shape)\u001b[0m\u001b[0;34m\u001b[0m\u001b[0;34m\u001b[0m\u001b[0;34m\u001b[0m\u001b[0m\n\u001b[1;32m      9\u001b[0m     \u001b[0;31m#make bed file\u001b[0m\u001b[0;34m\u001b[0m\u001b[0;34m\u001b[0m\u001b[0;34m\u001b[0m\u001b[0m\n",
      "\u001b[0;32m~/opt/anaconda3/envs/PromoterArchitecturePipeline/lib/python3.6/site-packages/pandas/core/reshape/merge.py\u001b[0m in \u001b[0;36mmerge\u001b[0;34m(left, right, how, on, left_on, right_on, left_index, right_index, sort, suffixes, copy, indicator, validate)\u001b[0m\n\u001b[1;32m     79\u001b[0m         \u001b[0mcopy\u001b[0m\u001b[0;34m=\u001b[0m\u001b[0mcopy\u001b[0m\u001b[0;34m,\u001b[0m\u001b[0;34m\u001b[0m\u001b[0;34m\u001b[0m\u001b[0m\n\u001b[1;32m     80\u001b[0m         \u001b[0mindicator\u001b[0m\u001b[0;34m=\u001b[0m\u001b[0mindicator\u001b[0m\u001b[0;34m,\u001b[0m\u001b[0;34m\u001b[0m\u001b[0;34m\u001b[0m\u001b[0m\n\u001b[0;32m---> 81\u001b[0;31m         \u001b[0mvalidate\u001b[0m\u001b[0;34m=\u001b[0m\u001b[0mvalidate\u001b[0m\u001b[0;34m,\u001b[0m\u001b[0;34m\u001b[0m\u001b[0;34m\u001b[0m\u001b[0m\n\u001b[0m\u001b[1;32m     82\u001b[0m     )\n\u001b[1;32m     83\u001b[0m     \u001b[0;32mreturn\u001b[0m \u001b[0mop\u001b[0m\u001b[0;34m.\u001b[0m\u001b[0mget_result\u001b[0m\u001b[0;34m(\u001b[0m\u001b[0;34m)\u001b[0m\u001b[0;34m\u001b[0m\u001b[0;34m\u001b[0m\u001b[0m\n",
      "\u001b[0;32m~/opt/anaconda3/envs/PromoterArchitecturePipeline/lib/python3.6/site-packages/pandas/core/reshape/merge.py\u001b[0m in \u001b[0;36m__init__\u001b[0;34m(self, left, right, how, on, left_on, right_on, axis, left_index, right_index, sort, suffixes, copy, indicator, validate)\u001b[0m\n\u001b[1;32m    570\u001b[0m     ):\n\u001b[1;32m    571\u001b[0m         \u001b[0mleft\u001b[0m \u001b[0;34m=\u001b[0m \u001b[0mvalidate_operand\u001b[0m\u001b[0;34m(\u001b[0m\u001b[0mleft\u001b[0m\u001b[0;34m)\u001b[0m\u001b[0;34m\u001b[0m\u001b[0;34m\u001b[0m\u001b[0m\n\u001b[0;32m--> 572\u001b[0;31m         \u001b[0mright\u001b[0m \u001b[0;34m=\u001b[0m \u001b[0mvalidate_operand\u001b[0m\u001b[0;34m(\u001b[0m\u001b[0mright\u001b[0m\u001b[0;34m)\u001b[0m\u001b[0;34m\u001b[0m\u001b[0;34m\u001b[0m\u001b[0m\n\u001b[0m\u001b[1;32m    573\u001b[0m         \u001b[0mself\u001b[0m\u001b[0;34m.\u001b[0m\u001b[0mleft\u001b[0m \u001b[0;34m=\u001b[0m \u001b[0mself\u001b[0m\u001b[0;34m.\u001b[0m\u001b[0morig_left\u001b[0m \u001b[0;34m=\u001b[0m \u001b[0mleft\u001b[0m\u001b[0;34m\u001b[0m\u001b[0;34m\u001b[0m\u001b[0m\n\u001b[1;32m    574\u001b[0m         \u001b[0mself\u001b[0m\u001b[0;34m.\u001b[0m\u001b[0mright\u001b[0m \u001b[0;34m=\u001b[0m \u001b[0mself\u001b[0m\u001b[0;34m.\u001b[0m\u001b[0morig_right\u001b[0m \u001b[0;34m=\u001b[0m \u001b[0mright\u001b[0m\u001b[0;34m\u001b[0m\u001b[0;34m\u001b[0m\u001b[0m\n",
      "\u001b[0;32m~/opt/anaconda3/envs/PromoterArchitecturePipeline/lib/python3.6/site-packages/pandas/core/reshape/merge.py\u001b[0m in \u001b[0;36mvalidate_operand\u001b[0;34m(obj)\u001b[0m\n\u001b[1;32m   1991\u001b[0m         raise TypeError(\n\u001b[1;32m   1992\u001b[0m             \u001b[0;34m\"Can only merge Series or DataFrame objects, \"\u001b[0m\u001b[0;34m\u001b[0m\u001b[0;34m\u001b[0m\u001b[0m\n\u001b[0;32m-> 1993\u001b[0;31m             \u001b[0;34m\"a {obj} was passed\"\u001b[0m\u001b[0;34m.\u001b[0m\u001b[0mformat\u001b[0m\u001b[0;34m(\u001b[0m\u001b[0mobj\u001b[0m\u001b[0;34m=\u001b[0m\u001b[0mtype\u001b[0m\u001b[0;34m(\u001b[0m\u001b[0mobj\u001b[0m\u001b[0;34m)\u001b[0m\u001b[0;34m)\u001b[0m\u001b[0;34m\u001b[0m\u001b[0;34m\u001b[0m\u001b[0m\n\u001b[0m\u001b[1;32m   1994\u001b[0m         )\n\u001b[1;32m   1995\u001b[0m \u001b[0;34m\u001b[0m\u001b[0m\n",
      "\u001b[0;31mTypeError\u001b[0m: Can only merge Series or DataFrame objects, a <class 'str'> was passed"
     ]
    }
   ],
   "source": [
    "map_ID2(motifs_renamed, '../../data/FIMO/motif_data/motif_map_IDs.txt', '../../data/FIMO/responsivepromoters_motifs_mapped.bed')"
   ]
  },
  {
   "cell_type": "code",
   "execution_count": null,
   "metadata": {},
   "outputs": [],
   "source": []
  }
 ],
 "metadata": {
  "kernelspec": {
   "display_name": "Python [conda env:PromoterArchitecturePipeline] *",
   "language": "python",
   "name": "conda-env-PromoterArchitecturePipeline-py"
  },
  "language_info": {
   "codemirror_mode": {
    "name": "ipython",
    "version": 3
   },
   "file_extension": ".py",
   "mimetype": "text/x-python",
   "name": "python",
   "nbconvert_exporter": "python",
   "pygments_lexer": "ipython3",
   "version": "3.6.7"
  }
 },
 "nbformat": 4,
 "nbformat_minor": 4
}
