{
 "cells": [
  {
   "cell_type": "code",
   "execution_count": 1,
   "metadata": {},
   "outputs": [],
   "source": [
    "#import argparse\n",
    "import pandas as pd\n",
    "from pybedtools import BedTool\n",
    "from pyfaidx import Fasta"
   ]
  },
  {
   "cell_type": "code",
   "execution_count": 4,
   "metadata": {},
   "outputs": [
    {
     "name": "stderr",
     "output_type": "stream",
     "text": [
      "usage: ipykernel_launcher.py [-h] promoter_fasta\n",
      "ipykernel_launcher.py: error: unrecognized arguments: -f\n"
     ]
    },
    {
     "ename": "SystemExit",
     "evalue": "2",
     "output_type": "error",
     "traceback": [
      "An exception has occurred, use %tb to see the full traceback.\n",
      "\u001b[0;31mSystemExit\u001b[0m\u001b[0;31m:\u001b[0m 2\n"
     ]
    }
   ],
   "source": [
    "\n",
    "# parser = argparse.ArgumentParser(description='Fasta2Bed')\n",
    "# parser.add_argument('promoter_fasta', type=str, help='Input location of promoter.fasta file')\n",
    "# #parser.add_argument('promoter_bed', type=str, help='Output location of promoter bed file')\n",
    "\n",
    "# args = parser.parse_args()"
   ]
  },
  {
   "cell_type": "code",
   "execution_count": 2,
   "metadata": {},
   "outputs": [],
   "source": [
    "promoter_fasta = '../../data/FIMO/NRP_UBQ10_promoters.fasta'"
   ]
  },
  {
   "cell_type": "code",
   "execution_count": 3,
   "metadata": {},
   "outputs": [],
   "source": [
    "#create temporary file\n",
    "temp = '../../data/FIMO/Fasta2Bed.tmp'"
   ]
  },
  {
   "cell_type": "code",
   "execution_count": 4,
   "metadata": {},
   "outputs": [],
   "source": [
    "promoter_bed = '../../data/FIMO/NRP_UBQ10_promoters.bed'"
   ]
  },
  {
   "cell_type": "code",
   "execution_count": 5,
   "metadata": {},
   "outputs": [],
   "source": [
    "def fasta_chromsizes(genome, output_file):\n",
    "    \"\"\"extracts chromosome sizes in a form compatible with BedTools.flank (as a dictionary)\"\"\"\n",
    "    #output = open(output_file, 'w')\n",
    "    the_genome = Fasta(genome) #using pyfaidx Fasta, parse the genome file as a fasta\n",
    "     \n",
    "    chromsizes = {} #make dictionary called chromsizes\n",
    "    for key in the_genome.keys():\n",
    "       \n",
    "        #chromsizes[key] = f'({0}, {len(the_genome[key])})' #add the chromosome name and length to dictionary\n",
    "        chromsizes[f'{key}'] = f'({len(the_genome[key])})' #add the chromosome name and length to dictionary\n",
    "        #chromsizes[key] = f'({len(the_genome[key])})' #add the chromosome name and length to dictionary\n",
    "    #output_file.write(chrom)\n",
    "    chromsizes_string = ''\n",
    "    \n",
    "    for k,v in chromsizes.items():\n",
    "        chromsizes_string = chromsizes_string + f'{k}\\t{v}\\n'\n",
    "    \n",
    "    \n",
    "    with open(output_file, 'w') as output:            \n",
    "        output.write(chromsizes_string.replace('(','').replace(')',''))"
   ]
  },
  {
   "cell_type": "code",
   "execution_count": 16,
   "metadata": {},
   "outputs": [],
   "source": [
    "def chromsize2bed(chromsize, bed_file):\n",
    "    chrom_df = pd.read_table(chromsize, sep='\\t', header=None)    \n",
    "    cols = ['chr', 'stop']\n",
    "    chrom_df.columns = cols\n",
    "    chrom_df['start'] = 1\n",
    "    chrom_df = chrom_df[['chr', 'start', 'stop']]\n",
    "    #add extra columns so compatible with FIMO_filter.py\n",
    "    chrom_df['gene'] = chrom_df.chr\n",
    "    chrom_df['dot'] = '.'\n",
    "    chrom_df['strand'] = '+'\n",
    "    chrom_df['source'] = 'manual'\n",
    "    chrom_df['type'] = 'promoter'\n",
    "    chrom_df['details'] = 'none'\n",
    "    sorted_proms = chrom_df.sort_values(['chr','start'])\n",
    "    bed = BedTool.from_dataframe(sorted_proms).saveas(bed_file)\n",
    "    \n",
    "        "
   ]
  },
  {
   "cell_type": "code",
   "execution_count": 8,
   "metadata": {},
   "outputs": [],
   "source": [
    "fasta_chromsizes(promoter_fasta, temp)"
   ]
  },
  {
   "cell_type": "code",
   "execution_count": 17,
   "metadata": {},
   "outputs": [],
   "source": [
    "chromsize2bed(temp, promoter_bed)"
   ]
  },
  {
   "cell_type": "code",
   "execution_count": null,
   "metadata": {},
   "outputs": [],
   "source": []
  }
 ],
 "metadata": {
  "kernelspec": {
   "display_name": "Python [conda env:PromoterArchitecturePipeline] *",
   "language": "python",
   "name": "conda-env-PromoterArchitecturePipeline-py"
  },
  "language_info": {
   "codemirror_mode": {
    "name": "ipython",
    "version": 3
   },
   "file_extension": ".py",
   "mimetype": "text/x-python",
   "name": "python",
   "nbconvert_exporter": "python",
   "pygments_lexer": "ipython3",
   "version": "3.6.7"
  }
 },
 "nbformat": 4,
 "nbformat_minor": 4
}
